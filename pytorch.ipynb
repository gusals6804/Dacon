{
 "cells": [
  {
   "cell_type": "code",
   "execution_count": 1,
   "metadata": {},
   "outputs": [
    {
     "data": {
      "text/html": [
       "<style>.container { width:100% !important; }</style>"
      ],
      "text/plain": [
       "<IPython.core.display.HTML object>"
      ]
     },
     "metadata": {},
     "output_type": "display_data"
    }
   ],
   "source": [
    "from IPython.core.display import display, HTML\n",
    "display(HTML(\"<style>.container { width:100% !important; }</style>\"))"
   ]
  },
  {
   "cell_type": "code",
   "execution_count": 121,
   "metadata": {},
   "outputs": [],
   "source": [
    "!pip -q install timm"
   ]
  },
  {
   "cell_type": "code",
   "execution_count": 1,
   "metadata": {},
   "outputs": [],
   "source": [
    "import numpy as np\n",
    "import pandas as pd\n",
    "import os\n",
    "import time\n",
    "import copy\n",
    "import random\n",
    "import glob\n",
    "import matplotlib.pyplot as plt\n",
    "from tqdm import tqdm\n",
    "\n",
    "import torch\n",
    "import torch.nn as nn\n",
    "import torch.optim as optim\n",
    "import torch.nn.functional as F\n",
    "import torchvision.transforms as T\n",
    "from torch.utils.data import DataLoader, Dataset\n",
    "from torchvision import datasets, models, transforms\n",
    "\n",
    "from sklearn.model_selection import train_test_split\n",
    "\n",
    "# For image-keypoints data augmentation\n",
    "import timm\n",
    "import albumentations as A\n",
    "from albumentations.pytorch import ToTensorV2\n",
    "import cv2\n",
    "import imgaug"
   ]
  },
  {
   "cell_type": "code",
   "execution_count": 131,
   "metadata": {},
   "outputs": [],
   "source": [
    "train_df_path = './1. open/train_df.csv'\n",
    "\n",
    "seed = 42\n",
    "device = \"cuda\"    \n",
    "\n",
    "# Number of classes in the dataset\n",
    "num_classes = 48\n",
    "\n",
    "# Learning rate for optimizer\n",
    "lr = 1e-3\n",
    "\n",
    "# Number of epochs and earlystop to train for\n",
    "num_epochs = 50\n",
    "train_batch_size = 2\n",
    "valid_batch_size = 2\n",
    "test_batch_size = 24\n",
    "num_workers = 0\n",
    "\n",
    "ADAM_MODEL_PATH = './1. open/models/adam_model/'\n",
    "#SAM_MODEL_PATH = './models/sam_model/'\n",
    "ADAM_MODEL_PREFIX = 'eff_b3_adam_ind'\n",
    "#SAM_MODEL_PREFIX = 'eff_b3_sam_ind'\n",
    "\n",
    "tta = True\n",
    "tta_count = 32\n",
    "\n",
    "folds = 5\n",
    "\n",
    "# Iput size for resize imgae\n",
    "input_w = 480\n",
    "input_h = 270"
   ]
  },
  {
   "cell_type": "code",
   "execution_count": 132,
   "metadata": {},
   "outputs": [
    {
     "data": {
      "text/html": [
       "<div>\n",
       "<style scoped>\n",
       "    .dataframe tbody tr th:only-of-type {\n",
       "        vertical-align: middle;\n",
       "    }\n",
       "\n",
       "    .dataframe tbody tr th {\n",
       "        vertical-align: top;\n",
       "    }\n",
       "\n",
       "    .dataframe thead th {\n",
       "        text-align: right;\n",
       "    }\n",
       "</style>\n",
       "<table border=\"1\" class=\"dataframe\">\n",
       "  <thead>\n",
       "    <tr style=\"text-align: right;\">\n",
       "      <th></th>\n",
       "      <th>image</th>\n",
       "      <th>nose_x</th>\n",
       "      <th>nose_y</th>\n",
       "      <th>left_eye_x</th>\n",
       "      <th>left_eye_y</th>\n",
       "      <th>right_eye_x</th>\n",
       "      <th>right_eye_y</th>\n",
       "      <th>left_ear_x</th>\n",
       "      <th>left_ear_y</th>\n",
       "      <th>right_ear_x</th>\n",
       "      <th>...</th>\n",
       "      <th>right_palm_x</th>\n",
       "      <th>right_palm_y</th>\n",
       "      <th>spine2(back)_x</th>\n",
       "      <th>spine2(back)_y</th>\n",
       "      <th>spine1(waist)_x</th>\n",
       "      <th>spine1(waist)_y</th>\n",
       "      <th>left_instep_x</th>\n",
       "      <th>left_instep_y</th>\n",
       "      <th>right_instep_x</th>\n",
       "      <th>right_instep_y</th>\n",
       "    </tr>\n",
       "  </thead>\n",
       "  <tbody>\n",
       "    <tr>\n",
       "      <th>0</th>\n",
       "      <td>001-1-1-01-Z17_A-0000001.jpg</td>\n",
       "      <td>1046.389631</td>\n",
       "      <td>344.757881</td>\n",
       "      <td>1041.655294</td>\n",
       "      <td>329.820225</td>\n",
       "      <td>1059.429507</td>\n",
       "      <td>334.484230</td>\n",
       "      <td>1020.117796</td>\n",
       "      <td>338.890539</td>\n",
       "      <td>1048.000000</td>\n",
       "      <td>...</td>\n",
       "      <td>1067.000000</td>\n",
       "      <td>335.000000</td>\n",
       "      <td>1019.484230</td>\n",
       "      <td>455.000000</td>\n",
       "      <td>1026.515770</td>\n",
       "      <td>514.054730</td>\n",
       "      <td>998.578836</td>\n",
       "      <td>826.718013</td>\n",
       "      <td>1063.204067</td>\n",
       "      <td>838.827465</td>\n",
       "    </tr>\n",
       "    <tr>\n",
       "      <th>1</th>\n",
       "      <td>001-1-1-01-Z17_A-0000003.jpg</td>\n",
       "      <td>1069.850679</td>\n",
       "      <td>340.711494</td>\n",
       "      <td>1058.608552</td>\n",
       "      <td>324.593690</td>\n",
       "      <td>1075.242111</td>\n",
       "      <td>325.593690</td>\n",
       "      <td>1041.422997</td>\n",
       "      <td>331.694815</td>\n",
       "      <td>1065.593682</td>\n",
       "      <td>...</td>\n",
       "      <td>1081.187380</td>\n",
       "      <td>323.000000</td>\n",
       "      <td>1046.953248</td>\n",
       "      <td>454.062706</td>\n",
       "      <td>1058.766231</td>\n",
       "      <td>508.797029</td>\n",
       "      <td>1002.265676</td>\n",
       "      <td>699.062706</td>\n",
       "      <td>1066.376234</td>\n",
       "      <td>841.499445</td>\n",
       "    </tr>\n",
       "    <tr>\n",
       "      <th>2</th>\n",
       "      <td>001-1-1-01-Z17_A-0000005.jpg</td>\n",
       "      <td>1084.475902</td>\n",
       "      <td>337.000008</td>\n",
       "      <td>1078.717997</td>\n",
       "      <td>323.757889</td>\n",
       "      <td>1095.648412</td>\n",
       "      <td>325.242119</td>\n",
       "      <td>1061.039884</td>\n",
       "      <td>329.351571</td>\n",
       "      <td>1086.461032</td>\n",
       "      <td>...</td>\n",
       "      <td>1101.000000</td>\n",
       "      <td>334.000000</td>\n",
       "      <td>1044.538960</td>\n",
       "      <td>442.054730</td>\n",
       "      <td>1052.844144</td>\n",
       "      <td>495.890539</td>\n",
       "      <td>989.437847</td>\n",
       "      <td>808.757889</td>\n",
       "      <td>1066.071417</td>\n",
       "      <td>841.749554</td>\n",
       "    </tr>\n",
       "    <tr>\n",
       "      <th>3</th>\n",
       "      <td>001-1-1-01-Z17_A-0000007.jpg</td>\n",
       "      <td>1042.320047</td>\n",
       "      <td>361.452689</td>\n",
       "      <td>1037.907194</td>\n",
       "      <td>344.117804</td>\n",
       "      <td>1050.328382</td>\n",
       "      <td>353.913729</td>\n",
       "      <td>1016.844144</td>\n",
       "      <td>340.913737</td>\n",
       "      <td>1042.164191</td>\n",
       "      <td>...</td>\n",
       "      <td>1057.406318</td>\n",
       "      <td>372.461040</td>\n",
       "      <td>982.937294</td>\n",
       "      <td>458.109462</td>\n",
       "      <td>990.375124</td>\n",
       "      <td>507.624866</td>\n",
       "      <td>1001.305177</td>\n",
       "      <td>829.233767</td>\n",
       "      <td>1159.516499</td>\n",
       "      <td>599.389997</td>\n",
       "    </tr>\n",
       "    <tr>\n",
       "      <th>4</th>\n",
       "      <td>001-1-1-01-Z17_A-0000009.jpg</td>\n",
       "      <td>1058.046395</td>\n",
       "      <td>343.164191</td>\n",
       "      <td>1046.717997</td>\n",
       "      <td>331.703163</td>\n",
       "      <td>1058.132650</td>\n",
       "      <td>331.781079</td>\n",
       "      <td>1031.258806</td>\n",
       "      <td>338.593690</td>\n",
       "      <td>1049.812620</td>\n",
       "      <td>...</td>\n",
       "      <td>1069.648429</td>\n",
       "      <td>334.109461</td>\n",
       "      <td>1024.843791</td>\n",
       "      <td>453.687572</td>\n",
       "      <td>1034.391088</td>\n",
       "      <td>510.843791</td>\n",
       "      <td>998.625231</td>\n",
       "      <td>805.218921</td>\n",
       "      <td>1059.625956</td>\n",
       "      <td>839.765102</td>\n",
       "    </tr>\n",
       "  </tbody>\n",
       "</table>\n",
       "<p>5 rows × 49 columns</p>\n",
       "</div>"
      ],
      "text/plain": [
       "                          image       nose_x      nose_y   left_eye_x  \\\n",
       "0  001-1-1-01-Z17_A-0000001.jpg  1046.389631  344.757881  1041.655294   \n",
       "1  001-1-1-01-Z17_A-0000003.jpg  1069.850679  340.711494  1058.608552   \n",
       "2  001-1-1-01-Z17_A-0000005.jpg  1084.475902  337.000008  1078.717997   \n",
       "3  001-1-1-01-Z17_A-0000007.jpg  1042.320047  361.452689  1037.907194   \n",
       "4  001-1-1-01-Z17_A-0000009.jpg  1058.046395  343.164191  1046.717997   \n",
       "\n",
       "   left_eye_y  right_eye_x  right_eye_y   left_ear_x  left_ear_y  right_ear_x  \\\n",
       "0  329.820225  1059.429507   334.484230  1020.117796  338.890539  1048.000000   \n",
       "1  324.593690  1075.242111   325.593690  1041.422997  331.694815  1065.593682   \n",
       "2  323.757889  1095.648412   325.242119  1061.039884  329.351571  1086.461032   \n",
       "3  344.117804  1050.328382   353.913729  1016.844144  340.913737  1042.164191   \n",
       "4  331.703163  1058.132650   331.781079  1031.258806  338.593690  1049.812620   \n",
       "\n",
       "   ...  right_palm_x  right_palm_y  spine2(back)_x  spine2(back)_y  \\\n",
       "0  ...   1067.000000    335.000000     1019.484230      455.000000   \n",
       "1  ...   1081.187380    323.000000     1046.953248      454.062706   \n",
       "2  ...   1101.000000    334.000000     1044.538960      442.054730   \n",
       "3  ...   1057.406318    372.461040      982.937294      458.109462   \n",
       "4  ...   1069.648429    334.109461     1024.843791      453.687572   \n",
       "\n",
       "   spine1(waist)_x  spine1(waist)_y  left_instep_x  left_instep_y  \\\n",
       "0      1026.515770       514.054730     998.578836     826.718013   \n",
       "1      1058.766231       508.797029    1002.265676     699.062706   \n",
       "2      1052.844144       495.890539     989.437847     808.757889   \n",
       "3       990.375124       507.624866    1001.305177     829.233767   \n",
       "4      1034.391088       510.843791     998.625231     805.218921   \n",
       "\n",
       "   right_instep_x  right_instep_y  \n",
       "0     1063.204067      838.827465  \n",
       "1     1066.376234      841.499445  \n",
       "2     1066.071417      841.749554  \n",
       "3     1159.516499      599.389997  \n",
       "4     1059.625956      839.765102  \n",
       "\n",
       "[5 rows x 49 columns]"
      ]
     },
     "execution_count": 132,
     "metadata": {},
     "output_type": "execute_result"
    }
   ],
   "source": [
    "train_df = pd.read_csv(train_df_path)\n",
    "train_df.head()"
   ]
  },
  {
   "cell_type": "code",
   "execution_count": 133,
   "metadata": {},
   "outputs": [],
   "source": [
    "# device 설정\n",
    "device = torch.device(device if torch.cuda.is_available() else \"cpu\")\n",
    "\n",
    "# seed 설정\n",
    "def seed_everything(seed: int = 42):\n",
    "    random.seed(seed)\n",
    "    np.random.seed(seed)\n",
    "    os.environ[\"PYTHONHASHSEED\"] = str(seed)\n",
    "    torch.manual_seed(seed)\n",
    "    torch.cuda.manual_seed(seed)  # type: ignore\n",
    "    torch.backends.cudnn.deterministic = True  # type: ignore\n",
    "    torch.backends.cudnn.benchmark = True  # type: ignore\n",
    "    imgaug.random.seed(seed)\n",
    "\n",
    "seed_everything(seed)"
   ]
  },
  {
   "cell_type": "code",
   "execution_count": 134,
   "metadata": {},
   "outputs": [],
   "source": [
    "KEYPOINT_COLOR = (0, 255, 0) # Green\n",
    "\n",
    "def vis_keypoints(image, keypoints, color=KEYPOINT_COLOR, diameter=3):\n",
    "    image = image.copy()\n",
    "\n",
    "    for (x, y) in keypoints:\n",
    "        \n",
    "        cv2.circle(image, (int(x), int(y)), diameter, (0, 255, 0), -1)\n",
    "\n",
    "    plt.figure(figsize=(8, 8))\n",
    "    plt.axis('off')\n",
    "    plt.imshow(image)\n"
   ]
  },
  {
   "cell_type": "code",
   "execution_count": 135,
   "metadata": {},
   "outputs": [],
   "source": [
    "# train, valid folder 속 모든 이미지 파일 read & sort\n",
    "train_paths = glob.glob('./1. open/train_imgs/*.jpg')\n",
    "train_paths.sort()"
   ]
  },
  {
   "cell_type": "code",
   "execution_count": 136,
   "metadata": {},
   "outputs": [
    {
     "name": "stdout",
     "output_type": "stream",
     "text": [
      "4195\n"
     ]
    }
   ],
   "source": [
    "imgs = train_df.iloc[:, 0].to_numpy()\n",
    "keypoint = train_df.iloc[:, 1:] \n",
    "columns = keypoint.columns.to_list()[::2]\n",
    "class_labels = [label.replace('_x', '').replace('_y', '') for label in columns]\n",
    "keypoints = []\n",
    "for keypoint in keypoint.to_numpy():\n",
    "    a_keypoints = []\n",
    "    for i in range(0,keypoint.shape[0], 2):\n",
    "        a_keypoints.append((float(keypoint[i]), float(keypoint[i+1])))\n",
    "    keypoints.append(a_keypoints)\n",
    "keypoints = np.array(keypoints)\n",
    "print(len(keypoints))"
   ]
  },
  {
   "cell_type": "code",
   "execution_count": 162,
   "metadata": {},
   "outputs": [
    {
     "ename": "KeyError",
     "evalue": "860",
     "output_type": "error",
     "traceback": [
      "\u001b[1;31m---------------------------------------------------------------------------\u001b[0m",
      "\u001b[1;31mValueError\u001b[0m                                Traceback (most recent call last)",
      "\u001b[1;32m~\\anaconda3\\envs\\deep2\\lib\\site-packages\\pandas\\core\\indexes\\range.py\u001b[0m in \u001b[0;36mget_loc\u001b[1;34m(self, key, method, tolerance)\u001b[0m\n\u001b[0;32m    354\u001b[0m                 \u001b[1;32mtry\u001b[0m\u001b[1;33m:\u001b[0m\u001b[1;33m\u001b[0m\u001b[1;33m\u001b[0m\u001b[0m\n\u001b[1;32m--> 355\u001b[1;33m                     \u001b[1;32mreturn\u001b[0m \u001b[0mself\u001b[0m\u001b[1;33m.\u001b[0m\u001b[0m_range\u001b[0m\u001b[1;33m.\u001b[0m\u001b[0mindex\u001b[0m\u001b[1;33m(\u001b[0m\u001b[0mnew_key\u001b[0m\u001b[1;33m)\u001b[0m\u001b[1;33m\u001b[0m\u001b[1;33m\u001b[0m\u001b[0m\n\u001b[0m\u001b[0;32m    356\u001b[0m                 \u001b[1;32mexcept\u001b[0m \u001b[0mValueError\u001b[0m \u001b[1;32mas\u001b[0m \u001b[0merr\u001b[0m\u001b[1;33m:\u001b[0m\u001b[1;33m\u001b[0m\u001b[1;33m\u001b[0m\u001b[0m\n",
      "\u001b[1;31mValueError\u001b[0m: 860 is not in range",
      "\nThe above exception was the direct cause of the following exception:\n",
      "\u001b[1;31mKeyError\u001b[0m                                  Traceback (most recent call last)",
      "\u001b[1;32m<ipython-input-162-7398bf5f44cf>\u001b[0m in \u001b[0;36m<module>\u001b[1;34m\u001b[0m\n\u001b[0;32m      1\u001b[0m \u001b[1;32mfor\u001b[0m \u001b[0mi\u001b[0m \u001b[1;32min\u001b[0m \u001b[0mnp\u001b[0m\u001b[1;33m.\u001b[0m\u001b[0mrandom\u001b[0m\u001b[1;33m.\u001b[0m\u001b[0mrandint\u001b[0m\u001b[1;33m(\u001b[0m\u001b[1;36m0\u001b[0m\u001b[1;33m,\u001b[0m\u001b[0mlen\u001b[0m\u001b[1;33m(\u001b[0m\u001b[0mtrain_paths\u001b[0m\u001b[1;33m)\u001b[0m\u001b[1;33m,\u001b[0m\u001b[1;36m5\u001b[0m\u001b[1;33m)\u001b[0m\u001b[1;33m:\u001b[0m\u001b[1;33m\u001b[0m\u001b[1;33m\u001b[0m\u001b[0m\n\u001b[1;32m----> 2\u001b[1;33m     \u001b[0mimage\u001b[0m \u001b[1;33m=\u001b[0m \u001b[0mcv2\u001b[0m\u001b[1;33m.\u001b[0m\u001b[0mimread\u001b[0m\u001b[1;33m(\u001b[0m\u001b[0mtrain_paths\u001b[0m\u001b[1;33m[\u001b[0m\u001b[0mi\u001b[0m\u001b[1;33m]\u001b[0m\u001b[1;33m)\u001b[0m\u001b[1;33m\u001b[0m\u001b[1;33m\u001b[0m\u001b[0m\n\u001b[0m\u001b[0;32m      3\u001b[0m     \u001b[0mimage\u001b[0m \u001b[1;33m=\u001b[0m \u001b[0mcv2\u001b[0m\u001b[1;33m.\u001b[0m\u001b[0mcvtColor\u001b[0m\u001b[1;33m(\u001b[0m\u001b[0mimage\u001b[0m\u001b[1;33m,\u001b[0m \u001b[0mcv2\u001b[0m\u001b[1;33m.\u001b[0m\u001b[0mCOLOR_BGR2RGB\u001b[0m\u001b[1;33m)\u001b[0m\u001b[1;33m\u001b[0m\u001b[1;33m\u001b[0m\u001b[0m\n\u001b[0;32m      4\u001b[0m \u001b[1;33m\u001b[0m\u001b[0m\n\u001b[0;32m      5\u001b[0m     \u001b[0msample_keypoint\u001b[0m \u001b[1;33m=\u001b[0m \u001b[0mkeypoints\u001b[0m\u001b[1;33m[\u001b[0m\u001b[0mi\u001b[0m\u001b[1;33m]\u001b[0m\u001b[1;33m\u001b[0m\u001b[1;33m\u001b[0m\u001b[0m\n",
      "\u001b[1;32m~\\anaconda3\\envs\\deep2\\lib\\site-packages\\pandas\\core\\frame.py\u001b[0m in \u001b[0;36m__getitem__\u001b[1;34m(self, key)\u001b[0m\n\u001b[0;32m   2904\u001b[0m             \u001b[1;32mif\u001b[0m \u001b[0mself\u001b[0m\u001b[1;33m.\u001b[0m\u001b[0mcolumns\u001b[0m\u001b[1;33m.\u001b[0m\u001b[0mnlevels\u001b[0m \u001b[1;33m>\u001b[0m \u001b[1;36m1\u001b[0m\u001b[1;33m:\u001b[0m\u001b[1;33m\u001b[0m\u001b[1;33m\u001b[0m\u001b[0m\n\u001b[0;32m   2905\u001b[0m                 \u001b[1;32mreturn\u001b[0m \u001b[0mself\u001b[0m\u001b[1;33m.\u001b[0m\u001b[0m_getitem_multilevel\u001b[0m\u001b[1;33m(\u001b[0m\u001b[0mkey\u001b[0m\u001b[1;33m)\u001b[0m\u001b[1;33m\u001b[0m\u001b[1;33m\u001b[0m\u001b[0m\n\u001b[1;32m-> 2906\u001b[1;33m             \u001b[0mindexer\u001b[0m \u001b[1;33m=\u001b[0m \u001b[0mself\u001b[0m\u001b[1;33m.\u001b[0m\u001b[0mcolumns\u001b[0m\u001b[1;33m.\u001b[0m\u001b[0mget_loc\u001b[0m\u001b[1;33m(\u001b[0m\u001b[0mkey\u001b[0m\u001b[1;33m)\u001b[0m\u001b[1;33m\u001b[0m\u001b[1;33m\u001b[0m\u001b[0m\n\u001b[0m\u001b[0;32m   2907\u001b[0m             \u001b[1;32mif\u001b[0m \u001b[0mis_integer\u001b[0m\u001b[1;33m(\u001b[0m\u001b[0mindexer\u001b[0m\u001b[1;33m)\u001b[0m\u001b[1;33m:\u001b[0m\u001b[1;33m\u001b[0m\u001b[1;33m\u001b[0m\u001b[0m\n\u001b[0;32m   2908\u001b[0m                 \u001b[0mindexer\u001b[0m \u001b[1;33m=\u001b[0m \u001b[1;33m[\u001b[0m\u001b[0mindexer\u001b[0m\u001b[1;33m]\u001b[0m\u001b[1;33m\u001b[0m\u001b[1;33m\u001b[0m\u001b[0m\n",
      "\u001b[1;32m~\\anaconda3\\envs\\deep2\\lib\\site-packages\\pandas\\core\\indexes\\range.py\u001b[0m in \u001b[0;36mget_loc\u001b[1;34m(self, key, method, tolerance)\u001b[0m\n\u001b[0;32m    355\u001b[0m                     \u001b[1;32mreturn\u001b[0m \u001b[0mself\u001b[0m\u001b[1;33m.\u001b[0m\u001b[0m_range\u001b[0m\u001b[1;33m.\u001b[0m\u001b[0mindex\u001b[0m\u001b[1;33m(\u001b[0m\u001b[0mnew_key\u001b[0m\u001b[1;33m)\u001b[0m\u001b[1;33m\u001b[0m\u001b[1;33m\u001b[0m\u001b[0m\n\u001b[0;32m    356\u001b[0m                 \u001b[1;32mexcept\u001b[0m \u001b[0mValueError\u001b[0m \u001b[1;32mas\u001b[0m \u001b[0merr\u001b[0m\u001b[1;33m:\u001b[0m\u001b[1;33m\u001b[0m\u001b[1;33m\u001b[0m\u001b[0m\n\u001b[1;32m--> 357\u001b[1;33m                     \u001b[1;32mraise\u001b[0m \u001b[0mKeyError\u001b[0m\u001b[1;33m(\u001b[0m\u001b[0mkey\u001b[0m\u001b[1;33m)\u001b[0m \u001b[1;32mfrom\u001b[0m \u001b[0merr\u001b[0m\u001b[1;33m\u001b[0m\u001b[1;33m\u001b[0m\u001b[0m\n\u001b[0m\u001b[0;32m    358\u001b[0m             \u001b[1;32mraise\u001b[0m \u001b[0mKeyError\u001b[0m\u001b[1;33m(\u001b[0m\u001b[0mkey\u001b[0m\u001b[1;33m)\u001b[0m\u001b[1;33m\u001b[0m\u001b[1;33m\u001b[0m\u001b[0m\n\u001b[0;32m    359\u001b[0m         \u001b[1;32mreturn\u001b[0m \u001b[0msuper\u001b[0m\u001b[1;33m(\u001b[0m\u001b[1;33m)\u001b[0m\u001b[1;33m.\u001b[0m\u001b[0mget_loc\u001b[0m\u001b[1;33m(\u001b[0m\u001b[0mkey\u001b[0m\u001b[1;33m,\u001b[0m \u001b[0mmethod\u001b[0m\u001b[1;33m=\u001b[0m\u001b[0mmethod\u001b[0m\u001b[1;33m,\u001b[0m \u001b[0mtolerance\u001b[0m\u001b[1;33m=\u001b[0m\u001b[0mtolerance\u001b[0m\u001b[1;33m)\u001b[0m\u001b[1;33m\u001b[0m\u001b[1;33m\u001b[0m\u001b[0m\n",
      "\u001b[1;31mKeyError\u001b[0m: 860"
     ]
    }
   ],
   "source": [
    "for i in np.random.randint(0,len(train_paths),5):\n",
    "    image = cv2.imread(train_paths[i])\n",
    "    image = cv2.cvtColor(image, cv2.COLOR_BGR2RGB)\n",
    "    \n",
    "    sample_keypoint = keypoints[i]\n",
    "    vis_keypoints(image, sample_keypoint)\n",
    "    \n",
    "    x_min, y_min = int(min(sample_keypoint[:, 0])/2)-10, int(min(sample_keypoint[:, 1])/2)-10\n",
    "    x_max, y_max = int(max(sample_keypoint[:, 0])/2)+10, int(max(sample_keypoint[:, 1])/2)+10\n",
    "    transform = A.Compose(\n",
    "        [A.Resize(input_h, input_w, always_apply=True),\n",
    "         A.CenterCrop(height=120, width=120, p=1),\n",
    "        ], \n",
    "        keypoint_params=A.KeypointParams(format='xy')\n",
    "    )\n",
    "    transformed = transform(image=image, keypoints=sample_keypoint)\n",
    "    vis_keypoints(transformed['image'], transformed['keypoints'])"
   ]
  },
  {
   "cell_type": "code",
   "execution_count": 163,
   "metadata": {},
   "outputs": [],
   "source": [
    "# unmpy를 tensor로 변환하는 ToTensor 정의\n",
    "class ToTensor(object):\n",
    "    \"\"\"numpy array를 tensor(torch)로 변환합니다.\"\"\"\n",
    "    def __call__(self, sample):\n",
    "        image, label = sample['image'], sample['label']\n",
    "        # swap color axis because\n",
    "        # numpy image: H x W x C\n",
    "        # torch image: C X H X W\n",
    "        image = image.transpose((2, 0, 1))\n",
    "        print(image.shape)\n",
    "        return {'image': torch.FloatTensor(image),\n",
    "                'label': torch.FloatTensor(label)}\n",
    "# to_tensor 선언\n",
    "to_tensor = T.Compose([\n",
    "                        ToTensorV2()\n",
    "                    ])"
   ]
  },
  {
   "cell_type": "code",
   "execution_count": 179,
   "metadata": {},
   "outputs": [],
   "source": [
    "A_transforms  = {\n",
    "            'train':\n",
    "                A.Compose([\n",
    "                    A.Resize(input_h, input_w, always_apply=True),\n",
    "                    A.CenterCrop(height=250, width=250, p=1),\n",
    "                    A.OneOf([A.HorizontalFlip(p=1),\n",
    "                             A.RandomRotate90(p=1),\n",
    "                             A.VerticalFlip(p=1)], p=0.5),\n",
    "                    A.OneOf([A.MotionBlur(p=1),\n",
    "                             A.GaussNoise(p=1)], p=0.5),\n",
    "                    A.Normalize([0.485, 0.456, 0.406], [0.229, 0.224, 0.225]),\n",
    "                    ToTensorV2()\n",
    "                    ],  \n",
    "                    keypoint_params=A.KeypointParams(format='xy', label_fields=['class_labels'])\n",
    "                    ),\n",
    "                \n",
    "            'val':\n",
    "                A.Compose([\n",
    "                    A.Resize(input_h, input_w, always_apply=True),\n",
    "                    A.Normalize([0.485, 0.456, 0.406], [0.229, 0.224, 0.225]),\n",
    "                    ToTensorV2()\n",
    "                ], keypoint_params=A.KeypointParams(format='xy', label_fields=['class_labels']))\n",
    "                \n",
    "            }"
   ]
  },
  {
   "cell_type": "code",
   "execution_count": 180,
   "metadata": {},
   "outputs": [],
   "source": [
    "class Dataset(Dataset):\n",
    "    \"\"\"__init__ and __len__ functions are the same as in TorchvisionDataset\"\"\"\n",
    "    def __init__(self, data_img_dir, keypoints, phase, class_labels=None,  data_transforms=None, transforms=to_tensor):\n",
    "        self.data_img_dir = data_img_dir\n",
    "        self.keypoints = keypoints\n",
    "        self.class_labels = class_labels\n",
    "        self.phase = phase\n",
    "        self.transforms = transforms# Transform\n",
    "        self.data_transforms = data_transforms\n",
    "\n",
    "    def __getitem__(self, idx):\n",
    "        # Read an image with OpenCV\n",
    "        img = cv2.imread(self.data_img_dir.iloc[idx].values[0])\n",
    "        img = cv2.cvtColor(img, cv2.COLOR_BGR2RGB)\n",
    "        keypoints = self.keypoints[idx]\n",
    "\n",
    "\n",
    "        x_min, y_min = int(min(keypoints[:, 0])/2)-10, int(min(keypoints[:, 1])/2)-10\n",
    "        x_max, y_max = int(max(keypoints[:, 0])/2)+10, int(max(keypoints[:, 1])/2)+10\n",
    "        \n",
    "        #image = cv2.resize(image, dsize=(config.IMG_SIZE, config.IMG_SIZE), interpolation=cv2.INTER_LINEAR)\n",
    "        if self.data_transforms:\n",
    "    \n",
    "            augmented = self. data_transforms[self.phase](image=img, keypoints=keypoints, class_labels=self.class_labels)\n",
    "            img = augmented['image']\n",
    "            keypoints = augmented['keypoints']\n",
    "        \n",
    "        print(img.shape)\n",
    "        #img = (img/255).astype('float')[..., np.newaxis]\n",
    "        \n",
    "        \n",
    "        keypoints = np.array(keypoints).flatten()\n",
    "        print(img.shape, keypoints.shape)\n",
    "        sample = {'image': img, 'label': keypoints}\n",
    "\n",
    "        # transform 적용\n",
    "#         # numpy to tensor\n",
    "#         if self.transforms:\n",
    "#             sample = self.transforms(sample)\n",
    "#         # sample 반환\n",
    "        return sample\n",
    "    \n",
    "    def __len__(self):\n",
    "        return len(self.data_img_dir)"
   ]
  },
  {
   "cell_type": "code",
   "execution_count": 181,
   "metadata": {},
   "outputs": [],
   "source": [
    "class AdamModel(nn.Module):\n",
    "    def __init__(self):\n",
    "        super(AdamModel, self).__init__()\n",
    "        self.conv2d = nn.Conv2d(3, 3, 3, stride=1, padding=1)\n",
    "        self.efn_b3 = timm.create_model('efficientnet_b3', pretrained=True, num_classes=1024)\n",
    "        self.fc = nn.ModuleList([nn.Linear(1024, 1) for i in range(48)])\n",
    "\n",
    "        nn.init.xavier_uniform_(self.conv2d.weight)\n",
    "        for i in range(48):\n",
    "            nn.init.xavier_uniform_(self.fc[i].weight)\n",
    "\n",
    "    def forward(self, x):\n",
    "        x = F.relu(self.conv2d(x))\n",
    "        x = F.relu(self.efn_b3(x))\n",
    "        xs = []\n",
    "        for i in range(48):\n",
    "            xs.append(self.fc[i](x))\n",
    "        x = torch.cat(xs, dim=1)\n",
    "        x = torch.sigmoid(x)\n",
    "        return x"
   ]
  },
  {
   "cell_type": "code",
   "execution_count": 182,
   "metadata": {},
   "outputs": [],
   "source": [
    "from typing import Tuple, List, Sequence, Callable\n",
    "def collate_fn(batch: torch.Tensor):\n",
    "    return zip(*batch)"
   ]
  },
  {
   "cell_type": "code",
   "execution_count": 185,
   "metadata": {},
   "outputs": [
    {
     "name": "stdout",
     "output_type": "stream",
     "text": [
      "[fold: 1]\n",
      "[   0    2    3 ... 4192 4193 4194]\n",
      "3356\n"
     ]
    },
    {
     "name": "stderr",
     "output_type": "stream",
     "text": [
      "Train Epoch 0:   0%|                                                                    | 0/1678 [00:00<?, ?batch/s]"
     ]
    },
    {
     "name": "stdout",
     "output_type": "stream",
     "text": [
      "torch.Size([3, 250, 250])\n",
      "torch.Size([3, 250, 250]) (48,)\n",
      "torch.Size([3, 250, 250])\n",
      "torch.Size([3, 250, 250]) (48,)\n"
     ]
    },
    {
     "name": "stderr",
     "output_type": "stream",
     "text": [
      "Train Epoch 0:   0%|                                           | 1/1678 [00:00<06:28,  4.32batch/s, train_loss=2.77]"
     ]
    },
    {
     "name": "stdout",
     "output_type": "stream",
     "text": [
      "torch.Size([3, 250, 250])\n",
      "torch.Size([3, 250, 250]) (48,)\n",
      "torch.Size([3, 250, 250])\n",
      "torch.Size([3, 250, 250]) (48,)\n"
     ]
    },
    {
     "name": "stderr",
     "output_type": "stream",
     "text": [
      "Train Epoch 0:   0%|                                          | 2/1678 [00:00<06:30,  4.29batch/s, train_loss=-68.1]"
     ]
    },
    {
     "name": "stdout",
     "output_type": "stream",
     "text": [
      "torch.Size([3, 250, 250])\n",
      "torch.Size([3, 250, 250]) (48,)\n",
      "torch.Size([3, 250, 250])\n",
      "torch.Size([3, 250, 250]) (48,)\n"
     ]
    },
    {
     "name": "stderr",
     "output_type": "stream",
     "text": [
      "Train Epoch 0:   0%|                                           | 3/1678 [00:00<06:17,  4.43batch/s, train_loss=-189]"
     ]
    },
    {
     "name": "stdout",
     "output_type": "stream",
     "text": [
      "torch.Size([3, 250, 250])\n",
      "torch.Size([3, 250, 250]) (48,)\n",
      "torch.Size([3, 250, 250])\n",
      "torch.Size([3, 250, 250]) (48,)\n"
     ]
    },
    {
     "name": "stderr",
     "output_type": "stream",
     "text": [
      "Train Epoch 0:   0%|▏                                          | 5/1678 [00:01<06:11,  4.50batch/s, train_loss=-681]"
     ]
    },
    {
     "name": "stdout",
     "output_type": "stream",
     "text": [
      "torch.Size([3, 250, 250])\n",
      "torch.Size([3, 250, 250]) (48,)\n",
      "torch.Size([3, 250, 250])\n",
      "torch.Size([3, 250, 250]) (48,)\n",
      "torch.Size([3, 250, 250])"
     ]
    },
    {
     "name": "stderr",
     "output_type": "stream",
     "text": [
      "Train Epoch 0:   0%|▏                                          | 6/1678 [00:01<06:04,  4.58batch/s, train_loss=-907]"
     ]
    },
    {
     "name": "stdout",
     "output_type": "stream",
     "text": [
      "\n",
      "torch.Size([3, 250, 250]) (48,)\n",
      "torch.Size([3, 250, 250])\n",
      "torch.Size([3, 250, 250]) (48,)\n"
     ]
    },
    {
     "name": "stderr",
     "output_type": "stream",
     "text": [
      "\r",
      "Train Epoch 0:   0%|▏                                          | 6/1678 [00:01<06:04,  4.58batch/s, train_loss=-907]"
     ]
    },
    {
     "name": "stdout",
     "output_type": "stream",
     "text": [
      "torch.Size([3, 250, 250])\n",
      "torch.Size([3, 250, 250]) (48,)\n",
      "torch.Size([3, 250, 250])\n",
      "torch.Size([3, 250, 250]) (48,)\n"
     ]
    },
    {
     "name": "stderr",
     "output_type": "stream",
     "text": [
      "Train Epoch 0:   0%|▏                                      | 7/1678 [00:01<06:05,  4.57batch/s, train_loss=-5.73e+3]"
     ]
    },
    {
     "name": "stdout",
     "output_type": "stream",
     "text": [
      "torch.Size([3, 250, 250])\n",
      "torch.Size([3, 250, 250]) (48,)\n",
      "torch.Size([3, 250, 250])\n",
      "torch.Size([3, 250, 250]) (48,)\n"
     ]
    },
    {
     "name": "stderr",
     "output_type": "stream",
     "text": [
      "Train Epoch 0:   1%|▏                                      | 9/1678 [00:01<06:01,  4.61batch/s, train_loss=-6.54e+3]"
     ]
    },
    {
     "name": "stdout",
     "output_type": "stream",
     "text": [
      "torch.Size([3, 250, 250])\n",
      "torch.Size([3, 250, 250]) (48,)\n",
      "torch.Size([3, 250, 250])\n",
      "torch.Size([3, 250, 250]) (48,)\n"
     ]
    },
    {
     "name": "stderr",
     "output_type": "stream",
     "text": [
      "Train Epoch 0:   1%|▏                                     | 10/1678 [00:02<06:06,  4.56batch/s, train_loss=-1.16e+4]"
     ]
    },
    {
     "name": "stdout",
     "output_type": "stream",
     "text": [
      "torch.Size([3, 250, 250])\n",
      "torch.Size([3, 250, 250]) (48,)\n",
      "torch.Size([3, 250, 250])\n",
      "torch.Size([3, 250, 250]) (48,)\n"
     ]
    },
    {
     "name": "stderr",
     "output_type": "stream",
     "text": [
      "\r",
      "Train Epoch 0:   1%|▏                                     | 10/1678 [00:02<06:06,  4.56batch/s, train_loss=-1.16e+4]"
     ]
    },
    {
     "name": "stdout",
     "output_type": "stream",
     "text": [
      "torch.Size([3, 250, 250])\n",
      "torch.Size([3, 250, 250]) (48,)\n",
      "torch.Size([3, 250, 250])\n",
      "torch.Size([3, 250, 250]) (48,)\n"
     ]
    },
    {
     "name": "stderr",
     "output_type": "stream",
     "text": [
      "Train Epoch 0:   1%|▎                                     | 12/1678 [00:02<06:01,  4.61batch/s, train_loss=-1.22e+4]"
     ]
    },
    {
     "name": "stdout",
     "output_type": "stream",
     "text": [
      "torch.Size([3, 250, 250])\n",
      "torch.Size([3, 250, 250]) (48,)\n",
      "torch.Size([3, 250, 250])\n",
      "torch.Size([3, 250, 250]) (48,)\n"
     ]
    },
    {
     "name": "stderr",
     "output_type": "stream",
     "text": [
      "Train Epoch 0:   1%|▎                                     | 13/1678 [00:02<06:00,  4.62batch/s, train_loss=-1.14e+4]"
     ]
    },
    {
     "name": "stdout",
     "output_type": "stream",
     "text": [
      "torch.Size([3, 250, 250])\n",
      "torch.Size([3, 250, 250]) (48,)\n",
      "torch.Size([3, 250, 250])\n",
      "torch.Size([3, 250, 250]) (48,)\n",
      "torch.Size([3, 250, 250])"
     ]
    },
    {
     "name": "stderr",
     "output_type": "stream",
     "text": [
      "Train Epoch 0:   1%|▎                                     | 14/1678 [00:03<05:54,  4.70batch/s, train_loss=-1.19e+4]"
     ]
    },
    {
     "name": "stdout",
     "output_type": "stream",
     "text": [
      "\n",
      "torch.Size([3, 250, 250]) (48,)\n",
      "torch.Size([3, 250, 250])\n",
      "torch.Size([3, 250, 250]) (48,)\n",
      "torch.Size([3, 250, 250])"
     ]
    },
    {
     "name": "stderr",
     "output_type": "stream",
     "text": [
      "Train Epoch 0:   1%|▎                                     | 15/1678 [00:03<05:47,  4.78batch/s, train_loss=-1.17e+4]"
     ]
    },
    {
     "name": "stdout",
     "output_type": "stream",
     "text": [
      "\n",
      "torch.Size([3, 250, 250]) (48,)\n",
      "torch.Size([3, 250, 250])\n",
      "torch.Size([3, 250, 250]) (48,)\n",
      "torch.Size([3, 250, 250])"
     ]
    },
    {
     "name": "stderr",
     "output_type": "stream",
     "text": [
      "Train Epoch 0:   1%|▎                                     | 16/1678 [00:03<05:45,  4.81batch/s, train_loss=-1.16e+4]"
     ]
    },
    {
     "name": "stdout",
     "output_type": "stream",
     "text": [
      "\n",
      "torch.Size([3, 250, 250]) (48,)\n",
      "torch.Size([3, 250, 250])\n",
      "torch.Size([3, 250, 250]) (48,)\n"
     ]
    },
    {
     "name": "stderr",
     "output_type": "stream",
     "text": [
      "Train Epoch 0:   1%|▍                                     | 17/1678 [00:03<05:42,  4.85batch/s, train_loss=-1.23e+4]"
     ]
    },
    {
     "name": "stdout",
     "output_type": "stream",
     "text": [
      "torch.Size([3, 250, 250])\n",
      "torch.Size([3, 250, 250]) (48,)\n",
      "torch.Size([3, 250, 250])\n",
      "torch.Size([3, 250, 250]) (48,)\n",
      "torch.Size([3, 250, 250])"
     ]
    },
    {
     "name": "stderr",
     "output_type": "stream",
     "text": [
      "Train Epoch 0:   1%|▍                                     | 18/1678 [00:03<05:38,  4.90batch/s, train_loss=-1.23e+4]"
     ]
    },
    {
     "name": "stdout",
     "output_type": "stream",
     "text": [
      "\n",
      "torch.Size([3, 250, 250]) (48,)\n",
      "torch.Size([3, 250, 250])\n",
      "torch.Size([3, 250, 250]) (48,)\n",
      "torch.Size([3, 250, 250])"
     ]
    },
    {
     "name": "stderr",
     "output_type": "stream",
     "text": [
      "Train Epoch 0:   1%|▍                                     | 19/1678 [00:04<05:37,  4.91batch/s, train_loss=-1.09e+4]"
     ]
    },
    {
     "name": "stdout",
     "output_type": "stream",
     "text": [
      "\n",
      "torch.Size([3, 250, 250]) (48,)\n",
      "torch.Size([3, 250, 250])\n",
      "torch.Size([3, 250, 250]) (48,)\n"
     ]
    },
    {
     "name": "stderr",
     "output_type": "stream",
     "text": [
      "Train Epoch 0:   1%|▍                                     | 20/1678 [00:04<05:37,  4.91batch/s, train_loss=-1.06e+4]"
     ]
    },
    {
     "name": "stdout",
     "output_type": "stream",
     "text": [
      "torch.Size([3, 250, 250])\n",
      "torch.Size([3, 250, 250]) (48,)\n",
      "torch.Size([3, 250, 250])\n",
      "torch.Size([3, 250, 250]) (48,)\n",
      "torch.Size([3, 250, 250])"
     ]
    },
    {
     "name": "stderr",
     "output_type": "stream",
     "text": [
      "Train Epoch 0:   1%|▍                                     | 20/1678 [00:04<05:37,  4.91batch/s, train_loss=-1.06e+4]"
     ]
    },
    {
     "name": "stdout",
     "output_type": "stream",
     "text": [
      "\n",
      "torch.Size([3, 250, 250]) (48,)\n",
      "torch.Size([3, 250, 250])\n",
      "torch.Size([3, 250, 250]) (48,)\n"
     ]
    },
    {
     "name": "stderr",
     "output_type": "stream",
     "text": [
      "Train Epoch 0:   1%|▍                                     | 21/1678 [00:04<05:37,  4.91batch/s, train_loss=-1.39e+4]"
     ]
    },
    {
     "name": "stdout",
     "output_type": "stream",
     "text": [
      "torch.Size([3, 250, 250])\n",
      "torch.Size([3, 250, 250]) (48,)\n",
      "torch.Size([3, 250, 250])\n",
      "torch.Size([3, 250, 250]) (48,)\n"
     ]
    },
    {
     "name": "stderr",
     "output_type": "stream",
     "text": [
      "Train Epoch 0:   1%|▍                                     | 22/1678 [00:04<05:39,  4.88batch/s, train_loss=-1.39e+4]"
     ]
    },
    {
     "name": "stdout",
     "output_type": "stream",
     "text": [
      "torch.Size([3, 250, 250])\n",
      "torch.Size([3, 250, 250]) (48,)\n",
      "torch.Size([3, 250, 250])\n",
      "torch.Size([3, 250, 250]) (48,)\n"
     ]
    },
    {
     "name": "stderr",
     "output_type": "stream",
     "text": [
      "Train Epoch 0:   1%|▌                                     | 24/1678 [00:05<05:43,  4.81batch/s, train_loss=-1.28e+4]"
     ]
    },
    {
     "name": "stdout",
     "output_type": "stream",
     "text": [
      "torch.Size([3, 250, 250])\n",
      "torch.Size([3, 250, 250]) (48,)\n",
      "torch.Size([3, 250, 250])\n",
      "torch.Size([3, 250, 250]) (48,)\n",
      "torch.Size([3, 250, 250])"
     ]
    },
    {
     "name": "stderr",
     "output_type": "stream",
     "text": [
      "\r",
      "Train Epoch 0:   1%|▌                                     | 24/1678 [00:05<05:43,  4.81batch/s, train_loss=-1.28e+4]"
     ]
    },
    {
     "name": "stdout",
     "output_type": "stream",
     "text": [
      "\n",
      "torch.Size([3, 250, 250]) (48,)\n",
      "torch.Size([3, 250, 250])\n",
      "torch.Size([3, 250, 250]) (48,)\n"
     ]
    },
    {
     "name": "stderr",
     "output_type": "stream",
     "text": [
      "Train Epoch 0:   2%|▌                                     | 26/1678 [00:05<05:44,  4.80batch/s, train_loss=-1.42e+4]"
     ]
    },
    {
     "name": "stdout",
     "output_type": "stream",
     "text": [
      "torch.Size([3, 250, 250])\n",
      "torch.Size([3, 250, 250]) (48,)\n",
      "torch.Size([3, 250, 250])\n",
      "torch.Size([3, 250, 250]) (48,)\n",
      "torch.Size([3, 250, 250])"
     ]
    },
    {
     "name": "stderr",
     "output_type": "stream",
     "text": [
      "Train Epoch 0:   2%|▌                                     | 27/1678 [00:05<05:44,  4.80batch/s, train_loss=-1.37e+4]"
     ]
    },
    {
     "name": "stdout",
     "output_type": "stream",
     "text": [
      "\n",
      "torch.Size([3, 250, 250]) (48,)\n",
      "torch.Size([3, 250, 250])\n",
      "torch.Size([3, 250, 250]) (48,)\n",
      "torch.Size([3, 250, 250])"
     ]
    },
    {
     "name": "stderr",
     "output_type": "stream",
     "text": [
      "Train Epoch 0:   2%|▋                                     | 28/1678 [00:05<05:38,  4.87batch/s, train_loss=-1.11e+4]"
     ]
    },
    {
     "name": "stdout",
     "output_type": "stream",
     "text": [
      "\n",
      "torch.Size([3, 250, 250]) (48,)\n",
      "torch.Size([3, 250, 250])\n",
      "torch.Size([3, 250, 250]) (48,)\n",
      "torch.Size([3, 250, 250])"
     ]
    },
    {
     "name": "stderr",
     "output_type": "stream",
     "text": [
      "Train Epoch 0:   2%|▋                                     | 29/1678 [00:06<05:37,  4.89batch/s, train_loss=-1.25e+4]"
     ]
    },
    {
     "name": "stdout",
     "output_type": "stream",
     "text": [
      "\n",
      "torch.Size([3, 250, 250]) (48,)\n",
      "torch.Size([3, 250, 250])\n",
      "torch.Size([3, 250, 250]) (48,)\n",
      "torch.Size([3, 250, 250])"
     ]
    },
    {
     "name": "stderr",
     "output_type": "stream",
     "text": [
      "Train Epoch 0:   2%|▋                                     | 30/1678 [00:06<05:32,  4.96batch/s, train_loss=-7.24e+3]"
     ]
    },
    {
     "name": "stdout",
     "output_type": "stream",
     "text": [
      "\n",
      "torch.Size([3, 250, 250]) (48,)\n",
      "torch.Size([3, 250, 250])\n",
      "torch.Size([3, 250, 250]) (48,)\n",
      "torch.Size([3, 250, 250])\n",
      "torch.Size([3, 250, 250]) (48,)\n"
     ]
    },
    {
     "name": "stderr",
     "output_type": "stream",
     "text": [
      "Train Epoch 0:   2%|▋                                     | 31/1678 [00:06<05:28,  5.01batch/s, train_loss=-1.32e+4]"
     ]
    },
    {
     "name": "stdout",
     "output_type": "stream",
     "text": [
      "torch.Size([3, 250, 250])\n",
      "torch.Size([3, 250, 250]) (48,)\n",
      "torch.Size([3, 250, 250])\n",
      "torch.Size([3, 250, 250]) (48,)\n"
     ]
    },
    {
     "name": "stderr",
     "output_type": "stream",
     "text": [
      "Train Epoch 0:   2%|▋                                     | 32/1678 [00:06<05:30,  4.98batch/s, train_loss=-1.33e+4]"
     ]
    },
    {
     "name": "stdout",
     "output_type": "stream",
     "text": [
      "torch.Size([3, 250, 250])\n",
      "torch.Size([3, 250, 250]) (48,)\n",
      "torch.Size([3, 250, 250])\n",
      "torch.Size([3, 250, 250]) (48,)\n"
     ]
    },
    {
     "name": "stderr",
     "output_type": "stream",
     "text": [
      "Train Epoch 0:   2%|▋                                     | 33/1678 [00:06<05:32,  4.95batch/s, train_loss=-1.33e+4]"
     ]
    },
    {
     "name": "stdout",
     "output_type": "stream",
     "text": [
      "torch.Size([3, 250, 250])\n",
      "torch.Size([3, 250, 250]) (48,)\n",
      "torch.Size([3, 250, 250])\n",
      "torch.Size([3, 250, 250]) (48,)\n",
      "torch.Size([3, 250, 250])"
     ]
    },
    {
     "name": "stderr",
     "output_type": "stream",
     "text": [
      "Train Epoch 0:   2%|▊                                     | 34/1678 [00:07<05:26,  5.03batch/s, train_loss=-1.24e+4]"
     ]
    },
    {
     "name": "stdout",
     "output_type": "stream",
     "text": [
      "\n",
      "torch.Size([3, 250, 250]) (48,)\n",
      "torch.Size([3, 250, 250])\n",
      "torch.Size([3, 250, 250]) (48,)\n",
      "torch.Size([3, 250, 250])"
     ]
    },
    {
     "name": "stderr",
     "output_type": "stream",
     "text": [
      "Train Epoch 0:   2%|▊                                     | 35/1678 [00:07<05:27,  5.02batch/s, train_loss=-1.15e+4]"
     ]
    },
    {
     "name": "stdout",
     "output_type": "stream",
     "text": [
      "\n",
      "torch.Size([3, 250, 250]) (48,)\n",
      "torch.Size([3, 250, 250])\n",
      "torch.Size([3, 250, 250]) (48,)\n",
      "torch.Size([3, 250, 250])"
     ]
    },
    {
     "name": "stderr",
     "output_type": "stream",
     "text": [
      "Train Epoch 0:   2%|▊                                      | 36/1678 [00:07<05:27,  5.01batch/s, train_loss=-1.2e+4]"
     ]
    },
    {
     "name": "stdout",
     "output_type": "stream",
     "text": [
      "\n",
      "torch.Size([3, 250, 250]) (48,)\n",
      "torch.Size([3, 250, 250])\n",
      "torch.Size([3, 250, 250]) (48,)\n",
      "torch.Size([3, 250, 250])"
     ]
    },
    {
     "name": "stderr",
     "output_type": "stream",
     "text": [
      "Train Epoch 0:   2%|▊                                     | 37/1678 [00:07<05:21,  5.10batch/s, train_loss=-1.13e+4]"
     ]
    },
    {
     "name": "stdout",
     "output_type": "stream",
     "text": [
      "\n",
      "torch.Size([3, 250, 250]) (48,)\n",
      "torch.Size([3, 250, 250])\n",
      "torch.Size([3, 250, 250]) (48,)\n",
      "torch.Size([3, 250, 250])"
     ]
    },
    {
     "name": "stderr",
     "output_type": "stream",
     "text": [
      "Train Epoch 0:   2%|▊                                     | 38/1678 [00:07<05:18,  5.15batch/s, train_loss=-1.13e+4]"
     ]
    },
    {
     "name": "stdout",
     "output_type": "stream",
     "text": [
      "\n",
      "torch.Size([3, 250, 250]) (48,)\n",
      "torch.Size([3, 250, 250])\n",
      "torch.Size([3, 250, 250]) (48,)\n",
      "torch.Size([3, 250, 250])"
     ]
    },
    {
     "name": "stderr",
     "output_type": "stream",
     "text": [
      "Train Epoch 0:   2%|▉                                     | 39/1678 [00:08<05:19,  5.13batch/s, train_loss=-1.18e+4]"
     ]
    },
    {
     "name": "stdout",
     "output_type": "stream",
     "text": [
      "\n",
      "torch.Size([3, 250, 250]) (48,)\n",
      "torch.Size([3, 250, 250])\n",
      "torch.Size([3, 250, 250]) (48,)\n",
      "torch.Size([3, 250, 250])"
     ]
    },
    {
     "name": "stderr",
     "output_type": "stream",
     "text": [
      "Train Epoch 0:   2%|▉                                     | 40/1678 [00:08<05:16,  5.17batch/s, train_loss=-1.19e+4]"
     ]
    },
    {
     "name": "stdout",
     "output_type": "stream",
     "text": [
      "\n",
      "torch.Size([3, 250, 250]) (48,)\n",
      "torch.Size([3, 250, 250])\n",
      "torch.Size([3, 250, 250]) (48,)\n",
      "torch.Size([3, 250, 250])"
     ]
    },
    {
     "name": "stderr",
     "output_type": "stream",
     "text": [
      "Train Epoch 0:   2%|▉                                     | 41/1678 [00:08<05:15,  5.19batch/s, train_loss=-1.19e+4]"
     ]
    },
    {
     "name": "stdout",
     "output_type": "stream",
     "text": [
      "\n",
      "torch.Size([3, 250, 250]) (48,)\n",
      "torch.Size([3, 250, 250])\n",
      "torch.Size([3, 250, 250]) (48,)\n"
     ]
    },
    {
     "name": "stderr",
     "output_type": "stream",
     "text": [
      "Train Epoch 0:   3%|▉                                      | 42/1678 [00:08<05:18,  5.13batch/s, train_loss=-1.2e+4]"
     ]
    },
    {
     "name": "stdout",
     "output_type": "stream",
     "text": [
      "torch.Size([3, 250, 250])\n",
      "torch.Size([3, 250, 250]) (48,)\n",
      "torch.Size([3, 250, 250])\n",
      "torch.Size([3, 250, 250]) (48,)\n",
      "torch.Size([3, 250, 250])\n"
     ]
    },
    {
     "name": "stderr",
     "output_type": "stream",
     "text": [
      "Train Epoch 0:   3%|▉                                     | 43/1678 [00:08<05:21,  5.09batch/s, train_loss=-1.15e+4]"
     ]
    },
    {
     "name": "stdout",
     "output_type": "stream",
     "text": [
      "torch.Size([3, 250, 250]) (48,)\n",
      "torch.Size([3, 250, 250])\n",
      "torch.Size([3, 250, 250]) (48,)\n"
     ]
    },
    {
     "name": "stderr",
     "output_type": "stream",
     "text": [
      "Train Epoch 0:   3%|▉                                     | 44/1678 [00:09<05:26,  5.01batch/s, train_loss=-1.34e+4]"
     ]
    },
    {
     "name": "stdout",
     "output_type": "stream",
     "text": [
      "torch.Size([3, 250, 250])\n",
      "torch.Size([3, 250, 250]) (48,)\n",
      "torch.Size([3, 250, 250])\n",
      "torch.Size([3, 250, 250]) (48,)\n"
     ]
    },
    {
     "name": "stderr",
     "output_type": "stream",
     "text": [
      "Train Epoch 0:   3%|█                                     | 45/1678 [00:09<05:30,  4.93batch/s, train_loss=-1.14e+4]"
     ]
    },
    {
     "name": "stdout",
     "output_type": "stream",
     "text": [
      "torch.Size([3, 250, 250])\n",
      "torch.Size([3, 250, 250]) (48,)\n",
      "torch.Size([3, 250, 250])\n",
      "torch.Size([3, 250, 250]) (48,)\n",
      "torch.Size([3, 250, 250])"
     ]
    },
    {
     "name": "stderr",
     "output_type": "stream",
     "text": [
      "Train Epoch 0:   3%|█                                     | 46/1678 [00:09<05:29,  4.95batch/s, train_loss=-1.08e+4]"
     ]
    },
    {
     "name": "stdout",
     "output_type": "stream",
     "text": [
      "\n",
      "torch.Size([3, 250, 250]) (48,)\n",
      "torch.Size([3, 250, 250])\n",
      "torch.Size([3, 250, 250]) (48,)\n",
      "torch.Size([3, 250, 250])\n"
     ]
    },
    {
     "name": "stderr",
     "output_type": "stream",
     "text": [
      "Train Epoch 0:   3%|█                                     | 47/1678 [00:09<05:21,  5.07batch/s, train_loss=-1.22e+4]"
     ]
    },
    {
     "name": "stdout",
     "output_type": "stream",
     "text": [
      "torch.Size([3, 250, 250]) (48,)\n",
      "torch.Size([3, 250, 250])\n",
      "torch.Size([3, 250, 250]) (48,)\n",
      "torch.Size([3, 250, 250])"
     ]
    },
    {
     "name": "stderr",
     "output_type": "stream",
     "text": [
      "Train Epoch 0:   3%|█                                     | 48/1678 [00:09<05:17,  5.14batch/s, train_loss=-1.08e+4]"
     ]
    },
    {
     "name": "stdout",
     "output_type": "stream",
     "text": [
      "\n",
      "torch.Size([3, 250, 250]) (48,)\n",
      "torch.Size([3, 250, 250])\n",
      "torch.Size([3, 250, 250]) (48,)\n",
      "torch.Size([3, 250, 250])"
     ]
    },
    {
     "name": "stderr",
     "output_type": "stream",
     "text": [
      "Train Epoch 0:   3%|█                                     | 49/1678 [00:10<05:15,  5.16batch/s, train_loss=-1.25e+4]"
     ]
    },
    {
     "name": "stdout",
     "output_type": "stream",
     "text": [
      "\n",
      "torch.Size([3, 250, 250]) (48,)\n",
      "torch.Size([3, 250, 250])\n",
      "torch.Size([3, 250, 250]) (48,)\n",
      "torch.Size([3, 250, 250])"
     ]
    },
    {
     "name": "stderr",
     "output_type": "stream",
     "text": [
      "Train Epoch 0:   3%|█▏                                     | 50/1678 [00:10<05:16,  5.14batch/s, train_loss=-1.4e+4]"
     ]
    },
    {
     "name": "stdout",
     "output_type": "stream",
     "text": [
      "\n",
      "torch.Size([3, 250, 250]) (48,)\n",
      "torch.Size([3, 250, 250])\n",
      "torch.Size([3, 250, 250]) (48,)\n",
      "torch.Size([3, 250, 250])"
     ]
    },
    {
     "name": "stderr",
     "output_type": "stream",
     "text": [
      "Train Epoch 0:   3%|█▏                                    | 51/1678 [00:10<05:16,  5.13batch/s, train_loss=-1.23e+4]"
     ]
    },
    {
     "name": "stdout",
     "output_type": "stream",
     "text": [
      "\n",
      "torch.Size([3, 250, 250]) (48,)\n",
      "torch.Size([3, 250, 250])\n",
      "torch.Size([3, 250, 250]) (48,)\n",
      "torch.Size([3, 250, 250])"
     ]
    },
    {
     "name": "stderr",
     "output_type": "stream",
     "text": [
      "Train Epoch 0:   3%|█▏                                    | 52/1678 [00:10<05:21,  5.06batch/s, train_loss=-1.19e+4]"
     ]
    },
    {
     "name": "stdout",
     "output_type": "stream",
     "text": [
      "\n",
      "torch.Size([3, 250, 250]) (48,)\n",
      "torch.Size([3, 250, 250])\n",
      "torch.Size([3, 250, 250]) (48,)\n",
      "torch.Size([3, 250, 250])"
     ]
    },
    {
     "name": "stderr",
     "output_type": "stream",
     "text": [
      "Train Epoch 0:   3%|█▏                                    | 53/1678 [00:10<05:26,  4.98batch/s, train_loss=-7.33e+3]"
     ]
    },
    {
     "name": "stdout",
     "output_type": "stream",
     "text": [
      "\n",
      "torch.Size([3, 250, 250]) (48,)\n",
      "torch.Size([3, 250, 250])\n",
      "torch.Size([3, 250, 250]) (48,)\n",
      "torch.Size([3, 250, 250])"
     ]
    },
    {
     "name": "stderr",
     "output_type": "stream",
     "text": [
      "Train Epoch 0:   3%|█▏                                    | 54/1678 [00:11<05:23,  5.03batch/s, train_loss=-1.34e+4]"
     ]
    },
    {
     "name": "stdout",
     "output_type": "stream",
     "text": [
      "\n",
      "torch.Size([3, 250, 250]) (48,)\n",
      "torch.Size([3, 250, 250])\n",
      "torch.Size([3, 250, 250]) (48,)\n",
      "torch.Size([3, 250, 250])"
     ]
    },
    {
     "name": "stderr",
     "output_type": "stream",
     "text": [
      "Train Epoch 0:   3%|█▏                                    | 55/1678 [00:11<05:25,  4.98batch/s, train_loss=-1.34e+4]"
     ]
    },
    {
     "name": "stdout",
     "output_type": "stream",
     "text": [
      "\n",
      "torch.Size([3, 250, 250]) (48,)\n",
      "torch.Size([3, 250, 250])\n",
      "torch.Size([3, 250, 250]) (48,)\n",
      "torch.Size([3, 250, 250])"
     ]
    },
    {
     "name": "stderr",
     "output_type": "stream",
     "text": [
      "Train Epoch 0:   3%|█▎                                    | 56/1678 [00:11<05:20,  5.05batch/s, train_loss=-13404.0]"
     ]
    },
    {
     "name": "stdout",
     "output_type": "stream",
     "text": [
      "\n",
      "torch.Size([3, 250, 250]) (48,)\n",
      "torch.Size([3, 250, 250])\n",
      "torch.Size([3, 250, 250]) (48,)\n",
      "torch.Size([3, 250, 250])"
     ]
    },
    {
     "name": "stderr",
     "output_type": "stream",
     "text": [
      "Train Epoch 0:   3%|█▎                                    | 57/1678 [00:11<05:16,  5.12batch/s, train_loss=-1.36e+4]"
     ]
    },
    {
     "name": "stdout",
     "output_type": "stream",
     "text": [
      "\n",
      "torch.Size([3, 250, 250]) (48,)\n",
      "torch.Size([3, 250, 250])\n",
      "torch.Size([3, 250, 250]) (48,)\n",
      "torch.Size([3, 250, 250])"
     ]
    },
    {
     "name": "stderr",
     "output_type": "stream",
     "text": [
      "Train Epoch 0:   3%|█▎                                    | 58/1678 [00:11<05:13,  5.17batch/s, train_loss=-1.32e+4]"
     ]
    },
    {
     "name": "stdout",
     "output_type": "stream",
     "text": [
      "\n",
      "torch.Size([3, 250, 250]) (48,)\n",
      "torch.Size([3, 250, 250])\n",
      "torch.Size([3, 250, 250]) (48,)\n",
      "torch.Size([3, 250, 250])"
     ]
    },
    {
     "name": "stderr",
     "output_type": "stream",
     "text": [
      "Train Epoch 0:   4%|█▎                                     | 59/1678 [00:12<05:13,  5.16batch/s, train_loss=-1.3e+4]"
     ]
    },
    {
     "name": "stdout",
     "output_type": "stream",
     "text": [
      "\n",
      "torch.Size([3, 250, 250]) (48,)\n",
      "torch.Size([3, 250, 250])\n",
      "torch.Size([3, 250, 250]) (48,)\n"
     ]
    },
    {
     "name": "stderr",
     "output_type": "stream",
     "text": [
      "Train Epoch 0:   4%|█▎                                    | 60/1678 [00:12<05:18,  5.08batch/s, train_loss=-1.27e+4]"
     ]
    },
    {
     "name": "stdout",
     "output_type": "stream",
     "text": [
      "torch.Size([3, 250, 250])\n",
      "torch.Size([3, 250, 250]) (48,)\n",
      "torch.Size([3, 250, 250])\n",
      "torch.Size([3, 250, 250]) (48,)\n",
      "torch.Size([3, 250, 250])"
     ]
    },
    {
     "name": "stderr",
     "output_type": "stream",
     "text": [
      "Train Epoch 0:   4%|█▍                                     | 61/1678 [00:12<05:21,  5.02batch/s, train_loss=-1.4e+4]"
     ]
    },
    {
     "name": "stdout",
     "output_type": "stream",
     "text": [
      "\n",
      "torch.Size([3, 250, 250]) (48,)\n",
      "torch.Size([3, 250, 250])\n",
      "torch.Size([3, 250, 250]) (48,)\n"
     ]
    },
    {
     "name": "stderr",
     "output_type": "stream",
     "text": [
      "Train Epoch 0:   4%|█▍                                    | 62/1678 [00:12<05:30,  4.89batch/s, train_loss=-1.42e+4]"
     ]
    },
    {
     "name": "stdout",
     "output_type": "stream",
     "text": [
      "torch.Size([3, 250, 250])\n",
      "torch.Size([3, 250, 250]) (48,)\n",
      "torch.Size([3, 250, 250])\n",
      "torch.Size([3, 250, 250]) (48,)\n",
      "torch.Size([3, 250, 250])"
     ]
    },
    {
     "name": "stderr",
     "output_type": "stream",
     "text": [
      "Train Epoch 0:   4%|█▍                                    | 63/1678 [00:12<05:25,  4.97batch/s, train_loss=-1.26e+4]"
     ]
    },
    {
     "name": "stdout",
     "output_type": "stream",
     "text": [
      "\n",
      "torch.Size([3, 250, 250]) (48,)\n",
      "torch.Size([3, 250, 250])\n",
      "torch.Size([3, 250, 250]) (48,)\n",
      "torch.Size([3, 250, 250])"
     ]
    },
    {
     "name": "stderr",
     "output_type": "stream",
     "text": [
      "Train Epoch 0:   4%|█▍                                    | 64/1678 [00:13<05:23,  4.98batch/s, train_loss=-1.21e+4]"
     ]
    },
    {
     "name": "stdout",
     "output_type": "stream",
     "text": [
      "\n",
      "torch.Size([3, 250, 250]) (48,)\n",
      "torch.Size([3, 250, 250])\n",
      "torch.Size([3, 250, 250]) (48,)\n",
      "torch.Size([3, 250, 250])"
     ]
    },
    {
     "name": "stderr",
     "output_type": "stream",
     "text": [
      "Train Epoch 0:   4%|█▍                                    | 65/1678 [00:13<05:27,  4.93batch/s, train_loss=-1.22e+4]"
     ]
    },
    {
     "name": "stdout",
     "output_type": "stream",
     "text": [
      "\n",
      "torch.Size([3, 250, 250]) (48,)\n",
      "torch.Size([3, 250, 250])\n",
      "torch.Size([3, 250, 250]) (48,)\n"
     ]
    },
    {
     "name": "stderr",
     "output_type": "stream",
     "text": [
      "Train Epoch 0:   4%|█▍                                    | 66/1678 [00:13<05:32,  4.84batch/s, train_loss=-1.21e+4]"
     ]
    },
    {
     "name": "stdout",
     "output_type": "stream",
     "text": [
      "torch.Size([3, 250, 250])\n",
      "torch.Size([3, 250, 250]) (48,)\n",
      "torch.Size([3, 250, 250])\n",
      "torch.Size([3, 250, 250]) (48,)\n"
     ]
    },
    {
     "name": "stderr",
     "output_type": "stream",
     "text": [
      "Train Epoch 0:   4%|█▌                                    | 67/1678 [00:13<05:28,  4.91batch/s, train_loss=-1.24e+4]"
     ]
    },
    {
     "name": "stdout",
     "output_type": "stream",
     "text": [
      "torch.Size([3, 250, 250])\n",
      "torch.Size([3, 250, 250]) (48,)\n",
      "torch.Size([3, 250, 250])\n",
      "torch.Size([3, 250, 250]) (48,)\n",
      "torch.Size([3, 250, 250])"
     ]
    },
    {
     "name": "stderr",
     "output_type": "stream",
     "text": [
      "Train Epoch 0:   4%|█▌                                    | 68/1678 [00:13<05:25,  4.95batch/s, train_loss=-1.25e+4]"
     ]
    },
    {
     "name": "stdout",
     "output_type": "stream",
     "text": [
      "\n",
      "torch.Size([3, 250, 250]) (48,)\n",
      "torch.Size([3, 250, 250])\n",
      "torch.Size([3, 250, 250]) (48,)\n",
      "torch.Size([3, 250, 250])"
     ]
    },
    {
     "name": "stderr",
     "output_type": "stream",
     "text": [
      "Train Epoch 0:   4%|█▌                                    | 69/1678 [00:14<05:25,  4.94batch/s, train_loss=-1.22e+4]"
     ]
    },
    {
     "name": "stdout",
     "output_type": "stream",
     "text": [
      "\n",
      "torch.Size([3, 250, 250]) (48,)\n",
      "torch.Size([3, 250, 250])\n",
      "torch.Size([3, 250, 250]) (48,)\n",
      "torch.Size([3, 250, 250])"
     ]
    },
    {
     "name": "stderr",
     "output_type": "stream",
     "text": [
      "Train Epoch 0:   4%|█▌                                    | 70/1678 [00:14<05:19,  5.03batch/s, train_loss=-1.24e+4]"
     ]
    },
    {
     "name": "stdout",
     "output_type": "stream",
     "text": [
      "\n",
      "torch.Size([3, 250, 250]) (48,)\n",
      "torch.Size([3, 250, 250])\n",
      "torch.Size([3, 250, 250]) (48,)\n",
      "torch.Size([3, 250, 250])"
     ]
    },
    {
     "name": "stderr",
     "output_type": "stream",
     "text": [
      "Train Epoch 0:   4%|█▌                                    | 71/1678 [00:14<05:15,  5.10batch/s, train_loss=-1.25e+4]"
     ]
    },
    {
     "name": "stdout",
     "output_type": "stream",
     "text": [
      "\n",
      "torch.Size([3, 250, 250]) (48,)\n",
      "torch.Size([3, 250, 250])\n",
      "torch.Size([3, 250, 250]) (48,)\n",
      "torch.Size([3, 250, 250])"
     ]
    },
    {
     "name": "stderr",
     "output_type": "stream",
     "text": [
      "Train Epoch 0:   4%|█▋                                    | 72/1678 [00:14<05:11,  5.15batch/s, train_loss=-1.22e+4]"
     ]
    },
    {
     "name": "stdout",
     "output_type": "stream",
     "text": [
      "\n",
      "torch.Size([3, 250, 250]) (48,)\n",
      "torch.Size([3, 250, 250])\n",
      "torch.Size([3, 250, 250]) (48,)\n",
      "torch.Size([3, 250, 250])"
     ]
    },
    {
     "name": "stderr",
     "output_type": "stream",
     "text": [
      "Train Epoch 0:   4%|█▋                                    | 73/1678 [00:14<05:09,  5.18batch/s, train_loss=-1.21e+4]"
     ]
    },
    {
     "name": "stdout",
     "output_type": "stream",
     "text": [
      "\n",
      "torch.Size([3, 250, 250]) (48,)\n",
      "torch.Size([3, 250, 250])\n",
      "torch.Size([3, 250, 250]) (48,)\n",
      "torch.Size([3, 250, 250])"
     ]
    },
    {
     "name": "stderr",
     "output_type": "stream",
     "text": [
      "Train Epoch 0:   4%|█▋                                    | 74/1678 [00:15<05:07,  5.22batch/s, train_loss=-1.21e+4]"
     ]
    },
    {
     "name": "stdout",
     "output_type": "stream",
     "text": [
      "\n",
      "torch.Size([3, 250, 250]) (48,)\n",
      "torch.Size([3, 250, 250])\n",
      "torch.Size([3, 250, 250]) (48,)\n",
      "torch.Size([3, 250, 250])"
     ]
    },
    {
     "name": "stderr",
     "output_type": "stream",
     "text": [
      "Train Epoch 0:   4%|█▋                                    | 75/1678 [00:15<05:06,  5.23batch/s, train_loss=-1.19e+4]"
     ]
    },
    {
     "name": "stdout",
     "output_type": "stream",
     "text": [
      "\n",
      "torch.Size([3, 250, 250]) (48,)\n",
      "torch.Size([3, 250, 250])\n",
      "torch.Size([3, 250, 250]) (48,)\n",
      "torch.Size([3, 250, 250])"
     ]
    },
    {
     "name": "stderr",
     "output_type": "stream",
     "text": [
      "Train Epoch 0:   5%|█▋                                    | 76/1678 [00:15<05:06,  5.23batch/s, train_loss=-1.24e+4]"
     ]
    },
    {
     "name": "stdout",
     "output_type": "stream",
     "text": [
      "\n",
      "torch.Size([3, 250, 250]) (48,)\n",
      "torch.Size([3, 250, 250])\n",
      "torch.Size([3, 250, 250]) (48,)\n",
      "torch.Size([3, 250, 250])"
     ]
    },
    {
     "name": "stderr",
     "output_type": "stream",
     "text": [
      "Train Epoch 0:   5%|█▋                                    | 77/1678 [00:15<05:06,  5.23batch/s, train_loss=-1.06e+4]"
     ]
    },
    {
     "name": "stdout",
     "output_type": "stream",
     "text": [
      "\n",
      "torch.Size([3, 250, 250]) (48,)\n",
      "torch.Size([3, 250, 250])\n",
      "torch.Size([3, 250, 250]) (48,)\n"
     ]
    },
    {
     "name": "stderr",
     "output_type": "stream",
     "text": [
      "Train Epoch 0:   5%|█▊                                    | 78/1678 [00:15<05:13,  5.11batch/s, train_loss=-1.46e+4]"
     ]
    },
    {
     "name": "stdout",
     "output_type": "stream",
     "text": [
      "torch.Size([3, 250, 250])\n",
      "torch.Size([3, 250, 250]) (48,)\n",
      "torch.Size([3, 250, 250])\n",
      "torch.Size([3, 250, 250]) (48,)\n",
      "torch.Size([3, 250, 250])"
     ]
    },
    {
     "name": "stderr",
     "output_type": "stream",
     "text": [
      "Train Epoch 0:   5%|█▊                                    | 79/1678 [00:16<05:15,  5.07batch/s, train_loss=-1.27e+4]"
     ]
    },
    {
     "name": "stdout",
     "output_type": "stream",
     "text": [
      "\n",
      "torch.Size([3, 250, 250]) (48,)\n",
      "torch.Size([3, 250, 250])\n",
      "torch.Size([3, 250, 250]) (48,)\n",
      "torch.Size([3, 250, 250])"
     ]
    },
    {
     "name": "stderr",
     "output_type": "stream",
     "text": [
      "Train Epoch 0:   5%|█▊                                    | 80/1678 [00:16<05:15,  5.06batch/s, train_loss=-1.08e+4]"
     ]
    },
    {
     "name": "stdout",
     "output_type": "stream",
     "text": [
      "\n",
      "torch.Size([3, 250, 250]) (48,)\n",
      "torch.Size([3, 250, 250])\n",
      "torch.Size([3, 250, 250]) (48,)\n"
     ]
    },
    {
     "name": "stderr",
     "output_type": "stream",
     "text": [
      "Train Epoch 0:   5%|█▊                                    | 81/1678 [00:16<05:21,  4.96batch/s, train_loss=-1.28e+4]"
     ]
    },
    {
     "name": "stdout",
     "output_type": "stream",
     "text": [
      "torch.Size([3, 250, 250])\n",
      "torch.Size([3, 250, 250]) (48,)\n",
      "torch.Size([3, 250, 250])\n",
      "torch.Size([3, 250, 250]) (48,)\n",
      "torch.Size([3, 250, 250])"
     ]
    },
    {
     "name": "stderr",
     "output_type": "stream",
     "text": [
      "Train Epoch 0:   5%|█▊                                    | 82/1678 [00:16<05:17,  5.03batch/s, train_loss=-1.22e+4]"
     ]
    },
    {
     "name": "stdout",
     "output_type": "stream",
     "text": [
      "\n",
      "torch.Size([3, 250, 250]) (48,)\n",
      "torch.Size([3, 250, 250])\n",
      "torch.Size([3, 250, 250]) (48,)\n",
      "torch.Size([3, 250, 250])"
     ]
    },
    {
     "name": "stderr",
     "output_type": "stream",
     "text": [
      "Train Epoch 0:   5%|█▉                                    | 83/1678 [00:16<05:18,  5.00batch/s, train_loss=-1.22e+4]"
     ]
    },
    {
     "name": "stdout",
     "output_type": "stream",
     "text": [
      "\n",
      "torch.Size([3, 250, 250]) (48,)\n",
      "torch.Size([3, 250, 250])\n",
      "torch.Size([3, 250, 250]) (48,)\n",
      "torch.Size([3, 250, 250])"
     ]
    },
    {
     "name": "stderr",
     "output_type": "stream",
     "text": [
      "Train Epoch 0:   5%|█▉                                    | 84/1678 [00:17<05:15,  5.05batch/s, train_loss=-1.22e+4]"
     ]
    },
    {
     "name": "stdout",
     "output_type": "stream",
     "text": [
      "\n",
      "torch.Size([3, 250, 250]) (48,)\n",
      "torch.Size([3, 250, 250])"
     ]
    },
    {
     "name": "stderr",
     "output_type": "stream",
     "text": [
      "Train Epoch 0:   5%|█▉                                    | 85/1678 [00:17<05:16,  5.03batch/s, train_loss=-1.38e+4]"
     ]
    },
    {
     "name": "stdout",
     "output_type": "stream",
     "text": [
      "\n",
      "torch.Size([3, 250, 250]) (48,)\n",
      "torch.Size([3, 250, 250])\n",
      "torch.Size([3, 250, 250]) (48,)\n",
      "torch.Size([3, 250, 250])"
     ]
    },
    {
     "name": "stderr",
     "output_type": "stream",
     "text": [
      "Train Epoch 0:   5%|█▉                                    | 86/1678 [00:17<05:13,  5.07batch/s, train_loss=-1.39e+4]"
     ]
    },
    {
     "name": "stdout",
     "output_type": "stream",
     "text": [
      "\n",
      "torch.Size([3, 250, 250]) (48,)\n",
      "torch.Size([3, 250, 250])\n",
      "torch.Size([3, 250, 250]) (48,)\n",
      "torch.Size([3, 250, 250])"
     ]
    },
    {
     "name": "stderr",
     "output_type": "stream",
     "text": [
      "Train Epoch 0:   5%|██                                     | 87/1678 [00:17<05:10,  5.12batch/s, train_loss=-1.4e+4]"
     ]
    },
    {
     "name": "stdout",
     "output_type": "stream",
     "text": [
      "\n",
      "torch.Size([3, 250, 250]) (48,)\n",
      "torch.Size([3, 250, 250])\n",
      "torch.Size([3, 250, 250]) (48,)\n",
      "torch.Size([3, 250, 250])"
     ]
    },
    {
     "name": "stderr",
     "output_type": "stream",
     "text": [
      "Train Epoch 0:   5%|█▉                                    | 88/1678 [00:17<05:07,  5.18batch/s, train_loss=-1.42e+4]"
     ]
    },
    {
     "name": "stdout",
     "output_type": "stream",
     "text": [
      "\n",
      "torch.Size([3, 250, 250]) (48,)\n",
      "torch.Size([3, 250, 250])\n",
      "torch.Size([3, 250, 250]) (48,)\n"
     ]
    },
    {
     "name": "stderr",
     "output_type": "stream",
     "text": [
      "Train Epoch 0:   5%|██                                    | 89/1678 [00:17<05:15,  5.04batch/s, train_loss=-1.45e+4]"
     ]
    },
    {
     "name": "stdout",
     "output_type": "stream",
     "text": [
      "torch.Size([3, 250, 250])\n",
      "torch.Size([3, 250, 250]) (48,)\n",
      "torch.Size([3, 250, 250])\n",
      "torch.Size([3, 250, 250]) (48,)\n",
      "torch.Size([3, 250, 250])"
     ]
    },
    {
     "name": "stderr",
     "output_type": "stream",
     "text": [
      "Train Epoch 0:   5%|██                                    | 90/1678 [00:18<05:13,  5.07batch/s, train_loss=-1.45e+4]"
     ]
    },
    {
     "name": "stdout",
     "output_type": "stream",
     "text": [
      "\n",
      "torch.Size([3, 250, 250]) (48,)\n",
      "torch.Size([3, 250, 250])\n",
      "torch.Size([3, 250, 250]) (48,)\n",
      "torch.Size([3, 250, 250])"
     ]
    },
    {
     "name": "stderr",
     "output_type": "stream",
     "text": [
      "Train Epoch 0:   5%|██                                    | 91/1678 [00:18<05:11,  5.10batch/s, train_loss=-1.43e+4]"
     ]
    },
    {
     "name": "stdout",
     "output_type": "stream",
     "text": [
      "\n",
      "torch.Size([3, 250, 250]) (48,)\n",
      "torch.Size([3, 250, 250])\n",
      "torch.Size([3, 250, 250]) (48,)\n"
     ]
    },
    {
     "name": "stderr",
     "output_type": "stream",
     "text": [
      "Train Epoch 0:   5%|██                                    | 92/1678 [00:18<05:10,  5.11batch/s, train_loss=-1.42e+4]"
     ]
    },
    {
     "name": "stdout",
     "output_type": "stream",
     "text": [
      "torch.Size([3, 250, 250])\n",
      "torch.Size([3, 250, 250]) (48,)\n",
      "torch.Size([3, 250, 250])\n",
      "torch.Size([3, 250, 250]) (48,)\n",
      "torch.Size([3, 250, 250])"
     ]
    },
    {
     "name": "stderr",
     "output_type": "stream",
     "text": [
      "Train Epoch 0:   6%|██                                    | 93/1678 [00:18<05:17,  5.00batch/s, train_loss=-1.25e+4]"
     ]
    },
    {
     "name": "stdout",
     "output_type": "stream",
     "text": [
      "\n",
      "torch.Size([3, 250, 250]) (48,)\n",
      "torch.Size([3, 250, 250])\n",
      "torch.Size([3, 250, 250]) (48,)\n"
     ]
    },
    {
     "name": "stderr",
     "output_type": "stream",
     "text": [
      "Train Epoch 0:   6%|██▏                                   | 94/1678 [00:18<05:18,  4.98batch/s, train_loss=-1.23e+4]"
     ]
    },
    {
     "name": "stdout",
     "output_type": "stream",
     "text": [
      "torch.Size([3, 250, 250])\n",
      "torch.Size([3, 250, 250]) (48,)\n",
      "torch.Size([3, 250, 250])\n",
      "torch.Size([3, 250, 250]) (48,)\n"
     ]
    },
    {
     "name": "stderr",
     "output_type": "stream",
     "text": [
      "Train Epoch 0:   6%|██▏                                   | 95/1678 [00:19<05:18,  4.97batch/s, train_loss=-1.25e+4]"
     ]
    },
    {
     "name": "stdout",
     "output_type": "stream",
     "text": [
      "torch.Size([3, 250, 250])\n",
      "torch.Size([3, 250, 250]) (48,)\n",
      "torch.Size([3, 250, 250])\n",
      "torch.Size([3, 250, 250]) (48,)\n",
      "torch.Size([3, 250, 250])"
     ]
    },
    {
     "name": "stderr",
     "output_type": "stream",
     "text": [
      "Train Epoch 0:   6%|██▏                                   | 96/1678 [00:19<05:18,  4.97batch/s, train_loss=-1.24e+4]"
     ]
    },
    {
     "name": "stdout",
     "output_type": "stream",
     "text": [
      "\n",
      "torch.Size([3, 250, 250]) (48,)\n",
      "torch.Size([3, 250, 250])\n",
      "torch.Size([3, 250, 250]) (48,)\n",
      "torch.Size([3, 250, 250])"
     ]
    },
    {
     "name": "stderr",
     "output_type": "stream",
     "text": [
      "Train Epoch 0:   6%|██▏                                   | 97/1678 [00:19<05:15,  5.02batch/s, train_loss=-1.22e+4]"
     ]
    },
    {
     "name": "stdout",
     "output_type": "stream",
     "text": [
      "\n",
      "torch.Size([3, 250, 250]) (48,)\n",
      "torch.Size([3, 250, 250])\n",
      "torch.Size([3, 250, 250]) (48,)\n",
      "torch.Size([3, 250, 250])"
     ]
    },
    {
     "name": "stderr",
     "output_type": "stream",
     "text": [
      "Train Epoch 0:   6%|██▏                                   | 98/1678 [00:19<05:14,  5.02batch/s, train_loss=-1.25e+4]"
     ]
    },
    {
     "name": "stdout",
     "output_type": "stream",
     "text": [
      "\n",
      "torch.Size([3, 250, 250]) (48,)\n",
      "torch.Size([3, 250, 250])\n",
      "torch.Size([3, 250, 250]) (48,)\n"
     ]
    },
    {
     "name": "stderr",
     "output_type": "stream",
     "text": [
      "Train Epoch 0:   6%|██▎                                    | 99/1678 [00:19<05:13,  5.03batch/s, train_loss=-1.2e+4]"
     ]
    },
    {
     "name": "stdout",
     "output_type": "stream",
     "text": [
      "torch.Size([3, 250, 250])\n",
      "torch.Size([3, 250, 250]) (48,)\n",
      "torch.Size([3, 250, 250])\n",
      "torch.Size([3, 250, 250]) (48,)\n"
     ]
    },
    {
     "name": "stderr",
     "output_type": "stream",
     "text": [
      "Train Epoch 0:   6%|██▏                                  | 100/1678 [00:20<05:13,  5.03batch/s, train_loss=-1.26e+4]"
     ]
    },
    {
     "name": "stdout",
     "output_type": "stream",
     "text": [
      "torch.Size([3, 250, 250])\n",
      "torch.Size([3, 250, 250]) (48,)\n",
      "torch.Size([3, 250, 250])\n",
      "torch.Size([3, 250, 250]) (48,)\n",
      "torch.Size([3, 250, 250])"
     ]
    },
    {
     "name": "stderr",
     "output_type": "stream",
     "text": [
      "Train Epoch 0:   6%|██▏                                  | 101/1678 [00:20<05:18,  4.95batch/s, train_loss=-1.23e+4]"
     ]
    },
    {
     "name": "stdout",
     "output_type": "stream",
     "text": [
      "\n",
      "torch.Size([3, 250, 250]) (48,)\n",
      "torch.Size([3, 250, 250])\n",
      "torch.Size([3, 250, 250]) (48,)\n",
      "torch.Size([3, 250, 250])"
     ]
    },
    {
     "name": "stderr",
     "output_type": "stream",
     "text": [
      "Train Epoch 0:   6%|██▏                                  | 102/1678 [00:20<05:12,  5.05batch/s, train_loss=-1.14e+4]"
     ]
    },
    {
     "name": "stdout",
     "output_type": "stream",
     "text": [
      "\n",
      "torch.Size([3, 250, 250]) (48,)\n",
      "torch.Size([3, 250, 250])\n",
      "torch.Size([3, 250, 250]) (48,)\n"
     ]
    },
    {
     "name": "stderr",
     "output_type": "stream",
     "text": [
      "Train Epoch 0:   6%|██▎                                  | 103/1678 [00:20<05:12,  5.04batch/s, train_loss=-1.14e+4]"
     ]
    },
    {
     "name": "stdout",
     "output_type": "stream",
     "text": [
      "torch.Size([3, 250, 250])\n",
      "torch.Size([3, 250, 250]) (48,)\n",
      "torch.Size([3, 250, 250])\n",
      "torch.Size([3, 250, 250]) (48,)\n"
     ]
    },
    {
     "name": "stderr",
     "output_type": "stream",
     "text": [
      "Train Epoch 0:   6%|██▎                                  | 104/1678 [00:20<05:12,  5.03batch/s, train_loss=-1.19e+4]"
     ]
    },
    {
     "name": "stdout",
     "output_type": "stream",
     "text": [
      "torch.Size([3, 250, 250])\n",
      "torch.Size([3, 250, 250]) (48,)\n",
      "torch.Size([3, 250, 250])\n",
      "torch.Size([3, 250, 250]) (48,)\n",
      "torch.Size([3, 250, 250])"
     ]
    },
    {
     "name": "stderr",
     "output_type": "stream",
     "text": [
      "Train Epoch 0:   6%|██▎                                  | 105/1678 [00:21<05:13,  5.02batch/s, train_loss=-1.01e+4]"
     ]
    },
    {
     "name": "stdout",
     "output_type": "stream",
     "text": [
      "\n",
      "torch.Size([3, 250, 250]) (48,)\n",
      "torch.Size([3, 250, 250])\n",
      "torch.Size([3, 250, 250]) (48,)\n"
     ]
    },
    {
     "name": "stderr",
     "output_type": "stream",
     "text": [
      "Train Epoch 0:   6%|██▎                                  | 106/1678 [00:21<05:13,  5.01batch/s, train_loss=-1.23e+4]"
     ]
    },
    {
     "name": "stdout",
     "output_type": "stream",
     "text": [
      "torch.Size([3, 250, 250])\n",
      "torch.Size([3, 250, 250]) (48,)\n",
      "torch.Size([3, 250, 250])\n",
      "torch.Size([3, 250, 250]) (48,)\n",
      "torch.Size([3, 250, 250])"
     ]
    },
    {
     "name": "stderr",
     "output_type": "stream",
     "text": [
      "Train Epoch 0:   6%|██▎                                  | 107/1678 [00:21<05:14,  5.00batch/s, train_loss=-1.05e+4]"
     ]
    },
    {
     "name": "stdout",
     "output_type": "stream",
     "text": [
      "\n",
      "torch.Size([3, 250, 250]) (48,)\n",
      "torch.Size([3, 250, 250])\n",
      "torch.Size([3, 250, 250]) (48,)\n",
      "torch.Size([3, 250, 250])"
     ]
    },
    {
     "name": "stderr",
     "output_type": "stream",
     "text": [
      "Train Epoch 0:   6%|██▍                                  | 108/1678 [00:21<05:11,  5.03batch/s, train_loss=-9.89e+3]"
     ]
    },
    {
     "name": "stdout",
     "output_type": "stream",
     "text": [
      "\n",
      "torch.Size([3, 250, 250]) (48,)\n",
      "torch.Size([3, 250, 250])\n",
      "torch.Size([3, 250, 250]) (48,)\n",
      "torch.Size([3, 250, 250])"
     ]
    },
    {
     "name": "stderr",
     "output_type": "stream",
     "text": [
      "Train Epoch 0:   6%|██▍                                  | 109/1678 [00:21<05:07,  5.10batch/s, train_loss=-9.86e+3]"
     ]
    },
    {
     "name": "stdout",
     "output_type": "stream",
     "text": [
      "\n",
      "torch.Size([3, 250, 250]) (48,)\n",
      "torch.Size([3, 250, 250])\n",
      "torch.Size([3, 250, 250]) (48,)\n",
      "torch.Size([3, 250, 250])"
     ]
    },
    {
     "name": "stderr",
     "output_type": "stream",
     "text": [
      "Train Epoch 0:   7%|██▍                                   | 110/1678 [00:22<05:10,  5.06batch/s, train_loss=-9.9e+3]"
     ]
    },
    {
     "name": "stdout",
     "output_type": "stream",
     "text": [
      "\n",
      "torch.Size([3, 250, 250]) (48,)\n",
      "torch.Size([3, 250, 250])\n",
      "torch.Size([3, 250, 250]) (48,)\n",
      "torch.Size([3, 250, 250])"
     ]
    },
    {
     "name": "stderr",
     "output_type": "stream",
     "text": [
      "Train Epoch 0:   7%|██▍                                  | 111/1678 [00:22<05:07,  5.10batch/s, train_loss=-1.38e+4]"
     ]
    },
    {
     "name": "stdout",
     "output_type": "stream",
     "text": [
      "\n",
      "torch.Size([3, 250, 250]) (48,)\n",
      "torch.Size([3, 250, 250])\n",
      "torch.Size([3, 250, 250]) (48,)\n",
      "torch.Size([3, 250, 250])"
     ]
    },
    {
     "name": "stderr",
     "output_type": "stream",
     "text": [
      "Train Epoch 0:   7%|██▍                                  | 112/1678 [00:22<05:05,  5.13batch/s, train_loss=-1.62e+4]"
     ]
    },
    {
     "name": "stdout",
     "output_type": "stream",
     "text": [
      "\n",
      "torch.Size([3, 250, 250]) (48,)\n",
      "torch.Size([3, 250, 250])\n",
      "torch.Size([3, 250, 250]) (48,)\n",
      "torch.Size([3, 250, 250])"
     ]
    },
    {
     "name": "stderr",
     "output_type": "stream",
     "text": [
      "Train Epoch 0:   7%|██▍                                  | 113/1678 [00:22<05:10,  5.05batch/s, train_loss=-1.22e+4]"
     ]
    },
    {
     "name": "stdout",
     "output_type": "stream",
     "text": [
      "\n",
      "torch.Size([3, 250, 250]) (48,)\n",
      "torch.Size([3, 250, 250])\n",
      "torch.Size([3, 250, 250]) (48,)\n"
     ]
    },
    {
     "name": "stderr",
     "output_type": "stream",
     "text": [
      "Train Epoch 0:   7%|██▌                                  | 114/1678 [00:22<05:12,  5.01batch/s, train_loss=-1.33e+4]"
     ]
    },
    {
     "name": "stdout",
     "output_type": "stream",
     "text": [
      "torch.Size([3, 250, 250])\n",
      "torch.Size([3, 250, 250]) (48,)\n",
      "torch.Size([3, 250, 250])\n",
      "torch.Size([3, 250, 250]) (48,)\n",
      "torch.Size([3, 250, 250])"
     ]
    },
    {
     "name": "stderr",
     "output_type": "stream",
     "text": [
      "Train Epoch 0:   7%|██▌                                  | 115/1678 [00:23<05:08,  5.06batch/s, train_loss=-1.59e+4]"
     ]
    },
    {
     "name": "stdout",
     "output_type": "stream",
     "text": [
      "\n",
      "torch.Size([3, 250, 250]) (48,)\n",
      "torch.Size([3, 250, 250])\n",
      "torch.Size([3, 250, 250]) (48,)\n",
      "torch.Size([3, 250, 250])"
     ]
    },
    {
     "name": "stderr",
     "output_type": "stream",
     "text": [
      "Train Epoch 0:   7%|██▌                                  | 116/1678 [00:23<05:07,  5.09batch/s, train_loss=-1.21e+4]"
     ]
    },
    {
     "name": "stdout",
     "output_type": "stream",
     "text": [
      "\n",
      "torch.Size([3, 250, 250]) (48,)\n",
      "torch.Size([3, 250, 250])\n",
      "torch.Size([3, 250, 250]) (48,)\n"
     ]
    },
    {
     "name": "stderr",
     "output_type": "stream",
     "text": [
      "Train Epoch 0:   7%|██▌                                  | 117/1678 [00:23<05:13,  4.97batch/s, train_loss=-1.29e+4]"
     ]
    },
    {
     "name": "stdout",
     "output_type": "stream",
     "text": [
      "torch.Size([3, 250, 250])\n",
      "torch.Size([3, 250, 250]) (48,)\n",
      "torch.Size([3, 250, 250])\n",
      "torch.Size([3, 250, 250]) (48,)\n"
     ]
    },
    {
     "name": "stderr",
     "output_type": "stream",
     "text": [
      "Train Epoch 0:   7%|██▌                                  | 118/1678 [00:23<05:12,  4.99batch/s, train_loss=-1.42e+4]"
     ]
    },
    {
     "name": "stdout",
     "output_type": "stream",
     "text": [
      "torch.Size([3, 250, 250])\n",
      "torch.Size([3, 250, 250]) (48,)\n",
      "torch.Size([3, 250, 250])\n",
      "torch.Size([3, 250, 250]) (48,)\n",
      "torch.Size([3, 250, 250])"
     ]
    },
    {
     "name": "stderr",
     "output_type": "stream",
     "text": [
      "Train Epoch 0:   7%|██▌                                  | 119/1678 [00:23<05:12,  4.99batch/s, train_loss=-1.71e+4]"
     ]
    },
    {
     "name": "stdout",
     "output_type": "stream",
     "text": [
      "\n",
      "torch.Size([3, 250, 250]) (48,)\n",
      "torch.Size([3, 250, 250])\n",
      "torch.Size([3, 250, 250]) (48,)\n",
      "torch.Size([3, 250, 250])"
     ]
    },
    {
     "name": "stderr",
     "output_type": "stream",
     "text": [
      "Train Epoch 0:   7%|██▋                                  | 120/1678 [00:24<05:14,  4.95batch/s, train_loss=-1.26e+4]"
     ]
    },
    {
     "name": "stdout",
     "output_type": "stream",
     "text": [
      "\n",
      "torch.Size([3, 250, 250]) (48,)\n",
      "torch.Size([3, 250, 250])\n",
      "torch.Size([3, 250, 250]) (48,)\n"
     ]
    },
    {
     "name": "stderr",
     "output_type": "stream",
     "text": [
      "Train Epoch 0:   7%|██▋                                  | 121/1678 [00:24<05:13,  4.97batch/s, train_loss=-1.06e+4]"
     ]
    },
    {
     "name": "stdout",
     "output_type": "stream",
     "text": [
      "torch.Size([3, 250, 250])\n",
      "torch.Size([3, 250, 250]) (48,)\n",
      "torch.Size([3, 250, 250])\n",
      "torch.Size([3, 250, 250]) (48,)\n",
      "torch.Size([3, 250, 250])"
     ]
    },
    {
     "name": "stderr",
     "output_type": "stream",
     "text": [
      "Train Epoch 0:   7%|██▋                                  | 122/1678 [00:24<05:11,  5.00batch/s, train_loss=-1.31e+4]"
     ]
    },
    {
     "name": "stdout",
     "output_type": "stream",
     "text": [
      "\n",
      "torch.Size([3, 250, 250]) (48,)\n",
      "torch.Size([3, 250, 250])\n",
      "torch.Size([3, 250, 250]) (48,)\n"
     ]
    },
    {
     "name": "stderr",
     "output_type": "stream",
     "text": [
      "Train Epoch 0:   7%|██▋                                  | 123/1678 [00:24<05:13,  4.96batch/s, train_loss=-1.36e+4]"
     ]
    },
    {
     "name": "stdout",
     "output_type": "stream",
     "text": [
      "torch.Size([3, 250, 250])\n",
      "torch.Size([3, 250, 250]) (48,)\n",
      "torch.Size([3, 250, 250])\n",
      "torch.Size([3, 250, 250]) (48,)\n"
     ]
    },
    {
     "name": "stderr",
     "output_type": "stream",
     "text": [
      "Train Epoch 0:   7%|██▋                                  | 124/1678 [00:24<05:10,  5.01batch/s, train_loss=-8.83e+3]"
     ]
    },
    {
     "name": "stdout",
     "output_type": "stream",
     "text": [
      "torch.Size([3, 250, 250])\n",
      "torch.Size([3, 250, 250]) (48,)\n",
      "torch.Size([3, 250, 250])\n",
      "torch.Size([3, 250, 250]) (48,)\n",
      "torch.Size([3, 250, 250])"
     ]
    },
    {
     "name": "stderr",
     "output_type": "stream",
     "text": [
      "Train Epoch 0:   7%|██▊                                  | 125/1678 [00:25<05:10,  5.01batch/s, train_loss=-9.17e+3]"
     ]
    },
    {
     "name": "stdout",
     "output_type": "stream",
     "text": [
      "\n",
      "torch.Size([3, 250, 250]) (48,)\n",
      "torch.Size([3, 250, 250])\n",
      "torch.Size([3, 250, 250]) (48,)\n",
      "torch.Size([3, 250, 250])"
     ]
    },
    {
     "name": "stderr",
     "output_type": "stream",
     "text": [
      "Train Epoch 0:   8%|██▊                                  | 126/1678 [00:25<05:14,  4.94batch/s, train_loss=-1.09e+4]"
     ]
    },
    {
     "name": "stdout",
     "output_type": "stream",
     "text": [
      "\n",
      "torch.Size([3, 250, 250]) (48,)\n",
      "torch.Size([3, 250, 250])\n",
      "torch.Size([3, 250, 250]) (48,)\n"
     ]
    },
    {
     "name": "stderr",
     "output_type": "stream",
     "text": [
      "Train Epoch 0:   8%|██▊                                  | 127/1678 [00:25<05:19,  4.85batch/s, train_loss=-1.18e+4]"
     ]
    },
    {
     "name": "stdout",
     "output_type": "stream",
     "text": [
      "torch.Size([3, 250, 250])\n",
      "torch.Size([3, 250, 250]) (48,)\n",
      "torch.Size([3, 250, 250])\n",
      "torch.Size([3, 250, 250]) (48,)\n",
      "torch.Size([3, 250, 250])"
     ]
    },
    {
     "name": "stderr",
     "output_type": "stream",
     "text": [
      "Train Epoch 0:   8%|██▊                                  | 128/1678 [00:25<05:11,  4.98batch/s, train_loss=-1.22e+4]"
     ]
    },
    {
     "name": "stdout",
     "output_type": "stream",
     "text": [
      "\n",
      "torch.Size([3, 250, 250]) (48,)\n",
      "torch.Size([3, 250, 250])\n",
      "torch.Size([3, 250, 250]) (48,)\n",
      "torch.Size([3, 250, 250])\n",
      "torch.Size([3, 250, 250]) (48,)\n"
     ]
    },
    {
     "name": "stderr",
     "output_type": "stream",
     "text": [
      "Train Epoch 0:   8%|██▊                                  | 129/1678 [00:25<05:06,  5.06batch/s, train_loss=-1.24e+4]"
     ]
    },
    {
     "name": "stdout",
     "output_type": "stream",
     "text": [
      "torch.Size([3, 250, 250])\n",
      "torch.Size([3, 250, 250]) (48,)\n",
      "torch.Size([3, 250, 250])\n",
      "torch.Size([3, 250, 250]) (48,)\n",
      "torch.Size([3, 250, 250])"
     ]
    },
    {
     "name": "stderr",
     "output_type": "stream",
     "text": [
      "Train Epoch 0:   8%|██▊                                  | 130/1678 [00:26<05:01,  5.13batch/s, train_loss=-1.09e+4]"
     ]
    },
    {
     "name": "stdout",
     "output_type": "stream",
     "text": [
      "\n",
      "torch.Size([3, 250, 250]) (48,)\n",
      "torch.Size([3, 250, 250])\n",
      "torch.Size([3, 250, 250]) (48,)\n",
      "torch.Size([3, 250, 250])"
     ]
    },
    {
     "name": "stderr",
     "output_type": "stream",
     "text": [
      "Train Epoch 0:   8%|██▉                                  | 131/1678 [00:26<04:59,  5.16batch/s, train_loss=-1.32e+4]"
     ]
    },
    {
     "name": "stdout",
     "output_type": "stream",
     "text": [
      "\n",
      "torch.Size([3, 250, 250]) (48,)\n",
      "torch.Size([3, 250, 250])\n",
      "torch.Size([3, 250, 250]) (48,)\n",
      "torch.Size([3, 250, 250])"
     ]
    },
    {
     "name": "stderr",
     "output_type": "stream",
     "text": [
      "Train Epoch 0:   8%|██▉                                  | 132/1678 [00:26<05:03,  5.10batch/s, train_loss=-1.25e+4]"
     ]
    },
    {
     "name": "stdout",
     "output_type": "stream",
     "text": [
      "\n",
      "torch.Size([3, 250, 250]) (48,)\n",
      "torch.Size([3, 250, 250])\n",
      "torch.Size([3, 250, 250]) (48,)\n",
      "torch.Size([3, 250, 250])"
     ]
    },
    {
     "name": "stderr",
     "output_type": "stream",
     "text": [
      "Train Epoch 0:   8%|██▉                                  | 133/1678 [00:26<04:59,  5.15batch/s, train_loss=-1.36e+4]"
     ]
    },
    {
     "name": "stdout",
     "output_type": "stream",
     "text": [
      "\n",
      "torch.Size([3, 250, 250]) (48,)\n",
      "torch.Size([3, 250, 250])\n",
      "torch.Size([3, 250, 250]) (48,)\n",
      "torch.Size([3, 250, 250])"
     ]
    },
    {
     "name": "stderr",
     "output_type": "stream",
     "text": [
      "Train Epoch 0:   8%|███                                   | 134/1678 [00:26<04:59,  5.16batch/s, train_loss=-1.1e+4]"
     ]
    },
    {
     "name": "stdout",
     "output_type": "stream",
     "text": [
      "\n",
      "torch.Size([3, 250, 250]) (48,)\n",
      "torch.Size([3, 250, 250])\n",
      "torch.Size([3, 250, 250]) (48,)\n",
      "torch.Size([3, 250, 250])"
     ]
    },
    {
     "name": "stderr",
     "output_type": "stream",
     "text": [
      "Train Epoch 0:   8%|██▉                                  | 135/1678 [00:27<05:01,  5.12batch/s, train_loss=-1.23e+4]"
     ]
    },
    {
     "name": "stdout",
     "output_type": "stream",
     "text": [
      "\n",
      "torch.Size([3, 250, 250]) (48,)\n",
      "torch.Size([3, 250, 250])\n",
      "torch.Size([3, 250, 250]) (48,)\n",
      "torch.Size([3, 250, 250])"
     ]
    },
    {
     "name": "stderr",
     "output_type": "stream",
     "text": [
      "Train Epoch 0:   8%|██▉                                  | 136/1678 [00:27<04:58,  5.16batch/s, train_loss=-1.36e+4]"
     ]
    },
    {
     "name": "stdout",
     "output_type": "stream",
     "text": [
      "\n",
      "torch.Size([3, 250, 250]) (48,)\n",
      "torch.Size([3, 250, 250])\n",
      "torch.Size([3, 250, 250]) (48,)\n",
      "torch.Size([3, 250, 250])\n"
     ]
    },
    {
     "name": "stderr",
     "output_type": "stream",
     "text": [
      "Train Epoch 0:   8%|███                                  | 137/1678 [00:27<04:57,  5.18batch/s, train_loss=-1.25e+4]"
     ]
    },
    {
     "name": "stdout",
     "output_type": "stream",
     "text": [
      "torch.Size([3, 250, 250]) (48,)\n",
      "torch.Size([3, 250, 250])\n",
      "torch.Size([3, 250, 250]) (48,)\n"
     ]
    },
    {
     "name": "stderr",
     "output_type": "stream",
     "text": [
      "Train Epoch 0:   8%|███                                  | 138/1678 [00:27<04:59,  5.14batch/s, train_loss=-1.36e+4]"
     ]
    },
    {
     "name": "stdout",
     "output_type": "stream",
     "text": [
      "torch.Size([3, 250, 250])\n",
      "torch.Size([3, 250, 250]) (48,)\n",
      "torch.Size([3, 250, 250])\n",
      "torch.Size([3, 250, 250]) (48,)\n",
      "torch.Size([3, 250, 250])"
     ]
    },
    {
     "name": "stderr",
     "output_type": "stream",
     "text": [
      "Train Epoch 0:   8%|███                                  | 139/1678 [00:27<04:56,  5.18batch/s, train_loss=-1.18e+4]"
     ]
    },
    {
     "name": "stdout",
     "output_type": "stream",
     "text": [
      "\n",
      "torch.Size([3, 250, 250]) (48,)\n",
      "torch.Size([3, 250, 250])\n",
      "torch.Size([3, 250, 250]) (48,)\n",
      "torch.Size([3, 250, 250])"
     ]
    },
    {
     "name": "stderr",
     "output_type": "stream",
     "text": [
      "Train Epoch 0:   8%|███                                  | 140/1678 [00:28<04:58,  5.15batch/s, train_loss=-1.75e+4]"
     ]
    },
    {
     "name": "stdout",
     "output_type": "stream",
     "text": [
      "\n",
      "torch.Size([3, 250, 250]) (48,)\n",
      "torch.Size([3, 250, 250])\n",
      "torch.Size([3, 250, 250]) (48,)\n",
      "torch.Size([3, 250, 250])"
     ]
    },
    {
     "name": "stderr",
     "output_type": "stream",
     "text": [
      "Train Epoch 0:   8%|███                                  | 141/1678 [00:28<04:58,  5.15batch/s, train_loss=-1.37e+4]"
     ]
    },
    {
     "name": "stdout",
     "output_type": "stream",
     "text": [
      "\n",
      "torch.Size([3, 250, 250]) (48,)\n",
      "torch.Size([3, 250, 250])\n",
      "torch.Size([3, 250, 250]) (48,)\n",
      "torch.Size([3, 250, 250])"
     ]
    },
    {
     "name": "stderr",
     "output_type": "stream",
     "text": [
      "Train Epoch 0:   8%|███▏                                 | 142/1678 [00:28<05:02,  5.07batch/s, train_loss=-1.08e+4]"
     ]
    },
    {
     "name": "stdout",
     "output_type": "stream",
     "text": [
      "\n",
      "torch.Size([3, 250, 250]) (48,)\n",
      "torch.Size([3, 250, 250])\n",
      "torch.Size([3, 250, 250]) (48,)\n"
     ]
    },
    {
     "name": "stderr",
     "output_type": "stream",
     "text": [
      "Train Epoch 0:   9%|███▏                                 | 143/1678 [00:28<05:11,  4.93batch/s, train_loss=-1.31e+4]"
     ]
    },
    {
     "name": "stdout",
     "output_type": "stream",
     "text": [
      "torch.Size([3, 250, 250])\n",
      "torch.Size([3, 250, 250]) (48,)\n",
      "torch.Size([3, 250, 250])\n",
      "torch.Size([3, 250, 250]) (48,)\n",
      "torch.Size([3, 250, 250])"
     ]
    },
    {
     "name": "stderr",
     "output_type": "stream",
     "text": [
      "Train Epoch 0:   9%|███▏                                 | 144/1678 [00:28<05:10,  4.94batch/s, train_loss=-1.16e+4]"
     ]
    },
    {
     "name": "stdout",
     "output_type": "stream",
     "text": [
      "\n",
      "torch.Size([3, 250, 250]) (48,)\n",
      "torch.Size([3, 250, 250])\n",
      "torch.Size([3, 250, 250]) (48,)\n",
      "torch.Size([3, 250, 250])"
     ]
    },
    {
     "name": "stderr",
     "output_type": "stream",
     "text": [
      "Train Epoch 0:   9%|███▏                                 | 145/1678 [00:29<05:12,  4.91batch/s, train_loss=-1.12e+4]"
     ]
    },
    {
     "name": "stdout",
     "output_type": "stream",
     "text": [
      "\n",
      "torch.Size([3, 250, 250]) (48,)\n",
      "torch.Size([3, 250, 250])\n",
      "torch.Size([3, 250, 250]) (48,)\n",
      "torch.Size([3, 250, 250])"
     ]
    },
    {
     "name": "stderr",
     "output_type": "stream",
     "text": [
      "Train Epoch 0:   9%|███▏                                 | 146/1678 [00:29<05:10,  4.93batch/s, train_loss=-1.58e+4]"
     ]
    },
    {
     "name": "stdout",
     "output_type": "stream",
     "text": [
      "\n",
      "torch.Size([3, 250, 250]) (48,)\n",
      "torch.Size([3, 250, 250])\n",
      "torch.Size([3, 250, 250]) (48,)\n",
      "torch.Size([3, 250, 250])"
     ]
    },
    {
     "name": "stderr",
     "output_type": "stream",
     "text": [
      "Train Epoch 0:   9%|███▏                                 | 147/1678 [00:29<05:08,  4.96batch/s, train_loss=-1.11e+4]"
     ]
    },
    {
     "name": "stdout",
     "output_type": "stream",
     "text": [
      "\n",
      "torch.Size([3, 250, 250]) (48,)\n",
      "torch.Size([3, 250, 250])\n",
      "torch.Size([3, 250, 250]) (48,)\n",
      "torch.Size([3, 250, 250])"
     ]
    },
    {
     "name": "stderr",
     "output_type": "stream",
     "text": [
      "Train Epoch 0:   9%|███▎                                 | 148/1678 [00:29<05:10,  4.93batch/s, train_loss=-1.45e+4]"
     ]
    },
    {
     "name": "stdout",
     "output_type": "stream",
     "text": [
      "\n",
      "torch.Size([3, 250, 250]) (48,)\n",
      "torch.Size([3, 250, 250])\n",
      "torch.Size([3, 250, 250]) (48,)\n",
      "torch.Size([3, 250, 250])"
     ]
    },
    {
     "name": "stderr",
     "output_type": "stream",
     "text": [
      "Train Epoch 0:   9%|███▎                                 | 149/1678 [00:29<05:06,  4.98batch/s, train_loss=-1.42e+4]"
     ]
    },
    {
     "name": "stdout",
     "output_type": "stream",
     "text": [
      "\n",
      "torch.Size([3, 250, 250]) (48,)\n",
      "torch.Size([3, 250, 250])\n",
      "torch.Size([3, 250, 250]) (48,)\n",
      "torch.Size([3, 250, 250])"
     ]
    },
    {
     "name": "stderr",
     "output_type": "stream",
     "text": [
      "Train Epoch 0:   9%|███▎                                 | 150/1678 [00:30<05:04,  5.02batch/s, train_loss=-14624.0]"
     ]
    },
    {
     "name": "stdout",
     "output_type": "stream",
     "text": [
      "\n",
      "torch.Size([3, 250, 250]) (48,)\n",
      "torch.Size([3, 250, 250])\n",
      "torch.Size([3, 250, 250]) (48,)\n",
      "torch.Size([3, 250, 250])"
     ]
    },
    {
     "name": "stderr",
     "output_type": "stream",
     "text": [
      "Train Epoch 0:   9%|███▎                                 | 151/1678 [00:30<05:01,  5.06batch/s, train_loss=-1.22e+4]"
     ]
    },
    {
     "name": "stdout",
     "output_type": "stream",
     "text": [
      "\n",
      "torch.Size([3, 250, 250]) (48,)\n",
      "torch.Size([3, 250, 250])\n",
      "torch.Size([3, 250, 250]) (48,)\n",
      "torch.Size([3, 250, 250])"
     ]
    },
    {
     "name": "stderr",
     "output_type": "stream",
     "text": [
      "Train Epoch 0:   9%|███▎                                 | 152/1678 [00:30<04:59,  5.10batch/s, train_loss=-1.32e+4]"
     ]
    },
    {
     "name": "stdout",
     "output_type": "stream",
     "text": [
      "\n",
      "torch.Size([3, 250, 250]) (48,)\n",
      "torch.Size([3, 250, 250])\n",
      "torch.Size([3, 250, 250]) (48,)\n",
      "torch.Size([3, 250, 250])"
     ]
    },
    {
     "name": "stderr",
     "output_type": "stream",
     "text": [
      "Train Epoch 0:   9%|███▎                                 | 153/1678 [00:30<04:58,  5.10batch/s, train_loss=-1.52e+4]"
     ]
    },
    {
     "name": "stdout",
     "output_type": "stream",
     "text": [
      "\n",
      "torch.Size([3, 250, 250]) (48,)\n",
      "torch.Size([3, 250, 250])\n",
      "torch.Size([3, 250, 250]) (48,)\n",
      "torch.Size([3, 250, 250])\n",
      "torch.Size([3, 250, 250]) (48,)\n"
     ]
    },
    {
     "name": "stderr",
     "output_type": "stream",
     "text": [
      "Train Epoch 0:   9%|███▍                                 | 155/1678 [00:31<04:57,  5.12batch/s, train_loss=-1.02e+4]"
     ]
    },
    {
     "name": "stdout",
     "output_type": "stream",
     "text": [
      "torch.Size([3, 250, 250])\n",
      "torch.Size([3, 250, 250]) (48,)\n",
      "torch.Size([3, 250, 250])\n",
      "torch.Size([3, 250, 250]) (48,)\n",
      "torch.Size([3, 250, 250])"
     ]
    },
    {
     "name": "stderr",
     "output_type": "stream",
     "text": [
      "Train Epoch 0:   9%|███▌                                  | 156/1678 [00:31<04:57,  5.12batch/s, train_loss=-1.5e+4]"
     ]
    },
    {
     "name": "stdout",
     "output_type": "stream",
     "text": [
      "\n",
      "torch.Size([3, 250, 250]) (48,)\n",
      "torch.Size([3, 250, 250])\n",
      "torch.Size([3, 250, 250]) (48,)\n",
      "torch.Size([3, 250, 250])"
     ]
    },
    {
     "name": "stderr",
     "output_type": "stream",
     "text": [
      "Train Epoch 0:   9%|███▍                                 | 157/1678 [00:31<04:55,  5.14batch/s, train_loss=-1.21e+4]"
     ]
    },
    {
     "name": "stdout",
     "output_type": "stream",
     "text": [
      "\n",
      "torch.Size([3, 250, 250]) (48,)\n",
      "torch.Size([3, 250, 250])\n",
      "torch.Size([3, 250, 250]) (48,)\n",
      "torch.Size([3, 250, 250])"
     ]
    },
    {
     "name": "stderr",
     "output_type": "stream",
     "text": [
      "Train Epoch 0:   9%|███▍                                 | 158/1678 [00:31<04:53,  5.18batch/s, train_loss=-1.24e+4]"
     ]
    },
    {
     "name": "stdout",
     "output_type": "stream",
     "text": [
      "\n",
      "torch.Size([3, 250, 250]) (48,)\n",
      "torch.Size([3, 250, 250])\n",
      "torch.Size([3, 250, 250]) (48,)\n",
      "torch.Size([3, 250, 250])"
     ]
    },
    {
     "name": "stderr",
     "output_type": "stream",
     "text": [
      "Train Epoch 0:   9%|███▌                                 | 159/1678 [00:31<04:58,  5.08batch/s, train_loss=-1.25e+4]"
     ]
    },
    {
     "name": "stdout",
     "output_type": "stream",
     "text": [
      "\n",
      "torch.Size([3, 250, 250]) (48,)\n",
      "torch.Size([3, 250, 250])\n",
      "torch.Size([3, 250, 250]) (48,)\n",
      "torch.Size([3, 250, 250])"
     ]
    },
    {
     "name": "stderr",
     "output_type": "stream",
     "text": [
      "Train Epoch 0:  10%|███▌                                 | 160/1678 [00:32<04:56,  5.12batch/s, train_loss=-1.38e+4]"
     ]
    },
    {
     "name": "stdout",
     "output_type": "stream",
     "text": [
      "\n",
      "torch.Size([3, 250, 250]) (48,)\n",
      "torch.Size([3, 250, 250])\n",
      "torch.Size([3, 250, 250]) (48,)\n",
      "torch.Size([3, 250, 250])"
     ]
    },
    {
     "name": "stderr",
     "output_type": "stream",
     "text": [
      "Train Epoch 0:  10%|███▌                                 | 161/1678 [00:32<04:58,  5.07batch/s, train_loss=-1.28e+4]"
     ]
    },
    {
     "name": "stdout",
     "output_type": "stream",
     "text": [
      "\n",
      "torch.Size([3, 250, 250]) (48,)\n",
      "torch.Size([3, 250, 250])\n",
      "torch.Size([3, 250, 250]) (48,)\n",
      "torch.Size([3, 250, 250])"
     ]
    },
    {
     "name": "stderr",
     "output_type": "stream",
     "text": [
      "Train Epoch 0:  10%|███▌                                 | 162/1678 [00:32<04:56,  5.12batch/s, train_loss=-13927.0]"
     ]
    },
    {
     "name": "stdout",
     "output_type": "stream",
     "text": [
      "\n",
      "torch.Size([3, 250, 250]) (48,)\n",
      "torch.Size([3, 250, 250])\n",
      "torch.Size([3, 250, 250]) (48,)\n"
     ]
    },
    {
     "name": "stderr",
     "output_type": "stream",
     "text": [
      "Train Epoch 0:  10%|███▌                                 | 163/1678 [00:32<05:02,  5.00batch/s, train_loss=-1.34e+4]"
     ]
    },
    {
     "name": "stdout",
     "output_type": "stream",
     "text": [
      "torch.Size([3, 250, 250])\n",
      "torch.Size([3, 250, 250]) (48,)\n",
      "torch.Size([3, 250, 250])\n",
      "torch.Size([3, 250, 250]) (48,)\n",
      "torch.Size([3, 250, 250])"
     ]
    },
    {
     "name": "stderr",
     "output_type": "stream",
     "text": [
      "Train Epoch 0:  10%|███▌                                 | 164/1678 [00:32<05:03,  4.98batch/s, train_loss=-1.52e+4]"
     ]
    },
    {
     "name": "stdout",
     "output_type": "stream",
     "text": [
      "\n",
      "torch.Size([3, 250, 250]) (48,)\n",
      "torch.Size([3, 250, 250])\n",
      "torch.Size([3, 250, 250]) (48,)\n",
      "torch.Size([3, 250, 250])"
     ]
    },
    {
     "name": "stderr",
     "output_type": "stream",
     "text": [
      "\r",
      "Train Epoch 0:  10%|███▌                                 | 164/1678 [00:32<05:03,  4.98batch/s, train_loss=-1.52e+4]"
     ]
    },
    {
     "name": "stdout",
     "output_type": "stream",
     "text": [
      "\n",
      "torch.Size([3, 250, 250]) (48,)\n",
      "torch.Size([3, 250, 250])\n",
      "torch.Size([3, 250, 250]) (48,)\n"
     ]
    },
    {
     "name": "stderr",
     "output_type": "stream",
     "text": [
      "Train Epoch 0:  10%|███▋                                 | 166/1678 [00:33<05:10,  4.88batch/s, train_loss=-1.23e+4]"
     ]
    },
    {
     "name": "stdout",
     "output_type": "stream",
     "text": [
      "torch.Size([3, 250, 250])\n",
      "torch.Size([3, 250, 250]) (48,)\n",
      "torch.Size([3, 250, 250])\n",
      "torch.Size([3, 250, 250]) (48,)\n",
      "torch.Size([3, 250, 250])"
     ]
    },
    {
     "name": "stderr",
     "output_type": "stream",
     "text": [
      "Train Epoch 0:  10%|███▋                                 | 167/1678 [00:33<05:02,  4.99batch/s, train_loss=-1.43e+4]"
     ]
    },
    {
     "name": "stdout",
     "output_type": "stream",
     "text": [
      "\n",
      "torch.Size([3, 250, 250]) (48,)\n",
      "torch.Size([3, 250, 250])\n",
      "torch.Size([3, 250, 250]) (48,)\n",
      "torch.Size([3, 250, 250])"
     ]
    },
    {
     "name": "stderr",
     "output_type": "stream",
     "text": [
      "Train Epoch 0:  10%|███▋                                 | 168/1678 [00:33<04:56,  5.10batch/s, train_loss=-1.37e+4]"
     ]
    },
    {
     "name": "stdout",
     "output_type": "stream",
     "text": [
      "\n",
      "torch.Size([3, 250, 250]) (48,)\n",
      "torch.Size([3, 250, 250])\n",
      "torch.Size([3, 250, 250]) (48,)\n",
      "torch.Size([3, 250, 250])"
     ]
    },
    {
     "name": "stderr",
     "output_type": "stream",
     "text": [
      "Train Epoch 0:  10%|███▊                                  | 169/1678 [00:33<04:51,  5.17batch/s, train_loss=-1.1e+4]"
     ]
    },
    {
     "name": "stdout",
     "output_type": "stream",
     "text": [
      "\n",
      "torch.Size([3, 250, 250]) (48,)\n",
      "torch.Size([3, 250, 250])\n",
      "torch.Size([3, 250, 250]) (48,)\n",
      "torch.Size([3, 250, 250])\n",
      "torch.Size([3, 250, 250]) (48,)\n"
     ]
    },
    {
     "name": "stderr",
     "output_type": "stream",
     "text": [
      "Train Epoch 0:  10%|███▋                                 | 170/1678 [00:34<04:52,  5.16batch/s, train_loss=-1.21e+4]"
     ]
    },
    {
     "name": "stdout",
     "output_type": "stream",
     "text": [
      "torch.Size([3, 250, 250])\n",
      "torch.Size([3, 250, 250]) (48,)\n",
      "torch.Size([3, 250, 250])"
     ]
    },
    {
     "name": "stderr",
     "output_type": "stream",
     "text": [
      "Train Epoch 0:  10%|███▊                                 | 171/1678 [00:34<04:54,  5.11batch/s, train_loss=-1.09e+4]"
     ]
    },
    {
     "name": "stdout",
     "output_type": "stream",
     "text": [
      "\n",
      "torch.Size([3, 250, 250]) (48,)\n",
      "torch.Size([3, 250, 250])\n",
      "torch.Size([3, 250, 250]) (48,)\n",
      "torch.Size([3, 250, 250])\n",
      "torch.Size([3, 250, 250])"
     ]
    },
    {
     "name": "stderr",
     "output_type": "stream",
     "text": [
      "Train Epoch 0:  10%|███▊                                 | 172/1678 [00:34<04:53,  5.13batch/s, train_loss=-1.09e+4]"
     ]
    },
    {
     "name": "stdout",
     "output_type": "stream",
     "text": [
      " (48,)\n",
      "torch.Size([3, 250, 250])\n",
      "torch.Size([3, 250, 250]) (48,)\n",
      "torch.Size([3, 250, 250])"
     ]
    },
    {
     "name": "stderr",
     "output_type": "stream",
     "text": [
      "Train Epoch 0:  10%|███▊                                 | 173/1678 [00:34<04:51,  5.17batch/s, train_loss=-1.26e+4]"
     ]
    },
    {
     "name": "stdout",
     "output_type": "stream",
     "text": [
      "\n",
      "torch.Size([3, 250, 250]) (48,)\n",
      "torch.Size([3, 250, 250])\n",
      "torch.Size([3, 250, 250]) (48,)\n",
      "torch.Size([3, 250, 250])"
     ]
    },
    {
     "name": "stderr",
     "output_type": "stream",
     "text": [
      "Train Epoch 0:  10%|███▊                                 | 174/1678 [00:34<04:50,  5.18batch/s, train_loss=-1.34e+4]"
     ]
    },
    {
     "name": "stdout",
     "output_type": "stream",
     "text": [
      "\n",
      "torch.Size([3, 250, 250]) (48,)\n",
      "torch.Size([3, 250, 250])\n",
      "torch.Size([3, 250, 250]) (48,)\n"
     ]
    },
    {
     "name": "stderr",
     "output_type": "stream",
     "text": [
      "Train Epoch 0:  10%|███▊                                 | 175/1678 [00:35<05:01,  4.98batch/s, train_loss=-1.26e+4]"
     ]
    },
    {
     "name": "stdout",
     "output_type": "stream",
     "text": [
      "torch.Size([3, 250, 250])\n",
      "torch.Size([3, 250, 250]) (48,)\n",
      "torch.Size([3, 250, 250])\n",
      "torch.Size([3, 250, 250]) (48,)\n",
      "torch.Size([3, 250, 250])"
     ]
    },
    {
     "name": "stderr",
     "output_type": "stream",
     "text": [
      "Train Epoch 0:  10%|███▉                                  | 176/1678 [00:35<04:57,  5.04batch/s, train_loss=-1.6e+4]"
     ]
    },
    {
     "name": "stdout",
     "output_type": "stream",
     "text": [
      "\n",
      "torch.Size([3, 250, 250]) (48,)\n",
      "torch.Size([3, 250, 250])\n",
      "torch.Size([3, 250, 250]) (48,)\n",
      "torch.Size([3, 250, 250])"
     ]
    },
    {
     "name": "stderr",
     "output_type": "stream",
     "text": [
      "Train Epoch 0:  11%|███▉                                 | 177/1678 [00:35<05:03,  4.95batch/s, train_loss=-1.31e+4]"
     ]
    },
    {
     "name": "stdout",
     "output_type": "stream",
     "text": [
      "\n",
      "torch.Size([3, 250, 250]) (48,)\n",
      "torch.Size([3, 250, 250])\n",
      "torch.Size([3, 250, 250]) (48,)\n"
     ]
    },
    {
     "name": "stderr",
     "output_type": "stream",
     "text": [
      "Train Epoch 0:  11%|███▉                                 | 178/1678 [00:35<05:01,  4.98batch/s, train_loss=-1.52e+4]"
     ]
    },
    {
     "name": "stdout",
     "output_type": "stream",
     "text": [
      "torch.Size([3, 250, 250])\n",
      "torch.Size([3, 250, 250]) (48,)\n",
      "torch.Size([3, 250, 250])\n",
      "torch.Size([3, 250, 250]) (48,)\n",
      "torch.Size([3, 250, 250])"
     ]
    },
    {
     "name": "stderr",
     "output_type": "stream",
     "text": [
      "Train Epoch 0:  11%|███▉                                 | 179/1678 [00:35<04:56,  5.06batch/s, train_loss=-1.31e+4]"
     ]
    },
    {
     "name": "stdout",
     "output_type": "stream",
     "text": [
      "\n",
      "torch.Size([3, 250, 250]) (48,)\n",
      "torch.Size([3, 250, 250])\n",
      "torch.Size([3, 250, 250]) (48,)\n",
      "torch.Size([3, 250, 250])"
     ]
    },
    {
     "name": "stderr",
     "output_type": "stream",
     "text": [
      "Train Epoch 0:  11%|███▉                                 | 180/1678 [00:36<04:55,  5.07batch/s, train_loss=-1.14e+4]"
     ]
    },
    {
     "name": "stdout",
     "output_type": "stream",
     "text": [
      "\n",
      "torch.Size([3, 250, 250]) (48,)\n",
      "torch.Size([3, 250, 250])\n",
      "torch.Size([3, 250, 250]) (48,)\n",
      "torch.Size([3, 250, 250])"
     ]
    },
    {
     "name": "stderr",
     "output_type": "stream",
     "text": [
      "Train Epoch 0:  11%|███▉                                 | 181/1678 [00:36<04:53,  5.10batch/s, train_loss=-1.46e+4]"
     ]
    },
    {
     "name": "stdout",
     "output_type": "stream",
     "text": [
      "\n",
      "torch.Size([3, 250, 250]) (48,)\n",
      "torch.Size([3, 250, 250])\n",
      "torch.Size([3, 250, 250]) (48,)\n",
      "torch.Size([3, 250, 250])"
     ]
    },
    {
     "name": "stderr",
     "output_type": "stream",
     "text": [
      "Train Epoch 0:  11%|████                                 | 182/1678 [00:36<04:51,  5.12batch/s, train_loss=-1.38e+4]"
     ]
    },
    {
     "name": "stdout",
     "output_type": "stream",
     "text": [
      "\n",
      "torch.Size([3, 250, 250]) (48,)\n",
      "torch.Size([3, 250, 250])\n",
      "torch.Size([3, 250, 250]) (48,)\n"
     ]
    },
    {
     "name": "stderr",
     "output_type": "stream",
     "text": [
      "Train Epoch 0:  11%|████▏                                 | 183/1678 [00:36<04:54,  5.07batch/s, train_loss=-1.2e+4]"
     ]
    },
    {
     "name": "stdout",
     "output_type": "stream",
     "text": [
      "torch.Size([3, 250, 250])\n",
      "torch.Size([3, 250, 250]) (48,)\n",
      "torch.Size([3, 250, 250])\n",
      "torch.Size([3, 250, 250]) (48,)\n",
      "torch.Size([3, 250, 250])"
     ]
    },
    {
     "name": "stderr",
     "output_type": "stream",
     "text": [
      "Train Epoch 0:  11%|████                                 | 184/1678 [00:36<04:53,  5.09batch/s, train_loss=-1.22e+4]"
     ]
    },
    {
     "name": "stdout",
     "output_type": "stream",
     "text": [
      "\n",
      "torch.Size([3, 250, 250]) (48,)\n",
      "torch.Size([3, 250, 250])\n",
      "torch.Size([3, 250, 250]) (48,)\n",
      "torch.Size([3, 250, 250])\n",
      "torch.Size([3, 250, 250]) (48,)\n"
     ]
    },
    {
     "name": "stderr",
     "output_type": "stream",
     "text": [
      "Train Epoch 0:  11%|████                                 | 185/1678 [00:37<04:56,  5.03batch/s, train_loss=-1.37e+4]"
     ]
    },
    {
     "name": "stdout",
     "output_type": "stream",
     "text": [
      "torch.Size([3, 250, 250])\n",
      "torch.Size([3, 250, 250]) (48,)\n",
      "torch.Size([3, 250, 250])\n",
      "torch.Size([3, 250, 250]) (48,)\n",
      "torch.Size([3, 250, 250])"
     ]
    },
    {
     "name": "stderr",
     "output_type": "stream",
     "text": [
      "Train Epoch 0:  11%|████                                 | 186/1678 [00:37<04:59,  4.98batch/s, train_loss=-1.29e+4]"
     ]
    },
    {
     "name": "stdout",
     "output_type": "stream",
     "text": [
      "\n",
      "torch.Size([3, 250, 250]) (48,)\n",
      "torch.Size([3, 250, 250])\n",
      "torch.Size([3, 250, 250]) (48,)\n",
      "torch.Size([3, 250, 250])"
     ]
    },
    {
     "name": "stderr",
     "output_type": "stream",
     "text": [
      "Train Epoch 0:  11%|████                                 | 187/1678 [00:37<05:01,  4.94batch/s, train_loss=-1.44e+4]"
     ]
    },
    {
     "name": "stdout",
     "output_type": "stream",
     "text": [
      "\n",
      "torch.Size([3, 250, 250]) (48,)\n",
      "torch.Size([3, 250, 250])\n",
      "torch.Size([3, 250, 250]) (48,)\n",
      "torch.Size([3, 250, 250])"
     ]
    },
    {
     "name": "stderr",
     "output_type": "stream",
     "text": [
      "Train Epoch 0:  11%|████▏                                | 188/1678 [00:37<04:57,  5.01batch/s, train_loss=-1.46e+4]"
     ]
    },
    {
     "name": "stdout",
     "output_type": "stream",
     "text": [
      "\n",
      "torch.Size([3, 250, 250]) (48,)\n",
      "torch.Size([3, 250, 250])\n",
      "torch.Size([3, 250, 250]) (48,)\n"
     ]
    },
    {
     "name": "stderr",
     "output_type": "stream",
     "text": [
      "Train Epoch 0:  11%|████▏                                | 189/1678 [00:37<04:56,  5.03batch/s, train_loss=-1.37e+4]"
     ]
    },
    {
     "name": "stdout",
     "output_type": "stream",
     "text": [
      "torch.Size([3, 250, 250])\n",
      "torch.Size([3, 250, 250]) (48,)\n",
      "torch.Size([3, 250, 250])\n",
      "torch.Size([3, 250, 250]) (48,)\n"
     ]
    },
    {
     "name": "stderr",
     "output_type": "stream",
     "text": [
      "Train Epoch 0:  11%|████▏                                | 190/1678 [00:38<04:58,  4.99batch/s, train_loss=-1.48e+4]"
     ]
    },
    {
     "name": "stdout",
     "output_type": "stream",
     "text": [
      "torch.Size([3, 250, 250])\n",
      "torch.Size([3, 250, 250]) (48,)\n",
      "torch.Size([3, 250, 250])\n",
      "torch.Size([3, 250, 250]) (48,)\n",
      "torch.Size([3, 250, 250])"
     ]
    },
    {
     "name": "stderr",
     "output_type": "stream",
     "text": [
      "Train Epoch 0:  11%|████▏                                | 191/1678 [00:38<04:54,  5.05batch/s, train_loss=-1.24e+4]"
     ]
    },
    {
     "name": "stdout",
     "output_type": "stream",
     "text": [
      "\n",
      "torch.Size([3, 250, 250]) (48,)\n",
      "torch.Size([3, 250, 250])\n",
      "torch.Size([3, 250, 250]) (48,)\n"
     ]
    },
    {
     "name": "stderr",
     "output_type": "stream",
     "text": [
      "Train Epoch 0:  11%|████▏                                | 192/1678 [00:38<04:58,  4.97batch/s, train_loss=-1.31e+4]"
     ]
    },
    {
     "name": "stdout",
     "output_type": "stream",
     "text": [
      "torch.Size([3, 250, 250])\n",
      "torch.Size([3, 250, 250]) (48,)\n",
      "torch.Size([3, 250, 250])\n",
      "torch.Size([3, 250, 250]) (48,)\n",
      "torch.Size([3, 250, 250])"
     ]
    },
    {
     "name": "stderr",
     "output_type": "stream",
     "text": [
      "Train Epoch 0:  12%|████▎                                 | 193/1678 [00:38<04:54,  5.05batch/s, train_loss=-1.3e+4]"
     ]
    },
    {
     "name": "stdout",
     "output_type": "stream",
     "text": [
      "\n",
      "torch.Size([3, 250, 250]) (48,)\n",
      "torch.Size([3, 250, 250])\n",
      "torch.Size([3, 250, 250]) (48,)\n",
      "torch.Size([3, 250, 250])"
     ]
    },
    {
     "name": "stderr",
     "output_type": "stream",
     "text": [
      "Train Epoch 0:  12%|████▎                                | 194/1678 [00:38<04:51,  5.08batch/s, train_loss=-1.14e+4]"
     ]
    },
    {
     "name": "stdout",
     "output_type": "stream",
     "text": [
      "\n",
      "torch.Size([3, 250, 250]) (48,)\n",
      "torch.Size([3, 250, 250])\n",
      "torch.Size([3, 250, 250]) (48,)\n",
      "torch.Size([3, 250, 250])"
     ]
    },
    {
     "name": "stderr",
     "output_type": "stream",
     "text": [
      "Train Epoch 0:  12%|████▎                                | 195/1678 [00:38<04:51,  5.09batch/s, train_loss=-1.26e+4]"
     ]
    },
    {
     "name": "stdout",
     "output_type": "stream",
     "text": [
      "\n",
      "torch.Size([3, 250, 250]) (48,)\n",
      "torch.Size([3, 250, 250])\n",
      "torch.Size([3, 250, 250]) (48,)\n"
     ]
    },
    {
     "name": "stderr",
     "output_type": "stream",
     "text": [
      "Train Epoch 0:  12%|████▎                                | 196/1678 [00:39<04:59,  4.95batch/s, train_loss=-1.28e+4]"
     ]
    },
    {
     "name": "stdout",
     "output_type": "stream",
     "text": [
      "torch.Size([3, 250, 250])\n",
      "torch.Size([3, 250, 250]) (48,)\n",
      "torch.Size([3, 250, 250])\n",
      "torch.Size([3, 250, 250]) (48,)\n"
     ]
    },
    {
     "name": "stderr",
     "output_type": "stream",
     "text": [
      "Train Epoch 0:  12%|████▎                                | 197/1678 [00:39<04:59,  4.95batch/s, train_loss=-1.43e+4]"
     ]
    },
    {
     "name": "stdout",
     "output_type": "stream",
     "text": [
      "torch.Size([3, 250, 250])\n",
      "torch.Size([3, 250, 250]) (48,)\n",
      "torch.Size([3, 250, 250])\n",
      "torch.Size([3, 250, 250]) (48,)\n",
      "torch.Size([3, 250, 250])"
     ]
    },
    {
     "name": "stderr",
     "output_type": "stream",
     "text": [
      "Train Epoch 0:  12%|████▎                                | 198/1678 [00:39<04:54,  5.03batch/s, train_loss=-1.17e+4]"
     ]
    },
    {
     "name": "stdout",
     "output_type": "stream",
     "text": [
      "\n",
      "torch.Size([3, 250, 250]) (48,)\n",
      "torch.Size([3, 250, 250])\n",
      "torch.Size([3, 250, 250]) (48,)\n"
     ]
    },
    {
     "name": "stderr",
     "output_type": "stream",
     "text": [
      "Train Epoch 0:  12%|████▍                                | 199/1678 [00:39<04:56,  4.98batch/s, train_loss=-1.25e+4]"
     ]
    },
    {
     "name": "stdout",
     "output_type": "stream",
     "text": [
      "torch.Size([3, 250, 250])\n",
      "torch.Size([3, 250, 250]) (48,)\n",
      "torch.Size([3, 250, 250])\n",
      "torch.Size([3, 250, 250]) (48,)\n",
      "torch.Size([3, 250, 250])"
     ]
    },
    {
     "name": "stderr",
     "output_type": "stream",
     "text": [
      "Train Epoch 0:  12%|████▍                                | 200/1678 [00:40<04:54,  5.02batch/s, train_loss=-1.14e+4]"
     ]
    },
    {
     "name": "stdout",
     "output_type": "stream",
     "text": [
      "\n",
      "torch.Size([3, 250, 250]) (48,)\n",
      "torch.Size([3, 250, 250])\n",
      "torch.Size([3, 250, 250]) (48,)\n"
     ]
    },
    {
     "name": "stderr",
     "output_type": "stream",
     "text": [
      "Train Epoch 0:  12%|████▍                                | 201/1678 [00:40<04:55,  4.99batch/s, train_loss=-1.24e+4]"
     ]
    },
    {
     "name": "stdout",
     "output_type": "stream",
     "text": [
      "torch.Size([3, 250, 250])\n",
      "torch.Size([3, 250, 250]) (48,)\n",
      "torch.Size([3, 250, 250])\n",
      "torch.Size([3, 250, 250]) (48,)\n"
     ]
    },
    {
     "name": "stderr",
     "output_type": "stream",
     "text": [
      "Train Epoch 0:  12%|████▍                                | 202/1678 [00:40<04:57,  4.96batch/s, train_loss=-1.12e+4]"
     ]
    },
    {
     "name": "stdout",
     "output_type": "stream",
     "text": [
      "torch.Size([3, 250, 250])\n",
      "torch.Size([3, 250, 250]) (48,)\n",
      "torch.Size([3, 250, 250])\n",
      "torch.Size([3, 250, 250]) (48,)\n",
      "torch.Size([3, 250, 250])"
     ]
    },
    {
     "name": "stderr",
     "output_type": "stream",
     "text": [
      "Train Epoch 0:  12%|████▍                                | 203/1678 [00:40<04:55,  5.00batch/s, train_loss=-1.08e+4]"
     ]
    },
    {
     "name": "stdout",
     "output_type": "stream",
     "text": [
      "\n",
      "torch.Size([3, 250, 250]) (48,)\n",
      "torch.Size([3, 250, 250])\n",
      "torch.Size([3, 250, 250]) (48,)\n"
     ]
    },
    {
     "name": "stderr",
     "output_type": "stream",
     "text": [
      "Train Epoch 0:  12%|████▍                                | 204/1678 [00:40<04:55,  5.00batch/s, train_loss=-1.12e+4]"
     ]
    },
    {
     "name": "stdout",
     "output_type": "stream",
     "text": [
      "torch.Size([3, 250, 250])\n",
      "torch.Size([3, 250, 250]) (48,)\n",
      "torch.Size([3, 250, 250])\n",
      "torch.Size([3, 250, 250]) (48,)\n",
      "torch.Size([3, 250, 250])"
     ]
    },
    {
     "name": "stderr",
     "output_type": "stream",
     "text": [
      "Train Epoch 0:  12%|████▌                                | 205/1678 [00:41<04:55,  4.99batch/s, train_loss=-1.11e+4]"
     ]
    },
    {
     "name": "stdout",
     "output_type": "stream",
     "text": [
      "\n",
      "torch.Size([3, 250, 250]) (48,)\n",
      "torch.Size([3, 250, 250])\n",
      "torch.Size([3, 250, 250]) (48,)\n",
      "torch.Size([3, 250, 250])"
     ]
    },
    {
     "name": "stderr",
     "output_type": "stream",
     "text": [
      "Train Epoch 0:  12%|████▉                                   | 206/1678 [00:41<04:52,  5.02batch/s, train_loss=-1e+4]"
     ]
    },
    {
     "name": "stdout",
     "output_type": "stream",
     "text": [
      "\n",
      "torch.Size([3, 250, 250]) (48,)\n",
      "torch.Size([3, 250, 250])\n",
      "torch.Size([3, 250, 250]) (48,)\n"
     ]
    },
    {
     "name": "stderr",
     "output_type": "stream",
     "text": [
      "Train Epoch 0:  12%|████▌                                | 207/1678 [00:41<04:54,  5.00batch/s, train_loss=-1.12e+4]"
     ]
    },
    {
     "name": "stdout",
     "output_type": "stream",
     "text": [
      "torch.Size([3, 250, 250])\n",
      "torch.Size([3, 250, 250]) (48,)\n",
      "torch.Size([3, 250, 250])\n",
      "torch.Size([3, 250, 250]) (48,)\n",
      "torch.Size([3, 250, 250])"
     ]
    },
    {
     "name": "stderr",
     "output_type": "stream",
     "text": [
      "Train Epoch 0:  12%|████▌                                | 208/1678 [00:41<04:50,  5.06batch/s, train_loss=-1.23e+4]"
     ]
    },
    {
     "name": "stdout",
     "output_type": "stream",
     "text": [
      "\n",
      "torch.Size([3, 250, 250]) (48,)\n",
      "torch.Size([3, 250, 250])\n",
      "torch.Size([3, 250, 250]) (48,)\n",
      "torch.Size([3, 250, 250])"
     ]
    },
    {
     "name": "stderr",
     "output_type": "stream",
     "text": [
      "Train Epoch 0:  12%|████▌                                | 209/1678 [00:41<04:48,  5.10batch/s, train_loss=-1.24e+4]"
     ]
    },
    {
     "name": "stdout",
     "output_type": "stream",
     "text": [
      "\n",
      "torch.Size([3, 250, 250]) (48,)\n",
      "torch.Size([3, 250, 250])\n",
      "torch.Size([3, 250, 250]) (48,)\n",
      "torch.Size([3, 250, 250])"
     ]
    },
    {
     "name": "stderr",
     "output_type": "stream",
     "text": [
      "Train Epoch 0:  13%|████▋                                | 210/1678 [00:41<04:45,  5.13batch/s, train_loss=-1.37e+4]"
     ]
    },
    {
     "name": "stdout",
     "output_type": "stream",
     "text": [
      "\n",
      "torch.Size([3, 250, 250]) (48,)\n",
      "torch.Size([3, 250, 250])\n",
      "torch.Size([3, 250, 250]) (48,)\n"
     ]
    },
    {
     "name": "stderr",
     "output_type": "stream",
     "text": [
      "Train Epoch 0:  13%|████▋                                | 211/1678 [00:42<04:53,  4.99batch/s, train_loss=-1.34e+4]"
     ]
    },
    {
     "name": "stdout",
     "output_type": "stream",
     "text": [
      "torch.Size([3, 250, 250])\n",
      "torch.Size([3, 250, 250]) (48,)\n",
      "torch.Size([3, 250, 250])\n",
      "torch.Size([3, 250, 250]) (48,)\n",
      "torch.Size([3, 250, 250])"
     ]
    },
    {
     "name": "stderr",
     "output_type": "stream",
     "text": [
      "Train Epoch 0:  13%|████▋                                | 212/1678 [00:42<04:51,  5.03batch/s, train_loss=-1.37e+4]"
     ]
    },
    {
     "name": "stdout",
     "output_type": "stream",
     "text": [
      "\n",
      "torch.Size([3, 250, 250]) (48,)\n",
      "torch.Size([3, 250, 250])\n",
      "torch.Size([3, 250, 250]) (48,)\n"
     ]
    },
    {
     "name": "stderr",
     "output_type": "stream",
     "text": [
      "Train Epoch 0:  13%|████▊                                 | 213/1678 [00:42<04:54,  4.98batch/s, train_loss=-1.3e+4]"
     ]
    },
    {
     "name": "stdout",
     "output_type": "stream",
     "text": [
      "torch.Size([3, 250, 250])\n",
      "torch.Size([3, 250, 250]) (48,)\n",
      "torch.Size([3, 250, 250])\n",
      "torch.Size([3, 250, 250]) (48,)\n",
      "torch.Size([3, 250, 250])"
     ]
    },
    {
     "name": "stderr",
     "output_type": "stream",
     "text": [
      "Train Epoch 0:  13%|████▋                                | 214/1678 [00:42<04:52,  5.01batch/s, train_loss=-1.39e+4]"
     ]
    },
    {
     "name": "stdout",
     "output_type": "stream",
     "text": [
      "\n",
      "torch.Size([3, 250, 250]) (48,)\n",
      "torch.Size([3, 250, 250])\n",
      "torch.Size([3, 250, 250]) (48,)\n"
     ]
    },
    {
     "name": "stderr",
     "output_type": "stream",
     "text": [
      "Train Epoch 0:  13%|████▋                                | 215/1678 [00:43<04:58,  4.90batch/s, train_loss=-1.29e+4]"
     ]
    },
    {
     "name": "stdout",
     "output_type": "stream",
     "text": [
      "torch.Size([3, 250, 250])\n",
      "torch.Size([3, 250, 250]) (48,)\n",
      "torch.Size([3, 250, 250])\n",
      "torch.Size([3, 250, 250]) (48,)\n",
      "torch.Size([3, 250, 250])"
     ]
    },
    {
     "name": "stderr",
     "output_type": "stream",
     "text": [
      "Train Epoch 0:  13%|████▊                                | 216/1678 [00:43<04:52,  4.99batch/s, train_loss=-1.24e+4]"
     ]
    },
    {
     "name": "stdout",
     "output_type": "stream",
     "text": [
      "\n",
      "torch.Size([3, 250, 250]) (48,)\n",
      "torch.Size([3, 250, 250])\n",
      "torch.Size([3, 250, 250]) (48,)\n",
      "torch.Size([3, 250, 250])"
     ]
    },
    {
     "name": "stderr",
     "output_type": "stream",
     "text": [
      "Train Epoch 0:  13%|████▊                                | 217/1678 [00:43<04:49,  5.04batch/s, train_loss=-1.22e+4]"
     ]
    },
    {
     "name": "stdout",
     "output_type": "stream",
     "text": [
      "\n",
      "torch.Size([3, 250, 250]) (48,)\n",
      "torch.Size([3, 250, 250])\n",
      "torch.Size([3, 250, 250]) (48,)\n"
     ]
    },
    {
     "name": "stderr",
     "output_type": "stream",
     "text": [
      "Train Epoch 0:  13%|████▊                                | 218/1678 [00:43<04:53,  4.98batch/s, train_loss=-1.23e+4]"
     ]
    },
    {
     "name": "stdout",
     "output_type": "stream",
     "text": [
      "torch.Size([3, 250, 250])\n",
      "torch.Size([3, 250, 250]) (48,)\n",
      "torch.Size([3, 250, 250])\n",
      "torch.Size([3, 250, 250]) (48,)\n",
      "torch.Size([3, 250, 250])"
     ]
    },
    {
     "name": "stderr",
     "output_type": "stream",
     "text": [
      "Train Epoch 0:  13%|████▊                                | 219/1678 [00:43<04:48,  5.06batch/s, train_loss=-1.26e+4]"
     ]
    },
    {
     "name": "stdout",
     "output_type": "stream",
     "text": [
      "\n",
      "torch.Size([3, 250, 250]) (48,)\n",
      "torch.Size([3, 250, 250])\n",
      "torch.Size([3, 250, 250]) (48,)\n",
      "torch.Size([3, 250, 250])"
     ]
    },
    {
     "name": "stderr",
     "output_type": "stream",
     "text": [
      "Train Epoch 0:  13%|████▊                                | 220/1678 [00:43<04:45,  5.12batch/s, train_loss=-1.24e+4]"
     ]
    },
    {
     "name": "stdout",
     "output_type": "stream",
     "text": [
      "\n",
      "torch.Size([3, 250, 250]) (48,)\n",
      "torch.Size([3, 250, 250])\n",
      "torch.Size([3, 250, 250]) (48,)\n",
      "torch.Size([3, 250, 250])"
     ]
    },
    {
     "name": "stderr",
     "output_type": "stream",
     "text": [
      "Train Epoch 0:  13%|████▊                                | 221/1678 [00:44<04:46,  5.08batch/s, train_loss=-1.23e+4]"
     ]
    },
    {
     "name": "stdout",
     "output_type": "stream",
     "text": [
      "\n",
      "torch.Size([3, 250, 250]) (48,)\n",
      "torch.Size([3, 250, 250])\n",
      "torch.Size([3, 250, 250]) (48,)\n",
      "torch.Size([3, 250, 250])"
     ]
    },
    {
     "name": "stderr",
     "output_type": "stream",
     "text": [
      "Train Epoch 0:  13%|████▉                                | 222/1678 [00:44<04:47,  5.06batch/s, train_loss=-1.26e+4]"
     ]
    },
    {
     "name": "stdout",
     "output_type": "stream",
     "text": [
      "\n",
      "torch.Size([3, 250, 250]) (48,)\n",
      "torch.Size([3, 250, 250])\n",
      "torch.Size([3, 250, 250]) (48,)\n",
      "torch.Size([3, 250, 250])"
     ]
    },
    {
     "name": "stderr",
     "output_type": "stream",
     "text": [
      "Train Epoch 0:  13%|████▉                                | 223/1678 [00:44<04:48,  5.05batch/s, train_loss=-1.25e+4]"
     ]
    },
    {
     "name": "stdout",
     "output_type": "stream",
     "text": [
      "\n",
      "torch.Size([3, 250, 250]) (48,)\n",
      "torch.Size([3, 250, 250])\n",
      "torch.Size([3, 250, 250]) (48,)\n",
      "torch.Size([3, 250, 250])"
     ]
    },
    {
     "name": "stderr",
     "output_type": "stream",
     "text": [
      "Train Epoch 0:  13%|█████                                 | 224/1678 [00:44<04:45,  5.09batch/s, train_loss=-1.3e+4]"
     ]
    },
    {
     "name": "stdout",
     "output_type": "stream",
     "text": [
      "\n",
      "torch.Size([3, 250, 250]) (48,)\n",
      "torch.Size([3, 250, 250])"
     ]
    },
    {
     "name": "stderr",
     "output_type": "stream",
     "text": [
      "Train Epoch 0:  13%|████▉                                | 225/1678 [00:44<04:49,  5.02batch/s, train_loss=-1.13e+4]"
     ]
    },
    {
     "name": "stdout",
     "output_type": "stream",
     "text": [
      "\n",
      "torch.Size([3, 250, 250]) (48,)\n",
      "torch.Size([3, 250, 250])\n",
      "torch.Size([3, 250, 250]) (48,)\n",
      "torch.Size([3, 250, 250])"
     ]
    },
    {
     "name": "stderr",
     "output_type": "stream",
     "text": [
      "Train Epoch 0:  13%|████▉                                | 226/1678 [00:45<04:46,  5.06batch/s, train_loss=-1.29e+4]"
     ]
    },
    {
     "name": "stdout",
     "output_type": "stream",
     "text": [
      "\n",
      "torch.Size([3, 250, 250]) (48,)\n",
      "torch.Size([3, 250, 250])\n",
      "torch.Size([3, 250, 250]) (48,)\n",
      "torch.Size([3, 250, 250])"
     ]
    },
    {
     "name": "stderr",
     "output_type": "stream",
     "text": [
      "Train Epoch 0:  14%|█████                                | 227/1678 [00:45<04:47,  5.04batch/s, train_loss=-1.08e+4]"
     ]
    },
    {
     "name": "stdout",
     "output_type": "stream",
     "text": [
      "\n",
      "torch.Size([3, 250, 250]) (48,)\n",
      "torch.Size([3, 250, 250])\n",
      "torch.Size([3, 250, 250]) (48,)\n",
      "torch.Size([3, 250, 250])"
     ]
    },
    {
     "name": "stderr",
     "output_type": "stream",
     "text": [
      "Train Epoch 0:  14%|█████                                | 228/1678 [00:45<04:45,  5.09batch/s, train_loss=-1.03e+4]"
     ]
    },
    {
     "name": "stdout",
     "output_type": "stream",
     "text": [
      "\n",
      "torch.Size([3, 250, 250]) (48,)\n",
      "torch.Size([3, 250, 250])\n",
      "torch.Size([3, 250, 250]) (48,)\n",
      "torch.Size([3, 250, 250])"
     ]
    },
    {
     "name": "stderr",
     "output_type": "stream",
     "text": [
      "Train Epoch 0:  14%|█████                                | 229/1678 [00:45<04:41,  5.14batch/s, train_loss=-1.14e+4]"
     ]
    },
    {
     "name": "stdout",
     "output_type": "stream",
     "text": [
      "\n",
      "torch.Size([3, 250, 250]) (48,)\n",
      "torch.Size([3, 250, 250])\n",
      "torch.Size([3, 250, 250]) (48,)\n",
      "torch.Size([3, 250, 250])"
     ]
    },
    {
     "name": "stderr",
     "output_type": "stream",
     "text": [
      "Train Epoch 0:  14%|█████                                | 230/1678 [00:45<04:39,  5.18batch/s, train_loss=-1.29e+4]"
     ]
    },
    {
     "name": "stdout",
     "output_type": "stream",
     "text": [
      "\n",
      "torch.Size([3, 250, 250]) (48,)\n",
      "torch.Size([3, 250, 250])\n",
      "torch.Size([3, 250, 250]) (48,)\n",
      "torch.Size([3, 250, 250])"
     ]
    },
    {
     "name": "stderr",
     "output_type": "stream",
     "text": [
      "Train Epoch 0:  14%|█████                                | 231/1678 [00:46<04:40,  5.16batch/s, train_loss=-1.13e+4]"
     ]
    },
    {
     "name": "stdout",
     "output_type": "stream",
     "text": [
      "\n",
      "torch.Size([3, 250, 250]) (48,)\n",
      "torch.Size([3, 250, 250])\n",
      "torch.Size([3, 250, 250]) (48,)\n"
     ]
    },
    {
     "name": "stderr",
     "output_type": "stream",
     "text": [
      "Train Epoch 0:  14%|█████                                | 232/1678 [00:46<04:46,  5.05batch/s, train_loss=-1.16e+4]"
     ]
    },
    {
     "name": "stdout",
     "output_type": "stream",
     "text": [
      "torch.Size([3, 250, 250])\n",
      "torch.Size([3, 250, 250]) (48,)\n",
      "torch.Size([3, 250, 250])\n",
      "torch.Size([3, 250, 250]) (48,)\n",
      "torch.Size([3, 250, 250])"
     ]
    },
    {
     "name": "stderr",
     "output_type": "stream",
     "text": [
      "Train Epoch 0:  14%|█████▏                               | 233/1678 [00:46<04:42,  5.11batch/s, train_loss=-1.25e+4]"
     ]
    },
    {
     "name": "stdout",
     "output_type": "stream",
     "text": [
      "\n",
      "torch.Size([3, 250, 250]) (48,)\n",
      "torch.Size([3, 250, 250])\n",
      "torch.Size([3, 250, 250]) (48,)\n",
      "torch.Size([3, 250, 250])"
     ]
    },
    {
     "name": "stderr",
     "output_type": "stream",
     "text": [
      "Train Epoch 0:  14%|█████▏                               | 234/1678 [00:46<04:40,  5.15batch/s, train_loss=-1.26e+4]"
     ]
    },
    {
     "name": "stdout",
     "output_type": "stream",
     "text": [
      "\n",
      "torch.Size([3, 250, 250]) (48,)\n",
      "torch.Size([3, 250, 250])\n",
      "torch.Size([3, 250, 250]) (48,)\n",
      "torch.Size([3, 250, 250])"
     ]
    },
    {
     "name": "stderr",
     "output_type": "stream",
     "text": [
      "Train Epoch 0:  14%|█████▎                                | 235/1678 [00:46<04:38,  5.17batch/s, train_loss=-1.3e+4]"
     ]
    },
    {
     "name": "stdout",
     "output_type": "stream",
     "text": [
      "\n",
      "torch.Size([3, 250, 250]) (48,)\n",
      "torch.Size([3, 250, 250])\n",
      "torch.Size([3, 250, 250]) (48,)\n",
      "torch.Size([3, 250, 250])"
     ]
    },
    {
     "name": "stderr",
     "output_type": "stream",
     "text": [
      "Train Epoch 0:  14%|█████▏                               | 236/1678 [00:47<04:37,  5.20batch/s, train_loss=-1.32e+4]"
     ]
    },
    {
     "name": "stdout",
     "output_type": "stream",
     "text": [
      "\n",
      "torch.Size([3, 250, 250]) (48,)\n",
      "torch.Size([3, 250, 250])\n",
      "torch.Size([3, 250, 250]) (48,)\n",
      "torch.Size([3, 250, 250])"
     ]
    },
    {
     "name": "stderr",
     "output_type": "stream",
     "text": [
      "Train Epoch 0:  14%|█████▏                               | 237/1678 [00:47<04:36,  5.22batch/s, train_loss=-1.35e+4]"
     ]
    },
    {
     "name": "stdout",
     "output_type": "stream",
     "text": [
      "\n",
      "torch.Size([3, 250, 250]) (48,)\n",
      "torch.Size([3, 250, 250])\n",
      "torch.Size([3, 250, 250]) (48,)\n",
      "torch.Size([3, 250, 250])"
     ]
    },
    {
     "name": "stderr",
     "output_type": "stream",
     "text": [
      "Train Epoch 0:  14%|█████▏                               | 238/1678 [00:47<04:38,  5.17batch/s, train_loss=-1.23e+4]"
     ]
    },
    {
     "name": "stdout",
     "output_type": "stream",
     "text": [
      "\n",
      "torch.Size([3, 250, 250]) (48,)\n",
      "torch.Size([3, 250, 250])\n",
      "torch.Size([3, 250, 250]) (48,)\n",
      "torch.Size([3, 250, 250])"
     ]
    },
    {
     "name": "stderr",
     "output_type": "stream",
     "text": [
      "Train Epoch 0:  14%|█████▎                               | 239/1678 [00:47<04:33,  5.26batch/s, train_loss=-1.28e+4]"
     ]
    },
    {
     "name": "stdout",
     "output_type": "stream",
     "text": [
      "\n",
      "torch.Size([3, 250, 250]) (48,)\n",
      "torch.Size([3, 250, 250])\n",
      "torch.Size([3, 250, 250]) (48,)\n",
      "torch.Size([3, 250, 250])"
     ]
    },
    {
     "name": "stderr",
     "output_type": "stream",
     "text": [
      "Train Epoch 0:  14%|█████▎                               | 240/1678 [00:47<04:34,  5.24batch/s, train_loss=-1.25e+4]"
     ]
    },
    {
     "name": "stdout",
     "output_type": "stream",
     "text": [
      "\n",
      "torch.Size([3, 250, 250]) (48,)\n",
      "torch.Size([3, 250, 250])\n",
      "torch.Size([3, 250, 250]) (48,)\n"
     ]
    },
    {
     "name": "stderr",
     "output_type": "stream",
     "text": [
      "Train Epoch 0:  14%|█████▎                               | 241/1678 [00:48<04:40,  5.13batch/s, train_loss=-1.21e+4]"
     ]
    },
    {
     "name": "stdout",
     "output_type": "stream",
     "text": [
      "torch.Size([3, 250, 250])\n",
      "torch.Size([3, 250, 250]) (48,)\n",
      "torch.Size([3, 250, 250])\n",
      "torch.Size([3, 250, 250]) (48,)\n",
      "torch.Size([3, 250, 250])"
     ]
    },
    {
     "name": "stderr",
     "output_type": "stream",
     "text": [
      "Train Epoch 0:  14%|█████▎                               | 242/1678 [00:48<04:41,  5.09batch/s, train_loss=-1.27e+4]"
     ]
    },
    {
     "name": "stdout",
     "output_type": "stream",
     "text": [
      "\n",
      "torch.Size([3, 250, 250]) (48,)\n",
      "torch.Size([3, 250, 250])\n",
      "torch.Size([3, 250, 250]) (48,)\n",
      "torch.Size([3, 250, 250])"
     ]
    },
    {
     "name": "stderr",
     "output_type": "stream",
     "text": [
      "Train Epoch 0:  14%|█████▎                               | 243/1678 [00:48<04:37,  5.17batch/s, train_loss=-1.22e+4]"
     ]
    },
    {
     "name": "stdout",
     "output_type": "stream",
     "text": [
      "\n",
      "torch.Size([3, 250, 250]) (48,)\n",
      "torch.Size([3, 250, 250])\n",
      "torch.Size([3, 250, 250]) (48,)\n",
      "torch.Size([3, 250, 250])"
     ]
    },
    {
     "name": "stderr",
     "output_type": "stream",
     "text": [
      "Train Epoch 0:  15%|█████▍                               | 244/1678 [00:48<04:35,  5.20batch/s, train_loss=-1.23e+4]"
     ]
    },
    {
     "name": "stdout",
     "output_type": "stream",
     "text": [
      "\n",
      "torch.Size([3, 250, 250]) (48,)\n",
      "torch.Size([3, 250, 250])\n",
      "torch.Size([3, 250, 250]) (48,)\n",
      "torch.Size([3, 250, 250])"
     ]
    },
    {
     "name": "stderr",
     "output_type": "stream",
     "text": [
      "Train Epoch 0:  15%|█████▍                               | 245/1678 [00:48<04:34,  5.23batch/s, train_loss=-1.25e+4]"
     ]
    },
    {
     "name": "stdout",
     "output_type": "stream",
     "text": [
      "\n",
      "torch.Size([3, 250, 250]) (48,)\n",
      "torch.Size([3, 250, 250])\n",
      "torch.Size([3, 250, 250]) (48,)\n",
      "torch.Size([3, 250, 250])"
     ]
    },
    {
     "name": "stderr",
     "output_type": "stream",
     "text": [
      "Train Epoch 0:  15%|█████▍                               | 246/1678 [00:49<04:32,  5.26batch/s, train_loss=-1.26e+4]"
     ]
    },
    {
     "name": "stdout",
     "output_type": "stream",
     "text": [
      "\n",
      "torch.Size([3, 250, 250]) (48,)\n",
      "torch.Size([3, 250, 250])\n",
      "torch.Size([3, 250, 250]) (48,)\n",
      "torch.Size([3, 250, 250])"
     ]
    },
    {
     "name": "stderr",
     "output_type": "stream",
     "text": [
      "Train Epoch 0:  15%|█████▍                               | 247/1678 [00:49<04:30,  5.29batch/s, train_loss=-1.24e+4]"
     ]
    },
    {
     "name": "stdout",
     "output_type": "stream",
     "text": [
      "\n",
      "torch.Size([3, 250, 250]) (48,)\n",
      "torch.Size([3, 250, 250])\n",
      "torch.Size([3, 250, 250]) (48,)\n",
      "torch.Size([3, 250, 250])"
     ]
    },
    {
     "name": "stderr",
     "output_type": "stream",
     "text": [
      "Train Epoch 0:  15%|█████▍                               | 248/1678 [00:49<04:28,  5.32batch/s, train_loss=-1.21e+4]"
     ]
    },
    {
     "name": "stdout",
     "output_type": "stream",
     "text": [
      "\n",
      "torch.Size([3, 250, 250]) (48,)\n",
      "torch.Size([3, 250, 250])\n",
      "torch.Size([3, 250, 250]) (48,)\n",
      "torch.Size([3, 250, 250])"
     ]
    },
    {
     "name": "stderr",
     "output_type": "stream",
     "text": [
      "Train Epoch 0:  15%|█████▍                               | 249/1678 [00:49<04:29,  5.31batch/s, train_loss=-1.23e+4]"
     ]
    },
    {
     "name": "stdout",
     "output_type": "stream",
     "text": [
      "\n",
      "torch.Size([3, 250, 250]) (48,)\n",
      "torch.Size([3, 250, 250])\n",
      "torch.Size([3, 250, 250]) (48,)\n",
      "torch.Size([3, 250, 250])"
     ]
    },
    {
     "name": "stderr",
     "output_type": "stream",
     "text": [
      "Train Epoch 0:  15%|█████▌                               | 250/1678 [00:49<04:28,  5.32batch/s, train_loss=-1.13e+4]"
     ]
    },
    {
     "name": "stdout",
     "output_type": "stream",
     "text": [
      "\n",
      "torch.Size([3, 250, 250]) (48,)\n",
      "torch.Size([3, 250, 250])\n",
      "torch.Size([3, 250, 250]) (48,)\n",
      "torch.Size([3, 250, 250])"
     ]
    },
    {
     "name": "stderr",
     "output_type": "stream",
     "text": [
      "Train Epoch 0:  15%|█████▌                               | 251/1678 [00:49<04:25,  5.37batch/s, train_loss=-1.16e+4]"
     ]
    },
    {
     "name": "stdout",
     "output_type": "stream",
     "text": [
      "\n",
      "torch.Size([3, 250, 250]) (48,)\n",
      "torch.Size([3, 250, 250])\n",
      "torch.Size([3, 250, 250]) (48,)\n"
     ]
    },
    {
     "name": "stderr",
     "output_type": "stream",
     "text": [
      "Train Epoch 0:  15%|█████▋                                | 252/1678 [00:50<04:34,  5.20batch/s, train_loss=-1.4e+4]"
     ]
    },
    {
     "name": "stdout",
     "output_type": "stream",
     "text": [
      "torch.Size([3, 250, 250])\n",
      "torch.Size([3, 250, 250]) (48,)\n",
      "torch.Size([3, 250, 250])\n",
      "torch.Size([3, 250, 250]) (48,)\n"
     ]
    },
    {
     "name": "stderr",
     "output_type": "stream",
     "text": [
      "Train Epoch 0:  15%|█████▌                               | 253/1678 [00:50<04:31,  5.26batch/s, train_loss=-1.21e+4]"
     ]
    },
    {
     "name": "stdout",
     "output_type": "stream",
     "text": [
      "torch.Size([3, 250, 250])\n",
      "torch.Size([3, 250, 250]) (48,)\n",
      "torch.Size([3, 250, 250])\n",
      "torch.Size([3, 250, 250]) (48,)\n",
      "torch.Size([3, 250, 250])\n"
     ]
    },
    {
     "name": "stderr",
     "output_type": "stream",
     "text": [
      "Train Epoch 0:  15%|█████▌                               | 254/1678 [00:50<04:32,  5.22batch/s, train_loss=-1.18e+4]"
     ]
    },
    {
     "name": "stdout",
     "output_type": "stream",
     "text": [
      "torch.Size([3, 250, 250]) (48,)\n",
      "torch.Size([3, 250, 250])\n",
      "torch.Size([3, 250, 250]) (48,)\n",
      "torch.Size([3, 250, 250])\n",
      "torch.Size([3, 250, 250]) (48,)\n",
      "torch.Size([3, 250, 250])"
     ]
    },
    {
     "name": "stderr",
     "output_type": "stream",
     "text": [
      "Train Epoch 0:  15%|█████▊                                | 255/1678 [00:50<04:30,  5.25batch/s, train_loss=-1.2e+4]"
     ]
    },
    {
     "name": "stdout",
     "output_type": "stream",
     "text": [
      "\n",
      "torch.Size([3, 250, 250]) (48,)\n",
      "torch.Size([3, 250, 250])\n",
      "torch.Size([3, 250, 250]) (48,)\n",
      "torch.Size([3, 250, 250])"
     ]
    },
    {
     "name": "stderr",
     "output_type": "stream",
     "text": [
      "Train Epoch 0:  15%|█████▋                               | 256/1678 [00:50<04:29,  5.27batch/s, train_loss=-1.08e+4]"
     ]
    },
    {
     "name": "stdout",
     "output_type": "stream",
     "text": [
      "\n",
      "torch.Size([3, 250, 250]) (48,)\n",
      "torch.Size([3, 250, 250])\n",
      "torch.Size([3, 250, 250]) (48,)\n",
      "torch.Size([3, 250, 250])"
     ]
    },
    {
     "name": "stderr",
     "output_type": "stream",
     "text": [
      "Train Epoch 0:  15%|█████▋                               | 257/1678 [00:51<04:29,  5.26batch/s, train_loss=-1.28e+4]"
     ]
    },
    {
     "name": "stdout",
     "output_type": "stream",
     "text": [
      "\n",
      "torch.Size([3, 250, 250]) (48,)\n",
      "torch.Size([3, 250, 250])\n",
      "torch.Size([3, 250, 250]) (48,)\n",
      "torch.Size([3, 250, 250])\n",
      "torch.Size([3, 250, 250]) (48,)\n"
     ]
    },
    {
     "name": "stderr",
     "output_type": "stream",
     "text": [
      "Train Epoch 0:  15%|█████▋                               | 259/1678 [00:51<04:32,  5.21batch/s, train_loss=-1.24e+4]"
     ]
    },
    {
     "name": "stdout",
     "output_type": "stream",
     "text": [
      "torch.Size([3, 250, 250])\n",
      "torch.Size([3, 250, 250]) (48,)\n",
      "torch.Size([3, 250, 250])\n",
      "torch.Size([3, 250, 250]) (48,)\n",
      "torch.Size([3, 250, 250])"
     ]
    },
    {
     "name": "stderr",
     "output_type": "stream",
     "text": [
      "Train Epoch 0:  15%|█████▋                               | 260/1678 [00:51<04:29,  5.27batch/s, train_loss=-1.19e+4]"
     ]
    },
    {
     "name": "stdout",
     "output_type": "stream",
     "text": [
      "\n",
      "torch.Size([3, 250, 250]) (48,)\n",
      "torch.Size([3, 250, 250])\n",
      "torch.Size([3, 250, 250]) (48,)\n"
     ]
    },
    {
     "name": "stderr",
     "output_type": "stream",
     "text": [
      "Train Epoch 0:  16%|█████▊                               | 261/1678 [00:51<04:34,  5.17batch/s, train_loss=-1.26e+4]"
     ]
    },
    {
     "name": "stdout",
     "output_type": "stream",
     "text": [
      "torch.Size([3, 250, 250])\n",
      "torch.Size([3, 250, 250]) (48,)\n",
      "torch.Size([3, 250, 250])\n",
      "torch.Size([3, 250, 250]) (48,)\n"
     ]
    },
    {
     "name": "stderr",
     "output_type": "stream",
     "text": [
      "Train Epoch 0:  16%|█████▉                                | 262/1678 [00:52<04:39,  5.07batch/s, train_loss=-1.1e+4]"
     ]
    },
    {
     "name": "stdout",
     "output_type": "stream",
     "text": [
      "torch.Size([3, 250, 250])\n",
      "torch.Size([3, 250, 250]) (48,)\n",
      "torch.Size([3, 250, 250])\n",
      "torch.Size([3, 250, 250]) (48,)\n",
      "torch.Size([3, 250, 250])"
     ]
    },
    {
     "name": "stderr",
     "output_type": "stream",
     "text": [
      "Train Epoch 0:  16%|█████▉                                | 263/1678 [00:52<04:36,  5.11batch/s, train_loss=-1.3e+4]"
     ]
    },
    {
     "name": "stdout",
     "output_type": "stream",
     "text": [
      "\n",
      "torch.Size([3, 250, 250]) (48,)\n",
      "torch.Size([3, 250, 250])\n",
      "torch.Size([3, 250, 250]) (48,)\n",
      "torch.Size([3, 250, 250])"
     ]
    },
    {
     "name": "stderr",
     "output_type": "stream",
     "text": [
      "Train Epoch 0:  16%|█████▊                               | 264/1678 [00:52<04:37,  5.09batch/s, train_loss=-1.26e+4]"
     ]
    },
    {
     "name": "stdout",
     "output_type": "stream",
     "text": [
      "\n",
      "torch.Size([3, 250, 250]) (48,)\n",
      "torch.Size([3, 250, 250])\n",
      "torch.Size([3, 250, 250]) (48,)\n",
      "torch.Size([3, 250, 250])"
     ]
    },
    {
     "name": "stderr",
     "output_type": "stream",
     "text": [
      "Train Epoch 0:  16%|█████▊                               | 265/1678 [00:52<04:34,  5.15batch/s, train_loss=-1.25e+4]"
     ]
    },
    {
     "name": "stdout",
     "output_type": "stream",
     "text": [
      "\n",
      "torch.Size([3, 250, 250]) (48,)\n",
      "torch.Size([3, 250, 250])\n",
      "torch.Size([3, 250, 250]) (48,)\n",
      "torch.Size([3, 250, 250])"
     ]
    },
    {
     "name": "stderr",
     "output_type": "stream",
     "text": [
      "Train Epoch 0:  16%|█████▊                               | 266/1678 [00:52<04:32,  5.19batch/s, train_loss=-1.24e+4]"
     ]
    },
    {
     "name": "stdout",
     "output_type": "stream",
     "text": [
      "\n",
      "torch.Size([3, 250, 250]) (48,)\n",
      "torch.Size([3, 250, 250])\n",
      "torch.Size([3, 250, 250]) (48,)\n"
     ]
    },
    {
     "name": "stderr",
     "output_type": "stream",
     "text": [
      "Train Epoch 0:  16%|█████▉                               | 267/1678 [00:53<04:35,  5.12batch/s, train_loss=-1.34e+4]"
     ]
    },
    {
     "name": "stdout",
     "output_type": "stream",
     "text": [
      "torch.Size([3, 250, 250])\n",
      "torch.Size([3, 250, 250]) (48,)\n",
      "torch.Size([3, 250, 250])\n",
      "torch.Size([3, 250, 250]) (48,)\n",
      "torch.Size([3, 250, 250])"
     ]
    },
    {
     "name": "stderr",
     "output_type": "stream",
     "text": [
      "Train Epoch 0:  16%|██████                                | 268/1678 [00:53<04:32,  5.18batch/s, train_loss=-1.3e+4]"
     ]
    },
    {
     "name": "stdout",
     "output_type": "stream",
     "text": [
      "\n",
      "torch.Size([3, 250, 250]) (48,)\n",
      "torch.Size([3, 250, 250])\n",
      "torch.Size([3, 250, 250]) (48,)\n",
      "torch.Size([3, 250, 250])"
     ]
    },
    {
     "name": "stderr",
     "output_type": "stream",
     "text": [
      "Train Epoch 0:  16%|█████▉                               | 269/1678 [00:53<04:29,  5.23batch/s, train_loss=-1.22e+4]"
     ]
    },
    {
     "name": "stdout",
     "output_type": "stream",
     "text": [
      "\n",
      "torch.Size([3, 250, 250]) (48,)\n",
      "torch.Size([3, 250, 250])\n",
      "torch.Size([3, 250, 250]) (48,)\n",
      "torch.Size([3, 250, 250])"
     ]
    },
    {
     "name": "stderr",
     "output_type": "stream",
     "text": [
      "Train Epoch 0:  16%|█████▉                               | 270/1678 [00:53<04:28,  5.25batch/s, train_loss=-1.26e+4]"
     ]
    },
    {
     "name": "stdout",
     "output_type": "stream",
     "text": [
      "\n",
      "torch.Size([3, 250, 250]) (48,)\n",
      "torch.Size([3, 250, 250])\n",
      "torch.Size([3, 250, 250]) (48,)\n",
      "torch.Size([3, 250, 250])"
     ]
    },
    {
     "name": "stderr",
     "output_type": "stream",
     "text": [
      "Train Epoch 0:  16%|█████▉                               | 271/1678 [00:53<04:25,  5.31batch/s, train_loss=-1.22e+4]"
     ]
    },
    {
     "name": "stdout",
     "output_type": "stream",
     "text": [
      "\n",
      "torch.Size([3, 250, 250]) (48,)\n",
      "torch.Size([3, 250, 250])\n",
      "torch.Size([3, 250, 250]) (48,)\n",
      "torch.Size([3, 250, 250])\n",
      "torch.Size([3, 250, 250]) (48,)\n",
      "torch.Size([3, 250, 250])"
     ]
    },
    {
     "name": "stderr",
     "output_type": "stream",
     "text": [
      "Train Epoch 0:  16%|█████▉                               | 272/1678 [00:53<04:23,  5.33batch/s, train_loss=-1.23e+4]"
     ]
    },
    {
     "name": "stdout",
     "output_type": "stream",
     "text": [
      "\n",
      "torch.Size([3, 250, 250]) (48,)\n",
      "torch.Size([3, 250, 250])\n",
      "torch.Size([3, 250, 250]) (48,)\n",
      "torch.Size([3, 250, 250])"
     ]
    },
    {
     "name": "stderr",
     "output_type": "stream",
     "text": [
      "Train Epoch 0:  16%|██████                               | 273/1678 [00:54<04:26,  5.27batch/s, train_loss=-1.31e+4]"
     ]
    },
    {
     "name": "stdout",
     "output_type": "stream",
     "text": [
      "\n",
      "torch.Size([3, 250, 250]) (48,)\n",
      "torch.Size([3, 250, 250])\n",
      "torch.Size([3, 250, 250]) (48,)\n",
      "torch.Size([3, 250, 250])"
     ]
    },
    {
     "name": "stderr",
     "output_type": "stream",
     "text": [
      "Train Epoch 0:  16%|██████                               | 274/1678 [00:54<04:28,  5.23batch/s, train_loss=-1.24e+4]"
     ]
    },
    {
     "name": "stdout",
     "output_type": "stream",
     "text": [
      "\n",
      "torch.Size([3, 250, 250]) (48,)\n",
      "torch.Size([3, 250, 250])\n",
      "torch.Size([3, 250, 250]) (48,)\n",
      "torch.Size([3, 250, 250])"
     ]
    },
    {
     "name": "stderr",
     "output_type": "stream",
     "text": [
      "Train Epoch 0:  16%|██████                               | 275/1678 [00:54<04:26,  5.26batch/s, train_loss=-1.25e+4]"
     ]
    },
    {
     "name": "stdout",
     "output_type": "stream",
     "text": [
      "\n",
      "torch.Size([3, 250, 250]) (48,)\n",
      "torch.Size([3, 250, 250])\n",
      "torch.Size([3, 250, 250]) (48,)\n",
      "torch.Size([3, 250, 250])"
     ]
    },
    {
     "name": "stderr",
     "output_type": "stream",
     "text": [
      "Train Epoch 0:  16%|██████                               | 276/1678 [00:54<04:25,  5.29batch/s, train_loss=-1.28e+4]"
     ]
    },
    {
     "name": "stdout",
     "output_type": "stream",
     "text": [
      "\n",
      "torch.Size([3, 250, 250]) (48,)\n",
      "torch.Size([3, 250, 250])\n",
      "torch.Size([3, 250, 250]) (48,)\n",
      "torch.Size([3, 250, 250])\n"
     ]
    },
    {
     "name": "stderr",
     "output_type": "stream",
     "text": [
      "Train Epoch 0:  17%|██████                               | 277/1678 [00:54<04:25,  5.27batch/s, train_loss=-1.23e+4]"
     ]
    },
    {
     "name": "stdout",
     "output_type": "stream",
     "text": [
      "torch.Size([3, 250, 250]) (48,)\n",
      "torch.Size([3, 250, 250])\n",
      "torch.Size([3, 250, 250]) (48,)\n",
      "torch.Size([3, 250, 250])"
     ]
    },
    {
     "name": "stderr",
     "output_type": "stream",
     "text": [
      "Train Epoch 0:  17%|██████▏                              | 278/1678 [00:55<04:23,  5.30batch/s, train_loss=-1.25e+4]"
     ]
    },
    {
     "name": "stdout",
     "output_type": "stream",
     "text": [
      "\n",
      "torch.Size([3, 250, 250]) (48,)\n",
      "torch.Size([3, 250, 250])\n",
      "torch.Size([3, 250, 250]) (48,)\n",
      "torch.Size([3, 250, 250])"
     ]
    },
    {
     "name": "stderr",
     "output_type": "stream",
     "text": [
      "Train Epoch 0:  17%|██████▏                              | 279/1678 [00:55<04:23,  5.30batch/s, train_loss=-1.24e+4]"
     ]
    },
    {
     "name": "stdout",
     "output_type": "stream",
     "text": [
      "\n",
      "torch.Size([3, 250, 250]) (48,)\n",
      "torch.Size([3, 250, 250])\n",
      "torch.Size([3, 250, 250]) (48,)\n",
      "torch.Size([3, 250, 250])"
     ]
    },
    {
     "name": "stderr",
     "output_type": "stream",
     "text": [
      "Train Epoch 0:  17%|██████▏                              | 280/1678 [00:55<04:26,  5.25batch/s, train_loss=-1.22e+4]"
     ]
    },
    {
     "name": "stdout",
     "output_type": "stream",
     "text": [
      "\n",
      "torch.Size([3, 250, 250]) (48,)\n",
      "torch.Size([3, 250, 250])\n",
      "torch.Size([3, 250, 250]) (48,)\n",
      "torch.Size([3, 250, 250])"
     ]
    },
    {
     "name": "stderr",
     "output_type": "stream",
     "text": [
      "Train Epoch 0:  17%|██████▏                              | 281/1678 [00:55<04:23,  5.29batch/s, train_loss=-1.26e+4]"
     ]
    },
    {
     "name": "stdout",
     "output_type": "stream",
     "text": [
      "\n",
      "torch.Size([3, 250, 250]) (48,)\n",
      "torch.Size([3, 250, 250])\n",
      "torch.Size([3, 250, 250]) (48,)\n",
      "torch.Size([3, 250, 250])"
     ]
    },
    {
     "name": "stderr",
     "output_type": "stream",
     "text": [
      "Train Epoch 0:  17%|██████▏                              | 282/1678 [00:55<04:21,  5.34batch/s, train_loss=-1.24e+4]"
     ]
    },
    {
     "name": "stdout",
     "output_type": "stream",
     "text": [
      "\n",
      "torch.Size([3, 250, 250]) (48,)\n",
      "torch.Size([3, 250, 250])\n",
      "torch.Size([3, 250, 250]) (48,)\n",
      "torch.Size([3, 250, 250])\n",
      "torch.Size([3, 250, 250]) (48,)"
     ]
    },
    {
     "name": "stderr",
     "output_type": "stream",
     "text": [
      "Train Epoch 0:  17%|██████▏                              | 283/1678 [00:56<04:19,  5.38batch/s, train_loss=-1.17e+4]"
     ]
    },
    {
     "name": "stdout",
     "output_type": "stream",
     "text": [
      "\n",
      "torch.Size([3, 250, 250])\n",
      "torch.Size([3, 250, 250]) (48,)\n",
      "torch.Size([3, 250, 250])\n",
      "torch.Size([3, 250, 250]) (48,)\n"
     ]
    },
    {
     "name": "stderr",
     "output_type": "stream",
     "text": [
      "Train Epoch 0:  17%|██████▍                               | 285/1678 [00:56<04:18,  5.38batch/s, train_loss=-1.3e+4]"
     ]
    },
    {
     "name": "stdout",
     "output_type": "stream",
     "text": [
      "torch.Size([3, 250, 250])\n",
      "torch.Size([3, 250, 250]) (48,)\n",
      "torch.Size([3, 250, 250])\n",
      "torch.Size([3, 250, 250]) (48,)\n",
      "torch.Size([3, 250, 250])"
     ]
    },
    {
     "name": "stderr",
     "output_type": "stream",
     "text": [
      "Train Epoch 0:  17%|██████▎                              | 286/1678 [00:56<04:24,  5.27batch/s, train_loss=-1.21e+4]"
     ]
    },
    {
     "name": "stdout",
     "output_type": "stream",
     "text": [
      "\n",
      "torch.Size([3, 250, 250]) (48,)\n",
      "torch.Size([3, 250, 250])\n",
      "torch.Size([3, 250, 250]) (48,)\n",
      "torch.Size([3, 250, 250])"
     ]
    },
    {
     "name": "stderr",
     "output_type": "stream",
     "text": [
      "Train Epoch 0:  17%|██████▎                              | 287/1678 [00:56<04:21,  5.32batch/s, train_loss=-1.12e+4]"
     ]
    },
    {
     "name": "stdout",
     "output_type": "stream",
     "text": [
      "\n",
      "torch.Size([3, 250, 250]) (48,)\n",
      "torch.Size([3, 250, 250])\n",
      "torch.Size([3, 250, 250]) (48,)\n",
      "torch.Size([3, 250, 250])"
     ]
    },
    {
     "name": "stderr",
     "output_type": "stream",
     "text": [
      "Train Epoch 0:  17%|██████▎                              | 288/1678 [00:57<04:21,  5.32batch/s, train_loss=-1.21e+4]"
     ]
    },
    {
     "name": "stdout",
     "output_type": "stream",
     "text": [
      "\n",
      "torch.Size([3, 250, 250]) (48,)\n",
      "torch.Size([3, 250, 250])\n",
      "torch.Size([3, 250, 250]) (48,)\n",
      "torch.Size([3, 250, 250])"
     ]
    },
    {
     "name": "stderr",
     "output_type": "stream",
     "text": [
      "Train Epoch 0:  17%|██████▎                              | 289/1678 [00:57<04:22,  5.30batch/s, train_loss=-1.19e+4]"
     ]
    },
    {
     "name": "stdout",
     "output_type": "stream",
     "text": [
      "\n",
      "torch.Size([3, 250, 250]) (48,)\n",
      "torch.Size([3, 250, 250])\n",
      "torch.Size([3, 250, 250]) (48,)\n",
      "torch.Size([3, 250, 250])"
     ]
    },
    {
     "name": "stderr",
     "output_type": "stream",
     "text": [
      "Train Epoch 0:  17%|██████▍                              | 290/1678 [00:57<04:22,  5.29batch/s, train_loss=-1.22e+4]"
     ]
    },
    {
     "name": "stdout",
     "output_type": "stream",
     "text": [
      "\n",
      "torch.Size([3, 250, 250]) (48,)\n",
      "torch.Size([3, 250, 250])\n",
      "torch.Size([3, 250, 250]) (48,)\n",
      "torch.Size([3, 250, 250])"
     ]
    },
    {
     "name": "stderr",
     "output_type": "stream",
     "text": [
      "Train Epoch 0:  17%|██████▌                               | 291/1678 [00:57<04:25,  5.22batch/s, train_loss=-1.3e+4]"
     ]
    },
    {
     "name": "stdout",
     "output_type": "stream",
     "text": [
      "\n",
      "torch.Size([3, 250, 250]) (48,)\n",
      "torch.Size([3, 250, 250])\n",
      "torch.Size([3, 250, 250]) (48,)\n"
     ]
    },
    {
     "name": "stderr",
     "output_type": "stream",
     "text": [
      "Train Epoch 0:  17%|██████▍                              | 292/1678 [00:57<04:26,  5.20batch/s, train_loss=-1.33e+4]"
     ]
    },
    {
     "name": "stdout",
     "output_type": "stream",
     "text": [
      "torch.Size([3, 250, 250])\n",
      "torch.Size([3, 250, 250]) (48,)\n",
      "torch.Size([3, 250, 250])\n",
      "torch.Size([3, 250, 250]) (48,)\n",
      "torch.Size([3, 250, 250])"
     ]
    },
    {
     "name": "stderr",
     "output_type": "stream",
     "text": [
      "Train Epoch 0:  17%|██████▍                              | 293/1678 [00:57<04:28,  5.15batch/s, train_loss=-1.21e+4]"
     ]
    },
    {
     "name": "stdout",
     "output_type": "stream",
     "text": [
      "\n",
      "torch.Size([3, 250, 250]) (48,)\n",
      "torch.Size([3, 250, 250])\n",
      "torch.Size([3, 250, 250]) (48,)\n"
     ]
    },
    {
     "name": "stderr",
     "output_type": "stream",
     "text": [
      "Train Epoch 0:  18%|██████▍                              | 294/1678 [00:58<04:34,  5.05batch/s, train_loss=-1.23e+4]"
     ]
    },
    {
     "name": "stdout",
     "output_type": "stream",
     "text": [
      "torch.Size([3, 250, 250])\n",
      "torch.Size([3, 250, 250]) (48,)\n",
      "torch.Size([3, 250, 250])\n",
      "torch.Size([3, 250, 250]) (48,)\n",
      "torch.Size([3, 250, 250])"
     ]
    },
    {
     "name": "stderr",
     "output_type": "stream",
     "text": [
      "Train Epoch 0:  18%|██████▌                              | 295/1678 [00:58<04:34,  5.05batch/s, train_loss=-1.14e+4]"
     ]
    },
    {
     "name": "stdout",
     "output_type": "stream",
     "text": [
      "\n",
      "torch.Size([3, 250, 250]) (48,)\n",
      "torch.Size([3, 250, 250])\n",
      "torch.Size([3, 250, 250]) (48,)\n"
     ]
    },
    {
     "name": "stderr",
     "output_type": "stream",
     "text": [
      "Train Epoch 0:  18%|██████▌                              | 296/1678 [00:58<04:32,  5.07batch/s, train_loss=-1.38e+4]"
     ]
    },
    {
     "name": "stdout",
     "output_type": "stream",
     "text": [
      "torch.Size([3, 250, 250])\n",
      "torch.Size([3, 250, 250]) (48,)\n",
      "torch.Size([3, 250, 250])\n",
      "torch.Size([3, 250, 250]) (48,)\n",
      "torch.Size([3, 250, 250])"
     ]
    },
    {
     "name": "stderr",
     "output_type": "stream",
     "text": [
      "Train Epoch 0:  18%|██████▋                               | 297/1678 [00:58<04:29,  5.13batch/s, train_loss=-1.2e+4]"
     ]
    },
    {
     "name": "stdout",
     "output_type": "stream",
     "text": [
      "\n",
      "torch.Size([3, 250, 250]) (48,)\n",
      "torch.Size([3, 250, 250])\n",
      "torch.Size([3, 250, 250]) (48,)\n",
      "torch.Size([3, 250, 250])"
     ]
    },
    {
     "name": "stderr",
     "output_type": "stream",
     "text": [
      "Train Epoch 0:  18%|██████▌                              | 298/1678 [00:58<04:30,  5.09batch/s, train_loss=-1.37e+4]"
     ]
    },
    {
     "name": "stdout",
     "output_type": "stream",
     "text": [
      "\n",
      "torch.Size([3, 250, 250]) (48,)\n",
      "torch.Size([3, 250, 250])\n",
      "torch.Size([3, 250, 250]) (48,)\n",
      "torch.Size([3, 250, 250])"
     ]
    },
    {
     "name": "stderr",
     "output_type": "stream",
     "text": [
      "Train Epoch 0:  18%|██████▊                               | 299/1678 [00:59<04:27,  5.15batch/s, train_loss=-1.2e+4]"
     ]
    },
    {
     "name": "stdout",
     "output_type": "stream",
     "text": [
      "\n",
      "torch.Size([3, 250, 250]) (48,)\n",
      "torch.Size([3, 250, 250])\n",
      "torch.Size([3, 250, 250]) (48,)\n",
      "torch.Size([3, 250, 250])"
     ]
    },
    {
     "name": "stderr",
     "output_type": "stream",
     "text": [
      "Train Epoch 0:  18%|██████▌                              | 300/1678 [00:59<04:25,  5.20batch/s, train_loss=-1.43e+4]"
     ]
    },
    {
     "name": "stdout",
     "output_type": "stream",
     "text": [
      "\n",
      "torch.Size([3, 250, 250]) (48,)\n",
      "torch.Size([3, 250, 250])\n",
      "torch.Size([3, 250, 250]) (48,)\n",
      "torch.Size([3, 250, 250])"
     ]
    },
    {
     "name": "stderr",
     "output_type": "stream",
     "text": [
      "Train Epoch 0:  18%|██████▋                              | 301/1678 [00:59<04:26,  5.16batch/s, train_loss=-1.23e+4]"
     ]
    },
    {
     "name": "stdout",
     "output_type": "stream",
     "text": [
      "\n",
      "torch.Size([3, 250, 250]) (48,)\n",
      "torch.Size([3, 250, 250])\n",
      "torch.Size([3, 250, 250]) (48,)\n",
      "torch.Size([3, 250, 250])"
     ]
    },
    {
     "name": "stderr",
     "output_type": "stream",
     "text": [
      "Train Epoch 0:  18%|██████▋                              | 302/1678 [00:59<04:22,  5.23batch/s, train_loss=-1.35e+4]"
     ]
    },
    {
     "name": "stdout",
     "output_type": "stream",
     "text": [
      "\n",
      "torch.Size([3, 250, 250]) (48,)\n",
      "torch.Size([3, 250, 250])\n",
      "torch.Size([3, 250, 250]) (48,)\n",
      "torch.Size([3, 250, 250])\n",
      "torch.Size([3, 250, 250]) (48,)\n",
      "torch.Size([3, 250, 250])"
     ]
    },
    {
     "name": "stderr",
     "output_type": "stream",
     "text": [
      "Train Epoch 0:  18%|██████▋                              | 303/1678 [00:59<04:19,  5.30batch/s, train_loss=-1.25e+4]"
     ]
    },
    {
     "name": "stdout",
     "output_type": "stream",
     "text": [
      "\n",
      "torch.Size([3, 250, 250]) (48,)\n",
      "torch.Size([3, 250, 250])\n",
      "torch.Size([3, 250, 250]) (48,)\n",
      "torch.Size([3, 250, 250])"
     ]
    },
    {
     "name": "stderr",
     "output_type": "stream",
     "text": [
      "Train Epoch 0:  18%|██████▋                              | 304/1678 [01:00<04:21,  5.26batch/s, train_loss=-1.27e+4]"
     ]
    },
    {
     "name": "stdout",
     "output_type": "stream",
     "text": [
      "\n",
      "torch.Size([3, 250, 250]) (48,)\n",
      "torch.Size([3, 250, 250])\n",
      "torch.Size([3, 250, 250]) (48,)\n",
      "torch.Size([3, 250, 250])"
     ]
    },
    {
     "name": "stderr",
     "output_type": "stream",
     "text": [
      "Train Epoch 0:  18%|██████▋                              | 305/1678 [01:00<04:20,  5.28batch/s, train_loss=-1.26e+4]"
     ]
    },
    {
     "name": "stdout",
     "output_type": "stream",
     "text": [
      "\n",
      "torch.Size([3, 250, 250]) (48,)\n",
      "torch.Size([3, 250, 250])\n",
      "torch.Size([3, 250, 250]) (48,)\n",
      "torch.Size([3, 250, 250])"
     ]
    },
    {
     "name": "stderr",
     "output_type": "stream",
     "text": [
      "Train Epoch 0:  18%|██████▉                               | 306/1678 [01:00<04:18,  5.31batch/s, train_loss=-1.2e+4]"
     ]
    },
    {
     "name": "stdout",
     "output_type": "stream",
     "text": [
      "\n",
      "torch.Size([3, 250, 250]) (48,)\n",
      "torch.Size([3, 250, 250])\n",
      "torch.Size([3, 250, 250]) (48,)\n",
      "torch.Size([3, 250, 250])"
     ]
    },
    {
     "name": "stderr",
     "output_type": "stream",
     "text": [
      "Train Epoch 0:  18%|██████▊                              | 307/1678 [01:00<04:17,  5.33batch/s, train_loss=-1.23e+4]"
     ]
    },
    {
     "name": "stdout",
     "output_type": "stream",
     "text": [
      "\n",
      "torch.Size([3, 250, 250]) (48,)\n",
      "torch.Size([3, 250, 250])\n",
      "torch.Size([3, 250, 250]) (48,)\n",
      "torch.Size([3, 250, 250])"
     ]
    },
    {
     "name": "stderr",
     "output_type": "stream",
     "text": [
      "Train Epoch 0:  18%|██████▊                              | 308/1678 [01:00<04:23,  5.20batch/s, train_loss=-1.21e+4]"
     ]
    },
    {
     "name": "stdout",
     "output_type": "stream",
     "text": [
      "\n",
      "torch.Size([3, 250, 250]) (48,)\n",
      "torch.Size([3, 250, 250])\n",
      "torch.Size([3, 250, 250]) (48,)\n",
      "torch.Size([3, 250, 250])"
     ]
    },
    {
     "name": "stderr",
     "output_type": "stream",
     "text": [
      "Train Epoch 0:  18%|██████▉                               | 309/1678 [01:01<04:22,  5.22batch/s, train_loss=-1.2e+4]"
     ]
    },
    {
     "name": "stdout",
     "output_type": "stream",
     "text": [
      "\n",
      "torch.Size([3, 250, 250]) (48,)\n",
      "torch.Size([3, 250, 250])\n",
      "torch.Size([3, 250, 250]) (48,)\n",
      "torch.Size([3, 250, 250])"
     ]
    },
    {
     "name": "stderr",
     "output_type": "stream",
     "text": [
      "Train Epoch 0:  18%|██████▊                              | 310/1678 [01:01<04:24,  5.16batch/s, train_loss=-1.21e+4]"
     ]
    },
    {
     "name": "stdout",
     "output_type": "stream",
     "text": [
      "\n",
      "torch.Size([3, 250, 250]) (48,)\n",
      "torch.Size([3, 250, 250])\n",
      "torch.Size([3, 250, 250]) (48,)\n",
      "torch.Size([3, 250, 250])"
     ]
    },
    {
     "name": "stderr",
     "output_type": "stream",
     "text": [
      "Train Epoch 0:  19%|██████▊                              | 311/1678 [01:01<04:21,  5.22batch/s, train_loss=-1.24e+4]"
     ]
    },
    {
     "name": "stdout",
     "output_type": "stream",
     "text": [
      "\n",
      "torch.Size([3, 250, 250]) (48,)\n",
      "torch.Size([3, 250, 250])\n",
      "torch.Size([3, 250, 250]) (48,)\n",
      "torch.Size([3, 250, 250])"
     ]
    },
    {
     "name": "stderr",
     "output_type": "stream",
     "text": [
      "Train Epoch 0:  19%|██████▉                              | 312/1678 [01:01<04:18,  5.28batch/s, train_loss=-1.22e+4]"
     ]
    },
    {
     "name": "stdout",
     "output_type": "stream",
     "text": [
      "\n",
      "torch.Size([3, 250, 250]) (48,)\n",
      "torch.Size([3, 250, 250])\n",
      "torch.Size([3, 250, 250]) (48,)\n",
      "torch.Size([3, 250, 250])\n",
      "torch.Size([3, 250, 250]) (48,)\n"
     ]
    },
    {
     "name": "stderr",
     "output_type": "stream",
     "text": [
      "Train Epoch 0:  19%|██████▉                              | 314/1678 [01:02<04:15,  5.34batch/s, train_loss=-1.19e+4]"
     ]
    },
    {
     "name": "stdout",
     "output_type": "stream",
     "text": [
      "torch.Size([3, 250, 250])\n",
      "torch.Size([3, 250, 250]) (48,)\n",
      "torch.Size([3, 250, 250])\n",
      "torch.Size([3, 250, 250]) (48,)\n",
      "torch.Size([3, 250, 250])"
     ]
    },
    {
     "name": "stderr",
     "output_type": "stream",
     "text": [
      "Train Epoch 0:  19%|██████▉                              | 315/1678 [01:02<04:14,  5.36batch/s, train_loss=-1.26e+4]"
     ]
    },
    {
     "name": "stdout",
     "output_type": "stream",
     "text": [
      "\n",
      "torch.Size([3, 250, 250]) (48,)\n",
      "torch.Size([3, 250, 250])\n",
      "torch.Size([3, 250, 250]) (48,)\n",
      "torch.Size([3, 250, 250])"
     ]
    },
    {
     "name": "stderr",
     "output_type": "stream",
     "text": [
      "Train Epoch 0:  19%|██████▉                              | 316/1678 [01:02<04:17,  5.28batch/s, train_loss=-1.18e+4]"
     ]
    },
    {
     "name": "stdout",
     "output_type": "stream",
     "text": [
      "\n",
      "torch.Size([3, 250, 250]) (48,)\n",
      "torch.Size([3, 250, 250])\n",
      "torch.Size([3, 250, 250]) (48,)\n",
      "torch.Size([3, 250, 250])"
     ]
    },
    {
     "name": "stderr",
     "output_type": "stream",
     "text": [
      "Train Epoch 0:  19%|██████▉                              | 317/1678 [01:02<04:15,  5.33batch/s, train_loss=-1.03e+4]"
     ]
    },
    {
     "name": "stdout",
     "output_type": "stream",
     "text": [
      "\n",
      "torch.Size([3, 250, 250]) (48,)\n",
      "torch.Size([3, 250, 250])\n",
      "torch.Size([3, 250, 250]) (48,)\n",
      "torch.Size([3, 250, 250])\n",
      "torch.Size([3, 250, 250]) (48,)\n",
      "torch.Size([3, 250, 250])"
     ]
    },
    {
     "name": "stderr",
     "output_type": "stream",
     "text": [
      "Train Epoch 0:  19%|███████                              | 318/1678 [01:02<04:14,  5.35batch/s, train_loss=-1.03e+4]"
     ]
    },
    {
     "name": "stdout",
     "output_type": "stream",
     "text": [
      "\n",
      "torch.Size([3, 250, 250]) (48,)\n",
      "torch.Size([3, 250, 250])\n",
      "torch.Size([3, 250, 250]) (48,)\n",
      "torch.Size([3, 250, 250])"
     ]
    },
    {
     "name": "stderr",
     "output_type": "stream",
     "text": [
      "Train Epoch 0:  19%|███████                              | 319/1678 [01:02<04:13,  5.36batch/s, train_loss=-1.07e+4]"
     ]
    },
    {
     "name": "stdout",
     "output_type": "stream",
     "text": [
      "\n",
      "torch.Size([3, 250, 250]) (48,)\n",
      "torch.Size([3, 250, 250])\n",
      "torch.Size([3, 250, 250]) (48,)\n",
      "torch.Size([3, 250, 250])"
     ]
    },
    {
     "name": "stderr",
     "output_type": "stream",
     "text": [
      "Train Epoch 0:  19%|███████                              | 320/1678 [01:03<04:11,  5.40batch/s, train_loss=-1.23e+4]"
     ]
    },
    {
     "name": "stdout",
     "output_type": "stream",
     "text": [
      "\n",
      "torch.Size([3, 250, 250]) (48,)\n",
      "torch.Size([3, 250, 250])\n",
      "torch.Size([3, 250, 250]) (48,)\n",
      "torch.Size([3, 250, 250])"
     ]
    },
    {
     "name": "stderr",
     "output_type": "stream",
     "text": [
      "Train Epoch 0:  19%|███████                              | 321/1678 [01:03<04:14,  5.33batch/s, train_loss=-1.01e+4]"
     ]
    },
    {
     "name": "stdout",
     "output_type": "stream",
     "text": [
      "\n",
      "torch.Size([3, 250, 250]) (48,)\n",
      "torch.Size([3, 250, 250])\n",
      "torch.Size([3, 250, 250]) (48,)\n",
      "torch.Size([3, 250, 250])"
     ]
    },
    {
     "name": "stderr",
     "output_type": "stream",
     "text": [
      "Train Epoch 0:  19%|███████                              | 322/1678 [01:03<04:12,  5.37batch/s, train_loss=-1.17e+4]"
     ]
    },
    {
     "name": "stdout",
     "output_type": "stream",
     "text": [
      "\n",
      "torch.Size([3, 250, 250]) (48,)\n",
      "torch.Size([3, 250, 250])\n",
      "torch.Size([3, 250, 250]) (48,)\n",
      "torch.Size([3, 250, 250])"
     ]
    },
    {
     "name": "stderr",
     "output_type": "stream",
     "text": [
      "Train Epoch 0:  19%|███████                              | 323/1678 [01:03<04:10,  5.40batch/s, train_loss=-1.24e+4]"
     ]
    },
    {
     "name": "stdout",
     "output_type": "stream",
     "text": [
      "\n",
      "torch.Size([3, 250, 250]) (48,)\n",
      "torch.Size([3, 250, 250])\n",
      "torch.Size([3, 250, 250]) (48,)\n",
      "torch.Size([3, 250, 250])\n",
      "torch.Size([3, 250, 250]) (48,)\n"
     ]
    },
    {
     "name": "stderr",
     "output_type": "stream",
     "text": [
      "Train Epoch 0:  19%|███████▏                             | 325/1678 [01:04<04:11,  5.38batch/s, train_loss=-1.22e+4]"
     ]
    },
    {
     "name": "stdout",
     "output_type": "stream",
     "text": [
      "torch.Size([3, 250, 250])\n",
      "torch.Size([3, 250, 250]) (48,)\n",
      "torch.Size([3, 250, 250])\n",
      "torch.Size([3, 250, 250]) (48,)\n",
      "torch.Size([3, 250, 250])"
     ]
    },
    {
     "name": "stderr",
     "output_type": "stream",
     "text": [
      "Train Epoch 0:  19%|███████▏                             | 326/1678 [01:04<04:15,  5.29batch/s, train_loss=-1.09e+4]"
     ]
    },
    {
     "name": "stdout",
     "output_type": "stream",
     "text": [
      "\n",
      "torch.Size([3, 250, 250]) (48,)\n",
      "torch.Size([3, 250, 250])\n",
      "torch.Size([3, 250, 250]) (48,)\n",
      "torch.Size([3, 250, 250])\n"
     ]
    },
    {
     "name": "stderr",
     "output_type": "stream",
     "text": [
      "Train Epoch 0:  19%|███████▏                             | 327/1678 [01:04<04:15,  5.29batch/s, train_loss=-1.29e+4]"
     ]
    },
    {
     "name": "stdout",
     "output_type": "stream",
     "text": [
      "torch.Size([3, 250, 250]) (48,)\n",
      "torch.Size([3, 250, 250])\n",
      "torch.Size([3, 250, 250]) (48,)\n",
      "torch.Size([3, 250, 250])"
     ]
    },
    {
     "name": "stderr",
     "output_type": "stream",
     "text": [
      "Train Epoch 0:  20%|███████▏                             | 328/1678 [01:04<04:15,  5.29batch/s, train_loss=-1.19e+4]"
     ]
    },
    {
     "name": "stdout",
     "output_type": "stream",
     "text": [
      "\n",
      "torch.Size([3, 250, 250]) (48,)\n",
      "torch.Size([3, 250, 250])\n",
      "torch.Size([3, 250, 250]) (48,)\n",
      "torch.Size([3, 250, 250])"
     ]
    },
    {
     "name": "stderr",
     "output_type": "stream",
     "text": [
      "Train Epoch 0:  20%|███████▎                             | 329/1678 [01:04<04:17,  5.23batch/s, train_loss=-1.17e+4]"
     ]
    },
    {
     "name": "stdout",
     "output_type": "stream",
     "text": [
      "\n",
      "torch.Size([3, 250, 250]) (48,)\n",
      "torch.Size([3, 250, 250])\n",
      "torch.Size([3, 250, 250]) (48,)\n"
     ]
    },
    {
     "name": "stderr",
     "output_type": "stream",
     "text": [
      "Train Epoch 0:  20%|███████▎                             | 330/1678 [01:05<04:19,  5.19batch/s, train_loss=-1.25e+4]"
     ]
    },
    {
     "name": "stdout",
     "output_type": "stream",
     "text": [
      "torch.Size([3, 250, 250])\n",
      "torch.Size([3, 250, 250]) (48,)\n",
      "torch.Size([3, 250, 250])\n",
      "torch.Size([3, 250, 250]) (48,)\n",
      "torch.Size([3, 250, 250])"
     ]
    },
    {
     "name": "stderr",
     "output_type": "stream",
     "text": [
      "Train Epoch 0:  20%|███████▎                             | 331/1678 [01:05<04:21,  5.15batch/s, train_loss=-1.37e+4]"
     ]
    },
    {
     "name": "stdout",
     "output_type": "stream",
     "text": [
      "\n",
      "torch.Size([3, 250, 250]) (48,)\n",
      "torch.Size([3, 250, 250])\n",
      "torch.Size([3, 250, 250]) (48,)\n",
      "torch.Size([3, 250, 250])"
     ]
    },
    {
     "name": "stderr",
     "output_type": "stream",
     "text": [
      "Train Epoch 0:  20%|███████▎                             | 332/1678 [01:05<04:19,  5.20batch/s, train_loss=-1.39e+4]"
     ]
    },
    {
     "name": "stdout",
     "output_type": "stream",
     "text": [
      "\n",
      "torch.Size([3, 250, 250]) (48,)\n",
      "torch.Size([3, 250, 250])\n",
      "torch.Size([3, 250, 250]) (48,)\n",
      "torch.Size([3, 250, 250])\n"
     ]
    },
    {
     "name": "stderr",
     "output_type": "stream",
     "text": [
      "Train Epoch 0:  20%|███████▎                             | 333/1678 [01:05<04:16,  5.24batch/s, train_loss=-1.42e+4]"
     ]
    },
    {
     "name": "stdout",
     "output_type": "stream",
     "text": [
      "torch.Size([3, 250, 250]) (48,)\n",
      "torch.Size([3, 250, 250])\n",
      "torch.Size([3, 250, 250]) (48,)\n",
      "torch.Size([3, 250, 250])"
     ]
    },
    {
     "name": "stderr",
     "output_type": "stream",
     "text": [
      "Train Epoch 0:  20%|███████▎                             | 334/1678 [01:05<04:14,  5.27batch/s, train_loss=-1.16e+4]"
     ]
    },
    {
     "name": "stdout",
     "output_type": "stream",
     "text": [
      "\n",
      "torch.Size([3, 250, 250]) (48,)\n",
      "torch.Size([3, 250, 250])\n",
      "torch.Size([3, 250, 250]) (48,)\n"
     ]
    },
    {
     "name": "stderr",
     "output_type": "stream",
     "text": [
      "Train Epoch 0:  20%|███████▍                             | 335/1678 [01:05<04:17,  5.21batch/s, train_loss=-1.35e+4]"
     ]
    },
    {
     "name": "stdout",
     "output_type": "stream",
     "text": [
      "torch.Size([3, 250, 250])\n",
      "torch.Size([3, 250, 250]) (48,)\n",
      "torch.Size([3, 250, 250])\n",
      "torch.Size([3, 250, 250]) (48,)\n",
      "torch.Size([3, 250, 250])"
     ]
    },
    {
     "name": "stderr",
     "output_type": "stream",
     "text": [
      "Train Epoch 0:  20%|███████▍                             | 336/1678 [01:06<04:19,  5.16batch/s, train_loss=-1.35e+4]"
     ]
    },
    {
     "name": "stdout",
     "output_type": "stream",
     "text": [
      "\n",
      "torch.Size([3, 250, 250]) (48,)\n",
      "torch.Size([3, 250, 250])\n",
      "torch.Size([3, 250, 250]) (48,)\n"
     ]
    },
    {
     "name": "stderr",
     "output_type": "stream",
     "text": [
      "Train Epoch 0:  20%|███████▍                             | 337/1678 [01:06<04:22,  5.12batch/s, train_loss=-1.27e+4]"
     ]
    },
    {
     "name": "stdout",
     "output_type": "stream",
     "text": [
      "torch.Size([3, 250, 250])\n",
      "torch.Size([3, 250, 250]) (48,)\n",
      "torch.Size([3, 250, 250])\n",
      "torch.Size([3, 250, 250]) (48,)\n",
      "torch.Size([3, 250, 250])"
     ]
    },
    {
     "name": "stderr",
     "output_type": "stream",
     "text": [
      "Train Epoch 0:  20%|███████▍                             | 338/1678 [01:06<04:21,  5.12batch/s, train_loss=-1.37e+4]"
     ]
    },
    {
     "name": "stdout",
     "output_type": "stream",
     "text": [
      "\n",
      "torch.Size([3, 250, 250]) (48,)\n",
      "torch.Size([3, 250, 250])\n",
      "torch.Size([3, 250, 250]) (48,)\n",
      "torch.Size([3, 250, 250])"
     ]
    },
    {
     "name": "stderr",
     "output_type": "stream",
     "text": [
      "Train Epoch 0:  20%|███████▍                             | 339/1678 [01:06<04:18,  5.19batch/s, train_loss=-1.22e+4]"
     ]
    },
    {
     "name": "stdout",
     "output_type": "stream",
     "text": [
      "\n",
      "torch.Size([3, 250, 250]) (48,)\n",
      "torch.Size([3, 250, 250])\n",
      "torch.Size([3, 250, 250]) (48,)\n",
      "torch.Size([3, 250, 250])"
     ]
    },
    {
     "name": "stderr",
     "output_type": "stream",
     "text": [
      "Train Epoch 0:  20%|███████▍                             | 340/1678 [01:06<04:24,  5.06batch/s, train_loss=-1.31e+4]"
     ]
    },
    {
     "name": "stdout",
     "output_type": "stream",
     "text": [
      "\n",
      "torch.Size([3, 250, 250]) (48,)\n",
      "torch.Size([3, 250, 250])\n",
      "torch.Size([3, 250, 250]) (48,)\n",
      "torch.Size([3, 250, 250])"
     ]
    },
    {
     "name": "stderr",
     "output_type": "stream",
     "text": [
      "Train Epoch 0:  20%|███████▋                              | 341/1678 [01:07<04:19,  5.15batch/s, train_loss=-1.3e+4]"
     ]
    },
    {
     "name": "stdout",
     "output_type": "stream",
     "text": [
      "\n",
      "torch.Size([3, 250, 250]) (48,)\n",
      "torch.Size([3, 250, 250])\n",
      "torch.Size([3, 250, 250]) (48,)\n",
      "torch.Size([3, 250, 250])\n"
     ]
    },
    {
     "name": "stderr",
     "output_type": "stream",
     "text": [
      "Train Epoch 0:  20%|███████▌                             | 342/1678 [01:07<04:19,  5.15batch/s, train_loss=-1.24e+4]"
     ]
    },
    {
     "name": "stdout",
     "output_type": "stream",
     "text": [
      "torch.Size([3, 250, 250]) (48,)\n",
      "torch.Size([3, 250, 250])\n",
      "torch.Size([3, 250, 250]) (48,)\n",
      "torch.Size([3, 250, 250])"
     ]
    },
    {
     "name": "stderr",
     "output_type": "stream",
     "text": [
      "Train Epoch 0:  20%|███████▌                             | 343/1678 [01:07<04:16,  5.21batch/s, train_loss=-1.28e+4]"
     ]
    },
    {
     "name": "stdout",
     "output_type": "stream",
     "text": [
      "\n",
      "torch.Size([3, 250, 250]) (48,)\n",
      "torch.Size([3, 250, 250])\n",
      "torch.Size([3, 250, 250]) (48,)\n",
      "torch.Size([3, 250, 250])"
     ]
    },
    {
     "name": "stderr",
     "output_type": "stream",
     "text": [
      "Train Epoch 0:  21%|███████▌                             | 344/1678 [01:07<04:12,  5.29batch/s, train_loss=-1.31e+4]"
     ]
    },
    {
     "name": "stdout",
     "output_type": "stream",
     "text": [
      "\n",
      "torch.Size([3, 250, 250]) (48,)\n",
      "torch.Size([3, 250, 250])\n",
      "torch.Size([3, 250, 250]) (48,)\n",
      "torch.Size([3, 250, 250])"
     ]
    },
    {
     "name": "stderr",
     "output_type": "stream",
     "text": [
      "Train Epoch 0:  21%|███████▌                             | 345/1678 [01:07<04:09,  5.34batch/s, train_loss=-1.31e+4]"
     ]
    },
    {
     "name": "stdout",
     "output_type": "stream",
     "text": [
      "\n",
      "torch.Size([3, 250, 250]) (48,)\n",
      "torch.Size([3, 250, 250])\n",
      "torch.Size([3, 250, 250]) (48,)\n",
      "torch.Size([3, 250, 250])"
     ]
    },
    {
     "name": "stderr",
     "output_type": "stream",
     "text": [
      "Train Epoch 0:  21%|███████▋                             | 346/1678 [01:08<04:09,  5.34batch/s, train_loss=-1.19e+4]"
     ]
    },
    {
     "name": "stdout",
     "output_type": "stream",
     "text": [
      "\n",
      "torch.Size([3, 250, 250]) (48,)\n",
      "torch.Size([3, 250, 250])\n",
      "torch.Size([3, 250, 250]) (48,)\n",
      "torch.Size([3, 250, 250])"
     ]
    },
    {
     "name": "stderr",
     "output_type": "stream",
     "text": [
      "Train Epoch 0:  21%|███████▋                             | 347/1678 [01:08<04:09,  5.34batch/s, train_loss=-1.21e+4]"
     ]
    },
    {
     "name": "stdout",
     "output_type": "stream",
     "text": [
      "\n",
      "torch.Size([3, 250, 250]) (48,)\n",
      "torch.Size([3, 250, 250])\n",
      "torch.Size([3, 250, 250]) (48,)\n",
      "torch.Size([3, 250, 250])"
     ]
    },
    {
     "name": "stderr",
     "output_type": "stream",
     "text": [
      "Train Epoch 0:  21%|███████▋                             | 348/1678 [01:08<04:08,  5.35batch/s, train_loss=-1.24e+4]"
     ]
    },
    {
     "name": "stdout",
     "output_type": "stream",
     "text": [
      "\n",
      "torch.Size([3, 250, 250]) (48,)\n",
      "torch.Size([3, 250, 250])\n",
      "torch.Size([3, 250, 250]) (48,)\n",
      "torch.Size([3, 250, 250])"
     ]
    },
    {
     "name": "stderr",
     "output_type": "stream",
     "text": [
      "Train Epoch 0:  21%|███████▋                             | 349/1678 [01:08<04:11,  5.28batch/s, train_loss=-1.11e+4]"
     ]
    },
    {
     "name": "stdout",
     "output_type": "stream",
     "text": [
      "\n",
      "torch.Size([3, 250, 250]) (48,)\n",
      "torch.Size([3, 250, 250])\n",
      "torch.Size([3, 250, 250]) (48,)\n"
     ]
    },
    {
     "name": "stderr",
     "output_type": "stream",
     "text": [
      "Train Epoch 0:  21%|███████▋                             | 350/1678 [01:08<04:14,  5.21batch/s, train_loss=-1.05e+4]"
     ]
    },
    {
     "name": "stdout",
     "output_type": "stream",
     "text": [
      "torch.Size([3, 250, 250])\n",
      "torch.Size([3, 250, 250]) (48,)\n",
      "torch.Size([3, 250, 250])\n",
      "torch.Size([3, 250, 250]) (48,)\n",
      "torch.Size([3, 250, 250])"
     ]
    },
    {
     "name": "stderr",
     "output_type": "stream",
     "text": [
      "Train Epoch 0:  21%|███████▋                             | 351/1678 [01:09<04:15,  5.20batch/s, train_loss=-1.09e+4]"
     ]
    },
    {
     "name": "stdout",
     "output_type": "stream",
     "text": [
      "\n",
      "torch.Size([3, 250, 250]) (48,)\n",
      "torch.Size([3, 250, 250])\n",
      "torch.Size([3, 250, 250]) (48,)\n",
      "torch.Size([3, 250, 250])"
     ]
    },
    {
     "name": "stderr",
     "output_type": "stream",
     "text": [
      "Train Epoch 0:  21%|███████▊                             | 352/1678 [01:09<04:11,  5.28batch/s, train_loss=-1.16e+4]"
     ]
    },
    {
     "name": "stdout",
     "output_type": "stream",
     "text": [
      "\n",
      "torch.Size([3, 250, 250]) (48,)\n",
      "torch.Size([3, 250, 250])\n",
      "torch.Size([3, 250, 250]) (48,)\n",
      "torch.Size([3, 250, 250])"
     ]
    },
    {
     "name": "stderr",
     "output_type": "stream",
     "text": [
      "Train Epoch 0:  21%|███████▊                             | 353/1678 [01:09<04:08,  5.33batch/s, train_loss=-1.19e+4]"
     ]
    },
    {
     "name": "stdout",
     "output_type": "stream",
     "text": [
      "\n",
      "torch.Size([3, 250, 250]) (48,)\n",
      "torch.Size([3, 250, 250])\n",
      "torch.Size([3, 250, 250]) (48,)\n",
      "torch.Size([3, 250, 250])\n",
      "torch.Size([3, 250, 250]) (48,)\n"
     ]
    },
    {
     "name": "stderr",
     "output_type": "stream",
     "text": [
      "Train Epoch 0:  21%|███████▊                             | 354/1678 [01:09<04:10,  5.28batch/s, train_loss=-1.23e+4]"
     ]
    },
    {
     "name": "stdout",
     "output_type": "stream",
     "text": [
      "torch.Size([3, 250, 250])\n",
      "torch.Size([3, 250, 250]) (48,)\n",
      "torch.Size([3, 250, 250])\n",
      "torch.Size([3, 250, 250]) (48,)\n",
      "torch.Size([3, 250, 250])\n",
      "torch.Size([3, 250, 250]) (48,)\n"
     ]
    },
    {
     "name": "stderr",
     "output_type": "stream",
     "text": [
      "Train Epoch 0:  21%|████████                              | 356/1678 [01:09<04:11,  5.26batch/s, train_loss=-1.1e+4]"
     ]
    },
    {
     "name": "stdout",
     "output_type": "stream",
     "text": [
      "torch.Size([3, 250, 250])\n",
      "torch.Size([3, 250, 250]) (48,)\n",
      "torch.Size([3, 250, 250])\n",
      "torch.Size([3, 250, 250]) (48,)\n",
      "torch.Size([3, 250, 250])"
     ]
    },
    {
     "name": "stderr",
     "output_type": "stream",
     "text": [
      "Train Epoch 0:  21%|███████▊                             | 357/1678 [01:10<04:10,  5.28batch/s, train_loss=-1.11e+4]"
     ]
    },
    {
     "name": "stdout",
     "output_type": "stream",
     "text": [
      "\n",
      "torch.Size([3, 250, 250]) (48,)\n",
      "torch.Size([3, 250, 250])\n",
      "torch.Size([3, 250, 250]) (48,)\n",
      "torch.Size([3, 250, 250])"
     ]
    },
    {
     "name": "stderr",
     "output_type": "stream",
     "text": [
      "Train Epoch 0:  21%|███████▉                             | 358/1678 [01:10<04:12,  5.22batch/s, train_loss=-1.02e+4]"
     ]
    },
    {
     "name": "stdout",
     "output_type": "stream",
     "text": [
      "\n",
      "torch.Size([3, 250, 250]) (48,)\n",
      "torch.Size([3, 250, 250])\n",
      "torch.Size([3, 250, 250]) (48,)\n",
      "torch.Size([3, 250, 250])"
     ]
    },
    {
     "name": "stderr",
     "output_type": "stream",
     "text": [
      "Train Epoch 0:  21%|███████▉                             | 359/1678 [01:10<04:12,  5.23batch/s, train_loss=-1.41e+4]"
     ]
    },
    {
     "name": "stdout",
     "output_type": "stream",
     "text": [
      "\n",
      "torch.Size([3, 250, 250]) (48,)\n",
      "torch.Size([3, 250, 250])\n",
      "torch.Size([3, 250, 250]) (48,)\n",
      "torch.Size([3, 250, 250])"
     ]
    },
    {
     "name": "stderr",
     "output_type": "stream",
     "text": [
      "Train Epoch 0:  21%|███████▉                             | 360/1678 [01:10<04:14,  5.18batch/s, train_loss=-1.27e+4]"
     ]
    },
    {
     "name": "stdout",
     "output_type": "stream",
     "text": [
      "\n",
      "torch.Size([3, 250, 250]) (48,)\n",
      "torch.Size([3, 250, 250])\n",
      "torch.Size([3, 250, 250]) (48,)\n",
      "torch.Size([3, 250, 250])"
     ]
    },
    {
     "name": "stderr",
     "output_type": "stream",
     "text": [
      "Train Epoch 0:  22%|███████▉                             | 361/1678 [01:10<04:13,  5.20batch/s, train_loss=-1.27e+4]"
     ]
    },
    {
     "name": "stdout",
     "output_type": "stream",
     "text": [
      "\n",
      "torch.Size([3, 250, 250]) (48,)\n",
      "torch.Size([3, 250, 250])\n",
      "torch.Size([3, 250, 250]) (48,)\n",
      "torch.Size([3, 250, 250])\n"
     ]
    },
    {
     "name": "stderr",
     "output_type": "stream",
     "text": [
      "Train Epoch 0:  22%|███████▉                             | 362/1678 [01:11<04:11,  5.24batch/s, train_loss=-1.29e+4]"
     ]
    },
    {
     "name": "stdout",
     "output_type": "stream",
     "text": [
      "torch.Size([3, 250, 250]) (48,)\n",
      "torch.Size([3, 250, 250])\n",
      "torch.Size([3, 250, 250]) (48,)\n",
      "torch.Size([3, 250, 250])"
     ]
    },
    {
     "name": "stderr",
     "output_type": "stream",
     "text": [
      "Train Epoch 0:  22%|████████                             | 363/1678 [01:11<04:13,  5.18batch/s, train_loss=-1.43e+4]"
     ]
    },
    {
     "name": "stdout",
     "output_type": "stream",
     "text": [
      "\n",
      "torch.Size([3, 250, 250]) (48,)\n",
      "torch.Size([3, 250, 250])\n",
      "torch.Size([3, 250, 250]) (48,)\n",
      "torch.Size([3, 250, 250])"
     ]
    },
    {
     "name": "stderr",
     "output_type": "stream",
     "text": [
      "Train Epoch 0:  22%|████████                             | 364/1678 [01:11<04:10,  5.24batch/s, train_loss=-1.38e+4]"
     ]
    },
    {
     "name": "stdout",
     "output_type": "stream",
     "text": [
      "\n",
      "torch.Size([3, 250, 250]) (48,)\n",
      "torch.Size([3, 250, 250])\n",
      "torch.Size([3, 250, 250]) (48,)\n",
      "torch.Size([3, 250, 250])\n"
     ]
    },
    {
     "name": "stderr",
     "output_type": "stream",
     "text": [
      "Train Epoch 0:  22%|████████                             | 365/1678 [01:11<04:08,  5.28batch/s, train_loss=-1.21e+4]"
     ]
    },
    {
     "name": "stdout",
     "output_type": "stream",
     "text": [
      "torch.Size([3, 250, 250]) (48,)\n",
      "torch.Size([3, 250, 250])\n",
      "torch.Size([3, 250, 250]) (48,)\n",
      "torch.Size([3, 250, 250])"
     ]
    },
    {
     "name": "stderr",
     "output_type": "stream",
     "text": [
      "Train Epoch 0:  22%|████████                             | 366/1678 [01:11<04:07,  5.30batch/s, train_loss=-1.34e+4]"
     ]
    },
    {
     "name": "stdout",
     "output_type": "stream",
     "text": [
      "\n",
      "torch.Size([3, 250, 250]) (48,)\n",
      "torch.Size([3, 250, 250])\n",
      "torch.Size([3, 250, 250]) (48,)\n"
     ]
    },
    {
     "name": "stderr",
     "output_type": "stream",
     "text": [
      "Train Epoch 0:  22%|████████                             | 367/1678 [01:12<04:11,  5.22batch/s, train_loss=-1.25e+4]"
     ]
    },
    {
     "name": "stdout",
     "output_type": "stream",
     "text": [
      "torch.Size([3, 250, 250])\n",
      "torch.Size([3, 250, 250]) (48,)\n",
      "torch.Size([3, 250, 250])\n",
      "torch.Size([3, 250, 250]) (48,)\n",
      "torch.Size([3, 250, 250])"
     ]
    },
    {
     "name": "stderr",
     "output_type": "stream",
     "text": [
      "Train Epoch 0:  22%|████████                             | 368/1678 [01:12<04:08,  5.28batch/s, train_loss=-1.29e+4]"
     ]
    },
    {
     "name": "stdout",
     "output_type": "stream",
     "text": [
      "\n",
      "torch.Size([3, 250, 250]) (48,)\n",
      "torch.Size([3, 250, 250])\n",
      "torch.Size([3, 250, 250]) (48,)\n",
      "torch.Size([3, 250, 250])"
     ]
    },
    {
     "name": "stderr",
     "output_type": "stream",
     "text": [
      "Train Epoch 0:  22%|████████▏                            | 369/1678 [01:12<04:06,  5.30batch/s, train_loss=-1.28e+4]"
     ]
    },
    {
     "name": "stdout",
     "output_type": "stream",
     "text": [
      "\n",
      "torch.Size([3, 250, 250]) (48,)\n",
      "torch.Size([3, 250, 250])\n",
      "torch.Size([3, 250, 250]) (48,)\n",
      "torch.Size([3, 250, 250])"
     ]
    },
    {
     "name": "stderr",
     "output_type": "stream",
     "text": [
      "Train Epoch 0:  22%|████████▏                            | 370/1678 [01:12<04:08,  5.27batch/s, train_loss=-1.26e+4]"
     ]
    },
    {
     "name": "stdout",
     "output_type": "stream",
     "text": [
      "\n",
      "torch.Size([3, 250, 250]) (48,)\n",
      "torch.Size([3, 250, 250])\n",
      "torch.Size([3, 250, 250]) (48,)\n",
      "torch.Size([3, 250, 250])"
     ]
    },
    {
     "name": "stderr",
     "output_type": "stream",
     "text": [
      "Train Epoch 0:  22%|████████▏                            | 371/1678 [01:12<04:11,  5.21batch/s, train_loss=-1.26e+4]"
     ]
    },
    {
     "name": "stdout",
     "output_type": "stream",
     "text": [
      "\n",
      "torch.Size([3, 250, 250]) (48,)\n",
      "torch.Size([3, 250, 250])\n",
      "torch.Size([3, 250, 250]) (48,)\n",
      "torch.Size([3, 250, 250])"
     ]
    },
    {
     "name": "stderr",
     "output_type": "stream",
     "text": [
      "Train Epoch 0:  22%|████████▏                            | 372/1678 [01:13<04:10,  5.21batch/s, train_loss=-1.27e+4]"
     ]
    },
    {
     "name": "stdout",
     "output_type": "stream",
     "text": [
      "\n",
      "torch.Size([3, 250, 250]) (48,)\n",
      "torch.Size([3, 250, 250])\n",
      "torch.Size([3, 250, 250]) (48,)\n",
      "torch.Size([3, 250, 250])"
     ]
    },
    {
     "name": "stderr",
     "output_type": "stream",
     "text": [
      "Train Epoch 0:  22%|████████▏                            | 373/1678 [01:13<04:11,  5.20batch/s, train_loss=-1.21e+4]"
     ]
    },
    {
     "name": "stdout",
     "output_type": "stream",
     "text": [
      "\n",
      "torch.Size([3, 250, 250]) (48,)\n",
      "torch.Size([3, 250, 250])\n",
      "torch.Size([3, 250, 250]) (48,)\n",
      "torch.Size([3, 250, 250])"
     ]
    },
    {
     "name": "stderr",
     "output_type": "stream",
     "text": [
      "Train Epoch 0:  22%|████████▏                            | 374/1678 [01:13<04:09,  5.23batch/s, train_loss=-1.27e+4]"
     ]
    },
    {
     "name": "stdout",
     "output_type": "stream",
     "text": [
      "\n",
      "torch.Size([3, 250, 250]) (48,)\n",
      "torch.Size([3, 250, 250])\n",
      "torch.Size([3, 250, 250]) (48,)\n",
      "torch.Size([3, 250, 250])"
     ]
    },
    {
     "name": "stderr",
     "output_type": "stream",
     "text": [
      "Train Epoch 0:  22%|████████▎                            | 375/1678 [01:13<04:06,  5.29batch/s, train_loss=-1.23e+4]"
     ]
    },
    {
     "name": "stdout",
     "output_type": "stream",
     "text": [
      "\n",
      "torch.Size([3, 250, 250]) (48,)\n",
      "torch.Size([3, 250, 250])\n",
      "torch.Size([3, 250, 250]) (48,)\n",
      "torch.Size([3, 250, 250])"
     ]
    },
    {
     "name": "stderr",
     "output_type": "stream",
     "text": [
      "Train Epoch 0:  22%|████████▎                            | 376/1678 [01:13<04:09,  5.22batch/s, train_loss=-1.22e+4]"
     ]
    },
    {
     "name": "stdout",
     "output_type": "stream",
     "text": [
      "\n",
      "torch.Size([3, 250, 250]) (48,)\n",
      "torch.Size([3, 250, 250])\n",
      "torch.Size([3, 250, 250]) (48,)\n",
      "torch.Size([3, 250, 250])"
     ]
    },
    {
     "name": "stderr",
     "output_type": "stream",
     "text": [
      "Train Epoch 0:  22%|████████▎                            | 377/1678 [01:13<04:09,  5.21batch/s, train_loss=-1.29e+4]"
     ]
    },
    {
     "name": "stdout",
     "output_type": "stream",
     "text": [
      "\n",
      "torch.Size([3, 250, 250]) (48,)\n",
      "torch.Size([3, 250, 250])\n",
      "torch.Size([3, 250, 250]) (48,)\n",
      "torch.Size([3, 250, 250])"
     ]
    },
    {
     "name": "stderr",
     "output_type": "stream",
     "text": [
      "Train Epoch 0:  23%|████████▎                            | 378/1678 [01:14<04:06,  5.26batch/s, train_loss=-1.15e+4]"
     ]
    },
    {
     "name": "stdout",
     "output_type": "stream",
     "text": [
      "\n",
      "torch.Size([3, 250, 250]) (48,)\n",
      "torch.Size([3, 250, 250])\n",
      "torch.Size([3, 250, 250]) (48,)\n",
      "torch.Size([3, 250, 250])"
     ]
    },
    {
     "name": "stderr",
     "output_type": "stream",
     "text": [
      "Train Epoch 0:  23%|████████▎                            | 379/1678 [01:14<04:05,  5.28batch/s, train_loss=-1.28e+4]"
     ]
    },
    {
     "name": "stdout",
     "output_type": "stream",
     "text": [
      "\n",
      "torch.Size([3, 250, 250]) (48,)\n",
      "torch.Size([3, 250, 250])\n",
      "torch.Size([3, 250, 250]) (48,)\n",
      "torch.Size([3, 250, 250])"
     ]
    },
    {
     "name": "stderr",
     "output_type": "stream",
     "text": [
      "Train Epoch 0:  23%|████████▍                            | 380/1678 [01:14<04:08,  5.22batch/s, train_loss=-1.25e+4]"
     ]
    },
    {
     "name": "stdout",
     "output_type": "stream",
     "text": [
      "\n",
      "torch.Size([3, 250, 250]) (48,)\n",
      "torch.Size([3, 250, 250])\n",
      "torch.Size([3, 250, 250]) (48,)\n",
      "torch.Size([3, 250, 250])\n",
      "torch.Size([3, 250, 250]) (48,)\n",
      "torch.Size([3, 250, 250])"
     ]
    },
    {
     "name": "stderr",
     "output_type": "stream",
     "text": [
      "Train Epoch 0:  23%|████████▍                            | 381/1678 [01:14<04:05,  5.29batch/s, train_loss=-1.24e+4]"
     ]
    },
    {
     "name": "stdout",
     "output_type": "stream",
     "text": [
      "\n",
      "torch.Size([3, 250, 250]) (48,)\n",
      "torch.Size([3, 250, 250])\n",
      "torch.Size([3, 250, 250]) (48,)\n",
      "torch.Size([3, 250, 250])"
     ]
    },
    {
     "name": "stderr",
     "output_type": "stream",
     "text": [
      "Train Epoch 0:  23%|████████▍                            | 382/1678 [01:14<04:02,  5.34batch/s, train_loss=-1.23e+4]"
     ]
    },
    {
     "name": "stdout",
     "output_type": "stream",
     "text": [
      "\n",
      "torch.Size([3, 250, 250]) (48,)\n",
      "torch.Size([3, 250, 250])\n",
      "torch.Size([3, 250, 250]) (48,)\n",
      "torch.Size([3, 250, 250])\n",
      "torch.Size([3, 250, 250]) (48,)\n"
     ]
    },
    {
     "name": "stderr",
     "output_type": "stream",
     "text": [
      "Train Epoch 0:  23%|████████▍                            | 384/1678 [01:15<04:03,  5.31batch/s, train_loss=-1.07e+4]"
     ]
    },
    {
     "name": "stdout",
     "output_type": "stream",
     "text": [
      "torch.Size([3, 250, 250])\n",
      "torch.Size([3, 250, 250]) (48,)\n",
      "torch.Size([3, 250, 250])\n",
      "torch.Size([3, 250, 250]) (48,)\n"
     ]
    },
    {
     "name": "stderr",
     "output_type": "stream",
     "text": [
      "Train Epoch 0:  23%|████████▍                            | 385/1678 [01:15<04:08,  5.19batch/s, train_loss=-1.18e+4]"
     ]
    },
    {
     "name": "stdout",
     "output_type": "stream",
     "text": [
      "torch.Size([3, 250, 250])\n",
      "torch.Size([3, 250, 250]) (48,)\n",
      "torch.Size([3, 250, 250])\n",
      "torch.Size([3, 250, 250]) (48,)\n",
      "torch.Size([3, 250, 250])"
     ]
    },
    {
     "name": "stderr",
     "output_type": "stream",
     "text": [
      "Train Epoch 0:  23%|████████▌                            | 386/1678 [01:15<04:04,  5.29batch/s, train_loss=-1.26e+4]"
     ]
    },
    {
     "name": "stdout",
     "output_type": "stream",
     "text": [
      "\n",
      "torch.Size([3, 250, 250]) (48,)\n",
      "torch.Size([3, 250, 250])\n",
      "torch.Size([3, 250, 250]) (48,)\n"
     ]
    },
    {
     "name": "stderr",
     "output_type": "stream",
     "text": [
      "Train Epoch 0:  23%|████████▌                            | 387/1678 [01:15<04:05,  5.26batch/s, train_loss=-1.08e+4]"
     ]
    },
    {
     "name": "stdout",
     "output_type": "stream",
     "text": [
      "torch.Size([3, 250, 250])\n",
      "torch.Size([3, 250, 250]) (48,)\n",
      "torch.Size([3, 250, 250])\n",
      "torch.Size([3, 250, 250]) (48,)\n",
      "torch.Size([3, 250, 250])"
     ]
    },
    {
     "name": "stderr",
     "output_type": "stream",
     "text": [
      "Train Epoch 0:  23%|████████▌                            | 388/1678 [01:16<04:04,  5.28batch/s, train_loss=-1.28e+4]"
     ]
    },
    {
     "name": "stdout",
     "output_type": "stream",
     "text": [
      "\n",
      "torch.Size([3, 250, 250]) (48,)\n",
      "torch.Size([3, 250, 250])\n",
      "torch.Size([3, 250, 250]) (48,)\n",
      "torch.Size([3, 250, 250])"
     ]
    },
    {
     "name": "stderr",
     "output_type": "stream",
     "text": [
      "Train Epoch 0:  23%|████████▌                            | 389/1678 [01:16<04:03,  5.29batch/s, train_loss=-1.16e+4]"
     ]
    },
    {
     "name": "stdout",
     "output_type": "stream",
     "text": [
      "\n",
      "torch.Size([3, 250, 250]) (48,)\n",
      "torch.Size([3, 250, 250])\n",
      "torch.Size([3, 250, 250]) (48,)\n",
      "torch.Size([3, 250, 250])"
     ]
    },
    {
     "name": "stderr",
     "output_type": "stream",
     "text": [
      "Train Epoch 0:  23%|████████▌                            | 390/1678 [01:16<04:03,  5.28batch/s, train_loss=-1.18e+4]"
     ]
    },
    {
     "name": "stdout",
     "output_type": "stream",
     "text": [
      "\n",
      "torch.Size([3, 250, 250]) (48,)\n",
      "torch.Size([3, 250, 250])\n",
      "torch.Size([3, 250, 250]) (48,)\n",
      "torch.Size([3, 250, 250])"
     ]
    },
    {
     "name": "stderr",
     "output_type": "stream",
     "text": [
      "Train Epoch 0:  23%|████████▌                            | 391/1678 [01:16<04:03,  5.29batch/s, train_loss=-1.27e+4]"
     ]
    },
    {
     "name": "stdout",
     "output_type": "stream",
     "text": [
      "\n",
      "torch.Size([3, 250, 250]) (48,)\n",
      "torch.Size([3, 250, 250])\n",
      "torch.Size([3, 250, 250]) (48,)\n",
      "torch.Size([3, 250, 250])"
     ]
    },
    {
     "name": "stderr",
     "output_type": "stream",
     "text": [
      "Train Epoch 0:  23%|████████▋                            | 392/1678 [01:16<04:06,  5.22batch/s, train_loss=-1.15e+4]"
     ]
    },
    {
     "name": "stdout",
     "output_type": "stream",
     "text": [
      "\n",
      "torch.Size([3, 250, 250]) (48,)\n",
      "torch.Size([3, 250, 250])\n",
      "torch.Size([3, 250, 250]) (48,)\n"
     ]
    },
    {
     "name": "stderr",
     "output_type": "stream",
     "text": [
      "Train Epoch 0:  23%|████████▉                             | 393/1678 [01:17<04:08,  5.17batch/s, train_loss=-1.3e+4]"
     ]
    },
    {
     "name": "stdout",
     "output_type": "stream",
     "text": [
      "torch.Size([3, 250, 250])\n",
      "torch.Size([3, 250, 250]) (48,)\n",
      "torch.Size([3, 250, 250])\n",
      "torch.Size([3, 250, 250]) (48,)\n",
      "torch.Size([3, 250, 250])"
     ]
    },
    {
     "name": "stderr",
     "output_type": "stream",
     "text": [
      "Train Epoch 0:  23%|████████▋                            | 394/1678 [01:17<04:07,  5.19batch/s, train_loss=-1.27e+4]"
     ]
    },
    {
     "name": "stdout",
     "output_type": "stream",
     "text": [
      "\n",
      "torch.Size([3, 250, 250]) (48,)\n",
      "torch.Size([3, 250, 250])\n",
      "torch.Size([3, 250, 250]) (48,)\n",
      "torch.Size([3, 250, 250])"
     ]
    },
    {
     "name": "stderr",
     "output_type": "stream",
     "text": [
      "Train Epoch 0:  24%|████████▋                            | 395/1678 [01:17<04:08,  5.15batch/s, train_loss=-1.38e+4]"
     ]
    },
    {
     "name": "stdout",
     "output_type": "stream",
     "text": [
      "\n",
      "torch.Size([3, 250, 250]) (48,)\n",
      "torch.Size([3, 250, 250])\n",
      "torch.Size([3, 250, 250]) (48,)\n",
      "torch.Size([3, 250, 250])"
     ]
    },
    {
     "name": "stderr",
     "output_type": "stream",
     "text": [
      "Train Epoch 0:  24%|████████▋                            | 396/1678 [01:17<04:05,  5.22batch/s, train_loss=-1.36e+4]"
     ]
    },
    {
     "name": "stdout",
     "output_type": "stream",
     "text": [
      "\n",
      "torch.Size([3, 250, 250]) (48,)\n",
      "torch.Size([3, 250, 250])\n",
      "torch.Size([3, 250, 250]) (48,)\n",
      "torch.Size([3, 250, 250])"
     ]
    },
    {
     "name": "stderr",
     "output_type": "stream",
     "text": [
      "Train Epoch 0:  24%|████████▊                            | 397/1678 [01:17<04:03,  5.27batch/s, train_loss=-1.34e+4]"
     ]
    },
    {
     "name": "stdout",
     "output_type": "stream",
     "text": [
      "\n",
      "torch.Size([3, 250, 250]) (48,)\n",
      "torch.Size([3, 250, 250])\n",
      "torch.Size([3, 250, 250]) (48,)\n",
      "torch.Size([3, 250, 250])"
     ]
    },
    {
     "name": "stderr",
     "output_type": "stream",
     "text": [
      "Train Epoch 0:  24%|████████▊                            | 398/1678 [01:17<04:02,  5.28batch/s, train_loss=-1.17e+4]"
     ]
    },
    {
     "name": "stdout",
     "output_type": "stream",
     "text": [
      "\n",
      "torch.Size([3, 250, 250]) (48,)\n",
      "torch.Size([3, 250, 250])\n",
      "torch.Size([3, 250, 250]) (48,)\n"
     ]
    },
    {
     "name": "stderr",
     "output_type": "stream",
     "text": [
      "Train Epoch 0:  24%|████████▊                            | 399/1678 [01:18<04:04,  5.24batch/s, train_loss=-1.36e+4]"
     ]
    },
    {
     "name": "stdout",
     "output_type": "stream",
     "text": [
      "torch.Size([3, 250, 250])\n",
      "torch.Size([3, 250, 250]) (48,)\n",
      "torch.Size([3, 250, 250])\n",
      "torch.Size([3, 250, 250]) (48,)\n",
      "torch.Size([3, 250, 250])\n",
      "torch.Size([3, 250, 250]) (48,)\n"
     ]
    },
    {
     "name": "stderr",
     "output_type": "stream",
     "text": [
      "Train Epoch 0:  24%|████████▊                            | 400/1678 [01:18<04:02,  5.27batch/s, train_loss=-1.29e+4]"
     ]
    },
    {
     "name": "stdout",
     "output_type": "stream",
     "text": [
      "torch.Size([3, 250, 250])\n",
      "torch.Size([3, 250, 250]) (48,)\n",
      "torch.Size([3, 250, 250])\n",
      "torch.Size([3, 250, 250]) (48,)\n",
      "torch.Size([3, 250, 250])"
     ]
    },
    {
     "name": "stderr",
     "output_type": "stream",
     "text": [
      "Train Epoch 0:  24%|████████▊                            | 401/1678 [01:18<03:59,  5.33batch/s, train_loss=-1.37e+4]"
     ]
    },
    {
     "name": "stdout",
     "output_type": "stream",
     "text": [
      "\n",
      "torch.Size([3, 250, 250]) (48,)\n",
      "torch.Size([3, 250, 250])\n",
      "torch.Size([3, 250, 250]) (48,)\n",
      "torch.Size([3, 250, 250])"
     ]
    },
    {
     "name": "stderr",
     "output_type": "stream",
     "text": [
      "Train Epoch 0:  24%|█████████                             | 402/1678 [01:18<03:59,  5.34batch/s, train_loss=-1.2e+4]"
     ]
    },
    {
     "name": "stdout",
     "output_type": "stream",
     "text": [
      "\n",
      "torch.Size([3, 250, 250]) (48,)\n",
      "torch.Size([3, 250, 250])\n",
      "torch.Size([3, 250, 250]) (48,)\n",
      "torch.Size([3, 250, 250])"
     ]
    },
    {
     "name": "stderr",
     "output_type": "stream",
     "text": [
      "Train Epoch 0:  24%|████████▉                            | 403/1678 [01:18<04:02,  5.25batch/s, train_loss=-1.34e+4]"
     ]
    },
    {
     "name": "stdout",
     "output_type": "stream",
     "text": [
      "\n",
      "torch.Size([3, 250, 250]) (48,)\n",
      "torch.Size([3, 250, 250])\n",
      "torch.Size([3, 250, 250]) (48,)\n",
      "torch.Size([3, 250, 250])"
     ]
    },
    {
     "name": "stderr",
     "output_type": "stream",
     "text": [
      "Train Epoch 0:  24%|████████▉                            | 404/1678 [01:19<04:00,  5.29batch/s, train_loss=-1.28e+4]"
     ]
    },
    {
     "name": "stdout",
     "output_type": "stream",
     "text": [
      "\n",
      "torch.Size([3, 250, 250]) (48,)\n",
      "torch.Size([3, 250, 250])\n",
      "torch.Size([3, 250, 250]) (48,)\n",
      "torch.Size([3, 250, 250])"
     ]
    },
    {
     "name": "stderr",
     "output_type": "stream",
     "text": [
      "Train Epoch 0:  24%|████████▉                            | 405/1678 [01:19<04:03,  5.24batch/s, train_loss=-1.15e+4]"
     ]
    },
    {
     "name": "stdout",
     "output_type": "stream",
     "text": [
      "\n",
      "torch.Size([3, 250, 250]) (48,)\n",
      "torch.Size([3, 250, 250])\n",
      "torch.Size([3, 250, 250]) (48,)\n",
      "torch.Size([3, 250, 250])"
     ]
    },
    {
     "name": "stderr",
     "output_type": "stream",
     "text": [
      "Train Epoch 0:  24%|████████▉                            | 406/1678 [01:19<04:05,  5.18batch/s, train_loss=-1.26e+4]"
     ]
    },
    {
     "name": "stdout",
     "output_type": "stream",
     "text": [
      "\n",
      "torch.Size([3, 250, 250]) (48,)\n",
      "torch.Size([3, 250, 250])\n",
      "torch.Size([3, 250, 250]) (48,)\n",
      "torch.Size([3, 250, 250])"
     ]
    },
    {
     "name": "stderr",
     "output_type": "stream",
     "text": [
      "Train Epoch 0:  24%|████████▉                            | 407/1678 [01:19<04:01,  5.26batch/s, train_loss=-1.36e+4]"
     ]
    },
    {
     "name": "stdout",
     "output_type": "stream",
     "text": [
      "\n",
      "torch.Size([3, 250, 250]) (48,)\n",
      "torch.Size([3, 250, 250])\n",
      "torch.Size([3, 250, 250]) (48,)\n",
      "torch.Size([3, 250, 250])"
     ]
    },
    {
     "name": "stderr",
     "output_type": "stream",
     "text": [
      "Train Epoch 0:  24%|█████████▏                            | 408/1678 [01:19<04:02,  5.24batch/s, train_loss=-1.2e+4]"
     ]
    },
    {
     "name": "stdout",
     "output_type": "stream",
     "text": [
      "\n",
      "torch.Size([3, 250, 250]) (48,)\n",
      "torch.Size([3, 250, 250])\n",
      "torch.Size([3, 250, 250]) (48,)\n",
      "torch.Size([3, 250, 250])"
     ]
    },
    {
     "name": "stderr",
     "output_type": "stream",
     "text": [
      "Train Epoch 0:  24%|█████████                            | 409/1678 [01:20<04:01,  5.26batch/s, train_loss=-1.14e+4]"
     ]
    },
    {
     "name": "stdout",
     "output_type": "stream",
     "text": [
      "\n",
      "torch.Size([3, 250, 250]) (48,)\n",
      "torch.Size([3, 250, 250])\n",
      "torch.Size([3, 250, 250]) (48,)\n",
      "torch.Size([3, 250, 250])"
     ]
    },
    {
     "name": "stderr",
     "output_type": "stream",
     "text": [
      "Train Epoch 0:  24%|█████████                            | 410/1678 [01:20<04:00,  5.28batch/s, train_loss=-1.17e+4]"
     ]
    },
    {
     "name": "stdout",
     "output_type": "stream",
     "text": [
      "\n",
      "torch.Size([3, 250, 250]) (48,)\n",
      "torch.Size([3, 250, 250])\n",
      "torch.Size([3, 250, 250]) (48,)\n",
      "torch.Size([3, 250, 250])"
     ]
    },
    {
     "name": "stderr",
     "output_type": "stream",
     "text": [
      "Train Epoch 0:  24%|█████████                            | 411/1678 [01:20<03:59,  5.30batch/s, train_loss=-1.22e+4]"
     ]
    },
    {
     "name": "stdout",
     "output_type": "stream",
     "text": [
      "\n",
      "torch.Size([3, 250, 250]) (48,)\n",
      "torch.Size([3, 250, 250])\n",
      "torch.Size([3, 250, 250]) (48,)\n",
      "torch.Size([3, 250, 250])"
     ]
    },
    {
     "name": "stderr",
     "output_type": "stream",
     "text": [
      "Train Epoch 0:  25%|█████████                            | 412/1678 [01:20<03:57,  5.33batch/s, train_loss=-1.14e+4]"
     ]
    },
    {
     "name": "stdout",
     "output_type": "stream",
     "text": [
      "\n",
      "torch.Size([3, 250, 250]) (48,)\n",
      "torch.Size([3, 250, 250])\n",
      "torch.Size([3, 250, 250]) (48,)\n",
      "torch.Size([3, 250, 250])"
     ]
    },
    {
     "name": "stderr",
     "output_type": "stream",
     "text": [
      "Train Epoch 0:  25%|█████████                            | 413/1678 [01:20<04:02,  5.21batch/s, train_loss=-9.81e+3]"
     ]
    },
    {
     "name": "stdout",
     "output_type": "stream",
     "text": [
      "\n",
      "torch.Size([3, 250, 250]) (48,)\n",
      "torch.Size([3, 250, 250])\n",
      "torch.Size([3, 250, 250]) (48,)\n",
      "torch.Size([3, 250, 250])"
     ]
    },
    {
     "name": "stderr",
     "output_type": "stream",
     "text": [
      "Train Epoch 0:  25%|█████████▏                           | 414/1678 [01:21<04:03,  5.20batch/s, train_loss=-1.31e+4]"
     ]
    },
    {
     "name": "stdout",
     "output_type": "stream",
     "text": [
      "\n",
      "torch.Size([3, 250, 250]) (48,)\n",
      "torch.Size([3, 250, 250])\n",
      "torch.Size([3, 250, 250]) (48,)\n",
      "torch.Size([3, 250, 250])"
     ]
    },
    {
     "name": "stderr",
     "output_type": "stream",
     "text": [
      "Train Epoch 0:  25%|█████████▏                           | 415/1678 [01:21<03:59,  5.27batch/s, train_loss=-9.94e+3]"
     ]
    },
    {
     "name": "stdout",
     "output_type": "stream",
     "text": [
      "\n",
      "torch.Size([3, 250, 250]) (48,)\n",
      "torch.Size([3, 250, 250])\n",
      "torch.Size([3, 250, 250]) (48,)\n",
      "torch.Size([3, 250, 250])\n",
      "torch.Size([3, 250, 250]) (48,)\n"
     ]
    },
    {
     "name": "stderr",
     "output_type": "stream",
     "text": [
      "Train Epoch 0:  25%|█████████▏                           | 417/1678 [01:21<03:54,  5.38batch/s, train_loss=-1.02e+4]"
     ]
    },
    {
     "name": "stdout",
     "output_type": "stream",
     "text": [
      "torch.Size([3, 250, 250])\n",
      "torch.Size([3, 250, 250]) (48,)\n",
      "torch.Size([3, 250, 250])\n",
      "torch.Size([3, 250, 250]) (48,)\n",
      "torch.Size([3, 250, 250])\n",
      "torch.Size([3, 250, 250]) (48,)\n",
      "torch.Size([3, 250, 250])"
     ]
    },
    {
     "name": "stderr",
     "output_type": "stream",
     "text": [
      "Train Epoch 0:  25%|█████████▏                           | 418/1678 [01:21<03:51,  5.44batch/s, train_loss=-9.24e+3]"
     ]
    },
    {
     "name": "stdout",
     "output_type": "stream",
     "text": [
      "\n",
      "torch.Size([3, 250, 250]) (48,)\n",
      "torch.Size([3, 250, 250])\n",
      "torch.Size([3, 250, 250]) (48,)\n",
      "torch.Size([3, 250, 250])\n",
      "torch.Size([3, 250, 250]) (48,)\n"
     ]
    },
    {
     "name": "stderr",
     "output_type": "stream",
     "text": [
      "Train Epoch 0:  25%|█████████▎                           | 420/1678 [01:22<03:59,  5.26batch/s, train_loss=-1.25e+4]"
     ]
    },
    {
     "name": "stdout",
     "output_type": "stream",
     "text": [
      "torch.Size([3, 250, 250])\n",
      "torch.Size([3, 250, 250]) (48,)\n",
      "torch.Size([3, 250, 250])\n",
      "torch.Size([3, 250, 250]) (48,)\n",
      "torch.Size([3, 250, 250])"
     ]
    },
    {
     "name": "stderr",
     "output_type": "stream",
     "text": [
      "Train Epoch 0:  25%|█████████▎                           | 421/1678 [01:22<04:02,  5.19batch/s, train_loss=-1.15e+4]"
     ]
    },
    {
     "name": "stdout",
     "output_type": "stream",
     "text": [
      "\n",
      "torch.Size([3, 250, 250]) (48,)\n",
      "torch.Size([3, 250, 250])\n",
      "torch.Size([3, 250, 250]) (48,)\n",
      "torch.Size([3, 250, 250])"
     ]
    },
    {
     "name": "stderr",
     "output_type": "stream",
     "text": [
      "Train Epoch 0:  25%|█████████▎                           | 422/1678 [01:22<04:00,  5.23batch/s, train_loss=-1.31e+4]"
     ]
    },
    {
     "name": "stdout",
     "output_type": "stream",
     "text": [
      "\n",
      "torch.Size([3, 250, 250]) (48,)\n",
      "torch.Size([3, 250, 250])\n",
      "torch.Size([3, 250, 250]) (48,)\n",
      "torch.Size([3, 250, 250])"
     ]
    },
    {
     "name": "stderr",
     "output_type": "stream",
     "text": [
      "Train Epoch 0:  25%|█████████▎                           | 423/1678 [01:22<03:59,  5.25batch/s, train_loss=-1.19e+4]"
     ]
    },
    {
     "name": "stdout",
     "output_type": "stream",
     "text": [
      "\n",
      "torch.Size([3, 250, 250]) (48,)\n",
      "torch.Size([3, 250, 250])\n",
      "torch.Size([3, 250, 250]) (48,)\n",
      "torch.Size([3, 250, 250])"
     ]
    },
    {
     "name": "stderr",
     "output_type": "stream",
     "text": [
      "Train Epoch 0:  25%|█████████▎                           | 424/1678 [01:22<04:02,  5.17batch/s, train_loss=-1.36e+4]"
     ]
    },
    {
     "name": "stdout",
     "output_type": "stream",
     "text": [
      "\n",
      "torch.Size([3, 250, 250]) (48,)\n",
      "torch.Size([3, 250, 250])\n",
      "torch.Size([3, 250, 250]) (48,)\n",
      "torch.Size([3, 250, 250])"
     ]
    },
    {
     "name": "stderr",
     "output_type": "stream",
     "text": [
      "Train Epoch 0:  25%|█████████▎                           | 425/1678 [01:23<04:03,  5.14batch/s, train_loss=-1.34e+4]"
     ]
    },
    {
     "name": "stdout",
     "output_type": "stream",
     "text": [
      "\n",
      "torch.Size([3, 250, 250]) (48,)\n",
      "torch.Size([3, 250, 250])\n",
      "torch.Size([3, 250, 250]) (48,)\n",
      "torch.Size([3, 250, 250])"
     ]
    },
    {
     "name": "stderr",
     "output_type": "stream",
     "text": [
      "Train Epoch 0:  25%|█████████▍                           | 426/1678 [01:23<04:05,  5.10batch/s, train_loss=-1.19e+4]"
     ]
    },
    {
     "name": "stdout",
     "output_type": "stream",
     "text": [
      "\n",
      "torch.Size([3, 250, 250]) (48,)\n",
      "torch.Size([3, 250, 250])\n",
      "torch.Size([3, 250, 250]) (48,)\n",
      "torch.Size([3, 250, 250])"
     ]
    },
    {
     "name": "stderr",
     "output_type": "stream",
     "text": [
      "Train Epoch 0:  25%|█████████▍                           | 427/1678 [01:23<04:02,  5.15batch/s, train_loss=-1.23e+4]"
     ]
    },
    {
     "name": "stdout",
     "output_type": "stream",
     "text": [
      "\n",
      "torch.Size([3, 250, 250]) (48,)\n",
      "torch.Size([3, 250, 250])\n",
      "torch.Size([3, 250, 250]) (48,)\n",
      "torch.Size([3, 250, 250])"
     ]
    },
    {
     "name": "stderr",
     "output_type": "stream",
     "text": [
      "Train Epoch 0:  26%|█████████▍                           | 428/1678 [01:23<03:59,  5.22batch/s, train_loss=-1.31e+4]"
     ]
    },
    {
     "name": "stdout",
     "output_type": "stream",
     "text": [
      "\n",
      "torch.Size([3, 250, 250]) (48,)\n",
      "torch.Size([3, 250, 250])\n",
      "torch.Size([3, 250, 250]) (48,)\n",
      "torch.Size([3, 250, 250])"
     ]
    },
    {
     "name": "stderr",
     "output_type": "stream",
     "text": [
      "Train Epoch 0:  26%|█████████▍                           | 429/1678 [01:23<03:56,  5.28batch/s, train_loss=-1.32e+4]"
     ]
    },
    {
     "name": "stdout",
     "output_type": "stream",
     "text": [
      "\n",
      "torch.Size([3, 250, 250]) (48,)\n",
      "torch.Size([3, 250, 250])\n",
      "torch.Size([3, 250, 250]) (48,)\n",
      "torch.Size([3, 250, 250])"
     ]
    },
    {
     "name": "stderr",
     "output_type": "stream",
     "text": [
      "Train Epoch 0:  26%|█████████▍                           | 430/1678 [01:24<04:02,  5.15batch/s, train_loss=-1.15e+4]"
     ]
    },
    {
     "name": "stdout",
     "output_type": "stream",
     "text": [
      "\n",
      "torch.Size([3, 250, 250]) (48,)\n",
      "torch.Size([3, 250, 250])\n",
      "torch.Size([3, 250, 250]) (48,)\n",
      "torch.Size([3, 250, 250])"
     ]
    },
    {
     "name": "stderr",
     "output_type": "stream",
     "text": [
      "Train Epoch 0:  26%|█████████▌                           | 431/1678 [01:24<03:58,  5.22batch/s, train_loss=-1.31e+4]"
     ]
    },
    {
     "name": "stdout",
     "output_type": "stream",
     "text": [
      "\n",
      "torch.Size([3, 250, 250]) (48,)\n",
      "torch.Size([3, 250, 250])\n",
      "torch.Size([3, 250, 250]) (48,)\n",
      "torch.Size([3, 250, 250])"
     ]
    },
    {
     "name": "stderr",
     "output_type": "stream",
     "text": [
      "Train Epoch 0:  26%|█████████▌                           | 432/1678 [01:24<03:56,  5.28batch/s, train_loss=-1.27e+4]"
     ]
    },
    {
     "name": "stdout",
     "output_type": "stream",
     "text": [
      "\n",
      "torch.Size([3, 250, 250]) (48,)\n",
      "torch.Size([3, 250, 250])\n",
      "torch.Size([3, 250, 250]) (48,)\n",
      "torch.Size([3, 250, 250])\n",
      "torch.Size([3, 250, 250]) (48,)\n",
      "torch.Size([3, 250, 250])"
     ]
    },
    {
     "name": "stderr",
     "output_type": "stream",
     "text": [
      "Train Epoch 0:  26%|█████████▌                           | 433/1678 [01:24<03:54,  5.30batch/s, train_loss=-1.29e+4]"
     ]
    },
    {
     "name": "stdout",
     "output_type": "stream",
     "text": [
      "\n",
      "torch.Size([3, 250, 250]) (48,)\n",
      "torch.Size([3, 250, 250])\n",
      "torch.Size([3, 250, 250]) (48,)\n",
      "torch.Size([3, 250, 250])\n",
      "torch.Size([3, 250, 250]) (48,)\n"
     ]
    },
    {
     "name": "stderr",
     "output_type": "stream",
     "text": [
      "Train Epoch 0:  26%|█████████▌                           | 435/1678 [01:25<03:56,  5.25batch/s, train_loss=-1.25e+4]"
     ]
    },
    {
     "name": "stdout",
     "output_type": "stream",
     "text": [
      "torch.Size([3, 250, 250])\n",
      "torch.Size([3, 250, 250]) (48,)\n",
      "torch.Size([3, 250, 250])\n",
      "torch.Size([3, 250, 250]) (48,)\n",
      "torch.Size([3, 250, 250])"
     ]
    },
    {
     "name": "stderr",
     "output_type": "stream",
     "text": [
      "Train Epoch 0:  26%|█████████▌                           | 436/1678 [01:25<03:58,  5.21batch/s, train_loss=-1.14e+4]"
     ]
    },
    {
     "name": "stdout",
     "output_type": "stream",
     "text": [
      "\n",
      "torch.Size([3, 250, 250]) (48,)\n",
      "torch.Size([3, 250, 250])\n",
      "torch.Size([3, 250, 250]) (48,)\n",
      "torch.Size([3, 250, 250])"
     ]
    },
    {
     "name": "stderr",
     "output_type": "stream",
     "text": [
      "Train Epoch 0:  26%|█████████▋                           | 437/1678 [01:25<03:55,  5.27batch/s, train_loss=-1.19e+4]"
     ]
    },
    {
     "name": "stdout",
     "output_type": "stream",
     "text": [
      "\n",
      "torch.Size([3, 250, 250]) (48,)\n",
      "torch.Size([3, 250, 250])\n",
      "torch.Size([3, 250, 250]) (48,)\n",
      "torch.Size([3, 250, 250])"
     ]
    },
    {
     "name": "stderr",
     "output_type": "stream",
     "text": [
      "Train Epoch 0:  26%|█████████▋                           | 438/1678 [01:25<03:57,  5.22batch/s, train_loss=-1.13e+4]"
     ]
    },
    {
     "name": "stdout",
     "output_type": "stream",
     "text": [
      "\n",
      "torch.Size([3, 250, 250]) (48,)\n",
      "torch.Size([3, 250, 250])\n",
      "torch.Size([3, 250, 250]) (48,)\n"
     ]
    },
    {
     "name": "stderr",
     "output_type": "stream",
     "text": [
      "Train Epoch 0:  26%|█████████▋                           | 439/1678 [01:25<04:00,  5.14batch/s, train_loss=-1.14e+4]"
     ]
    },
    {
     "name": "stdout",
     "output_type": "stream",
     "text": [
      "torch.Size([3, 250, 250])\n",
      "torch.Size([3, 250, 250]) (48,)\n",
      "torch.Size([3, 250, 250])\n",
      "torch.Size([3, 250, 250]) (48,)\n",
      "torch.Size([3, 250, 250])"
     ]
    },
    {
     "name": "stderr",
     "output_type": "stream",
     "text": [
      "Train Epoch 0:  26%|█████████▋                           | 440/1678 [01:25<03:57,  5.21batch/s, train_loss=-1.22e+4]"
     ]
    },
    {
     "name": "stdout",
     "output_type": "stream",
     "text": [
      "\n",
      "torch.Size([3, 250, 250]) (48,)\n",
      "torch.Size([3, 250, 250])\n",
      "torch.Size([3, 250, 250]) (48,)\n",
      "torch.Size([3, 250, 250])"
     ]
    },
    {
     "name": "stderr",
     "output_type": "stream",
     "text": [
      "Train Epoch 0:  26%|█████████▋                           | 441/1678 [01:26<03:58,  5.19batch/s, train_loss=-1.11e+4]"
     ]
    },
    {
     "name": "stdout",
     "output_type": "stream",
     "text": [
      "\n",
      "torch.Size([3, 250, 250]) (48,)\n",
      "torch.Size([3, 250, 250])\n",
      "torch.Size([3, 250, 250]) (48,)\n",
      "torch.Size([3, 250, 250])"
     ]
    },
    {
     "name": "stderr",
     "output_type": "stream",
     "text": [
      "Train Epoch 0:  26%|█████████▋                           | 442/1678 [01:26<03:54,  5.28batch/s, train_loss=-9.84e+3]"
     ]
    },
    {
     "name": "stdout",
     "output_type": "stream",
     "text": [
      "\n",
      "torch.Size([3, 250, 250]) (48,)\n",
      "torch.Size([3, 250, 250])\n",
      "torch.Size([3, 250, 250]) (48,)\n",
      "torch.Size([3, 250, 250])"
     ]
    },
    {
     "name": "stderr",
     "output_type": "stream",
     "text": [
      "Train Epoch 0:  26%|█████████▊                           | 443/1678 [01:26<03:53,  5.29batch/s, train_loss=-9.78e+3]"
     ]
    },
    {
     "name": "stdout",
     "output_type": "stream",
     "text": [
      "\n",
      "torch.Size([3, 250, 250]) (48,)\n",
      "torch.Size([3, 250, 250])\n",
      "torch.Size([3, 250, 250]) (48,)\n",
      "torch.Size([3, 250, 250])\n",
      "torch.Size([3, 250, 250]) "
     ]
    },
    {
     "name": "stderr",
     "output_type": "stream",
     "text": [
      "Train Epoch 0:  26%|█████████▊                           | 444/1678 [01:26<03:51,  5.34batch/s, train_loss=-1.18e+4]"
     ]
    },
    {
     "name": "stdout",
     "output_type": "stream",
     "text": [
      "(48,)\n",
      "torch.Size([3, 250, 250])\n",
      "torch.Size([3, 250, 250]) (48,)\n",
      "torch.Size([3, 250, 250])\n",
      "torch.Size([3, 250, 250]) (48,)\n",
      "torch.Size([3, 250, 250])"
     ]
    },
    {
     "name": "stderr",
     "output_type": "stream",
     "text": [
      "Train Epoch 0:  27%|█████████▊                           | 445/1678 [01:26<03:49,  5.37batch/s, train_loss=-9.93e+3]"
     ]
    },
    {
     "name": "stdout",
     "output_type": "stream",
     "text": [
      "\n",
      "torch.Size([3, 250, 250]) (48,)\n",
      "torch.Size([3, 250, 250])\n",
      "torch.Size([3, 250, 250]) (48,)\n",
      "torch.Size([3, 250, 250])"
     ]
    },
    {
     "name": "stderr",
     "output_type": "stream",
     "text": [
      "Train Epoch 0:  27%|█████████▊                           | 446/1678 [01:27<03:48,  5.39batch/s, train_loss=-1.26e+4]"
     ]
    },
    {
     "name": "stdout",
     "output_type": "stream",
     "text": [
      "\n",
      "torch.Size([3, 250, 250]) (48,)\n",
      "torch.Size([3, 250, 250])\n",
      "torch.Size([3, 250, 250]) (48,)\n",
      "torch.Size([3, 250, 250])"
     ]
    },
    {
     "name": "stderr",
     "output_type": "stream",
     "text": [
      "Train Epoch 0:  27%|█████████▊                           | 447/1678 [01:27<03:51,  5.31batch/s, train_loss=-1.04e+4]"
     ]
    },
    {
     "name": "stdout",
     "output_type": "stream",
     "text": [
      "\n",
      "torch.Size([3, 250, 250]) (48,)\n",
      "torch.Size([3, 250, 250])\n",
      "torch.Size([3, 250, 250]) (48,)\n"
     ]
    },
    {
     "name": "stderr",
     "output_type": "stream",
     "text": [
      "Train Epoch 0:  27%|█████████▉                           | 448/1678 [01:27<03:57,  5.18batch/s, train_loss=-1.07e+4]"
     ]
    },
    {
     "name": "stdout",
     "output_type": "stream",
     "text": [
      "torch.Size([3, 250, 250])\n",
      "torch.Size([3, 250, 250]) (48,)\n",
      "torch.Size([3, 250, 250])\n",
      "torch.Size([3, 250, 250]) (48,)\n",
      "torch.Size([3, 250, 250])"
     ]
    },
    {
     "name": "stderr",
     "output_type": "stream",
     "text": [
      "Train Epoch 0:  27%|█████████▉                           | 449/1678 [01:27<03:53,  5.26batch/s, train_loss=-1.11e+4]"
     ]
    },
    {
     "name": "stdout",
     "output_type": "stream",
     "text": [
      "\n",
      "torch.Size([3, 250, 250]) (48,)\n",
      "torch.Size([3, 250, 250])\n",
      "torch.Size([3, 250, 250]) (48,)\n",
      "torch.Size([3, 250, 250])"
     ]
    },
    {
     "name": "stderr",
     "output_type": "stream",
     "text": [
      "Train Epoch 0:  27%|█████████▉                           | 450/1678 [01:27<03:54,  5.23batch/s, train_loss=-1.12e+4]"
     ]
    },
    {
     "name": "stdout",
     "output_type": "stream",
     "text": [
      "\n",
      "torch.Size([3, 250, 250]) (48,)\n",
      "torch.Size([3, 250, 250])\n",
      "torch.Size([3, 250, 250]) (48,)\n",
      "torch.Size([3, 250, 250])"
     ]
    },
    {
     "name": "stderr",
     "output_type": "stream",
     "text": [
      "Train Epoch 0:  27%|█████████▉                           | 451/1678 [01:28<03:52,  5.28batch/s, train_loss=-1.12e+4]"
     ]
    },
    {
     "name": "stdout",
     "output_type": "stream",
     "text": [
      "\n",
      "torch.Size([3, 250, 250]) (48,)\n",
      "torch.Size([3, 250, 250])\n",
      "torch.Size([3, 250, 250]) (48,)\n",
      "torch.Size([3, 250, 250])"
     ]
    },
    {
     "name": "stderr",
     "output_type": "stream",
     "text": [
      "Train Epoch 0:  27%|██████████▏                           | 452/1678 [01:28<03:51,  5.29batch/s, train_loss=-1.2e+4]"
     ]
    },
    {
     "name": "stdout",
     "output_type": "stream",
     "text": [
      "\n",
      "torch.Size([3, 250, 250]) (48,)\n",
      "torch.Size([3, 250, 250])\n",
      "torch.Size([3, 250, 250]) (48,)\n"
     ]
    },
    {
     "name": "stderr",
     "output_type": "stream",
     "text": [
      "Train Epoch 0:  27%|█████████▉                           | 453/1678 [01:28<03:54,  5.23batch/s, train_loss=-1.09e+4]"
     ]
    },
    {
     "name": "stdout",
     "output_type": "stream",
     "text": [
      "torch.Size([3, 250, 250])\n",
      "torch.Size([3, 250, 250]) (48,)\n",
      "torch.Size([3, 250, 250])\n",
      "torch.Size([3, 250, 250]) (48,)\n",
      "torch.Size([3, 250, 250])"
     ]
    },
    {
     "name": "stderr",
     "output_type": "stream",
     "text": [
      "Train Epoch 0:  27%|██████████                           | 454/1678 [01:28<03:53,  5.25batch/s, train_loss=-1.24e+4]"
     ]
    },
    {
     "name": "stdout",
     "output_type": "stream",
     "text": [
      "\n",
      "torch.Size([3, 250, 250]) (48,)\n",
      "torch.Size([3, 250, 250])\n",
      "torch.Size([3, 250, 250]) (48,)\n"
     ]
    },
    {
     "name": "stderr",
     "output_type": "stream",
     "text": [
      "Train Epoch 0:  27%|██████████                           | 455/1678 [01:28<03:59,  5.11batch/s, train_loss=-1.36e+4]"
     ]
    },
    {
     "name": "stdout",
     "output_type": "stream",
     "text": [
      "torch.Size([3, 250, 250])\n",
      "torch.Size([3, 250, 250]) (48,)\n",
      "torch.Size([3, 250, 250])\n",
      "torch.Size([3, 250, 250]) (48,)\n",
      "torch.Size([3, 250, 250])"
     ]
    },
    {
     "name": "stderr",
     "output_type": "stream",
     "text": [
      "Train Epoch 0:  27%|██████████                           | 456/1678 [01:29<04:01,  5.06batch/s, train_loss=-1.36e+4]"
     ]
    },
    {
     "name": "stdout",
     "output_type": "stream",
     "text": [
      "\n",
      "torch.Size([3, 250, 250]) (48,)\n",
      "torch.Size([3, 250, 250])\n",
      "torch.Size([3, 250, 250]) (48,)\n",
      "torch.Size([3, 250, 250])"
     ]
    },
    {
     "name": "stderr",
     "output_type": "stream",
     "text": [
      "Train Epoch 0:  27%|██████████                           | 457/1678 [01:29<03:57,  5.14batch/s, train_loss=-1.36e+4]"
     ]
    },
    {
     "name": "stdout",
     "output_type": "stream",
     "text": [
      "\n",
      "torch.Size([3, 250, 250]) (48,)\n",
      "torch.Size([3, 250, 250])\n",
      "torch.Size([3, 250, 250]) (48,)\n",
      "torch.Size([3, 250, 250])"
     ]
    },
    {
     "name": "stderr",
     "output_type": "stream",
     "text": [
      "Train Epoch 0:  27%|██████████                           | 458/1678 [01:29<03:58,  5.12batch/s, train_loss=-1.23e+4]"
     ]
    },
    {
     "name": "stdout",
     "output_type": "stream",
     "text": [
      "\n",
      "torch.Size([3, 250, 250]) (48,)\n",
      "torch.Size([3, 250, 250])\n",
      "torch.Size([3, 250, 250]) (48,)\n",
      "torch.Size([3, 250, 250])"
     ]
    },
    {
     "name": "stderr",
     "output_type": "stream",
     "text": [
      "Train Epoch 0:  27%|██████████                           | 459/1678 [01:29<03:54,  5.20batch/s, train_loss=-1.39e+4]"
     ]
    },
    {
     "name": "stdout",
     "output_type": "stream",
     "text": [
      "\n",
      "torch.Size([3, 250, 250]) (48,)\n",
      "torch.Size([3, 250, 250])\n",
      "torch.Size([3, 250, 250]) (48,)\n",
      "torch.Size([3, 250, 250])"
     ]
    },
    {
     "name": "stderr",
     "output_type": "stream",
     "text": [
      "Train Epoch 0:  27%|██████████▏                          | 460/1678 [01:29<03:54,  5.19batch/s, train_loss=-1.27e+4]"
     ]
    },
    {
     "name": "stdout",
     "output_type": "stream",
     "text": [
      "\n",
      "torch.Size([3, 250, 250]) (48,)\n",
      "torch.Size([3, 250, 250])\n",
      "torch.Size([3, 250, 250]) (48,)\n",
      "torch.Size([3, 250, 250])"
     ]
    },
    {
     "name": "stderr",
     "output_type": "stream",
     "text": [
      "Train Epoch 0:  27%|██████████▏                          | 461/1678 [01:30<03:55,  5.16batch/s, train_loss=-1.31e+4]"
     ]
    },
    {
     "name": "stdout",
     "output_type": "stream",
     "text": [
      "\n",
      "torch.Size([3, 250, 250]) (48,)\n",
      "torch.Size([3, 250, 250])\n",
      "torch.Size([3, 250, 250]) (48,)\n"
     ]
    },
    {
     "name": "stderr",
     "output_type": "stream",
     "text": [
      "Train Epoch 0:  28%|██████████▏                          | 462/1678 [01:30<03:56,  5.14batch/s, train_loss=-1.25e+4]"
     ]
    },
    {
     "name": "stdout",
     "output_type": "stream",
     "text": [
      "torch.Size([3, 250, 250])\n",
      "torch.Size([3, 250, 250]) (48,)\n",
      "torch.Size([3, 250, 250])\n",
      "torch.Size([3, 250, 250]) (48,)\n",
      "torch.Size([3, 250, 250])"
     ]
    },
    {
     "name": "stderr",
     "output_type": "stream",
     "text": [
      "Train Epoch 0:  28%|██████████▏                          | 463/1678 [01:30<03:56,  5.13batch/s, train_loss=-1.22e+4]"
     ]
    },
    {
     "name": "stdout",
     "output_type": "stream",
     "text": [
      "\n",
      "torch.Size([3, 250, 250]) (48,)\n",
      "torch.Size([3, 250, 250])\n",
      "torch.Size([3, 250, 250]) (48,)\n",
      "torch.Size([3, 250, 250])"
     ]
    },
    {
     "name": "stderr",
     "output_type": "stream",
     "text": [
      "Train Epoch 0:  28%|██████████▏                          | 464/1678 [01:30<03:52,  5.21batch/s, train_loss=-1.26e+4]"
     ]
    },
    {
     "name": "stdout",
     "output_type": "stream",
     "text": [
      "\n",
      "torch.Size([3, 250, 250]) (48,)\n",
      "torch.Size([3, 250, 250])\n",
      "torch.Size([3, 250, 250]) (48,)\n",
      "torch.Size([3, 250, 250])"
     ]
    },
    {
     "name": "stderr",
     "output_type": "stream",
     "text": [
      "Train Epoch 0:  28%|██████████▎                          | 465/1678 [01:30<03:49,  5.28batch/s, train_loss=-1.28e+4]"
     ]
    },
    {
     "name": "stdout",
     "output_type": "stream",
     "text": [
      "\n",
      "torch.Size([3, 250, 250]) (48,)\n",
      "torch.Size([3, 250, 250])\n",
      "torch.Size([3, 250, 250]) (48,)\n"
     ]
    },
    {
     "name": "stderr",
     "output_type": "stream",
     "text": [
      "Train Epoch 0:  28%|██████████▎                          | 466/1678 [01:30<03:55,  5.14batch/s, train_loss=-1.26e+4]"
     ]
    },
    {
     "name": "stdout",
     "output_type": "stream",
     "text": [
      "torch.Size([3, 250, 250])\n",
      "torch.Size([3, 250, 250]) (48,)\n",
      "torch.Size([3, 250, 250])\n",
      "torch.Size([3, 250, 250]) (48,)\n",
      "torch.Size([3, 250, 250])"
     ]
    },
    {
     "name": "stderr",
     "output_type": "stream",
     "text": [
      "Train Epoch 0:  28%|██████████▎                          | 467/1678 [01:31<03:54,  5.17batch/s, train_loss=-1.27e+4]"
     ]
    },
    {
     "name": "stdout",
     "output_type": "stream",
     "text": [
      "\n",
      "torch.Size([3, 250, 250]) (48,)\n",
      "torch.Size([3, 250, 250])\n",
      "torch.Size([3, 250, 250]) (48,)\n",
      "torch.Size([3, 250, 250])"
     ]
    },
    {
     "name": "stderr",
     "output_type": "stream",
     "text": [
      "Train Epoch 0:  28%|██████████▌                           | 468/1678 [01:31<03:50,  5.25batch/s, train_loss=-1.3e+4]"
     ]
    },
    {
     "name": "stdout",
     "output_type": "stream",
     "text": [
      "\n",
      "torch.Size([3, 250, 250]) (48,)\n",
      "torch.Size([3, 250, 250])\n",
      "torch.Size([3, 250, 250]) (48,)\n",
      "torch.Size([3, 250, 250])"
     ]
    },
    {
     "name": "stderr",
     "output_type": "stream",
     "text": [
      "Train Epoch 0:  28%|██████████▎                          | 469/1678 [01:31<03:51,  5.21batch/s, train_loss=-1.21e+4]"
     ]
    },
    {
     "name": "stdout",
     "output_type": "stream",
     "text": [
      "\n",
      "torch.Size([3, 250, 250]) (48,)\n",
      "torch.Size([3, 250, 250])\n",
      "torch.Size([3, 250, 250]) (48,)\n",
      "torch.Size([3, 250, 250])"
     ]
    },
    {
     "name": "stderr",
     "output_type": "stream",
     "text": [
      "Train Epoch 0:  28%|██████████▎                          | 470/1678 [01:31<03:51,  5.22batch/s, train_loss=-1.22e+4]"
     ]
    },
    {
     "name": "stdout",
     "output_type": "stream",
     "text": [
      "\n",
      "torch.Size([3, 250, 250]) (48,)\n",
      "torch.Size([3, 250, 250])\n",
      "torch.Size([3, 250, 250]) (48,)\n",
      "torch.Size([3, 250, 250])"
     ]
    },
    {
     "name": "stderr",
     "output_type": "stream",
     "text": [
      "Train Epoch 0:  28%|██████████▍                          | 471/1678 [01:31<03:51,  5.21batch/s, train_loss=-1.22e+4]"
     ]
    },
    {
     "name": "stdout",
     "output_type": "stream",
     "text": [
      "\n",
      "torch.Size([3, 250, 250]) (48,)\n",
      "torch.Size([3, 250, 250])\n",
      "torch.Size([3, 250, 250]) (48,)\n",
      "torch.Size([3, 250, 250])"
     ]
    },
    {
     "name": "stderr",
     "output_type": "stream",
     "text": [
      "Train Epoch 0:  28%|██████████▍                          | 472/1678 [01:32<03:51,  5.22batch/s, train_loss=-1.16e+4]"
     ]
    },
    {
     "name": "stdout",
     "output_type": "stream",
     "text": [
      "\n",
      "torch.Size([3, 250, 250]) (48,)\n",
      "torch.Size([3, 250, 250])\n",
      "torch.Size([3, 250, 250]) (48,)\n",
      "torch.Size([3, 250, 250])"
     ]
    },
    {
     "name": "stderr",
     "output_type": "stream",
     "text": [
      "Train Epoch 0:  28%|██████████▍                          | 473/1678 [01:32<03:49,  5.25batch/s, train_loss=-1.19e+4]"
     ]
    },
    {
     "name": "stdout",
     "output_type": "stream",
     "text": [
      "\n",
      "torch.Size([3, 250, 250]) (48,)\n",
      "torch.Size([3, 250, 250])\n",
      "torch.Size([3, 250, 250]) (48,)\n",
      "torch.Size([3, 250, 250])"
     ]
    },
    {
     "name": "stderr",
     "output_type": "stream",
     "text": [
      "Train Epoch 0:  28%|██████████▍                          | 474/1678 [01:32<03:51,  5.20batch/s, train_loss=-1.24e+4]"
     ]
    },
    {
     "name": "stdout",
     "output_type": "stream",
     "text": [
      "\n",
      "torch.Size([3, 250, 250]) (48,)\n",
      "torch.Size([3, 250, 250])\n",
      "torch.Size([3, 250, 250]) (48,)\n"
     ]
    },
    {
     "name": "stderr",
     "output_type": "stream",
     "text": [
      "Train Epoch 0:  28%|██████████▊                           | 475/1678 [01:32<03:53,  5.16batch/s, train_loss=-1.2e+4]"
     ]
    },
    {
     "name": "stdout",
     "output_type": "stream",
     "text": [
      "torch.Size([3, 250, 250])\n",
      "torch.Size([3, 250, 250]) (48,)\n",
      "torch.Size([3, 250, 250])\n",
      "torch.Size([3, 250, 250]) (48,)\n",
      "torch.Size([3, 250, 250])"
     ]
    },
    {
     "name": "stderr",
     "output_type": "stream",
     "text": [
      "Train Epoch 0:  28%|██████████▍                          | 476/1678 [01:32<03:50,  5.21batch/s, train_loss=-1.22e+4]"
     ]
    },
    {
     "name": "stdout",
     "output_type": "stream",
     "text": [
      "\n",
      "torch.Size([3, 250, 250]) (48,)\n",
      "torch.Size([3, 250, 250])\n",
      "torch.Size([3, 250, 250]) (48,)\n",
      "torch.Size([3, 250, 250])\n",
      "torch.Size([3, 250, 250]) (48,)\n"
     ]
    },
    {
     "name": "stderr",
     "output_type": "stream",
     "text": [
      "Train Epoch 0:  28%|██████████▌                          | 478/1678 [01:33<03:49,  5.23batch/s, train_loss=-1.11e+4]"
     ]
    },
    {
     "name": "stdout",
     "output_type": "stream",
     "text": [
      "torch.Size([3, 250, 250])\n",
      "torch.Size([3, 250, 250]) (48,)\n",
      "torch.Size([3, 250, 250])\n",
      "torch.Size([3, 250, 250]) (48,)\n",
      "torch.Size([3, 250, 250])"
     ]
    },
    {
     "name": "stderr",
     "output_type": "stream",
     "text": [
      "Train Epoch 0:  29%|██████████▌                          | 479/1678 [01:33<03:46,  5.29batch/s, train_loss=-1.03e+4]"
     ]
    },
    {
     "name": "stdout",
     "output_type": "stream",
     "text": [
      "\n",
      "torch.Size([3, 250, 250]) (48,)\n",
      "torch.Size([3, 250, 250])\n",
      "torch.Size([3, 250, 250]) (48,)\n",
      "torch.Size([3, 250, 250])"
     ]
    },
    {
     "name": "stderr",
     "output_type": "stream",
     "text": [
      "Train Epoch 0:  29%|██████████▌                          | 480/1678 [01:33<03:46,  5.28batch/s, train_loss=-9.45e+3]"
     ]
    },
    {
     "name": "stdout",
     "output_type": "stream",
     "text": [
      "\n",
      "torch.Size([3, 250, 250]) (48,)\n",
      "torch.Size([3, 250, 250])\n",
      "torch.Size([3, 250, 250]) (48,)\n",
      "torch.Size([3, 250, 250])"
     ]
    },
    {
     "name": "stderr",
     "output_type": "stream",
     "text": [
      "Train Epoch 0:  29%|██████████▌                          | 481/1678 [01:33<03:43,  5.37batch/s, train_loss=-1.23e+4]"
     ]
    },
    {
     "name": "stdout",
     "output_type": "stream",
     "text": [
      "\n",
      "torch.Size([3, 250, 250]) (48,)\n",
      "torch.Size([3, 250, 250])\n",
      "torch.Size([3, 250, 250]) (48,)\n",
      "torch.Size([3, 250, 250])"
     ]
    },
    {
     "name": "stderr",
     "output_type": "stream",
     "text": [
      "Train Epoch 0:  29%|██████████▉                           | 482/1678 [01:34<03:42,  5.38batch/s, train_loss=-1.2e+4]"
     ]
    },
    {
     "name": "stdout",
     "output_type": "stream",
     "text": [
      "\n",
      "torch.Size([3, 250, 250]) (48,)\n",
      "torch.Size([3, 250, 250])\n",
      "torch.Size([3, 250, 250]) (48,)\n",
      "torch.Size([3, 250, 250])"
     ]
    },
    {
     "name": "stderr",
     "output_type": "stream",
     "text": [
      "Train Epoch 0:  29%|██████████▋                          | 483/1678 [01:34<03:41,  5.39batch/s, train_loss=-1.22e+4]"
     ]
    },
    {
     "name": "stdout",
     "output_type": "stream",
     "text": [
      "\n",
      "torch.Size([3, 250, 250]) (48,)\n",
      "torch.Size([3, 250, 250])\n",
      "torch.Size([3, 250, 250]) (48,)\n",
      "torch.Size([3, 250, 250])"
     ]
    },
    {
     "name": "stderr",
     "output_type": "stream",
     "text": [
      "Train Epoch 0:  29%|██████████▋                          | 484/1678 [01:34<03:46,  5.28batch/s, train_loss=-1.19e+4]"
     ]
    },
    {
     "name": "stdout",
     "output_type": "stream",
     "text": [
      "\n",
      "torch.Size([3, 250, 250]) (48,)\n",
      "torch.Size([3, 250, 250])\n",
      "torch.Size([3, 250, 250]) (48,)\n",
      "torch.Size([3, 250, 250])"
     ]
    },
    {
     "name": "stderr",
     "output_type": "stream",
     "text": [
      "Train Epoch 0:  29%|██████████▋                          | 485/1678 [01:34<03:44,  5.31batch/s, train_loss=-1.38e+4]"
     ]
    },
    {
     "name": "stdout",
     "output_type": "stream",
     "text": [
      "\n",
      "torch.Size([3, 250, 250]) (48,)\n",
      "torch.Size([3, 250, 250])\n",
      "torch.Size([3, 250, 250]) (48,)\n",
      "torch.Size([3, 250, 250])"
     ]
    },
    {
     "name": "stderr",
     "output_type": "stream",
     "text": [
      "Train Epoch 0:  29%|██████████▋                          | 486/1678 [01:34<03:44,  5.31batch/s, train_loss=-1.06e+4]"
     ]
    },
    {
     "name": "stdout",
     "output_type": "stream",
     "text": [
      "\n",
      "torch.Size([3, 250, 250]) (48,)\n",
      "torch.Size([3, 250, 250])\n",
      "torch.Size([3, 250, 250]) (48,)\n",
      "torch.Size([3, 250, 250])\n"
     ]
    },
    {
     "name": "stderr",
     "output_type": "stream",
     "text": [
      "Train Epoch 0:  29%|██████████▋                          | 487/1678 [01:34<03:47,  5.24batch/s, train_loss=-1.11e+4]"
     ]
    },
    {
     "name": "stdout",
     "output_type": "stream",
     "text": [
      "torch.Size([3, 250, 250]) (48,)\n",
      "torch.Size([3, 250, 250])\n",
      "torch.Size([3, 250, 250]) (48,)\n",
      "torch.Size([3, 250, 250])"
     ]
    },
    {
     "name": "stderr",
     "output_type": "stream",
     "text": [
      "Train Epoch 0:  29%|██████████▊                          | 488/1678 [01:35<03:47,  5.23batch/s, train_loss=-1.23e+4]"
     ]
    },
    {
     "name": "stdout",
     "output_type": "stream",
     "text": [
      "\n",
      "torch.Size([3, 250, 250]) (48,)\n",
      "torch.Size([3, 250, 250])\n",
      "torch.Size([3, 250, 250]) (48,)\n",
      "torch.Size([3, 250, 250])"
     ]
    },
    {
     "name": "stderr",
     "output_type": "stream",
     "text": [
      "Train Epoch 0:  29%|██████████▊                          | 489/1678 [01:35<03:46,  5.25batch/s, train_loss=-1.25e+4]"
     ]
    },
    {
     "name": "stdout",
     "output_type": "stream",
     "text": [
      "\n",
      "torch.Size([3, 250, 250]) (48,)\n",
      "torch.Size([3, 250, 250])\n",
      "torch.Size([3, 250, 250]) (48,)\n",
      "torch.Size([3, 250, 250])"
     ]
    },
    {
     "name": "stderr",
     "output_type": "stream",
     "text": [
      "Train Epoch 0:  29%|██████████▊                          | 490/1678 [01:35<03:46,  5.25batch/s, train_loss=-1.24e+4]"
     ]
    },
    {
     "name": "stdout",
     "output_type": "stream",
     "text": [
      "\n",
      "torch.Size([3, 250, 250]) (48,)\n",
      "torch.Size([3, 250, 250])\n",
      "torch.Size([3, 250, 250]) (48,)\n",
      "torch.Size([3, 250, 250])"
     ]
    },
    {
     "name": "stderr",
     "output_type": "stream",
     "text": [
      "Train Epoch 0:  29%|██████████▊                          | 491/1678 [01:35<03:44,  5.29batch/s, train_loss=-1.35e+4]"
     ]
    },
    {
     "name": "stdout",
     "output_type": "stream",
     "text": [
      "\n",
      "torch.Size([3, 250, 250]) (48,)\n",
      "torch.Size([3, 250, 250])\n",
      "torch.Size([3, 250, 250]) (48,)\n"
     ]
    },
    {
     "name": "stderr",
     "output_type": "stream",
     "text": [
      "Train Epoch 0:  29%|██████████▊                          | 492/1678 [01:35<03:48,  5.18batch/s, train_loss=-1.36e+4]"
     ]
    },
    {
     "name": "stdout",
     "output_type": "stream",
     "text": [
      "torch.Size([3, 250, 250])\n",
      "torch.Size([3, 250, 250]) (48,)\n",
      "torch.Size([3, 250, 250])\n",
      "torch.Size([3, 250, 250]) (48,)\n",
      "torch.Size([3, 250, 250])"
     ]
    },
    {
     "name": "stderr",
     "output_type": "stream",
     "text": [
      "Train Epoch 0:  29%|██████████▊                          | 493/1678 [01:36<03:47,  5.22batch/s, train_loss=-1.14e+4]"
     ]
    },
    {
     "name": "stdout",
     "output_type": "stream",
     "text": [
      "\n",
      "torch.Size([3, 250, 250]) (48,)\n",
      "torch.Size([3, 250, 250])\n",
      "torch.Size([3, 250, 250]) (48,)\n"
     ]
    },
    {
     "name": "stderr",
     "output_type": "stream",
     "text": [
      "Train Epoch 0:  29%|██████████▉                          | 494/1678 [01:36<03:52,  5.08batch/s, train_loss=-1.23e+4]"
     ]
    },
    {
     "name": "stdout",
     "output_type": "stream",
     "text": [
      "torch.Size([3, 250, 250])\n",
      "torch.Size([3, 250, 250]) (48,)\n",
      "torch.Size([3, 250, 250])\n",
      "torch.Size([3, 250, 250]) (48,)\n",
      "torch.Size([3, 250, 250])\n"
     ]
    },
    {
     "name": "stderr",
     "output_type": "stream",
     "text": [
      "Train Epoch 0:  29%|██████████▉                          | 495/1678 [01:36<03:50,  5.14batch/s, train_loss=-1.29e+4]"
     ]
    },
    {
     "name": "stdout",
     "output_type": "stream",
     "text": [
      "torch.Size([3, 250, 250]) (48,)\n",
      "torch.Size([3, 250, 250])\n",
      "torch.Size([3, 250, 250]) (48,)\n",
      "torch.Size([3, 250, 250])"
     ]
    },
    {
     "name": "stderr",
     "output_type": "stream",
     "text": [
      "Train Epoch 0:  30%|██████████▉                          | 496/1678 [01:36<03:53,  5.07batch/s, train_loss=-1.27e+4]"
     ]
    },
    {
     "name": "stdout",
     "output_type": "stream",
     "text": [
      "\n",
      "torch.Size([3, 250, 250]) (48,)\n",
      "torch.Size([3, 250, 250])\n",
      "torch.Size([3, 250, 250]) (48,)\n",
      "torch.Size([3, 250, 250])"
     ]
    },
    {
     "name": "stderr",
     "output_type": "stream",
     "text": [
      "Train Epoch 0:  30%|██████████▉                          | 497/1678 [01:36<03:49,  5.15batch/s, train_loss=-1.29e+4]"
     ]
    },
    {
     "name": "stdout",
     "output_type": "stream",
     "text": [
      "\n",
      "torch.Size([3, 250, 250]) (48,)\n",
      "torch.Size([3, 250, 250])\n",
      "torch.Size([3, 250, 250]) (48,)\n",
      "torch.Size([3, 250, 250])\n",
      "torch.Size([3, 250, 250]) (48,)\n"
     ]
    },
    {
     "name": "stderr",
     "output_type": "stream",
     "text": [
      "Train Epoch 0:  30%|███████████▎                          | 498/1678 [01:37<03:48,  5.16batch/s, train_loss=-1.2e+4]"
     ]
    },
    {
     "name": "stdout",
     "output_type": "stream",
     "text": [
      "torch.Size([3, 250, 250])\n",
      "torch.Size([3, 250, 250]) (48,)\n",
      "torch.Size([3, 250, 250])\n",
      "torch.Size([3, 250, 250]) (48,)\n",
      "torch.Size([3, 250, 250])\n",
      "torch.Size([3, 250, 250]) (48,)\n"
     ]
    },
    {
     "name": "stderr",
     "output_type": "stream",
     "text": [
      "Train Epoch 0:  30%|███████████                          | 500/1678 [01:37<03:47,  5.18batch/s, train_loss=-1.28e+4]"
     ]
    },
    {
     "name": "stdout",
     "output_type": "stream",
     "text": [
      "torch.Size([3, 250, 250])\n",
      "torch.Size([3, 250, 250]) (48,)\n",
      "torch.Size([3, 250, 250])\n",
      "torch.Size([3, 250, 250]) (48,)\n",
      "torch.Size([3, 250, 250])"
     ]
    },
    {
     "name": "stderr",
     "output_type": "stream",
     "text": [
      "Train Epoch 0:  30%|███████████                          | 501/1678 [01:37<03:46,  5.19batch/s, train_loss=-1.24e+4]"
     ]
    },
    {
     "name": "stdout",
     "output_type": "stream",
     "text": [
      "\n",
      "torch.Size([3, 250, 250]) (48,)\n",
      "torch.Size([3, 250, 250])\n",
      "torch.Size([3, 250, 250]) (48,)\n"
     ]
    },
    {
     "name": "stderr",
     "output_type": "stream",
     "text": [
      "Train Epoch 0:  30%|███████████                          | 502/1678 [01:37<03:45,  5.21batch/s, train_loss=-1.16e+4]"
     ]
    },
    {
     "name": "stdout",
     "output_type": "stream",
     "text": [
      "torch.Size([3, 250, 250])\n",
      "torch.Size([3, 250, 250]) (48,)\n",
      "torch.Size([3, 250, 250])\n",
      "torch.Size([3, 250, 250]) (48,)\n",
      "torch.Size([3, 250, 250])\n"
     ]
    },
    {
     "name": "stderr",
     "output_type": "stream",
     "text": [
      "Train Epoch 0:  30%|███████████                          | 503/1678 [01:38<03:43,  5.25batch/s, train_loss=-1.32e+4]"
     ]
    },
    {
     "name": "stdout",
     "output_type": "stream",
     "text": [
      "torch.Size([3, 250, 250]) (48,)\n",
      "torch.Size([3, 250, 250])\n",
      "torch.Size([3, 250, 250]) (48,)\n",
      "torch.Size([3, 250, 250])\n"
     ]
    },
    {
     "name": "stderr",
     "output_type": "stream",
     "text": [
      "Train Epoch 0:  30%|███████████                          | 504/1678 [01:38<03:42,  5.27batch/s, train_loss=-1.22e+4]"
     ]
    },
    {
     "name": "stdout",
     "output_type": "stream",
     "text": [
      "torch.Size([3, 250, 250]) (48,)\n",
      "torch.Size([3, 250, 250])\n",
      "torch.Size([3, 250, 250]) (48,)\n",
      "torch.Size([3, 250, 250])"
     ]
    },
    {
     "name": "stderr",
     "output_type": "stream",
     "text": [
      "Train Epoch 0:  30%|███████████▏                         | 505/1678 [01:38<03:42,  5.27batch/s, train_loss=-1.25e+4]"
     ]
    },
    {
     "name": "stdout",
     "output_type": "stream",
     "text": [
      "\n",
      "torch.Size([3, 250, 250]) (48,)\n",
      "torch.Size([3, 250, 250])\n",
      "torch.Size([3, 250, 250]) (48,)\n",
      "torch.Size([3, 250, 250])"
     ]
    },
    {
     "name": "stderr",
     "output_type": "stream",
     "text": [
      "Train Epoch 0:  30%|███████████▏                         | 506/1678 [01:38<03:44,  5.22batch/s, train_loss=-1.33e+4]"
     ]
    },
    {
     "name": "stdout",
     "output_type": "stream",
     "text": [
      "\n",
      "torch.Size([3, 250, 250]) (48,)\n",
      "torch.Size([3, 250, 250])\n",
      "torch.Size([3, 250, 250]) (48,)\n",
      "torch.Size([3, 250, 250])"
     ]
    },
    {
     "name": "stderr",
     "output_type": "stream",
     "text": [
      "Train Epoch 0:  30%|███████████▍                          | 507/1678 [01:38<03:42,  5.27batch/s, train_loss=-1.2e+4]"
     ]
    },
    {
     "name": "stdout",
     "output_type": "stream",
     "text": [
      "\n",
      "torch.Size([3, 250, 250]) (48,)\n",
      "torch.Size([3, 250, 250])\n",
      "torch.Size([3, 250, 250]) (48,)\n",
      "torch.Size([3, 250, 250])"
     ]
    },
    {
     "name": "stderr",
     "output_type": "stream",
     "text": [
      "Train Epoch 0:  30%|███████████▏                         | 508/1678 [01:38<03:43,  5.24batch/s, train_loss=-1.24e+4]"
     ]
    },
    {
     "name": "stdout",
     "output_type": "stream",
     "text": [
      "\n",
      "torch.Size([3, 250, 250]) (48,)\n",
      "torch.Size([3, 250, 250])\n",
      "torch.Size([3, 250, 250]) (48,)\n",
      "torch.Size([3, 250, 250])"
     ]
    },
    {
     "name": "stderr",
     "output_type": "stream",
     "text": [
      "Train Epoch 0:  30%|███████████▏                         | 509/1678 [01:39<03:40,  5.30batch/s, train_loss=-1.05e+4]"
     ]
    },
    {
     "name": "stdout",
     "output_type": "stream",
     "text": [
      "\n",
      "torch.Size([3, 250, 250]) (48,)\n",
      "torch.Size([3, 250, 250])\n",
      "torch.Size([3, 250, 250]) (48,)\n",
      "torch.Size([3, 250, 250])\n",
      "torch.Size([3, 250, 250]) (48,)\n",
      "torch.Size([3, 250, 250])"
     ]
    },
    {
     "name": "stderr",
     "output_type": "stream",
     "text": [
      "Train Epoch 0:  30%|███████████▏                         | 510/1678 [01:39<03:38,  5.35batch/s, train_loss=-1.41e+4]"
     ]
    },
    {
     "name": "stdout",
     "output_type": "stream",
     "text": [
      "\n",
      "torch.Size([3, 250, 250]) (48,)\n",
      "torch.Size([3, 250, 250])\n",
      "torch.Size([3, 250, 250]) (48,)\n",
      "torch.Size([3, 250, 250])"
     ]
    },
    {
     "name": "stderr",
     "output_type": "stream",
     "text": [
      "Train Epoch 0:  30%|███████████▎                         | 511/1678 [01:39<03:40,  5.29batch/s, train_loss=-1.24e+4]"
     ]
    },
    {
     "name": "stdout",
     "output_type": "stream",
     "text": [
      "\n",
      "torch.Size([3, 250, 250]) (48,)\n",
      "torch.Size([3, 250, 250])\n",
      "torch.Size([3, 250, 250]) (48,)\n",
      "torch.Size([3, 250, 250])"
     ]
    },
    {
     "name": "stderr",
     "output_type": "stream",
     "text": [
      "Train Epoch 0:  31%|███████████▌                          | 512/1678 [01:39<03:37,  5.36batch/s, train_loss=-1.1e+4]"
     ]
    },
    {
     "name": "stdout",
     "output_type": "stream",
     "text": [
      "\n",
      "torch.Size([3, 250, 250]) (48,)\n",
      "torch.Size([3, 250, 250])\n",
      "torch.Size([3, 250, 250]) (48,)\n",
      "torch.Size([3, 250, 250])"
     ]
    },
    {
     "name": "stderr",
     "output_type": "stream",
     "text": [
      "Train Epoch 0:  31%|███████████▌                          | 513/1678 [01:39<03:40,  5.29batch/s, train_loss=-1.2e+4]"
     ]
    },
    {
     "name": "stdout",
     "output_type": "stream",
     "text": [
      "\n",
      "torch.Size([3, 250, 250]) (48,)\n",
      "torch.Size([3, 250, 250])\n",
      "torch.Size([3, 250, 250]) (48,)\n",
      "torch.Size([3, 250, 250])"
     ]
    },
    {
     "name": "stderr",
     "output_type": "stream",
     "text": [
      "Train Epoch 0:  31%|███████████▎                         | 514/1678 [01:40<03:39,  5.31batch/s, train_loss=-1.23e+4]"
     ]
    },
    {
     "name": "stdout",
     "output_type": "stream",
     "text": [
      "\n",
      "torch.Size([3, 250, 250]) (48,)\n",
      "torch.Size([3, 250, 250])\n",
      "torch.Size([3, 250, 250]) (48,)\n"
     ]
    },
    {
     "name": "stderr",
     "output_type": "stream",
     "text": [
      "Train Epoch 0:  31%|███████████▎                         | 515/1678 [01:40<03:41,  5.25batch/s, train_loss=-1.11e+4]"
     ]
    },
    {
     "name": "stdout",
     "output_type": "stream",
     "text": [
      "torch.Size([3, 250, 250])\n",
      "torch.Size([3, 250, 250]) (48,)\n",
      "torch.Size([3, 250, 250])\n",
      "torch.Size([3, 250, 250]) (48,)\n",
      "torch.Size([3, 250, 250])"
     ]
    },
    {
     "name": "stderr",
     "output_type": "stream",
     "text": [
      "Train Epoch 0:  31%|███████████▍                         | 516/1678 [01:40<03:40,  5.27batch/s, train_loss=-1.14e+4]"
     ]
    },
    {
     "name": "stdout",
     "output_type": "stream",
     "text": [
      "\n",
      "torch.Size([3, 250, 250]) (48,)\n",
      "torch.Size([3, 250, 250])\n",
      "torch.Size([3, 250, 250]) (48,)\n",
      "torch.Size([3, 250, 250])"
     ]
    },
    {
     "name": "stderr",
     "output_type": "stream",
     "text": [
      "Train Epoch 0:  31%|███████████▍                         | 517/1678 [01:40<03:42,  5.22batch/s, train_loss=-1.12e+4]"
     ]
    },
    {
     "name": "stdout",
     "output_type": "stream",
     "text": [
      "\n",
      "torch.Size([3, 250, 250]) (48,)\n",
      "torch.Size([3, 250, 250])\n",
      "torch.Size([3, 250, 250]) (48,)\n",
      "torch.Size([3, 250, 250])"
     ]
    },
    {
     "name": "stderr",
     "output_type": "stream",
     "text": [
      "Train Epoch 0:  31%|███████████▍                         | 518/1678 [01:40<03:44,  5.16batch/s, train_loss=-1.11e+4]"
     ]
    },
    {
     "name": "stdout",
     "output_type": "stream",
     "text": [
      "\n",
      "torch.Size([3, 250, 250]) (48,)\n",
      "torch.Size([3, 250, 250])\n",
      "torch.Size([3, 250, 250]) (48,)\n",
      "torch.Size([3, 250, 250])"
     ]
    },
    {
     "name": "stderr",
     "output_type": "stream",
     "text": [
      "Train Epoch 0:  31%|███████████▍                         | 519/1678 [01:41<03:42,  5.21batch/s, train_loss=-1.23e+4]"
     ]
    },
    {
     "name": "stdout",
     "output_type": "stream",
     "text": [
      "\n",
      "torch.Size([3, 250, 250]) (48,)\n",
      "torch.Size([3, 250, 250])\n",
      "torch.Size([3, 250, 250]) (48,)\n",
      "torch.Size([3, 250, 250])"
     ]
    },
    {
     "name": "stderr",
     "output_type": "stream",
     "text": [
      "Train Epoch 0:  31%|███████████▍                         | 520/1678 [01:41<03:44,  5.16batch/s, train_loss=-1.36e+4]"
     ]
    },
    {
     "name": "stdout",
     "output_type": "stream",
     "text": [
      "\n",
      "torch.Size([3, 250, 250]) (48,)\n",
      "torch.Size([3, 250, 250])\n",
      "torch.Size([3, 250, 250]) (48,)\n",
      "torch.Size([3, 250, 250])"
     ]
    },
    {
     "name": "stderr",
     "output_type": "stream",
     "text": [
      "Train Epoch 0:  31%|███████████▍                         | 521/1678 [01:41<03:43,  5.19batch/s, train_loss=-1.34e+4]"
     ]
    },
    {
     "name": "stdout",
     "output_type": "stream",
     "text": [
      "\n",
      "torch.Size([3, 250, 250]) (48,)\n",
      "torch.Size([3, 250, 250])\n",
      "torch.Size([3, 250, 250]) (48,)\n",
      "torch.Size([3, 250, 250])"
     ]
    },
    {
     "name": "stderr",
     "output_type": "stream",
     "text": [
      "Train Epoch 0:  31%|███████████▌                         | 522/1678 [01:41<03:43,  5.17batch/s, train_loss=-1.22e+4]"
     ]
    },
    {
     "name": "stdout",
     "output_type": "stream",
     "text": [
      "\n",
      "torch.Size([3, 250, 250]) (48,)\n",
      "torch.Size([3, 250, 250])\n",
      "torch.Size([3, 250, 250]) (48,)\n",
      "torch.Size([3, 250, 250])\n",
      "torch.Size([3, 250, 250]) (48,)\n"
     ]
    },
    {
     "name": "stderr",
     "output_type": "stream",
     "text": [
      "Train Epoch 0:  31%|███████████▌                         | 524/1678 [01:42<03:44,  5.15batch/s, train_loss=-1.38e+4]"
     ]
    },
    {
     "name": "stdout",
     "output_type": "stream",
     "text": [
      "torch.Size([3, 250, 250])\n",
      "torch.Size([3, 250, 250]) (48,)\n",
      "torch.Size([3, 250, 250])\n",
      "torch.Size([3, 250, 250]) (48,)\n"
     ]
    },
    {
     "name": "stderr",
     "output_type": "stream",
     "text": [
      "Train Epoch 0:  31%|███████████▌                         | 525/1678 [01:42<03:44,  5.13batch/s, train_loss=-1.34e+4]"
     ]
    },
    {
     "name": "stdout",
     "output_type": "stream",
     "text": [
      "torch.Size([3, 250, 250])\n",
      "torch.Size([3, 250, 250]) (48,)\n",
      "torch.Size([3, 250, 250])\n",
      "torch.Size([3, 250, 250]) (48,)\n",
      "torch.Size([3, 250, 250])"
     ]
    },
    {
     "name": "stderr",
     "output_type": "stream",
     "text": [
      "Train Epoch 0:  31%|███████████▌                         | 526/1678 [01:42<03:42,  5.19batch/s, train_loss=-1.27e+4]"
     ]
    },
    {
     "name": "stdout",
     "output_type": "stream",
     "text": [
      "\n",
      "torch.Size([3, 250, 250]) (48,)\n",
      "torch.Size([3, 250, 250])\n",
      "torch.Size([3, 250, 250]) (48,)\n",
      "torch.Size([3, 250, 250])"
     ]
    },
    {
     "name": "stderr",
     "output_type": "stream",
     "text": [
      "Train Epoch 0:  31%|███████████▌                         | 527/1678 [01:42<03:41,  5.21batch/s, train_loss=-1.29e+4]"
     ]
    },
    {
     "name": "stdout",
     "output_type": "stream",
     "text": [
      "\n",
      "torch.Size([3, 250, 250]) (48,)\n",
      "torch.Size([3, 250, 250])\n",
      "torch.Size([3, 250, 250]) (48,)\n",
      "torch.Size([3, 250, 250])\n",
      "torch.Size([3, 250, 250]) (48,)\n"
     ]
    },
    {
     "name": "stderr",
     "output_type": "stream",
     "text": [
      "Train Epoch 0:  31%|███████████▉                          | 528/1678 [01:42<03:38,  5.26batch/s, train_loss=-1.2e+4]"
     ]
    },
    {
     "name": "stdout",
     "output_type": "stream",
     "text": [
      "torch.Size([3, 250, 250])\n",
      "torch.Size([3, 250, 250]) (48,)\n",
      "torch.Size([3, 250, 250])\n",
      "torch.Size([3, 250, 250]) (48,)\n",
      "torch.Size([3, 250, 250])"
     ]
    },
    {
     "name": "stderr",
     "output_type": "stream",
     "text": [
      "Train Epoch 0:  32%|███████████▋                         | 529/1678 [01:43<03:40,  5.21batch/s, train_loss=-1.29e+4]"
     ]
    },
    {
     "name": "stdout",
     "output_type": "stream",
     "text": [
      "\n",
      "torch.Size([3, 250, 250]) (48,)\n",
      "torch.Size([3, 250, 250])\n",
      "torch.Size([3, 250, 250]) (48,)\n",
      "torch.Size([3, 250, 250])"
     ]
    },
    {
     "name": "stderr",
     "output_type": "stream",
     "text": [
      "Train Epoch 0:  32%|███████████▋                         | 530/1678 [01:43<03:41,  5.18batch/s, train_loss=-1.29e+4]"
     ]
    },
    {
     "name": "stdout",
     "output_type": "stream",
     "text": [
      "\n",
      "torch.Size([3, 250, 250]) (48,)\n",
      "torch.Size([3, 250, 250])\n",
      "torch.Size([3, 250, 250]) (48,)\n",
      "torch.Size([3, 250, 250])"
     ]
    },
    {
     "name": "stderr",
     "output_type": "stream",
     "text": [
      "Train Epoch 0:  32%|███████████▋                         | 531/1678 [01:43<03:38,  5.24batch/s, train_loss=-1.24e+4]"
     ]
    },
    {
     "name": "stdout",
     "output_type": "stream",
     "text": [
      "\n",
      "torch.Size([3, 250, 250]) (48,)\n",
      "torch.Size([3, 250, 250])\n",
      "torch.Size([3, 250, 250]) (48,)\n",
      "torch.Size([3, 250, 250])"
     ]
    },
    {
     "name": "stderr",
     "output_type": "stream",
     "text": [
      "Train Epoch 0:  32%|███████████▋                         | 532/1678 [01:43<03:36,  5.29batch/s, train_loss=-1.16e+4]"
     ]
    },
    {
     "name": "stdout",
     "output_type": "stream",
     "text": [
      "\n",
      "torch.Size([3, 250, 250]) (48,)\n",
      "torch.Size([3, 250, 250])\n",
      "torch.Size([3, 250, 250]) (48,)\n",
      "torch.Size([3, 250, 250])"
     ]
    },
    {
     "name": "stderr",
     "output_type": "stream",
     "text": [
      "Train Epoch 0:  32%|███████████▊                         | 533/1678 [01:43<03:37,  5.27batch/s, train_loss=-1.16e+4]"
     ]
    },
    {
     "name": "stdout",
     "output_type": "stream",
     "text": [
      "\n",
      "torch.Size([3, 250, 250]) (48,)\n",
      "torch.Size([3, 250, 250])\n",
      "torch.Size([3, 250, 250]) (48,)\n",
      "torch.Size([3, 250, 250])"
     ]
    },
    {
     "name": "stderr",
     "output_type": "stream",
     "text": [
      "Train Epoch 0:  32%|███████████▊                         | 534/1678 [01:43<03:35,  5.30batch/s, train_loss=-1.23e+4]"
     ]
    },
    {
     "name": "stdout",
     "output_type": "stream",
     "text": [
      "\n",
      "torch.Size([3, 250, 250]) (48,)\n",
      "torch.Size([3, 250, 250])\n",
      "torch.Size([3, 250, 250]) (48,)\n",
      "torch.Size([3, 250, 250])"
     ]
    },
    {
     "name": "stderr",
     "output_type": "stream",
     "text": [
      "Train Epoch 0:  32%|███████████▊                         | 535/1678 [01:44<03:37,  5.24batch/s, train_loss=-1.16e+4]"
     ]
    },
    {
     "name": "stdout",
     "output_type": "stream",
     "text": [
      "\n",
      "torch.Size([3, 250, 250]) (48,)\n",
      "torch.Size([3, 250, 250])\n",
      "torch.Size([3, 250, 250]) (48,)\n",
      "torch.Size([3, 250, 250])"
     ]
    },
    {
     "name": "stderr",
     "output_type": "stream",
     "text": [
      "Train Epoch 0:  32%|███████████▊                         | 536/1678 [01:44<03:36,  5.28batch/s, train_loss=-1.22e+4]"
     ]
    },
    {
     "name": "stdout",
     "output_type": "stream",
     "text": [
      "\n",
      "torch.Size([3, 250, 250]) (48,)\n",
      "torch.Size([3, 250, 250])\n",
      "torch.Size([3, 250, 250]) (48,)\n",
      "torch.Size([3, 250, 250])\n",
      "torch.Size([3, 250, 250]) (48,)\n"
     ]
    },
    {
     "name": "stderr",
     "output_type": "stream",
     "text": [
      "Train Epoch 0:  32%|███████████▊                         | 538/1678 [01:44<03:39,  5.19batch/s, train_loss=-1.05e+4]"
     ]
    },
    {
     "name": "stdout",
     "output_type": "stream",
     "text": [
      "torch.Size([3, 250, 250])\n",
      "torch.Size([3, 250, 250]) (48,)\n",
      "torch.Size([3, 250, 250])\n",
      "torch.Size([3, 250, 250]) (48,)\n",
      "torch.Size([3, 250, 250])"
     ]
    },
    {
     "name": "stderr",
     "output_type": "stream",
     "text": [
      "Train Epoch 0:  32%|███████████▉                         | 539/1678 [01:44<03:40,  5.16batch/s, train_loss=-1.07e+4]"
     ]
    },
    {
     "name": "stdout",
     "output_type": "stream",
     "text": [
      "\n",
      "torch.Size([3, 250, 250]) (48,)\n",
      "torch.Size([3, 250, 250])\n",
      "torch.Size([3, 250, 250]) (48,)\n"
     ]
    },
    {
     "name": "stderr",
     "output_type": "stream",
     "text": [
      "Train Epoch 0:  32%|███████████▉                         | 540/1678 [01:45<03:43,  5.08batch/s, train_loss=-1.43e+4]"
     ]
    },
    {
     "name": "stdout",
     "output_type": "stream",
     "text": [
      "torch.Size([3, 250, 250])\n",
      "torch.Size([3, 250, 250]) (48,)\n",
      "torch.Size([3, 250, 250])\n",
      "torch.Size([3, 250, 250]) (48,)\n"
     ]
    },
    {
     "name": "stderr",
     "output_type": "stream",
     "text": [
      "Train Epoch 0:  32%|███████████▉                         | 541/1678 [01:45<03:43,  5.09batch/s, train_loss=-1.24e+4]"
     ]
    },
    {
     "name": "stdout",
     "output_type": "stream",
     "text": [
      "torch.Size([3, 250, 250])\n",
      "torch.Size([3, 250, 250]) (48,)\n",
      "torch.Size([3, 250, 250])\n",
      "torch.Size([3, 250, 250]) (48,)\n",
      "torch.Size([3, 250, 250])"
     ]
    },
    {
     "name": "stderr",
     "output_type": "stream",
     "text": [
      "Train Epoch 0:  32%|███████████▉                         | 542/1678 [01:45<03:39,  5.17batch/s, train_loss=-1.22e+4]"
     ]
    },
    {
     "name": "stdout",
     "output_type": "stream",
     "text": [
      "\n",
      "torch.Size([3, 250, 250]) (48,)\n",
      "torch.Size([3, 250, 250])\n",
      "torch.Size([3, 250, 250]) (48,)\n",
      "torch.Size([3, 250, 250])\n"
     ]
    },
    {
     "name": "stderr",
     "output_type": "stream",
     "text": [
      "Train Epoch 0:  32%|███████████▉                         | 543/1678 [01:45<03:39,  5.17batch/s, train_loss=-1.12e+4]"
     ]
    },
    {
     "name": "stdout",
     "output_type": "stream",
     "text": [
      "torch.Size([3, 250, 250]) (48,)\n",
      "torch.Size([3, 250, 250])\n",
      "torch.Size([3, 250, 250]) (48,)\n",
      "torch.Size([3, 250, 250])"
     ]
    },
    {
     "name": "stderr",
     "output_type": "stream",
     "text": [
      "Train Epoch 0:  32%|███████████▉                         | 544/1678 [01:45<03:35,  5.25batch/s, train_loss=-1.26e+4]"
     ]
    },
    {
     "name": "stdout",
     "output_type": "stream",
     "text": [
      "\n",
      "torch.Size([3, 250, 250]) (48,)\n",
      "torch.Size([3, 250, 250])\n",
      "torch.Size([3, 250, 250]) (48,)\n",
      "torch.Size([3, 250, 250])"
     ]
    },
    {
     "name": "stderr",
     "output_type": "stream",
     "text": [
      "Train Epoch 0:  32%|████████████                         | 545/1678 [01:46<03:34,  5.28batch/s, train_loss=-1.08e+4]"
     ]
    },
    {
     "name": "stdout",
     "output_type": "stream",
     "text": [
      "\n",
      "torch.Size([3, 250, 250]) (48,)\n",
      "torch.Size([3, 250, 250])\n",
      "torch.Size([3, 250, 250]) (48,)\n",
      "torch.Size([3, 250, 250])"
     ]
    },
    {
     "name": "stderr",
     "output_type": "stream",
     "text": [
      "Train Epoch 0:  33%|████████████                         | 546/1678 [01:46<03:34,  5.29batch/s, train_loss=-1.25e+4]"
     ]
    },
    {
     "name": "stdout",
     "output_type": "stream",
     "text": [
      "\n",
      "torch.Size([3, 250, 250]) (48,)\n",
      "torch.Size([3, 250, 250])\n",
      "torch.Size([3, 250, 250]) (48,)\n",
      "torch.Size([3, 250, 250])"
     ]
    },
    {
     "name": "stderr",
     "output_type": "stream",
     "text": [
      "Train Epoch 0:  33%|████████████                         | 547/1678 [01:46<03:33,  5.29batch/s, train_loss=-1.08e+4]"
     ]
    },
    {
     "name": "stdout",
     "output_type": "stream",
     "text": [
      "\n",
      "torch.Size([3, 250, 250]) (48,)\n",
      "torch.Size([3, 250, 250])\n",
      "torch.Size([3, 250, 250]) (48,)\n",
      "torch.Size([3, 250, 250])"
     ]
    },
    {
     "name": "stderr",
     "output_type": "stream",
     "text": [
      "Train Epoch 0:  33%|████████████                         | 548/1678 [01:46<03:33,  5.30batch/s, train_loss=-1.28e+4]"
     ]
    },
    {
     "name": "stdout",
     "output_type": "stream",
     "text": [
      "\n",
      "torch.Size([3, 250, 250]) (48,)\n",
      "torch.Size([3, 250, 250])\n",
      "torch.Size([3, 250, 250]) (48,)\n",
      "torch.Size([3, 250, 250])"
     ]
    },
    {
     "name": "stderr",
     "output_type": "stream",
     "text": [
      "Train Epoch 0:  33%|████████████                         | 549/1678 [01:46<03:33,  5.30batch/s, train_loss=-1.12e+4]"
     ]
    },
    {
     "name": "stdout",
     "output_type": "stream",
     "text": [
      "\n",
      "torch.Size([3, 250, 250]) (48,)\n",
      "torch.Size([3, 250, 250])\n",
      "torch.Size([3, 250, 250]) (48,)\n",
      "torch.Size([3, 250, 250])"
     ]
    },
    {
     "name": "stderr",
     "output_type": "stream",
     "text": [
      "Train Epoch 0:  33%|████████████▏                        | 550/1678 [01:47<03:36,  5.21batch/s, train_loss=-1.23e+4]"
     ]
    },
    {
     "name": "stdout",
     "output_type": "stream",
     "text": [
      "\n",
      "torch.Size([3, 250, 250]) (48,)\n",
      "torch.Size([3, 250, 250])\n",
      "torch.Size([3, 250, 250]) (48,)\n",
      "torch.Size([3, 250, 250])"
     ]
    },
    {
     "name": "stderr",
     "output_type": "stream",
     "text": [
      "Train Epoch 0:  33%|████████████▏                        | 551/1678 [01:47<03:35,  5.22batch/s, train_loss=-1.34e+4]"
     ]
    },
    {
     "name": "stdout",
     "output_type": "stream",
     "text": [
      "\n",
      "torch.Size([3, 250, 250]) (48,)\n",
      "torch.Size([3, 250, 250])\n",
      "torch.Size([3, 250, 250]) (48,)\n",
      "torch.Size([3, 250, 250])"
     ]
    },
    {
     "name": "stderr",
     "output_type": "stream",
     "text": [
      "Train Epoch 0:  33%|████████████▏                        | 552/1678 [01:47<03:38,  5.16batch/s, train_loss=-1.34e+4]"
     ]
    },
    {
     "name": "stdout",
     "output_type": "stream",
     "text": [
      "\n",
      "torch.Size([3, 250, 250]) (48,)\n",
      "torch.Size([3, 250, 250])\n",
      "torch.Size([3, 250, 250]) (48,)\n",
      "torch.Size([3, 250, 250])"
     ]
    },
    {
     "name": "stderr",
     "output_type": "stream",
     "text": [
      "Train Epoch 0:  33%|████████████▏                        | 553/1678 [01:47<03:36,  5.19batch/s, train_loss=-1.36e+4]"
     ]
    },
    {
     "name": "stdout",
     "output_type": "stream",
     "text": [
      "\n",
      "torch.Size([3, 250, 250]) (48,)\n",
      "torch.Size([3, 250, 250])\n",
      "torch.Size([3, 250, 250]) (48,)\n",
      "torch.Size([3, 250, 250])"
     ]
    },
    {
     "name": "stderr",
     "output_type": "stream",
     "text": [
      "Train Epoch 0:  33%|████████████▏                        | 554/1678 [01:47<03:34,  5.24batch/s, train_loss=-1.34e+4]"
     ]
    },
    {
     "name": "stdout",
     "output_type": "stream",
     "text": [
      "\n",
      "torch.Size([3, 250, 250]) (48,)\n",
      "torch.Size([3, 250, 250])\n",
      "torch.Size([3, 250, 250]) (48,)\n",
      "torch.Size([3, 250, 250])"
     ]
    },
    {
     "name": "stderr",
     "output_type": "stream",
     "text": [
      "Train Epoch 0:  33%|████████████▏                        | 555/1678 [01:47<03:35,  5.20batch/s, train_loss=-1.39e+4]"
     ]
    },
    {
     "name": "stdout",
     "output_type": "stream",
     "text": [
      "\n",
      "torch.Size([3, 250, 250]) (48,)\n",
      "torch.Size([3, 250, 250])\n",
      "torch.Size([3, 250, 250]) (48,)\n",
      "torch.Size([3, 250, 250])"
     ]
    },
    {
     "name": "stderr",
     "output_type": "stream",
     "text": [
      "Train Epoch 0:  33%|████████████▎                        | 556/1678 [01:48<03:35,  5.22batch/s, train_loss=-1.27e+4]"
     ]
    },
    {
     "name": "stdout",
     "output_type": "stream",
     "text": [
      "\n",
      "torch.Size([3, 250, 250]) (48,)\n",
      "torch.Size([3, 250, 250])\n",
      "torch.Size([3, 250, 250]) (48,)\n",
      "torch.Size([3, 250, 250])"
     ]
    },
    {
     "name": "stderr",
     "output_type": "stream",
     "text": [
      "Train Epoch 0:  33%|████████████▎                        | 557/1678 [01:48<03:37,  5.16batch/s, train_loss=-1.34e+4]"
     ]
    },
    {
     "name": "stdout",
     "output_type": "stream",
     "text": [
      "\n",
      "torch.Size([3, 250, 250]) (48,)\n",
      "torch.Size([3, 250, 250])\n",
      "torch.Size([3, 250, 250]) (48,)\n"
     ]
    },
    {
     "name": "stderr",
     "output_type": "stream",
     "text": [
      "Train Epoch 0:  33%|████████████▎                        | 558/1678 [01:48<03:39,  5.11batch/s, train_loss=-1.19e+4]"
     ]
    },
    {
     "name": "stdout",
     "output_type": "stream",
     "text": [
      "torch.Size([3, 250, 250])\n",
      "torch.Size([3, 250, 250]) (48,)\n",
      "torch.Size([3, 250, 250])\n",
      "torch.Size([3, 250, 250]) (48,)\n",
      "torch.Size([3, 250, 250])"
     ]
    },
    {
     "name": "stderr",
     "output_type": "stream",
     "text": [
      "Train Epoch 0:  33%|████████████▎                        | 559/1678 [01:48<03:39,  5.10batch/s, train_loss=-1.26e+4]"
     ]
    },
    {
     "name": "stdout",
     "output_type": "stream",
     "text": [
      "\n",
      "torch.Size([3, 250, 250]) (48,)\n",
      "torch.Size([3, 250, 250])\n",
      "torch.Size([3, 250, 250]) (48,)\n",
      "torch.Size([3, 250, 250])"
     ]
    },
    {
     "name": "stderr",
     "output_type": "stream",
     "text": [
      "Train Epoch 0:  33%|████████████▎                        | 560/1678 [01:48<03:39,  5.10batch/s, train_loss=-1.26e+4]"
     ]
    },
    {
     "name": "stdout",
     "output_type": "stream",
     "text": [
      "\n",
      "torch.Size([3, 250, 250]) (48,)\n",
      "torch.Size([3, 250, 250])\n",
      "torch.Size([3, 250, 250]) (48,)\n",
      "torch.Size([3, 250, 250])"
     ]
    },
    {
     "name": "stderr",
     "output_type": "stream",
     "text": [
      "Train Epoch 0:  33%|████████████▎                        | 561/1678 [01:49<03:38,  5.11batch/s, train_loss=-1.28e+4]"
     ]
    },
    {
     "name": "stdout",
     "output_type": "stream",
     "text": [
      "\n",
      "torch.Size([3, 250, 250]) (48,)\n",
      "torch.Size([3, 250, 250])\n",
      "torch.Size([3, 250, 250]) (48,)\n",
      "torch.Size([3, 250, 250])\n",
      "torch.Size([3, 250, 250]) (48,)\n"
     ]
    },
    {
     "name": "stderr",
     "output_type": "stream",
     "text": [
      "Train Epoch 0:  33%|████████████▍                        | 562/1678 [01:49<03:35,  5.17batch/s, train_loss=-1.23e+4]"
     ]
    },
    {
     "name": "stdout",
     "output_type": "stream",
     "text": [
      "torch.Size([3, 250, 250])\n",
      "torch.Size([3, 250, 250]) (48,)\n",
      "torch.Size([3, 250, 250])\n",
      "torch.Size([3, 250, 250]) (48,)\n",
      "torch.Size([3, 250, 250])"
     ]
    },
    {
     "name": "stderr",
     "output_type": "stream",
     "text": [
      "Train Epoch 0:  34%|████████████▍                        | 563/1678 [01:49<03:32,  5.24batch/s, train_loss=-1.29e+4]"
     ]
    },
    {
     "name": "stdout",
     "output_type": "stream",
     "text": [
      "\n",
      "torch.Size([3, 250, 250]) (48,)\n",
      "torch.Size([3, 250, 250])\n",
      "torch.Size([3, 250, 250]) (48,)\n",
      "torch.Size([3, 250, 250])"
     ]
    },
    {
     "name": "stderr",
     "output_type": "stream",
     "text": [
      "Train Epoch 0:  34%|████████████▍                        | 564/1678 [01:49<03:32,  5.24batch/s, train_loss=-1.16e+4]"
     ]
    },
    {
     "name": "stdout",
     "output_type": "stream",
     "text": [
      "\n",
      "torch.Size([3, 250, 250]) (48,)\n",
      "torch.Size([3, 250, 250])\n",
      "torch.Size([3, 250, 250]) (48,)\n",
      "torch.Size([3, 250, 250])"
     ]
    },
    {
     "name": "stderr",
     "output_type": "stream",
     "text": [
      "Train Epoch 0:  34%|████████████▍                        | 565/1678 [01:49<03:33,  5.22batch/s, train_loss=-1.17e+4]"
     ]
    },
    {
     "name": "stdout",
     "output_type": "stream",
     "text": [
      "\n",
      "torch.Size([3, 250, 250]) (48,)\n",
      "torch.Size([3, 250, 250])\n",
      "torch.Size([3, 250, 250]) (48,)\n",
      "torch.Size([3, 250, 250])\n",
      "torch.Size([3, 250, 250]) (48,)"
     ]
    },
    {
     "name": "stderr",
     "output_type": "stream",
     "text": [
      "Train Epoch 0:  34%|████████████▍                        | 566/1678 [01:50<03:31,  5.26batch/s, train_loss=-1.18e+4]"
     ]
    },
    {
     "name": "stdout",
     "output_type": "stream",
     "text": [
      "\n",
      "torch.Size([3, 250, 250])\n",
      "torch.Size([3, 250, 250]) (48,)\n",
      "torch.Size([3, 250, 250])"
     ]
    },
    {
     "name": "stderr",
     "output_type": "stream",
     "text": [
      "Train Epoch 0:  34%|████████████▌                        | 567/1678 [01:50<03:33,  5.21batch/s, train_loss=-1.22e+4]"
     ]
    },
    {
     "name": "stdout",
     "output_type": "stream",
     "text": [
      "\n",
      "torch.Size([3, 250, 250]) (48,)\n",
      "torch.Size([3, 250, 250])\n",
      "torch.Size([3, 250, 250]) (48,)\n",
      "torch.Size([3, 250, 250])"
     ]
    },
    {
     "name": "stderr",
     "output_type": "stream",
     "text": [
      "Train Epoch 0:  34%|████████████▊                         | 568/1678 [01:50<03:36,  5.12batch/s, train_loss=-1.2e+4]"
     ]
    },
    {
     "name": "stdout",
     "output_type": "stream",
     "text": [
      "\n",
      "torch.Size([3, 250, 250]) (48,)\n",
      "torch.Size([3, 250, 250])\n",
      "torch.Size([3, 250, 250]) (48,)\n",
      "torch.Size([3, 250, 250])"
     ]
    },
    {
     "name": "stderr",
     "output_type": "stream",
     "text": [
      "Train Epoch 0:  34%|████████████▌                        | 569/1678 [01:50<03:37,  5.11batch/s, train_loss=-1.12e+4]"
     ]
    },
    {
     "name": "stdout",
     "output_type": "stream",
     "text": [
      "\n",
      "torch.Size([3, 250, 250]) (48,)\n",
      "torch.Size([3, 250, 250])\n",
      "torch.Size([3, 250, 250]) (48,)\n"
     ]
    },
    {
     "name": "stderr",
     "output_type": "stream",
     "text": [
      "Train Epoch 0:  34%|████████████▌                        | 570/1678 [01:50<03:38,  5.07batch/s, train_loss=-9.81e+3]"
     ]
    },
    {
     "name": "stdout",
     "output_type": "stream",
     "text": [
      "torch.Size([3, 250, 250])\n",
      "torch.Size([3, 250, 250]) (48,)\n",
      "torch.Size([3, 250, 250])\n",
      "torch.Size([3, 250, 250]) (48,)\n",
      "torch.Size([3, 250, 250])"
     ]
    },
    {
     "name": "stderr",
     "output_type": "stream",
     "text": [
      "Train Epoch 0:  34%|████████████▌                        | 571/1678 [01:51<03:34,  5.16batch/s, train_loss=-1.21e+4]"
     ]
    },
    {
     "name": "stdout",
     "output_type": "stream",
     "text": [
      "\n",
      "torch.Size([3, 250, 250]) (48,)\n",
      "torch.Size([3, 250, 250])\n",
      "torch.Size([3, 250, 250]) (48,)\n",
      "torch.Size([3, 250, 250])"
     ]
    },
    {
     "name": "stderr",
     "output_type": "stream",
     "text": [
      "Train Epoch 0:  34%|████████████▌                        | 572/1678 [01:51<03:33,  5.18batch/s, train_loss=-1.26e+4]"
     ]
    },
    {
     "name": "stdout",
     "output_type": "stream",
     "text": [
      "\n",
      "torch.Size([3, 250, 250]) (48,)\n",
      "torch.Size([3, 250, 250])\n",
      "torch.Size([3, 250, 250]) (48,)\n",
      "torch.Size([3, 250, 250])"
     ]
    },
    {
     "name": "stderr",
     "output_type": "stream",
     "text": [
      "Train Epoch 0:  34%|████████████▋                        | 573/1678 [01:51<03:30,  5.24batch/s, train_loss=-1.37e+4]"
     ]
    },
    {
     "name": "stdout",
     "output_type": "stream",
     "text": [
      "\n",
      "torch.Size([3, 250, 250]) (48,)\n",
      "torch.Size([3, 250, 250])\n",
      "torch.Size([3, 250, 250]) (48,)\n",
      "torch.Size([3, 250, 250])\n",
      "torch.Size([3, 250, 250]) (48,)\n"
     ]
    },
    {
     "name": "stderr",
     "output_type": "stream",
     "text": [
      "Train Epoch 0:  34%|████████████▋                        | 575/1678 [01:51<03:26,  5.33batch/s, train_loss=-1.05e+4]"
     ]
    },
    {
     "name": "stdout",
     "output_type": "stream",
     "text": [
      "torch.Size([3, 250, 250])\n",
      "torch.Size([3, 250, 250]) (48,)\n",
      "torch.Size([3, 250, 250])\n",
      "torch.Size([3, 250, 250]) (48,)\n",
      "torch.Size([3, 250, 250])\n",
      "torch.Size([3, 250, 250]) (48,)\n"
     ]
    },
    {
     "name": "stderr",
     "output_type": "stream",
     "text": [
      "Train Epoch 0:  34%|████████████▋                        | 576/1678 [01:52<03:31,  5.22batch/s, train_loss=-1.22e+4]"
     ]
    },
    {
     "name": "stdout",
     "output_type": "stream",
     "text": [
      "torch.Size([3, 250, 250])\n",
      "torch.Size([3, 250, 250]) (48,)\n",
      "torch.Size([3, 250, 250])\n",
      "torch.Size([3, 250, 250]) (48,)\n",
      "torch.Size([3, 250, 250])"
     ]
    },
    {
     "name": "stderr",
     "output_type": "stream",
     "text": [
      "Train Epoch 0:  34%|█████████████                         | 577/1678 [01:52<03:30,  5.22batch/s, train_loss=-1.4e+4]"
     ]
    },
    {
     "name": "stdout",
     "output_type": "stream",
     "text": [
      "\n",
      "torch.Size([3, 250, 250]) (48,)\n",
      "torch.Size([3, 250, 250])\n",
      "torch.Size([3, 250, 250]) (48,)\n",
      "torch.Size([3, 250, 250])"
     ]
    },
    {
     "name": "stderr",
     "output_type": "stream",
     "text": [
      "Train Epoch 0:  34%|████████████▋                        | 578/1678 [01:52<03:33,  5.16batch/s, train_loss=-1.08e+4]"
     ]
    },
    {
     "name": "stdout",
     "output_type": "stream",
     "text": [
      "\n",
      "torch.Size([3, 250, 250]) (48,)\n",
      "torch.Size([3, 250, 250])\n",
      "torch.Size([3, 250, 250]) (48,)\n",
      "torch.Size([3, 250, 250])"
     ]
    },
    {
     "name": "stderr",
     "output_type": "stream",
     "text": [
      "Train Epoch 0:  35%|████████████▊                        | 579/1678 [01:52<03:34,  5.12batch/s, train_loss=-1.07e+4]"
     ]
    },
    {
     "name": "stdout",
     "output_type": "stream",
     "text": [
      "\n",
      "torch.Size([3, 250, 250]) (48,)\n",
      "torch.Size([3, 250, 250])\n",
      "torch.Size([3, 250, 250]) (48,)\n"
     ]
    },
    {
     "name": "stderr",
     "output_type": "stream",
     "text": [
      "Train Epoch 0:  35%|█████████████▏                        | 580/1678 [01:52<03:39,  5.00batch/s, train_loss=-1.1e+4]"
     ]
    },
    {
     "name": "stdout",
     "output_type": "stream",
     "text": [
      "torch.Size([3, 250, 250])\n",
      "torch.Size([3, 250, 250]) (48,)\n",
      "torch.Size([3, 250, 250])\n",
      "torch.Size([3, 250, 250]) (48,)\n"
     ]
    },
    {
     "name": "stderr",
     "output_type": "stream",
     "text": [
      "Train Epoch 0:  35%|████████████▊                        | 581/1678 [01:53<03:39,  5.00batch/s, train_loss=-1.41e+4]"
     ]
    },
    {
     "name": "stdout",
     "output_type": "stream",
     "text": [
      "torch.Size([3, 250, 250])\n",
      "torch.Size([3, 250, 250]) (48,)\n",
      "torch.Size([3, 250, 250])\n",
      "torch.Size([3, 250, 250]) (48,)\n",
      "torch.Size([3, 250, 250])"
     ]
    },
    {
     "name": "stderr",
     "output_type": "stream",
     "text": [
      "Train Epoch 0:  35%|████████████▊                        | 582/1678 [01:53<03:35,  5.08batch/s, train_loss=-1.23e+4]"
     ]
    },
    {
     "name": "stdout",
     "output_type": "stream",
     "text": [
      "\n",
      "torch.Size([3, 250, 250]) (48,)\n",
      "torch.Size([3, 250, 250])\n",
      "torch.Size([3, 250, 250]) (48,)\n"
     ]
    },
    {
     "name": "stderr",
     "output_type": "stream",
     "text": [
      "Train Epoch 0:  35%|████████████▊                        | 583/1678 [01:53<03:40,  4.97batch/s, train_loss=-1.18e+4]"
     ]
    },
    {
     "name": "stdout",
     "output_type": "stream",
     "text": [
      "torch.Size([3, 250, 250])\n",
      "torch.Size([3, 250, 250]) (48,)\n",
      "torch.Size([3, 250, 250])"
     ]
    },
    {
     "name": "stderr",
     "output_type": "stream",
     "text": [
      "Train Epoch 0:  35%|████████████▉                        | 584/1678 [01:53<03:38,  5.01batch/s, train_loss=-1.31e+4]"
     ]
    },
    {
     "name": "stdout",
     "output_type": "stream",
     "text": [
      "\n",
      "torch.Size([3, 250, 250]) (48,)\n",
      "torch.Size([3, 250, 250])\n",
      "torch.Size([3, 250, 250]) (48,)\n",
      "torch.Size([3, 250, 250])"
     ]
    },
    {
     "name": "stderr",
     "output_type": "stream",
     "text": [
      "Train Epoch 0:  35%|████████████▉                        | 585/1678 [01:53<03:39,  4.99batch/s, train_loss=-1.54e+4]"
     ]
    },
    {
     "name": "stdout",
     "output_type": "stream",
     "text": [
      "\n",
      "torch.Size([3, 250, 250]) (48,)\n",
      "torch.Size([3, 250, 250])\n",
      "torch.Size([3, 250, 250]) (48,)\n",
      "torch.Size([3, 250, 250])"
     ]
    },
    {
     "name": "stderr",
     "output_type": "stream",
     "text": [
      "Train Epoch 0:  35%|████████████▉                        | 586/1678 [01:54<03:36,  5.05batch/s, train_loss=-1.44e+4]"
     ]
    },
    {
     "name": "stdout",
     "output_type": "stream",
     "text": [
      "\n",
      "torch.Size([3, 250, 250]) (48,)\n",
      "torch.Size([3, 250, 250])\n",
      "torch.Size([3, 250, 250]) (48,)\n",
      "torch.Size([3, 250, 250])"
     ]
    },
    {
     "name": "stderr",
     "output_type": "stream",
     "text": [
      "Train Epoch 0:  35%|████████████▉                        | 587/1678 [01:54<03:36,  5.03batch/s, train_loss=-1.55e+4]"
     ]
    },
    {
     "name": "stdout",
     "output_type": "stream",
     "text": [
      "\n",
      "torch.Size([3, 250, 250]) (48,)\n",
      "torch.Size([3, 250, 250])\n",
      "torch.Size([3, 250, 250]) (48,)\n",
      "torch.Size([3, 250, 250])"
     ]
    },
    {
     "name": "stderr",
     "output_type": "stream",
     "text": [
      "Train Epoch 0:  35%|████████████▉                        | 588/1678 [01:54<03:33,  5.10batch/s, train_loss=-1.23e+4]"
     ]
    },
    {
     "name": "stdout",
     "output_type": "stream",
     "text": [
      "\n",
      "torch.Size([3, 250, 250]) (48,)\n",
      "torch.Size([3, 250, 250])\n",
      "torch.Size([3, 250, 250]) (48,)\n",
      "torch.Size([3, 250, 250])"
     ]
    },
    {
     "name": "stderr",
     "output_type": "stream",
     "text": [
      "Train Epoch 0:  35%|████████████▉                        | 589/1678 [01:54<03:32,  5.13batch/s, train_loss=-1.28e+4]"
     ]
    },
    {
     "name": "stdout",
     "output_type": "stream",
     "text": [
      "\n",
      "torch.Size([3, 250, 250]) (48,)\n",
      "torch.Size([3, 250, 250])\n",
      "torch.Size([3, 250, 250]) (48,)\n",
      "torch.Size([3, 250, 250])"
     ]
    },
    {
     "name": "stderr",
     "output_type": "stream",
     "text": [
      "Train Epoch 0:  35%|█████████████                        | 590/1678 [01:54<03:29,  5.19batch/s, train_loss=-1.22e+4]"
     ]
    },
    {
     "name": "stdout",
     "output_type": "stream",
     "text": [
      "\n",
      "torch.Size([3, 250, 250]) (48,)\n",
      "torch.Size([3, 250, 250])\n",
      "torch.Size([3, 250, 250]) (48,)\n",
      "torch.Size([3, 250, 250])"
     ]
    },
    {
     "name": "stderr",
     "output_type": "stream",
     "text": [
      "Train Epoch 0:  35%|█████████████                        | 591/1678 [01:54<03:30,  5.15batch/s, train_loss=-1.22e+4]"
     ]
    },
    {
     "name": "stdout",
     "output_type": "stream",
     "text": [
      "\n",
      "torch.Size([3, 250, 250]) (48,)\n",
      "torch.Size([3, 250, 250])\n",
      "torch.Size([3, 250, 250]) (48,)\n"
     ]
    },
    {
     "name": "stderr",
     "output_type": "stream",
     "text": [
      "Train Epoch 0:  35%|█████████████                        | 592/1678 [01:55<03:30,  5.15batch/s, train_loss=-1.22e+4]"
     ]
    },
    {
     "name": "stdout",
     "output_type": "stream",
     "text": [
      "torch.Size([3, 250, 250])\n",
      "torch.Size([3, 250, 250]) (48,)\n",
      "torch.Size([3, 250, 250])\n",
      "torch.Size([3, 250, 250]) (48,)\n",
      "torch.Size([3, 250, 250])"
     ]
    },
    {
     "name": "stderr",
     "output_type": "stream",
     "text": [
      "Train Epoch 0:  35%|█████████████                        | 593/1678 [01:55<03:28,  5.21batch/s, train_loss=-1.23e+4]"
     ]
    },
    {
     "name": "stdout",
     "output_type": "stream",
     "text": [
      "\n",
      "torch.Size([3, 250, 250]) (48,)\n",
      "torch.Size([3, 250, 250])\n",
      "torch.Size([3, 250, 250]) (48,)\n",
      "torch.Size([3, 250, 250])"
     ]
    },
    {
     "name": "stderr",
     "output_type": "stream",
     "text": [
      "Train Epoch 0:  35%|█████████████                        | 594/1678 [01:55<03:26,  5.25batch/s, train_loss=-1.31e+4]"
     ]
    },
    {
     "name": "stdout",
     "output_type": "stream",
     "text": [
      "\n",
      "torch.Size([3, 250, 250]) (48,)\n",
      "torch.Size([3, 250, 250])\n",
      "torch.Size([3, 250, 250]) (48,)\n",
      "torch.Size([3, 250, 250])"
     ]
    },
    {
     "name": "stderr",
     "output_type": "stream",
     "text": [
      "Train Epoch 0:  35%|█████████████                        | 595/1678 [01:55<03:23,  5.31batch/s, train_loss=-1.21e+4]"
     ]
    },
    {
     "name": "stdout",
     "output_type": "stream",
     "text": [
      "\n",
      "torch.Size([3, 250, 250]) (48,)\n",
      "torch.Size([3, 250, 250])\n",
      "torch.Size([3, 250, 250]) (48,)\n",
      "torch.Size([3, 250, 250])"
     ]
    },
    {
     "name": "stderr",
     "output_type": "stream",
     "text": [
      "Train Epoch 0:  36%|█████████████▏                       | 596/1678 [01:55<03:22,  5.35batch/s, train_loss=-1.32e+4]"
     ]
    },
    {
     "name": "stdout",
     "output_type": "stream",
     "text": [
      "\n",
      "torch.Size([3, 250, 250]) (48,)\n",
      "torch.Size([3, 250, 250])\n",
      "torch.Size([3, 250, 250]) (48,)\n",
      "torch.Size([3, 250, 250])\n",
      "torch.Size([3, 250, 250]) (48,)\n"
     ]
    },
    {
     "name": "stderr",
     "output_type": "stream",
     "text": [
      "Train Epoch 0:  36%|█████████████▏                       | 597/1678 [01:56<03:22,  5.34batch/s, train_loss=-1.29e+4]"
     ]
    },
    {
     "name": "stdout",
     "output_type": "stream",
     "text": [
      "torch.Size([3, 250, 250])\n",
      "torch.Size([3, 250, 250]) (48,)\n",
      "torch.Size([3, 250, 250])\n",
      "torch.Size([3, 250, 250]) (48,)\n",
      "torch.Size([3, 250, 250])"
     ]
    },
    {
     "name": "stderr",
     "output_type": "stream",
     "text": [
      "Train Epoch 0:  36%|█████████████▏                       | 598/1678 [01:56<03:21,  5.35batch/s, train_loss=-1.18e+4]"
     ]
    },
    {
     "name": "stdout",
     "output_type": "stream",
     "text": [
      "\n",
      "torch.Size([3, 250, 250]) (48,)\n",
      "torch.Size([3, 250, 250])\n",
      "torch.Size([3, 250, 250]) (48,)\n",
      "torch.Size([3, 250, 250])"
     ]
    },
    {
     "name": "stderr",
     "output_type": "stream",
     "text": [
      "Train Epoch 0:  36%|█████████████▏                       | 599/1678 [01:56<03:21,  5.36batch/s, train_loss=-1.21e+4]"
     ]
    },
    {
     "name": "stdout",
     "output_type": "stream",
     "text": [
      "\n",
      "torch.Size([3, 250, 250]) (48,)\n",
      "torch.Size([3, 250, 250])\n",
      "torch.Size([3, 250, 250]) (48,)\n",
      "torch.Size([3, 250, 250])"
     ]
    },
    {
     "name": "stderr",
     "output_type": "stream",
     "text": [
      "Train Epoch 0:  36%|█████████████▌                        | 600/1678 [01:56<03:23,  5.31batch/s, train_loss=-1.1e+4]"
     ]
    },
    {
     "name": "stdout",
     "output_type": "stream",
     "text": [
      "\n",
      "torch.Size([3, 250, 250]) (48,)\n",
      "torch.Size([3, 250, 250])\n",
      "torch.Size([3, 250, 250]) (48,)\n",
      "torch.Size([3, 250, 250])"
     ]
    },
    {
     "name": "stderr",
     "output_type": "stream",
     "text": [
      "Train Epoch 0:  36%|█████████████▌                        | 601/1678 [01:56<03:24,  5.26batch/s, train_loss=-9.6e+3]"
     ]
    },
    {
     "name": "stdout",
     "output_type": "stream",
     "text": [
      "\n",
      "torch.Size([3, 250, 250]) (48,)\n",
      "torch.Size([3, 250, 250])"
     ]
    },
    {
     "name": "stderr",
     "output_type": "stream",
     "text": [
      "Train Epoch 0:  36%|█████████████▎                       | 602/1678 [01:57<03:26,  5.22batch/s, train_loss=-1.27e+4]"
     ]
    },
    {
     "name": "stdout",
     "output_type": "stream",
     "text": [
      "\n",
      "torch.Size([3, 250, 250]) (48,)\n",
      "torch.Size([3, 250, 250])\n",
      "torch.Size([3, 250, 250]) (48,)\n",
      "torch.Size([3, 250, 250])\n",
      "torch.Size([3, 250, 250]) (48,)\n",
      "torch.Size([3, 250, 250])"
     ]
    },
    {
     "name": "stderr",
     "output_type": "stream",
     "text": [
      "Train Epoch 0:  36%|█████████████▎                       | 603/1678 [01:57<03:24,  5.26batch/s, train_loss=-1.11e+4]"
     ]
    },
    {
     "name": "stdout",
     "output_type": "stream",
     "text": [
      "\n",
      "torch.Size([3, 250, 250]) (48,)\n",
      "torch.Size([3, 250, 250])\n",
      "torch.Size([3, 250, 250]) (48,)\n",
      "torch.Size([3, 250, 250])"
     ]
    },
    {
     "name": "stderr",
     "output_type": "stream",
     "text": [
      "Train Epoch 0:  36%|█████████████▎                       | 604/1678 [01:57<03:26,  5.20batch/s, train_loss=-1.24e+4]"
     ]
    },
    {
     "name": "stdout",
     "output_type": "stream",
     "text": [
      "\n",
      "torch.Size([3, 250, 250]) (48,)\n",
      "torch.Size([3, 250, 250])\n",
      "torch.Size([3, 250, 250]) (48,)\n",
      "torch.Size([3, 250, 250])"
     ]
    },
    {
     "name": "stderr",
     "output_type": "stream",
     "text": [
      "Train Epoch 0:  36%|█████████████▎                       | 605/1678 [01:57<03:23,  5.28batch/s, train_loss=-1.15e+4]"
     ]
    },
    {
     "name": "stdout",
     "output_type": "stream",
     "text": [
      "\n",
      "torch.Size([3, 250, 250]) (48,)\n",
      "torch.Size([3, 250, 250])\n",
      "torch.Size([3, 250, 250]) (48,)\n",
      "torch.Size([3, 250, 250])\n",
      "torch.Size([3, 250, 250]) (48,)\n"
     ]
    },
    {
     "name": "stderr",
     "output_type": "stream",
     "text": [
      "Train Epoch 0:  36%|█████████████▍                       | 607/1678 [01:58<03:20,  5.33batch/s, train_loss=-1.34e+4]"
     ]
    },
    {
     "name": "stdout",
     "output_type": "stream",
     "text": [
      "torch.Size([3, 250, 250])\n",
      "torch.Size([3, 250, 250]) (48,)\n",
      "torch.Size([3, 250, 250])\n",
      "torch.Size([3, 250, 250]) (48,)\n",
      "torch.Size([3, 250, 250])"
     ]
    },
    {
     "name": "stderr",
     "output_type": "stream",
     "text": [
      "Train Epoch 0:  36%|█████████████▍                       | 608/1678 [01:58<03:20,  5.34batch/s, train_loss=-1.19e+4]"
     ]
    },
    {
     "name": "stdout",
     "output_type": "stream",
     "text": [
      "\n",
      "torch.Size([3, 250, 250]) (48,)\n",
      "torch.Size([3, 250, 250])\n",
      "torch.Size([3, 250, 250]) (48,)\n",
      "torch.Size([3, 250, 250])"
     ]
    },
    {
     "name": "stderr",
     "output_type": "stream",
     "text": [
      "Train Epoch 0:  36%|█████████████▊                        | 609/1678 [01:58<03:20,  5.33batch/s, train_loss=-1.2e+4]"
     ]
    },
    {
     "name": "stdout",
     "output_type": "stream",
     "text": [
      "\n",
      "torch.Size([3, 250, 250]) (48,)\n",
      "torch.Size([3, 250, 250])\n",
      "torch.Size([3, 250, 250]) (48,)\n",
      "torch.Size([3, 250, 250])"
     ]
    },
    {
     "name": "stderr",
     "output_type": "stream",
     "text": [
      "Train Epoch 0:  36%|█████████████▊                        | 610/1678 [01:58<03:21,  5.31batch/s, train_loss=-1.3e+4]"
     ]
    },
    {
     "name": "stdout",
     "output_type": "stream",
     "text": [
      "\n",
      "torch.Size([3, 250, 250]) (48,)\n",
      "torch.Size([3, 250, 250])\n",
      "torch.Size([3, 250, 250]) (48,)\n",
      "torch.Size([3, 250, 250])"
     ]
    },
    {
     "name": "stderr",
     "output_type": "stream",
     "text": [
      "Train Epoch 0:  36%|█████████████▊                        | 611/1678 [01:58<03:25,  5.20batch/s, train_loss=-1.1e+4]"
     ]
    },
    {
     "name": "stdout",
     "output_type": "stream",
     "text": [
      "\n",
      "torch.Size([3, 250, 250]) (48,)\n",
      "torch.Size([3, 250, 250])\n",
      "torch.Size([3, 250, 250]) (48,)\n"
     ]
    },
    {
     "name": "stderr",
     "output_type": "stream",
     "text": [
      "Train Epoch 0:  36%|█████████████▍                       | 612/1678 [01:58<03:26,  5.17batch/s, train_loss=-1.42e+4]"
     ]
    },
    {
     "name": "stdout",
     "output_type": "stream",
     "text": [
      "torch.Size([3, 250, 250])\n",
      "torch.Size([3, 250, 250]) (48,)\n",
      "torch.Size([3, 250, 250])\n",
      "torch.Size([3, 250, 250]) (48,)\n"
     ]
    },
    {
     "name": "stderr",
     "output_type": "stream",
     "text": [
      "Train Epoch 0:  37%|█████████████▌                       | 613/1678 [01:59<03:31,  5.05batch/s, train_loss=-1.27e+4]"
     ]
    },
    {
     "name": "stdout",
     "output_type": "stream",
     "text": [
      "torch.Size([3, 250, 250])\n",
      "torch.Size([3, 250, 250]) (48,)\n",
      "torch.Size([3, 250, 250])\n",
      "torch.Size([3, 250, 250]) (48,)\n"
     ]
    },
    {
     "name": "stderr",
     "output_type": "stream",
     "text": [
      "Train Epoch 0:  37%|█████████████▌                       | 614/1678 [01:59<03:32,  5.01batch/s, train_loss=-1.24e+4]"
     ]
    },
    {
     "name": "stdout",
     "output_type": "stream",
     "text": [
      "torch.Size([3, 250, 250])\n",
      "torch.Size([3, 250, 250]) (48,)\n",
      "torch.Size([3, 250, 250])\n",
      "torch.Size([3, 250, 250]) (48,)\n",
      "torch.Size([3, 250, 250])"
     ]
    },
    {
     "name": "stderr",
     "output_type": "stream",
     "text": [
      "Train Epoch 0:  37%|█████████████▌                       | 615/1678 [01:59<03:28,  5.10batch/s, train_loss=-1.53e+4]"
     ]
    },
    {
     "name": "stdout",
     "output_type": "stream",
     "text": [
      "\n",
      "torch.Size([3, 250, 250]) (48,)\n",
      "torch.Size([3, 250, 250])\n",
      "torch.Size([3, 250, 250]) (48,)\n",
      "torch.Size([3, 250, 250])"
     ]
    },
    {
     "name": "stderr",
     "output_type": "stream",
     "text": [
      "Train Epoch 0:  37%|█████████████▌                       | 616/1678 [01:59<03:30,  5.05batch/s, train_loss=-1.27e+4]"
     ]
    },
    {
     "name": "stdout",
     "output_type": "stream",
     "text": [
      "\n",
      "torch.Size([3, 250, 250]) (48,)\n",
      "torch.Size([3, 250, 250])\n",
      "torch.Size([3, 250, 250]) (48,)\n",
      "torch.Size([3, 250, 250])"
     ]
    },
    {
     "name": "stderr",
     "output_type": "stream",
     "text": [
      "Train Epoch 0:  37%|█████████████▌                       | 617/1678 [01:59<03:26,  5.13batch/s, train_loss=-1.18e+4]"
     ]
    },
    {
     "name": "stdout",
     "output_type": "stream",
     "text": [
      "\n",
      "torch.Size([3, 250, 250]) (48,)\n",
      "torch.Size([3, 250, 250])\n",
      "torch.Size([3, 250, 250]) (48,)\n",
      "torch.Size([3, 250, 250])"
     ]
    },
    {
     "name": "stderr",
     "output_type": "stream",
     "text": [
      "Train Epoch 0:  37%|█████████████▋                       | 618/1678 [02:00<03:27,  5.10batch/s, train_loss=-1.24e+4]"
     ]
    },
    {
     "name": "stdout",
     "output_type": "stream",
     "text": [
      "\n",
      "torch.Size([3, 250, 250]) (48,)\n",
      "torch.Size([3, 250, 250])\n",
      "torch.Size([3, 250, 250]) (48,)\n"
     ]
    },
    {
     "name": "stderr",
     "output_type": "stream",
     "text": [
      "Train Epoch 0:  37%|█████████████▋                       | 619/1678 [02:00<03:30,  5.02batch/s, train_loss=-1.34e+4]"
     ]
    },
    {
     "name": "stdout",
     "output_type": "stream",
     "text": [
      "torch.Size([3, 250, 250])\n",
      "torch.Size([3, 250, 250]) (48,)\n",
      "torch.Size([3, 250, 250])\n",
      "torch.Size([3, 250, 250]) (48,)\n",
      "torch.Size([3, 250, 250])"
     ]
    },
    {
     "name": "stderr",
     "output_type": "stream",
     "text": [
      "Train Epoch 0:  37%|█████████████▋                       | 620/1678 [02:00<03:26,  5.11batch/s, train_loss=-1.33e+4]"
     ]
    },
    {
     "name": "stdout",
     "output_type": "stream",
     "text": [
      "\n",
      "torch.Size([3, 250, 250]) (48,)\n",
      "torch.Size([3, 250, 250])\n",
      "torch.Size([3, 250, 250]) (48,)\n",
      "torch.Size([3, 250, 250])\n",
      "torch.Size([3, 250, 250]) (48,)\n"
     ]
    },
    {
     "name": "stderr",
     "output_type": "stream",
     "text": [
      "Train Epoch 0:  37%|█████████████▋                       | 621/1678 [02:00<03:27,  5.08batch/s, train_loss=-1.28e+4]"
     ]
    },
    {
     "name": "stdout",
     "output_type": "stream",
     "text": [
      "torch.Size([3, 250, 250])\n",
      "torch.Size([3, 250, 250]) (48,)\n",
      "torch.Size([3, 250, 250])\n",
      "torch.Size([3, 250, 250]) (48,)\n",
      "torch.Size([3, 250, 250])"
     ]
    },
    {
     "name": "stderr",
     "output_type": "stream",
     "text": [
      "Train Epoch 0:  37%|█████████████▋                       | 622/1678 [02:00<03:27,  5.09batch/s, train_loss=-1.22e+4]"
     ]
    },
    {
     "name": "stdout",
     "output_type": "stream",
     "text": [
      "\n",
      "torch.Size([3, 250, 250]) (48,)\n",
      "torch.Size([3, 250, 250])\n",
      "torch.Size([3, 250, 250]) (48,)\n",
      "torch.Size([3, 250, 250])"
     ]
    },
    {
     "name": "stderr",
     "output_type": "stream",
     "text": [
      "Train Epoch 0:  37%|█████████████▋                       | 623/1678 [02:01<03:26,  5.11batch/s, train_loss=-1.27e+4]"
     ]
    },
    {
     "name": "stdout",
     "output_type": "stream",
     "text": [
      "\n",
      "torch.Size([3, 250, 250]) (48,)\n",
      "torch.Size([3, 250, 250])\n",
      "torch.Size([3, 250, 250]) (48,)\n",
      "torch.Size([3, 250, 250])"
     ]
    },
    {
     "name": "stderr",
     "output_type": "stream",
     "text": [
      "Train Epoch 0:  37%|█████████████▊                       | 624/1678 [02:01<03:22,  5.19batch/s, train_loss=-1.25e+4]"
     ]
    },
    {
     "name": "stdout",
     "output_type": "stream",
     "text": [
      "\n",
      "torch.Size([3, 250, 250]) (48,)\n",
      "torch.Size([3, 250, 250])\n",
      "torch.Size([3, 250, 250]) (48,)\n",
      "torch.Size([3, 250, 250])"
     ]
    },
    {
     "name": "stderr",
     "output_type": "stream",
     "text": [
      "Train Epoch 0:  37%|█████████████▊                       | 625/1678 [02:01<03:23,  5.16batch/s, train_loss=-1.21e+4]"
     ]
    },
    {
     "name": "stdout",
     "output_type": "stream",
     "text": [
      "\n",
      "torch.Size([3, 250, 250]) (48,)\n",
      "torch.Size([3, 250, 250])\n",
      "torch.Size([3, 250, 250]) (48,)\n",
      "torch.Size([3, 250, 250])"
     ]
    },
    {
     "name": "stderr",
     "output_type": "stream",
     "text": [
      "Train Epoch 0:  37%|█████████████▊                       | 626/1678 [02:01<03:23,  5.17batch/s, train_loss=-1.21e+4]"
     ]
    },
    {
     "name": "stdout",
     "output_type": "stream",
     "text": [
      "\n",
      "torch.Size([3, 250, 250]) (48,)\n",
      "torch.Size([3, 250, 250])\n",
      "torch.Size([3, 250, 250]) (48,)\n",
      "torch.Size([3, 250, 250])\n",
      "torch.Size([3, 250, 250]) (48,)\n"
     ]
    },
    {
     "name": "stderr",
     "output_type": "stream",
     "text": [
      "Train Epoch 0:  37%|██████████████▏                       | 628/1678 [02:02<03:21,  5.22batch/s, train_loss=-1.3e+4]"
     ]
    },
    {
     "name": "stdout",
     "output_type": "stream",
     "text": [
      "torch.Size([3, 250, 250])\n",
      "torch.Size([3, 250, 250]) (48,)\n",
      "torch.Size([3, 250, 250])\n",
      "torch.Size([3, 250, 250]) (48,)\n",
      "torch.Size([3, 250, 250])"
     ]
    },
    {
     "name": "stderr",
     "output_type": "stream",
     "text": [
      "Train Epoch 0:  37%|██████████████▏                       | 629/1678 [02:02<03:19,  5.26batch/s, train_loss=-1.3e+4]"
     ]
    },
    {
     "name": "stdout",
     "output_type": "stream",
     "text": [
      "\n",
      "torch.Size([3, 250, 250]) (48,)\n",
      "torch.Size([3, 250, 250])\n",
      "torch.Size([3, 250, 250]) (48,)\n",
      "torch.Size([3, 250, 250])"
     ]
    },
    {
     "name": "stderr",
     "output_type": "stream",
     "text": [
      "Train Epoch 0:  38%|██████████████▎                       | 630/1678 [02:02<03:20,  5.23batch/s, train_loss=-1.2e+4]"
     ]
    },
    {
     "name": "stdout",
     "output_type": "stream",
     "text": [
      "\n",
      "torch.Size([3, 250, 250]) (48,)\n",
      "torch.Size([3, 250, 250])\n",
      "torch.Size([3, 250, 250]) (48,)\n"
     ]
    },
    {
     "name": "stderr",
     "output_type": "stream",
     "text": [
      "Train Epoch 0:  38%|█████████████▉                       | 631/1678 [02:02<03:21,  5.20batch/s, train_loss=-1.12e+4]"
     ]
    },
    {
     "name": "stdout",
     "output_type": "stream",
     "text": [
      "torch.Size([3, 250, 250])\n",
      "torch.Size([3, 250, 250]) (48,)\n",
      "torch.Size([3, 250, 250])\n",
      "torch.Size([3, 250, 250]) (48,)\n",
      "torch.Size([3, 250, 250])"
     ]
    },
    {
     "name": "stderr",
     "output_type": "stream",
     "text": [
      "Train Epoch 0:  38%|█████████████▉                       | 632/1678 [02:02<03:18,  5.27batch/s, train_loss=-1.05e+4]"
     ]
    },
    {
     "name": "stdout",
     "output_type": "stream",
     "text": [
      "\n",
      "torch.Size([3, 250, 250]) (48,)\n",
      "torch.Size([3, 250, 250])\n",
      "torch.Size([3, 250, 250]) (48,)\n",
      "torch.Size([3, 250, 250])"
     ]
    },
    {
     "name": "stderr",
     "output_type": "stream",
     "text": [
      "Train Epoch 0:  38%|█████████████▉                       | 633/1678 [02:03<03:16,  5.31batch/s, train_loss=-1.24e+4]"
     ]
    },
    {
     "name": "stdout",
     "output_type": "stream",
     "text": [
      "\n",
      "torch.Size([3, 250, 250]) (48,)\n",
      "torch.Size([3, 250, 250])\n",
      "torch.Size([3, 250, 250]) (48,)\n",
      "torch.Size([3, 250, 250])\n",
      "torch.Size([3, 250, 250]) (48,)\n"
     ]
    },
    {
     "name": "stderr",
     "output_type": "stream",
     "text": [
      "Train Epoch 0:  38%|█████████████▉                       | 634/1678 [02:03<03:18,  5.26batch/s, train_loss=-9.56e+3]"
     ]
    },
    {
     "name": "stdout",
     "output_type": "stream",
     "text": [
      "torch.Size([3, 250, 250])\n",
      "torch.Size([3, 250, 250]) (48,)\n",
      "torch.Size([3, 250, 250])\n",
      "torch.Size([3, 250, 250]) (48,)\n",
      "torch.Size([3, 250, 250])"
     ]
    },
    {
     "name": "stderr",
     "output_type": "stream",
     "text": [
      "Train Epoch 0:  38%|██████████████                       | 635/1678 [02:03<03:18,  5.27batch/s, train_loss=-1.43e+4]"
     ]
    },
    {
     "name": "stdout",
     "output_type": "stream",
     "text": [
      "\n",
      "torch.Size([3, 250, 250]) (48,)\n",
      "torch.Size([3, 250, 250])\n",
      "torch.Size([3, 250, 250]) (48,)\n",
      "torch.Size([3, 250, 250])\n",
      "torch.Size([3, 250, 250]) (48,)\n"
     ]
    },
    {
     "name": "stderr",
     "output_type": "stream",
     "text": [
      "Train Epoch 0:  38%|██████████████                       | 637/1678 [02:03<03:15,  5.33batch/s, train_loss=-1.05e+4]"
     ]
    },
    {
     "name": "stdout",
     "output_type": "stream",
     "text": [
      "torch.Size([3, 250, 250])\n",
      "torch.Size([3, 250, 250]) (48,)\n",
      "torch.Size([3, 250, 250])\n",
      "torch.Size([3, 250, 250]) (48,)\n",
      "torch.Size([3, 250, 250])"
     ]
    },
    {
     "name": "stderr",
     "output_type": "stream",
     "text": [
      "Train Epoch 0:  38%|██████████████                       | 638/1678 [02:03<03:16,  5.30batch/s, train_loss=-1.06e+4]"
     ]
    },
    {
     "name": "stdout",
     "output_type": "stream",
     "text": [
      "\n",
      "torch.Size([3, 250, 250]) (48,)\n",
      "torch.Size([3, 250, 250])\n",
      "torch.Size([3, 250, 250]) (48,)\n",
      "torch.Size([3, 250, 250])"
     ]
    },
    {
     "name": "stderr",
     "output_type": "stream",
     "text": [
      "Train Epoch 0:  38%|██████████████                       | 639/1678 [02:04<03:15,  5.31batch/s, train_loss=-1.17e+4]"
     ]
    },
    {
     "name": "stdout",
     "output_type": "stream",
     "text": [
      "\n",
      "torch.Size([3, 250, 250]) (48,)\n",
      "torch.Size([3, 250, 250])\n",
      "torch.Size([3, 250, 250]) (48,)\n",
      "torch.Size([3, 250, 250])"
     ]
    },
    {
     "name": "stderr",
     "output_type": "stream",
     "text": [
      "Train Epoch 0:  38%|██████████████                       | 640/1678 [02:04<03:14,  5.32batch/s, train_loss=-1.21e+4]"
     ]
    },
    {
     "name": "stdout",
     "output_type": "stream",
     "text": [
      "\n",
      "torch.Size([3, 250, 250]) (48,)\n",
      "torch.Size([3, 250, 250])\n",
      "torch.Size([3, 250, 250]) (48,)\n",
      "torch.Size([3, 250, 250])"
     ]
    },
    {
     "name": "stderr",
     "output_type": "stream",
     "text": [
      "Train Epoch 0:  38%|██████████████▏                      | 641/1678 [02:04<03:14,  5.32batch/s, train_loss=-1.18e+4]"
     ]
    },
    {
     "name": "stdout",
     "output_type": "stream",
     "text": [
      "\n",
      "torch.Size([3, 250, 250]) (48,)\n",
      "torch.Size([3, 250, 250])\n",
      "torch.Size([3, 250, 250]) (48,)\n",
      "torch.Size([3, 250, 250])"
     ]
    },
    {
     "name": "stderr",
     "output_type": "stream",
     "text": [
      "Train Epoch 0:  38%|██████████████▏                      | 642/1678 [02:04<03:14,  5.32batch/s, train_loss=-1.16e+4]"
     ]
    },
    {
     "name": "stdout",
     "output_type": "stream",
     "text": [
      "\n",
      "torch.Size([3, 250, 250]) (48,)\n",
      "torch.Size([3, 250, 250])\n",
      "torch.Size([3, 250, 250]) (48,)\n",
      "torch.Size([3, 250, 250])"
     ]
    },
    {
     "name": "stderr",
     "output_type": "stream",
     "text": [
      "Train Epoch 0:  38%|██████████████▏                      | 643/1678 [02:04<03:14,  5.32batch/s, train_loss=-1.35e+4]"
     ]
    },
    {
     "name": "stdout",
     "output_type": "stream",
     "text": [
      "\n",
      "torch.Size([3, 250, 250]) (48,)\n",
      "torch.Size([3, 250, 250])\n",
      "torch.Size([3, 250, 250]) (48,)\n",
      "torch.Size([3, 250, 250])"
     ]
    },
    {
     "name": "stderr",
     "output_type": "stream",
     "text": [
      "Train Epoch 0:  38%|██████████████▏                      | 644/1678 [02:05<03:15,  5.30batch/s, train_loss=-1.05e+4]"
     ]
    },
    {
     "name": "stdout",
     "output_type": "stream",
     "text": [
      "\n",
      "torch.Size([3, 250, 250]) (48,)\n",
      "torch.Size([3, 250, 250])\n",
      "torch.Size([3, 250, 250]) (48,)\n",
      "torch.Size([3, 250, 250])"
     ]
    },
    {
     "name": "stderr",
     "output_type": "stream",
     "text": [
      "Train Epoch 0:  38%|██████████████▏                      | 645/1678 [02:05<03:17,  5.23batch/s, train_loss=-1.11e+4]"
     ]
    },
    {
     "name": "stdout",
     "output_type": "stream",
     "text": [
      "\n",
      "torch.Size([3, 250, 250]) (48,)\n",
      "torch.Size([3, 250, 250])\n",
      "torch.Size([3, 250, 250]) (48,)\n"
     ]
    },
    {
     "name": "stderr",
     "output_type": "stream",
     "text": [
      "Train Epoch 0:  38%|██████████████▏                      | 646/1678 [02:05<03:18,  5.19batch/s, train_loss=-1.34e+4]"
     ]
    },
    {
     "name": "stdout",
     "output_type": "stream",
     "text": [
      "torch.Size([3, 250, 250])\n",
      "torch.Size([3, 250, 250]) (48,)\n",
      "torch.Size([3, 250, 250])\n",
      "torch.Size([3, 250, 250]) (48,)\n"
     ]
    },
    {
     "name": "stderr",
     "output_type": "stream",
     "text": [
      "Train Epoch 0:  39%|██████████████▎                      | 647/1678 [02:05<03:19,  5.17batch/s, train_loss=-1.36e+4]"
     ]
    },
    {
     "name": "stdout",
     "output_type": "stream",
     "text": [
      "torch.Size([3, 250, 250])\n",
      "torch.Size([3, 250, 250]) (48,)\n",
      "torch.Size([3, 250, 250])\n",
      "torch.Size([3, 250, 250]) (48,)\n",
      "torch.Size([3, 250, 250])"
     ]
    },
    {
     "name": "stderr",
     "output_type": "stream",
     "text": [
      "Train Epoch 0:  39%|██████████████▎                      | 648/1678 [02:05<03:19,  5.16batch/s, train_loss=-1.49e+4]"
     ]
    },
    {
     "name": "stdout",
     "output_type": "stream",
     "text": [
      "\n",
      "torch.Size([3, 250, 250]) (48,)\n",
      "torch.Size([3, 250, 250])\n",
      "torch.Size([3, 250, 250]) (48,)\n"
     ]
    },
    {
     "name": "stderr",
     "output_type": "stream",
     "text": [
      "Train Epoch 0:  39%|██████████████▎                      | 649/1678 [02:06<03:23,  5.05batch/s, train_loss=-1.28e+4]"
     ]
    },
    {
     "name": "stdout",
     "output_type": "stream",
     "text": [
      "torch.Size([3, 250, 250])\n",
      "torch.Size([3, 250, 250]) (48,)\n",
      "torch.Size([3, 250, 250])\n",
      "torch.Size([3, 250, 250]) (48,)\n",
      "torch.Size([3, 250, 250])"
     ]
    },
    {
     "name": "stderr",
     "output_type": "stream",
     "text": [
      "Train Epoch 0:  39%|██████████████▎                      | 650/1678 [02:06<03:20,  5.12batch/s, train_loss=-1.51e+4]"
     ]
    },
    {
     "name": "stdout",
     "output_type": "stream",
     "text": [
      "\n",
      "torch.Size([3, 250, 250]) (48,)\n",
      "torch.Size([3, 250, 250])\n",
      "torch.Size([3, 250, 250]) (48,)\n",
      "torch.Size([3, 250, 250])"
     ]
    },
    {
     "name": "stderr",
     "output_type": "stream",
     "text": [
      "Train Epoch 0:  39%|██████████████▋                       | 651/1678 [02:06<03:18,  5.17batch/s, train_loss=-1.4e+4]"
     ]
    },
    {
     "name": "stdout",
     "output_type": "stream",
     "text": [
      "\n",
      "torch.Size([3, 250, 250]) (48,)\n",
      "torch.Size([3, 250, 250])\n",
      "torch.Size([3, 250, 250]) (48,)\n",
      "torch.Size([3, 250, 250])"
     ]
    },
    {
     "name": "stderr",
     "output_type": "stream",
     "text": [
      "Train Epoch 0:  39%|██████████████▍                      | 652/1678 [02:06<03:17,  5.20batch/s, train_loss=-1.24e+4]"
     ]
    },
    {
     "name": "stdout",
     "output_type": "stream",
     "text": [
      "\n",
      "torch.Size([3, 250, 250]) (48,)\n",
      "torch.Size([3, 250, 250])\n",
      "torch.Size([3, 250, 250]) (48,)\n",
      "torch.Size([3, 250, 250])"
     ]
    },
    {
     "name": "stderr",
     "output_type": "stream",
     "text": [
      "Train Epoch 0:  39%|██████████████▍                      | 653/1678 [02:06<03:18,  5.17batch/s, train_loss=-1.36e+4]"
     ]
    },
    {
     "name": "stdout",
     "output_type": "stream",
     "text": [
      "\n",
      "torch.Size([3, 250, 250]) (48,)\n",
      "torch.Size([3, 250, 250])\n",
      "torch.Size([3, 250, 250]) (48,)\n",
      "torch.Size([3, 250, 250])"
     ]
    },
    {
     "name": "stderr",
     "output_type": "stream",
     "text": [
      "Train Epoch 0:  39%|██████████████▊                       | 654/1678 [02:07<03:18,  5.16batch/s, train_loss=-1.2e+4]"
     ]
    },
    {
     "name": "stdout",
     "output_type": "stream",
     "text": [
      "\n",
      "torch.Size([3, 250, 250]) (48,)\n",
      "torch.Size([3, 250, 250])\n",
      "torch.Size([3, 250, 250]) (48,)\n",
      "torch.Size([3, 250, 250])\n"
     ]
    },
    {
     "name": "stderr",
     "output_type": "stream",
     "text": [
      "Train Epoch 0:  39%|██████████████▍                      | 655/1678 [02:07<03:15,  5.23batch/s, train_loss=-1.42e+4]"
     ]
    },
    {
     "name": "stdout",
     "output_type": "stream",
     "text": [
      "torch.Size([3, 250, 250]) (48,)\n",
      "torch.Size([3, 250, 250])\n",
      "torch.Size([3, 250, 250]) (48,)\n",
      "torch.Size([3, 250, 250])"
     ]
    },
    {
     "name": "stderr",
     "output_type": "stream",
     "text": [
      "Train Epoch 0:  39%|██████████████▍                      | 656/1678 [02:07<03:13,  5.29batch/s, train_loss=-1.35e+4]"
     ]
    },
    {
     "name": "stdout",
     "output_type": "stream",
     "text": [
      "\n",
      "torch.Size([3, 250, 250]) (48,)\n",
      "torch.Size([3, 250, 250])\n",
      "torch.Size([3, 250, 250]) (48,)\n",
      "torch.Size([3, 250, 250])"
     ]
    },
    {
     "name": "stderr",
     "output_type": "stream",
     "text": [
      "Train Epoch 0:  39%|██████████████▍                      | 657/1678 [02:07<03:14,  5.24batch/s, train_loss=-1.22e+4]"
     ]
    },
    {
     "name": "stdout",
     "output_type": "stream",
     "text": [
      "\n",
      "torch.Size([3, 250, 250]) (48,)\n",
      "torch.Size([3, 250, 250])\n",
      "torch.Size([3, 250, 250]) (48,)\n",
      "torch.Size([3, 250, 250])"
     ]
    },
    {
     "name": "stderr",
     "output_type": "stream",
     "text": [
      "Train Epoch 0:  39%|██████████████▌                      | 658/1678 [02:07<03:12,  5.31batch/s, train_loss=-1.25e+4]"
     ]
    },
    {
     "name": "stdout",
     "output_type": "stream",
     "text": [
      "\n",
      "torch.Size([3, 250, 250]) (48,)\n",
      "torch.Size([3, 250, 250])\n",
      "torch.Size([3, 250, 250]) (48,)\n",
      "torch.Size([3, 250, 250])"
     ]
    },
    {
     "name": "stderr",
     "output_type": "stream",
     "text": [
      "Train Epoch 0:  39%|██████████████▌                      | 659/1678 [02:07<03:10,  5.34batch/s, train_loss=-1.34e+4]"
     ]
    },
    {
     "name": "stdout",
     "output_type": "stream",
     "text": [
      "\n",
      "torch.Size([3, 250, 250]) (48,)\n",
      "torch.Size([3, 250, 250])\n",
      "torch.Size([3, 250, 250]) (48,)\n",
      "torch.Size([3, 250, 250])"
     ]
    },
    {
     "name": "stderr",
     "output_type": "stream",
     "text": [
      "Train Epoch 0:  39%|██████████████▌                      | 660/1678 [02:08<03:13,  5.27batch/s, train_loss=-1.33e+4]"
     ]
    },
    {
     "name": "stdout",
     "output_type": "stream",
     "text": [
      "\n",
      "torch.Size([3, 250, 250]) (48,)\n",
      "torch.Size([3, 250, 250])\n",
      "torch.Size([3, 250, 250]) (48,)\n",
      "torch.Size([3, 250, 250])"
     ]
    },
    {
     "name": "stderr",
     "output_type": "stream",
     "text": [
      "Train Epoch 0:  39%|██████████████▉                       | 661/1678 [02:08<03:11,  5.30batch/s, train_loss=-1.2e+4]"
     ]
    },
    {
     "name": "stdout",
     "output_type": "stream",
     "text": [
      "\n",
      "torch.Size([3, 250, 250]) (48,)\n",
      "torch.Size([3, 250, 250])\n",
      "torch.Size([3, 250, 250]) (48,)\n",
      "torch.Size([3, 250, 250])"
     ]
    },
    {
     "name": "stderr",
     "output_type": "stream",
     "text": [
      "Train Epoch 0:  39%|██████████████▌                      | 662/1678 [02:08<03:10,  5.33batch/s, train_loss=-1.22e+4]"
     ]
    },
    {
     "name": "stdout",
     "output_type": "stream",
     "text": [
      "\n",
      "torch.Size([3, 250, 250]) (48,)\n",
      "torch.Size([3, 250, 250])\n",
      "torch.Size([3, 250, 250]) (48,)\n",
      "torch.Size([3, 250, 250])"
     ]
    },
    {
     "name": "stderr",
     "output_type": "stream",
     "text": [
      "Train Epoch 0:  40%|██████████████▌                      | 663/1678 [02:08<03:10,  5.33batch/s, train_loss=-1.21e+4]"
     ]
    },
    {
     "name": "stdout",
     "output_type": "stream",
     "text": [
      "\n",
      "torch.Size([3, 250, 250]) (48,)\n",
      "torch.Size([3, 250, 250])\n",
      "torch.Size([3, 250, 250]) (48,)\n",
      "torch.Size([3, 250, 250])\n",
      "torch.Size([3, 250, 250]) (48,)\n"
     ]
    },
    {
     "name": "stderr",
     "output_type": "stream",
     "text": [
      "Train Epoch 0:  40%|██████████████▋                      | 664/1678 [02:08<03:10,  5.31batch/s, train_loss=-1.29e+4]"
     ]
    },
    {
     "name": "stdout",
     "output_type": "stream",
     "text": [
      "torch.Size([3, 250, 250])\n",
      "torch.Size([3, 250, 250]) (48,)\n",
      "torch.Size([3, 250, 250])\n",
      "torch.Size([3, 250, 250]) (48,)\n",
      "torch.Size([3, 250, 250])"
     ]
    },
    {
     "name": "stderr",
     "output_type": "stream",
     "text": [
      "Train Epoch 0:  40%|██████████████▋                      | 665/1678 [02:09<03:09,  5.34batch/s, train_loss=-1.16e+4]"
     ]
    },
    {
     "name": "stdout",
     "output_type": "stream",
     "text": [
      "\n",
      "torch.Size([3, 250, 250]) (48,)\n",
      "torch.Size([3, 250, 250])\n",
      "torch.Size([3, 250, 250]) (48,)\n",
      "torch.Size([3, 250, 250])"
     ]
    },
    {
     "name": "stderr",
     "output_type": "stream",
     "text": [
      "Train Epoch 0:  40%|██████████████▋                      | 666/1678 [02:09<03:14,  5.22batch/s, train_loss=-1.59e+4]"
     ]
    },
    {
     "name": "stdout",
     "output_type": "stream",
     "text": [
      "\n",
      "torch.Size([3, 250, 250]) (48,)\n",
      "torch.Size([3, 250, 250])\n",
      "torch.Size([3, 250, 250]) (48,)\n",
      "torch.Size([3, 250, 250])\n",
      "torch.Size([3, 250, 250]) (48,)\n"
     ]
    },
    {
     "name": "stderr",
     "output_type": "stream",
     "text": [
      "Train Epoch 0:  40%|██████████████▋                      | 668/1678 [02:09<03:12,  5.24batch/s, train_loss=-9.89e+3]"
     ]
    },
    {
     "name": "stdout",
     "output_type": "stream",
     "text": [
      "torch.Size([3, 250, 250])\n",
      "torch.Size([3, 250, 250]) (48,)\n",
      "torch.Size([3, 250, 250])\n",
      "torch.Size([3, 250, 250]) (48,)\n",
      "torch.Size([3, 250, 250])"
     ]
    },
    {
     "name": "stderr",
     "output_type": "stream",
     "text": [
      "Train Epoch 0:  40%|███████████████▏                      | 669/1678 [02:09<03:09,  5.34batch/s, train_loss=-1.1e+4]"
     ]
    },
    {
     "name": "stdout",
     "output_type": "stream",
     "text": [
      "\n",
      "torch.Size([3, 250, 250]) (48,)\n",
      "torch.Size([3, 250, 250])\n",
      "torch.Size([3, 250, 250]) (48,)\n",
      "torch.Size([3, 250, 250])\n",
      "torch.Size([3, 250, 250]) (48,)\n",
      "torch.Size([3, 250, 250])"
     ]
    },
    {
     "name": "stderr",
     "output_type": "stream",
     "text": [
      "Train Epoch 0:  40%|██████████████▊                      | 670/1678 [02:10<03:07,  5.38batch/s, train_loss=-1.02e+4]"
     ]
    },
    {
     "name": "stdout",
     "output_type": "stream",
     "text": [
      "\n",
      "torch.Size([3, 250, 250]) (48,)\n",
      "torch.Size([3, 250, 250])\n",
      "torch.Size([3, 250, 250]) (48,)\n",
      "torch.Size([3, 250, 250])"
     ]
    },
    {
     "name": "stderr",
     "output_type": "stream",
     "text": [
      "Train Epoch 0:  40%|██████████████▊                      | 671/1678 [02:10<03:08,  5.33batch/s, train_loss=-1.05e+4]"
     ]
    },
    {
     "name": "stdout",
     "output_type": "stream",
     "text": [
      "\n",
      "torch.Size([3, 250, 250]) (48,)\n",
      "torch.Size([3, 250, 250])\n",
      "torch.Size([3, 250, 250]) (48,)\n",
      "torch.Size([3, 250, 250])"
     ]
    },
    {
     "name": "stderr",
     "output_type": "stream",
     "text": [
      "Train Epoch 0:  40%|██████████████▊                      | 672/1678 [02:10<03:08,  5.34batch/s, train_loss=-1.07e+4]"
     ]
    },
    {
     "name": "stdout",
     "output_type": "stream",
     "text": [
      "\n",
      "torch.Size([3, 250, 250]) (48,)\n",
      "torch.Size([3, 250, 250])\n",
      "torch.Size([3, 250, 250]) (48,)\n",
      "torch.Size([3, 250, 250])"
     ]
    },
    {
     "name": "stderr",
     "output_type": "stream",
     "text": [
      "Train Epoch 0:  40%|██████████████▊                      | 673/1678 [02:10<03:10,  5.26batch/s, train_loss=-1.37e+4]"
     ]
    },
    {
     "name": "stdout",
     "output_type": "stream",
     "text": [
      "\n",
      "torch.Size([3, 250, 250]) (48,)\n",
      "torch.Size([3, 250, 250])\n",
      "torch.Size([3, 250, 250]) (48,)\n",
      "torch.Size([3, 250, 250])"
     ]
    },
    {
     "name": "stderr",
     "output_type": "stream",
     "text": [
      "Train Epoch 0:  40%|██████████████▊                      | 674/1678 [02:10<03:11,  5.25batch/s, train_loss=-1.25e+4]"
     ]
    },
    {
     "name": "stdout",
     "output_type": "stream",
     "text": [
      "\n",
      "torch.Size([3, 250, 250]) (48,)\n",
      "torch.Size([3, 250, 250])\n",
      "torch.Size([3, 250, 250]) (48,)\n",
      "torch.Size([3, 250, 250])"
     ]
    },
    {
     "name": "stderr",
     "output_type": "stream",
     "text": [
      "Train Epoch 0:  40%|██████████████▉                      | 675/1678 [02:11<03:10,  5.27batch/s, train_loss=-1.22e+4]"
     ]
    },
    {
     "name": "stdout",
     "output_type": "stream",
     "text": [
      "\n",
      "torch.Size([3, 250, 250]) (48,)\n",
      "torch.Size([3, 250, 250])\n",
      "torch.Size([3, 250, 250]) (48,)\n"
     ]
    },
    {
     "name": "stderr",
     "output_type": "stream",
     "text": [
      "Train Epoch 0:  40%|██████████████▉                      | 676/1678 [02:11<03:14,  5.14batch/s, train_loss=-1.36e+4]"
     ]
    },
    {
     "name": "stdout",
     "output_type": "stream",
     "text": [
      "torch.Size([3, 250, 250])\n",
      "torch.Size([3, 250, 250]) (48,)\n",
      "torch.Size([3, 250, 250])\n",
      "torch.Size([3, 250, 250]) (48,)\n"
     ]
    },
    {
     "name": "stderr",
     "output_type": "stream",
     "text": [
      "Train Epoch 0:  40%|██████████████▉                      | 677/1678 [02:11<03:15,  5.13batch/s, train_loss=-1.34e+4]"
     ]
    },
    {
     "name": "stdout",
     "output_type": "stream",
     "text": [
      "torch.Size([3, 250, 250])\n",
      "torch.Size([3, 250, 250]) (48,)\n",
      "torch.Size([3, 250, 250])\n",
      "torch.Size([3, 250, 250]) (48,)\n",
      "torch.Size([3, 250, 250])"
     ]
    },
    {
     "name": "stderr",
     "output_type": "stream",
     "text": [
      "Train Epoch 0:  40%|██████████████▉                      | 678/1678 [02:11<03:15,  5.11batch/s, train_loss=-1.21e+4]"
     ]
    },
    {
     "name": "stdout",
     "output_type": "stream",
     "text": [
      "\n",
      "torch.Size([3, 250, 250]) (48,)\n",
      "torch.Size([3, 250, 250])\n",
      "torch.Size([3, 250, 250]) (48,)\n",
      "torch.Size([3, 250, 250])"
     ]
    },
    {
     "name": "stderr",
     "output_type": "stream",
     "text": [
      "Train Epoch 0:  40%|███████████████▍                      | 679/1678 [02:11<03:11,  5.22batch/s, train_loss=-1.5e+4]"
     ]
    },
    {
     "name": "stdout",
     "output_type": "stream",
     "text": [
      "\n",
      "torch.Size([3, 250, 250]) (48,)\n",
      "torch.Size([3, 250, 250])\n",
      "torch.Size([3, 250, 250]) (48,)\n",
      "torch.Size([3, 250, 250])"
     ]
    },
    {
     "name": "stderr",
     "output_type": "stream",
     "text": [
      "Train Epoch 0:  41%|██████████████▉                      | 680/1678 [02:11<03:10,  5.25batch/s, train_loss=-1.24e+4]"
     ]
    },
    {
     "name": "stdout",
     "output_type": "stream",
     "text": [
      "\n",
      "torch.Size([3, 250, 250]) (48,)\n",
      "torch.Size([3, 250, 250])\n",
      "torch.Size([3, 250, 250]) (48,)\n",
      "torch.Size([3, 250, 250])"
     ]
    },
    {
     "name": "stderr",
     "output_type": "stream",
     "text": [
      "Train Epoch 0:  41%|███████████████▍                      | 681/1678 [02:12<03:10,  5.23batch/s, train_loss=-1.4e+4]"
     ]
    },
    {
     "name": "stdout",
     "output_type": "stream",
     "text": [
      "\n",
      "torch.Size([3, 250, 250]) (48,)\n",
      "torch.Size([3, 250, 250])\n",
      "torch.Size([3, 250, 250]) (48,)\n",
      "torch.Size([3, 250, 250])"
     ]
    },
    {
     "name": "stderr",
     "output_type": "stream",
     "text": [
      "Train Epoch 0:  41%|███████████████                      | 682/1678 [02:12<03:12,  5.18batch/s, train_loss=-1.36e+4]"
     ]
    },
    {
     "name": "stdout",
     "output_type": "stream",
     "text": [
      "\n",
      "torch.Size([3, 250, 250]) (48,)\n",
      "torch.Size([3, 250, 250])\n",
      "torch.Size([3, 250, 250]) (48,)\n",
      "torch.Size([3, 250, 250])"
     ]
    },
    {
     "name": "stderr",
     "output_type": "stream",
     "text": [
      "Train Epoch 0:  41%|███████████████                      | 683/1678 [02:12<03:10,  5.21batch/s, train_loss=-1.52e+4]"
     ]
    },
    {
     "name": "stdout",
     "output_type": "stream",
     "text": [
      "\n",
      "torch.Size([3, 250, 250]) (48,)\n",
      "torch.Size([3, 250, 250])\n",
      "torch.Size([3, 250, 250]) (48,)\n",
      "torch.Size([3, 250, 250])"
     ]
    },
    {
     "name": "stderr",
     "output_type": "stream",
     "text": [
      "Train Epoch 0:  41%|███████████████                      | 684/1678 [02:12<03:12,  5.15batch/s, train_loss=-1.35e+4]"
     ]
    },
    {
     "name": "stdout",
     "output_type": "stream",
     "text": [
      "\n",
      "torch.Size([3, 250, 250]) (48,)\n",
      "torch.Size([3, 250, 250])\n",
      "torch.Size([3, 250, 250]) (48,)\n",
      "torch.Size([3, 250, 250])\n"
     ]
    },
    {
     "name": "stderr",
     "output_type": "stream",
     "text": [
      "Train Epoch 0:  41%|███████████████                      | 685/1678 [02:12<03:14,  5.11batch/s, train_loss=-1.45e+4]"
     ]
    },
    {
     "name": "stdout",
     "output_type": "stream",
     "text": [
      "torch.Size([3, 250, 250]) (48,)\n",
      "torch.Size([3, 250, 250])\n",
      "torch.Size([3, 250, 250]) (48,)\n",
      "torch.Size([3, 250, 250])"
     ]
    },
    {
     "name": "stderr",
     "output_type": "stream",
     "text": [
      "Train Epoch 0:  41%|███████████████▏                     | 686/1678 [02:13<03:14,  5.11batch/s, train_loss=-1.25e+4]"
     ]
    },
    {
     "name": "stdout",
     "output_type": "stream",
     "text": [
      "\n",
      "torch.Size([3, 250, 250]) (48,)\n",
      "torch.Size([3, 250, 250])\n",
      "torch.Size([3, 250, 250]) (48,)\n",
      "torch.Size([3, 250, 250])"
     ]
    },
    {
     "name": "stderr",
     "output_type": "stream",
     "text": [
      "Train Epoch 0:  41%|███████████████▏                     | 687/1678 [02:13<03:11,  5.18batch/s, train_loss=-1.42e+4]"
     ]
    },
    {
     "name": "stdout",
     "output_type": "stream",
     "text": [
      "\n",
      "torch.Size([3, 250, 250]) (48,)\n",
      "torch.Size([3, 250, 250])\n",
      "torch.Size([3, 250, 250]) (48,)\n",
      "torch.Size([3, 250, 250])"
     ]
    },
    {
     "name": "stderr",
     "output_type": "stream",
     "text": [
      "Train Epoch 0:  41%|███████████████▏                     | 688/1678 [02:13<03:08,  5.25batch/s, train_loss=-1.42e+4]"
     ]
    },
    {
     "name": "stdout",
     "output_type": "stream",
     "text": [
      "\n",
      "torch.Size([3, 250, 250]) (48,)\n",
      "torch.Size([3, 250, 250])\n",
      "torch.Size([3, 250, 250]) (48,)\n",
      "torch.Size([3, 250, 250])"
     ]
    },
    {
     "name": "stderr",
     "output_type": "stream",
     "text": [
      "Train Epoch 0:  41%|███████████████▏                     | 689/1678 [02:13<03:08,  5.26batch/s, train_loss=-1.37e+4]"
     ]
    },
    {
     "name": "stdout",
     "output_type": "stream",
     "text": [
      "\n",
      "torch.Size([3, 250, 250]) (48,)\n",
      "torch.Size([3, 250, 250])\n",
      "torch.Size([3, 250, 250]) (48,)\n",
      "torch.Size([3, 250, 250])"
     ]
    },
    {
     "name": "stderr",
     "output_type": "stream",
     "text": [
      "Train Epoch 0:  41%|███████████████▏                     | 690/1678 [02:13<03:05,  5.32batch/s, train_loss=-1.32e+4]"
     ]
    },
    {
     "name": "stdout",
     "output_type": "stream",
     "text": [
      "\n",
      "torch.Size([3, 250, 250]) (48,)\n",
      "torch.Size([3, 250, 250])\n",
      "torch.Size([3, 250, 250]) (48,)\n",
      "torch.Size([3, 250, 250])"
     ]
    },
    {
     "name": "stderr",
     "output_type": "stream",
     "text": [
      "Train Epoch 0:  41%|███████████████▏                     | 691/1678 [02:14<03:07,  5.28batch/s, train_loss=-1.22e+4]"
     ]
    },
    {
     "name": "stdout",
     "output_type": "stream",
     "text": [
      "\n",
      "torch.Size([3, 250, 250]) (48,)\n",
      "torch.Size([3, 250, 250])\n",
      "torch.Size([3, 250, 250]) (48,)\n",
      "torch.Size([3, 250, 250])"
     ]
    },
    {
     "name": "stderr",
     "output_type": "stream",
     "text": [
      "Train Epoch 0:  41%|███████████████▎                     | 692/1678 [02:14<03:05,  5.31batch/s, train_loss=-1.27e+4]"
     ]
    },
    {
     "name": "stdout",
     "output_type": "stream",
     "text": [
      "\n",
      "torch.Size([3, 250, 250]) (48,)\n",
      "torch.Size([3, 250, 250])\n",
      "torch.Size([3, 250, 250]) (48,)\n",
      "torch.Size([3, 250, 250])"
     ]
    },
    {
     "name": "stderr",
     "output_type": "stream",
     "text": [
      "Train Epoch 0:  41%|███████████████▎                     | 693/1678 [02:14<03:07,  5.24batch/s, train_loss=-1.31e+4]"
     ]
    },
    {
     "name": "stdout",
     "output_type": "stream",
     "text": [
      "\n",
      "torch.Size([3, 250, 250]) (48,)\n",
      "torch.Size([3, 250, 250])\n",
      "torch.Size([3, 250, 250]) (48,)\n",
      "torch.Size([3, 250, 250])"
     ]
    },
    {
     "name": "stderr",
     "output_type": "stream",
     "text": [
      "Train Epoch 0:  41%|███████████████▎                     | 694/1678 [02:14<03:06,  5.28batch/s, train_loss=-1.32e+4]"
     ]
    },
    {
     "name": "stdout",
     "output_type": "stream",
     "text": [
      "\n",
      "torch.Size([3, 250, 250]) (48,)\n",
      "torch.Size([3, 250, 250])\n",
      "torch.Size([3, 250, 250]) (48,)\n",
      "torch.Size([3, 250, 250])"
     ]
    },
    {
     "name": "stderr",
     "output_type": "stream",
     "text": [
      "Train Epoch 0:  41%|███████████████▎                     | 695/1678 [02:14<03:05,  5.29batch/s, train_loss=-1.24e+4]"
     ]
    },
    {
     "name": "stdout",
     "output_type": "stream",
     "text": [
      "\n",
      "torch.Size([3, 250, 250]) (48,)\n",
      "torch.Size([3, 250, 250])\n",
      "torch.Size([3, 250, 250]) (48,)\n"
     ]
    },
    {
     "name": "stderr",
     "output_type": "stream",
     "text": [
      "Train Epoch 0:  41%|███████████████▊                      | 696/1678 [02:15<03:10,  5.16batch/s, train_loss=-1.3e+4]"
     ]
    },
    {
     "name": "stdout",
     "output_type": "stream",
     "text": [
      "torch.Size([3, 250, 250])\n",
      "torch.Size([3, 250, 250]) (48,)\n",
      "torch.Size([3, 250, 250])\n",
      "torch.Size([3, 250, 250]) (48,)\n",
      "torch.Size([3, 250, 250])\n",
      "torch.Size([3, 250, 250]) (48,)"
     ]
    },
    {
     "name": "stderr",
     "output_type": "stream",
     "text": [
      "Train Epoch 0:  42%|███████████████▎                     | 697/1678 [02:15<03:08,  5.20batch/s, train_loss=-1.16e+4]"
     ]
    },
    {
     "name": "stdout",
     "output_type": "stream",
     "text": [
      "\n",
      "torch.Size([3, 250, 250])\n",
      "torch.Size([3, 250, 250]) (48,)\n",
      "torch.Size([3, 250, 250])"
     ]
    },
    {
     "name": "stderr",
     "output_type": "stream",
     "text": [
      "Train Epoch 0:  42%|███████████████▍                     | 698/1678 [02:15<03:06,  5.25batch/s, train_loss=-1.17e+4]"
     ]
    },
    {
     "name": "stdout",
     "output_type": "stream",
     "text": [
      "\n",
      "torch.Size([3, 250, 250]) (48,)\n",
      "torch.Size([3, 250, 250])\n",
      "torch.Size([3, 250, 250]) (48,)\n",
      "torch.Size([3, 250, 250])\n",
      "torch.Size([3, 250, 250]) (48,)\n"
     ]
    },
    {
     "name": "stderr",
     "output_type": "stream",
     "text": [
      "Train Epoch 0:  42%|███████████████▍                     | 700/1678 [02:15<03:05,  5.27batch/s, train_loss=-1.34e+4]"
     ]
    },
    {
     "name": "stdout",
     "output_type": "stream",
     "text": [
      "torch.Size([3, 250, 250])\n",
      "torch.Size([3, 250, 250]) (48,)\n",
      "torch.Size([3, 250, 250])\n",
      "torch.Size([3, 250, 250]) (48,)\n",
      "torch.Size([3, 250, 250])"
     ]
    },
    {
     "name": "stderr",
     "output_type": "stream",
     "text": [
      "Train Epoch 0:  42%|███████████████▍                     | 701/1678 [02:15<03:04,  5.29batch/s, train_loss=-1.26e+4]"
     ]
    },
    {
     "name": "stdout",
     "output_type": "stream",
     "text": [
      "\n",
      "torch.Size([3, 250, 250]) (48,)\n",
      "torch.Size([3, 250, 250])\n",
      "torch.Size([3, 250, 250]) (48,)\n",
      "torch.Size([3, 250, 250])\n",
      "torch.Size([3, 250, 250]) (48,)\n"
     ]
    },
    {
     "name": "stderr",
     "output_type": "stream",
     "text": [
      "Train Epoch 0:  42%|███████████████▍                     | 702/1678 [02:16<03:03,  5.31batch/s, train_loss=-1.01e+4]"
     ]
    },
    {
     "name": "stdout",
     "output_type": "stream",
     "text": [
      "torch.Size([3, 250, 250])\n",
      "torch.Size([3, 250, 250]) (48,)\n",
      "torch.Size([3, 250, 250])\n",
      "torch.Size([3, 250, 250]) (48,)\n",
      "torch.Size([3, 250, 250])"
     ]
    },
    {
     "name": "stderr",
     "output_type": "stream",
     "text": [
      "Train Epoch 0:  42%|███████████████▌                     | 703/1678 [02:16<03:03,  5.32batch/s, train_loss=-1.26e+4]"
     ]
    },
    {
     "name": "stdout",
     "output_type": "stream",
     "text": [
      "\n",
      "torch.Size([3, 250, 250]) (48,)\n",
      "torch.Size([3, 250, 250])\n",
      "torch.Size([3, 250, 250]) (48,)\n",
      "torch.Size([3, 250, 250])\n",
      "torch.Size([3, 250, 250]) (48,)\n"
     ]
    },
    {
     "name": "stderr",
     "output_type": "stream",
     "text": [
      "Train Epoch 0:  42%|███████████████▌                     | 705/1678 [02:16<03:04,  5.26batch/s, train_loss=-1.23e+4]"
     ]
    },
    {
     "name": "stdout",
     "output_type": "stream",
     "text": [
      "torch.Size([3, 250, 250])\n",
      "torch.Size([3, 250, 250]) (48,)\n",
      "torch.Size([3, 250, 250])\n",
      "torch.Size([3, 250, 250]) (48,)\n"
     ]
    },
    {
     "name": "stderr",
     "output_type": "stream",
     "text": [
      "Train Epoch 0:  42%|███████████████▌                     | 706/1678 [02:16<03:08,  5.17batch/s, train_loss=-1.39e+4]"
     ]
    },
    {
     "name": "stdout",
     "output_type": "stream",
     "text": [
      "torch.Size([3, 250, 250])\n",
      "torch.Size([3, 250, 250]) (48,)\n",
      "torch.Size([3, 250, 250])\n",
      "torch.Size([3, 250, 250]) (48,)\n",
      "torch.Size([3, 250, 250])"
     ]
    },
    {
     "name": "stderr",
     "output_type": "stream",
     "text": [
      "Train Epoch 0:  42%|███████████████▌                     | 707/1678 [02:17<03:06,  5.22batch/s, train_loss=-1.21e+4]"
     ]
    },
    {
     "name": "stdout",
     "output_type": "stream",
     "text": [
      "\n",
      "torch.Size([3, 250, 250]) (48,)\n",
      "torch.Size([3, 250, 250])\n",
      "torch.Size([3, 250, 250]) (48,)\n",
      "torch.Size([3, 250, 250])"
     ]
    },
    {
     "name": "stderr",
     "output_type": "stream",
     "text": [
      "Train Epoch 0:  42%|███████████████▌                     | 708/1678 [02:17<03:05,  5.24batch/s, train_loss=-1.23e+4]"
     ]
    },
    {
     "name": "stdout",
     "output_type": "stream",
     "text": [
      "\n",
      "torch.Size([3, 250, 250]) (48,)\n",
      "torch.Size([3, 250, 250])\n",
      "torch.Size([3, 250, 250]) (48,)\n",
      "torch.Size([3, 250, 250])"
     ]
    },
    {
     "name": "stderr",
     "output_type": "stream",
     "text": [
      "Train Epoch 0:  42%|███████████████▋                     | 709/1678 [02:17<03:06,  5.19batch/s, train_loss=-1.38e+4]"
     ]
    },
    {
     "name": "stdout",
     "output_type": "stream",
     "text": [
      "\n",
      "torch.Size([3, 250, 250]) (48,)\n",
      "torch.Size([3, 250, 250])\n",
      "torch.Size([3, 250, 250]) (48,)\n",
      "torch.Size([3, 250, 250])"
     ]
    },
    {
     "name": "stderr",
     "output_type": "stream",
     "text": [
      "Train Epoch 0:  42%|███████████████▋                     | 710/1678 [02:17<03:04,  5.25batch/s, train_loss=-1.39e+4]"
     ]
    },
    {
     "name": "stdout",
     "output_type": "stream",
     "text": [
      "\n",
      "torch.Size([3, 250, 250]) (48,)\n",
      "torch.Size([3, 250, 250])\n",
      "torch.Size([3, 250, 250]) (48,)\n",
      "torch.Size([3, 250, 250])"
     ]
    },
    {
     "name": "stderr",
     "output_type": "stream",
     "text": [
      "Train Epoch 0:  42%|███████████████▋                     | 711/1678 [02:17<03:02,  5.30batch/s, train_loss=-1.11e+4]"
     ]
    },
    {
     "name": "stdout",
     "output_type": "stream",
     "text": [
      "\n",
      "torch.Size([3, 250, 250]) (48,)\n",
      "torch.Size([3, 250, 250])\n",
      "torch.Size([3, 250, 250]) (48,)\n",
      "torch.Size([3, 250, 250])"
     ]
    },
    {
     "name": "stderr",
     "output_type": "stream",
     "text": [
      "Train Epoch 0:  42%|███████████████▋                     | 712/1678 [02:18<03:01,  5.31batch/s, train_loss=-1.29e+4]"
     ]
    },
    {
     "name": "stdout",
     "output_type": "stream",
     "text": [
      "\n",
      "torch.Size([3, 250, 250]) (48,)\n",
      "torch.Size([3, 250, 250])\n",
      "torch.Size([3, 250, 250]) (48,)\n",
      "torch.Size([3, 250, 250])"
     ]
    },
    {
     "name": "stderr",
     "output_type": "stream",
     "text": [
      "Train Epoch 0:  42%|███████████████▋                     | 713/1678 [02:18<03:04,  5.23batch/s, train_loss=-1.11e+4]"
     ]
    },
    {
     "name": "stdout",
     "output_type": "stream",
     "text": [
      "\n",
      "torch.Size([3, 250, 250]) (48,)\n",
      "torch.Size([3, 250, 250])\n",
      "torch.Size([3, 250, 250]) (48,)\n"
     ]
    },
    {
     "name": "stderr",
     "output_type": "stream",
     "text": [
      "Train Epoch 0:  43%|███████████████▋                     | 714/1678 [02:18<03:05,  5.19batch/s, train_loss=-1.36e+4]"
     ]
    },
    {
     "name": "stdout",
     "output_type": "stream",
     "text": [
      "torch.Size([3, 250, 250])\n",
      "torch.Size([3, 250, 250]) (48,)\n",
      "torch.Size([3, 250, 250])\n",
      "torch.Size([3, 250, 250]) (48,)\n",
      "torch.Size([3, 250, 250])"
     ]
    },
    {
     "name": "stderr",
     "output_type": "stream",
     "text": [
      "Train Epoch 0:  43%|███████████████▊                     | 715/1678 [02:18<03:04,  5.23batch/s, train_loss=-1.21e+4]"
     ]
    },
    {
     "name": "stdout",
     "output_type": "stream",
     "text": [
      "\n",
      "torch.Size([3, 250, 250]) (48,)\n",
      "torch.Size([3, 250, 250])\n",
      "torch.Size([3, 250, 250]) (48,)\n",
      "torch.Size([3, 250, 250])"
     ]
    },
    {
     "name": "stderr",
     "output_type": "stream",
     "text": [
      "Train Epoch 0:  43%|███████████████▊                     | 716/1678 [02:18<03:06,  5.15batch/s, train_loss=-1.26e+4]"
     ]
    },
    {
     "name": "stdout",
     "output_type": "stream",
     "text": [
      "\n",
      "torch.Size([3, 250, 250]) (48,)\n",
      "torch.Size([3, 250, 250])\n",
      "torch.Size([3, 250, 250]) (48,)\n"
     ]
    },
    {
     "name": "stderr",
     "output_type": "stream",
     "text": [
      "Train Epoch 0:  43%|███████████████▊                     | 717/1678 [02:19<03:08,  5.09batch/s, train_loss=-1.21e+4]"
     ]
    },
    {
     "name": "stdout",
     "output_type": "stream",
     "text": [
      "torch.Size([3, 250, 250])\n",
      "torch.Size([3, 250, 250]) (48,)\n",
      "torch.Size([3, 250, 250])\n",
      "torch.Size([3, 250, 250]) (48,)\n",
      "torch.Size([3, 250, 250])"
     ]
    },
    {
     "name": "stderr",
     "output_type": "stream",
     "text": [
      "Train Epoch 0:  43%|███████████████▊                     | 718/1678 [02:19<03:05,  5.16batch/s, train_loss=-1.35e+4]"
     ]
    },
    {
     "name": "stdout",
     "output_type": "stream",
     "text": [
      "\n",
      "torch.Size([3, 250, 250]) (48,)\n",
      "torch.Size([3, 250, 250])\n",
      "torch.Size([3, 250, 250]) (48,)\n",
      "torch.Size([3, 250, 250])"
     ]
    },
    {
     "name": "stderr",
     "output_type": "stream",
     "text": [
      "Train Epoch 0:  43%|████████████████▎                     | 719/1678 [02:19<03:07,  5.11batch/s, train_loss=-1.2e+4]"
     ]
    },
    {
     "name": "stdout",
     "output_type": "stream",
     "text": [
      "\n",
      "torch.Size([3, 250, 250]) (48,)\n",
      "torch.Size([3, 250, 250])\n",
      "torch.Size([3, 250, 250]) (48,)\n"
     ]
    },
    {
     "name": "stderr",
     "output_type": "stream",
     "text": [
      "Train Epoch 0:  43%|███████████████▉                     | 720/1678 [02:19<03:06,  5.13batch/s, train_loss=-1.38e+4]"
     ]
    },
    {
     "name": "stdout",
     "output_type": "stream",
     "text": [
      "torch.Size([3, 250, 250])\n",
      "torch.Size([3, 250, 250]) (48,)\n",
      "torch.Size([3, 250, 250])\n",
      "torch.Size([3, 250, 250]) (48,)\n",
      "torch.Size([3, 250, 250])"
     ]
    },
    {
     "name": "stderr",
     "output_type": "stream",
     "text": [
      "Train Epoch 0:  43%|███████████████▉                     | 721/1678 [02:19<03:05,  5.16batch/s, train_loss=-1.38e+4]"
     ]
    },
    {
     "name": "stdout",
     "output_type": "stream",
     "text": [
      "\n",
      "torch.Size([3, 250, 250]) (48,)\n",
      "torch.Size([3, 250, 250])\n",
      "torch.Size([3, 250, 250]) (48,)\n",
      "torch.Size([3, 250, 250])"
     ]
    },
    {
     "name": "stderr",
     "output_type": "stream",
     "text": [
      "Train Epoch 0:  43%|███████████████▉                     | 722/1678 [02:20<03:02,  5.23batch/s, train_loss=-1.38e+4]"
     ]
    },
    {
     "name": "stdout",
     "output_type": "stream",
     "text": [
      "\n",
      "torch.Size([3, 250, 250]) (48,)\n",
      "torch.Size([3, 250, 250])\n",
      "torch.Size([3, 250, 250]) (48,)\n",
      "torch.Size([3, 250, 250])"
     ]
    },
    {
     "name": "stderr",
     "output_type": "stream",
     "text": [
      "Train Epoch 0:  43%|███████████████▉                     | 723/1678 [02:20<03:01,  5.27batch/s, train_loss=-1.16e+4]"
     ]
    },
    {
     "name": "stdout",
     "output_type": "stream",
     "text": [
      "\n",
      "torch.Size([3, 250, 250]) (48,)\n",
      "torch.Size([3, 250, 250])\n",
      "torch.Size([3, 250, 250]) (48,)\n",
      "torch.Size([3, 250, 250])"
     ]
    },
    {
     "name": "stderr",
     "output_type": "stream",
     "text": [
      "Train Epoch 0:  43%|███████████████▉                     | 724/1678 [02:20<02:59,  5.30batch/s, train_loss=-1.23e+4]"
     ]
    },
    {
     "name": "stdout",
     "output_type": "stream",
     "text": [
      "\n",
      "torch.Size([3, 250, 250]) (48,)\n",
      "torch.Size([3, 250, 250])\n",
      "torch.Size([3, 250, 250]) (48,)\n",
      "torch.Size([3, 250, 250])"
     ]
    },
    {
     "name": "stderr",
     "output_type": "stream",
     "text": [
      "Train Epoch 0:  43%|███████████████▉                     | 725/1678 [02:20<03:01,  5.25batch/s, train_loss=-1.46e+4]"
     ]
    },
    {
     "name": "stdout",
     "output_type": "stream",
     "text": [
      "\n",
      "torch.Size([3, 250, 250]) (48,)\n",
      "torch.Size([3, 250, 250])\n",
      "torch.Size([3, 250, 250]) (48,)\n",
      "torch.Size([3, 250, 250])"
     ]
    },
    {
     "name": "stderr",
     "output_type": "stream",
     "text": [
      "Train Epoch 0:  43%|████████████████                     | 726/1678 [02:20<03:00,  5.29batch/s, train_loss=-1.42e+4]"
     ]
    },
    {
     "name": "stdout",
     "output_type": "stream",
     "text": [
      "\n",
      "torch.Size([3, 250, 250]) (48,)\n",
      "torch.Size([3, 250, 250])\n",
      "torch.Size([3, 250, 250]) (48,)\n",
      "torch.Size([3, 250, 250])"
     ]
    },
    {
     "name": "stderr",
     "output_type": "stream",
     "text": [
      "Train Epoch 0:  43%|████████████████                     | 727/1678 [02:20<02:59,  5.29batch/s, train_loss=-1.27e+4]"
     ]
    },
    {
     "name": "stdout",
     "output_type": "stream",
     "text": [
      "\n",
      "torch.Size([3, 250, 250]) (48,)\n",
      "torch.Size([3, 250, 250])\n",
      "torch.Size([3, 250, 250]) (48,)\n",
      "torch.Size([3, 250, 250])"
     ]
    },
    {
     "name": "stderr",
     "output_type": "stream",
     "text": [
      "Train Epoch 0:  43%|████████████████                     | 728/1678 [02:21<03:01,  5.25batch/s, train_loss=-1.38e+4]"
     ]
    },
    {
     "name": "stdout",
     "output_type": "stream",
     "text": [
      "\n",
      "torch.Size([3, 250, 250]) (48,)\n",
      "torch.Size([3, 250, 250])\n",
      "torch.Size([3, 250, 250]) (48,)\n",
      "torch.Size([3, 250, 250])"
     ]
    },
    {
     "name": "stderr",
     "output_type": "stream",
     "text": [
      "Train Epoch 0:  43%|████████████████                     | 729/1678 [02:21<02:59,  5.29batch/s, train_loss=-1.39e+4]"
     ]
    },
    {
     "name": "stdout",
     "output_type": "stream",
     "text": [
      "\n",
      "torch.Size([3, 250, 250]) (48,)\n",
      "torch.Size([3, 250, 250])\n",
      "torch.Size([3, 250, 250]) (48,)\n",
      "torch.Size([3, 250, 250])\n",
      "torch.Size([3, 250, 250]) (48,)\n",
      "torch.Size([3, 250, 250])"
     ]
    },
    {
     "name": "stderr",
     "output_type": "stream",
     "text": [
      "Train Epoch 0:  44%|████████████████                     | 730/1678 [02:21<02:58,  5.31batch/s, train_loss=-1.19e+4]"
     ]
    },
    {
     "name": "stdout",
     "output_type": "stream",
     "text": [
      "\n",
      "torch.Size([3, 250, 250]) (48,)\n",
      "torch.Size([3, 250, 250])\n",
      "torch.Size([3, 250, 250]) (48,)\n",
      "torch.Size([3, 250, 250])"
     ]
    },
    {
     "name": "stderr",
     "output_type": "stream",
     "text": [
      "Train Epoch 0:  44%|████████████████                     | 731/1678 [02:21<02:58,  5.29batch/s, train_loss=-1.28e+4]"
     ]
    },
    {
     "name": "stdout",
     "output_type": "stream",
     "text": [
      "\n",
      "torch.Size([3, 250, 250]) (48,)\n",
      "torch.Size([3, 250, 250])\n",
      "torch.Size([3, 250, 250]) (48,)\n",
      "torch.Size([3, 250, 250])"
     ]
    },
    {
     "name": "stderr",
     "output_type": "stream",
     "text": [
      "Train Epoch 0:  44%|████████████████▏                    | 732/1678 [02:21<02:59,  5.27batch/s, train_loss=-1.09e+4]"
     ]
    },
    {
     "name": "stdout",
     "output_type": "stream",
     "text": [
      "\n",
      "torch.Size([3, 250, 250]) (48,)\n",
      "torch.Size([3, 250, 250])\n",
      "torch.Size([3, 250, 250]) (48,)\n",
      "torch.Size([3, 250, 250])"
     ]
    },
    {
     "name": "stderr",
     "output_type": "stream",
     "text": [
      "Train Epoch 0:  44%|████████████████▏                    | 733/1678 [02:22<03:00,  5.22batch/s, train_loss=-1.17e+4]"
     ]
    },
    {
     "name": "stdout",
     "output_type": "stream",
     "text": [
      "\n",
      "torch.Size([3, 250, 250]) (48,)\n",
      "torch.Size([3, 250, 250])\n",
      "torch.Size([3, 250, 250]) (48,)\n",
      "torch.Size([3, 250, 250])"
     ]
    },
    {
     "name": "stderr",
     "output_type": "stream",
     "text": [
      "Train Epoch 0:  44%|████████████████▏                    | 734/1678 [02:22<02:58,  5.28batch/s, train_loss=-1.34e+4]"
     ]
    },
    {
     "name": "stdout",
     "output_type": "stream",
     "text": [
      "\n",
      "torch.Size([3, 250, 250]) (48,)\n",
      "torch.Size([3, 250, 250])\n",
      "torch.Size([3, 250, 250]) (48,)\n",
      "torch.Size([3, 250, 250])"
     ]
    },
    {
     "name": "stderr",
     "output_type": "stream",
     "text": [
      "Train Epoch 0:  44%|████████████████▏                    | 735/1678 [02:22<02:59,  5.25batch/s, train_loss=-1.34e+4]"
     ]
    },
    {
     "name": "stdout",
     "output_type": "stream",
     "text": [
      "\n",
      "torch.Size([3, 250, 250]) (48,)\n",
      "torch.Size([3, 250, 250])\n",
      "torch.Size([3, 250, 250]) (48,)\n",
      "torch.Size([3, 250, 250])"
     ]
    },
    {
     "name": "stderr",
     "output_type": "stream",
     "text": [
      "Train Epoch 0:  44%|████████████████▏                    | 736/1678 [02:22<02:57,  5.31batch/s, train_loss=-1.14e+4]"
     ]
    },
    {
     "name": "stdout",
     "output_type": "stream",
     "text": [
      "\n",
      "torch.Size([3, 250, 250]) (48,)\n",
      "torch.Size([3, 250, 250])\n",
      "torch.Size([3, 250, 250]) (48,)\n",
      "torch.Size([3, 250, 250])"
     ]
    },
    {
     "name": "stderr",
     "output_type": "stream",
     "text": [
      "Train Epoch 0:  44%|████████████████▎                    | 737/1678 [02:22<02:56,  5.34batch/s, train_loss=-1.21e+4]"
     ]
    },
    {
     "name": "stdout",
     "output_type": "stream",
     "text": [
      "\n",
      "torch.Size([3, 250, 250]) (48,)\n",
      "torch.Size([3, 250, 250])\n",
      "torch.Size([3, 250, 250]) (48,)\n",
      "torch.Size([3, 250, 250])\n"
     ]
    },
    {
     "name": "stderr",
     "output_type": "stream",
     "text": [
      "Train Epoch 0:  44%|████████████████▎                    | 738/1678 [02:23<02:55,  5.37batch/s, train_loss=-1.38e+4]"
     ]
    },
    {
     "name": "stdout",
     "output_type": "stream",
     "text": [
      "torch.Size([3, 250, 250]) (48,)\n",
      "torch.Size([3, 250, 250])\n",
      "torch.Size([3, 250, 250]) (48,)\n",
      "torch.Size([3, 250, 250])\n",
      "torch.Size([3, 250, 250]) (48,)\n"
     ]
    },
    {
     "name": "stderr",
     "output_type": "stream",
     "text": [
      "Train Epoch 0:  44%|████████████████▎                    | 740/1678 [02:23<02:57,  5.27batch/s, train_loss=-1.32e+4]"
     ]
    },
    {
     "name": "stdout",
     "output_type": "stream",
     "text": [
      "torch.Size([3, 250, 250])\n",
      "torch.Size([3, 250, 250]) (48,)\n",
      "torch.Size([3, 250, 250])\n",
      "torch.Size([3, 250, 250]) (48,)\n",
      "torch.Size([3, 250, 250])"
     ]
    },
    {
     "name": "stderr",
     "output_type": "stream",
     "text": [
      "Train Epoch 0:  44%|████████████████▊                     | 741/1678 [02:23<02:56,  5.30batch/s, train_loss=-1.2e+4]"
     ]
    },
    {
     "name": "stdout",
     "output_type": "stream",
     "text": [
      "\n",
      "torch.Size([3, 250, 250]) (48,)\n",
      "torch.Size([3, 250, 250])\n",
      "torch.Size([3, 250, 250]) (48,)\n",
      "torch.Size([3, 250, 250])"
     ]
    },
    {
     "name": "stderr",
     "output_type": "stream",
     "text": [
      "Train Epoch 0:  44%|████████████████▊                     | 742/1678 [02:23<02:55,  5.33batch/s, train_loss=-1.3e+4]"
     ]
    },
    {
     "name": "stdout",
     "output_type": "stream",
     "text": [
      "\n",
      "torch.Size([3, 250, 250]) (48,)\n",
      "torch.Size([3, 250, 250])\n",
      "torch.Size([3, 250, 250]) (48,)\n",
      "torch.Size([3, 250, 250])"
     ]
    },
    {
     "name": "stderr",
     "output_type": "stream",
     "text": [
      "Train Epoch 0:  44%|████████████████▍                    | 743/1678 [02:23<02:55,  5.33batch/s, train_loss=-1.31e+4]"
     ]
    },
    {
     "name": "stdout",
     "output_type": "stream",
     "text": [
      "\n",
      "torch.Size([3, 250, 250]) (48,)\n",
      "torch.Size([3, 250, 250])\n",
      "torch.Size([3, 250, 250]) (48,)\n",
      "torch.Size([3, 250, 250])"
     ]
    },
    {
     "name": "stderr",
     "output_type": "stream",
     "text": [
      "Train Epoch 0:  44%|████████████████▍                    | 744/1678 [02:24<02:54,  5.34batch/s, train_loss=-1.31e+4]"
     ]
    },
    {
     "name": "stdout",
     "output_type": "stream",
     "text": [
      "\n",
      "torch.Size([3, 250, 250]) (48,)\n",
      "torch.Size([3, 250, 250])\n",
      "torch.Size([3, 250, 250]) (48,)\n",
      "torch.Size([3, 250, 250])"
     ]
    },
    {
     "name": "stderr",
     "output_type": "stream",
     "text": [
      "Train Epoch 0:  44%|████████████████▍                    | 745/1678 [02:24<02:54,  5.34batch/s, train_loss=-1.24e+4]"
     ]
    },
    {
     "name": "stdout",
     "output_type": "stream",
     "text": [
      "\n",
      "torch.Size([3, 250, 250]) (48,)\n",
      "torch.Size([3, 250, 250])\n",
      "torch.Size([3, 250, 250]) (48,)\n",
      "torch.Size([3, 250, 250])"
     ]
    },
    {
     "name": "stderr",
     "output_type": "stream",
     "text": [
      "Train Epoch 0:  44%|████████████████▍                    | 746/1678 [02:24<02:56,  5.27batch/s, train_loss=-1.27e+4]"
     ]
    },
    {
     "name": "stdout",
     "output_type": "stream",
     "text": [
      "\n",
      "torch.Size([3, 250, 250]) (48,)\n",
      "torch.Size([3, 250, 250])\n",
      "torch.Size([3, 250, 250]) (48,)\n",
      "torch.Size([3, 250, 250])"
     ]
    },
    {
     "name": "stderr",
     "output_type": "stream",
     "text": [
      "Train Epoch 0:  45%|████████████████▍                    | 747/1678 [02:24<02:55,  5.30batch/s, train_loss=-1.36e+4]"
     ]
    },
    {
     "name": "stdout",
     "output_type": "stream",
     "text": [
      "\n",
      "torch.Size([3, 250, 250]) (48,)\n",
      "torch.Size([3, 250, 250])\n",
      "torch.Size([3, 250, 250]) (48,)\n",
      "torch.Size([3, 250, 250])"
     ]
    },
    {
     "name": "stderr",
     "output_type": "stream",
     "text": [
      "Train Epoch 0:  45%|████████████████▍                    | 748/1678 [02:24<03:01,  5.14batch/s, train_loss=-1.35e+4]"
     ]
    },
    {
     "name": "stdout",
     "output_type": "stream",
     "text": [
      "\n",
      "torch.Size([3, 250, 250]) (48,)\n",
      "torch.Size([3, 250, 250])\n",
      "torch.Size([3, 250, 250]) (48,)\n",
      "torch.Size([3, 250, 250])"
     ]
    },
    {
     "name": "stderr",
     "output_type": "stream",
     "text": [
      "Train Epoch 0:  45%|████████████████▌                    | 749/1678 [02:25<02:59,  5.18batch/s, train_loss=-1.11e+4]"
     ]
    },
    {
     "name": "stdout",
     "output_type": "stream",
     "text": [
      "\n",
      "torch.Size([3, 250, 250]) (48,)\n",
      "torch.Size([3, 250, 250])\n",
      "torch.Size([3, 250, 250]) (48,)\n",
      "torch.Size([3, 250, 250])"
     ]
    },
    {
     "name": "stderr",
     "output_type": "stream",
     "text": [
      "Train Epoch 0:  45%|████████████████▌                    | 750/1678 [02:25<02:58,  5.21batch/s, train_loss=-1.35e+4]"
     ]
    },
    {
     "name": "stdout",
     "output_type": "stream",
     "text": [
      "\n",
      "torch.Size([3, 250, 250]) (48,)\n",
      "torch.Size([3, 250, 250])\n",
      "torch.Size([3, 250, 250]) (48,)\n"
     ]
    },
    {
     "name": "stderr",
     "output_type": "stream",
     "text": [
      "Train Epoch 0:  45%|████████████████▌                    | 751/1678 [02:25<03:00,  5.15batch/s, train_loss=-1.21e+4]"
     ]
    },
    {
     "name": "stdout",
     "output_type": "stream",
     "text": [
      "torch.Size([3, 250, 250])\n",
      "torch.Size([3, 250, 250]) (48,)\n",
      "torch.Size([3, 250, 250])\n",
      "torch.Size([3, 250, 250]) (48,)\n",
      "torch.Size([3, 250, 250])\n",
      "torch.Size([3, 250, 250]) (48,)\n"
     ]
    },
    {
     "name": "stderr",
     "output_type": "stream",
     "text": [
      "Train Epoch 0:  45%|████████████████▌                    | 752/1678 [02:25<02:58,  5.18batch/s, train_loss=-1.37e+4]"
     ]
    },
    {
     "name": "stdout",
     "output_type": "stream",
     "text": [
      "torch.Size([3, 250, 250])\n",
      "torch.Size([3, 250, 250]) (48,)\n",
      "torch.Size([3, 250, 250])\n",
      "torch.Size([3, 250, 250]) (48,)\n",
      "torch.Size([3, 250, 250])"
     ]
    },
    {
     "name": "stderr",
     "output_type": "stream",
     "text": [
      "Train Epoch 0:  45%|████████████████▌                    | 753/1678 [02:25<02:56,  5.24batch/s, train_loss=-1.39e+4]"
     ]
    },
    {
     "name": "stdout",
     "output_type": "stream",
     "text": [
      "\n",
      "torch.Size([3, 250, 250]) (48,)\n",
      "torch.Size([3, 250, 250])\n",
      "torch.Size([3, 250, 250]) (48,)\n",
      "torch.Size([3, 250, 250])\n",
      "torch.Size([3, 250, 250]) (48,)\n"
     ]
    },
    {
     "name": "stderr",
     "output_type": "stream",
     "text": [
      "Train Epoch 0:  45%|████████████████▋                    | 755/1678 [02:26<02:53,  5.32batch/s, train_loss=-1.47e+4]"
     ]
    },
    {
     "name": "stdout",
     "output_type": "stream",
     "text": [
      "torch.Size([3, 250, 250])\n",
      "torch.Size([3, 250, 250]) (48,)\n",
      "torch.Size([3, 250, 250])\n",
      "torch.Size([3, 250, 250]) (48,)\n",
      "torch.Size([3, 250, 250])"
     ]
    },
    {
     "name": "stderr",
     "output_type": "stream",
     "text": [
      "Train Epoch 0:  45%|████████████████▋                    | 756/1678 [02:26<02:56,  5.23batch/s, train_loss=-1.26e+4]"
     ]
    },
    {
     "name": "stdout",
     "output_type": "stream",
     "text": [
      "\n",
      "torch.Size([3, 250, 250]) (48,)\n",
      "torch.Size([3, 250, 250])\n",
      "torch.Size([3, 250, 250]) (48,)\n",
      "torch.Size([3, 250, 250])"
     ]
    },
    {
     "name": "stderr",
     "output_type": "stream",
     "text": [
      "Train Epoch 0:  45%|████████████████▋                    | 757/1678 [02:26<02:54,  5.28batch/s, train_loss=-1.28e+4]"
     ]
    },
    {
     "name": "stdout",
     "output_type": "stream",
     "text": [
      "\n",
      "torch.Size([3, 250, 250]) (48,)\n",
      "torch.Size([3, 250, 250])\n",
      "torch.Size([3, 250, 250]) (48,)\n",
      "torch.Size([3, 250, 250])"
     ]
    },
    {
     "name": "stderr",
     "output_type": "stream",
     "text": [
      "Train Epoch 0:  45%|████████████████▋                    | 758/1678 [02:26<02:54,  5.29batch/s, train_loss=-1.37e+4]"
     ]
    },
    {
     "name": "stdout",
     "output_type": "stream",
     "text": [
      "\n",
      "torch.Size([3, 250, 250]) (48,)\n",
      "torch.Size([3, 250, 250])\n",
      "torch.Size([3, 250, 250]) (48,)\n"
     ]
    },
    {
     "name": "stderr",
     "output_type": "stream",
     "text": [
      "Train Epoch 0:  45%|█████████████████▏                    | 759/1678 [02:27<02:57,  5.18batch/s, train_loss=-1.4e+4]"
     ]
    },
    {
     "name": "stdout",
     "output_type": "stream",
     "text": [
      "torch.Size([3, 250, 250])\n",
      "torch.Size([3, 250, 250]) (48,)\n",
      "torch.Size([3, 250, 250])\n",
      "torch.Size([3, 250, 250]) (48,)\n",
      "torch.Size([3, 250, 250])"
     ]
    },
    {
     "name": "stderr",
     "output_type": "stream",
     "text": [
      "Train Epoch 0:  45%|████████████████▊                    | 760/1678 [02:27<02:56,  5.19batch/s, train_loss=-1.27e+4]"
     ]
    },
    {
     "name": "stdout",
     "output_type": "stream",
     "text": [
      "\n",
      "torch.Size([3, 250, 250]) (48,)\n",
      "torch.Size([3, 250, 250])\n",
      "torch.Size([3, 250, 250]) (48,)\n",
      "torch.Size([3, 250, 250])"
     ]
    },
    {
     "name": "stderr",
     "output_type": "stream",
     "text": [
      "Train Epoch 0:  45%|████████████████▊                    | 761/1678 [02:27<02:54,  5.26batch/s, train_loss=-1.38e+4]"
     ]
    },
    {
     "name": "stdout",
     "output_type": "stream",
     "text": [
      "\n",
      "torch.Size([3, 250, 250]) (48,)\n",
      "torch.Size([3, 250, 250])\n",
      "torch.Size([3, 250, 250]) (48,)\n",
      "torch.Size([3, 250, 250])\n",
      "torch.Size([3, 250, 250]) (48,)\n"
     ]
    },
    {
     "name": "stderr",
     "output_type": "stream",
     "text": [
      "Train Epoch 0:  45%|████████████████▊                    | 762/1678 [02:27<02:55,  5.21batch/s, train_loss=-1.27e+4]"
     ]
    },
    {
     "name": "stdout",
     "output_type": "stream",
     "text": [
      "torch.Size([3, 250, 250])\n",
      "torch.Size([3, 250, 250]) (48,)\n",
      "torch.Size([3, 250, 250])\n",
      "torch.Size([3, 250, 250]) (48,)\n",
      "torch.Size([3, 250, 250])\n",
      "torch.Size([3, 250, 250]) (48,)\n"
     ]
    },
    {
     "name": "stderr",
     "output_type": "stream",
     "text": [
      "Train Epoch 0:  46%|█████████████████▎                    | 764/1678 [02:27<02:51,  5.32batch/s, train_loss=-1.4e+4]"
     ]
    },
    {
     "name": "stdout",
     "output_type": "stream",
     "text": [
      "torch.Size([3, 250, 250])\n",
      "torch.Size([3, 250, 250]) (48,)\n",
      "torch.Size([3, 250, 250])\n",
      "torch.Size([3, 250, 250]) (48,)\n",
      "torch.Size([3, 250, 250])"
     ]
    },
    {
     "name": "stderr",
     "output_type": "stream",
     "text": [
      "Train Epoch 0:  46%|████████████████▊                    | 765/1678 [02:28<02:53,  5.26batch/s, train_loss=-1.08e+4]"
     ]
    },
    {
     "name": "stdout",
     "output_type": "stream",
     "text": [
      "\n",
      "torch.Size([3, 250, 250]) (48,)\n",
      "torch.Size([3, 250, 250])\n",
      "torch.Size([3, 250, 250]) (48,)\n",
      "torch.Size([3, 250, 250])"
     ]
    },
    {
     "name": "stderr",
     "output_type": "stream",
     "text": [
      "Train Epoch 0:  46%|████████████████▉                    | 766/1678 [02:28<02:54,  5.21batch/s, train_loss=-1.35e+4]"
     ]
    },
    {
     "name": "stdout",
     "output_type": "stream",
     "text": [
      "\n",
      "torch.Size([3, 250, 250]) (48,)\n",
      "torch.Size([3, 250, 250])\n",
      "torch.Size([3, 250, 250]) (48,)\n",
      "torch.Size([3, 250, 250])"
     ]
    },
    {
     "name": "stderr",
     "output_type": "stream",
     "text": [
      "Train Epoch 0:  46%|████████████████▉                    | 767/1678 [02:28<02:52,  5.27batch/s, train_loss=-1.33e+4]"
     ]
    },
    {
     "name": "stdout",
     "output_type": "stream",
     "text": [
      "\n",
      "torch.Size([3, 250, 250]) (48,)\n",
      "torch.Size([3, 250, 250])\n",
      "torch.Size([3, 250, 250]) (48,)\n",
      "torch.Size([3, 250, 250])\n",
      "torch.Size([3, 250, 250]) (48,)\n"
     ]
    },
    {
     "name": "stderr",
     "output_type": "stream",
     "text": [
      "Train Epoch 0:  46%|████████████████▉                    | 768/1678 [02:28<02:51,  5.32batch/s, train_loss=-1.25e+4]"
     ]
    },
    {
     "name": "stdout",
     "output_type": "stream",
     "text": [
      "torch.Size([3, 250, 250])\n",
      "torch.Size([3, 250, 250]) (48,)\n",
      "torch.Size([3, 250, 250])\n",
      "torch.Size([3, 250, 250]) (48,)\n",
      "torch.Size([3, 250, 250])"
     ]
    },
    {
     "name": "stderr",
     "output_type": "stream",
     "text": [
      "Train Epoch 0:  46%|████████████████▉                    | 769/1678 [02:28<02:50,  5.34batch/s, train_loss=-1.26e+4]"
     ]
    },
    {
     "name": "stdout",
     "output_type": "stream",
     "text": [
      "\n",
      "torch.Size([3, 250, 250]) (48,)\n",
      "torch.Size([3, 250, 250])\n",
      "torch.Size([3, 250, 250]) (48,)\n",
      "torch.Size([3, 250, 250])"
     ]
    },
    {
     "name": "stderr",
     "output_type": "stream",
     "text": [
      "Train Epoch 0:  46%|█████████████████▍                    | 770/1678 [02:29<02:51,  5.29batch/s, train_loss=-1.4e+4]"
     ]
    },
    {
     "name": "stdout",
     "output_type": "stream",
     "text": [
      "\n",
      "torch.Size([3, 250, 250]) (48,)\n",
      "torch.Size([3, 250, 250])\n",
      "torch.Size([3, 250, 250]) (48,)\n",
      "torch.Size([3, 250, 250])"
     ]
    },
    {
     "name": "stderr",
     "output_type": "stream",
     "text": [
      "Train Epoch 0:  46%|█████████████████▍                    | 771/1678 [02:29<02:52,  5.27batch/s, train_loss=-1.3e+4]"
     ]
    },
    {
     "name": "stdout",
     "output_type": "stream",
     "text": [
      "\n",
      "torch.Size([3, 250, 250]) (48,)\n",
      "torch.Size([3, 250, 250])\n",
      "torch.Size([3, 250, 250]) (48,)\n",
      "torch.Size([3, 250, 250])"
     ]
    },
    {
     "name": "stderr",
     "output_type": "stream",
     "text": [
      "Train Epoch 0:  46%|█████████████████                    | 772/1678 [02:29<02:50,  5.31batch/s, train_loss=-1.26e+4]"
     ]
    },
    {
     "name": "stdout",
     "output_type": "stream",
     "text": [
      "\n",
      "torch.Size([3, 250, 250]) (48,)\n",
      "torch.Size([3, 250, 250])\n",
      "torch.Size([3, 250, 250]) (48,)\n",
      "torch.Size([3, 250, 250])"
     ]
    },
    {
     "name": "stderr",
     "output_type": "stream",
     "text": [
      "Train Epoch 0:  46%|█████████████████▌                    | 773/1678 [02:29<02:49,  5.35batch/s, train_loss=-1.3e+4]"
     ]
    },
    {
     "name": "stdout",
     "output_type": "stream",
     "text": [
      "\n",
      "torch.Size([3, 250, 250]) (48,)\n",
      "torch.Size([3, 250, 250])\n",
      "torch.Size([3, 250, 250]) (48,)\n",
      "torch.Size([3, 250, 250])"
     ]
    },
    {
     "name": "stderr",
     "output_type": "stream",
     "text": [
      "Train Epoch 0:  46%|█████████████████                    | 774/1678 [02:29<02:50,  5.30batch/s, train_loss=-1.34e+4]"
     ]
    },
    {
     "name": "stdout",
     "output_type": "stream",
     "text": [
      "\n",
      "torch.Size([3, 250, 250]) (48,)\n",
      "torch.Size([3, 250, 250])\n",
      "torch.Size([3, 250, 250]) (48,)\n",
      "torch.Size([3, 250, 250])"
     ]
    },
    {
     "name": "stderr",
     "output_type": "stream",
     "text": [
      "Train Epoch 0:  46%|█████████████████                    | 775/1678 [02:30<02:49,  5.32batch/s, train_loss=-1.34e+4]"
     ]
    },
    {
     "name": "stdout",
     "output_type": "stream",
     "text": [
      "\n",
      "torch.Size([3, 250, 250]) (48,)\n",
      "torch.Size([3, 250, 250])\n",
      "torch.Size([3, 250, 250]) (48,)\n",
      "torch.Size([3, 250, 250])"
     ]
    },
    {
     "name": "stderr",
     "output_type": "stream",
     "text": [
      "Train Epoch 0:  46%|█████████████████                    | 776/1678 [02:30<02:49,  5.33batch/s, train_loss=-1.21e+4]"
     ]
    },
    {
     "name": "stdout",
     "output_type": "stream",
     "text": [
      "\n",
      "torch.Size([3, 250, 250]) (48,)\n",
      "torch.Size([3, 250, 250])\n",
      "torch.Size([3, 250, 250]) (48,)\n",
      "torch.Size([3, 250, 250])"
     ]
    },
    {
     "name": "stderr",
     "output_type": "stream",
     "text": [
      "Train Epoch 0:  46%|█████████████████▏                   | 777/1678 [02:30<02:49,  5.33batch/s, train_loss=-1.22e+4]"
     ]
    },
    {
     "name": "stdout",
     "output_type": "stream",
     "text": [
      "\n",
      "torch.Size([3, 250, 250]) (48,)\n",
      "torch.Size([3, 250, 250])\n",
      "torch.Size([3, 250, 250]) (48,)\n",
      "torch.Size([3, 250, 250])"
     ]
    },
    {
     "name": "stderr",
     "output_type": "stream",
     "text": [
      "Train Epoch 0:  46%|█████████████████▏                   | 778/1678 [02:30<02:51,  5.25batch/s, train_loss=-1.27e+4]"
     ]
    },
    {
     "name": "stdout",
     "output_type": "stream",
     "text": [
      "\n",
      "torch.Size([3, 250, 250]) (48,)\n",
      "torch.Size([3, 250, 250])\n",
      "torch.Size([3, 250, 250]) (48,)\n",
      "torch.Size([3, 250, 250])"
     ]
    },
    {
     "name": "stderr",
     "output_type": "stream",
     "text": [
      "Train Epoch 0:  46%|█████████████████▋                    | 779/1678 [02:30<02:53,  5.18batch/s, train_loss=-1.3e+4]"
     ]
    },
    {
     "name": "stdout",
     "output_type": "stream",
     "text": [
      "\n",
      "torch.Size([3, 250, 250]) (48,)\n",
      "torch.Size([3, 250, 250])\n",
      "torch.Size([3, 250, 250]) (48,)\n",
      "torch.Size([3, 250, 250])"
     ]
    },
    {
     "name": "stderr",
     "output_type": "stream",
     "text": [
      "Train Epoch 0:  46%|█████████████████▏                   | 780/1678 [02:31<02:52,  5.21batch/s, train_loss=-1.27e+4]"
     ]
    },
    {
     "name": "stdout",
     "output_type": "stream",
     "text": [
      "\n",
      "torch.Size([3, 250, 250]) (48,)\n",
      "torch.Size([3, 250, 250])\n",
      "torch.Size([3, 250, 250]) (48,)\n",
      "torch.Size([3, 250, 250])"
     ]
    },
    {
     "name": "stderr",
     "output_type": "stream",
     "text": [
      "Train Epoch 0:  47%|█████████████████▏                   | 781/1678 [02:31<02:51,  5.23batch/s, train_loss=-1.29e+4]"
     ]
    },
    {
     "name": "stdout",
     "output_type": "stream",
     "text": [
      "\n",
      "torch.Size([3, 250, 250]) (48,)\n",
      "torch.Size([3, 250, 250])\n",
      "torch.Size([3, 250, 250]) (48,)\n",
      "torch.Size([3, 250, 250])"
     ]
    },
    {
     "name": "stderr",
     "output_type": "stream",
     "text": [
      "Train Epoch 0:  47%|█████████████████▏                   | 782/1678 [02:31<02:50,  5.25batch/s, train_loss=-1.25e+4]"
     ]
    },
    {
     "name": "stdout",
     "output_type": "stream",
     "text": [
      "\n",
      "torch.Size([3, 250, 250]) (48,)\n",
      "torch.Size([3, 250, 250])\n",
      "torch.Size([3, 250, 250]) (48,)\n",
      "torch.Size([3, 250, 250])"
     ]
    },
    {
     "name": "stderr",
     "output_type": "stream",
     "text": [
      "Train Epoch 0:  47%|█████████████████▎                   | 783/1678 [02:31<02:50,  5.24batch/s, train_loss=-1.27e+4]"
     ]
    },
    {
     "name": "stdout",
     "output_type": "stream",
     "text": [
      "\n",
      "torch.Size([3, 250, 250]) (48,)\n",
      "torch.Size([3, 250, 250])\n",
      "torch.Size([3, 250, 250]) (48,)\n",
      "torch.Size([3, 250, 250])"
     ]
    },
    {
     "name": "stderr",
     "output_type": "stream",
     "text": [
      "Train Epoch 0:  47%|█████████████████▊                    | 784/1678 [02:31<02:48,  5.30batch/s, train_loss=-1.3e+4]"
     ]
    },
    {
     "name": "stdout",
     "output_type": "stream",
     "text": [
      "\n",
      "torch.Size([3, 250, 250]) (48,)\n",
      "torch.Size([3, 250, 250])\n",
      "torch.Size([3, 250, 250]) (48,)\n",
      "torch.Size([3, 250, 250])"
     ]
    },
    {
     "name": "stderr",
     "output_type": "stream",
     "text": [
      "Train Epoch 0:  47%|█████████████████▎                   | 785/1678 [02:32<02:47,  5.32batch/s, train_loss=-1.22e+4]"
     ]
    },
    {
     "name": "stdout",
     "output_type": "stream",
     "text": [
      "\n",
      "torch.Size([3, 250, 250]) (48,)\n",
      "torch.Size([3, 250, 250])\n",
      "torch.Size([3, 250, 250]) (48,)\n",
      "torch.Size([3, 250, 250])\n",
      "torch.Size([3, 250, 250]) (48,)\n"
     ]
    },
    {
     "name": "stderr",
     "output_type": "stream",
     "text": [
      "Train Epoch 0:  47%|█████████████████▎                   | 787/1678 [02:32<02:46,  5.34batch/s, train_loss=-1.35e+4]"
     ]
    },
    {
     "name": "stdout",
     "output_type": "stream",
     "text": [
      "torch.Size([3, 250, 250])\n",
      "torch.Size([3, 250, 250]) (48,)\n",
      "torch.Size([3, 250, 250])\n",
      "torch.Size([3, 250, 250]) (48,)\n",
      "torch.Size([3, 250, 250])"
     ]
    },
    {
     "name": "stderr",
     "output_type": "stream",
     "text": [
      "Train Epoch 0:  47%|█████████████████▍                   | 788/1678 [02:32<02:46,  5.36batch/s, train_loss=-1.44e+4]"
     ]
    },
    {
     "name": "stdout",
     "output_type": "stream",
     "text": [
      "\n",
      "torch.Size([3, 250, 250]) (48,)\n",
      "torch.Size([3, 250, 250])\n",
      "torch.Size([3, 250, 250]) (48,)\n",
      "torch.Size([3, 250, 250])"
     ]
    },
    {
     "name": "stderr",
     "output_type": "stream",
     "text": [
      "Train Epoch 0:  47%|█████████████████▍                   | 789/1678 [02:32<02:45,  5.37batch/s, train_loss=-1.19e+4]"
     ]
    },
    {
     "name": "stdout",
     "output_type": "stream",
     "text": [
      "\n",
      "torch.Size([3, 250, 250]) (48,)\n",
      "torch.Size([3, 250, 250])\n",
      "torch.Size([3, 250, 250]) (48,)\n",
      "torch.Size([3, 250, 250])"
     ]
    },
    {
     "name": "stderr",
     "output_type": "stream",
     "text": [
      "Train Epoch 0:  47%|█████████████████▍                   | 790/1678 [02:32<02:45,  5.37batch/s, train_loss=-1.24e+4]"
     ]
    },
    {
     "name": "stdout",
     "output_type": "stream",
     "text": [
      "\n",
      "torch.Size([3, 250, 250]) (48,)\n",
      "torch.Size([3, 250, 250])\n",
      "torch.Size([3, 250, 250]) (48,)\n",
      "torch.Size([3, 250, 250])"
     ]
    },
    {
     "name": "stderr",
     "output_type": "stream",
     "text": [
      "Train Epoch 0:  47%|█████████████████▍                   | 791/1678 [02:33<02:50,  5.21batch/s, train_loss=-1.24e+4]"
     ]
    },
    {
     "name": "stdout",
     "output_type": "stream",
     "text": [
      "\n",
      "torch.Size([3, 250, 250]) (48,)\n",
      "torch.Size([3, 250, 250])\n",
      "torch.Size([3, 250, 250]) (48,)\n"
     ]
    },
    {
     "name": "stderr",
     "output_type": "stream",
     "text": [
      "Train Epoch 0:  47%|█████████████████▍                   | 792/1678 [02:33<02:51,  5.18batch/s, train_loss=-1.23e+4]"
     ]
    },
    {
     "name": "stdout",
     "output_type": "stream",
     "text": [
      "torch.Size([3, 250, 250])\n",
      "torch.Size([3, 250, 250]) (48,)\n",
      "torch.Size([3, 250, 250])\n",
      "torch.Size([3, 250, 250]) (48,)\n"
     ]
    },
    {
     "name": "stderr",
     "output_type": "stream",
     "text": [
      "Train Epoch 0:  47%|█████████████████▍                   | 793/1678 [02:33<02:53,  5.09batch/s, train_loss=-1.15e+4]"
     ]
    },
    {
     "name": "stdout",
     "output_type": "stream",
     "text": [
      "torch.Size([3, 250, 250])\n",
      "torch.Size([3, 250, 250]) (48,)\n",
      "torch.Size([3, 250, 250])\n",
      "torch.Size([3, 250, 250]) (48,)\n",
      "torch.Size([3, 250, 250])"
     ]
    },
    {
     "name": "stderr",
     "output_type": "stream",
     "text": [
      "Train Epoch 0:  47%|█████████████████▌                   | 794/1678 [02:33<02:50,  5.19batch/s, train_loss=-1.26e+4]"
     ]
    },
    {
     "name": "stdout",
     "output_type": "stream",
     "text": [
      "\n",
      "torch.Size([3, 250, 250]) (48,)\n",
      "torch.Size([3, 250, 250])\n",
      "torch.Size([3, 250, 250]) (48,)\n",
      "torch.Size([3, 250, 250])"
     ]
    },
    {
     "name": "stderr",
     "output_type": "stream",
     "text": [
      "Train Epoch 0:  47%|█████████████████▌                   | 795/1678 [02:33<02:49,  5.20batch/s, train_loss=-1.26e+4]"
     ]
    },
    {
     "name": "stdout",
     "output_type": "stream",
     "text": [
      "\n",
      "torch.Size([3, 250, 250]) (48,)\n",
      "torch.Size([3, 250, 250])\n",
      "torch.Size([3, 250, 250]) (48,)\n"
     ]
    },
    {
     "name": "stderr",
     "output_type": "stream",
     "text": [
      "Train Epoch 0:  47%|█████████████████▌                   | 796/1678 [02:34<02:51,  5.14batch/s, train_loss=-1.32e+4]"
     ]
    },
    {
     "name": "stdout",
     "output_type": "stream",
     "text": [
      "torch.Size([3, 250, 250])\n",
      "torch.Size([3, 250, 250]) (48,)\n",
      "torch.Size([3, 250, 250])\n",
      "torch.Size([3, 250, 250]) (48,)\n",
      "torch.Size([3, 250, 250])"
     ]
    },
    {
     "name": "stderr",
     "output_type": "stream",
     "text": [
      "Train Epoch 0:  47%|█████████████████▌                   | 797/1678 [02:34<02:48,  5.21batch/s, train_loss=-1.23e+4]"
     ]
    },
    {
     "name": "stdout",
     "output_type": "stream",
     "text": [
      "\n",
      "torch.Size([3, 250, 250]) (48,)\n",
      "torch.Size([3, 250, 250])\n",
      "torch.Size([3, 250, 250]) (48,)\n",
      "torch.Size([3, 250, 250])"
     ]
    },
    {
     "name": "stderr",
     "output_type": "stream",
     "text": [
      "Train Epoch 0:  48%|█████████████████▌                   | 798/1678 [02:34<02:46,  5.29batch/s, train_loss=-1.27e+4]"
     ]
    },
    {
     "name": "stdout",
     "output_type": "stream",
     "text": [
      "\n",
      "torch.Size([3, 250, 250]) (48,)\n",
      "torch.Size([3, 250, 250])\n",
      "torch.Size([3, 250, 250]) (48,)\n",
      "torch.Size([3, 250, 250])"
     ]
    },
    {
     "name": "stderr",
     "output_type": "stream",
     "text": [
      "Train Epoch 0:  48%|█████████████████▌                   | 799/1678 [02:34<02:51,  5.12batch/s, train_loss=-1.23e+4]"
     ]
    },
    {
     "name": "stdout",
     "output_type": "stream",
     "text": [
      "\n",
      "torch.Size([3, 250, 250]) (48,)\n",
      "torch.Size([3, 250, 250])\n",
      "torch.Size([3, 250, 250]) (48,)\n",
      "torch.Size([3, 250, 250])\n"
     ]
    },
    {
     "name": "stderr",
     "output_type": "stream",
     "text": [
      "Train Epoch 0:  48%|██████████████████                    | 800/1678 [02:34<02:49,  5.19batch/s, train_loss=-1.2e+4]"
     ]
    },
    {
     "name": "stdout",
     "output_type": "stream",
     "text": [
      "torch.Size([3, 250, 250]) (48,)\n",
      "torch.Size([3, 250, 250])\n",
      "torch.Size([3, 250, 250]) (48,)\n",
      "torch.Size([3, 250, 250])"
     ]
    },
    {
     "name": "stderr",
     "output_type": "stream",
     "text": [
      "\r",
      "Train Epoch 0:  48%|██████████████████                    | 800/1678 [02:34<02:49,  5.19batch/s, train_loss=-1.2e+4]"
     ]
    },
    {
     "name": "stdout",
     "output_type": "stream",
     "text": [
      "\n",
      "torch.Size([3, 250, 250]) (48,)\n",
      "torch.Size([3, 250, 250])\n",
      "torch.Size([3, 250, 250]) (48,)\n"
     ]
    },
    {
     "name": "stderr",
     "output_type": "stream",
     "text": [
      "Train Epoch 0:  48%|██████████████████▏                   | 802/1678 [02:35<02:49,  5.16batch/s, train_loss=-1.3e+4]"
     ]
    },
    {
     "name": "stdout",
     "output_type": "stream",
     "text": [
      "torch.Size([3, 250, 250])\n",
      "torch.Size([3, 250, 250]) (48,)\n",
      "torch.Size([3, 250, 250])\n",
      "torch.Size([3, 250, 250]) (48,)\n",
      "torch.Size([3, 250, 250])"
     ]
    },
    {
     "name": "stderr",
     "output_type": "stream",
     "text": [
      "Train Epoch 0:  48%|█████████████████▋                   | 803/1678 [02:35<02:47,  5.24batch/s, train_loss=-1.17e+4]"
     ]
    },
    {
     "name": "stdout",
     "output_type": "stream",
     "text": [
      "\n",
      "torch.Size([3, 250, 250]) (48,)\n",
      "torch.Size([3, 250, 250])\n",
      "torch.Size([3, 250, 250]) (48,)\n",
      "torch.Size([3, 250, 250])"
     ]
    },
    {
     "name": "stderr",
     "output_type": "stream",
     "text": [
      "Train Epoch 0:  48%|█████████████████▋                   | 804/1678 [02:35<02:50,  5.13batch/s, train_loss=-1.21e+4]"
     ]
    },
    {
     "name": "stdout",
     "output_type": "stream",
     "text": [
      "\n",
      "torch.Size([3, 250, 250]) (48,)\n",
      "torch.Size([3, 250, 250])\n",
      "torch.Size([3, 250, 250]) (48,)\n",
      "torch.Size([3, 250, 250])"
     ]
    },
    {
     "name": "stderr",
     "output_type": "stream",
     "text": [
      "Train Epoch 0:  48%|██████████████████▏                   | 805/1678 [02:35<02:52,  5.06batch/s, train_loss=-1.3e+4]"
     ]
    },
    {
     "name": "stdout",
     "output_type": "stream",
     "text": [
      "\n",
      "torch.Size([3, 250, 250]) (48,)\n",
      "torch.Size([3, 250, 250])\n",
      "torch.Size([3, 250, 250]) (48,)\n",
      "torch.Size([3, 250, 250])"
     ]
    },
    {
     "name": "stderr",
     "output_type": "stream",
     "text": [
      "Train Epoch 0:  48%|█████████████████▊                   | 806/1678 [02:36<02:52,  5.06batch/s, train_loss=-1.28e+4]"
     ]
    },
    {
     "name": "stdout",
     "output_type": "stream",
     "text": [
      "\n",
      "torch.Size([3, 250, 250]) (48,)\n",
      "torch.Size([3, 250, 250])\n",
      "torch.Size([3, 250, 250]) (48,)\n",
      "torch.Size([3, 250, 250])"
     ]
    },
    {
     "name": "stderr",
     "output_type": "stream",
     "text": [
      "Train Epoch 0:  48%|█████████████████▊                   | 807/1678 [02:36<02:49,  5.13batch/s, train_loss=-1.32e+4]"
     ]
    },
    {
     "name": "stdout",
     "output_type": "stream",
     "text": [
      "\n",
      "torch.Size([3, 250, 250]) (48,)\n",
      "torch.Size([3, 250, 250])\n",
      "torch.Size([3, 250, 250]) (48,)\n",
      "torch.Size([3, 250, 250])"
     ]
    },
    {
     "name": "stderr",
     "output_type": "stream",
     "text": [
      "Train Epoch 0:  48%|█████████████████▊                   | 808/1678 [02:36<02:47,  5.20batch/s, train_loss=-1.26e+4]"
     ]
    },
    {
     "name": "stdout",
     "output_type": "stream",
     "text": [
      "\n",
      "torch.Size([3, 250, 250]) (48,)\n",
      "torch.Size([3, 250, 250])\n",
      "torch.Size([3, 250, 250]) (48,)\n",
      "torch.Size([3, 250, 250])"
     ]
    },
    {
     "name": "stderr",
     "output_type": "stream",
     "text": [
      "Train Epoch 0:  48%|█████████████████▊                   | 809/1678 [02:36<02:46,  5.21batch/s, train_loss=-1.27e+4]"
     ]
    },
    {
     "name": "stdout",
     "output_type": "stream",
     "text": [
      "\n",
      "torch.Size([3, 250, 250]) (48,)\n",
      "torch.Size([3, 250, 250])\n",
      "torch.Size([3, 250, 250]) (48,)\n",
      "torch.Size([3, 250, 250])"
     ]
    },
    {
     "name": "stderr",
     "output_type": "stream",
     "text": [
      "Train Epoch 0:  48%|█████████████████▊                   | 810/1678 [02:36<02:46,  5.23batch/s, train_loss=-1.22e+4]"
     ]
    },
    {
     "name": "stdout",
     "output_type": "stream",
     "text": [
      "\n",
      "torch.Size([3, 250, 250]) (48,)\n",
      "torch.Size([3, 250, 250])\n",
      "torch.Size([3, 250, 250]) (48,)\n",
      "torch.Size([3, 250, 250])"
     ]
    },
    {
     "name": "stderr",
     "output_type": "stream",
     "text": [
      "Train Epoch 0:  48%|█████████████████▉                   | 811/1678 [02:36<02:47,  5.16batch/s, train_loss=-1.34e+4]"
     ]
    },
    {
     "name": "stdout",
     "output_type": "stream",
     "text": [
      "\n",
      "torch.Size([3, 250, 250]) (48,)\n",
      "torch.Size([3, 250, 250])\n",
      "torch.Size([3, 250, 250]) (48,)\n",
      "torch.Size([3, 250, 250])"
     ]
    },
    {
     "name": "stderr",
     "output_type": "stream",
     "text": [
      "Train Epoch 0:  48%|█████████████████▉                   | 812/1678 [02:37<02:46,  5.21batch/s, train_loss=-1.15e+4]"
     ]
    },
    {
     "name": "stdout",
     "output_type": "stream",
     "text": [
      "\n",
      "torch.Size([3, 250, 250]) (48,)\n",
      "torch.Size([3, 250, 250])\n",
      "torch.Size([3, 250, 250]) (48,)\n",
      "torch.Size([3, 250, 250])"
     ]
    },
    {
     "name": "stderr",
     "output_type": "stream",
     "text": [
      "Train Epoch 0:  48%|█████████████████▉                   | 813/1678 [02:37<02:45,  5.22batch/s, train_loss=-1.28e+4]"
     ]
    },
    {
     "name": "stdout",
     "output_type": "stream",
     "text": [
      "\n",
      "torch.Size([3, 250, 250]) (48,)\n",
      "torch.Size([3, 250, 250])\n",
      "torch.Size([3, 250, 250]) (48,)\n",
      "torch.Size([3, 250, 250])"
     ]
    },
    {
     "name": "stderr",
     "output_type": "stream",
     "text": [
      "Train Epoch 0:  49%|█████████████████▉                   | 814/1678 [02:37<02:45,  5.22batch/s, train_loss=-1.18e+4]"
     ]
    },
    {
     "name": "stdout",
     "output_type": "stream",
     "text": [
      "\n",
      "torch.Size([3, 250, 250]) (48,)\n",
      "torch.Size([3, 250, 250])\n",
      "torch.Size([3, 250, 250]) (48,)\n",
      "torch.Size([3, 250, 250])"
     ]
    },
    {
     "name": "stderr",
     "output_type": "stream",
     "text": [
      "Train Epoch 0:  49%|█████████████████▉                   | 815/1678 [02:37<02:45,  5.23batch/s, train_loss=-1.29e+4]"
     ]
    },
    {
     "name": "stdout",
     "output_type": "stream",
     "text": [
      "\n",
      "torch.Size([3, 250, 250]) (48,)\n",
      "torch.Size([3, 250, 250])\n",
      "torch.Size([3, 250, 250]) (48,)\n",
      "torch.Size([3, 250, 250])"
     ]
    },
    {
     "name": "stderr",
     "output_type": "stream",
     "text": [
      "Train Epoch 0:  49%|█████████████████▉                   | 816/1678 [02:37<02:45,  5.19batch/s, train_loss=-1.25e+4]"
     ]
    },
    {
     "name": "stdout",
     "output_type": "stream",
     "text": [
      "\n",
      "torch.Size([3, 250, 250]) (48,)\n",
      "torch.Size([3, 250, 250])\n",
      "torch.Size([3, 250, 250]) (48,)\n"
     ]
    },
    {
     "name": "stderr",
     "output_type": "stream",
     "text": [
      "Train Epoch 0:  49%|██████████████████▌                   | 817/1678 [02:38<02:46,  5.18batch/s, train_loss=-1.4e+4]"
     ]
    },
    {
     "name": "stdout",
     "output_type": "stream",
     "text": [
      "torch.Size([3, 250, 250])\n",
      "torch.Size([3, 250, 250]) (48,)\n",
      "torch.Size([3, 250, 250])\n",
      "torch.Size([3, 250, 250]) (48,)\n",
      "torch.Size([3, 250, 250])"
     ]
    },
    {
     "name": "stderr",
     "output_type": "stream",
     "text": [
      "Train Epoch 0:  49%|██████████████████                   | 818/1678 [02:38<02:46,  5.17batch/s, train_loss=-1.38e+4]"
     ]
    },
    {
     "name": "stdout",
     "output_type": "stream",
     "text": [
      "\n",
      "torch.Size([3, 250, 250]) (48,)\n",
      "torch.Size([3, 250, 250])\n",
      "torch.Size([3, 250, 250]) (48,)\n",
      "torch.Size([3, 250, 250])"
     ]
    },
    {
     "name": "stderr",
     "output_type": "stream",
     "text": [
      "Train Epoch 0:  49%|██████████████████▌                   | 819/1678 [02:38<02:43,  5.24batch/s, train_loss=-1.3e+4]"
     ]
    },
    {
     "name": "stdout",
     "output_type": "stream",
     "text": [
      "\n",
      "torch.Size([3, 250, 250]) (48,)\n",
      "torch.Size([3, 250, 250])\n",
      "torch.Size([3, 250, 250]) (48,)\n",
      "torch.Size([3, 250, 250])"
     ]
    },
    {
     "name": "stderr",
     "output_type": "stream",
     "text": [
      "Train Epoch 0:  49%|██████████████████                   | 820/1678 [02:38<02:45,  5.18batch/s, train_loss=-1.26e+4]"
     ]
    },
    {
     "name": "stdout",
     "output_type": "stream",
     "text": [
      "\n",
      "torch.Size([3, 250, 250]) (48,)\n",
      "torch.Size([3, 250, 250])\n",
      "torch.Size([3, 250, 250]) (48,)\n",
      "torch.Size([3, 250, 250])"
     ]
    },
    {
     "name": "stderr",
     "output_type": "stream",
     "text": [
      "Train Epoch 0:  49%|██████████████████                   | 821/1678 [02:38<02:46,  5.14batch/s, train_loss=-1.38e+4]"
     ]
    },
    {
     "name": "stdout",
     "output_type": "stream",
     "text": [
      "\n",
      "torch.Size([3, 250, 250]) (48,)\n",
      "torch.Size([3, 250, 250])\n",
      "torch.Size([3, 250, 250]) (48,)\n",
      "torch.Size([3, 250, 250])"
     ]
    },
    {
     "name": "stderr",
     "output_type": "stream",
     "text": [
      "Train Epoch 0:  49%|██████████████████▏                  | 822/1678 [02:39<02:44,  5.19batch/s, train_loss=-1.23e+4]"
     ]
    },
    {
     "name": "stdout",
     "output_type": "stream",
     "text": [
      "\n",
      "torch.Size([3, 250, 250]) (48,)\n",
      "torch.Size([3, 250, 250])\n",
      "torch.Size([3, 250, 250]) (48,)\n",
      "torch.Size([3, 250, 250])\n"
     ]
    },
    {
     "name": "stderr",
     "output_type": "stream",
     "text": [
      "Train Epoch 0:  49%|██████████████████▏                  | 823/1678 [02:39<02:46,  5.14batch/s, train_loss=-1.29e+4]"
     ]
    },
    {
     "name": "stdout",
     "output_type": "stream",
     "text": [
      "torch.Size([3, 250, 250]) (48,)\n",
      "torch.Size([3, 250, 250])\n",
      "torch.Size([3, 250, 250]) (48,)\n",
      "torch.Size([3, 250, 250])"
     ]
    },
    {
     "name": "stderr",
     "output_type": "stream",
     "text": [
      "Train Epoch 0:  49%|██████████████████▏                  | 824/1678 [02:39<02:46,  5.12batch/s, train_loss=-1.17e+4]"
     ]
    },
    {
     "name": "stdout",
     "output_type": "stream",
     "text": [
      "\n",
      "torch.Size([3, 250, 250]) (48,)\n",
      "torch.Size([3, 250, 250])\n",
      "torch.Size([3, 250, 250]) (48,)\n"
     ]
    },
    {
     "name": "stderr",
     "output_type": "stream",
     "text": [
      "Train Epoch 0:  49%|██████████████████▏                  | 825/1678 [02:39<02:46,  5.11batch/s, train_loss=-1.22e+4]"
     ]
    },
    {
     "name": "stdout",
     "output_type": "stream",
     "text": [
      "torch.Size([3, 250, 250])\n",
      "torch.Size([3, 250, 250]) (48,)\n",
      "torch.Size([3, 250, 250])\n",
      "torch.Size([3, 250, 250]) (48,)\n",
      "torch.Size([3, 250, 250])"
     ]
    },
    {
     "name": "stderr",
     "output_type": "stream",
     "text": [
      "Train Epoch 0:  49%|██████████████████▏                  | 826/1678 [02:39<02:44,  5.18batch/s, train_loss=-1.14e+4]"
     ]
    },
    {
     "name": "stdout",
     "output_type": "stream",
     "text": [
      "\n",
      "torch.Size([3, 250, 250]) (48,)\n",
      "torch.Size([3, 250, 250])\n",
      "torch.Size([3, 250, 250]) (48,)\n",
      "torch.Size([3, 250, 250])"
     ]
    },
    {
     "name": "stderr",
     "output_type": "stream",
     "text": [
      "Train Epoch 0:  49%|██████████████████▏                  | 827/1678 [02:40<02:43,  5.20batch/s, train_loss=-1.36e+4]"
     ]
    },
    {
     "name": "stdout",
     "output_type": "stream",
     "text": [
      "\n",
      "torch.Size([3, 250, 250]) (48,)\n",
      "torch.Size([3, 250, 250])\n",
      "torch.Size([3, 250, 250]) (48,)\n",
      "torch.Size([3, 250, 250])"
     ]
    },
    {
     "name": "stderr",
     "output_type": "stream",
     "text": [
      "Train Epoch 0:  49%|██████████████████▎                  | 828/1678 [02:40<02:42,  5.22batch/s, train_loss=-1.23e+4]"
     ]
    },
    {
     "name": "stdout",
     "output_type": "stream",
     "text": [
      "\n",
      "torch.Size([3, 250, 250]) (48,)\n",
      "torch.Size([3, 250, 250])\n",
      "torch.Size([3, 250, 250]) (48,)\n",
      "torch.Size([3, 250, 250])"
     ]
    },
    {
     "name": "stderr",
     "output_type": "stream",
     "text": [
      "Train Epoch 0:  49%|██████████████████▎                  | 829/1678 [02:40<02:42,  5.23batch/s, train_loss=-1.24e+4]"
     ]
    },
    {
     "name": "stdout",
     "output_type": "stream",
     "text": [
      "\n",
      "torch.Size([3, 250, 250]) (48,)\n",
      "torch.Size([3, 250, 250])\n",
      "torch.Size([3, 250, 250]) (48,)\n",
      "torch.Size([3, 250, 250])"
     ]
    },
    {
     "name": "stderr",
     "output_type": "stream",
     "text": [
      "Train Epoch 0:  49%|██████████████████▎                  | 830/1678 [02:40<02:44,  5.17batch/s, train_loss=-1.13e+4]"
     ]
    },
    {
     "name": "stdout",
     "output_type": "stream",
     "text": [
      "\n",
      "torch.Size([3, 250, 250]) (48,)\n",
      "torch.Size([3, 250, 250])\n",
      "torch.Size([3, 250, 250]) (48,)\n",
      "torch.Size([3, 250, 250])"
     ]
    },
    {
     "name": "stderr",
     "output_type": "stream",
     "text": [
      "Train Epoch 0:  50%|██████████████████▎                  | 831/1678 [02:40<02:42,  5.22batch/s, train_loss=-1.25e+4]"
     ]
    },
    {
     "name": "stdout",
     "output_type": "stream",
     "text": [
      "\n",
      "torch.Size([3, 250, 250]) (48,)\n",
      "torch.Size([3, 250, 250])\n",
      "torch.Size([3, 250, 250]) (48,)\n",
      "torch.Size([3, 250, 250])"
     ]
    },
    {
     "name": "stderr",
     "output_type": "stream",
     "text": [
      "Train Epoch 0:  50%|██████████████████▎                  | 832/1678 [02:41<02:41,  5.25batch/s, train_loss=-1.31e+4]"
     ]
    },
    {
     "name": "stdout",
     "output_type": "stream",
     "text": [
      "\n",
      "torch.Size([3, 250, 250]) (48,)\n",
      "torch.Size([3, 250, 250])\n",
      "torch.Size([3, 250, 250]) (48,)\n",
      "torch.Size([3, 250, 250])"
     ]
    },
    {
     "name": "stderr",
     "output_type": "stream",
     "text": [
      "Train Epoch 0:  50%|██████████████████▎                  | 833/1678 [02:41<02:39,  5.28batch/s, train_loss=-1.24e+4]"
     ]
    },
    {
     "name": "stdout",
     "output_type": "stream",
     "text": [
      "\n",
      "torch.Size([3, 250, 250]) (48,)\n",
      "torch.Size([3, 250, 250])\n",
      "torch.Size([3, 250, 250]) (48,)\n"
     ]
    },
    {
     "name": "stderr",
     "output_type": "stream",
     "text": [
      "Train Epoch 0:  50%|██████████████████▍                  | 834/1678 [02:41<02:41,  5.23batch/s, train_loss=-1.19e+4]"
     ]
    },
    {
     "name": "stdout",
     "output_type": "stream",
     "text": [
      "torch.Size([3, 250, 250])\n",
      "torch.Size([3, 250, 250]) (48,)\n",
      "torch.Size([3, 250, 250])\n",
      "torch.Size([3, 250, 250]) (48,)\n",
      "torch.Size([3, 250, 250])"
     ]
    },
    {
     "name": "stderr",
     "output_type": "stream",
     "text": [
      "Train Epoch 0:  50%|██████████████████▍                  | 835/1678 [02:41<02:39,  5.28batch/s, train_loss=-1.21e+4]"
     ]
    },
    {
     "name": "stdout",
     "output_type": "stream",
     "text": [
      "\n",
      "torch.Size([3, 250, 250]) (48,)\n",
      "torch.Size([3, 250, 250])\n",
      "torch.Size([3, 250, 250]) (48,)\n",
      "torch.Size([3, 250, 250])"
     ]
    },
    {
     "name": "stderr",
     "output_type": "stream",
     "text": [
      "Train Epoch 0:  50%|██████████████████▍                  | 836/1678 [02:41<02:38,  5.33batch/s, train_loss=-1.32e+4]"
     ]
    },
    {
     "name": "stdout",
     "output_type": "stream",
     "text": [
      "\n",
      "torch.Size([3, 250, 250]) (48,)\n",
      "torch.Size([3, 250, 250])\n",
      "torch.Size([3, 250, 250]) (48,)\n",
      "torch.Size([3, 250, 250])\n",
      "torch.Size([3, 250, 250]) (48,)\n"
     ]
    },
    {
     "name": "stderr",
     "output_type": "stream",
     "text": [
      "Train Epoch 0:  50%|██████████████████▍                  | 837/1678 [02:41<02:40,  5.25batch/s, train_loss=-1.27e+4]"
     ]
    },
    {
     "name": "stdout",
     "output_type": "stream",
     "text": [
      "torch.Size([3, 250, 250])\n",
      "torch.Size([3, 250, 250]) (48,)\n",
      "torch.Size([3, 250, 250])\n",
      "torch.Size([3, 250, 250]) (48,)\n",
      "torch.Size([3, 250, 250])"
     ]
    },
    {
     "name": "stderr",
     "output_type": "stream",
     "text": [
      "Train Epoch 0:  50%|██████████████████▍                  | 838/1678 [02:42<02:40,  5.23batch/s, train_loss=-1.24e+4]"
     ]
    },
    {
     "name": "stdout",
     "output_type": "stream",
     "text": [
      "\n",
      "torch.Size([3, 250, 250]) (48,)\n",
      "torch.Size([3, 250, 250])\n",
      "torch.Size([3, 250, 250]) (48,)\n",
      "torch.Size([3, 250, 250])"
     ]
    },
    {
     "name": "stderr",
     "output_type": "stream",
     "text": [
      "Train Epoch 0:  50%|██████████████████▌                  | 839/1678 [02:42<02:41,  5.18batch/s, train_loss=-1.22e+4]"
     ]
    },
    {
     "name": "stdout",
     "output_type": "stream",
     "text": [
      "\n",
      "torch.Size([3, 250, 250]) (48,)\n",
      "torch.Size([3, 250, 250])\n",
      "torch.Size([3, 250, 250]) (48,)\n"
     ]
    },
    {
     "name": "stderr",
     "output_type": "stream",
     "text": [
      "Train Epoch 0:  50%|███████████████████                   | 840/1678 [02:42<02:42,  5.14batch/s, train_loss=-1.3e+4]"
     ]
    },
    {
     "name": "stdout",
     "output_type": "stream",
     "text": [
      "torch.Size([3, 250, 250])\n",
      "torch.Size([3, 250, 250]) (48,)\n",
      "torch.Size([3, 250, 250])\n",
      "torch.Size([3, 250, 250]) (48,)\n",
      "torch.Size([3, 250, 250])"
     ]
    },
    {
     "name": "stderr",
     "output_type": "stream",
     "text": [
      "Train Epoch 0:  50%|██████████████████▌                  | 841/1678 [02:42<02:40,  5.21batch/s, train_loss=-1.19e+4]"
     ]
    },
    {
     "name": "stdout",
     "output_type": "stream",
     "text": [
      "\n",
      "torch.Size([3, 250, 250]) (48,)\n",
      "torch.Size([3, 250, 250])\n",
      "torch.Size([3, 250, 250]) (48,)\n"
     ]
    },
    {
     "name": "stderr",
     "output_type": "stream",
     "text": [
      "Train Epoch 0:  50%|██████████████████▌                  | 842/1678 [02:42<02:42,  5.16batch/s, train_loss=-1.29e+4]"
     ]
    },
    {
     "name": "stdout",
     "output_type": "stream",
     "text": [
      "torch.Size([3, 250, 250])\n",
      "torch.Size([3, 250, 250]) (48,)\n",
      "torch.Size([3, 250, 250])\n",
      "torch.Size([3, 250, 250]) (48,)\n"
     ]
    },
    {
     "name": "stderr",
     "output_type": "stream",
     "text": [
      "Train Epoch 0:  50%|██████████████████▌                  | 843/1678 [02:43<02:45,  5.05batch/s, train_loss=-1.21e+4]"
     ]
    },
    {
     "name": "stdout",
     "output_type": "stream",
     "text": [
      "torch.Size([3, 250, 250])\n",
      "torch.Size([3, 250, 250]) (48,)\n",
      "torch.Size([3, 250, 250])\n",
      "torch.Size([3, 250, 250]) (48,)\n",
      "torch.Size([3, 250, 250])"
     ]
    },
    {
     "name": "stderr",
     "output_type": "stream",
     "text": [
      "Train Epoch 0:  50%|███████████████████                   | 844/1678 [02:43<02:43,  5.12batch/s, train_loss=-1.3e+4]"
     ]
    },
    {
     "name": "stdout",
     "output_type": "stream",
     "text": [
      "\n",
      "torch.Size([3, 250, 250]) (48,)\n",
      "torch.Size([3, 250, 250])\n",
      "torch.Size([3, 250, 250]) (48,)\n"
     ]
    },
    {
     "name": "stderr",
     "output_type": "stream",
     "text": [
      "Train Epoch 0:  50%|██████████████████▋                  | 845/1678 [02:43<02:43,  5.09batch/s, train_loss=-1.11e+4]"
     ]
    },
    {
     "name": "stdout",
     "output_type": "stream",
     "text": [
      "torch.Size([3, 250, 250])\n",
      "torch.Size([3, 250, 250]) (48,)\n",
      "torch.Size([3, 250, 250])\n",
      "torch.Size([3, 250, 250]) (48,)\n",
      "torch.Size([3, 250, 250])"
     ]
    },
    {
     "name": "stderr",
     "output_type": "stream",
     "text": [
      "Train Epoch 0:  50%|███████████████████▏                  | 846/1678 [02:43<02:40,  5.19batch/s, train_loss=-1.2e+4]"
     ]
    },
    {
     "name": "stdout",
     "output_type": "stream",
     "text": [
      "\n",
      "torch.Size([3, 250, 250]) (48,)\n",
      "torch.Size([3, 250, 250])\n",
      "torch.Size([3, 250, 250]) (48,)\n",
      "torch.Size([3, 250, 250])"
     ]
    },
    {
     "name": "stderr",
     "output_type": "stream",
     "text": [
      "Train Epoch 0:  50%|██████████████████▋                  | 847/1678 [02:43<02:38,  5.25batch/s, train_loss=-1.13e+4]"
     ]
    },
    {
     "name": "stdout",
     "output_type": "stream",
     "text": [
      "\n",
      "torch.Size([3, 250, 250]) (48,)\n",
      "torch.Size([3, 250, 250])\n",
      "torch.Size([3, 250, 250]) (48,)\n",
      "torch.Size([3, 250, 250])"
     ]
    },
    {
     "name": "stderr",
     "output_type": "stream",
     "text": [
      "Train Epoch 0:  51%|██████████████████▋                  | 848/1678 [02:44<02:37,  5.26batch/s, train_loss=-1.19e+4]"
     ]
    },
    {
     "name": "stdout",
     "output_type": "stream",
     "text": [
      "\n",
      "torch.Size([3, 250, 250]) (48,)\n",
      "torch.Size([3, 250, 250])\n",
      "torch.Size([3, 250, 250]) (48,)\n"
     ]
    },
    {
     "name": "stderr",
     "output_type": "stream",
     "text": [
      "Train Epoch 0:  51%|██████████████████▋                  | 849/1678 [02:44<02:41,  5.13batch/s, train_loss=-1.26e+4]"
     ]
    },
    {
     "name": "stdout",
     "output_type": "stream",
     "text": [
      "torch.Size([3, 250, 250])\n",
      "torch.Size([3, 250, 250]) (48,)\n",
      "torch.Size([3, 250, 250])\n",
      "torch.Size([3, 250, 250]) (48,)\n",
      "torch.Size([3, 250, 250])"
     ]
    },
    {
     "name": "stderr",
     "output_type": "stream",
     "text": [
      "Train Epoch 0:  51%|███████████████████▏                  | 850/1678 [02:44<02:39,  5.20batch/s, train_loss=-1.1e+4]"
     ]
    },
    {
     "name": "stdout",
     "output_type": "stream",
     "text": [
      "\n",
      "torch.Size([3, 250, 250]) (48,)\n",
      "torch.Size([3, 250, 250])\n",
      "torch.Size([3, 250, 250]) (48,)\n",
      "torch.Size([3, 250, 250])"
     ]
    },
    {
     "name": "stderr",
     "output_type": "stream",
     "text": [
      "Train Epoch 0:  51%|██████████████████▊                  | 851/1678 [02:44<02:37,  5.26batch/s, train_loss=-1.25e+4]"
     ]
    },
    {
     "name": "stdout",
     "output_type": "stream",
     "text": [
      "\n",
      "torch.Size([3, 250, 250]) (48,)\n",
      "torch.Size([3, 250, 250])\n",
      "torch.Size([3, 250, 250]) (48,)\n",
      "torch.Size([3, 250, 250])"
     ]
    },
    {
     "name": "stderr",
     "output_type": "stream",
     "text": [
      "Train Epoch 0:  51%|██████████████████▊                  | 852/1678 [02:44<02:38,  5.22batch/s, train_loss=-1.07e+4]"
     ]
    },
    {
     "name": "stdout",
     "output_type": "stream",
     "text": [
      "\n",
      "torch.Size([3, 250, 250]) (48,)\n",
      "torch.Size([3, 250, 250])\n",
      "torch.Size([3, 250, 250]) (48,)\n",
      "torch.Size([3, 250, 250])"
     ]
    },
    {
     "name": "stderr",
     "output_type": "stream",
     "text": [
      "Train Epoch 0:  51%|██████████████████▊                  | 853/1678 [02:45<02:36,  5.26batch/s, train_loss=-1.19e+4]"
     ]
    },
    {
     "name": "stdout",
     "output_type": "stream",
     "text": [
      "\n",
      "torch.Size([3, 250, 250]) (48,)\n",
      "torch.Size([3, 250, 250])\n",
      "torch.Size([3, 250, 250]) (48,)\n",
      "torch.Size([3, 250, 250])"
     ]
    },
    {
     "name": "stderr",
     "output_type": "stream",
     "text": [
      "Train Epoch 0:  51%|██████████████████▊                  | 854/1678 [02:45<02:35,  5.31batch/s, train_loss=-1.18e+4]"
     ]
    },
    {
     "name": "stdout",
     "output_type": "stream",
     "text": [
      "\n",
      "torch.Size([3, 250, 250]) (48,)\n",
      "torch.Size([3, 250, 250])\n",
      "torch.Size([3, 250, 250]) (48,)\n",
      "torch.Size([3, 250, 250])"
     ]
    },
    {
     "name": "stderr",
     "output_type": "stream",
     "text": [
      "Train Epoch 0:  51%|██████████████████▊                  | 855/1678 [02:45<02:34,  5.34batch/s, train_loss=-1.19e+4]"
     ]
    },
    {
     "name": "stdout",
     "output_type": "stream",
     "text": [
      "\n",
      "torch.Size([3, 250, 250]) (48,)\n",
      "torch.Size([3, 250, 250])\n",
      "torch.Size([3, 250, 250]) (48,)\n",
      "torch.Size([3, 250, 250])"
     ]
    },
    {
     "name": "stderr",
     "output_type": "stream",
     "text": [
      "Train Epoch 0:  51%|██████████████████▊                  | 856/1678 [02:45<02:33,  5.36batch/s, train_loss=-1.16e+4]"
     ]
    },
    {
     "name": "stdout",
     "output_type": "stream",
     "text": [
      "\n",
      "torch.Size([3, 250, 250]) (48,)\n",
      "torch.Size([3, 250, 250])\n",
      "torch.Size([3, 250, 250]) (48,)\n",
      "torch.Size([3, 250, 250])"
     ]
    },
    {
     "name": "stderr",
     "output_type": "stream",
     "text": [
      "Train Epoch 0:  51%|██████████████████▉                  | 857/1678 [02:45<02:36,  5.26batch/s, train_loss=-1.28e+4]"
     ]
    },
    {
     "name": "stdout",
     "output_type": "stream",
     "text": [
      "\n",
      "torch.Size([3, 250, 250]) (48,)\n",
      "torch.Size([3, 250, 250])\n",
      "torch.Size([3, 250, 250]) (48,)\n",
      "torch.Size([3, 250, 250])\n",
      "torch.Size([3, 250, 250]) (48,)\n"
     ]
    },
    {
     "name": "stderr",
     "output_type": "stream",
     "text": [
      "Train Epoch 0:  51%|██████████████████▉                  | 859/1678 [02:46<02:36,  5.23batch/s, train_loss=-1.31e+4]"
     ]
    },
    {
     "name": "stdout",
     "output_type": "stream",
     "text": [
      "torch.Size([3, 250, 250])\n",
      "torch.Size([3, 250, 250]) (48,)\n",
      "torch.Size([3, 250, 250])\n",
      "torch.Size([3, 250, 250]) (48,)\n",
      "torch.Size([3, 250, 250])"
     ]
    },
    {
     "name": "stderr",
     "output_type": "stream",
     "text": [
      "Train Epoch 0:  51%|██████████████████▉                  | 860/1678 [02:46<02:35,  5.26batch/s, train_loss=-1.27e+4]"
     ]
    },
    {
     "name": "stdout",
     "output_type": "stream",
     "text": [
      "\n",
      "torch.Size([3, 250, 250]) (48,)\n",
      "torch.Size([3, 250, 250])\n",
      "torch.Size([3, 250, 250]) (48,)\n",
      "torch.Size([3, 250, 250])"
     ]
    },
    {
     "name": "stderr",
     "output_type": "stream",
     "text": [
      "Train Epoch 0:  51%|██████████████████▉                  | 861/1678 [02:46<02:34,  5.27batch/s, train_loss=-1.27e+4]"
     ]
    },
    {
     "name": "stdout",
     "output_type": "stream",
     "text": [
      "\n",
      "torch.Size([3, 250, 250]) (48,)\n",
      "torch.Size([3, 250, 250])\n",
      "torch.Size([3, 250, 250]) (48,)\n",
      "torch.Size([3, 250, 250])"
     ]
    },
    {
     "name": "stderr",
     "output_type": "stream",
     "text": [
      "Train Epoch 0:  51%|███████████████████                  | 862/1678 [02:46<02:36,  5.23batch/s, train_loss=-1.23e+4]"
     ]
    },
    {
     "name": "stdout",
     "output_type": "stream",
     "text": [
      "\n",
      "torch.Size([3, 250, 250]) (48,)\n",
      "torch.Size([3, 250, 250])\n",
      "torch.Size([3, 250, 250]) (48,)\n",
      "torch.Size([3, 250, 250])"
     ]
    },
    {
     "name": "stderr",
     "output_type": "stream",
     "text": [
      "Train Epoch 0:  51%|███████████████████                  | 863/1678 [02:46<02:35,  5.26batch/s, train_loss=-1.32e+4]"
     ]
    },
    {
     "name": "stdout",
     "output_type": "stream",
     "text": [
      "\n",
      "torch.Size([3, 250, 250]) (48,)\n",
      "torch.Size([3, 250, 250])\n",
      "torch.Size([3, 250, 250]) (48,)\n",
      "torch.Size([3, 250, 250])"
     ]
    },
    {
     "name": "stderr",
     "output_type": "stream",
     "text": [
      "Train Epoch 0:  51%|███████████████████▌                  | 864/1678 [02:47<02:36,  5.20batch/s, train_loss=-1.2e+4]"
     ]
    },
    {
     "name": "stdout",
     "output_type": "stream",
     "text": [
      "\n",
      "torch.Size([3, 250, 250]) (48,)\n",
      "torch.Size([3, 250, 250])\n",
      "torch.Size([3, 250, 250]) (48,)\n"
     ]
    },
    {
     "name": "stderr",
     "output_type": "stream",
     "text": [
      "Train Epoch 0:  52%|███████████████████                  | 865/1678 [02:47<02:37,  5.17batch/s, train_loss=-1.26e+4]"
     ]
    },
    {
     "name": "stdout",
     "output_type": "stream",
     "text": [
      "torch.Size([3, 250, 250])\n",
      "torch.Size([3, 250, 250]) (48,)\n",
      "torch.Size([3, 250, 250])\n",
      "torch.Size([3, 250, 250]) (48,)\n",
      "torch.Size([3, 250, 250])"
     ]
    },
    {
     "name": "stderr",
     "output_type": "stream",
     "text": [
      "Train Epoch 0:  52%|███████████████████▌                  | 866/1678 [02:47<02:34,  5.25batch/s, train_loss=-1.1e+4]"
     ]
    },
    {
     "name": "stdout",
     "output_type": "stream",
     "text": [
      "\n",
      "torch.Size([3, 250, 250]) (48,)\n",
      "torch.Size([3, 250, 250])\n",
      "torch.Size([3, 250, 250]) (48,)\n",
      "torch.Size([3, 250, 250])"
     ]
    },
    {
     "name": "stderr",
     "output_type": "stream",
     "text": [
      "Train Epoch 0:  52%|███████████████████                  | 867/1678 [02:47<02:34,  5.25batch/s, train_loss=-1.13e+4]"
     ]
    },
    {
     "name": "stdout",
     "output_type": "stream",
     "text": [
      "\n",
      "torch.Size([3, 250, 250]) (48,)\n",
      "torch.Size([3, 250, 250])\n",
      "torch.Size([3, 250, 250]) (48,)\n",
      "torch.Size([3, 250, 250])"
     ]
    },
    {
     "name": "stderr",
     "output_type": "stream",
     "text": [
      "Train Epoch 0:  52%|███████████████████▋                  | 868/1678 [02:47<02:34,  5.25batch/s, train_loss=-1.2e+4]"
     ]
    },
    {
     "name": "stdout",
     "output_type": "stream",
     "text": [
      "\n",
      "torch.Size([3, 250, 250]) (48,)\n",
      "torch.Size([3, 250, 250])\n",
      "torch.Size([3, 250, 250]) (48,)\n",
      "torch.Size([3, 250, 250])"
     ]
    },
    {
     "name": "stderr",
     "output_type": "stream",
     "text": [
      "Train Epoch 0:  52%|███████████████████▏                 | 869/1678 [02:48<02:33,  5.28batch/s, train_loss=-1.15e+4]"
     ]
    },
    {
     "name": "stdout",
     "output_type": "stream",
     "text": [
      "\n",
      "torch.Size([3, 250, 250]) (48,)\n",
      "torch.Size([3, 250, 250])\n",
      "torch.Size([3, 250, 250]) (48,)\n",
      "torch.Size([3, 250, 250])"
     ]
    },
    {
     "name": "stderr",
     "output_type": "stream",
     "text": [
      "Train Epoch 0:  52%|███████████████████▏                 | 870/1678 [02:48<02:34,  5.22batch/s, train_loss=-1.18e+4]"
     ]
    },
    {
     "name": "stdout",
     "output_type": "stream",
     "text": [
      "\n",
      "torch.Size([3, 250, 250]) (48,)\n",
      "torch.Size([3, 250, 250])\n",
      "torch.Size([3, 250, 250]) (48,)\n",
      "torch.Size([3, 250, 250])"
     ]
    },
    {
     "name": "stderr",
     "output_type": "stream",
     "text": [
      "Train Epoch 0:  52%|███████████████████▏                 | 871/1678 [02:48<02:33,  5.24batch/s, train_loss=-1.33e+4]"
     ]
    },
    {
     "name": "stdout",
     "output_type": "stream",
     "text": [
      "\n",
      "torch.Size([3, 250, 250]) (48,)\n",
      "torch.Size([3, 250, 250])\n",
      "torch.Size([3, 250, 250]) (48,)\n",
      "torch.Size([3, 250, 250])"
     ]
    },
    {
     "name": "stderr",
     "output_type": "stream",
     "text": [
      "Train Epoch 0:  52%|███████████████████▏                 | 872/1678 [02:48<02:36,  5.16batch/s, train_loss=-1.32e+4]"
     ]
    },
    {
     "name": "stdout",
     "output_type": "stream",
     "text": [
      "\n",
      "torch.Size([3, 250, 250]) (48,)\n",
      "torch.Size([3, 250, 250])\n",
      "torch.Size([3, 250, 250]) (48,)\n",
      "torch.Size([3, 250, 250])"
     ]
    },
    {
     "name": "stderr",
     "output_type": "stream",
     "text": [
      "Train Epoch 0:  52%|███████████████████▏                 | 873/1678 [02:48<02:34,  5.20batch/s, train_loss=-1.14e+4]"
     ]
    },
    {
     "name": "stdout",
     "output_type": "stream",
     "text": [
      "\n",
      "torch.Size([3, 250, 250]) (48,)\n",
      "torch.Size([3, 250, 250])\n",
      "torch.Size([3, 250, 250]) (48,)\n",
      "torch.Size([3, 250, 250])"
     ]
    },
    {
     "name": "stderr",
     "output_type": "stream",
     "text": [
      "Train Epoch 0:  52%|███████████████████▎                 | 874/1678 [02:49<02:33,  5.24batch/s, train_loss=-1.33e+4]"
     ]
    },
    {
     "name": "stdout",
     "output_type": "stream",
     "text": [
      "\n",
      "torch.Size([3, 250, 250]) (48,)\n",
      "torch.Size([3, 250, 250])\n",
      "torch.Size([3, 250, 250]) (48,)\n",
      "torch.Size([3, 250, 250])"
     ]
    },
    {
     "name": "stderr",
     "output_type": "stream",
     "text": [
      "Train Epoch 0:  52%|███████████████████▎                 | 875/1678 [02:49<02:35,  5.18batch/s, train_loss=-1.25e+4]"
     ]
    },
    {
     "name": "stdout",
     "output_type": "stream",
     "text": [
      "\n",
      "torch.Size([3, 250, 250]) (48,)\n",
      "torch.Size([3, 250, 250])\n",
      "torch.Size([3, 250, 250]) (48,)\n"
     ]
    },
    {
     "name": "stderr",
     "output_type": "stream",
     "text": [
      "Train Epoch 0:  52%|███████████████████▎                 | 876/1678 [02:49<02:36,  5.13batch/s, train_loss=-1.16e+4]"
     ]
    },
    {
     "name": "stdout",
     "output_type": "stream",
     "text": [
      "torch.Size([3, 250, 250])\n",
      "torch.Size([3, 250, 250]) (48,)\n",
      "torch.Size([3, 250, 250])\n",
      "torch.Size([3, 250, 250]) (48,)\n",
      "torch.Size([3, 250, 250])"
     ]
    },
    {
     "name": "stderr",
     "output_type": "stream",
     "text": [
      "Train Epoch 0:  52%|███████████████████▎                 | 877/1678 [02:49<02:34,  5.20batch/s, train_loss=-1.29e+4]"
     ]
    },
    {
     "name": "stdout",
     "output_type": "stream",
     "text": [
      "\n",
      "torch.Size([3, 250, 250]) (48,)\n",
      "torch.Size([3, 250, 250])\n",
      "torch.Size([3, 250, 250]) (48,)\n",
      "torch.Size([3, 250, 250])"
     ]
    },
    {
     "name": "stderr",
     "output_type": "stream",
     "text": [
      "Train Epoch 0:  52%|███████████████████▎                 | 878/1678 [02:49<02:36,  5.12batch/s, train_loss=-1.23e+4]"
     ]
    },
    {
     "name": "stdout",
     "output_type": "stream",
     "text": [
      "\n",
      "torch.Size([3, 250, 250]) (48,)\n",
      "torch.Size([3, 250, 250])\n",
      "torch.Size([3, 250, 250]) (48,)\n",
      "torch.Size([3, 250, 250])"
     ]
    },
    {
     "name": "stderr",
     "output_type": "stream",
     "text": [
      "Train Epoch 0:  52%|███████████████████▍                 | 879/1678 [02:50<02:36,  5.10batch/s, train_loss=-1.39e+4]"
     ]
    },
    {
     "name": "stdout",
     "output_type": "stream",
     "text": [
      "\n",
      "torch.Size([3, 250, 250]) (48,)\n",
      "torch.Size([3, 250, 250])\n",
      "torch.Size([3, 250, 250]) (48,)\n",
      "torch.Size([3, 250, 250])"
     ]
    },
    {
     "name": "stderr",
     "output_type": "stream",
     "text": [
      "Train Epoch 0:  52%|███████████████████▍                 | 880/1678 [02:50<02:35,  5.15batch/s, train_loss=-1.18e+4]"
     ]
    },
    {
     "name": "stdout",
     "output_type": "stream",
     "text": [
      "\n",
      "torch.Size([3, 250, 250]) (48,)\n",
      "torch.Size([3, 250, 250])\n",
      "torch.Size([3, 250, 250]) (48,)\n",
      "torch.Size([3, 250, 250])"
     ]
    },
    {
     "name": "stderr",
     "output_type": "stream",
     "text": [
      "Train Epoch 0:  53%|███████████████████▍                 | 881/1678 [02:50<02:33,  5.19batch/s, train_loss=-1.34e+4]"
     ]
    },
    {
     "name": "stdout",
     "output_type": "stream",
     "text": [
      "\n",
      "torch.Size([3, 250, 250]) (48,)\n",
      "torch.Size([3, 250, 250])\n",
      "torch.Size([3, 250, 250]) (48,)\n",
      "torch.Size([3, 250, 250])"
     ]
    },
    {
     "name": "stderr",
     "output_type": "stream",
     "text": [
      "Train Epoch 0:  53%|███████████████████▍                 | 882/1678 [02:50<02:34,  5.15batch/s, train_loss=-1.11e+4]"
     ]
    },
    {
     "name": "stdout",
     "output_type": "stream",
     "text": [
      "\n",
      "torch.Size([3, 250, 250]) (48,)\n",
      "torch.Size([3, 250, 250])\n",
      "torch.Size([3, 250, 250]) (48,)\n"
     ]
    },
    {
     "name": "stderr",
     "output_type": "stream",
     "text": [
      "Train Epoch 0:  53%|███████████████████▍                 | 883/1678 [02:50<02:35,  5.13batch/s, train_loss=-1.27e+4]"
     ]
    },
    {
     "name": "stdout",
     "output_type": "stream",
     "text": [
      "torch.Size([3, 250, 250])\n",
      "torch.Size([3, 250, 250]) (48,)\n",
      "torch.Size([3, 250, 250])\n",
      "torch.Size([3, 250, 250]) (48,)\n",
      "torch.Size([3, 250, 250])"
     ]
    },
    {
     "name": "stderr",
     "output_type": "stream",
     "text": [
      "Train Epoch 0:  53%|███████████████████▍                 | 884/1678 [02:51<02:37,  5.04batch/s, train_loss=-1.19e+4]"
     ]
    },
    {
     "name": "stdout",
     "output_type": "stream",
     "text": [
      "\n",
      "torch.Size([3, 250, 250]) (48,)\n",
      "torch.Size([3, 250, 250])\n",
      "torch.Size([3, 250, 250]) (48,)\n",
      "torch.Size([3, 250, 250])"
     ]
    },
    {
     "name": "stderr",
     "output_type": "stream",
     "text": [
      "Train Epoch 0:  53%|███████████████████▌                 | 885/1678 [02:51<02:34,  5.13batch/s, train_loss=-1.35e+4]"
     ]
    },
    {
     "name": "stdout",
     "output_type": "stream",
     "text": [
      "\n",
      "torch.Size([3, 250, 250]) (48,)\n",
      "torch.Size([3, 250, 250])\n",
      "torch.Size([3, 250, 250]) (48,)\n"
     ]
    },
    {
     "name": "stderr",
     "output_type": "stream",
     "text": [
      "Train Epoch 0:  53%|████████████████████                  | 886/1678 [02:51<02:36,  5.05batch/s, train_loss=-1.2e+4]"
     ]
    },
    {
     "name": "stdout",
     "output_type": "stream",
     "text": [
      "torch.Size([3, 250, 250])\n",
      "torch.Size([3, 250, 250]) (48,)\n",
      "torch.Size([3, 250, 250])\n",
      "torch.Size([3, 250, 250]) (48,)\n",
      "torch.Size([3, 250, 250])"
     ]
    },
    {
     "name": "stderr",
     "output_type": "stream",
     "text": [
      "Train Epoch 0:  53%|███████████████████▌                 | 887/1678 [02:51<02:34,  5.13batch/s, train_loss=-1.45e+4]"
     ]
    },
    {
     "name": "stdout",
     "output_type": "stream",
     "text": [
      "\n",
      "torch.Size([3, 250, 250]) (48,)\n",
      "torch.Size([3, 250, 250])\n",
      "torch.Size([3, 250, 250]) (48,)\n",
      "torch.Size([3, 250, 250])"
     ]
    },
    {
     "name": "stderr",
     "output_type": "stream",
     "text": [
      "Train Epoch 0:  53%|███████████████████▌                 | 888/1678 [02:51<02:30,  5.25batch/s, train_loss=-1.29e+4]"
     ]
    },
    {
     "name": "stdout",
     "output_type": "stream",
     "text": [
      "\n",
      "torch.Size([3, 250, 250]) (48,)\n",
      "torch.Size([3, 250, 250])\n",
      "torch.Size([3, 250, 250]) (48,)\n"
     ]
    },
    {
     "name": "stderr",
     "output_type": "stream",
     "text": [
      "Train Epoch 0:  53%|███████████████████▌                 | 889/1678 [02:51<02:31,  5.21batch/s, train_loss=-1.36e+4]"
     ]
    },
    {
     "name": "stdout",
     "output_type": "stream",
     "text": [
      "torch.Size([3, 250, 250])\n",
      "torch.Size([3, 250, 250]) (48,)\n",
      "torch.Size([3, 250, 250])\n",
      "torch.Size([3, 250, 250]) (48,)\n",
      "torch.Size([3, 250, 250])"
     ]
    },
    {
     "name": "stderr",
     "output_type": "stream",
     "text": [
      "Train Epoch 0:  53%|███████████████████▌                 | 890/1678 [02:52<02:33,  5.14batch/s, train_loss=-1.26e+4]"
     ]
    },
    {
     "name": "stdout",
     "output_type": "stream",
     "text": [
      "\n",
      "torch.Size([3, 250, 250]) (48,)\n",
      "torch.Size([3, 250, 250])\n",
      "torch.Size([3, 250, 250]) (48,)\n"
     ]
    },
    {
     "name": "stderr",
     "output_type": "stream",
     "text": [
      "Train Epoch 0:  53%|████████████████████▏                 | 891/1678 [02:52<02:33,  5.13batch/s, train_loss=-1.3e+4]"
     ]
    },
    {
     "name": "stdout",
     "output_type": "stream",
     "text": [
      "torch.Size([3, 250, 250])\n",
      "torch.Size([3, 250, 250]) (48,)\n",
      "torch.Size([3, 250, 250])\n",
      "torch.Size([3, 250, 250]) (48,)\n"
     ]
    },
    {
     "name": "stderr",
     "output_type": "stream",
     "text": [
      "Train Epoch 0:  53%|███████████████████▋                 | 892/1678 [02:52<02:35,  5.06batch/s, train_loss=-1.34e+4]"
     ]
    },
    {
     "name": "stdout",
     "output_type": "stream",
     "text": [
      "torch.Size([3, 250, 250])\n",
      "torch.Size([3, 250, 250]) (48,)\n",
      "torch.Size([3, 250, 250])\n",
      "torch.Size([3, 250, 250]) (48,)\n"
     ]
    },
    {
     "name": "stderr",
     "output_type": "stream",
     "text": [
      "Train Epoch 0:  53%|███████████████████▋                 | 893/1678 [02:52<02:37,  5.00batch/s, train_loss=-1.12e+4]"
     ]
    },
    {
     "name": "stdout",
     "output_type": "stream",
     "text": [
      "torch.Size([3, 250, 250])\n",
      "torch.Size([3, 250, 250]) (48,)\n",
      "torch.Size([3, 250, 250])\n",
      "torch.Size([3, 250, 250]) (48,)\n",
      "torch.Size([3, 250, 250])"
     ]
    },
    {
     "name": "stderr",
     "output_type": "stream",
     "text": [
      "Train Epoch 0:  53%|███████████████████▋                 | 894/1678 [02:52<02:35,  5.03batch/s, train_loss=-1.23e+4]"
     ]
    },
    {
     "name": "stdout",
     "output_type": "stream",
     "text": [
      "\n",
      "torch.Size([3, 250, 250]) (48,)\n",
      "torch.Size([3, 250, 250])\n",
      "torch.Size([3, 250, 250]) (48,)\n",
      "torch.Size([3, 250, 250])"
     ]
    },
    {
     "name": "stderr",
     "output_type": "stream",
     "text": [
      "Train Epoch 0:  53%|████████████████████▎                 | 895/1678 [02:53<02:32,  5.14batch/s, train_loss=-1.4e+4]"
     ]
    },
    {
     "name": "stdout",
     "output_type": "stream",
     "text": [
      "\n",
      "torch.Size([3, 250, 250]) (48,)\n",
      "torch.Size([3, 250, 250])\n",
      "torch.Size([3, 250, 250]) (48,)\n",
      "torch.Size([3, 250, 250])"
     ]
    },
    {
     "name": "stderr",
     "output_type": "stream",
     "text": [
      "Train Epoch 0:  53%|███████████████████▊                 | 896/1678 [02:53<02:29,  5.22batch/s, train_loss=-1.31e+4]"
     ]
    },
    {
     "name": "stdout",
     "output_type": "stream",
     "text": [
      "\n",
      "torch.Size([3, 250, 250]) (48,)\n",
      "torch.Size([3, 250, 250])\n",
      "torch.Size([3, 250, 250]) (48,)\n"
     ]
    },
    {
     "name": "stderr",
     "output_type": "stream",
     "text": [
      "Train Epoch 0:  53%|███████████████████▊                 | 897/1678 [02:53<02:33,  5.09batch/s, train_loss=-1.13e+4]"
     ]
    },
    {
     "name": "stdout",
     "output_type": "stream",
     "text": [
      "torch.Size([3, 250, 250])\n",
      "torch.Size([3, 250, 250]) (48,)\n",
      "torch.Size([3, 250, 250])\n",
      "torch.Size([3, 250, 250]) (48,)\n"
     ]
    },
    {
     "name": "stderr",
     "output_type": "stream",
     "text": [
      "Train Epoch 0:  54%|███████████████████▊                 | 898/1678 [02:53<02:34,  5.06batch/s, train_loss=-1.23e+4]"
     ]
    },
    {
     "name": "stdout",
     "output_type": "stream",
     "text": [
      "torch.Size([3, 250, 250])\n",
      "torch.Size([3, 250, 250]) (48,)\n",
      "torch.Size([3, 250, 250])\n",
      "torch.Size([3, 250, 250]) (48,)\n"
     ]
    },
    {
     "name": "stderr",
     "output_type": "stream",
     "text": [
      "Train Epoch 0:  54%|███████████████████▊                 | 899/1678 [02:53<02:32,  5.11batch/s, train_loss=-1.31e+4]"
     ]
    },
    {
     "name": "stdout",
     "output_type": "stream",
     "text": [
      "torch.Size([3, 250, 250])\n",
      "torch.Size([3, 250, 250]) (48,)\n",
      "torch.Size([3, 250, 250])\n",
      "torch.Size([3, 250, 250]) (48,)\n",
      "torch.Size([3, 250, 250])\n",
      "torch.Size([3, 250, 250]) (48,)\n"
     ]
    },
    {
     "name": "stderr",
     "output_type": "stream",
     "text": [
      "Train Epoch 0:  54%|███████████████████▊                 | 900/1678 [02:54<02:32,  5.11batch/s, train_loss=-1.13e+4]"
     ]
    },
    {
     "name": "stdout",
     "output_type": "stream",
     "text": [
      "torch.Size([3, 250, 250])\n",
      "torch.Size([3, 250, 250]) (48,)\n",
      "torch.Size([3, 250, 250])\n",
      "torch.Size([3, 250, 250]) (48,)\n",
      "torch.Size([3, 250, 250])"
     ]
    },
    {
     "name": "stderr",
     "output_type": "stream",
     "text": [
      "Train Epoch 0:  54%|███████████████████▊                 | 901/1678 [02:54<02:28,  5.22batch/s, train_loss=-1.21e+4]"
     ]
    },
    {
     "name": "stdout",
     "output_type": "stream",
     "text": [
      "\n",
      "torch.Size([3, 250, 250]) (48,)\n",
      "torch.Size([3, 250, 250])\n",
      "torch.Size([3, 250, 250]) (48,)\n",
      "torch.Size([3, 250, 250])"
     ]
    },
    {
     "name": "stderr",
     "output_type": "stream",
     "text": [
      "Train Epoch 0:  54%|███████████████████▉                 | 902/1678 [02:54<02:28,  5.23batch/s, train_loss=-1.25e+4]"
     ]
    },
    {
     "name": "stdout",
     "output_type": "stream",
     "text": [
      "\n",
      "torch.Size([3, 250, 250]) (48,)\n",
      "torch.Size([3, 250, 250])\n",
      "torch.Size([3, 250, 250]) (48,)\n",
      "torch.Size([3, 250, 250])"
     ]
    },
    {
     "name": "stderr",
     "output_type": "stream",
     "text": [
      "Train Epoch 0:  54%|███████████████████▉                 | 903/1678 [02:54<02:27,  5.24batch/s, train_loss=-1.34e+4]"
     ]
    },
    {
     "name": "stdout",
     "output_type": "stream",
     "text": [
      "\n",
      "torch.Size([3, 250, 250]) (48,)\n",
      "torch.Size([3, 250, 250])\n",
      "torch.Size([3, 250, 250]) (48,)\n",
      "torch.Size([3, 250, 250])"
     ]
    },
    {
     "name": "stderr",
     "output_type": "stream",
     "text": [
      "Train Epoch 0:  54%|███████████████████▉                 | 904/1678 [02:54<02:27,  5.26batch/s, train_loss=-1.15e+4]"
     ]
    },
    {
     "name": "stdout",
     "output_type": "stream",
     "text": [
      "\n",
      "torch.Size([3, 250, 250]) (48,)\n",
      "torch.Size([3, 250, 250])\n",
      "torch.Size([3, 250, 250]) (48,)\n",
      "torch.Size([3, 250, 250])"
     ]
    },
    {
     "name": "stderr",
     "output_type": "stream",
     "text": [
      "Train Epoch 0:  54%|███████████████████▉                 | 905/1678 [02:55<02:26,  5.29batch/s, train_loss=-1.22e+4]"
     ]
    },
    {
     "name": "stdout",
     "output_type": "stream",
     "text": [
      "\n",
      "torch.Size([3, 250, 250]) (48,)\n",
      "torch.Size([3, 250, 250])\n",
      "torch.Size([3, 250, 250]) (48,)\n",
      "torch.Size([3, 250, 250])"
     ]
    },
    {
     "name": "stderr",
     "output_type": "stream",
     "text": [
      "Train Epoch 0:  54%|███████████████████▉                 | 906/1678 [02:55<02:25,  5.31batch/s, train_loss=-1.36e+4]"
     ]
    },
    {
     "name": "stdout",
     "output_type": "stream",
     "text": [
      "\n",
      "torch.Size([3, 250, 250]) (48,)\n",
      "torch.Size([3, 250, 250])\n",
      "torch.Size([3, 250, 250]) (48,)\n",
      "torch.Size([3, 250, 250])"
     ]
    },
    {
     "name": "stderr",
     "output_type": "stream",
     "text": [
      "Train Epoch 0:  54%|███████████████████▉                 | 907/1678 [02:55<02:27,  5.23batch/s, train_loss=-1.25e+4]"
     ]
    },
    {
     "name": "stdout",
     "output_type": "stream",
     "text": [
      "\n",
      "torch.Size([3, 250, 250]) (48,)\n",
      "torch.Size([3, 250, 250])\n",
      "torch.Size([3, 250, 250]) (48,)\n",
      "torch.Size([3, 250, 250])\n",
      "torch.Size([3, 250, 250]) (48,)\n"
     ]
    },
    {
     "name": "stderr",
     "output_type": "stream",
     "text": [
      "Train Epoch 0:  54%|████████████████████                 | 909/1678 [02:55<02:26,  5.25batch/s, train_loss=-1.23e+4]"
     ]
    },
    {
     "name": "stdout",
     "output_type": "stream",
     "text": [
      "torch.Size([3, 250, 250])\n",
      "torch.Size([3, 250, 250]) (48,)\n",
      "torch.Size([3, 250, 250])\n",
      "torch.Size([3, 250, 250]) (48,)\n",
      "torch.Size([3, 250, 250])"
     ]
    },
    {
     "name": "stderr",
     "output_type": "stream",
     "text": [
      "Train Epoch 0:  54%|████████████████████                 | 910/1678 [02:56<02:27,  5.20batch/s, train_loss=-1.18e+4]"
     ]
    },
    {
     "name": "stdout",
     "output_type": "stream",
     "text": [
      "\n",
      "torch.Size([3, 250, 250]) (48,)\n",
      "torch.Size([3, 250, 250])\n",
      "torch.Size([3, 250, 250]) (48,)\n",
      "torch.Size([3, 250, 250])"
     ]
    },
    {
     "name": "stderr",
     "output_type": "stream",
     "text": [
      "Train Epoch 0:  54%|████████████████████                 | 911/1678 [02:56<02:27,  5.21batch/s, train_loss=-1.14e+4]"
     ]
    },
    {
     "name": "stdout",
     "output_type": "stream",
     "text": [
      "\n",
      "torch.Size([3, 250, 250]) (48,)\n",
      "torch.Size([3, 250, 250])\n",
      "torch.Size([3, 250, 250]) (48,)\n",
      "torch.Size([3, 250, 250])"
     ]
    },
    {
     "name": "stderr",
     "output_type": "stream",
     "text": [
      "Train Epoch 0:  54%|████████████████████                 | 912/1678 [02:56<02:29,  5.14batch/s, train_loss=-1.24e+4]"
     ]
    },
    {
     "name": "stdout",
     "output_type": "stream",
     "text": [
      "\n",
      "torch.Size([3, 250, 250]) (48,)\n",
      "torch.Size([3, 250, 250])\n",
      "torch.Size([3, 250, 250]) (48,)\n",
      "torch.Size([3, 250, 250])"
     ]
    },
    {
     "name": "stderr",
     "output_type": "stream",
     "text": [
      "Train Epoch 0:  54%|████████████████████▏                | 913/1678 [02:56<02:27,  5.17batch/s, train_loss=-1.33e+4]"
     ]
    },
    {
     "name": "stdout",
     "output_type": "stream",
     "text": [
      "\n",
      "torch.Size([3, 250, 250]) (48,)\n",
      "torch.Size([3, 250, 250])\n",
      "torch.Size([3, 250, 250]) (48,)\n",
      "torch.Size([3, 250, 250])"
     ]
    },
    {
     "name": "stderr",
     "output_type": "stream",
     "text": [
      "Train Epoch 0:  54%|████████████████████▏                | 914/1678 [02:56<02:28,  5.14batch/s, train_loss=-1.21e+4]"
     ]
    },
    {
     "name": "stdout",
     "output_type": "stream",
     "text": [
      "\n",
      "torch.Size([3, 250, 250]) (48,)\n",
      "torch.Size([3, 250, 250])\n",
      "torch.Size([3, 250, 250]) (48,)\n",
      "torch.Size([3, 250, 250])"
     ]
    },
    {
     "name": "stderr",
     "output_type": "stream",
     "text": [
      "Train Epoch 0:  55%|████████████████████▏                | 915/1678 [02:57<02:29,  5.12batch/s, train_loss=-1.07e+4]"
     ]
    },
    {
     "name": "stdout",
     "output_type": "stream",
     "text": [
      "\n",
      "torch.Size([3, 250, 250]) (48,)\n",
      "torch.Size([3, 250, 250])\n",
      "torch.Size([3, 250, 250]) (48,)\n"
     ]
    },
    {
     "name": "stderr",
     "output_type": "stream",
     "text": [
      "Train Epoch 0:  55%|████████████████████▏                | 916/1678 [02:57<02:31,  5.05batch/s, train_loss=-1.12e+4]"
     ]
    },
    {
     "name": "stdout",
     "output_type": "stream",
     "text": [
      "torch.Size([3, 250, 250])\n",
      "torch.Size([3, 250, 250]) (48,)\n",
      "torch.Size([3, 250, 250])\n",
      "torch.Size([3, 250, 250]) (48,)\n"
     ]
    },
    {
     "name": "stderr",
     "output_type": "stream",
     "text": [
      "Train Epoch 0:  55%|████████████████████▏                | 917/1678 [02:57<02:30,  5.07batch/s, train_loss=-1.24e+4]"
     ]
    },
    {
     "name": "stdout",
     "output_type": "stream",
     "text": [
      "torch.Size([3, 250, 250])\n",
      "torch.Size([3, 250, 250]) (48,)\n",
      "torch.Size([3, 250, 250])\n",
      "torch.Size([3, 250, 250]) (48,)\n",
      "torch.Size([3, 250, 250])"
     ]
    },
    {
     "name": "stderr",
     "output_type": "stream",
     "text": [
      "Train Epoch 0:  55%|████████████████████▏                | 918/1678 [02:57<02:29,  5.09batch/s, train_loss=-1.17e+4]"
     ]
    },
    {
     "name": "stdout",
     "output_type": "stream",
     "text": [
      "\n",
      "torch.Size([3, 250, 250]) (48,)\n",
      "torch.Size([3, 250, 250])\n",
      "torch.Size([3, 250, 250]) (48,)\n",
      "torch.Size([3, 250, 250])"
     ]
    },
    {
     "name": "stderr",
     "output_type": "stream",
     "text": [
      "Train Epoch 0:  55%|████████████████████▎                | 919/1678 [02:57<02:26,  5.18batch/s, train_loss=-1.36e+4]"
     ]
    },
    {
     "name": "stdout",
     "output_type": "stream",
     "text": [
      "\n",
      "torch.Size([3, 250, 250]) (48,)\n",
      "torch.Size([3, 250, 250])\n",
      "torch.Size([3, 250, 250]) (48,)\n",
      "torch.Size([3, 250, 250])"
     ]
    },
    {
     "name": "stderr",
     "output_type": "stream",
     "text": [
      "Train Epoch 0:  55%|████████████████████▊                 | 920/1678 [02:57<02:24,  5.26batch/s, train_loss=-1.1e+4]"
     ]
    },
    {
     "name": "stdout",
     "output_type": "stream",
     "text": [
      "\n",
      "torch.Size([3, 250, 250]) (48,)\n",
      "torch.Size([3, 250, 250])\n",
      "torch.Size([3, 250, 250]) (48,)\n",
      "torch.Size([3, 250, 250])"
     ]
    },
    {
     "name": "stderr",
     "output_type": "stream",
     "text": [
      "Train Epoch 0:  55%|████████████████████▎                | 921/1678 [02:58<02:23,  5.28batch/s, train_loss=-1.19e+4]"
     ]
    },
    {
     "name": "stdout",
     "output_type": "stream",
     "text": [
      "\n",
      "torch.Size([3, 250, 250]) (48,)\n",
      "torch.Size([3, 250, 250])\n",
      "torch.Size([3, 250, 250]) (48,)\n",
      "torch.Size([3, 250, 250])"
     ]
    },
    {
     "name": "stderr",
     "output_type": "stream",
     "text": [
      "Train Epoch 0:  55%|████████████████████▎                | 922/1678 [02:58<02:22,  5.30batch/s, train_loss=-1.29e+4]"
     ]
    },
    {
     "name": "stdout",
     "output_type": "stream",
     "text": [
      "\n",
      "torch.Size([3, 250, 250]) (48,)\n",
      "torch.Size([3, 250, 250])\n",
      "torch.Size([3, 250, 250]) (48,)\n",
      "torch.Size([3, 250, 250])"
     ]
    },
    {
     "name": "stderr",
     "output_type": "stream",
     "text": [
      "Train Epoch 0:  55%|████████████████████▎                | 923/1678 [02:58<02:24,  5.23batch/s, train_loss=-1.26e+4]"
     ]
    },
    {
     "name": "stdout",
     "output_type": "stream",
     "text": [
      "\n",
      "torch.Size([3, 250, 250]) (48,)\n",
      "torch.Size([3, 250, 250])\n",
      "torch.Size([3, 250, 250]) (48,)\n",
      "torch.Size([3, 250, 250])"
     ]
    },
    {
     "name": "stderr",
     "output_type": "stream",
     "text": [
      "Train Epoch 0:  55%|████████████████████▎                | 924/1678 [02:58<02:25,  5.19batch/s, train_loss=-1.26e+4]"
     ]
    },
    {
     "name": "stdout",
     "output_type": "stream",
     "text": [
      "\n",
      "torch.Size([3, 250, 250]) (48,)\n",
      "torch.Size([3, 250, 250])\n",
      "torch.Size([3, 250, 250]) (48,)\n",
      "torch.Size([3, 250, 250])"
     ]
    },
    {
     "name": "stderr",
     "output_type": "stream",
     "text": [
      "Train Epoch 0:  55%|████████████████████▍                | 925/1678 [02:58<02:24,  5.22batch/s, train_loss=-1.26e+4]"
     ]
    },
    {
     "name": "stdout",
     "output_type": "stream",
     "text": [
      "\n",
      "torch.Size([3, 250, 250]) (48,)\n",
      "torch.Size([3, 250, 250])\n",
      "torch.Size([3, 250, 250]) (48,)\n",
      "torch.Size([3, 250, 250])"
     ]
    },
    {
     "name": "stderr",
     "output_type": "stream",
     "text": [
      "Train Epoch 0:  55%|████████████████████▍                | 926/1678 [02:59<02:22,  5.27batch/s, train_loss=-1.25e+4]"
     ]
    },
    {
     "name": "stdout",
     "output_type": "stream",
     "text": [
      "\n",
      "torch.Size([3, 250, 250]) (48,)\n",
      "torch.Size([3, 250, 250])\n",
      "torch.Size([3, 250, 250]) (48,)\n",
      "torch.Size([3, 250, 250])"
     ]
    },
    {
     "name": "stderr",
     "output_type": "stream",
     "text": [
      "Train Epoch 0:  55%|████████████████████▉                 | 927/1678 [02:59<02:21,  5.32batch/s, train_loss=-1.3e+4]"
     ]
    },
    {
     "name": "stdout",
     "output_type": "stream",
     "text": [
      "\n",
      "torch.Size([3, 250, 250]) (48,)\n",
      "torch.Size([3, 250, 250])\n",
      "torch.Size([3, 250, 250]) (48,)\n",
      "torch.Size([3, 250, 250])\n",
      "torch.Size([3, 250, 250]) (48,)\n",
      "torch.Size([3, 250, 250])"
     ]
    },
    {
     "name": "stderr",
     "output_type": "stream",
     "text": [
      "Train Epoch 0:  55%|████████████████████▍                | 928/1678 [02:59<02:20,  5.32batch/s, train_loss=-1.13e+4]"
     ]
    },
    {
     "name": "stdout",
     "output_type": "stream",
     "text": [
      "\n",
      "torch.Size([3, 250, 250]) (48,)\n",
      "torch.Size([3, 250, 250])\n",
      "torch.Size([3, 250, 250]) (48,)\n"
     ]
    },
    {
     "name": "stderr",
     "output_type": "stream",
     "text": [
      "Train Epoch 0:  55%|████████████████████▍                | 929/1678 [02:59<02:24,  5.19batch/s, train_loss=-1.21e+4]"
     ]
    },
    {
     "name": "stdout",
     "output_type": "stream",
     "text": [
      "torch.Size([3, 250, 250])\n",
      "torch.Size([3, 250, 250]) (48,)\n",
      "torch.Size([3, 250, 250])\n",
      "torch.Size([3, 250, 250]) (48,)\n",
      "torch.Size([3, 250, 250])"
     ]
    },
    {
     "name": "stderr",
     "output_type": "stream",
     "text": [
      "Train Epoch 0:  55%|█████████████████████                 | 930/1678 [02:59<02:23,  5.22batch/s, train_loss=-1.3e+4]"
     ]
    },
    {
     "name": "stdout",
     "output_type": "stream",
     "text": [
      "\n",
      "torch.Size([3, 250, 250]) (48,)\n",
      "torch.Size([3, 250, 250])\n",
      "torch.Size([3, 250, 250]) (48,)\n",
      "torch.Size([3, 250, 250])"
     ]
    },
    {
     "name": "stderr",
     "output_type": "stream",
     "text": [
      "Train Epoch 0:  55%|████████████████████▌                | 931/1678 [03:00<02:23,  5.22batch/s, train_loss=-1.19e+4]"
     ]
    },
    {
     "name": "stdout",
     "output_type": "stream",
     "text": [
      "\n",
      "torch.Size([3, 250, 250]) (48,)\n",
      "torch.Size([3, 250, 250])\n",
      "torch.Size([3, 250, 250]) (48,)\n",
      "torch.Size([3, 250, 250])\n",
      "torch.Size([3, 250, 250]) (48,)\n"
     ]
    },
    {
     "name": "stderr",
     "output_type": "stream",
     "text": [
      "Train Epoch 0:  56%|████████████████████▌                | 933/1678 [03:00<02:20,  5.31batch/s, train_loss=-1.23e+4]"
     ]
    },
    {
     "name": "stdout",
     "output_type": "stream",
     "text": [
      "torch.Size([3, 250, 250])\n",
      "torch.Size([3, 250, 250]) (48,)\n",
      "torch.Size([3, 250, 250])\n",
      "torch.Size([3, 250, 250]) (48,)\n",
      "torch.Size([3, 250, 250])\n",
      "torch.Size([3, 250, 250]) (48,)\n"
     ]
    },
    {
     "name": "stderr",
     "output_type": "stream",
     "text": [
      "Train Epoch 0:  56%|████████████████████▌                | 934/1678 [03:00<02:22,  5.23batch/s, train_loss=-1.22e+4]"
     ]
    },
    {
     "name": "stdout",
     "output_type": "stream",
     "text": [
      "torch.Size([3, 250, 250])\n",
      "torch.Size([3, 250, 250]) (48,)\n",
      "torch.Size([3, 250, 250])\n",
      "torch.Size([3, 250, 250]) (48,)\n",
      "torch.Size([3, 250, 250])"
     ]
    },
    {
     "name": "stderr",
     "output_type": "stream",
     "text": [
      "Train Epoch 0:  56%|████████████████████▌                | 935/1678 [03:00<02:23,  5.18batch/s, train_loss=-1.27e+4]"
     ]
    },
    {
     "name": "stdout",
     "output_type": "stream",
     "text": [
      "\n",
      "torch.Size([3, 250, 250]) (48,)\n",
      "torch.Size([3, 250, 250])\n",
      "torch.Size([3, 250, 250]) (48,)\n",
      "torch.Size([3, 250, 250])"
     ]
    },
    {
     "name": "stderr",
     "output_type": "stream",
     "text": [
      "Train Epoch 0:  56%|████████████████████▋                | 936/1678 [03:01<02:22,  5.21batch/s, train_loss=-1.26e+4]"
     ]
    },
    {
     "name": "stdout",
     "output_type": "stream",
     "text": [
      "\n",
      "torch.Size([3, 250, 250]) (48,)\n",
      "torch.Size([3, 250, 250])\n",
      "torch.Size([3, 250, 250]) (48,)\n",
      "torch.Size([3, 250, 250])"
     ]
    },
    {
     "name": "stderr",
     "output_type": "stream",
     "text": [
      "Train Epoch 0:  56%|████████████████████▋                | 937/1678 [03:01<02:21,  5.25batch/s, train_loss=-1.19e+4]"
     ]
    },
    {
     "name": "stdout",
     "output_type": "stream",
     "text": [
      "\n",
      "torch.Size([3, 250, 250]) (48,)\n",
      "torch.Size([3, 250, 250])\n",
      "torch.Size([3, 250, 250]) (48,)\n",
      "torch.Size([3, 250, 250])"
     ]
    },
    {
     "name": "stderr",
     "output_type": "stream",
     "text": [
      "Train Epoch 0:  56%|████████████████████▋                | 938/1678 [03:01<02:22,  5.20batch/s, train_loss=-1.25e+4]"
     ]
    },
    {
     "name": "stdout",
     "output_type": "stream",
     "text": [
      "\n",
      "torch.Size([3, 250, 250]) (48,)\n",
      "torch.Size([3, 250, 250])\n",
      "torch.Size([3, 250, 250]) (48,)\n"
     ]
    },
    {
     "name": "stderr",
     "output_type": "stream",
     "text": [
      "Train Epoch 0:  56%|████████████████████▋                | 939/1678 [03:01<02:23,  5.16batch/s, train_loss=-1.28e+4]"
     ]
    },
    {
     "name": "stdout",
     "output_type": "stream",
     "text": [
      "torch.Size([3, 250, 250])\n",
      "torch.Size([3, 250, 250]) (48,)\n",
      "torch.Size([3, 250, 250])\n",
      "torch.Size([3, 250, 250]) (48,)\n",
      "torch.Size([3, 250, 250])"
     ]
    },
    {
     "name": "stderr",
     "output_type": "stream",
     "text": [
      "Train Epoch 0:  56%|████████████████████▋                | 940/1678 [03:01<02:21,  5.23batch/s, train_loss=-1.26e+4]"
     ]
    },
    {
     "name": "stdout",
     "output_type": "stream",
     "text": [
      "\n",
      "torch.Size([3, 250, 250]) (48,)\n",
      "torch.Size([3, 250, 250])\n",
      "torch.Size([3, 250, 250]) (48,)\n",
      "torch.Size([3, 250, 250])"
     ]
    },
    {
     "name": "stderr",
     "output_type": "stream",
     "text": [
      "Train Epoch 0:  56%|████████████████████▋                | 941/1678 [03:01<02:19,  5.27batch/s, train_loss=-1.06e+4]"
     ]
    },
    {
     "name": "stdout",
     "output_type": "stream",
     "text": [
      "\n",
      "torch.Size([3, 250, 250]) (48,)\n",
      "torch.Size([3, 250, 250])\n",
      "torch.Size([3, 250, 250]) (48,)\n",
      "torch.Size([3, 250, 250])"
     ]
    },
    {
     "name": "stderr",
     "output_type": "stream",
     "text": [
      "Train Epoch 0:  56%|████████████████████▊                | 942/1678 [03:02<02:19,  5.26batch/s, train_loss=-1.16e+4]"
     ]
    },
    {
     "name": "stdout",
     "output_type": "stream",
     "text": [
      "\n",
      "torch.Size([3, 250, 250]) (48,)\n",
      "torch.Size([3, 250, 250])\n",
      "torch.Size([3, 250, 250]) (48,)\n",
      "torch.Size([3, 250, 250])"
     ]
    },
    {
     "name": "stderr",
     "output_type": "stream",
     "text": [
      "Train Epoch 0:  56%|████████████████████▊                | 943/1678 [03:02<02:21,  5.19batch/s, train_loss=-1.09e+4]"
     ]
    },
    {
     "name": "stdout",
     "output_type": "stream",
     "text": [
      "\n",
      "torch.Size([3, 250, 250]) (48,)\n",
      "torch.Size([3, 250, 250])\n",
      "torch.Size([3, 250, 250]) (48,)\n"
     ]
    },
    {
     "name": "stderr",
     "output_type": "stream",
     "text": [
      "Train Epoch 0:  56%|████████████████████▊                | 944/1678 [03:02<02:22,  5.15batch/s, train_loss=-1.14e+4]"
     ]
    },
    {
     "name": "stdout",
     "output_type": "stream",
     "text": [
      "torch.Size([3, 250, 250])\n",
      "torch.Size([3, 250, 250]) (48,)\n",
      "torch.Size([3, 250, 250])\n",
      "torch.Size([3, 250, 250]) (48,)\n",
      "torch.Size([3, 250, 250])"
     ]
    },
    {
     "name": "stderr",
     "output_type": "stream",
     "text": [
      "Train Epoch 0:  56%|████████████████████▊                | 945/1678 [03:02<02:21,  5.19batch/s, train_loss=-1.23e+4]"
     ]
    },
    {
     "name": "stdout",
     "output_type": "stream",
     "text": [
      "\n",
      "torch.Size([3, 250, 250]) (48,)\n",
      "torch.Size([3, 250, 250])\n",
      "torch.Size([3, 250, 250]) (48,)\n",
      "torch.Size([3, 250, 250])"
     ]
    },
    {
     "name": "stderr",
     "output_type": "stream",
     "text": [
      "Train Epoch 0:  56%|████████████████████▊                | 946/1678 [03:02<02:21,  5.19batch/s, train_loss=-1.23e+4]"
     ]
    },
    {
     "name": "stdout",
     "output_type": "stream",
     "text": [
      "\n",
      "torch.Size([3, 250, 250]) (48,)\n",
      "torch.Size([3, 250, 250])\n",
      "torch.Size([3, 250, 250]) (48,)\n",
      "torch.Size([3, 250, 250])"
     ]
    },
    {
     "name": "stderr",
     "output_type": "stream",
     "text": [
      "Train Epoch 0:  56%|████████████████████▉                | 947/1678 [03:03<02:19,  5.24batch/s, train_loss=-1.09e+4]"
     ]
    },
    {
     "name": "stdout",
     "output_type": "stream",
     "text": [
      "\n",
      "torch.Size([3, 250, 250]) (48,)\n",
      "torch.Size([3, 250, 250])\n",
      "torch.Size([3, 250, 250]) (48,)\n",
      "torch.Size([3, 250, 250])\n",
      "torch.Size([3, 250, 250]) (48,)\n"
     ]
    },
    {
     "name": "stderr",
     "output_type": "stream",
     "text": [
      "Train Epoch 0:  57%|████████████████████▉                | 949/1678 [03:03<02:21,  5.14batch/s, train_loss=-1.18e+4]"
     ]
    },
    {
     "name": "stdout",
     "output_type": "stream",
     "text": [
      "torch.Size([3, 250, 250])\n",
      "torch.Size([3, 250, 250]) (48,)\n",
      "torch.Size([3, 250, 250])\n",
      "torch.Size([3, 250, 250]) (48,)\n",
      "torch.Size([3, 250, 250])"
     ]
    },
    {
     "name": "stderr",
     "output_type": "stream",
     "text": [
      "Train Epoch 0:  57%|████████████████████▉                | 950/1678 [03:03<02:19,  5.23batch/s, train_loss=-1.06e+4]"
     ]
    },
    {
     "name": "stdout",
     "output_type": "stream",
     "text": [
      "\n",
      "torch.Size([3, 250, 250]) (48,)\n",
      "torch.Size([3, 250, 250])\n",
      "torch.Size([3, 250, 250]) (48,)\n",
      "torch.Size([3, 250, 250])"
     ]
    },
    {
     "name": "stderr",
     "output_type": "stream",
     "text": [
      "Train Epoch 0:  57%|████████████████████▉                | 951/1678 [03:03<02:17,  5.28batch/s, train_loss=-1.24e+4]"
     ]
    },
    {
     "name": "stdout",
     "output_type": "stream",
     "text": [
      "\n",
      "torch.Size([3, 250, 250]) (48,)\n",
      "torch.Size([3, 250, 250])\n",
      "torch.Size([3, 250, 250]) (48,)\n",
      "torch.Size([3, 250, 250])"
     ]
    },
    {
     "name": "stderr",
     "output_type": "stream",
     "text": [
      "Train Epoch 0:  57%|████████████████████▉                | 952/1678 [03:04<02:18,  5.23batch/s, train_loss=-1.14e+4]"
     ]
    },
    {
     "name": "stdout",
     "output_type": "stream",
     "text": [
      "\n",
      "torch.Size([3, 250, 250]) (48,)\n",
      "torch.Size([3, 250, 250])\n",
      "torch.Size([3, 250, 250]) (48,)\n"
     ]
    },
    {
     "name": "stderr",
     "output_type": "stream",
     "text": [
      "Train Epoch 0:  57%|█████████████████████                | 953/1678 [03:04<02:19,  5.18batch/s, train_loss=-1.22e+4]"
     ]
    },
    {
     "name": "stdout",
     "output_type": "stream",
     "text": [
      "torch.Size([3, 250, 250])\n",
      "torch.Size([3, 250, 250]) (48,)\n",
      "torch.Size([3, 250, 250])\n",
      "torch.Size([3, 250, 250]) (48,)\n",
      "torch.Size([3, 250, 250])"
     ]
    },
    {
     "name": "stderr",
     "output_type": "stream",
     "text": [
      "Train Epoch 0:  57%|█████████████████████                | 954/1678 [03:04<02:20,  5.15batch/s, train_loss=-1.28e+4]"
     ]
    },
    {
     "name": "stdout",
     "output_type": "stream",
     "text": [
      "\n",
      "torch.Size([3, 250, 250]) (48,)\n",
      "torch.Size([3, 250, 250])\n",
      "torch.Size([3, 250, 250]) (48,)\n"
     ]
    },
    {
     "name": "stderr",
     "output_type": "stream",
     "text": [
      "Train Epoch 0:  57%|█████████████████████                | 955/1678 [03:04<02:20,  5.13batch/s, train_loss=-1.27e+4]"
     ]
    },
    {
     "name": "stdout",
     "output_type": "stream",
     "text": [
      "torch.Size([3, 250, 250])\n",
      "torch.Size([3, 250, 250]) (48,)\n",
      "torch.Size([3, 250, 250])\n",
      "torch.Size([3, 250, 250]) (48,)\n",
      "torch.Size([3, 250, 250])"
     ]
    },
    {
     "name": "stderr",
     "output_type": "stream",
     "text": [
      "Train Epoch 0:  57%|█████████████████████                | 956/1678 [03:04<02:22,  5.05batch/s, train_loss=-1.19e+4]"
     ]
    },
    {
     "name": "stdout",
     "output_type": "stream",
     "text": [
      "\n",
      "torch.Size([3, 250, 250]) (48,)\n",
      "torch.Size([3, 250, 250])\n",
      "torch.Size([3, 250, 250]) (48,)\n",
      "torch.Size([3, 250, 250])"
     ]
    },
    {
     "name": "stderr",
     "output_type": "stream",
     "text": [
      "Train Epoch 0:  57%|█████████████████████                | 957/1678 [03:05<02:23,  5.03batch/s, train_loss=-1.25e+4]"
     ]
    },
    {
     "name": "stdout",
     "output_type": "stream",
     "text": [
      "\n",
      "torch.Size([3, 250, 250]) (48,)\n",
      "torch.Size([3, 250, 250])\n",
      "torch.Size([3, 250, 250]) (48,)\n",
      "torch.Size([3, 250, 250])"
     ]
    },
    {
     "name": "stderr",
     "output_type": "stream",
     "text": [
      "Train Epoch 0:  57%|█████████████████████                | 958/1678 [03:05<02:22,  5.06batch/s, train_loss=-1.28e+4]"
     ]
    },
    {
     "name": "stdout",
     "output_type": "stream",
     "text": [
      "\n",
      "torch.Size([3, 250, 250]) (48,)\n",
      "torch.Size([3, 250, 250])\n",
      "torch.Size([3, 250, 250]) (48,)\n",
      "torch.Size([3, 250, 250])"
     ]
    },
    {
     "name": "stderr",
     "output_type": "stream",
     "text": [
      "Train Epoch 0:  57%|█████████████████████▏               | 959/1678 [03:05<02:19,  5.14batch/s, train_loss=-1.19e+4]"
     ]
    },
    {
     "name": "stdout",
     "output_type": "stream",
     "text": [
      "\n",
      "torch.Size([3, 250, 250]) (48,)\n",
      "torch.Size([3, 250, 250])\n",
      "torch.Size([3, 250, 250]) (48,)\n",
      "torch.Size([3, 250, 250])"
     ]
    },
    {
     "name": "stderr",
     "output_type": "stream",
     "text": [
      "Train Epoch 0:  57%|█████████████████████▏               | 960/1678 [03:05<02:19,  5.15batch/s, train_loss=-1.22e+4]"
     ]
    },
    {
     "name": "stdout",
     "output_type": "stream",
     "text": [
      "\n",
      "torch.Size([3, 250, 250]) (48,)\n",
      "torch.Size([3, 250, 250])\n",
      "torch.Size([3, 250, 250]) (48,)\n"
     ]
    },
    {
     "name": "stderr",
     "output_type": "stream",
     "text": [
      "Train Epoch 0:  57%|█████████████████████▏               | 961/1678 [03:05<02:18,  5.16batch/s, train_loss=-1.15e+4]"
     ]
    },
    {
     "name": "stdout",
     "output_type": "stream",
     "text": [
      "torch.Size([3, 250, 250])\n",
      "torch.Size([3, 250, 250]) (48,)\n",
      "torch.Size([3, 250, 250])\n",
      "torch.Size([3, 250, 250]) (48,)\n",
      "torch.Size([3, 250, 250])"
     ]
    },
    {
     "name": "stderr",
     "output_type": "stream",
     "text": [
      "Train Epoch 0:  57%|█████████████████████▏               | 962/1678 [03:06<02:16,  5.24batch/s, train_loss=-1.32e+4]"
     ]
    },
    {
     "name": "stdout",
     "output_type": "stream",
     "text": [
      "\n",
      "torch.Size([3, 250, 250]) (48,)\n",
      "torch.Size([3, 250, 250])\n",
      "torch.Size([3, 250, 250]) (48,)\n",
      "torch.Size([3, 250, 250])"
     ]
    },
    {
     "name": "stderr",
     "output_type": "stream",
     "text": [
      "Train Epoch 0:  57%|█████████████████████▏               | 963/1678 [03:06<02:17,  5.20batch/s, train_loss=-1.28e+4]"
     ]
    },
    {
     "name": "stdout",
     "output_type": "stream",
     "text": [
      "\n",
      "torch.Size([3, 250, 250]) (48,)\n",
      "torch.Size([3, 250, 250])\n",
      "torch.Size([3, 250, 250]) (48,)\n"
     ]
    },
    {
     "name": "stderr",
     "output_type": "stream",
     "text": [
      "Train Epoch 0:  57%|█████████████████████▎               | 964/1678 [03:06<02:18,  5.17batch/s, train_loss=-1.24e+4]"
     ]
    },
    {
     "name": "stdout",
     "output_type": "stream",
     "text": [
      "torch.Size([3, 250, 250])\n",
      "torch.Size([3, 250, 250]) (48,)\n",
      "torch.Size([3, 250, 250])\n",
      "torch.Size([3, 250, 250]) (48,)\n",
      "torch.Size([3, 250, 250])"
     ]
    },
    {
     "name": "stderr",
     "output_type": "stream",
     "text": [
      "Train Epoch 0:  58%|█████████████████████▎               | 965/1678 [03:06<02:16,  5.23batch/s, train_loss=-1.35e+4]"
     ]
    },
    {
     "name": "stdout",
     "output_type": "stream",
     "text": [
      "\n",
      "torch.Size([3, 250, 250]) (48,)\n",
      "torch.Size([3, 250, 250])\n",
      "torch.Size([3, 250, 250]) (48,)\n",
      "torch.Size([3, 250, 250])"
     ]
    },
    {
     "name": "stderr",
     "output_type": "stream",
     "text": [
      "Train Epoch 0:  58%|█████████████████████▎               | 966/1678 [03:06<02:17,  5.18batch/s, train_loss=-1.21e+4]"
     ]
    },
    {
     "name": "stdout",
     "output_type": "stream",
     "text": [
      "\n",
      "torch.Size([3, 250, 250]) (48,)\n",
      "torch.Size([3, 250, 250])\n",
      "torch.Size([3, 250, 250]) (48,)\n",
      "torch.Size([3, 250, 250])"
     ]
    },
    {
     "name": "stderr",
     "output_type": "stream",
     "text": [
      "Train Epoch 0:  58%|█████████████████████▉                | 967/1678 [03:07<02:18,  5.13batch/s, train_loss=-1.3e+4]"
     ]
    },
    {
     "name": "stdout",
     "output_type": "stream",
     "text": [
      "\n",
      "torch.Size([3, 250, 250]) (48,)\n",
      "torch.Size([3, 250, 250])\n",
      "torch.Size([3, 250, 250]) (48,)\n",
      "torch.Size([3, 250, 250])"
     ]
    },
    {
     "name": "stderr",
     "output_type": "stream",
     "text": [
      "Train Epoch 0:  58%|█████████████████████▎               | 968/1678 [03:07<02:16,  5.19batch/s, train_loss=-1.38e+4]"
     ]
    },
    {
     "name": "stdout",
     "output_type": "stream",
     "text": [
      "\n",
      "torch.Size([3, 250, 250]) (48,)\n",
      "torch.Size([3, 250, 250])\n",
      "torch.Size([3, 250, 250]) (48,)\n",
      "torch.Size([3, 250, 250])"
     ]
    },
    {
     "name": "stderr",
     "output_type": "stream",
     "text": [
      "Train Epoch 0:  58%|█████████████████████▎               | 969/1678 [03:07<02:15,  5.22batch/s, train_loss=-1.19e+4]"
     ]
    },
    {
     "name": "stdout",
     "output_type": "stream",
     "text": [
      "\n",
      "torch.Size([3, 250, 250]) (48,)\n",
      "torch.Size([3, 250, 250])\n",
      "torch.Size([3, 250, 250]) (48,)\n",
      "torch.Size([3, 250, 250])"
     ]
    },
    {
     "name": "stderr",
     "output_type": "stream",
     "text": [
      "Train Epoch 0:  58%|█████████████████████▍               | 970/1678 [03:07<02:15,  5.23batch/s, train_loss=-1.23e+4]"
     ]
    },
    {
     "name": "stdout",
     "output_type": "stream",
     "text": [
      "\n",
      "torch.Size([3, 250, 250]) (48,)\n",
      "torch.Size([3, 250, 250])\n",
      "torch.Size([3, 250, 250]) (48,)\n",
      "torch.Size([3, 250, 250])"
     ]
    },
    {
     "name": "stderr",
     "output_type": "stream",
     "text": [
      "Train Epoch 0:  58%|█████████████████████▍               | 971/1678 [03:07<02:13,  5.29batch/s, train_loss=-1.34e+4]"
     ]
    },
    {
     "name": "stdout",
     "output_type": "stream",
     "text": [
      "\n",
      "torch.Size([3, 250, 250]) (48,)\n",
      "torch.Size([3, 250, 250])\n",
      "torch.Size([3, 250, 250]) (48,)\n",
      "torch.Size([3, 250, 250])"
     ]
    },
    {
     "name": "stderr",
     "output_type": "stream",
     "text": [
      "Train Epoch 0:  58%|█████████████████████▍               | 972/1678 [03:07<02:14,  5.23batch/s, train_loss=-1.27e+4]"
     ]
    },
    {
     "name": "stdout",
     "output_type": "stream",
     "text": [
      "\n",
      "torch.Size([3, 250, 250]) (48,)\n",
      "torch.Size([3, 250, 250])\n",
      "torch.Size([3, 250, 250]) (48,)\n"
     ]
    },
    {
     "name": "stderr",
     "output_type": "stream",
     "text": [
      "Train Epoch 0:  58%|█████████████████████▍               | 973/1678 [03:08<02:16,  5.17batch/s, train_loss=-1.17e+4]"
     ]
    },
    {
     "name": "stdout",
     "output_type": "stream",
     "text": [
      "torch.Size([3, 250, 250])\n",
      "torch.Size([3, 250, 250]) (48,)\n",
      "torch.Size([3, 250, 250])\n",
      "torch.Size([3, 250, 250]) (48,)\n"
     ]
    },
    {
     "name": "stderr",
     "output_type": "stream",
     "text": [
      "Train Epoch 0:  58%|█████████████████████▍               | 974/1678 [03:08<02:18,  5.08batch/s, train_loss=-1.27e+4]"
     ]
    },
    {
     "name": "stdout",
     "output_type": "stream",
     "text": [
      "torch.Size([3, 250, 250])\n",
      "torch.Size([3, 250, 250]) (48,)\n",
      "torch.Size([3, 250, 250])\n",
      "torch.Size([3, 250, 250]) (48,)\n"
     ]
    },
    {
     "name": "stderr",
     "output_type": "stream",
     "text": [
      "Train Epoch 0:  58%|█████████████████████▍               | 975/1678 [03:08<02:20,  5.00batch/s, train_loss=-1.34e+4]"
     ]
    },
    {
     "name": "stdout",
     "output_type": "stream",
     "text": [
      "torch.Size([3, 250, 250])\n",
      "torch.Size([3, 250, 250]) (48,)\n",
      "torch.Size([3, 250, 250])\n",
      "torch.Size([3, 250, 250]) (48,)\n",
      "torch.Size([3, 250, 250])"
     ]
    },
    {
     "name": "stderr",
     "output_type": "stream",
     "text": [
      "Train Epoch 0:  58%|█████████████████████▌               | 976/1678 [03:08<02:19,  5.02batch/s, train_loss=-1.32e+4]"
     ]
    },
    {
     "name": "stdout",
     "output_type": "stream",
     "text": [
      "\n",
      "torch.Size([3, 250, 250]) (48,)\n",
      "torch.Size([3, 250, 250])\n",
      "torch.Size([3, 250, 250]) (48,)\n",
      "torch.Size([3, 250, 250])"
     ]
    },
    {
     "name": "stderr",
     "output_type": "stream",
     "text": [
      "Train Epoch 0:  58%|█████████████████████▌               | 977/1678 [03:08<02:18,  5.07batch/s, train_loss=-1.35e+4]"
     ]
    },
    {
     "name": "stdout",
     "output_type": "stream",
     "text": [
      "\n",
      "torch.Size([3, 250, 250]) (48,)\n",
      "torch.Size([3, 250, 250])\n",
      "torch.Size([3, 250, 250]) (48,)\n",
      "torch.Size([3, 250, 250])"
     ]
    },
    {
     "name": "stderr",
     "output_type": "stream",
     "text": [
      "Train Epoch 0:  58%|█████████████████████▌               | 978/1678 [03:09<02:16,  5.13batch/s, train_loss=-1.25e+4]"
     ]
    },
    {
     "name": "stdout",
     "output_type": "stream",
     "text": [
      "\n",
      "torch.Size([3, 250, 250]) (48,)\n",
      "torch.Size([3, 250, 250])\n",
      "torch.Size([3, 250, 250]) (48,)\n",
      "torch.Size([3, 250, 250])"
     ]
    },
    {
     "name": "stderr",
     "output_type": "stream",
     "text": [
      "Train Epoch 0:  58%|█████████████████████▌               | 979/1678 [03:09<02:16,  5.10batch/s, train_loss=-1.21e+4]"
     ]
    },
    {
     "name": "stdout",
     "output_type": "stream",
     "text": [
      "\n",
      "torch.Size([3, 250, 250]) (48,)\n",
      "torch.Size([3, 250, 250])\n",
      "torch.Size([3, 250, 250]) (48,)\n",
      "torch.Size([3, 250, 250])"
     ]
    },
    {
     "name": "stderr",
     "output_type": "stream",
     "text": [
      "Train Epoch 0:  58%|█████████████████████▌               | 980/1678 [03:09<02:15,  5.16batch/s, train_loss=-1.41e+4]"
     ]
    },
    {
     "name": "stdout",
     "output_type": "stream",
     "text": [
      "\n",
      "torch.Size([3, 250, 250]) (48,)\n",
      "torch.Size([3, 250, 250])\n",
      "torch.Size([3, 250, 250]) (48,)\n",
      "torch.Size([3, 250, 250])"
     ]
    },
    {
     "name": "stderr",
     "output_type": "stream",
     "text": [
      "Train Epoch 0:  58%|█████████████████████▋               | 981/1678 [03:09<02:15,  5.16batch/s, train_loss=-1.18e+4]"
     ]
    },
    {
     "name": "stdout",
     "output_type": "stream",
     "text": [
      "\n",
      "torch.Size([3, 250, 250]) (48,)\n",
      "torch.Size([3, 250, 250])\n",
      "torch.Size([3, 250, 250]) (48,)\n",
      "torch.Size([3, 250, 250])"
     ]
    },
    {
     "name": "stderr",
     "output_type": "stream",
     "text": [
      "Train Epoch 0:  59%|█████████████████████▋               | 982/1678 [03:09<02:15,  5.14batch/s, train_loss=-1.49e+4]"
     ]
    },
    {
     "name": "stdout",
     "output_type": "stream",
     "text": [
      "\n",
      "torch.Size([3, 250, 250]) (48,)\n",
      "torch.Size([3, 250, 250])\n",
      "torch.Size([3, 250, 250]) (48,)\n",
      "torch.Size([3, 250, 250])"
     ]
    },
    {
     "name": "stderr",
     "output_type": "stream",
     "text": [
      "Train Epoch 0:  59%|█████████████████████▋               | 983/1678 [03:10<02:14,  5.19batch/s, train_loss=-1.39e+4]"
     ]
    },
    {
     "name": "stdout",
     "output_type": "stream",
     "text": [
      "\n",
      "torch.Size([3, 250, 250]) (48,)\n",
      "torch.Size([3, 250, 250])\n",
      "torch.Size([3, 250, 250]) (48,)\n",
      "torch.Size([3, 250, 250])"
     ]
    },
    {
     "name": "stderr",
     "output_type": "stream",
     "text": [
      "Train Epoch 0:  59%|██████████████████████▎               | 984/1678 [03:10<02:14,  5.14batch/s, train_loss=-1.3e+4]"
     ]
    },
    {
     "name": "stdout",
     "output_type": "stream",
     "text": [
      "\n",
      "torch.Size([3, 250, 250]) (48,)\n",
      "torch.Size([3, 250, 250])\n",
      "torch.Size([3, 250, 250]) (48,)\n",
      "torch.Size([3, 250, 250])"
     ]
    },
    {
     "name": "stderr",
     "output_type": "stream",
     "text": [
      "Train Epoch 0:  59%|█████████████████████▋               | 985/1678 [03:10<02:16,  5.09batch/s, train_loss=-1.29e+4]"
     ]
    },
    {
     "name": "stdout",
     "output_type": "stream",
     "text": [
      "\n",
      "torch.Size([3, 250, 250]) (48,)\n",
      "torch.Size([3, 250, 250])\n",
      "torch.Size([3, 250, 250]) (48,)\n",
      "torch.Size([3, 250, 250])\n",
      "torch.Size([3, 250, 250]) (48,)\n"
     ]
    },
    {
     "name": "stderr",
     "output_type": "stream",
     "text": [
      "Train Epoch 0:  59%|█████████████████████▋               | 986/1678 [03:10<02:14,  5.15batch/s, train_loss=-1.41e+4]"
     ]
    },
    {
     "name": "stdout",
     "output_type": "stream",
     "text": [
      "torch.Size([3, 250, 250])\n",
      "torch.Size([3, 250, 250]) (48,)\n",
      "torch.Size([3, 250, 250])\n",
      "torch.Size([3, 250, 250]) (48,)\n",
      "torch.Size([3, 250, 250])"
     ]
    },
    {
     "name": "stderr",
     "output_type": "stream",
     "text": [
      "Train Epoch 0:  59%|█████████████████████▊               | 987/1678 [03:10<02:14,  5.15batch/s, train_loss=-1.28e+4]"
     ]
    },
    {
     "name": "stdout",
     "output_type": "stream",
     "text": [
      "\n",
      "torch.Size([3, 250, 250]) (48,)\n",
      "torch.Size([3, 250, 250])\n",
      "torch.Size([3, 250, 250]) (48,)\n",
      "torch.Size([3, 250, 250])"
     ]
    },
    {
     "name": "stderr",
     "output_type": "stream",
     "text": [
      "Train Epoch 0:  59%|█████████████████████▊               | 988/1678 [03:11<02:13,  5.18batch/s, train_loss=-1.31e+4]"
     ]
    },
    {
     "name": "stdout",
     "output_type": "stream",
     "text": [
      "\n",
      "torch.Size([3, 250, 250]) (48,)\n",
      "torch.Size([3, 250, 250])\n",
      "torch.Size([3, 250, 250]) (48,)\n",
      "torch.Size([3, 250, 250])"
     ]
    },
    {
     "name": "stderr",
     "output_type": "stream",
     "text": [
      "Train Epoch 0:  59%|█████████████████████▊               | 989/1678 [03:11<02:13,  5.15batch/s, train_loss=-1.24e+4]"
     ]
    },
    {
     "name": "stdout",
     "output_type": "stream",
     "text": [
      "\n",
      "torch.Size([3, 250, 250]) (48,)\n",
      "torch.Size([3, 250, 250])\n",
      "torch.Size([3, 250, 250]) (48,)\n"
     ]
    },
    {
     "name": "stderr",
     "output_type": "stream",
     "text": [
      "Train Epoch 0:  59%|█████████████████████▊               | 990/1678 [03:11<02:14,  5.12batch/s, train_loss=-1.18e+4]"
     ]
    },
    {
     "name": "stdout",
     "output_type": "stream",
     "text": [
      "torch.Size([3, 250, 250])\n",
      "torch.Size([3, 250, 250]) (48,)\n",
      "torch.Size([3, 250, 250])\n",
      "torch.Size([3, 250, 250]) (48,)\n",
      "torch.Size([3, 250, 250])"
     ]
    },
    {
     "name": "stderr",
     "output_type": "stream",
     "text": [
      "Train Epoch 0:  59%|█████████████████████▊               | 991/1678 [03:11<02:12,  5.18batch/s, train_loss=-1.21e+4]"
     ]
    },
    {
     "name": "stdout",
     "output_type": "stream",
     "text": [
      "\n",
      "torch.Size([3, 250, 250]) (48,)\n",
      "torch.Size([3, 250, 250])\n",
      "torch.Size([3, 250, 250]) (48,)\n",
      "torch.Size([3, 250, 250])"
     ]
    },
    {
     "name": "stderr",
     "output_type": "stream",
     "text": [
      "Train Epoch 0:  59%|█████████████████████▊               | 992/1678 [03:11<02:10,  5.26batch/s, train_loss=-1.25e+4]"
     ]
    },
    {
     "name": "stdout",
     "output_type": "stream",
     "text": [
      "\n",
      "torch.Size([3, 250, 250]) (48,)\n",
      "torch.Size([3, 250, 250])\n",
      "torch.Size([3, 250, 250]) (48,)\n",
      "torch.Size([3, 250, 250])"
     ]
    },
    {
     "name": "stderr",
     "output_type": "stream",
     "text": [
      "Train Epoch 0:  59%|█████████████████████▉               | 993/1678 [03:12<02:11,  5.20batch/s, train_loss=-1.36e+4]"
     ]
    },
    {
     "name": "stdout",
     "output_type": "stream",
     "text": [
      "\n",
      "torch.Size([3, 250, 250]) (48,)\n",
      "torch.Size([3, 250, 250])\n",
      "torch.Size([3, 250, 250]) (48,)\n",
      "torch.Size([3, 250, 250])"
     ]
    },
    {
     "name": "stderr",
     "output_type": "stream",
     "text": [
      "Train Epoch 0:  59%|█████████████████████▉               | 994/1678 [03:12<02:11,  5.21batch/s, train_loss=-1.42e+4]"
     ]
    },
    {
     "name": "stdout",
     "output_type": "stream",
     "text": [
      "\n",
      "torch.Size([3, 250, 250]) (48,)\n",
      "torch.Size([3, 250, 250])\n",
      "torch.Size([3, 250, 250]) (48,)\n"
     ]
    },
    {
     "name": "stderr",
     "output_type": "stream",
     "text": [
      "Train Epoch 0:  59%|█████████████████████▉               | 995/1678 [03:12<02:12,  5.16batch/s, train_loss=-1.36e+4]"
     ]
    },
    {
     "name": "stdout",
     "output_type": "stream",
     "text": [
      "torch.Size([3, 250, 250])\n",
      "torch.Size([3, 250, 250]) (48,)\n",
      "torch.Size([3, 250, 250])\n",
      "torch.Size([3, 250, 250]) (48,)\n",
      "torch.Size([3, 250, 250])"
     ]
    },
    {
     "name": "stderr",
     "output_type": "stream",
     "text": [
      "Train Epoch 0:  59%|█████████████████████▉               | 996/1678 [03:12<02:11,  5.19batch/s, train_loss=-1.29e+4]"
     ]
    },
    {
     "name": "stdout",
     "output_type": "stream",
     "text": [
      "\n",
      "torch.Size([3, 250, 250]) (48,)\n",
      "torch.Size([3, 250, 250])\n",
      "torch.Size([3, 250, 250]) (48,)\n",
      "torch.Size([3, 250, 250])\n",
      "torch.Size([3, 250, 250]) (48,)\n"
     ]
    },
    {
     "name": "stderr",
     "output_type": "stream",
     "text": [
      "Train Epoch 0:  59%|██████████████████████               | 998/1678 [03:13<02:14,  5.06batch/s, train_loss=-1.25e+4]"
     ]
    },
    {
     "name": "stdout",
     "output_type": "stream",
     "text": [
      "torch.Size([3, 250, 250])\n",
      "torch.Size([3, 250, 250]) (48,)\n",
      "torch.Size([3, 250, 250])\n",
      "torch.Size([3, 250, 250]) (48,)\n",
      "torch.Size([3, 250, 250])"
     ]
    },
    {
     "name": "stderr",
     "output_type": "stream",
     "text": [
      "Train Epoch 0:  60%|██████████████████████               | 999/1678 [03:13<02:14,  5.05batch/s, train_loss=-1.26e+4]"
     ]
    },
    {
     "name": "stdout",
     "output_type": "stream",
     "text": [
      "\n",
      "torch.Size([3, 250, 250]) (48,)\n",
      "torch.Size([3, 250, 250])\n",
      "torch.Size([3, 250, 250]) (48,)\n"
     ]
    },
    {
     "name": "stderr",
     "output_type": "stream",
     "text": [
      "Train Epoch 0:  60%|█████████████████████▍              | 1000/1678 [03:13<02:13,  5.06batch/s, train_loss=-1.33e+4]"
     ]
    },
    {
     "name": "stdout",
     "output_type": "stream",
     "text": [
      "torch.Size([3, 250, 250])\n",
      "torch.Size([3, 250, 250]) (48,)\n",
      "torch.Size([3, 250, 250])\n",
      "torch.Size([3, 250, 250]) (48,)\n",
      "torch.Size([3, 250, 250])"
     ]
    },
    {
     "name": "stderr",
     "output_type": "stream",
     "text": [
      "Train Epoch 0:  60%|█████████████████████▍              | 1001/1678 [03:13<02:15,  5.01batch/s, train_loss=-1.23e+4]"
     ]
    },
    {
     "name": "stdout",
     "output_type": "stream",
     "text": [
      "\n",
      "torch.Size([3, 250, 250]) (48,)\n",
      "torch.Size([3, 250, 250])\n",
      "torch.Size([3, 250, 250]) (48,)\n",
      "torch.Size([3, 250, 250])"
     ]
    },
    {
     "name": "stderr",
     "output_type": "stream",
     "text": [
      "Train Epoch 0:  60%|█████████████████████▍              | 1002/1678 [03:13<02:11,  5.13batch/s, train_loss=-1.23e+4]"
     ]
    },
    {
     "name": "stdout",
     "output_type": "stream",
     "text": [
      "\n",
      "torch.Size([3, 250, 250]) (48,)\n",
      "torch.Size([3, 250, 250])\n",
      "torch.Size([3, 250, 250]) (48,)\n",
      "torch.Size([3, 250, 250])"
     ]
    },
    {
     "name": "stderr",
     "output_type": "stream",
     "text": [
      "Train Epoch 0:  60%|█████████████████████▌              | 1003/1678 [03:14<02:11,  5.12batch/s, train_loss=-1.25e+4]"
     ]
    },
    {
     "name": "stdout",
     "output_type": "stream",
     "text": [
      "\n",
      "torch.Size([3, 250, 250]) (48,)\n",
      "torch.Size([3, 250, 250])\n",
      "torch.Size([3, 250, 250]) (48,)\n",
      "torch.Size([3, 250, 250])"
     ]
    },
    {
     "name": "stderr",
     "output_type": "stream",
     "text": [
      "Train Epoch 0:  60%|█████████████████████▌              | 1004/1678 [03:14<02:09,  5.18batch/s, train_loss=-1.29e+4]"
     ]
    },
    {
     "name": "stdout",
     "output_type": "stream",
     "text": [
      "\n",
      "torch.Size([3, 250, 250]) (48,)\n",
      "torch.Size([3, 250, 250])\n",
      "torch.Size([3, 250, 250]) (48,)\n"
     ]
    },
    {
     "name": "stderr",
     "output_type": "stream",
     "text": [
      "Train Epoch 0:  60%|█████████████████████▌              | 1005/1678 [03:14<02:12,  5.07batch/s, train_loss=-1.33e+4]"
     ]
    },
    {
     "name": "stdout",
     "output_type": "stream",
     "text": [
      "torch.Size([3, 250, 250])\n",
      "torch.Size([3, 250, 250]) (48,)\n",
      "torch.Size([3, 250, 250])\n",
      "torch.Size([3, 250, 250]) (48,)\n",
      "torch.Size([3, 250, 250])"
     ]
    },
    {
     "name": "stderr",
     "output_type": "stream",
     "text": [
      "Train Epoch 0:  60%|█████████████████████▌              | 1006/1678 [03:14<02:10,  5.13batch/s, train_loss=-1.33e+4]"
     ]
    },
    {
     "name": "stdout",
     "output_type": "stream",
     "text": [
      "\n",
      "torch.Size([3, 250, 250]) (48,)\n",
      "torch.Size([3, 250, 250])\n",
      "torch.Size([3, 250, 250]) (48,)\n",
      "torch.Size([3, 250, 250])"
     ]
    },
    {
     "name": "stderr",
     "output_type": "stream",
     "text": [
      "Train Epoch 0:  60%|█████████████████████▌              | 1007/1678 [03:14<02:09,  5.18batch/s, train_loss=-1.25e+4]"
     ]
    },
    {
     "name": "stdout",
     "output_type": "stream",
     "text": [
      "\n",
      "torch.Size([3, 250, 250]) (48,)\n",
      "torch.Size([3, 250, 250])\n",
      "torch.Size([3, 250, 250]) (48,)\n",
      "torch.Size([3, 250, 250])"
     ]
    },
    {
     "name": "stderr",
     "output_type": "stream",
     "text": [
      "Train Epoch 0:  60%|█████████████████████▋              | 1008/1678 [03:14<02:08,  5.20batch/s, train_loss=-1.34e+4]"
     ]
    },
    {
     "name": "stdout",
     "output_type": "stream",
     "text": [
      "\n",
      "torch.Size([3, 250, 250]) (48,)\n",
      "torch.Size([3, 250, 250])\n",
      "torch.Size([3, 250, 250]) (48,)\n",
      "torch.Size([3, 250, 250])"
     ]
    },
    {
     "name": "stderr",
     "output_type": "stream",
     "text": [
      "Train Epoch 0:  60%|█████████████████████▋              | 1009/1678 [03:15<02:09,  5.15batch/s, train_loss=-1.34e+4]"
     ]
    },
    {
     "name": "stdout",
     "output_type": "stream",
     "text": [
      "\n",
      "torch.Size([3, 250, 250]) (48,)\n",
      "torch.Size([3, 250, 250])\n",
      "torch.Size([3, 250, 250]) (48,)\n"
     ]
    },
    {
     "name": "stderr",
     "output_type": "stream",
     "text": [
      "Train Epoch 0:  60%|█████████████████████▋              | 1010/1678 [03:15<02:10,  5.11batch/s, train_loss=-1.33e+4]"
     ]
    },
    {
     "name": "stdout",
     "output_type": "stream",
     "text": [
      "torch.Size([3, 250, 250])\n",
      "torch.Size([3, 250, 250]) (48,)\n",
      "torch.Size([3, 250, 250])\n",
      "torch.Size([3, 250, 250]) (48,)\n",
      "torch.Size([3, 250, 250])"
     ]
    },
    {
     "name": "stderr",
     "output_type": "stream",
     "text": [
      "Train Epoch 0:  60%|█████████████████████▋              | 1011/1678 [03:15<02:09,  5.16batch/s, train_loss=-1.41e+4]"
     ]
    },
    {
     "name": "stdout",
     "output_type": "stream",
     "text": [
      "\n",
      "torch.Size([3, 250, 250]) (48,)\n",
      "torch.Size([3, 250, 250])\n",
      "torch.Size([3, 250, 250]) (48,)\n",
      "torch.Size([3, 250, 250])"
     ]
    },
    {
     "name": "stderr",
     "output_type": "stream",
     "text": [
      "Train Epoch 0:  60%|█████████████████████▋              | 1012/1678 [03:15<02:07,  5.21batch/s, train_loss=-1.33e+4]"
     ]
    },
    {
     "name": "stdout",
     "output_type": "stream",
     "text": [
      "\n",
      "torch.Size([3, 250, 250]) (48,)\n",
      "torch.Size([3, 250, 250])\n",
      "torch.Size([3, 250, 250]) (48,)\n",
      "torch.Size([3, 250, 250])"
     ]
    },
    {
     "name": "stderr",
     "output_type": "stream",
     "text": [
      "Train Epoch 0:  60%|█████████████████████▋              | 1013/1678 [03:15<02:08,  5.18batch/s, train_loss=-1.33e+4]"
     ]
    },
    {
     "name": "stdout",
     "output_type": "stream",
     "text": [
      "\n",
      "torch.Size([3, 250, 250]) (48,)\n",
      "torch.Size([3, 250, 250])\n",
      "torch.Size([3, 250, 250]) (48,)\n",
      "torch.Size([3, 250, 250])"
     ]
    },
    {
     "name": "stderr",
     "output_type": "stream",
     "text": [
      "Train Epoch 0:  60%|█████████████████████▊              | 1014/1678 [03:16<02:07,  5.21batch/s, train_loss=-1.44e+4]"
     ]
    },
    {
     "name": "stdout",
     "output_type": "stream",
     "text": [
      "\n",
      "torch.Size([3, 250, 250]) (48,)\n",
      "torch.Size([3, 250, 250])\n",
      "torch.Size([3, 250, 250]) (48,)\n",
      "torch.Size([3, 250, 250])\n"
     ]
    },
    {
     "name": "stderr",
     "output_type": "stream",
     "text": [
      "Train Epoch 0:  60%|█████████████████████▊              | 1015/1678 [03:16<02:06,  5.24batch/s, train_loss=-1.39e+4]"
     ]
    },
    {
     "name": "stdout",
     "output_type": "stream",
     "text": [
      "torch.Size([3, 250, 250]) (48,)\n",
      "torch.Size([3, 250, 250])\n",
      "torch.Size([3, 250, 250]) (48,)\n",
      "torch.Size([3, 250, 250])"
     ]
    },
    {
     "name": "stderr",
     "output_type": "stream",
     "text": [
      "Train Epoch 0:  61%|█████████████████████▊              | 1016/1678 [03:16<02:06,  5.23batch/s, train_loss=-1.15e+4]"
     ]
    },
    {
     "name": "stdout",
     "output_type": "stream",
     "text": [
      "\n",
      "torch.Size([3, 250, 250]) (48,)\n",
      "torch.Size([3, 250, 250])\n",
      "torch.Size([3, 250, 250]) (48,)\n",
      "torch.Size([3, 250, 250])"
     ]
    },
    {
     "name": "stderr",
     "output_type": "stream",
     "text": [
      "Train Epoch 0:  61%|█████████████████████▊              | 1017/1678 [03:16<02:07,  5.17batch/s, train_loss=-1.25e+4]"
     ]
    },
    {
     "name": "stdout",
     "output_type": "stream",
     "text": [
      "\n",
      "torch.Size([3, 250, 250]) (48,)\n",
      "torch.Size([3, 250, 250])\n",
      "torch.Size([3, 250, 250]) (48,)\n"
     ]
    },
    {
     "name": "stderr",
     "output_type": "stream",
     "text": [
      "Train Epoch 0:  61%|█████████████████████▊              | 1018/1678 [03:16<02:08,  5.12batch/s, train_loss=-1.31e+4]"
     ]
    },
    {
     "name": "stdout",
     "output_type": "stream",
     "text": [
      "torch.Size([3, 250, 250])\n",
      "torch.Size([3, 250, 250]) (48,)\n",
      "torch.Size([3, 250, 250])\n",
      "torch.Size([3, 250, 250]) (48,)\n",
      "torch.Size([3, 250, 250])"
     ]
    },
    {
     "name": "stderr",
     "output_type": "stream",
     "text": [
      "Train Epoch 0:  61%|█████████████████████▊              | 1019/1678 [03:17<02:07,  5.17batch/s, train_loss=-1.37e+4]"
     ]
    },
    {
     "name": "stdout",
     "output_type": "stream",
     "text": [
      "\n",
      "torch.Size([3, 250, 250]) (48,)\n",
      "torch.Size([3, 250, 250])\n",
      "torch.Size([3, 250, 250]) (48,)\n"
     ]
    },
    {
     "name": "stderr",
     "output_type": "stream",
     "text": [
      "Train Epoch 0:  61%|█████████████████████▉              | 1020/1678 [03:17<02:10,  5.05batch/s, train_loss=-1.31e+4]"
     ]
    },
    {
     "name": "stdout",
     "output_type": "stream",
     "text": [
      "torch.Size([3, 250, 250])\n",
      "torch.Size([3, 250, 250]) (48,)\n",
      "torch.Size([3, 250, 250])\n",
      "torch.Size([3, 250, 250]) (48,)\n",
      "torch.Size([3, 250, 250])"
     ]
    },
    {
     "name": "stderr",
     "output_type": "stream",
     "text": [
      "Train Epoch 0:  61%|█████████████████████▉              | 1021/1678 [03:17<02:08,  5.12batch/s, train_loss=-1.27e+4]"
     ]
    },
    {
     "name": "stdout",
     "output_type": "stream",
     "text": [
      "\n",
      "torch.Size([3, 250, 250]) (48,)\n",
      "torch.Size([3, 250, 250])\n",
      "torch.Size([3, 250, 250]) (48,)\n",
      "torch.Size([3, 250, 250])"
     ]
    },
    {
     "name": "stderr",
     "output_type": "stream",
     "text": [
      "Train Epoch 0:  61%|█████████████████████▉              | 1022/1678 [03:17<02:06,  5.20batch/s, train_loss=-1.11e+4]"
     ]
    },
    {
     "name": "stdout",
     "output_type": "stream",
     "text": [
      "\n",
      "torch.Size([3, 250, 250]) (48,)\n",
      "torch.Size([3, 250, 250])\n",
      "torch.Size([3, 250, 250]) (48,)\n",
      "torch.Size([3, 250, 250])\n",
      "torch.Size([3, 250, 250]) (48,)\n",
      "torch.Size([3, 250, 250])"
     ]
    },
    {
     "name": "stderr",
     "output_type": "stream",
     "text": [
      "Train Epoch 0:  61%|█████████████████████▉              | 1023/1678 [03:17<02:04,  5.27batch/s, train_loss=-1.13e+4]"
     ]
    },
    {
     "name": "stdout",
     "output_type": "stream",
     "text": [
      "\n",
      "torch.Size([3, 250, 250]) (48,)\n",
      "torch.Size([3, 250, 250])\n",
      "torch.Size([3, 250, 250]) (48,)\n",
      "torch.Size([3, 250, 250])"
     ]
    },
    {
     "name": "stderr",
     "output_type": "stream",
     "text": [
      "Train Epoch 0:  61%|█████████████████████▉              | 1024/1678 [03:18<02:04,  5.27batch/s, train_loss=-1.23e+4]"
     ]
    },
    {
     "name": "stdout",
     "output_type": "stream",
     "text": [
      "\n",
      "torch.Size([3, 250, 250]) (48,)\n",
      "torch.Size([3, 250, 250])\n",
      "torch.Size([3, 250, 250]) (48,)\n",
      "torch.Size([3, 250, 250])"
     ]
    },
    {
     "name": "stderr",
     "output_type": "stream",
     "text": [
      "Train Epoch 0:  61%|█████████████████████▉              | 1025/1678 [03:18<02:03,  5.28batch/s, train_loss=-1.05e+4]"
     ]
    },
    {
     "name": "stdout",
     "output_type": "stream",
     "text": [
      "\n",
      "torch.Size([3, 250, 250]) (48,)\n",
      "torch.Size([3, 250, 250])\n",
      "torch.Size([3, 250, 250]) (48,)\n",
      "torch.Size([3, 250, 250])"
     ]
    },
    {
     "name": "stderr",
     "output_type": "stream",
     "text": [
      "Train Epoch 0:  61%|██████████████████████              | 1026/1678 [03:18<02:03,  5.27batch/s, train_loss=-1.33e+4]"
     ]
    },
    {
     "name": "stdout",
     "output_type": "stream",
     "text": [
      "\n",
      "torch.Size([3, 250, 250]) (48,)\n",
      "torch.Size([3, 250, 250])\n",
      "torch.Size([3, 250, 250]) (48,)\n",
      "torch.Size([3, 250, 250])"
     ]
    },
    {
     "name": "stderr",
     "output_type": "stream",
     "text": [
      "Train Epoch 0:  61%|██████████████████████              | 1027/1678 [03:18<02:03,  5.27batch/s, train_loss=-1.36e+4]"
     ]
    },
    {
     "name": "stdout",
     "output_type": "stream",
     "text": [
      "\n",
      "torch.Size([3, 250, 250]) (48,)\n",
      "torch.Size([3, 250, 250])\n",
      "torch.Size([3, 250, 250]) (48,)\n",
      "torch.Size([3, 250, 250])"
     ]
    },
    {
     "name": "stderr",
     "output_type": "stream",
     "text": [
      "Train Epoch 0:  61%|██████████████████████              | 1028/1678 [03:18<02:03,  5.27batch/s, train_loss=-1.14e+4]"
     ]
    },
    {
     "name": "stdout",
     "output_type": "stream",
     "text": [
      "\n",
      "torch.Size([3, 250, 250]) (48,)\n",
      "torch.Size([3, 250, 250])\n",
      "torch.Size([3, 250, 250]) (48,)\n",
      "torch.Size([3, 250, 250])"
     ]
    },
    {
     "name": "stderr",
     "output_type": "stream",
     "text": [
      "Train Epoch 0:  61%|██████████████████████              | 1029/1678 [03:19<02:02,  5.28batch/s, train_loss=-1.32e+4]"
     ]
    },
    {
     "name": "stdout",
     "output_type": "stream",
     "text": [
      "\n",
      "torch.Size([3, 250, 250]) (48,)\n",
      "torch.Size([3, 250, 250])\n",
      "torch.Size([3, 250, 250]) (48,)\n",
      "torch.Size([3, 250, 250])"
     ]
    },
    {
     "name": "stderr",
     "output_type": "stream",
     "text": [
      "Train Epoch 0:  61%|██████████████████████              | 1030/1678 [03:19<02:02,  5.28batch/s, train_loss=-1.24e+4]"
     ]
    },
    {
     "name": "stdout",
     "output_type": "stream",
     "text": [
      "\n",
      "torch.Size([3, 250, 250]) (48,)\n",
      "torch.Size([3, 250, 250])\n",
      "torch.Size([3, 250, 250]) (48,)\n",
      "torch.Size([3, 250, 250])"
     ]
    },
    {
     "name": "stderr",
     "output_type": "stream",
     "text": [
      "Train Epoch 0:  61%|██████████████████████              | 1031/1678 [03:19<02:02,  5.26batch/s, train_loss=-12350.0]"
     ]
    },
    {
     "name": "stdout",
     "output_type": "stream",
     "text": [
      "\n",
      "torch.Size([3, 250, 250]) (48,)\n",
      "torch.Size([3, 250, 250])\n",
      "torch.Size([3, 250, 250]) (48,)\n",
      "torch.Size([3, 250, 250])"
     ]
    },
    {
     "name": "stderr",
     "output_type": "stream",
     "text": [
      "Train Epoch 0:  62%|██████████████████████▏             | 1032/1678 [03:19<02:04,  5.20batch/s, train_loss=-1.45e+4]"
     ]
    },
    {
     "name": "stdout",
     "output_type": "stream",
     "text": [
      "\n",
      "torch.Size([3, 250, 250]) (48,)\n",
      "torch.Size([3, 250, 250])\n",
      "torch.Size([3, 250, 250]) (48,)\n",
      "torch.Size([3, 250, 250])"
     ]
    },
    {
     "name": "stderr",
     "output_type": "stream",
     "text": [
      "Train Epoch 0:  62%|██████████████████████▏             | 1033/1678 [03:19<02:03,  5.23batch/s, train_loss=-1.16e+4]"
     ]
    },
    {
     "name": "stdout",
     "output_type": "stream",
     "text": [
      "\n",
      "torch.Size([3, 250, 250]) (48,)\n",
      "torch.Size([3, 250, 250])\n",
      "torch.Size([3, 250, 250]) (48,)\n",
      "torch.Size([3, 250, 250])"
     ]
    },
    {
     "name": "stderr",
     "output_type": "stream",
     "text": [
      "Train Epoch 0:  62%|██████████████████████▏             | 1034/1678 [03:19<02:04,  5.16batch/s, train_loss=-1.24e+4]"
     ]
    },
    {
     "name": "stdout",
     "output_type": "stream",
     "text": [
      "\n",
      "torch.Size([3, 250, 250]) (48,)\n",
      "torch.Size([3, 250, 250])\n",
      "torch.Size([3, 250, 250]) (48,)\n"
     ]
    },
    {
     "name": "stderr",
     "output_type": "stream",
     "text": [
      "Train Epoch 0:  62%|██████████████████████▊              | 1035/1678 [03:20<02:05,  5.12batch/s, train_loss=-1.4e+4]"
     ]
    },
    {
     "name": "stdout",
     "output_type": "stream",
     "text": [
      "torch.Size([3, 250, 250])\n",
      "torch.Size([3, 250, 250]) (48,)\n",
      "torch.Size([3, 250, 250])\n",
      "torch.Size([3, 250, 250]) (48,)\n",
      "torch.Size([3, 250, 250])"
     ]
    },
    {
     "name": "stderr",
     "output_type": "stream",
     "text": [
      "Train Epoch 0:  62%|██████████████████████▏             | 1036/1678 [03:20<02:04,  5.15batch/s, train_loss=-1.57e+4]"
     ]
    },
    {
     "name": "stdout",
     "output_type": "stream",
     "text": [
      "\n",
      "torch.Size([3, 250, 250]) (48,)\n",
      "torch.Size([3, 250, 250])\n",
      "torch.Size([3, 250, 250]) (48,)\n"
     ]
    },
    {
     "name": "stderr",
     "output_type": "stream",
     "text": [
      "Train Epoch 0:  62%|██████████████████████▏             | 1037/1678 [03:20<02:08,  5.00batch/s, train_loss=-1.37e+4]"
     ]
    },
    {
     "name": "stdout",
     "output_type": "stream",
     "text": [
      "torch.Size([3, 250, 250])\n",
      "torch.Size([3, 250, 250]) (48,)\n",
      "torch.Size([3, 250, 250])"
     ]
    },
    {
     "name": "stderr",
     "output_type": "stream",
     "text": [
      "Train Epoch 0:  62%|██████████████████████▎             | 1038/1678 [03:20<02:06,  5.07batch/s, train_loss=-1.26e+4]"
     ]
    },
    {
     "name": "stdout",
     "output_type": "stream",
     "text": [
      "\n",
      "torch.Size([3, 250, 250]) (48,)\n",
      "torch.Size([3, 250, 250])\n",
      "torch.Size([3, 250, 250]) (48,)\n",
      "torch.Size([3, 250, 250])\n"
     ]
    },
    {
     "name": "stderr",
     "output_type": "stream",
     "text": [
      "Train Epoch 0:  62%|██████████████████████▎             | 1039/1678 [03:20<02:05,  5.10batch/s, train_loss=-1.05e+4]"
     ]
    },
    {
     "name": "stdout",
     "output_type": "stream",
     "text": [
      "torch.Size([3, 250, 250]) (48,)\n",
      "torch.Size([3, 250, 250])\n",
      "torch.Size([3, 250, 250]) (48,)\n",
      "torch.Size([3, 250, 250])"
     ]
    },
    {
     "name": "stderr",
     "output_type": "stream",
     "text": [
      "Train Epoch 0:  62%|██████████████████████▎             | 1040/1678 [03:21<02:06,  5.05batch/s, train_loss=-1.26e+4]"
     ]
    },
    {
     "name": "stdout",
     "output_type": "stream",
     "text": [
      "\n",
      "torch.Size([3, 250, 250]) (48,)\n",
      "torch.Size([3, 250, 250])\n",
      "torch.Size([3, 250, 250]) (48,)\n"
     ]
    },
    {
     "name": "stderr",
     "output_type": "stream",
     "text": [
      "Train Epoch 0:  62%|██████████████████████▎             | 1041/1678 [03:21<02:05,  5.09batch/s, train_loss=-1.39e+4]"
     ]
    },
    {
     "name": "stdout",
     "output_type": "stream",
     "text": [
      "torch.Size([3, 250, 250])\n",
      "torch.Size([3, 250, 250]) (48,)\n",
      "torch.Size([3, 250, 250])\n",
      "torch.Size([3, 250, 250]) (48,)\n",
      "torch.Size([3, 250, 250])"
     ]
    },
    {
     "name": "stderr",
     "output_type": "stream",
     "text": [
      "Train Epoch 0:  62%|██████████████████████▎             | 1042/1678 [03:21<02:04,  5.10batch/s, train_loss=-9.53e+3]"
     ]
    },
    {
     "name": "stdout",
     "output_type": "stream",
     "text": [
      "\n",
      "torch.Size([3, 250, 250]) (48,)\n",
      "torch.Size([3, 250, 250])\n",
      "torch.Size([3, 250, 250]) (48,)\n",
      "torch.Size([3, 250, 250])"
     ]
    },
    {
     "name": "stderr",
     "output_type": "stream",
     "text": [
      "Train Epoch 0:  62%|██████████████████████▍             | 1043/1678 [03:21<02:03,  5.14batch/s, train_loss=-1.23e+4]"
     ]
    },
    {
     "name": "stdout",
     "output_type": "stream",
     "text": [
      "\n",
      "torch.Size([3, 250, 250]) (48,)\n",
      "torch.Size([3, 250, 250])\n",
      "torch.Size([3, 250, 250]) (48,)\n",
      "torch.Size([3, 250, 250])"
     ]
    },
    {
     "name": "stderr",
     "output_type": "stream",
     "text": [
      "Train Epoch 0:  62%|██████████████████████▍             | 1044/1678 [03:21<02:02,  5.16batch/s, train_loss=-1.23e+4]"
     ]
    },
    {
     "name": "stdout",
     "output_type": "stream",
     "text": [
      "\n",
      "torch.Size([3, 250, 250]) (48,)\n",
      "torch.Size([3, 250, 250])\n",
      "torch.Size([3, 250, 250]) (48,)\n"
     ]
    },
    {
     "name": "stderr",
     "output_type": "stream",
     "text": [
      "Train Epoch 0:  62%|███████████████████████              | 1045/1678 [03:22<02:04,  5.09batch/s, train_loss=-1.1e+4]"
     ]
    },
    {
     "name": "stdout",
     "output_type": "stream",
     "text": [
      "torch.Size([3, 250, 250])\n",
      "torch.Size([3, 250, 250]) (48,)\n",
      "torch.Size([3, 250, 250])\n",
      "torch.Size([3, 250, 250]) (48,)\n",
      "torch.Size([3, 250, 250])"
     ]
    },
    {
     "name": "stderr",
     "output_type": "stream",
     "text": [
      "Train Epoch 0:  62%|███████████████████████              | 1046/1678 [03:22<02:03,  5.13batch/s, train_loss=-1.3e+4]"
     ]
    },
    {
     "name": "stdout",
     "output_type": "stream",
     "text": [
      "\n",
      "torch.Size([3, 250, 250]) (48,)\n",
      "torch.Size([3, 250, 250])\n",
      "torch.Size([3, 250, 250]) (48,)\n"
     ]
    },
    {
     "name": "stderr",
     "output_type": "stream",
     "text": [
      "Train Epoch 0:  62%|██████████████████████▍             | 1047/1678 [03:22<02:04,  5.06batch/s, train_loss=-1.36e+4]"
     ]
    },
    {
     "name": "stdout",
     "output_type": "stream",
     "text": [
      "torch.Size([3, 250, 250])\n",
      "torch.Size([3, 250, 250]) (48,)\n",
      "torch.Size([3, 250, 250])\n",
      "torch.Size([3, 250, 250]) (48,)\n",
      "torch.Size([3, 250, 250])"
     ]
    },
    {
     "name": "stderr",
     "output_type": "stream",
     "text": [
      "Train Epoch 0:  62%|██████████████████████▍             | 1048/1678 [03:22<02:03,  5.09batch/s, train_loss=-9.04e+3]"
     ]
    },
    {
     "name": "stdout",
     "output_type": "stream",
     "text": [
      "\n",
      "torch.Size([3, 250, 250]) (48,)\n",
      "torch.Size([3, 250, 250])\n",
      "torch.Size([3, 250, 250]) (48,)\n"
     ]
    },
    {
     "name": "stderr",
     "output_type": "stream",
     "text": [
      "Train Epoch 0:  63%|██████████████████████▌             | 1049/1678 [03:22<02:04,  5.04batch/s, train_loss=-1.24e+4]"
     ]
    },
    {
     "name": "stdout",
     "output_type": "stream",
     "text": [
      "torch.Size([3, 250, 250])\n",
      "torch.Size([3, 250, 250]) (48,)\n",
      "torch.Size([3, 250, 250])\n",
      "torch.Size([3, 250, 250]) (48,)\n",
      "torch.Size([3, 250, 250])"
     ]
    },
    {
     "name": "stderr",
     "output_type": "stream",
     "text": [
      "Train Epoch 0:  63%|██████████████████████▌             | 1050/1678 [03:23<02:07,  4.91batch/s, train_loss=-1.28e+4]"
     ]
    },
    {
     "name": "stdout",
     "output_type": "stream",
     "text": [
      "\n",
      "torch.Size([3, 250, 250]) (48,)\n",
      "torch.Size([3, 250, 250])\n",
      "torch.Size([3, 250, 250]) (48,)\n",
      "torch.Size([3, 250, 250])"
     ]
    },
    {
     "name": "stderr",
     "output_type": "stream",
     "text": [
      "Train Epoch 0:  63%|██████████████████████▌             | 1051/1678 [03:23<02:06,  4.98batch/s, train_loss=-1.43e+4]"
     ]
    },
    {
     "name": "stdout",
     "output_type": "stream",
     "text": [
      "\n",
      "torch.Size([3, 250, 250]) (48,)\n",
      "torch.Size([3, 250, 250])\n",
      "torch.Size([3, 250, 250]) (48,)\n",
      "torch.Size([3, 250, 250])"
     ]
    },
    {
     "name": "stderr",
     "output_type": "stream",
     "text": [
      "Train Epoch 0:  63%|██████████████████████▌             | 1052/1678 [03:23<02:04,  5.02batch/s, train_loss=-1.38e+4]"
     ]
    },
    {
     "name": "stdout",
     "output_type": "stream",
     "text": [
      "\n",
      "torch.Size([3, 250, 250]) (48,)\n",
      "torch.Size([3, 250, 250])\n",
      "torch.Size([3, 250, 250]) (48,)\n",
      "torch.Size([3, 250, 250])"
     ]
    },
    {
     "name": "stderr",
     "output_type": "stream",
     "text": [
      "Train Epoch 0:  63%|██████████████████████▌             | 1053/1678 [03:23<02:04,  5.03batch/s, train_loss=-1.09e+4]"
     ]
    },
    {
     "name": "stdout",
     "output_type": "stream",
     "text": [
      "\n",
      "torch.Size([3, 250, 250]) (48,)\n",
      "torch.Size([3, 250, 250])\n",
      "torch.Size([3, 250, 250]) (48,)\n",
      "torch.Size([3, 250, 250])"
     ]
    },
    {
     "name": "stderr",
     "output_type": "stream",
     "text": [
      "Train Epoch 0:  63%|██████████████████████▌             | 1054/1678 [03:23<02:02,  5.09batch/s, train_loss=-1.08e+4]"
     ]
    },
    {
     "name": "stdout",
     "output_type": "stream",
     "text": [
      "\n",
      "torch.Size([3, 250, 250]) (48,)\n",
      "torch.Size([3, 250, 250])\n",
      "torch.Size([3, 250, 250]) (48,)\n",
      "torch.Size([3, 250, 250])"
     ]
    },
    {
     "name": "stderr",
     "output_type": "stream",
     "text": [
      "Train Epoch 0:  63%|██████████████████████▋             | 1055/1678 [03:24<02:03,  5.04batch/s, train_loss=-9.43e+3]"
     ]
    },
    {
     "name": "stdout",
     "output_type": "stream",
     "text": [
      "\n",
      "torch.Size([3, 250, 250]) (48,)\n",
      "torch.Size([3, 250, 250])\n",
      "torch.Size([3, 250, 250]) (48,)\n",
      "torch.Size([3, 250, 250])"
     ]
    },
    {
     "name": "stderr",
     "output_type": "stream",
     "text": [
      "Train Epoch 0:  63%|██████████████████████▋             | 1056/1678 [03:24<02:02,  5.07batch/s, train_loss=-1.01e+4]"
     ]
    },
    {
     "name": "stdout",
     "output_type": "stream",
     "text": [
      "\n",
      "torch.Size([3, 250, 250]) (48,)\n",
      "torch.Size([3, 250, 250])\n",
      "torch.Size([3, 250, 250]) (48,)\n"
     ]
    },
    {
     "name": "stderr",
     "output_type": "stream",
     "text": [
      "Train Epoch 0:  63%|██████████████████████▋             | 1057/1678 [03:24<02:03,  5.03batch/s, train_loss=-1.01e+4]"
     ]
    },
    {
     "name": "stdout",
     "output_type": "stream",
     "text": [
      "torch.Size([3, 250, 250])\n",
      "torch.Size([3, 250, 250]) (48,)\n",
      "torch.Size([3, 250, 250])\n",
      "torch.Size([3, 250, 250]) (48,)\n",
      "torch.Size([3, 250, 250])"
     ]
    },
    {
     "name": "stderr",
     "output_type": "stream",
     "text": [
      "Train Epoch 0:  63%|██████████████████████▋             | 1058/1678 [03:24<02:02,  5.06batch/s, train_loss=-1.38e+4]"
     ]
    },
    {
     "name": "stdout",
     "output_type": "stream",
     "text": [
      "\n",
      "torch.Size([3, 250, 250]) (48,)\n",
      "torch.Size([3, 250, 250])\n",
      "torch.Size([3, 250, 250]) (48,)\n",
      "torch.Size([3, 250, 250])"
     ]
    },
    {
     "name": "stderr",
     "output_type": "stream",
     "text": [
      "Train Epoch 0:  63%|██████████████████████▋             | 1059/1678 [03:24<02:01,  5.08batch/s, train_loss=-1.29e+4]"
     ]
    },
    {
     "name": "stdout",
     "output_type": "stream",
     "text": [
      "\n",
      "torch.Size([3, 250, 250]) (48,)\n",
      "torch.Size([3, 250, 250])\n",
      "torch.Size([3, 250, 250]) (48,)\n",
      "torch.Size([3, 250, 250])"
     ]
    },
    {
     "name": "stderr",
     "output_type": "stream",
     "text": [
      "Train Epoch 0:  63%|██████████████████████▋             | 1060/1678 [03:25<02:00,  5.12batch/s, train_loss=-1.36e+4]"
     ]
    },
    {
     "name": "stdout",
     "output_type": "stream",
     "text": [
      "\n",
      "torch.Size([3, 250, 250]) (48,)\n",
      "torch.Size([3, 250, 250])\n",
      "torch.Size([3, 250, 250]) (48,)\n",
      "torch.Size([3, 250, 250])"
     ]
    },
    {
     "name": "stderr",
     "output_type": "stream",
     "text": [
      "Train Epoch 0:  63%|██████████████████████▊             | 1061/1678 [03:25<02:00,  5.14batch/s, train_loss=-1.26e+4]"
     ]
    },
    {
     "name": "stdout",
     "output_type": "stream",
     "text": [
      "\n",
      "torch.Size([3, 250, 250]) (48,)\n",
      "torch.Size([3, 250, 250])\n",
      "torch.Size([3, 250, 250]) (48,)\n",
      "torch.Size([3, 250, 250])"
     ]
    },
    {
     "name": "stderr",
     "output_type": "stream",
     "text": [
      "Train Epoch 0:  63%|██████████████████████▊             | 1062/1678 [03:25<01:59,  5.15batch/s, train_loss=-1.42e+4]"
     ]
    },
    {
     "name": "stdout",
     "output_type": "stream",
     "text": [
      "\n",
      "torch.Size([3, 250, 250]) (48,)\n",
      "torch.Size([3, 250, 250])\n",
      "torch.Size([3, 250, 250]) (48,)\n",
      "torch.Size([3, 250, 250])"
     ]
    },
    {
     "name": "stderr",
     "output_type": "stream",
     "text": [
      "Train Epoch 0:  63%|██████████████████████▊             | 1063/1678 [03:25<02:00,  5.09batch/s, train_loss=-1.42e+4]"
     ]
    },
    {
     "name": "stdout",
     "output_type": "stream",
     "text": [
      "\n",
      "torch.Size([3, 250, 250]) (48,)\n",
      "torch.Size([3, 250, 250])\n",
      "torch.Size([3, 250, 250]) (48,)\n",
      "torch.Size([3, 250, 250])"
     ]
    },
    {
     "name": "stderr",
     "output_type": "stream",
     "text": [
      "Train Epoch 0:  63%|██████████████████████▊             | 1064/1678 [03:25<02:01,  5.06batch/s, train_loss=-1.61e+4]"
     ]
    },
    {
     "name": "stdout",
     "output_type": "stream",
     "text": [
      "\n",
      "torch.Size([3, 250, 250]) (48,)\n",
      "torch.Size([3, 250, 250])\n",
      "torch.Size([3, 250, 250]) (48,)\n"
     ]
    },
    {
     "name": "stderr",
     "output_type": "stream",
     "text": [
      "Train Epoch 0:  63%|██████████████████████▊             | 1065/1678 [03:26<02:02,  5.02batch/s, train_loss=-16156.5]"
     ]
    },
    {
     "name": "stdout",
     "output_type": "stream",
     "text": [
      "torch.Size([3, 250, 250])\n",
      "torch.Size([3, 250, 250]) (48,)\n",
      "torch.Size([3, 250, 250])\n",
      "torch.Size([3, 250, 250]) (48,)\n",
      "torch.Size([3, 250, 250])"
     ]
    },
    {
     "name": "stderr",
     "output_type": "stream",
     "text": [
      "Train Epoch 0:  64%|██████████████████████▊             | 1066/1678 [03:26<02:00,  5.08batch/s, train_loss=-1.32e+4]"
     ]
    },
    {
     "name": "stdout",
     "output_type": "stream",
     "text": [
      "\n",
      "torch.Size([3, 250, 250]) (48,)\n",
      "torch.Size([3, 250, 250])\n",
      "torch.Size([3, 250, 250]) (48,)\n",
      "torch.Size([3, 250, 250])"
     ]
    },
    {
     "name": "stderr",
     "output_type": "stream",
     "text": [
      "Train Epoch 0:  64%|██████████████████████▉             | 1067/1678 [03:26<02:01,  5.02batch/s, train_loss=-1.39e+4]"
     ]
    },
    {
     "name": "stdout",
     "output_type": "stream",
     "text": [
      "\n",
      "torch.Size([3, 250, 250]) (48,)\n",
      "torch.Size([3, 250, 250])\n",
      "torch.Size([3, 250, 250]) (48,)\n",
      "torch.Size([3, 250, 250])"
     ]
    },
    {
     "name": "stderr",
     "output_type": "stream",
     "text": [
      "Train Epoch 0:  64%|███████████████████████▌             | 1068/1678 [03:26<02:01,  5.00batch/s, train_loss=-1.5e+4]"
     ]
    },
    {
     "name": "stdout",
     "output_type": "stream",
     "text": [
      "\n",
      "torch.Size([3, 250, 250]) (48,)\n",
      "torch.Size([3, 250, 250])\n",
      "torch.Size([3, 250, 250]) (48,)\n",
      "torch.Size([3, 250, 250])"
     ]
    },
    {
     "name": "stderr",
     "output_type": "stream",
     "text": [
      "Train Epoch 0:  64%|██████████████████████▉             | 1069/1678 [03:26<02:01,  5.00batch/s, train_loss=-1.39e+4]"
     ]
    },
    {
     "name": "stdout",
     "output_type": "stream",
     "text": [
      "\n",
      "torch.Size([3, 250, 250]) (48,)\n",
      "torch.Size([3, 250, 250])\n",
      "torch.Size([3, 250, 250]) (48,)\n",
      "torch.Size([3, 250, 250])"
     ]
    },
    {
     "name": "stderr",
     "output_type": "stream",
     "text": [
      "Train Epoch 0:  64%|███████████████████████▌             | 1070/1678 [03:27<02:00,  5.05batch/s, train_loss=-1.5e+4]"
     ]
    },
    {
     "name": "stdout",
     "output_type": "stream",
     "text": [
      "\n",
      "torch.Size([3, 250, 250]) (48,)\n",
      "torch.Size([3, 250, 250])\n",
      "torch.Size([3, 250, 250]) (48,)\n",
      "torch.Size([3, 250, 250])"
     ]
    },
    {
     "name": "stderr",
     "output_type": "stream",
     "text": [
      "Train Epoch 0:  64%|██████████████████████▉             | 1071/1678 [03:27<01:59,  5.08batch/s, train_loss=-1.42e+4]"
     ]
    },
    {
     "name": "stdout",
     "output_type": "stream",
     "text": [
      "\n",
      "torch.Size([3, 250, 250]) (48,)\n",
      "torch.Size([3, 250, 250])\n",
      "torch.Size([3, 250, 250]) (48,)\n",
      "torch.Size([3, 250, 250])"
     ]
    },
    {
     "name": "stderr",
     "output_type": "stream",
     "text": [
      "Train Epoch 0:  64%|███████████████████████▋             | 1072/1678 [03:27<01:58,  5.09batch/s, train_loss=-1.1e+4]"
     ]
    },
    {
     "name": "stdout",
     "output_type": "stream",
     "text": [
      "\n",
      "torch.Size([3, 250, 250]) (48,)\n",
      "torch.Size([3, 250, 250])\n",
      "torch.Size([3, 250, 250]) (48,)\n",
      "torch.Size([3, 250, 250])\n",
      "torch.Size([3, 250, 250]) (48,)\n"
     ]
    },
    {
     "name": "stderr",
     "output_type": "stream",
     "text": [
      "Train Epoch 0:  64%|███████████████████████             | 1073/1678 [03:27<01:57,  5.13batch/s, train_loss=-1.26e+4]"
     ]
    },
    {
     "name": "stdout",
     "output_type": "stream",
     "text": [
      "torch.Size([3, 250, 250])\n",
      "torch.Size([3, 250, 250]) (48,)\n",
      "torch.Size([3, 250, 250])\n",
      "torch.Size([3, 250, 250]) (48,)\n",
      "torch.Size([3, 250, 250])"
     ]
    },
    {
     "name": "stderr",
     "output_type": "stream",
     "text": [
      "Train Epoch 0:  64%|███████████████████████             | 1074/1678 [03:27<01:57,  5.14batch/s, train_loss=-1.26e+4]"
     ]
    },
    {
     "name": "stdout",
     "output_type": "stream",
     "text": [
      "\n",
      "torch.Size([3, 250, 250]) (48,)\n",
      "torch.Size([3, 250, 250])\n",
      "torch.Size([3, 250, 250]) (48,)\n",
      "torch.Size([3, 250, 250])"
     ]
    },
    {
     "name": "stderr",
     "output_type": "stream",
     "text": [
      "Train Epoch 0:  64%|███████████████████████             | 1075/1678 [03:28<01:56,  5.17batch/s, train_loss=-1.21e+4]"
     ]
    },
    {
     "name": "stdout",
     "output_type": "stream",
     "text": [
      "\n",
      "torch.Size([3, 250, 250]) (48,)\n",
      "torch.Size([3, 250, 250])\n",
      "torch.Size([3, 250, 250]) (48,)\n",
      "torch.Size([3, 250, 250])"
     ]
    },
    {
     "name": "stderr",
     "output_type": "stream",
     "text": [
      "Train Epoch 0:  64%|███████████████████████             | 1076/1678 [03:28<01:57,  5.11batch/s, train_loss=-1.41e+4]"
     ]
    },
    {
     "name": "stdout",
     "output_type": "stream",
     "text": [
      "\n",
      "torch.Size([3, 250, 250]) (48,)\n",
      "torch.Size([3, 250, 250])\n",
      "torch.Size([3, 250, 250]) (48,)\n",
      "torch.Size([3, 250, 250])"
     ]
    },
    {
     "name": "stderr",
     "output_type": "stream",
     "text": [
      "Train Epoch 0:  64%|███████████████████████             | 1077/1678 [03:28<01:57,  5.13batch/s, train_loss=-8.73e+3]"
     ]
    },
    {
     "name": "stdout",
     "output_type": "stream",
     "text": [
      "\n",
      "torch.Size([3, 250, 250]) (48,)\n",
      "torch.Size([3, 250, 250])\n",
      "torch.Size([3, 250, 250]) (48,)\n",
      "torch.Size([3, 250, 250])"
     ]
    },
    {
     "name": "stderr",
     "output_type": "stream",
     "text": [
      "Train Epoch 0:  64%|███████████████████████▏            | 1078/1678 [03:28<01:56,  5.14batch/s, train_loss=-8.18e+3]"
     ]
    },
    {
     "name": "stdout",
     "output_type": "stream",
     "text": [
      "\n",
      "torch.Size([3, 250, 250]) (48,)\n",
      "torch.Size([3, 250, 250])\n",
      "torch.Size([3, 250, 250]) (48,)\n"
     ]
    },
    {
     "name": "stderr",
     "output_type": "stream",
     "text": [
      "Train Epoch 0:  64%|███████████████████████▏            | 1079/1678 [03:28<01:57,  5.08batch/s, train_loss=-1.46e+4]"
     ]
    },
    {
     "name": "stdout",
     "output_type": "stream",
     "text": [
      "torch.Size([3, 250, 250])\n",
      "torch.Size([3, 250, 250]) (48,)\n",
      "torch.Size([3, 250, 250])\n",
      "torch.Size([3, 250, 250]) (48,)\n",
      "torch.Size([3, 250, 250])"
     ]
    },
    {
     "name": "stderr",
     "output_type": "stream",
     "text": [
      "Train Epoch 0:  64%|███████████████████████▏            | 1080/1678 [03:29<01:58,  5.03batch/s, train_loss=-1.01e+4]"
     ]
    },
    {
     "name": "stdout",
     "output_type": "stream",
     "text": [
      "\n",
      "torch.Size([3, 250, 250]) (48,)\n",
      "torch.Size([3, 250, 250])\n",
      "torch.Size([3, 250, 250]) (48,)\n"
     ]
    },
    {
     "name": "stderr",
     "output_type": "stream",
     "text": [
      "Train Epoch 0:  64%|███████████████████████▏            | 1081/1678 [03:29<01:59,  5.00batch/s, train_loss=-1.65e+4]"
     ]
    },
    {
     "name": "stdout",
     "output_type": "stream",
     "text": [
      "torch.Size([3, 250, 250])\n",
      "torch.Size([3, 250, 250]) (48,)\n",
      "torch.Size([3, 250, 250])\n",
      "torch.Size([3, 250, 250]) (48,)\n"
     ]
    },
    {
     "name": "stderr",
     "output_type": "stream",
     "text": [
      "Train Epoch 0:  64%|███████████████████████▏            | 1082/1678 [03:29<01:59,  4.99batch/s, train_loss=-9.65e+3]"
     ]
    },
    {
     "name": "stdout",
     "output_type": "stream",
     "text": [
      "torch.Size([3, 250, 250])\n",
      "torch.Size([3, 250, 250]) (48,)\n",
      "torch.Size([3, 250, 250])\n",
      "torch.Size([3, 250, 250]) (48,)\n",
      "torch.Size([3, 250, 250])"
     ]
    },
    {
     "name": "stderr",
     "output_type": "stream",
     "text": [
      "Train Epoch 0:  65%|███████████████████████▉             | 1083/1678 [03:29<01:57,  5.06batch/s, train_loss=-1.5e+4]"
     ]
    },
    {
     "name": "stdout",
     "output_type": "stream",
     "text": [
      "\n",
      "torch.Size([3, 250, 250]) (48,)\n",
      "torch.Size([3, 250, 250])\n",
      "torch.Size([3, 250, 250]) (48,)\n",
      "torch.Size([3, 250, 250])"
     ]
    },
    {
     "name": "stderr",
     "output_type": "stream",
     "text": [
      "Train Epoch 0:  65%|███████████████████████▎            | 1084/1678 [03:29<01:55,  5.12batch/s, train_loss=-9.53e+3]"
     ]
    },
    {
     "name": "stdout",
     "output_type": "stream",
     "text": [
      "\n",
      "torch.Size([3, 250, 250]) (48,)\n",
      "torch.Size([3, 250, 250])\n",
      "torch.Size([3, 250, 250]) (48,)\n",
      "torch.Size([3, 250, 250])"
     ]
    },
    {
     "name": "stderr",
     "output_type": "stream",
     "text": [
      "Train Epoch 0:  65%|███████████████████████▎            | 1085/1678 [03:30<01:55,  5.12batch/s, train_loss=-1.06e+4]"
     ]
    },
    {
     "name": "stdout",
     "output_type": "stream",
     "text": [
      "\n",
      "torch.Size([3, 250, 250]) (48,)\n",
      "torch.Size([3, 250, 250])\n",
      "torch.Size([3, 250, 250]) (48,)\n",
      "torch.Size([3, 250, 250])"
     ]
    },
    {
     "name": "stderr",
     "output_type": "stream",
     "text": [
      "Train Epoch 0:  65%|███████████████████████▎            | 1086/1678 [03:30<01:54,  5.16batch/s, train_loss=-9.53e+3]"
     ]
    },
    {
     "name": "stdout",
     "output_type": "stream",
     "text": [
      "\n",
      "torch.Size([3, 250, 250]) (48,)\n",
      "torch.Size([3, 250, 250])\n",
      "torch.Size([3, 250, 250]) (48,)\n",
      "torch.Size([3, 250, 250])"
     ]
    },
    {
     "name": "stderr",
     "output_type": "stream",
     "text": [
      "Train Epoch 0:  65%|███████████████████████▎            | 1087/1678 [03:30<01:53,  5.19batch/s, train_loss=-1.06e+4]"
     ]
    },
    {
     "name": "stdout",
     "output_type": "stream",
     "text": [
      "\n",
      "torch.Size([3, 250, 250]) (48,)\n",
      "torch.Size([3, 250, 250])\n",
      "torch.Size([3, 250, 250]) (48,)\n"
     ]
    },
    {
     "name": "stderr",
     "output_type": "stream",
     "text": [
      "Train Epoch 0:  65%|███████████████████████▎            | 1088/1678 [03:30<01:55,  5.10batch/s, train_loss=-1.06e+4]"
     ]
    },
    {
     "name": "stdout",
     "output_type": "stream",
     "text": [
      "torch.Size([3, 250, 250])\n",
      "torch.Size([3, 250, 250]) (48,)\n",
      "torch.Size([3, 250, 250])\n",
      "torch.Size([3, 250, 250]) (48,)\n",
      "torch.Size([3, 250, 250])"
     ]
    },
    {
     "name": "stderr",
     "output_type": "stream",
     "text": [
      "Train Epoch 0:  65%|███████████████████████▎            | 1089/1678 [03:30<01:55,  5.11batch/s, train_loss=-1.43e+4]"
     ]
    },
    {
     "name": "stdout",
     "output_type": "stream",
     "text": [
      "\n",
      "torch.Size([3, 250, 250]) (48,)\n",
      "torch.Size([3, 250, 250])\n",
      "torch.Size([3, 250, 250]) (48,)\n"
     ]
    },
    {
     "name": "stderr",
     "output_type": "stream",
     "text": [
      "Train Epoch 0:  65%|████████████████████████             | 1090/1678 [03:31<01:55,  5.08batch/s, train_loss=-1.4e+4]"
     ]
    },
    {
     "name": "stdout",
     "output_type": "stream",
     "text": [
      "torch.Size([3, 250, 250])\n",
      "torch.Size([3, 250, 250]) (48,)\n",
      "torch.Size([3, 250, 250])\n",
      "torch.Size([3, 250, 250]) (48,)\n",
      "torch.Size([3, 250, 250])"
     ]
    },
    {
     "name": "stderr",
     "output_type": "stream",
     "text": [
      "Train Epoch 0:  65%|███████████████████████▍            | 1091/1678 [03:31<01:54,  5.14batch/s, train_loss=-1.43e+4]"
     ]
    },
    {
     "name": "stdout",
     "output_type": "stream",
     "text": [
      "\n",
      "torch.Size([3, 250, 250]) (48,)\n",
      "torch.Size([3, 250, 250])\n",
      "torch.Size([3, 250, 250]) (48,)\n",
      "torch.Size([3, 250, 250])"
     ]
    },
    {
     "name": "stderr",
     "output_type": "stream",
     "text": [
      "Train Epoch 0:  65%|███████████████████████▍            | 1092/1678 [03:31<01:53,  5.17batch/s, train_loss=-1.24e+4]"
     ]
    },
    {
     "name": "stdout",
     "output_type": "stream",
     "text": [
      "\n",
      "torch.Size([3, 250, 250]) (48,)\n",
      "torch.Size([3, 250, 250])\n",
      "torch.Size([3, 250, 250]) (48,)\n",
      "torch.Size([3, 250, 250])"
     ]
    },
    {
     "name": "stderr",
     "output_type": "stream",
     "text": [
      "Train Epoch 0:  65%|███████████████████████▍            | 1093/1678 [03:31<01:52,  5.19batch/s, train_loss=-1.25e+4]"
     ]
    },
    {
     "name": "stdout",
     "output_type": "stream",
     "text": [
      "\n",
      "torch.Size([3, 250, 250]) (48,)\n",
      "torch.Size([3, 250, 250])\n",
      "torch.Size([3, 250, 250]) (48,)\n",
      "torch.Size([3, 250, 250])"
     ]
    },
    {
     "name": "stderr",
     "output_type": "stream",
     "text": [
      "Train Epoch 0:  65%|███████████████████████▍            | 1094/1678 [03:31<01:51,  5.22batch/s, train_loss=-1.25e+4]"
     ]
    },
    {
     "name": "stdout",
     "output_type": "stream",
     "text": [
      "\n",
      "torch.Size([3, 250, 250]) (48,)\n",
      "torch.Size([3, 250, 250])\n",
      "torch.Size([3, 250, 250]) (48,)\n",
      "torch.Size([3, 250, 250])"
     ]
    },
    {
     "name": "stderr",
     "output_type": "stream",
     "text": [
      "Train Epoch 0:  65%|███████████████████████▍            | 1095/1678 [03:31<01:51,  5.23batch/s, train_loss=-1.25e+4]"
     ]
    },
    {
     "name": "stdout",
     "output_type": "stream",
     "text": [
      "\n",
      "torch.Size([3, 250, 250]) (48,)\n",
      "torch.Size([3, 250, 250])\n",
      "torch.Size([3, 250, 250]) (48,)\n"
     ]
    },
    {
     "name": "stderr",
     "output_type": "stream",
     "text": [
      "Train Epoch 0:  65%|███████████████████████▌            | 1096/1678 [03:32<01:53,  5.15batch/s, train_loss=-1.28e+4]"
     ]
    },
    {
     "name": "stdout",
     "output_type": "stream",
     "text": [
      "torch.Size([3, 250, 250])\n",
      "torch.Size([3, 250, 250]) (48,)\n",
      "torch.Size([3, 250, 250])\n",
      "torch.Size([3, 250, 250]) (48,)\n",
      "torch.Size([3, 250, 250])"
     ]
    },
    {
     "name": "stderr",
     "output_type": "stream",
     "text": [
      "Train Epoch 0:  65%|████████████████████████▏            | 1097/1678 [03:32<01:52,  5.16batch/s, train_loss=-1.1e+4]"
     ]
    },
    {
     "name": "stdout",
     "output_type": "stream",
     "text": [
      "\n",
      "torch.Size([3, 250, 250]) (48,)\n",
      "torch.Size([3, 250, 250])\n",
      "torch.Size([3, 250, 250]) (48,)\n",
      "torch.Size([3, 250, 250])"
     ]
    },
    {
     "name": "stderr",
     "output_type": "stream",
     "text": [
      "Train Epoch 0:  65%|███████████████████████▌            | 1098/1678 [03:32<01:51,  5.19batch/s, train_loss=-1.38e+4]"
     ]
    },
    {
     "name": "stdout",
     "output_type": "stream",
     "text": [
      "\n",
      "torch.Size([3, 250, 250]) (48,)\n",
      "torch.Size([3, 250, 250])\n",
      "torch.Size([3, 250, 250]) (48,)\n",
      "torch.Size([3, 250, 250])"
     ]
    },
    {
     "name": "stderr",
     "output_type": "stream",
     "text": [
      "Train Epoch 0:  65%|███████████████████████▌            | 1099/1678 [03:32<01:51,  5.19batch/s, train_loss=-1.31e+4]"
     ]
    },
    {
     "name": "stdout",
     "output_type": "stream",
     "text": [
      "\n",
      "torch.Size([3, 250, 250]) (48,)\n",
      "torch.Size([3, 250, 250])\n",
      "torch.Size([3, 250, 250]) (48,)\n"
     ]
    },
    {
     "name": "stderr",
     "output_type": "stream",
     "text": [
      "Train Epoch 0:  66%|████████████████████████▎            | 1100/1678 [03:32<01:52,  5.13batch/s, train_loss=-1.5e+4]"
     ]
    },
    {
     "name": "stdout",
     "output_type": "stream",
     "text": [
      "torch.Size([3, 250, 250])\n",
      "torch.Size([3, 250, 250]) (48,)\n",
      "torch.Size([3, 250, 250])\n",
      "torch.Size([3, 250, 250]) (48,)\n",
      "torch.Size([3, 250, 250])"
     ]
    },
    {
     "name": "stderr",
     "output_type": "stream",
     "text": [
      "Train Epoch 0:  66%|███████████████████████▌            | 1101/1678 [03:33<01:53,  5.07batch/s, train_loss=-1.34e+4]"
     ]
    },
    {
     "name": "stdout",
     "output_type": "stream",
     "text": [
      "\n",
      "torch.Size([3, 250, 250]) (48,)\n",
      "torch.Size([3, 250, 250])\n",
      "torch.Size([3, 250, 250]) (48,)\n"
     ]
    },
    {
     "name": "stderr",
     "output_type": "stream",
     "text": [
      "Train Epoch 0:  66%|███████████████████████▋            | 1102/1678 [03:33<01:54,  5.03batch/s, train_loss=-1.46e+4]"
     ]
    },
    {
     "name": "stdout",
     "output_type": "stream",
     "text": [
      "torch.Size([3, 250, 250])\n",
      "torch.Size([3, 250, 250]) (48,)\n",
      "torch.Size([3, 250, 250])\n",
      "torch.Size([3, 250, 250]) (48,)\n",
      "torch.Size([3, 250, 250])"
     ]
    },
    {
     "name": "stderr",
     "output_type": "stream",
     "text": [
      "Train Epoch 0:  66%|███████████████████████▋            | 1103/1678 [03:33<01:53,  5.07batch/s, train_loss=-1.37e+4]"
     ]
    },
    {
     "name": "stdout",
     "output_type": "stream",
     "text": [
      "\n",
      "torch.Size([3, 250, 250]) (48,)\n",
      "torch.Size([3, 250, 250])\n",
      "torch.Size([3, 250, 250]) (48,)\n",
      "torch.Size([3, 250, 250])"
     ]
    },
    {
     "name": "stderr",
     "output_type": "stream",
     "text": [
      "Train Epoch 0:  66%|███████████████████████▋            | 1104/1678 [03:33<01:53,  5.05batch/s, train_loss=-1.32e+4]"
     ]
    },
    {
     "name": "stdout",
     "output_type": "stream",
     "text": [
      "\n",
      "torch.Size([3, 250, 250]) (48,)\n",
      "torch.Size([3, 250, 250])\n",
      "torch.Size([3, 250, 250]) (48,)\n",
      "torch.Size([3, 250, 250])"
     ]
    },
    {
     "name": "stderr",
     "output_type": "stream",
     "text": [
      "Train Epoch 0:  66%|███████████████████████▋            | 1105/1678 [03:33<01:51,  5.13batch/s, train_loss=-1.35e+4]"
     ]
    },
    {
     "name": "stdout",
     "output_type": "stream",
     "text": [
      "\n",
      "torch.Size([3, 250, 250]) (48,)\n",
      "torch.Size([3, 250, 250])\n",
      "torch.Size([3, 250, 250]) (48,)\n",
      "torch.Size([3, 250, 250])"
     ]
    },
    {
     "name": "stderr",
     "output_type": "stream",
     "text": [
      "Train Epoch 0:  66%|███████████████████████▋            | 1106/1678 [03:34<01:51,  5.13batch/s, train_loss=-1.25e+4]"
     ]
    },
    {
     "name": "stdout",
     "output_type": "stream",
     "text": [
      "\n",
      "torch.Size([3, 250, 250]) (48,)\n",
      "torch.Size([3, 250, 250])\n",
      "torch.Size([3, 250, 250]) (48,)\n",
      "torch.Size([3, 250, 250])"
     ]
    },
    {
     "name": "stderr",
     "output_type": "stream",
     "text": [
      "Train Epoch 0:  66%|███████████████████████▋            | 1107/1678 [03:34<01:50,  5.17batch/s, train_loss=-1.23e+4]"
     ]
    },
    {
     "name": "stdout",
     "output_type": "stream",
     "text": [
      "\n",
      "torch.Size([3, 250, 250]) (48,)\n",
      "torch.Size([3, 250, 250])\n",
      "torch.Size([3, 250, 250]) (48,)\n",
      "torch.Size([3, 250, 250])"
     ]
    },
    {
     "name": "stderr",
     "output_type": "stream",
     "text": [
      "Train Epoch 0:  66%|███████████████████████▊            | 1108/1678 [03:34<01:50,  5.17batch/s, train_loss=-1.21e+4]"
     ]
    },
    {
     "name": "stdout",
     "output_type": "stream",
     "text": [
      "\n",
      "torch.Size([3, 250, 250]) (48,)\n",
      "torch.Size([3, 250, 250])\n",
      "torch.Size([3, 250, 250]) (48,)\n"
     ]
    },
    {
     "name": "stderr",
     "output_type": "stream",
     "text": [
      "Train Epoch 0:  66%|████████████████████████▍            | 1109/1678 [03:34<01:51,  5.10batch/s, train_loss=-1.4e+4]"
     ]
    },
    {
     "name": "stdout",
     "output_type": "stream",
     "text": [
      "torch.Size([3, 250, 250])\n",
      "torch.Size([3, 250, 250]) (48,)\n",
      "torch.Size([3, 250, 250])\n",
      "torch.Size([3, 250, 250]) (48,)\n",
      "torch.Size([3, 250, 250])"
     ]
    },
    {
     "name": "stderr",
     "output_type": "stream",
     "text": [
      "Train Epoch 0:  66%|███████████████████████▊            | 1110/1678 [03:34<01:50,  5.13batch/s, train_loss=-1.17e+4]"
     ]
    },
    {
     "name": "stdout",
     "output_type": "stream",
     "text": [
      "\n",
      "torch.Size([3, 250, 250]) (48,)\n",
      "torch.Size([3, 250, 250])\n",
      "torch.Size([3, 250, 250]) (48,)\n",
      "torch.Size([3, 250, 250])"
     ]
    },
    {
     "name": "stderr",
     "output_type": "stream",
     "text": [
      "Train Epoch 0:  66%|███████████████████████▊            | 1111/1678 [03:35<01:50,  5.15batch/s, train_loss=-1.22e+4]"
     ]
    },
    {
     "name": "stdout",
     "output_type": "stream",
     "text": [
      "\n",
      "torch.Size([3, 250, 250]) (48,)\n",
      "torch.Size([3, 250, 250])\n",
      "torch.Size([3, 250, 250]) (48,)\n",
      "torch.Size([3, 250, 250])"
     ]
    },
    {
     "name": "stderr",
     "output_type": "stream",
     "text": [
      "Train Epoch 0:  66%|███████████████████████▊            | 1112/1678 [03:35<01:49,  5.15batch/s, train_loss=-1.37e+4]"
     ]
    },
    {
     "name": "stdout",
     "output_type": "stream",
     "text": [
      "\n",
      "torch.Size([3, 250, 250]) (48,)\n",
      "torch.Size([3, 250, 250])\n",
      "torch.Size([3, 250, 250]) (48,)\n"
     ]
    },
    {
     "name": "stderr",
     "output_type": "stream",
     "text": [
      "Train Epoch 0:  66%|███████████████████████▉            | 1113/1678 [03:35<01:51,  5.06batch/s, train_loss=-1.26e+4]"
     ]
    },
    {
     "name": "stdout",
     "output_type": "stream",
     "text": [
      "torch.Size([3, 250, 250])\n",
      "torch.Size([3, 250, 250]) (48,)\n",
      "torch.Size([3, 250, 250])\n",
      "torch.Size([3, 250, 250]) (48,)\n",
      "torch.Size([3, 250, 250])"
     ]
    },
    {
     "name": "stderr",
     "output_type": "stream",
     "text": [
      "Train Epoch 0:  66%|███████████████████████▉            | 1114/1678 [03:35<01:50,  5.12batch/s, train_loss=-1.38e+4]"
     ]
    },
    {
     "name": "stdout",
     "output_type": "stream",
     "text": [
      "\n",
      "torch.Size([3, 250, 250]) (48,)\n",
      "torch.Size([3, 250, 250])\n",
      "torch.Size([3, 250, 250]) (48,)\n"
     ]
    },
    {
     "name": "stderr",
     "output_type": "stream",
     "text": [
      "Train Epoch 0:  66%|███████████████████████▉            | 1115/1678 [03:35<01:50,  5.07batch/s, train_loss=-1.15e+4]"
     ]
    },
    {
     "name": "stdout",
     "output_type": "stream",
     "text": [
      "torch.Size([3, 250, 250])\n",
      "torch.Size([3, 250, 250]) (48,)\n",
      "torch.Size([3, 250, 250])\n",
      "torch.Size([3, 250, 250]) (48,)\n",
      "torch.Size([3, 250, 250])"
     ]
    },
    {
     "name": "stderr",
     "output_type": "stream",
     "text": [
      "Train Epoch 0:  67%|███████████████████████▉            | 1116/1678 [03:36<01:49,  5.11batch/s, train_loss=-1.44e+4]"
     ]
    },
    {
     "name": "stdout",
     "output_type": "stream",
     "text": [
      "\n",
      "torch.Size([3, 250, 250]) (48,)\n",
      "torch.Size([3, 250, 250])"
     ]
    },
    {
     "name": "stderr",
     "output_type": "stream",
     "text": [
      "Train Epoch 0:  67%|███████████████████████▉            | 1117/1678 [03:36<01:50,  5.07batch/s, train_loss=-1.47e+4]"
     ]
    },
    {
     "name": "stdout",
     "output_type": "stream",
     "text": [
      "\n",
      "torch.Size([3, 250, 250]) (48,)\n",
      "torch.Size([3, 250, 250])\n",
      "torch.Size([3, 250, 250]) (48,)\n",
      "torch.Size([3, 250, 250])"
     ]
    },
    {
     "name": "stderr",
     "output_type": "stream",
     "text": [
      "Train Epoch 0:  67%|███████████████████████▉            | 1118/1678 [03:36<01:51,  5.03batch/s, train_loss=-1.17e+4]"
     ]
    },
    {
     "name": "stdout",
     "output_type": "stream",
     "text": [
      "\n",
      "torch.Size([3, 250, 250]) (48,)\n",
      "torch.Size([3, 250, 250])\n",
      "torch.Size([3, 250, 250]) (48,)\n"
     ]
    },
    {
     "name": "stderr",
     "output_type": "stream",
     "text": [
      "Train Epoch 0:  67%|████████████████████████▋            | 1119/1678 [03:36<01:52,  4.99batch/s, train_loss=-1.1e+4]"
     ]
    },
    {
     "name": "stdout",
     "output_type": "stream",
     "text": [
      "torch.Size([3, 250, 250])\n",
      "torch.Size([3, 250, 250]) (48,)\n",
      "torch.Size([3, 250, 250])\n",
      "torch.Size([3, 250, 250]) (48,)\n",
      "torch.Size([3, 250, 250])"
     ]
    },
    {
     "name": "stderr",
     "output_type": "stream",
     "text": [
      "Train Epoch 0:  67%|████████████████████████            | 1120/1678 [03:36<01:52,  4.98batch/s, train_loss=-1.04e+4]"
     ]
    },
    {
     "name": "stdout",
     "output_type": "stream",
     "text": [
      "\n",
      "torch.Size([3, 250, 250]) (48,)\n",
      "torch.Size([3, 250, 250])\n",
      "torch.Size([3, 250, 250]) (48,)\n",
      "torch.Size([3, 250, 250])\n"
     ]
    },
    {
     "name": "stderr",
     "output_type": "stream",
     "text": [
      "Train Epoch 0:  67%|████████████████████████            | 1121/1678 [03:37<01:50,  5.03batch/s, train_loss=-1.09e+4]"
     ]
    },
    {
     "name": "stdout",
     "output_type": "stream",
     "text": [
      "torch.Size([3, 250, 250]) (48,)\n",
      "torch.Size([3, 250, 250])\n",
      "torch.Size([3, 250, 250]) (48,)\n",
      "torch.Size([3, 250, 250])"
     ]
    },
    {
     "name": "stderr",
     "output_type": "stream",
     "text": [
      "Train Epoch 0:  67%|████████████████████████            | 1122/1678 [03:37<01:49,  5.07batch/s, train_loss=-1.39e+4]"
     ]
    },
    {
     "name": "stdout",
     "output_type": "stream",
     "text": [
      "\n",
      "torch.Size([3, 250, 250]) (48,)\n",
      "torch.Size([3, 250, 250])\n",
      "torch.Size([3, 250, 250]) (48,)\n",
      "torch.Size([3, 250, 250])"
     ]
    },
    {
     "name": "stderr",
     "output_type": "stream",
     "text": [
      "Train Epoch 0:  67%|████████████████████████            | 1123/1678 [03:37<01:48,  5.10batch/s, train_loss=-1.18e+4]"
     ]
    },
    {
     "name": "stdout",
     "output_type": "stream",
     "text": [
      "\n",
      "torch.Size([3, 250, 250]) (48,)\n",
      "torch.Size([3, 250, 250])\n",
      "torch.Size([3, 250, 250]) (48,)\n",
      "torch.Size([3, 250, 250])"
     ]
    },
    {
     "name": "stderr",
     "output_type": "stream",
     "text": [
      "Train Epoch 0:  67%|████████████████████████            | 1124/1678 [03:37<01:49,  5.06batch/s, train_loss=-1.18e+4]"
     ]
    },
    {
     "name": "stdout",
     "output_type": "stream",
     "text": [
      "\n",
      "torch.Size([3, 250, 250]) (48,)\n",
      "torch.Size([3, 250, 250])\n",
      "torch.Size([3, 250, 250]) (48,)\n",
      "torch.Size([3, 250, 250])"
     ]
    },
    {
     "name": "stderr",
     "output_type": "stream",
     "text": [
      "Train Epoch 0:  67%|████████████████████████▏           | 1125/1678 [03:37<01:47,  5.16batch/s, train_loss=-1.24e+4]"
     ]
    },
    {
     "name": "stdout",
     "output_type": "stream",
     "text": [
      "\n",
      "torch.Size([3, 250, 250]) (48,)\n",
      "torch.Size([3, 250, 250])\n",
      "torch.Size([3, 250, 250]) (48,)\n",
      "torch.Size([3, 250, 250])"
     ]
    },
    {
     "name": "stderr",
     "output_type": "stream",
     "text": [
      "Train Epoch 0:  67%|████████████████████████▊            | 1126/1678 [03:38<01:47,  5.11batch/s, train_loss=-1.3e+4]"
     ]
    },
    {
     "name": "stdout",
     "output_type": "stream",
     "text": [
      "\n",
      "torch.Size([3, 250, 250]) (48,)\n",
      "torch.Size([3, 250, 250])\n",
      "torch.Size([3, 250, 250]) (48,)\n",
      "torch.Size([3, 250, 250])"
     ]
    },
    {
     "name": "stderr",
     "output_type": "stream",
     "text": [
      "Train Epoch 0:  67%|████████████████████████▏           | 1127/1678 [03:38<01:46,  5.18batch/s, train_loss=-1.32e+4]"
     ]
    },
    {
     "name": "stdout",
     "output_type": "stream",
     "text": [
      "\n",
      "torch.Size([3, 250, 250]) (48,)\n",
      "torch.Size([3, 250, 250])\n",
      "torch.Size([3, 250, 250]) (48,)\n",
      "torch.Size([3, 250, 250])"
     ]
    },
    {
     "name": "stderr",
     "output_type": "stream",
     "text": [
      "Train Epoch 0:  67%|████████████████████████▏           | 1128/1678 [03:38<01:46,  5.14batch/s, train_loss=-1.17e+4]"
     ]
    },
    {
     "name": "stdout",
     "output_type": "stream",
     "text": [
      "\n",
      "torch.Size([3, 250, 250]) (48,)\n",
      "torch.Size([3, 250, 250])\n",
      "torch.Size([3, 250, 250]) (48,)\n",
      "torch.Size([3, 250, 250])"
     ]
    },
    {
     "name": "stderr",
     "output_type": "stream",
     "text": [
      "Train Epoch 0:  67%|████████████████████████▏           | 1129/1678 [03:38<01:47,  5.11batch/s, train_loss=-1.33e+4]"
     ]
    },
    {
     "name": "stdout",
     "output_type": "stream",
     "text": [
      "\n",
      "torch.Size([3, 250, 250]) (48,)\n",
      "torch.Size([3, 250, 250])\n",
      "torch.Size([3, 250, 250]) (48,)\n",
      "torch.Size([3, 250, 250])"
     ]
    },
    {
     "name": "stderr",
     "output_type": "stream",
     "text": [
      "Train Epoch 0:  67%|████████████████████████▏           | 1130/1678 [03:38<01:46,  5.14batch/s, train_loss=-1.19e+4]"
     ]
    },
    {
     "name": "stdout",
     "output_type": "stream",
     "text": [
      "\n",
      "torch.Size([3, 250, 250]) (48,)\n",
      "torch.Size([3, 250, 250])\n",
      "torch.Size([3, 250, 250]) (48,)\n"
     ]
    },
    {
     "name": "stderr",
     "output_type": "stream",
     "text": [
      "Train Epoch 0:  67%|████████████████████████▉            | 1131/1678 [03:39<01:46,  5.12batch/s, train_loss=-1.4e+4]"
     ]
    },
    {
     "name": "stdout",
     "output_type": "stream",
     "text": [
      "torch.Size([3, 250, 250])\n",
      "torch.Size([3, 250, 250]) (48,)\n",
      "torch.Size([3, 250, 250])\n",
      "torch.Size([3, 250, 250]) (48,)\n",
      "torch.Size([3, 250, 250])"
     ]
    },
    {
     "name": "stderr",
     "output_type": "stream",
     "text": [
      "Train Epoch 0:  67%|████████████████████████▎           | 1132/1678 [03:39<01:45,  5.17batch/s, train_loss=-1.48e+4]"
     ]
    },
    {
     "name": "stdout",
     "output_type": "stream",
     "text": [
      "\n",
      "torch.Size([3, 250, 250]) (48,)\n",
      "torch.Size([3, 250, 250])\n",
      "torch.Size([3, 250, 250]) (48,)\n",
      "torch.Size([3, 250, 250])"
     ]
    },
    {
     "name": "stderr",
     "output_type": "stream",
     "text": [
      "Train Epoch 0:  68%|████████████████████████▉            | 1133/1678 [03:39<01:44,  5.21batch/s, train_loss=-1.4e+4]"
     ]
    },
    {
     "name": "stdout",
     "output_type": "stream",
     "text": [
      "\n",
      "torch.Size([3, 250, 250]) (48,)\n",
      "torch.Size([3, 250, 250])\n",
      "torch.Size([3, 250, 250]) (48,)\n",
      "torch.Size([3, 250, 250])"
     ]
    },
    {
     "name": "stderr",
     "output_type": "stream",
     "text": [
      "Train Epoch 0:  68%|████████████████████████▎           | 1134/1678 [03:39<01:45,  5.16batch/s, train_loss=-1.51e+4]"
     ]
    },
    {
     "name": "stdout",
     "output_type": "stream",
     "text": [
      "\n",
      "torch.Size([3, 250, 250]) (48,)\n",
      "torch.Size([3, 250, 250])\n",
      "torch.Size([3, 250, 250]) (48,)\n"
     ]
    },
    {
     "name": "stderr",
     "output_type": "stream",
     "text": [
      "Train Epoch 0:  68%|█████████████████████████            | 1135/1678 [03:39<01:46,  5.09batch/s, train_loss=-1.4e+4]"
     ]
    },
    {
     "name": "stdout",
     "output_type": "stream",
     "text": [
      "torch.Size([3, 250, 250])\n",
      "torch.Size([3, 250, 250]) (48,)\n",
      "torch.Size([3, 250, 250])\n",
      "torch.Size([3, 250, 250]) (48,)\n",
      "torch.Size([3, 250, 250])"
     ]
    },
    {
     "name": "stderr",
     "output_type": "stream",
     "text": [
      "Train Epoch 0:  68%|████████████████████████▎           | 1136/1678 [03:39<01:46,  5.09batch/s, train_loss=-1.39e+4]"
     ]
    },
    {
     "name": "stdout",
     "output_type": "stream",
     "text": [
      "\n",
      "torch.Size([3, 250, 250]) (48,)\n",
      "torch.Size([3, 250, 250])\n",
      "torch.Size([3, 250, 250]) (48,)\n",
      "torch.Size([3, 250, 250])"
     ]
    },
    {
     "name": "stderr",
     "output_type": "stream",
     "text": [
      "Train Epoch 0:  68%|████████████████████████▍           | 1137/1678 [03:40<01:46,  5.08batch/s, train_loss=-1.21e+4]"
     ]
    },
    {
     "name": "stdout",
     "output_type": "stream",
     "text": [
      "\n",
      "torch.Size([3, 250, 250]) (48,)\n",
      "torch.Size([3, 250, 250])\n",
      "torch.Size([3, 250, 250]) (48,)\n",
      "torch.Size([3, 250, 250])"
     ]
    },
    {
     "name": "stderr",
     "output_type": "stream",
     "text": [
      "Train Epoch 0:  68%|█████████████████████████            | 1138/1678 [03:40<01:46,  5.07batch/s, train_loss=-1.2e+4]"
     ]
    },
    {
     "name": "stdout",
     "output_type": "stream",
     "text": [
      "\n",
      "torch.Size([3, 250, 250]) (48,)\n",
      "torch.Size([3, 250, 250])\n",
      "torch.Size([3, 250, 250]) (48,)\n",
      "torch.Size([3, 250, 250])"
     ]
    },
    {
     "name": "stderr",
     "output_type": "stream",
     "text": [
      "Train Epoch 0:  68%|████████████████████████▍           | 1139/1678 [03:40<01:46,  5.06batch/s, train_loss=-1.23e+4]"
     ]
    },
    {
     "name": "stdout",
     "output_type": "stream",
     "text": [
      "\n",
      "torch.Size([3, 250, 250]) (48,)\n",
      "torch.Size([3, 250, 250])\n",
      "torch.Size([3, 250, 250]) (48,)\n"
     ]
    },
    {
     "name": "stderr",
     "output_type": "stream",
     "text": [
      "Train Epoch 0:  68%|████████████████████████▍           | 1140/1678 [03:40<01:46,  5.05batch/s, train_loss=-1.38e+4]"
     ]
    },
    {
     "name": "stdout",
     "output_type": "stream",
     "text": [
      "torch.Size([3, 250, 250])\n",
      "torch.Size([3, 250, 250]) (48,)\n",
      "torch.Size([3, 250, 250])\n",
      "torch.Size([3, 250, 250]) (48,)\n",
      "torch.Size([3, 250, 250])"
     ]
    },
    {
     "name": "stderr",
     "output_type": "stream",
     "text": [
      "Train Epoch 0:  68%|█████████████████████████▏           | 1141/1678 [03:40<01:44,  5.12batch/s, train_loss=-1.2e+4]"
     ]
    },
    {
     "name": "stdout",
     "output_type": "stream",
     "text": [
      "\n",
      "torch.Size([3, 250, 250]) (48,)\n",
      "torch.Size([3, 250, 250])\n",
      "torch.Size([3, 250, 250]) (48,)\n",
      "torch.Size([3, 250, 250])"
     ]
    },
    {
     "name": "stderr",
     "output_type": "stream",
     "text": [
      "Train Epoch 0:  68%|████████████████████████▌           | 1142/1678 [03:41<01:46,  5.02batch/s, train_loss=-1.42e+4]"
     ]
    },
    {
     "name": "stdout",
     "output_type": "stream",
     "text": [
      "\n",
      "torch.Size([3, 250, 250]) (48,)\n",
      "torch.Size([3, 250, 250])\n",
      "torch.Size([3, 250, 250]) (48,)\n",
      "torch.Size([3, 250, 250])"
     ]
    },
    {
     "name": "stderr",
     "output_type": "stream",
     "text": [
      "Train Epoch 0:  68%|████████████████████████▌           | 1143/1678 [03:41<01:45,  5.09batch/s, train_loss=-1.12e+4]"
     ]
    },
    {
     "name": "stdout",
     "output_type": "stream",
     "text": [
      "\n",
      "torch.Size([3, 250, 250]) (48,)\n",
      "torch.Size([3, 250, 250])\n",
      "torch.Size([3, 250, 250]) (48,)\n",
      "torch.Size([3, 250, 250])"
     ]
    },
    {
     "name": "stderr",
     "output_type": "stream",
     "text": [
      "Train Epoch 0:  68%|████████████████████████▌           | 1144/1678 [03:41<01:44,  5.13batch/s, train_loss=-1.14e+4]"
     ]
    },
    {
     "name": "stdout",
     "output_type": "stream",
     "text": [
      "\n",
      "torch.Size([3, 250, 250]) (48,)\n",
      "torch.Size([3, 250, 250])\n",
      "torch.Size([3, 250, 250]) (48,)\n",
      "torch.Size([3, 250, 250])"
     ]
    },
    {
     "name": "stderr",
     "output_type": "stream",
     "text": [
      "Train Epoch 0:  68%|████████████████████████▌           | 1145/1678 [03:41<01:42,  5.21batch/s, train_loss=-1.42e+4]"
     ]
    },
    {
     "name": "stdout",
     "output_type": "stream",
     "text": [
      "\n",
      "torch.Size([3, 250, 250]) (48,)\n",
      "torch.Size([3, 250, 250])\n",
      "torch.Size([3, 250, 250]) (48,)\n",
      "torch.Size([3, 250, 250])"
     ]
    },
    {
     "name": "stderr",
     "output_type": "stream",
     "text": [
      "Train Epoch 0:  68%|████████████████████████▌           | 1146/1678 [03:41<01:42,  5.18batch/s, train_loss=-1.22e+4]"
     ]
    },
    {
     "name": "stdout",
     "output_type": "stream",
     "text": [
      "\n",
      "torch.Size([3, 250, 250]) (48,)\n",
      "torch.Size([3, 250, 250])\n",
      "torch.Size([3, 250, 250]) (48,)\n"
     ]
    },
    {
     "name": "stderr",
     "output_type": "stream",
     "text": [
      "Train Epoch 0:  68%|████████████████████████▌           | 1147/1678 [03:42<01:43,  5.11batch/s, train_loss=-1.03e+4]"
     ]
    },
    {
     "name": "stdout",
     "output_type": "stream",
     "text": [
      "torch.Size([3, 250, 250])\n",
      "torch.Size([3, 250, 250]) (48,)\n",
      "torch.Size([3, 250, 250])\n",
      "torch.Size([3, 250, 250]) (48,)\n",
      "torch.Size([3, 250, 250])"
     ]
    },
    {
     "name": "stderr",
     "output_type": "stream",
     "text": [
      "Train Epoch 0:  68%|████████████████████████▋           | 1148/1678 [03:42<01:44,  5.09batch/s, train_loss=-1.16e+4]"
     ]
    },
    {
     "name": "stdout",
     "output_type": "stream",
     "text": [
      "\n",
      "torch.Size([3, 250, 250]) (48,)\n",
      "torch.Size([3, 250, 250])\n",
      "torch.Size([3, 250, 250]) (48,)\n",
      "torch.Size([3, 250, 250])"
     ]
    },
    {
     "name": "stderr",
     "output_type": "stream",
     "text": [
      "Train Epoch 0:  68%|████████████████████████▋           | 1149/1678 [03:42<01:42,  5.14batch/s, train_loss=-1.24e+4]"
     ]
    },
    {
     "name": "stdout",
     "output_type": "stream",
     "text": [
      "\n",
      "torch.Size([3, 250, 250]) (48,)\n",
      "torch.Size([3, 250, 250])\n",
      "torch.Size([3, 250, 250]) (48,)\n",
      "torch.Size([3, 250, 250])"
     ]
    },
    {
     "name": "stderr",
     "output_type": "stream",
     "text": [
      "Train Epoch 0:  69%|████████████████████████▋           | 1150/1678 [03:42<01:41,  5.19batch/s, train_loss=-1.32e+4]"
     ]
    },
    {
     "name": "stdout",
     "output_type": "stream",
     "text": [
      "\n",
      "torch.Size([3, 250, 250]) (48,)\n",
      "torch.Size([3, 250, 250])\n",
      "torch.Size([3, 250, 250]) (48,)\n",
      "torch.Size([3, 250, 250])"
     ]
    },
    {
     "name": "stderr",
     "output_type": "stream",
     "text": [
      "Train Epoch 0:  69%|████████████████████████▋           | 1151/1678 [03:42<01:40,  5.23batch/s, train_loss=-1.23e+4]"
     ]
    },
    {
     "name": "stdout",
     "output_type": "stream",
     "text": [
      "\n",
      "torch.Size([3, 250, 250]) (48,)\n",
      "torch.Size([3, 250, 250])\n",
      "torch.Size([3, 250, 250]) (48,)\n",
      "torch.Size([3, 250, 250])"
     ]
    },
    {
     "name": "stderr",
     "output_type": "stream",
     "text": [
      "Train Epoch 0:  69%|████████████████████████▋           | 1152/1678 [03:43<01:40,  5.25batch/s, train_loss=-1.22e+4]"
     ]
    },
    {
     "name": "stdout",
     "output_type": "stream",
     "text": [
      "\n",
      "torch.Size([3, 250, 250]) (48,)\n",
      "torch.Size([3, 250, 250])\n",
      "torch.Size([3, 250, 250]) (48,)\n",
      "torch.Size([3, 250, 250])"
     ]
    },
    {
     "name": "stderr",
     "output_type": "stream",
     "text": [
      "Train Epoch 0:  69%|████████████████████████▋           | 1153/1678 [03:43<01:41,  5.19batch/s, train_loss=-1.03e+4]"
     ]
    },
    {
     "name": "stdout",
     "output_type": "stream",
     "text": [
      "\n",
      "torch.Size([3, 250, 250]) (48,)\n",
      "torch.Size([3, 250, 250])\n",
      "torch.Size([3, 250, 250]) (48,)\n",
      "torch.Size([3, 250, 250])"
     ]
    },
    {
     "name": "stderr",
     "output_type": "stream",
     "text": [
      "Train Epoch 0:  69%|████████████████████████▊           | 1154/1678 [03:43<01:40,  5.21batch/s, train_loss=-1.29e+4]"
     ]
    },
    {
     "name": "stdout",
     "output_type": "stream",
     "text": [
      "\n",
      "torch.Size([3, 250, 250]) (48,)\n",
      "torch.Size([3, 250, 250])\n",
      "torch.Size([3, 250, 250]) (48,)\n",
      "torch.Size([3, 250, 250])"
     ]
    },
    {
     "name": "stderr",
     "output_type": "stream",
     "text": [
      "Train Epoch 0:  69%|████████████████████████▊           | 1155/1678 [03:43<01:39,  5.27batch/s, train_loss=-1.35e+4]"
     ]
    },
    {
     "name": "stdout",
     "output_type": "stream",
     "text": [
      "\n",
      "torch.Size([3, 250, 250]) (48,)\n",
      "torch.Size([3, 250, 250])\n",
      "torch.Size([3, 250, 250]) (48,)\n",
      "torch.Size([3, 250, 250])"
     ]
    },
    {
     "name": "stderr",
     "output_type": "stream",
     "text": [
      "Train Epoch 0:  69%|████████████████████████▊           | 1156/1678 [03:43<01:39,  5.25batch/s, train_loss=-1.33e+4]"
     ]
    },
    {
     "name": "stdout",
     "output_type": "stream",
     "text": [
      "\n",
      "torch.Size([3, 250, 250]) (48,)\n",
      "torch.Size([3, 250, 250])\n",
      "torch.Size([3, 250, 250]) (48,)\n",
      "torch.Size([3, 250, 250])\n"
     ]
    },
    {
     "name": "stderr",
     "output_type": "stream",
     "text": [
      "Train Epoch 0:  69%|████████████████████████▊           | 1157/1678 [03:44<01:40,  5.20batch/s, train_loss=-1.34e+4]"
     ]
    },
    {
     "name": "stdout",
     "output_type": "stream",
     "text": [
      "torch.Size([3, 250, 250]) (48,)\n",
      "torch.Size([3, 250, 250])\n",
      "torch.Size([3, 250, 250]) (48,)\n",
      "torch.Size([3, 250, 250])"
     ]
    },
    {
     "name": "stderr",
     "output_type": "stream",
     "text": [
      "Train Epoch 0:  69%|████████████████████████▊           | 1158/1678 [03:44<01:39,  5.22batch/s, train_loss=-1.18e+4]"
     ]
    },
    {
     "name": "stdout",
     "output_type": "stream",
     "text": [
      "\n",
      "torch.Size([3, 250, 250]) (48,)\n",
      "torch.Size([3, 250, 250])\n",
      "torch.Size([3, 250, 250]) (48,)\n",
      "torch.Size([3, 250, 250])"
     ]
    },
    {
     "name": "stderr",
     "output_type": "stream",
     "text": [
      "Train Epoch 0:  69%|████████████████████████▊           | 1159/1678 [03:44<01:40,  5.17batch/s, train_loss=-1.25e+4]"
     ]
    },
    {
     "name": "stdout",
     "output_type": "stream",
     "text": [
      "\n",
      "torch.Size([3, 250, 250]) (48,)\n",
      "torch.Size([3, 250, 250])\n",
      "torch.Size([3, 250, 250]) (48,)\n"
     ]
    },
    {
     "name": "stderr",
     "output_type": "stream",
     "text": [
      "Train Epoch 0:  69%|████████████████████████▉           | 1160/1678 [03:44<01:40,  5.14batch/s, train_loss=-1.32e+4]"
     ]
    },
    {
     "name": "stdout",
     "output_type": "stream",
     "text": [
      "torch.Size([3, 250, 250])\n",
      "torch.Size([3, 250, 250]) (48,)\n",
      "torch.Size([3, 250, 250])\n",
      "torch.Size([3, 250, 250]) (48,)\n",
      "torch.Size([3, 250, 250])\n"
     ]
    },
    {
     "name": "stderr",
     "output_type": "stream",
     "text": [
      "Train Epoch 0:  69%|████████████████████████▉           | 1161/1678 [03:44<01:39,  5.19batch/s, train_loss=-1.27e+4]"
     ]
    },
    {
     "name": "stdout",
     "output_type": "stream",
     "text": [
      "torch.Size([3, 250, 250]) (48,)\n",
      "torch.Size([3, 250, 250])\n",
      "torch.Size([3, 250, 250]) (48,)\n",
      "torch.Size([3, 250, 250])"
     ]
    },
    {
     "name": "stderr",
     "output_type": "stream",
     "text": [
      "Train Epoch 0:  69%|████████████████████████▉           | 1162/1678 [03:45<01:40,  5.15batch/s, train_loss=-1.34e+4]"
     ]
    },
    {
     "name": "stdout",
     "output_type": "stream",
     "text": [
      "\n",
      "torch.Size([3, 250, 250]) (48,)\n",
      "torch.Size([3, 250, 250])\n",
      "torch.Size([3, 250, 250]) (48,)\n",
      "torch.Size([3, 250, 250])"
     ]
    },
    {
     "name": "stderr",
     "output_type": "stream",
     "text": [
      "Train Epoch 0:  69%|████████████████████████▉           | 1163/1678 [03:45<01:40,  5.13batch/s, train_loss=-1.27e+4]"
     ]
    },
    {
     "name": "stdout",
     "output_type": "stream",
     "text": [
      "\n",
      "torch.Size([3, 250, 250]) (48,)\n",
      "torch.Size([3, 250, 250])\n",
      "torch.Size([3, 250, 250]) (48,)\n",
      "torch.Size([3, 250, 250])"
     ]
    },
    {
     "name": "stderr",
     "output_type": "stream",
     "text": [
      "Train Epoch 0:  69%|████████████████████████▉           | 1164/1678 [03:45<01:39,  5.17batch/s, train_loss=-1.28e+4]"
     ]
    },
    {
     "name": "stdout",
     "output_type": "stream",
     "text": [
      "\n",
      "torch.Size([3, 250, 250]) (48,)\n",
      "torch.Size([3, 250, 250])\n",
      "torch.Size([3, 250, 250]) (48,)\n"
     ]
    },
    {
     "name": "stderr",
     "output_type": "stream",
     "text": [
      "Train Epoch 0:  69%|████████████████████████▉           | 1165/1678 [03:45<01:39,  5.15batch/s, train_loss=-1.36e+4]"
     ]
    },
    {
     "name": "stdout",
     "output_type": "stream",
     "text": [
      "torch.Size([3, 250, 250])\n",
      "torch.Size([3, 250, 250]) (48,)\n",
      "torch.Size([3, 250, 250])\n",
      "torch.Size([3, 250, 250]) (48,)\n",
      "torch.Size([3, 250, 250])"
     ]
    },
    {
     "name": "stderr",
     "output_type": "stream",
     "text": [
      "Train Epoch 0:  69%|█████████████████████████           | 1166/1678 [03:45<01:37,  5.23batch/s, train_loss=-1.37e+4]"
     ]
    },
    {
     "name": "stdout",
     "output_type": "stream",
     "text": [
      "\n",
      "torch.Size([3, 250, 250]) (48,)\n",
      "torch.Size([3, 250, 250])\n",
      "torch.Size([3, 250, 250]) (48,)\n",
      "torch.Size([3, 250, 250])"
     ]
    },
    {
     "name": "stderr",
     "output_type": "stream",
     "text": [
      "Train Epoch 0:  70%|█████████████████████████▋           | 1167/1678 [03:45<01:37,  5.26batch/s, train_loss=-1.3e+4]"
     ]
    },
    {
     "name": "stdout",
     "output_type": "stream",
     "text": [
      "\n",
      "torch.Size([3, 250, 250]) (48,)\n",
      "torch.Size([3, 250, 250])\n",
      "torch.Size([3, 250, 250]) (48,)\n",
      "torch.Size([3, 250, 250])"
     ]
    },
    {
     "name": "stderr",
     "output_type": "stream",
     "text": [
      "Train Epoch 0:  70%|█████████████████████████           | 1168/1678 [03:46<01:36,  5.27batch/s, train_loss=-1.36e+4]"
     ]
    },
    {
     "name": "stdout",
     "output_type": "stream",
     "text": [
      "\n",
      "torch.Size([3, 250, 250]) (48,)\n",
      "torch.Size([3, 250, 250])\n",
      "torch.Size([3, 250, 250]) (48,)\n",
      "torch.Size([3, 250, 250])"
     ]
    },
    {
     "name": "stderr",
     "output_type": "stream",
     "text": [
      "Train Epoch 0:  70%|█████████████████████████           | 1169/1678 [03:46<01:36,  5.28batch/s, train_loss=-1.33e+4]"
     ]
    },
    {
     "name": "stdout",
     "output_type": "stream",
     "text": [
      "\n",
      "torch.Size([3, 250, 250]) (48,)\n",
      "torch.Size([3, 250, 250])\n",
      "torch.Size([3, 250, 250]) (48,)\n",
      "torch.Size([3, 250, 250])"
     ]
    },
    {
     "name": "stderr",
     "output_type": "stream",
     "text": [
      "Train Epoch 0:  70%|█████████████████████████           | 1170/1678 [03:46<01:37,  5.20batch/s, train_loss=-1.42e+4]"
     ]
    },
    {
     "name": "stdout",
     "output_type": "stream",
     "text": [
      "\n",
      "torch.Size([3, 250, 250]) (48,)\n",
      "torch.Size([3, 250, 250])\n",
      "torch.Size([3, 250, 250]) (48,)\n",
      "torch.Size([3, 250, 250])\n",
      "torch.Size([3, 250, 250]) (48,)\n"
     ]
    },
    {
     "name": "stderr",
     "output_type": "stream",
     "text": [
      "Train Epoch 0:  70%|█████████████████████████           | 1171/1678 [03:46<01:36,  5.23batch/s, train_loss=-1.36e+4]"
     ]
    },
    {
     "name": "stdout",
     "output_type": "stream",
     "text": [
      "torch.Size([3, 250, 250])\n",
      "torch.Size([3, 250, 250]) (48,)\n",
      "torch.Size([3, 250, 250])\n",
      "torch.Size([3, 250, 250]) (48,)\n"
     ]
    },
    {
     "name": "stderr",
     "output_type": "stream",
     "text": [
      "Train Epoch 0:  70%|█████████████████████████▏          | 1172/1678 [03:46<01:39,  5.07batch/s, train_loss=-1.23e+4]"
     ]
    },
    {
     "name": "stdout",
     "output_type": "stream",
     "text": [
      "torch.Size([3, 250, 250])\n",
      "torch.Size([3, 250, 250]) (48,)\n",
      "torch.Size([3, 250, 250])\n",
      "torch.Size([3, 250, 250]) (48,)\n",
      "torch.Size([3, 250, 250])"
     ]
    },
    {
     "name": "stderr",
     "output_type": "stream",
     "text": [
      "Train Epoch 0:  70%|█████████████████████████▊           | 1173/1678 [03:47<01:38,  5.13batch/s, train_loss=-1.4e+4]"
     ]
    },
    {
     "name": "stdout",
     "output_type": "stream",
     "text": [
      "\n",
      "torch.Size([3, 250, 250]) (48,)\n",
      "torch.Size([3, 250, 250])\n",
      "torch.Size([3, 250, 250]) (48,)\n",
      "torch.Size([3, 250, 250])"
     ]
    },
    {
     "name": "stderr",
     "output_type": "stream",
     "text": [
      "Train Epoch 0:  70%|█████████████████████████▏          | 1174/1678 [03:47<01:38,  5.10batch/s, train_loss=-1.22e+4]"
     ]
    },
    {
     "name": "stdout",
     "output_type": "stream",
     "text": [
      "\n",
      "torch.Size([3, 250, 250]) (48,)\n",
      "torch.Size([3, 250, 250])\n",
      "torch.Size([3, 250, 250]) (48,)\n",
      "torch.Size([3, 250, 250])"
     ]
    },
    {
     "name": "stderr",
     "output_type": "stream",
     "text": [
      "Train Epoch 0:  70%|█████████████████████████▏          | 1175/1678 [03:47<01:38,  5.08batch/s, train_loss=-1.36e+4]"
     ]
    },
    {
     "name": "stdout",
     "output_type": "stream",
     "text": [
      "\n",
      "torch.Size([3, 250, 250]) (48,)\n",
      "torch.Size([3, 250, 250])\n",
      "torch.Size([3, 250, 250]) (48,)\n"
     ]
    },
    {
     "name": "stderr",
     "output_type": "stream",
     "text": [
      "Train Epoch 0:  70%|█████████████████████████▏          | 1176/1678 [03:47<01:38,  5.10batch/s, train_loss=-1.45e+4]"
     ]
    },
    {
     "name": "stdout",
     "output_type": "stream",
     "text": [
      "torch.Size([3, 250, 250])\n",
      "torch.Size([3, 250, 250]) (48,)\n",
      "torch.Size([3, 250, 250])\n",
      "torch.Size([3, 250, 250]) (48,)\n",
      "torch.Size([3, 250, 250])"
     ]
    },
    {
     "name": "stderr",
     "output_type": "stream",
     "text": [
      "Train Epoch 0:  70%|█████████████████████████▎          | 1177/1678 [03:47<01:36,  5.18batch/s, train_loss=-1.27e+4]"
     ]
    },
    {
     "name": "stdout",
     "output_type": "stream",
     "text": [
      "\n",
      "torch.Size([3, 250, 250]) (48,)\n",
      "torch.Size([3, 250, 250])\n",
      "torch.Size([3, 250, 250]) (48,)\n",
      "torch.Size([3, 250, 250])"
     ]
    },
    {
     "name": "stderr",
     "output_type": "stream",
     "text": [
      "Train Epoch 0:  70%|█████████████████████████▎          | 1178/1678 [03:48<01:37,  5.14batch/s, train_loss=-1.44e+4]"
     ]
    },
    {
     "name": "stdout",
     "output_type": "stream",
     "text": [
      "\n",
      "torch.Size([3, 250, 250]) (48,)\n",
      "torch.Size([3, 250, 250])\n",
      "torch.Size([3, 250, 250]) (48,)\n",
      "torch.Size([3, 250, 250])"
     ]
    },
    {
     "name": "stderr",
     "output_type": "stream",
     "text": [
      "Train Epoch 0:  70%|█████████████████████████▎          | 1179/1678 [03:48<01:36,  5.19batch/s, train_loss=-1.15e+4]"
     ]
    },
    {
     "name": "stdout",
     "output_type": "stream",
     "text": [
      "\n",
      "torch.Size([3, 250, 250]) (48,)\n",
      "torch.Size([3, 250, 250])\n",
      "torch.Size([3, 250, 250]) (48,)\n"
     ]
    },
    {
     "name": "stderr",
     "output_type": "stream",
     "text": [
      "Train Epoch 0:  70%|█████████████████████████▎          | 1180/1678 [03:48<01:36,  5.17batch/s, train_loss=-1.25e+4]"
     ]
    },
    {
     "name": "stdout",
     "output_type": "stream",
     "text": [
      "torch.Size([3, 250, 250])\n",
      "torch.Size([3, 250, 250]) (48,)\n",
      "torch.Size([3, 250, 250])\n",
      "torch.Size([3, 250, 250]) (48,)\n",
      "torch.Size([3, 250, 250])"
     ]
    },
    {
     "name": "stderr",
     "output_type": "stream",
     "text": [
      "Train Epoch 0:  70%|█████████████████████████▎          | 1181/1678 [03:48<01:36,  5.13batch/s, train_loss=-1.26e+4]"
     ]
    },
    {
     "name": "stdout",
     "output_type": "stream",
     "text": [
      "\n",
      "torch.Size([3, 250, 250]) (48,)\n",
      "torch.Size([3, 250, 250])\n",
      "torch.Size([3, 250, 250]) "
     ]
    },
    {
     "name": "stderr",
     "output_type": "stream",
     "text": [
      "Train Epoch 0:  70%|█████████████████████████▎          | 1182/1678 [03:48<01:37,  5.11batch/s, train_loss=-1.15e+4]"
     ]
    },
    {
     "name": "stdout",
     "output_type": "stream",
     "text": [
      "(48,)\n",
      "torch.Size([3, 250, 250])\n",
      "torch.Size([3, 250, 250]) (48,)\n",
      "torch.Size([3, 250, 250])"
     ]
    },
    {
     "name": "stderr",
     "output_type": "stream",
     "text": [
      "Train Epoch 0:  71%|██████████████████████████           | 1183/1678 [03:49<01:35,  5.17batch/s, train_loss=-1.4e+4]"
     ]
    },
    {
     "name": "stdout",
     "output_type": "stream",
     "text": [
      "\n",
      "torch.Size([3, 250, 250]) (48,)\n",
      "torch.Size([3, 250, 250])\n",
      "torch.Size([3, 250, 250]) (48,)\n",
      "torch.Size([3, 250, 250])"
     ]
    },
    {
     "name": "stderr",
     "output_type": "stream",
     "text": [
      "Train Epoch 0:  71%|█████████████████████████▍          | 1184/1678 [03:49<01:34,  5.21batch/s, train_loss=-1.41e+4]"
     ]
    },
    {
     "name": "stdout",
     "output_type": "stream",
     "text": [
      "\n",
      "torch.Size([3, 250, 250]) (48,)\n",
      "torch.Size([3, 250, 250])\n",
      "torch.Size([3, 250, 250]) (48,)\n",
      "torch.Size([3, 250, 250])"
     ]
    },
    {
     "name": "stderr",
     "output_type": "stream",
     "text": [
      "Train Epoch 0:  71%|█████████████████████████▍          | 1185/1678 [03:49<01:35,  5.15batch/s, train_loss=-1.23e+4]"
     ]
    },
    {
     "name": "stdout",
     "output_type": "stream",
     "text": [
      "\n",
      "torch.Size([3, 250, 250]) (48,)\n",
      "torch.Size([3, 250, 250])\n",
      "torch.Size([3, 250, 250]) (48,)\n"
     ]
    },
    {
     "name": "stderr",
     "output_type": "stream",
     "text": [
      "Train Epoch 0:  71%|█████████████████████████▍          | 1186/1678 [03:49<01:35,  5.13batch/s, train_loss=-1.31e+4]"
     ]
    },
    {
     "name": "stdout",
     "output_type": "stream",
     "text": [
      "torch.Size([3, 250, 250])\n",
      "torch.Size([3, 250, 250]) (48,)\n",
      "torch.Size([3, 250, 250])\n",
      "torch.Size([3, 250, 250]) (48,)\n",
      "torch.Size([3, 250, 250])"
     ]
    },
    {
     "name": "stderr",
     "output_type": "stream",
     "text": [
      "Train Epoch 0:  71%|█████████████████████████▍          | 1187/1678 [03:49<01:34,  5.19batch/s, train_loss=-1.22e+4]"
     ]
    },
    {
     "name": "stdout",
     "output_type": "stream",
     "text": [
      "\n",
      "torch.Size([3, 250, 250]) (48,)\n",
      "torch.Size([3, 250, 250])\n",
      "torch.Size([3, 250, 250]) (48,)\n",
      "torch.Size([3, 250, 250])"
     ]
    },
    {
     "name": "stderr",
     "output_type": "stream",
     "text": [
      "Train Epoch 0:  71%|█████████████████████████▍          | 1188/1678 [03:50<01:33,  5.23batch/s, train_loss=-1.25e+4]"
     ]
    },
    {
     "name": "stdout",
     "output_type": "stream",
     "text": [
      "\n",
      "torch.Size([3, 250, 250]) (48,)\n",
      "torch.Size([3, 250, 250])\n",
      "torch.Size([3, 250, 250]) (48,)\n"
     ]
    },
    {
     "name": "stderr",
     "output_type": "stream",
     "text": [
      "Train Epoch 0:  71%|█████████████████████████▌          | 1189/1678 [03:50<01:36,  5.09batch/s, train_loss=-1.25e+4]"
     ]
    },
    {
     "name": "stdout",
     "output_type": "stream",
     "text": [
      "torch.Size([3, 250, 250])\n",
      "torch.Size([3, 250, 250]) (48,)\n",
      "torch.Size([3, 250, 250])\n",
      "torch.Size([3, 250, 250]) (48,)\n"
     ]
    },
    {
     "name": "stderr",
     "output_type": "stream",
     "text": [
      "Train Epoch 0:  71%|█████████████████████████▌          | 1190/1678 [03:50<01:37,  5.01batch/s, train_loss=-1.31e+4]"
     ]
    },
    {
     "name": "stdout",
     "output_type": "stream",
     "text": [
      "torch.Size([3, 250, 250])\n",
      "torch.Size([3, 250, 250]) (48,)\n",
      "torch.Size([3, 250, 250])\n",
      "torch.Size([3, 250, 250]) (48,)\n",
      "torch.Size([3, 250, 250])"
     ]
    },
    {
     "name": "stderr",
     "output_type": "stream",
     "text": [
      "Train Epoch 0:  71%|█████████████████████████▌          | 1191/1678 [03:50<01:37,  5.02batch/s, train_loss=-1.34e+4]"
     ]
    },
    {
     "name": "stdout",
     "output_type": "stream",
     "text": [
      "\n",
      "torch.Size([3, 250, 250]) (48,)\n",
      "torch.Size([3, 250, 250])\n",
      "torch.Size([3, 250, 250]) (48,)\n",
      "torch.Size([3, 250, 250])"
     ]
    },
    {
     "name": "stderr",
     "output_type": "stream",
     "text": [
      "Train Epoch 0:  71%|█████████████████████████▌          | 1192/1678 [03:50<01:36,  5.02batch/s, train_loss=-1.31e+4]"
     ]
    },
    {
     "name": "stdout",
     "output_type": "stream",
     "text": [
      "\n",
      "torch.Size([3, 250, 250]) (48,)\n",
      "torch.Size([3, 250, 250])\n",
      "torch.Size([3, 250, 250]) (48,)\n"
     ]
    },
    {
     "name": "stderr",
     "output_type": "stream",
     "text": [
      "Train Epoch 0:  71%|█████████████████████████▌          | 1193/1678 [03:51<01:36,  5.02batch/s, train_loss=-1.31e+4]"
     ]
    },
    {
     "name": "stdout",
     "output_type": "stream",
     "text": [
      "torch.Size([3, 250, 250])\n",
      "torch.Size([3, 250, 250]) (48,)\n",
      "torch.Size([3, 250, 250])\n",
      "torch.Size([3, 250, 250]) (48,)\n",
      "torch.Size([3, 250, 250])"
     ]
    },
    {
     "name": "stderr",
     "output_type": "stream",
     "text": [
      "Train Epoch 0:  71%|█████████████████████████▌          | 1194/1678 [03:51<01:36,  5.03batch/s, train_loss=-1.26e+4]"
     ]
    },
    {
     "name": "stdout",
     "output_type": "stream",
     "text": [
      "\n",
      "torch.Size([3, 250, 250]) (48,)\n",
      "torch.Size([3, 250, 250])\n",
      "torch.Size([3, 250, 250]) (48,)\n",
      "torch.Size([3, 250, 250])"
     ]
    },
    {
     "name": "stderr",
     "output_type": "stream",
     "text": [
      "Train Epoch 0:  71%|█████████████████████████▋          | 1195/1678 [03:51<01:34,  5.11batch/s, train_loss=-1.21e+4]"
     ]
    },
    {
     "name": "stdout",
     "output_type": "stream",
     "text": [
      "\n",
      "torch.Size([3, 250, 250]) (48,)\n",
      "torch.Size([3, 250, 250])\n",
      "torch.Size([3, 250, 250]) (48,)\n",
      "torch.Size([3, 250, 250])"
     ]
    },
    {
     "name": "stderr",
     "output_type": "stream",
     "text": [
      "Train Epoch 0:  71%|█████████████████████████▋          | 1196/1678 [03:51<01:34,  5.12batch/s, train_loss=-1.39e+4]"
     ]
    },
    {
     "name": "stdout",
     "output_type": "stream",
     "text": [
      "\n",
      "torch.Size([3, 250, 250]) (48,)\n",
      "torch.Size([3, 250, 250])\n",
      "torch.Size([3, 250, 250]) (48,)\n",
      "torch.Size([3, 250, 250])"
     ]
    },
    {
     "name": "stderr",
     "output_type": "stream",
     "text": [
      "Train Epoch 0:  71%|█████████████████████████▋          | 1197/1678 [03:51<01:32,  5.21batch/s, train_loss=-1.29e+4]"
     ]
    },
    {
     "name": "stdout",
     "output_type": "stream",
     "text": [
      "\n",
      "torch.Size([3, 250, 250]) (48,)\n",
      "torch.Size([3, 250, 250])\n",
      "torch.Size([3, 250, 250]) (48,)\n",
      "torch.Size([3, 250, 250])"
     ]
    },
    {
     "name": "stderr",
     "output_type": "stream",
     "text": [
      "Train Epoch 0:  71%|█████████████████████████▋          | 1198/1678 [03:52<01:31,  5.27batch/s, train_loss=-1.39e+4]"
     ]
    },
    {
     "name": "stdout",
     "output_type": "stream",
     "text": [
      "\n",
      "torch.Size([3, 250, 250]) (48,)\n",
      "torch.Size([3, 250, 250])\n",
      "torch.Size([3, 250, 250]) (48,)\n",
      "torch.Size([3, 250, 250])"
     ]
    },
    {
     "name": "stderr",
     "output_type": "stream",
     "text": [
      "Train Epoch 0:  71%|█████████████████████████▋          | 1199/1678 [03:52<01:33,  5.12batch/s, train_loss=-12350.0]"
     ]
    },
    {
     "name": "stdout",
     "output_type": "stream",
     "text": [
      "\n",
      "torch.Size([3, 250, 250]) (48,)\n",
      "torch.Size([3, 250, 250])\n",
      "torch.Size([3, 250, 250]) (48,)\n",
      "torch.Size([3, 250, 250])"
     ]
    },
    {
     "name": "stderr",
     "output_type": "stream",
     "text": [
      "Train Epoch 0:  72%|█████████████████████████▋          | 1200/1678 [03:52<01:32,  5.17batch/s, train_loss=-1.31e+4]"
     ]
    },
    {
     "name": "stdout",
     "output_type": "stream",
     "text": [
      "\n",
      "torch.Size([3, 250, 250]) (48,)\n",
      "torch.Size([3, 250, 250])\n",
      "torch.Size([3, 250, 250]) (48,)\n",
      "torch.Size([3, 250, 250])"
     ]
    },
    {
     "name": "stderr",
     "output_type": "stream",
     "text": [
      "Train Epoch 0:  72%|█████████████████████████▊          | 1201/1678 [03:52<01:31,  5.20batch/s, train_loss=-1.32e+4]"
     ]
    },
    {
     "name": "stdout",
     "output_type": "stream",
     "text": [
      "\n",
      "torch.Size([3, 250, 250]) (48,)\n",
      "torch.Size([3, 250, 250])\n",
      "torch.Size([3, 250, 250]) (48,)\n",
      "torch.Size([3, 250, 250])"
     ]
    },
    {
     "name": "stderr",
     "output_type": "stream",
     "text": [
      "Train Epoch 0:  72%|██████████████████████████▌          | 1202/1678 [03:52<01:31,  5.22batch/s, train_loss=-1.2e+4]"
     ]
    },
    {
     "name": "stdout",
     "output_type": "stream",
     "text": [
      "\n",
      "torch.Size([3, 250, 250]) (48,)\n",
      "torch.Size([3, 250, 250])\n",
      "torch.Size([3, 250, 250]) (48,)\n",
      "torch.Size([3, 250, 250])"
     ]
    },
    {
     "name": "stderr",
     "output_type": "stream",
     "text": [
      "Train Epoch 0:  72%|██████████████████████████▌          | 1203/1678 [03:53<01:32,  5.13batch/s, train_loss=-1.4e+4]"
     ]
    },
    {
     "name": "stdout",
     "output_type": "stream",
     "text": [
      "\n",
      "torch.Size([3, 250, 250]) (48,)\n",
      "torch.Size([3, 250, 250])\n",
      "torch.Size([3, 250, 250]) (48,)\n",
      "torch.Size([3, 250, 250])"
     ]
    },
    {
     "name": "stderr",
     "output_type": "stream",
     "text": [
      "Train Epoch 0:  72%|█████████████████████████▊          | 1204/1678 [03:53<01:31,  5.16batch/s, train_loss=-1.23e+4]"
     ]
    },
    {
     "name": "stdout",
     "output_type": "stream",
     "text": [
      "\n",
      "torch.Size([3, 250, 250]) (48,)\n",
      "torch.Size([3, 250, 250])\n",
      "torch.Size([3, 250, 250]) (48,)\n"
     ]
    },
    {
     "name": "stderr",
     "output_type": "stream",
     "text": [
      "Train Epoch 0:  72%|██████████████████████████▌          | 1205/1678 [03:53<01:32,  5.11batch/s, train_loss=-1.4e+4]"
     ]
    },
    {
     "name": "stdout",
     "output_type": "stream",
     "text": [
      "torch.Size([3, 250, 250])\n",
      "torch.Size([3, 250, 250]) (48,)\n",
      "torch.Size([3, 250, 250])\n",
      "torch.Size([3, 250, 250]) (48,)\n",
      "torch.Size([3, 250, 250])"
     ]
    },
    {
     "name": "stderr",
     "output_type": "stream",
     "text": [
      "Train Epoch 0:  72%|█████████████████████████▊          | 1206/1678 [03:53<01:31,  5.16batch/s, train_loss=-1.02e+4]"
     ]
    },
    {
     "name": "stdout",
     "output_type": "stream",
     "text": [
      "\n",
      "torch.Size([3, 250, 250]) (48,)\n",
      "torch.Size([3, 250, 250])\n",
      "torch.Size([3, 250, 250]) (48,)\n",
      "torch.Size([3, 250, 250])"
     ]
    },
    {
     "name": "stderr",
     "output_type": "stream",
     "text": [
      "Train Epoch 0:  72%|█████████████████████████▉          | 1207/1678 [03:53<01:32,  5.08batch/s, train_loss=-1.41e+4]"
     ]
    },
    {
     "name": "stdout",
     "output_type": "stream",
     "text": [
      "\n",
      "torch.Size([3, 250, 250]) (48,)\n",
      "torch.Size([3, 250, 250])\n",
      "torch.Size([3, 250, 250]) (48,)\n",
      "torch.Size([3, 250, 250])"
     ]
    },
    {
     "name": "stderr",
     "output_type": "stream",
     "text": [
      "Train Epoch 0:  72%|██████████████████████████▋          | 1208/1678 [03:53<01:32,  5.08batch/s, train_loss=-1.1e+4]"
     ]
    },
    {
     "name": "stdout",
     "output_type": "stream",
     "text": [
      "\n",
      "torch.Size([3, 250, 250]) (48,)\n",
      "torch.Size([3, 250, 250])\n",
      "torch.Size([3, 250, 250]) (48,)\n",
      "torch.Size([3, 250, 250])"
     ]
    },
    {
     "name": "stderr",
     "output_type": "stream",
     "text": [
      "Train Epoch 0:  72%|█████████████████████████▉          | 1209/1678 [03:54<01:31,  5.14batch/s, train_loss=-1.44e+4]"
     ]
    },
    {
     "name": "stdout",
     "output_type": "stream",
     "text": [
      "\n",
      "torch.Size([3, 250, 250]) (48,)\n",
      "torch.Size([3, 250, 250])\n",
      "torch.Size([3, 250, 250]) (48,)\n",
      "torch.Size([3, 250, 250])"
     ]
    },
    {
     "name": "stderr",
     "output_type": "stream",
     "text": [
      "Train Epoch 0:  72%|█████████████████████████▉          | 1210/1678 [03:54<01:30,  5.16batch/s, train_loss=-1.45e+4]"
     ]
    },
    {
     "name": "stdout",
     "output_type": "stream",
     "text": [
      "\n",
      "torch.Size([3, 250, 250]) (48,)\n",
      "torch.Size([3, 250, 250])\n",
      "torch.Size([3, 250, 250]) (48,)\n"
     ]
    },
    {
     "name": "stderr",
     "output_type": "stream",
     "text": [
      "Train Epoch 0:  72%|█████████████████████████▉          | 1211/1678 [03:54<01:32,  5.05batch/s, train_loss=-1.44e+4]"
     ]
    },
    {
     "name": "stdout",
     "output_type": "stream",
     "text": [
      "torch.Size([3, 250, 250])\n",
      "torch.Size([3, 250, 250]) (48,)\n",
      "torch.Size([3, 250, 250])\n",
      "torch.Size([3, 250, 250]) (48,)\n",
      "torch.Size([3, 250, 250])"
     ]
    },
    {
     "name": "stderr",
     "output_type": "stream",
     "text": [
      "Train Epoch 0:  72%|██████████████████████████          | 1212/1678 [03:54<01:31,  5.12batch/s, train_loss=-1.26e+4]"
     ]
    },
    {
     "name": "stdout",
     "output_type": "stream",
     "text": [
      "\n",
      "torch.Size([3, 250, 250]) (48,)\n",
      "torch.Size([3, 250, 250])\n",
      "torch.Size([3, 250, 250]) (48,)\n",
      "torch.Size([3, 250, 250])"
     ]
    },
    {
     "name": "stderr",
     "output_type": "stream",
     "text": [
      "Train Epoch 0:  72%|██████████████████████████          | 1213/1678 [03:54<01:32,  5.01batch/s, train_loss=-1.42e+4]"
     ]
    },
    {
     "name": "stdout",
     "output_type": "stream",
     "text": [
      "\n",
      "torch.Size([3, 250, 250]) (48,)\n",
      "torch.Size([3, 250, 250])\n",
      "torch.Size([3, 250, 250]) (48,)\n"
     ]
    },
    {
     "name": "stderr",
     "output_type": "stream",
     "text": [
      "Train Epoch 0:  72%|██████████████████████████          | 1214/1678 [03:55<01:32,  5.02batch/s, train_loss=-1.13e+4]"
     ]
    },
    {
     "name": "stdout",
     "output_type": "stream",
     "text": [
      "torch.Size([3, 250, 250])\n",
      "torch.Size([3, 250, 250]) (48,)\n",
      "torch.Size([3, 250, 250])\n",
      "torch.Size([3, 250, 250]) (48,)\n",
      "torch.Size([3, 250, 250])"
     ]
    },
    {
     "name": "stderr",
     "output_type": "stream",
     "text": [
      "Train Epoch 0:  72%|██████████████████████████          | 1215/1678 [03:55<01:30,  5.10batch/s, train_loss=-1.36e+4]"
     ]
    },
    {
     "name": "stdout",
     "output_type": "stream",
     "text": [
      "\n",
      "torch.Size([3, 250, 250]) (48,)\n",
      "torch.Size([3, 250, 250])\n",
      "torch.Size([3, 250, 250]) (48,)\n"
     ]
    },
    {
     "name": "stderr",
     "output_type": "stream",
     "text": [
      "Train Epoch 0:  72%|██████████████████████████          | 1216/1678 [03:55<01:30,  5.08batch/s, train_loss=-1.13e+4]"
     ]
    },
    {
     "name": "stdout",
     "output_type": "stream",
     "text": [
      "torch.Size([3, 250, 250])\n",
      "torch.Size([3, 250, 250]) (48,)\n",
      "torch.Size([3, 250, 250])\n",
      "torch.Size([3, 250, 250]) (48,)\n",
      "torch.Size([3, 250, 250])"
     ]
    },
    {
     "name": "stderr",
     "output_type": "stream",
     "text": [
      "Train Epoch 0:  73%|██████████████████████████▊          | 1217/1678 [03:55<01:30,  5.11batch/s, train_loss=-1.3e+4]"
     ]
    },
    {
     "name": "stdout",
     "output_type": "stream",
     "text": [
      "\n",
      "torch.Size([3, 250, 250]) (48,)\n",
      "torch.Size([3, 250, 250])\n",
      "torch.Size([3, 250, 250]) (48,)\n",
      "torch.Size([3, 250, 250])\n",
      "torch.Size([3, 250, 250]) (48,)\n"
     ]
    },
    {
     "name": "stderr",
     "output_type": "stream",
     "text": [
      "Train Epoch 0:  73%|██████████████████████████▏         | 1218/1678 [03:55<01:30,  5.07batch/s, train_loss=-1.13e+4]"
     ]
    },
    {
     "name": "stdout",
     "output_type": "stream",
     "text": [
      "torch.Size([3, 250, 250])\n",
      "torch.Size([3, 250, 250]) (48,)\n",
      "torch.Size([3, 250, 250])\n",
      "torch.Size([3, 250, 250]) (48,)\n",
      "torch.Size([3, 250, 250])"
     ]
    },
    {
     "name": "stderr",
     "output_type": "stream",
     "text": [
      "Train Epoch 0:  73%|██████████████████████████▏         | 1219/1678 [03:56<01:30,  5.05batch/s, train_loss=-1.33e+4]"
     ]
    },
    {
     "name": "stdout",
     "output_type": "stream",
     "text": [
      "\n",
      "torch.Size([3, 250, 250]) (48,)\n",
      "torch.Size([3, 250, 250])\n",
      "torch.Size([3, 250, 250]) (48,)\n"
     ]
    },
    {
     "name": "stderr",
     "output_type": "stream",
     "text": [
      "Train Epoch 0:  73%|██████████████████████████▏         | 1220/1678 [03:56<01:30,  5.06batch/s, train_loss=-1.26e+4]"
     ]
    },
    {
     "name": "stdout",
     "output_type": "stream",
     "text": [
      "torch.Size([3, 250, 250])\n",
      "torch.Size([3, 250, 250]) (48,)\n",
      "torch.Size([3, 250, 250])\n",
      "torch.Size([3, 250, 250]) (48,)\n"
     ]
    },
    {
     "name": "stderr",
     "output_type": "stream",
     "text": [
      "Train Epoch 0:  73%|██████████████████████████▏         | 1221/1678 [03:56<01:31,  5.02batch/s, train_loss=-1.23e+4]"
     ]
    },
    {
     "name": "stdout",
     "output_type": "stream",
     "text": [
      "torch.Size([3, 250, 250])\n",
      "torch.Size([3, 250, 250]) (48,)\n",
      "torch.Size([3, 250, 250])\n",
      "torch.Size([3, 250, 250]) (48,)\n",
      "torch.Size([3, 250, 250])"
     ]
    },
    {
     "name": "stderr",
     "output_type": "stream",
     "text": [
      "Train Epoch 0:  73%|██████████████████████████▉          | 1222/1678 [03:56<01:29,  5.11batch/s, train_loss=-1.3e+4]"
     ]
    },
    {
     "name": "stdout",
     "output_type": "stream",
     "text": [
      "\n",
      "torch.Size([3, 250, 250]) (48,)\n",
      "torch.Size([3, 250, 250])\n",
      "torch.Size([3, 250, 250]) (48,)\n",
      "torch.Size([3, 250, 250])"
     ]
    },
    {
     "name": "stderr",
     "output_type": "stream",
     "text": [
      "Train Epoch 0:  73%|██████████████████████████▏         | 1223/1678 [03:56<01:28,  5.17batch/s, train_loss=-1.25e+4]"
     ]
    },
    {
     "name": "stdout",
     "output_type": "stream",
     "text": [
      "\n",
      "torch.Size([3, 250, 250]) (48,)\n",
      "torch.Size([3, 250, 250])\n",
      "torch.Size([3, 250, 250]) (48,)\n",
      "torch.Size([3, 250, 250])"
     ]
    },
    {
     "name": "stderr",
     "output_type": "stream",
     "text": [
      "Train Epoch 0:  73%|██████████████████████████▎         | 1224/1678 [03:57<01:27,  5.20batch/s, train_loss=-1.33e+4]"
     ]
    },
    {
     "name": "stdout",
     "output_type": "stream",
     "text": [
      "\n",
      "torch.Size([3, 250, 250]) (48,)\n",
      "torch.Size([3, 250, 250])\n",
      "torch.Size([3, 250, 250]) (48,)\n"
     ]
    },
    {
     "name": "stderr",
     "output_type": "stream",
     "text": [
      "Train Epoch 0:  73%|██████████████████████████▎         | 1225/1678 [03:57<01:28,  5.10batch/s, train_loss=-1.33e+4]"
     ]
    },
    {
     "name": "stdout",
     "output_type": "stream",
     "text": [
      "torch.Size([3, 250, 250])\n",
      "torch.Size([3, 250, 250]) (48,)\n",
      "torch.Size([3, 250, 250])\n",
      "torch.Size([3, 250, 250]) (48,)\n",
      "torch.Size([3, 250, 250])"
     ]
    },
    {
     "name": "stderr",
     "output_type": "stream",
     "text": [
      "Train Epoch 0:  73%|██████████████████████████▎         | 1226/1678 [03:57<01:27,  5.16batch/s, train_loss=-1.35e+4]"
     ]
    },
    {
     "name": "stdout",
     "output_type": "stream",
     "text": [
      "\n",
      "torch.Size([3, 250, 250]) (48,)\n",
      "torch.Size([3, 250, 250])\n",
      "torch.Size([3, 250, 250]) (48,)\n"
     ]
    },
    {
     "name": "stderr",
     "output_type": "stream",
     "text": [
      "Train Epoch 0:  73%|██████████████████████████▎         | 1227/1678 [03:57<01:27,  5.15batch/s, train_loss=-1.34e+4]"
     ]
    },
    {
     "name": "stdout",
     "output_type": "stream",
     "text": [
      "torch.Size([3, 250, 250])\n",
      "torch.Size([3, 250, 250]) (48,)\n",
      "torch.Size([3, 250, 250])\n",
      "torch.Size([3, 250, 250]) (48,)\n",
      "torch.Size([3, 250, 250])"
     ]
    },
    {
     "name": "stderr",
     "output_type": "stream",
     "text": [
      "Train Epoch 0:  73%|██████████████████████████▎         | 1228/1678 [03:57<01:27,  5.17batch/s, train_loss=-1.35e+4]"
     ]
    },
    {
     "name": "stdout",
     "output_type": "stream",
     "text": [
      "\n",
      "torch.Size([3, 250, 250]) (48,)\n",
      "torch.Size([3, 250, 250])\n",
      "torch.Size([3, 250, 250]) (48,)\n",
      "torch.Size([3, 250, 250])"
     ]
    },
    {
     "name": "stderr",
     "output_type": "stream",
     "text": [
      "Train Epoch 0:  73%|██████████████████████████▎         | 1229/1678 [03:58<01:26,  5.21batch/s, train_loss=-1.23e+4]"
     ]
    },
    {
     "name": "stdout",
     "output_type": "stream",
     "text": [
      "\n",
      "torch.Size([3, 250, 250]) (48,)\n",
      "torch.Size([3, 250, 250])\n",
      "torch.Size([3, 250, 250]) (48,)\n"
     ]
    },
    {
     "name": "stderr",
     "output_type": "stream",
     "text": [
      "Train Epoch 0:  73%|██████████████████████████▍         | 1230/1678 [03:58<01:26,  5.15batch/s, train_loss=-1.35e+4]"
     ]
    },
    {
     "name": "stdout",
     "output_type": "stream",
     "text": [
      "torch.Size([3, 250, 250])\n",
      "torch.Size([3, 250, 250]) (48,)\n",
      "torch.Size([3, 250, 250])\n",
      "torch.Size([3, 250, 250]) (48,)\n",
      "torch.Size([3, 250, 250])"
     ]
    },
    {
     "name": "stderr",
     "output_type": "stream",
     "text": [
      "Train Epoch 0:  73%|██████████████████████████▍         | 1231/1678 [03:58<01:27,  5.14batch/s, train_loss=-1.35e+4]"
     ]
    },
    {
     "name": "stdout",
     "output_type": "stream",
     "text": [
      "\n",
      "torch.Size([3, 250, 250]) (48,)\n",
      "torch.Size([3, 250, 250])\n",
      "torch.Size([3, 250, 250]) (48,)\n",
      "torch.Size([3, 250, 250])"
     ]
    },
    {
     "name": "stderr",
     "output_type": "stream",
     "text": [
      "Train Epoch 0:  73%|██████████████████████████▍         | 1232/1678 [03:58<01:27,  5.12batch/s, train_loss=-1.46e+4]"
     ]
    },
    {
     "name": "stdout",
     "output_type": "stream",
     "text": [
      "\n",
      "torch.Size([3, 250, 250]) (48,)\n",
      "torch.Size([3, 250, 250])\n",
      "torch.Size([3, 250, 250]) (48,)\n"
     ]
    },
    {
     "name": "stderr",
     "output_type": "stream",
     "text": [
      "Train Epoch 0:  73%|██████████████████████████▍         | 1233/1678 [03:58<01:27,  5.09batch/s, train_loss=-1.24e+4]"
     ]
    },
    {
     "name": "stdout",
     "output_type": "stream",
     "text": [
      "torch.Size([3, 250, 250])\n",
      "torch.Size([3, 250, 250]) (48,)\n",
      "torch.Size([3, 250, 250])\n",
      "torch.Size([3, 250, 250]) (48,)\n",
      "torch.Size([3, 250, 250])"
     ]
    },
    {
     "name": "stderr",
     "output_type": "stream",
     "text": [
      "Train Epoch 0:  74%|██████████████████████████▍         | 1234/1678 [03:59<01:26,  5.13batch/s, train_loss=-1.25e+4]"
     ]
    },
    {
     "name": "stdout",
     "output_type": "stream",
     "text": [
      "\n",
      "torch.Size([3, 250, 250]) (48,)\n",
      "torch.Size([3, 250, 250])\n",
      "torch.Size([3, 250, 250]) (48,)\n",
      "torch.Size([3, 250, 250])"
     ]
    },
    {
     "name": "stderr",
     "output_type": "stream",
     "text": [
      "Train Epoch 0:  74%|██████████████████████████▍         | 1235/1678 [03:59<01:25,  5.16batch/s, train_loss=-1.24e+4]"
     ]
    },
    {
     "name": "stdout",
     "output_type": "stream",
     "text": [
      "\n",
      "torch.Size([3, 250, 250]) (48,)\n",
      "torch.Size([3, 250, 250])"
     ]
    },
    {
     "name": "stderr",
     "output_type": "stream",
     "text": [
      "Train Epoch 0:  74%|██████████████████████████▌         | 1236/1678 [03:59<01:27,  5.04batch/s, train_loss=-1.44e+4]"
     ]
    },
    {
     "name": "stdout",
     "output_type": "stream",
     "text": [
      "\n",
      "torch.Size([3, 250, 250]) (48,)\n",
      "torch.Size([3, 250, 250])\n",
      "torch.Size([3, 250, 250]) (48,)\n"
     ]
    },
    {
     "name": "stderr",
     "output_type": "stream",
     "text": [
      "Train Epoch 0:  74%|██████████████████████████▌         | 1237/1678 [03:59<01:27,  5.02batch/s, train_loss=-1.05e+4]"
     ]
    },
    {
     "name": "stdout",
     "output_type": "stream",
     "text": [
      "torch.Size([3, 250, 250])\n",
      "torch.Size([3, 250, 250]) (48,)\n",
      "torch.Size([3, 250, 250])\n",
      "torch.Size([3, 250, 250]) (48,)\n",
      "torch.Size([3, 250, 250])"
     ]
    },
    {
     "name": "stderr",
     "output_type": "stream",
     "text": [
      "Train Epoch 0:  74%|██████████████████████████▌         | 1238/1678 [03:59<01:26,  5.11batch/s, train_loss=-1.26e+4]"
     ]
    },
    {
     "name": "stdout",
     "output_type": "stream",
     "text": [
      "\n",
      "torch.Size([3, 250, 250]) (48,)\n",
      "torch.Size([3, 250, 250])\n",
      "torch.Size([3, 250, 250]) (48,)\n",
      "torch.Size([3, 250, 250])"
     ]
    },
    {
     "name": "stderr",
     "output_type": "stream",
     "text": [
      "Train Epoch 0:  74%|██████████████████████████▌         | 1239/1678 [04:00<01:26,  5.08batch/s, train_loss=-1.42e+4]"
     ]
    },
    {
     "name": "stdout",
     "output_type": "stream",
     "text": [
      "\n",
      "torch.Size([3, 250, 250]) (48,)\n",
      "torch.Size([3, 250, 250])\n",
      "torch.Size([3, 250, 250]) (48,)\n",
      "torch.Size([3, 250, 250])"
     ]
    },
    {
     "name": "stderr",
     "output_type": "stream",
     "text": [
      "Train Epoch 0:  74%|██████████████████████████▌         | 1240/1678 [04:00<01:25,  5.14batch/s, train_loss=-1.39e+4]"
     ]
    },
    {
     "name": "stdout",
     "output_type": "stream",
     "text": [
      "\n",
      "torch.Size([3, 250, 250]) (48,)\n",
      "torch.Size([3, 250, 250])\n",
      "torch.Size([3, 250, 250]) (48,)\n",
      "torch.Size([3, 250, 250])"
     ]
    },
    {
     "name": "stderr",
     "output_type": "stream",
     "text": [
      "Train Epoch 0:  74%|███████████████████████████▎         | 1241/1678 [04:00<01:25,  5.12batch/s, train_loss=-1.4e+4]"
     ]
    },
    {
     "name": "stdout",
     "output_type": "stream",
     "text": [
      "\n",
      "torch.Size([3, 250, 250]) (48,)\n",
      "torch.Size([3, 250, 250])\n",
      "torch.Size([3, 250, 250]) (48,)\n",
      "torch.Size([3, 250, 250])"
     ]
    },
    {
     "name": "stderr",
     "output_type": "stream",
     "text": [
      "Train Epoch 0:  74%|██████████████████████████▋         | 1242/1678 [04:00<01:24,  5.18batch/s, train_loss=-1.19e+4]"
     ]
    },
    {
     "name": "stdout",
     "output_type": "stream",
     "text": [
      "\n",
      "torch.Size([3, 250, 250]) (48,)\n",
      "torch.Size([3, 250, 250])\n",
      "torch.Size([3, 250, 250]) (48,)\n",
      "torch.Size([3, 250, 250])"
     ]
    },
    {
     "name": "stderr",
     "output_type": "stream",
     "text": [
      "Train Epoch 0:  74%|██████████████████████████▋         | 1243/1678 [04:00<01:24,  5.13batch/s, train_loss=-1.24e+4]"
     ]
    },
    {
     "name": "stdout",
     "output_type": "stream",
     "text": [
      "\n",
      "torch.Size([3, 250, 250]) (48,)\n",
      "torch.Size([3, 250, 250])\n",
      "torch.Size([3, 250, 250]) (48,)\n",
      "torch.Size([3, 250, 250])"
     ]
    },
    {
     "name": "stderr",
     "output_type": "stream",
     "text": [
      "Train Epoch 0:  74%|██████████████████████████▋         | 1244/1678 [04:01<01:24,  5.14batch/s, train_loss=-9.78e+3]"
     ]
    },
    {
     "name": "stdout",
     "output_type": "stream",
     "text": [
      "\n",
      "torch.Size([3, 250, 250]) (48,)\n",
      "torch.Size([3, 250, 250])\n",
      "torch.Size([3, 250, 250]) (48,)\n",
      "torch.Size([3, 250, 250])"
     ]
    },
    {
     "name": "stderr",
     "output_type": "stream",
     "text": [
      "Train Epoch 0:  74%|██████████████████████████▋         | 1245/1678 [04:01<01:24,  5.11batch/s, train_loss=-1.19e+4]"
     ]
    },
    {
     "name": "stdout",
     "output_type": "stream",
     "text": [
      "\n",
      "torch.Size([3, 250, 250]) (48,)\n",
      "torch.Size([3, 250, 250])\n",
      "torch.Size([3, 250, 250]) (48,)\n",
      "torch.Size([3, 250, 250])"
     ]
    },
    {
     "name": "stderr",
     "output_type": "stream",
     "text": [
      "Train Epoch 0:  74%|██████████████████████████▋         | 1246/1678 [04:01<01:23,  5.16batch/s, train_loss=-1.19e+4]"
     ]
    },
    {
     "name": "stdout",
     "output_type": "stream",
     "text": [
      "\n",
      "torch.Size([3, 250, 250]) (48,)\n",
      "torch.Size([3, 250, 250])\n",
      "torch.Size([3, 250, 250]) (48,)\n",
      "torch.Size([3, 250, 250])"
     ]
    },
    {
     "name": "stderr",
     "output_type": "stream",
     "text": [
      "Train Epoch 0:  74%|██████████████████████████▊         | 1247/1678 [04:01<01:22,  5.20batch/s, train_loss=-1.31e+4]"
     ]
    },
    {
     "name": "stdout",
     "output_type": "stream",
     "text": [
      "\n",
      "torch.Size([3, 250, 250]) (48,)\n",
      "torch.Size([3, 250, 250])\n",
      "torch.Size([3, 250, 250]) (48,)\n",
      "torch.Size([3, 250, 250])"
     ]
    },
    {
     "name": "stderr",
     "output_type": "stream",
     "text": [
      "Train Epoch 0:  74%|██████████████████████████▊         | 1248/1678 [04:01<01:22,  5.21batch/s, train_loss=-1.22e+4]"
     ]
    },
    {
     "name": "stdout",
     "output_type": "stream",
     "text": [
      "\n",
      "torch.Size([3, 250, 250]) (48,)\n",
      "torch.Size([3, 250, 250])\n",
      "torch.Size([3, 250, 250]) (48,)\n",
      "torch.Size([3, 250, 250])"
     ]
    },
    {
     "name": "stderr",
     "output_type": "stream",
     "text": [
      "Train Epoch 0:  74%|██████████████████████████▊         | 1249/1678 [04:01<01:21,  5.26batch/s, train_loss=-1.06e+4]"
     ]
    },
    {
     "name": "stdout",
     "output_type": "stream",
     "text": [
      "\n",
      "torch.Size([3, 250, 250]) (48,)\n",
      "torch.Size([3, 250, 250])\n",
      "torch.Size([3, 250, 250]) (48,)\n",
      "torch.Size([3, 250, 250])"
     ]
    },
    {
     "name": "stderr",
     "output_type": "stream",
     "text": [
      "Train Epoch 0:  74%|██████████████████████████▊         | 1250/1678 [04:02<01:22,  5.20batch/s, train_loss=-1.23e+4]"
     ]
    },
    {
     "name": "stdout",
     "output_type": "stream",
     "text": [
      "\n",
      "torch.Size([3, 250, 250]) (48,)\n",
      "torch.Size([3, 250, 250])\n",
      "torch.Size([3, 250, 250]) (48,)\n"
     ]
    },
    {
     "name": "stderr",
     "output_type": "stream",
     "text": [
      "Train Epoch 0:  75%|██████████████████████████▊         | 1251/1678 [04:02<01:24,  5.06batch/s, train_loss=-1.39e+4]"
     ]
    },
    {
     "name": "stdout",
     "output_type": "stream",
     "text": [
      "torch.Size([3, 250, 250])\n",
      "torch.Size([3, 250, 250]) (48,)\n",
      "torch.Size([3, 250, 250])\n",
      "torch.Size([3, 250, 250]) (48,)\n",
      "torch.Size([3, 250, 250])"
     ]
    },
    {
     "name": "stderr",
     "output_type": "stream",
     "text": [
      "Train Epoch 0:  75%|██████████████████████████▊         | 1252/1678 [04:02<01:23,  5.13batch/s, train_loss=-12350.0]"
     ]
    },
    {
     "name": "stdout",
     "output_type": "stream",
     "text": [
      "\n",
      "torch.Size([3, 250, 250]) (48,)\n",
      "torch.Size([3, 250, 250])\n",
      "torch.Size([3, 250, 250]) (48,)\n",
      "torch.Size([3, 250, 250])"
     ]
    },
    {
     "name": "stderr",
     "output_type": "stream",
     "text": [
      "Train Epoch 0:  75%|██████████████████████████▉         | 1253/1678 [04:02<01:23,  5.11batch/s, train_loss=-1.39e+4]"
     ]
    },
    {
     "name": "stdout",
     "output_type": "stream",
     "text": [
      "\n",
      "torch.Size([3, 250, 250]) (48,)\n",
      "torch.Size([3, 250, 250])\n",
      "torch.Size([3, 250, 250]) (48,)\n"
     ]
    },
    {
     "name": "stderr",
     "output_type": "stream",
     "text": [
      "Train Epoch 0:  75%|██████████████████████████▉         | 1254/1678 [04:02<01:23,  5.09batch/s, train_loss=-1.38e+4]"
     ]
    },
    {
     "name": "stdout",
     "output_type": "stream",
     "text": [
      "torch.Size([3, 250, 250])\n",
      "torch.Size([3, 250, 250]) (48,)\n",
      "torch.Size([3, 250, 250])\n",
      "torch.Size([3, 250, 250]) (48,)\n"
     ]
    },
    {
     "name": "stderr",
     "output_type": "stream",
     "text": [
      "Train Epoch 0:  75%|██████████████████████████▉         | 1255/1678 [04:03<01:23,  5.08batch/s, train_loss=-1.32e+4]"
     ]
    },
    {
     "name": "stdout",
     "output_type": "stream",
     "text": [
      "torch.Size([3, 250, 250])\n",
      "torch.Size([3, 250, 250]) (48,)\n",
      "torch.Size([3, 250, 250])\n",
      "torch.Size([3, 250, 250]) (48,)\n",
      "torch.Size([3, 250, 250])"
     ]
    },
    {
     "name": "stderr",
     "output_type": "stream",
     "text": [
      "Train Epoch 0:  75%|██████████████████████████▉         | 1256/1678 [04:03<01:21,  5.16batch/s, train_loss=-1.38e+4]"
     ]
    },
    {
     "name": "stdout",
     "output_type": "stream",
     "text": [
      "\n",
      "torch.Size([3, 250, 250]) (48,)\n",
      "torch.Size([3, 250, 250])\n",
      "torch.Size([3, 250, 250]) (48,)\n",
      "torch.Size([3, 250, 250])"
     ]
    },
    {
     "name": "stderr",
     "output_type": "stream",
     "text": [
      "Train Epoch 0:  75%|███████████████████████████▋         | 1257/1678 [04:03<01:20,  5.21batch/s, train_loss=-1.3e+4]"
     ]
    },
    {
     "name": "stdout",
     "output_type": "stream",
     "text": [
      "\n",
      "torch.Size([3, 250, 250]) (48,)\n",
      "torch.Size([3, 250, 250])\n",
      "torch.Size([3, 250, 250]) (48,)\n",
      "torch.Size([3, 250, 250])"
     ]
    },
    {
     "name": "stderr",
     "output_type": "stream",
     "text": [
      "Train Epoch 0:  75%|██████████████████████████▉         | 1258/1678 [04:03<01:20,  5.20batch/s, train_loss=-1.38e+4]"
     ]
    },
    {
     "name": "stdout",
     "output_type": "stream",
     "text": [
      "\n",
      "torch.Size([3, 250, 250]) (48,)\n",
      "torch.Size([3, 250, 250])\n",
      "torch.Size([3, 250, 250]) (48,)\n"
     ]
    },
    {
     "name": "stderr",
     "output_type": "stream",
     "text": [
      "Train Epoch 0:  75%|███████████████████████████         | 1259/1678 [04:03<01:22,  5.09batch/s, train_loss=-1.32e+4]"
     ]
    },
    {
     "name": "stdout",
     "output_type": "stream",
     "text": [
      "torch.Size([3, 250, 250])\n",
      "torch.Size([3, 250, 250]) (48,)\n",
      "torch.Size([3, 250, 250])\n",
      "torch.Size([3, 250, 250]) (48,)\n",
      "torch.Size([3, 250, 250])"
     ]
    },
    {
     "name": "stderr",
     "output_type": "stream",
     "text": [
      "Train Epoch 0:  75%|███████████████████████████         | 1260/1678 [04:04<01:20,  5.16batch/s, train_loss=-1.38e+4]"
     ]
    },
    {
     "name": "stdout",
     "output_type": "stream",
     "text": [
      "\n",
      "torch.Size([3, 250, 250]) (48,)\n",
      "torch.Size([3, 250, 250])\n",
      "torch.Size([3, 250, 250]) (48,)\n"
     ]
    },
    {
     "name": "stderr",
     "output_type": "stream",
     "text": [
      "Train Epoch 0:  75%|███████████████████████████         | 1261/1678 [04:04<01:21,  5.12batch/s, train_loss=-1.23e+4]"
     ]
    },
    {
     "name": "stdout",
     "output_type": "stream",
     "text": [
      "torch.Size([3, 250, 250])\n",
      "torch.Size([3, 250, 250]) (48,)\n",
      "torch.Size([3, 250, 250])\n",
      "torch.Size([3, 250, 250]) (48,)\n"
     ]
    },
    {
     "name": "stderr",
     "output_type": "stream",
     "text": [
      "Train Epoch 0:  75%|███████████████████████████         | 1262/1678 [04:04<01:21,  5.11batch/s, train_loss=-1.35e+4]"
     ]
    },
    {
     "name": "stdout",
     "output_type": "stream",
     "text": [
      "torch.Size([3, 250, 250])\n",
      "torch.Size([3, 250, 250]) (48,)\n",
      "torch.Size([3, 250, 250])\n",
      "torch.Size([3, 250, 250]) (48,)\n",
      "torch.Size([3, 250, 250])"
     ]
    },
    {
     "name": "stderr",
     "output_type": "stream",
     "text": [
      "Train Epoch 0:  75%|███████████████████████████         | 1263/1678 [04:04<01:20,  5.16batch/s, train_loss=-1.47e+4]"
     ]
    },
    {
     "name": "stdout",
     "output_type": "stream",
     "text": [
      "\n",
      "torch.Size([3, 250, 250]) (48,)\n",
      "torch.Size([3, 250, 250])\n",
      "torch.Size([3, 250, 250]) (48,)\n",
      "torch.Size([3, 250, 250])"
     ]
    },
    {
     "name": "stderr",
     "output_type": "stream",
     "text": [
      "\r",
      "Train Epoch 0:  75%|███████████████████████████         | 1263/1678 [04:04<01:20,  5.16batch/s, train_loss=-1.47e+4]"
     ]
    },
    {
     "name": "stdout",
     "output_type": "stream",
     "text": [
      "\n",
      "torch.Size([3, 250, 250]) (48,)\n",
      "torch.Size([3, 250, 250])\n",
      "torch.Size([3, 250, 250]) (48,)\n"
     ]
    },
    {
     "name": "stderr",
     "output_type": "stream",
     "text": [
      "Train Epoch 0:  75%|███████████████████████████▏        | 1265/1678 [04:05<01:23,  4.97batch/s, train_loss=-1.25e+4]"
     ]
    },
    {
     "name": "stdout",
     "output_type": "stream",
     "text": [
      "torch.Size([3, 250, 250])\n",
      "torch.Size([3, 250, 250]) (48,)\n",
      "torch.Size([3, 250, 250])\n",
      "torch.Size([3, 250, 250]) (48,)\n"
     ]
    },
    {
     "name": "stderr",
     "output_type": "stream",
     "text": [
      "Train Epoch 0:  75%|███████████████████████████▏        | 1266/1678 [04:05<01:22,  4.99batch/s, train_loss=-1.47e+4]"
     ]
    },
    {
     "name": "stdout",
     "output_type": "stream",
     "text": [
      "torch.Size([3, 250, 250])\n",
      "torch.Size([3, 250, 250]) (48,)\n",
      "torch.Size([3, 250, 250])\n",
      "torch.Size([3, 250, 250]) (48,)\n"
     ]
    },
    {
     "name": "stderr",
     "output_type": "stream",
     "text": [
      "Train Epoch 0:  76%|███████████████████████████▏        | 1267/1678 [04:05<01:22,  4.97batch/s, train_loss=-1.36e+4]"
     ]
    },
    {
     "name": "stdout",
     "output_type": "stream",
     "text": [
      "torch.Size([3, 250, 250])\n",
      "torch.Size([3, 250, 250]) (48,)\n",
      "torch.Size([3, 250, 250])\n",
      "torch.Size([3, 250, 250]) (48,)\n",
      "torch.Size([3, 250, 250])"
     ]
    },
    {
     "name": "stderr",
     "output_type": "stream",
     "text": [
      "Train Epoch 0:  76%|███████████████████████████▏        | 1268/1678 [04:05<01:20,  5.08batch/s, train_loss=-1.32e+4]"
     ]
    },
    {
     "name": "stdout",
     "output_type": "stream",
     "text": [
      "\n",
      "torch.Size([3, 250, 250]) (48,)\n",
      "torch.Size([3, 250, 250])\n",
      "torch.Size([3, 250, 250]) (48,)\n",
      "torch.Size([3, 250, 250])"
     ]
    },
    {
     "name": "stderr",
     "output_type": "stream",
     "text": [
      "Train Epoch 0:  76%|███████████████████████████▏        | 1269/1678 [04:05<01:19,  5.17batch/s, train_loss=-1.42e+4]"
     ]
    },
    {
     "name": "stdout",
     "output_type": "stream",
     "text": [
      "\n",
      "torch.Size([3, 250, 250]) (48,)\n",
      "torch.Size([3, 250, 250])\n",
      "torch.Size([3, 250, 250]) (48,)\n",
      "torch.Size([3, 250, 250])"
     ]
    },
    {
     "name": "stderr",
     "output_type": "stream",
     "text": [
      "Train Epoch 0:  76%|███████████████████████████▏        | 1270/1678 [04:06<01:19,  5.10batch/s, train_loss=-1.41e+4]"
     ]
    },
    {
     "name": "stdout",
     "output_type": "stream",
     "text": [
      "\n",
      "torch.Size([3, 250, 250]) (48,)\n",
      "torch.Size([3, 250, 250])\n",
      "torch.Size([3, 250, 250]) (48,)\n",
      "torch.Size([3, 250, 250])"
     ]
    },
    {
     "name": "stderr",
     "output_type": "stream",
     "text": [
      "Train Epoch 0:  76%|███████████████████████████▎        | 1271/1678 [04:06<01:18,  5.16batch/s, train_loss=-1.42e+4]"
     ]
    },
    {
     "name": "stdout",
     "output_type": "stream",
     "text": [
      "\n",
      "torch.Size([3, 250, 250]) (48,)\n",
      "torch.Size([3, 250, 250])\n",
      "torch.Size([3, 250, 250]) (48,)\n",
      "torch.Size([3, 250, 250])"
     ]
    },
    {
     "name": "stderr",
     "output_type": "stream",
     "text": [
      "Train Epoch 0:  76%|███████████████████████████▎        | 1272/1678 [04:06<01:19,  5.12batch/s, train_loss=-12350.0]"
     ]
    },
    {
     "name": "stdout",
     "output_type": "stream",
     "text": [
      "\n",
      "torch.Size([3, 250, 250]) (48,)\n",
      "torch.Size([3, 250, 250])\n",
      "torch.Size([3, 250, 250]) (48,)\n"
     ]
    },
    {
     "name": "stderr",
     "output_type": "stream",
     "text": [
      "Train Epoch 0:  76%|████████████████████████████         | 1273/1678 [04:06<01:19,  5.09batch/s, train_loss=-1.4e+4]"
     ]
    },
    {
     "name": "stdout",
     "output_type": "stream",
     "text": [
      "torch.Size([3, 250, 250])\n",
      "torch.Size([3, 250, 250]) (48,)\n",
      "torch.Size([3, 250, 250])\n",
      "torch.Size([3, 250, 250]) (48,)\n",
      "torch.Size([3, 250, 250])\n",
      "torch.Size([3, 250, 250]) (48,)\n"
     ]
    },
    {
     "name": "stderr",
     "output_type": "stream",
     "text": [
      "Train Epoch 0:  76%|███████████████████████████▎        | 1274/1678 [04:06<01:19,  5.11batch/s, train_loss=-1.24e+4]"
     ]
    },
    {
     "name": "stdout",
     "output_type": "stream",
     "text": [
      "torch.Size([3, 250, 250])\n",
      "torch.Size([3, 250, 250]) (48,)\n",
      "torch.Size([3, 250, 250])\n",
      "torch.Size([3, 250, 250]) (48,)\n",
      "torch.Size([3, 250, 250])\n"
     ]
    },
    {
     "name": "stderr",
     "output_type": "stream",
     "text": [
      "Train Epoch 0:  76%|███████████████████████████▎        | 1275/1678 [04:07<01:18,  5.14batch/s, train_loss=-9.73e+3]"
     ]
    },
    {
     "name": "stdout",
     "output_type": "stream",
     "text": [
      "torch.Size([3, 250, 250]) (48,)\n",
      "torch.Size([3, 250, 250])\n",
      "torch.Size([3, 250, 250]) (48,)\n",
      "torch.Size([3, 250, 250])"
     ]
    },
    {
     "name": "stderr",
     "output_type": "stream",
     "text": [
      "Train Epoch 0:  76%|███████████████████████████▍        | 1276/1678 [04:07<01:17,  5.19batch/s, train_loss=-1.18e+4]"
     ]
    },
    {
     "name": "stdout",
     "output_type": "stream",
     "text": [
      "\n",
      "torch.Size([3, 250, 250]) (48,)\n",
      "torch.Size([3, 250, 250])\n",
      "torch.Size([3, 250, 250]) (48,)\n",
      "torch.Size([3, 250, 250])"
     ]
    },
    {
     "name": "stderr",
     "output_type": "stream",
     "text": [
      "Train Epoch 0:  76%|████████████████████████████▏        | 1277/1678 [04:07<01:17,  5.19batch/s, train_loss=-1.5e+4]"
     ]
    },
    {
     "name": "stdout",
     "output_type": "stream",
     "text": [
      "\n",
      "torch.Size([3, 250, 250]) (48,)\n",
      "torch.Size([3, 250, 250])\n",
      "torch.Size([3, 250, 250]) (48,)\n",
      "torch.Size([3, 250, 250])"
     ]
    },
    {
     "name": "stderr",
     "output_type": "stream",
     "text": [
      "Train Epoch 0:  76%|███████████████████████████▍        | 1278/1678 [04:07<01:16,  5.22batch/s, train_loss=-12350.0]"
     ]
    },
    {
     "name": "stdout",
     "output_type": "stream",
     "text": [
      "\n",
      "torch.Size([3, 250, 250]) (48,)\n",
      "torch.Size([3, 250, 250])\n",
      "torch.Size([3, 250, 250]) (48,)\n",
      "torch.Size([3, 250, 250])"
     ]
    },
    {
     "name": "stderr",
     "output_type": "stream",
     "text": [
      "Train Epoch 0:  76%|███████████████████████████▍        | 1279/1678 [04:07<01:15,  5.26batch/s, train_loss=-1.29e+4]"
     ]
    },
    {
     "name": "stdout",
     "output_type": "stream",
     "text": [
      "\n",
      "torch.Size([3, 250, 250]) (48,)\n",
      "torch.Size([3, 250, 250])\n",
      "torch.Size([3, 250, 250]) (48,)\n"
     ]
    },
    {
     "name": "stderr",
     "output_type": "stream",
     "text": [
      "Train Epoch 0:  76%|███████████████████████████▍        | 1280/1678 [04:08<01:16,  5.22batch/s, train_loss=-1.23e+4]"
     ]
    },
    {
     "name": "stdout",
     "output_type": "stream",
     "text": [
      "torch.Size([3, 250, 250])\n",
      "torch.Size([3, 250, 250]) (48,)\n",
      "torch.Size([3, 250, 250])\n",
      "torch.Size([3, 250, 250]) (48,)\n",
      "torch.Size([3, 250, 250])"
     ]
    },
    {
     "name": "stderr",
     "output_type": "stream",
     "text": [
      "Train Epoch 0:  76%|███████████████████████████▍        | 1281/1678 [04:08<01:17,  5.13batch/s, train_loss=-1.23e+4]"
     ]
    },
    {
     "name": "stdout",
     "output_type": "stream",
     "text": [
      "\n",
      "torch.Size([3, 250, 250]) (48,)\n",
      "torch.Size([3, 250, 250])\n",
      "torch.Size([3, 250, 250]) (48,)\n",
      "torch.Size([3, 250, 250])"
     ]
    },
    {
     "name": "stderr",
     "output_type": "stream",
     "text": [
      "Train Epoch 0:  76%|███████████████████████████▌        | 1282/1678 [04:08<01:16,  5.16batch/s, train_loss=-1.07e+4]"
     ]
    },
    {
     "name": "stdout",
     "output_type": "stream",
     "text": [
      "\n",
      "torch.Size([3, 250, 250]) (48,)\n",
      "torch.Size([3, 250, 250])\n",
      "torch.Size([3, 250, 250]) (48,)\n",
      "torch.Size([3, 250, 250])"
     ]
    },
    {
     "name": "stderr",
     "output_type": "stream",
     "text": [
      "Train Epoch 0:  76%|███████████████████████████▌        | 1283/1678 [04:08<01:15,  5.21batch/s, train_loss=-1.23e+4]"
     ]
    },
    {
     "name": "stdout",
     "output_type": "stream",
     "text": [
      "\n",
      "torch.Size([3, 250, 250]) (48,)\n",
      "torch.Size([3, 250, 250])\n",
      "torch.Size([3, 250, 250]) (48,)\n"
     ]
    },
    {
     "name": "stderr",
     "output_type": "stream",
     "text": [
      "Train Epoch 0:  77%|███████████████████████████▌        | 1284/1678 [04:08<01:16,  5.12batch/s, train_loss=-12350.0]"
     ]
    },
    {
     "name": "stdout",
     "output_type": "stream",
     "text": [
      "torch.Size([3, 250, 250])\n",
      "torch.Size([3, 250, 250]) (48,)\n",
      "torch.Size([3, 250, 250])\n",
      "torch.Size([3, 250, 250]) (48,)\n",
      "torch.Size([3, 250, 250])"
     ]
    },
    {
     "name": "stderr",
     "output_type": "stream",
     "text": [
      "Train Epoch 0:  77%|███████████████████████████▌        | 1285/1678 [04:09<01:17,  5.07batch/s, train_loss=-1.07e+4]"
     ]
    },
    {
     "name": "stdout",
     "output_type": "stream",
     "text": [
      "\n",
      "torch.Size([3, 250, 250]) (48,)\n",
      "torch.Size([3, 250, 250])\n",
      "torch.Size([3, 250, 250]) (48,)\n",
      "torch.Size([3, 250, 250])"
     ]
    },
    {
     "name": "stderr",
     "output_type": "stream",
     "text": [
      "Train Epoch 0:  77%|███████████████████████████▌        | 1286/1678 [04:09<01:16,  5.12batch/s, train_loss=-1.07e+4]"
     ]
    },
    {
     "name": "stdout",
     "output_type": "stream",
     "text": [
      "\n",
      "torch.Size([3, 250, 250]) (48,)\n",
      "torch.Size([3, 250, 250])\n",
      "torch.Size([3, 250, 250]) (48,)\n",
      "torch.Size([3, 250, 250])"
     ]
    },
    {
     "name": "stderr",
     "output_type": "stream",
     "text": [
      "Train Epoch 0:  77%|███████████████████████████▌        | 1287/1678 [04:09<01:16,  5.14batch/s, train_loss=-12350.0]"
     ]
    },
    {
     "name": "stdout",
     "output_type": "stream",
     "text": [
      "\n",
      "torch.Size([3, 250, 250]) (48,)\n",
      "torch.Size([3, 250, 250])\n",
      "torch.Size([3, 250, 250]) (48,)\n",
      "torch.Size([3, 250, 250])"
     ]
    },
    {
     "name": "stderr",
     "output_type": "stream",
     "text": [
      "Train Epoch 0:  77%|███████████████████████████▋        | 1288/1678 [04:09<01:15,  5.17batch/s, train_loss=-12350.0]"
     ]
    },
    {
     "name": "stdout",
     "output_type": "stream",
     "text": [
      "\n",
      "torch.Size([3, 250, 250]) (48,)\n",
      "torch.Size([3, 250, 250])"
     ]
    },
    {
     "name": "stderr",
     "output_type": "stream",
     "text": [
      "Train Epoch 0:  77%|███████████████████████████▋        | 1289/1678 [04:09<01:16,  5.06batch/s, train_loss=-1.39e+4]"
     ]
    },
    {
     "name": "stdout",
     "output_type": "stream",
     "text": [
      "\n",
      "torch.Size([3, 250, 250]) (48,)\n",
      "torch.Size([3, 250, 250])\n",
      "torch.Size([3, 250, 250]) (48,)\n"
     ]
    },
    {
     "name": "stderr",
     "output_type": "stream",
     "text": [
      "Train Epoch 0:  77%|████████████████████████████▍        | 1290/1678 [04:10<01:18,  4.97batch/s, train_loss=-1.3e+4]"
     ]
    },
    {
     "name": "stdout",
     "output_type": "stream",
     "text": [
      "torch.Size([3, 250, 250])\n",
      "torch.Size([3, 250, 250]) (48,)\n",
      "torch.Size([3, 250, 250])\n",
      "torch.Size([3, 250, 250]) (48,)\n",
      "torch.Size([3, 250, 250])"
     ]
    },
    {
     "name": "stderr",
     "output_type": "stream",
     "text": [
      "Train Epoch 0:  77%|███████████████████████████▋        | 1291/1678 [04:10<01:17,  4.97batch/s, train_loss=-12350.0]"
     ]
    },
    {
     "name": "stdout",
     "output_type": "stream",
     "text": [
      "\n",
      "torch.Size([3, 250, 250]) (48,)\n",
      "torch.Size([3, 250, 250])\n",
      "torch.Size([3, 250, 250]) (48,)\n",
      "torch.Size([3, 250, 250])"
     ]
    },
    {
     "name": "stderr",
     "output_type": "stream",
     "text": [
      "Train Epoch 0:  77%|████████████████████████████▍        | 1292/1678 [04:10<01:17,  4.98batch/s, train_loss=-1.3e+4]"
     ]
    },
    {
     "name": "stdout",
     "output_type": "stream",
     "text": [
      "\n",
      "torch.Size([3, 250, 250]) (48,)\n",
      "torch.Size([3, 250, 250])\n",
      "torch.Size([3, 250, 250]) (48,)\n",
      "torch.Size([3, 250, 250])"
     ]
    },
    {
     "name": "stderr",
     "output_type": "stream",
     "text": [
      "Train Epoch 0:  77%|███████████████████████████▋        | 1293/1678 [04:10<01:15,  5.09batch/s, train_loss=-1.39e+4]"
     ]
    },
    {
     "name": "stdout",
     "output_type": "stream",
     "text": [
      "\n",
      "torch.Size([3, 250, 250]) (48,)\n",
      "torch.Size([3, 250, 250])\n",
      "torch.Size([3, 250, 250]) (48,)\n"
     ]
    },
    {
     "name": "stderr",
     "output_type": "stream",
     "text": [
      "Train Epoch 0:  77%|███████████████████████████▊        | 1294/1678 [04:10<01:15,  5.09batch/s, train_loss=-1.39e+4]"
     ]
    },
    {
     "name": "stdout",
     "output_type": "stream",
     "text": [
      "torch.Size([3, 250, 250])\n",
      "torch.Size([3, 250, 250]) (48,)\n",
      "torch.Size([3, 250, 250])\n",
      "torch.Size([3, 250, 250]) (48,)\n",
      "torch.Size([3, 250, 250])"
     ]
    },
    {
     "name": "stderr",
     "output_type": "stream",
     "text": [
      "Train Epoch 0:  77%|███████████████████████████▊        | 1295/1678 [04:10<01:15,  5.08batch/s, train_loss=-1.28e+4]"
     ]
    },
    {
     "name": "stdout",
     "output_type": "stream",
     "text": [
      "\n",
      "torch.Size([3, 250, 250]) (48,)\n",
      "torch.Size([3, 250, 250])\n",
      "torch.Size([3, 250, 250]) (48,)\n",
      "torch.Size([3, 250, 250])"
     ]
    },
    {
     "name": "stderr",
     "output_type": "stream",
     "text": [
      "Train Epoch 0:  77%|███████████████████████████▊        | 1296/1678 [04:11<01:14,  5.13batch/s, train_loss=-1.43e+4]"
     ]
    },
    {
     "name": "stdout",
     "output_type": "stream",
     "text": [
      "\n",
      "torch.Size([3, 250, 250]) (48,)\n",
      "torch.Size([3, 250, 250])\n",
      "torch.Size([3, 250, 250]) (48,)\n",
      "torch.Size([3, 250, 250])"
     ]
    },
    {
     "name": "stderr",
     "output_type": "stream",
     "text": [
      "Train Epoch 0:  77%|███████████████████████████▊        | 1297/1678 [04:11<01:13,  5.19batch/s, train_loss=-1.37e+4]"
     ]
    },
    {
     "name": "stdout",
     "output_type": "stream",
     "text": [
      "\n",
      "torch.Size([3, 250, 250]) (48,)\n",
      "torch.Size([3, 250, 250])\n",
      "torch.Size([3, 250, 250]) (48,)\n",
      "torch.Size([3, 250, 250])"
     ]
    },
    {
     "name": "stderr",
     "output_type": "stream",
     "text": [
      "Train Epoch 0:  77%|███████████████████████████▊        | 1298/1678 [04:11<01:13,  5.20batch/s, train_loss=-1.23e+4]"
     ]
    },
    {
     "name": "stdout",
     "output_type": "stream",
     "text": [
      "\n",
      "torch.Size([3, 250, 250]) (48,)\n",
      "torch.Size([3, 250, 250])\n",
      "torch.Size([3, 250, 250]) (48,)\n",
      "torch.Size([3, 250, 250])"
     ]
    },
    {
     "name": "stderr",
     "output_type": "stream",
     "text": [
      "Train Epoch 0:  77%|████████████████████████████▋        | 1299/1678 [04:11<01:12,  5.23batch/s, train_loss=-1.3e+4]"
     ]
    },
    {
     "name": "stdout",
     "output_type": "stream",
     "text": [
      "\n",
      "torch.Size([3, 250, 250]) (48,)\n",
      "torch.Size([3, 250, 250])\n",
      "torch.Size([3, 250, 250]) (48,)\n",
      "torch.Size([3, 250, 250])"
     ]
    },
    {
     "name": "stderr",
     "output_type": "stream",
     "text": [
      "Train Epoch 0:  77%|███████████████████████████▉        | 1300/1678 [04:11<01:12,  5.24batch/s, train_loss=-1.38e+4]"
     ]
    },
    {
     "name": "stdout",
     "output_type": "stream",
     "text": [
      "\n",
      "torch.Size([3, 250, 250]) (48,)\n",
      "torch.Size([3, 250, 250])\n",
      "torch.Size([3, 250, 250]) (48,)\n",
      "torch.Size([3, 250, 250])"
     ]
    },
    {
     "name": "stderr",
     "output_type": "stream",
     "text": [
      "Train Epoch 0:  78%|████████████████████████████▋        | 1301/1678 [04:12<01:12,  5.18batch/s, train_loss=-1.3e+4]"
     ]
    },
    {
     "name": "stdout",
     "output_type": "stream",
     "text": [
      "\n",
      "torch.Size([3, 250, 250]) (48,)\n",
      "torch.Size([3, 250, 250])\n",
      "torch.Size([3, 250, 250]) (48,)\n"
     ]
    },
    {
     "name": "stderr",
     "output_type": "stream",
     "text": [
      "Train Epoch 0:  78%|███████████████████████████▉        | 1302/1678 [04:12<01:13,  5.14batch/s, train_loss=-1.36e+4]"
     ]
    },
    {
     "name": "stdout",
     "output_type": "stream",
     "text": [
      "torch.Size([3, 250, 250])\n",
      "torch.Size([3, 250, 250]) (48,)\n",
      "torch.Size([3, 250, 250])\n",
      "torch.Size([3, 250, 250]) (48,)\n",
      "torch.Size([3, 250, 250])"
     ]
    },
    {
     "name": "stderr",
     "output_type": "stream",
     "text": [
      "Train Epoch 0:  78%|███████████████████████████▉        | 1303/1678 [04:12<01:12,  5.16batch/s, train_loss=-1.11e+4]"
     ]
    },
    {
     "name": "stdout",
     "output_type": "stream",
     "text": [
      "\n",
      "torch.Size([3, 250, 250]) (48,)\n",
      "torch.Size([3, 250, 250])\n",
      "torch.Size([3, 250, 250]) (48,)\n",
      "torch.Size([3, 250, 250])"
     ]
    },
    {
     "name": "stderr",
     "output_type": "stream",
     "text": [
      "Train Epoch 0:  78%|███████████████████████████▉        | 1304/1678 [04:12<01:11,  5.20batch/s, train_loss=-1.37e+4]"
     ]
    },
    {
     "name": "stdout",
     "output_type": "stream",
     "text": [
      "\n",
      "torch.Size([3, 250, 250]) (48,)\n",
      "torch.Size([3, 250, 250])\n",
      "torch.Size([3, 250, 250]) (48,)\n",
      "torch.Size([3, 250, 250])"
     ]
    },
    {
     "name": "stderr",
     "output_type": "stream",
     "text": [
      "Train Epoch 0:  78%|███████████████████████████▉        | 1305/1678 [04:12<01:11,  5.22batch/s, train_loss=-1.38e+4]"
     ]
    },
    {
     "name": "stdout",
     "output_type": "stream",
     "text": [
      "\n",
      "torch.Size([3, 250, 250]) (48,)\n",
      "torch.Size([3, 250, 250])\n",
      "torch.Size([3, 250, 250]) (48,)\n",
      "torch.Size([3, 250, 250])"
     ]
    },
    {
     "name": "stderr",
     "output_type": "stream",
     "text": [
      "Train Epoch 0:  78%|████████████████████████████        | 1306/1678 [04:13<01:10,  5.24batch/s, train_loss=-1.25e+4]"
     ]
    },
    {
     "name": "stdout",
     "output_type": "stream",
     "text": [
      "\n",
      "torch.Size([3, 250, 250]) (48,)\n",
      "torch.Size([3, 250, 250])\n",
      "torch.Size([3, 250, 250]) (48,)\n",
      "torch.Size([3, 250, 250])"
     ]
    },
    {
     "name": "stderr",
     "output_type": "stream",
     "text": [
      "Train Epoch 0:  78%|████████████████████████████        | 1307/1678 [04:13<01:11,  5.19batch/s, train_loss=-1.36e+4]"
     ]
    },
    {
     "name": "stdout",
     "output_type": "stream",
     "text": [
      "\n",
      "torch.Size([3, 250, 250]) (48,)\n",
      "torch.Size([3, 250, 250])\n",
      "torch.Size([3, 250, 250]) (48,)\n",
      "torch.Size([3, 250, 250])"
     ]
    },
    {
     "name": "stderr",
     "output_type": "stream",
     "text": [
      "Train Epoch 0:  78%|████████████████████████████        | 1308/1678 [04:13<01:11,  5.20batch/s, train_loss=-1.16e+4]"
     ]
    },
    {
     "name": "stdout",
     "output_type": "stream",
     "text": [
      "\n",
      "torch.Size([3, 250, 250]) (48,)\n",
      "torch.Size([3, 250, 250])\n",
      "torch.Size([3, 250, 250]) (48,)\n",
      "torch.Size([3, 250, 250])"
     ]
    },
    {
     "name": "stderr",
     "output_type": "stream",
     "text": [
      "Train Epoch 0:  78%|████████████████████████████        | 1309/1678 [04:13<01:11,  5.13batch/s, train_loss=-1.24e+4]"
     ]
    },
    {
     "name": "stdout",
     "output_type": "stream",
     "text": [
      "\n",
      "torch.Size([3, 250, 250]) (48,)\n",
      "torch.Size([3, 250, 250])\n",
      "torch.Size([3, 250, 250]) (48,)\n",
      "torch.Size([3, 250, 250])"
     ]
    },
    {
     "name": "stderr",
     "output_type": "stream",
     "text": [
      "Train Epoch 0:  78%|████████████████████████████        | 1310/1678 [04:13<01:12,  5.10batch/s, train_loss=-1.43e+4]"
     ]
    },
    {
     "name": "stdout",
     "output_type": "stream",
     "text": [
      "\n",
      "torch.Size([3, 250, 250]) (48,)\n",
      "torch.Size([3, 250, 250])\n",
      "torch.Size([3, 250, 250]) (48,)\n",
      "torch.Size([3, 250, 250])"
     ]
    },
    {
     "name": "stderr",
     "output_type": "stream",
     "text": [
      "Train Epoch 0:  78%|████████████████████████████▏       | 1311/1678 [04:14<01:12,  5.07batch/s, train_loss=-1.34e+4]"
     ]
    },
    {
     "name": "stdout",
     "output_type": "stream",
     "text": [
      "\n",
      "torch.Size([3, 250, 250]) (48,)\n",
      "torch.Size([3, 250, 250])\n",
      "torch.Size([3, 250, 250]) (48,)\n",
      "torch.Size([3, 250, 250])"
     ]
    },
    {
     "name": "stderr",
     "output_type": "stream",
     "text": [
      "Train Epoch 0:  78%|████████████████████████████▏       | 1312/1678 [04:14<01:11,  5.10batch/s, train_loss=-1.35e+4]"
     ]
    },
    {
     "name": "stdout",
     "output_type": "stream",
     "text": [
      "\n",
      "torch.Size([3, 250, 250]) (48,)\n",
      "torch.Size([3, 250, 250])\n",
      "torch.Size([3, 250, 250]) (48,)\n",
      "torch.Size([3, 250, 250])"
     ]
    },
    {
     "name": "stderr",
     "output_type": "stream",
     "text": [
      "Train Epoch 0:  78%|████████████████████████████▏       | 1313/1678 [04:14<01:11,  5.13batch/s, train_loss=-1.39e+4]"
     ]
    },
    {
     "name": "stdout",
     "output_type": "stream",
     "text": [
      "\n",
      "torch.Size([3, 250, 250]) (48,)\n",
      "torch.Size([3, 250, 250])\n",
      "torch.Size([3, 250, 250]) (48,)\n",
      "torch.Size([3, 250, 250])"
     ]
    },
    {
     "name": "stderr",
     "output_type": "stream",
     "text": [
      "Train Epoch 0:  78%|████████████████████████████▉        | 1314/1678 [04:14<01:10,  5.16batch/s, train_loss=-1.4e+4]"
     ]
    },
    {
     "name": "stdout",
     "output_type": "stream",
     "text": [
      "\n",
      "torch.Size([3, 250, 250]) (48,)\n",
      "torch.Size([3, 250, 250])\n",
      "torch.Size([3, 250, 250]) (48,)\n",
      "torch.Size([3, 250, 250])"
     ]
    },
    {
     "name": "stderr",
     "output_type": "stream",
     "text": [
      "Train Epoch 0:  78%|████████████████████████████▏       | 1315/1678 [04:14<01:10,  5.15batch/s, train_loss=-1.28e+4]"
     ]
    },
    {
     "name": "stdout",
     "output_type": "stream",
     "text": [
      "\n",
      "torch.Size([3, 250, 250]) (48,)\n",
      "torch.Size([3, 250, 250])\n",
      "torch.Size([3, 250, 250]) (48,)\n",
      "torch.Size([3, 250, 250])"
     ]
    },
    {
     "name": "stderr",
     "output_type": "stream",
     "text": [
      "Train Epoch 0:  78%|████████████████████████████▏       | 1316/1678 [04:15<01:11,  5.09batch/s, train_loss=-1.31e+4]"
     ]
    },
    {
     "name": "stdout",
     "output_type": "stream",
     "text": [
      "\n",
      "torch.Size([3, 250, 250]) (48,)\n",
      "torch.Size([3, 250, 250])\n",
      "torch.Size([3, 250, 250]) (48,)\n",
      "torch.Size([3, 250, 250])\n"
     ]
    },
    {
     "name": "stderr",
     "output_type": "stream",
     "text": [
      "Train Epoch 0:  78%|████████████████████████████▎       | 1317/1678 [04:15<01:10,  5.15batch/s, train_loss=-1.17e+4]"
     ]
    },
    {
     "name": "stdout",
     "output_type": "stream",
     "text": [
      "torch.Size([3, 250, 250]) (48,)\n",
      "torch.Size([3, 250, 250])\n",
      "torch.Size([3, 250, 250]) (48,)\n",
      "torch.Size([3, 250, 250])"
     ]
    },
    {
     "name": "stderr",
     "output_type": "stream",
     "text": [
      "Train Epoch 0:  79%|████████████████████████████▎       | 1318/1678 [04:15<01:10,  5.12batch/s, train_loss=-1.07e+4]"
     ]
    },
    {
     "name": "stdout",
     "output_type": "stream",
     "text": [
      "\n",
      "torch.Size([3, 250, 250]) (48,)\n",
      "torch.Size([3, 250, 250])\n",
      "torch.Size([3, 250, 250]) (48,)\n",
      "torch.Size([3, 250, 250])"
     ]
    },
    {
     "name": "stderr",
     "output_type": "stream",
     "text": [
      "Train Epoch 0:  79%|████████████████████████████▎       | 1319/1678 [04:15<01:09,  5.17batch/s, train_loss=-1.34e+4]"
     ]
    },
    {
     "name": "stdout",
     "output_type": "stream",
     "text": [
      "\n",
      "torch.Size([3, 250, 250]) (48,)\n",
      "torch.Size([3, 250, 250])\n",
      "torch.Size([3, 250, 250]) (48,)\n",
      "torch.Size([3, 250, 250])"
     ]
    },
    {
     "name": "stderr",
     "output_type": "stream",
     "text": [
      "Train Epoch 0:  79%|████████████████████████████▎       | 1320/1678 [04:15<01:09,  5.16batch/s, train_loss=-1.18e+4]"
     ]
    },
    {
     "name": "stdout",
     "output_type": "stream",
     "text": [
      "\n",
      "torch.Size([3, 250, 250]) (48,)\n",
      "torch.Size([3, 250, 250])\n",
      "torch.Size([3, 250, 250]) (48,)\n",
      "torch.Size([3, 250, 250])\n"
     ]
    },
    {
     "name": "stderr",
     "output_type": "stream",
     "text": [
      "Train Epoch 0:  79%|████████████████████████████▎       | 1320/1678 [04:16<01:09,  5.16batch/s, train_loss=-1.25e+4]"
     ]
    },
    {
     "name": "stdout",
     "output_type": "stream",
     "text": [
      "torch.Size([3, 250, 250]) (48,)\n",
      "torch.Size([3, 250, 250])\n",
      "torch.Size([3, 250, 250]) (48,)\n"
     ]
    },
    {
     "name": "stderr",
     "output_type": "stream",
     "text": [
      "Train Epoch 0:  79%|████████████████████████████▎       | 1322/1678 [04:16<01:09,  5.15batch/s, train_loss=-1.27e+4]"
     ]
    },
    {
     "name": "stdout",
     "output_type": "stream",
     "text": [
      "torch.Size([3, 250, 250])\n",
      "torch.Size([3, 250, 250]) (48,)\n",
      "torch.Size([3, 250, 250])\n",
      "torch.Size([3, 250, 250]) (48,)\n",
      "torch.Size([3, 250, 250])"
     ]
    },
    {
     "name": "stderr",
     "output_type": "stream",
     "text": [
      "Train Epoch 0:  79%|████████████████████████████▍       | 1323/1678 [04:16<01:09,  5.12batch/s, train_loss=-1.24e+4]"
     ]
    },
    {
     "name": "stdout",
     "output_type": "stream",
     "text": [
      "\n",
      "torch.Size([3, 250, 250]) (48,)\n",
      "torch.Size([3, 250, 250])\n",
      "torch.Size([3, 250, 250]) (48,)\n",
      "torch.Size([3, 250, 250])"
     ]
    },
    {
     "name": "stderr",
     "output_type": "stream",
     "text": [
      "Train Epoch 0:  79%|████████████████████████████▍       | 1324/1678 [04:16<01:09,  5.11batch/s, train_loss=-1.24e+4]"
     ]
    },
    {
     "name": "stdout",
     "output_type": "stream",
     "text": [
      "\n",
      "torch.Size([3, 250, 250]) (48,)\n",
      "torch.Size([3, 250, 250])\n",
      "torch.Size([3, 250, 250]) (48,)\n",
      "torch.Size([3, 250, 250])"
     ]
    },
    {
     "name": "stderr",
     "output_type": "stream",
     "text": [
      "Train Epoch 0:  79%|████████████████████████████▍       | 1325/1678 [04:16<01:08,  5.16batch/s, train_loss=-1.29e+4]"
     ]
    },
    {
     "name": "stdout",
     "output_type": "stream",
     "text": [
      "\n",
      "torch.Size([3, 250, 250]) (48,)\n",
      "torch.Size([3, 250, 250])\n",
      "torch.Size([3, 250, 250]) (48,)\n",
      "torch.Size([3, 250, 250])"
     ]
    },
    {
     "name": "stderr",
     "output_type": "stream",
     "text": [
      "Train Epoch 0:  79%|████████████████████████████▍       | 1326/1678 [04:16<01:07,  5.18batch/s, train_loss=-1.29e+4]"
     ]
    },
    {
     "name": "stdout",
     "output_type": "stream",
     "text": [
      "\n",
      "torch.Size([3, 250, 250]) (48,)\n",
      "torch.Size([3, 250, 250])\n",
      "torch.Size([3, 250, 250]) (48,)\n",
      "torch.Size([3, 250, 250])"
     ]
    },
    {
     "name": "stderr",
     "output_type": "stream",
     "text": [
      "Train Epoch 0:  79%|████████████████████████████▍       | 1327/1678 [04:17<01:08,  5.11batch/s, train_loss=-1.24e+4]"
     ]
    },
    {
     "name": "stdout",
     "output_type": "stream",
     "text": [
      "\n",
      "torch.Size([3, 250, 250]) (48,)\n",
      "torch.Size([3, 250, 250])\n",
      "torch.Size([3, 250, 250]) (48,)\n",
      "torch.Size([3, 250, 250])"
     ]
    },
    {
     "name": "stderr",
     "output_type": "stream",
     "text": [
      "Train Epoch 0:  79%|████████████████████████████▍       | 1328/1678 [04:17<01:07,  5.15batch/s, train_loss=-1.29e+4]"
     ]
    },
    {
     "name": "stdout",
     "output_type": "stream",
     "text": [
      "\n",
      "torch.Size([3, 250, 250]) (48,)\n",
      "torch.Size([3, 250, 250])\n",
      "torch.Size([3, 250, 250]) (48,)\n",
      "torch.Size([3, 250, 250])"
     ]
    },
    {
     "name": "stderr",
     "output_type": "stream",
     "text": [
      "Train Epoch 0:  79%|████████████████████████████▌       | 1329/1678 [04:17<01:07,  5.19batch/s, train_loss=-1.38e+4]"
     ]
    },
    {
     "name": "stdout",
     "output_type": "stream",
     "text": [
      "\n",
      "torch.Size([3, 250, 250]) (48,)\n",
      "torch.Size([3, 250, 250])\n",
      "torch.Size([3, 250, 250]) (48,)\n",
      "torch.Size([3, 250, 250])"
     ]
    },
    {
     "name": "stderr",
     "output_type": "stream",
     "text": [
      "Train Epoch 0:  79%|████████████████████████████▌       | 1330/1678 [04:17<01:06,  5.25batch/s, train_loss=-1.44e+4]"
     ]
    },
    {
     "name": "stdout",
     "output_type": "stream",
     "text": [
      "\n",
      "torch.Size([3, 250, 250]) (48,)\n",
      "torch.Size([3, 250, 250])\n",
      "torch.Size([3, 250, 250]) (48,)\n",
      "torch.Size([3, 250, 250])"
     ]
    },
    {
     "name": "stderr",
     "output_type": "stream",
     "text": [
      "Train Epoch 0:  79%|████████████████████████████▌       | 1331/1678 [04:17<01:07,  5.17batch/s, train_loss=-1.38e+4]"
     ]
    },
    {
     "name": "stdout",
     "output_type": "stream",
     "text": [
      "\n",
      "torch.Size([3, 250, 250]) (48,)\n",
      "torch.Size([3, 250, 250])\n",
      "torch.Size([3, 250, 250]) (48,)\n",
      "torch.Size([3, 250, 250])"
     ]
    },
    {
     "name": "stderr",
     "output_type": "stream",
     "text": [
      "Train Epoch 0:  79%|████████████████████████████▌       | 1332/1678 [04:18<01:07,  5.13batch/s, train_loss=-1.24e+4]"
     ]
    },
    {
     "name": "stdout",
     "output_type": "stream",
     "text": [
      "\n",
      "torch.Size([3, 250, 250]) (48,)\n",
      "torch.Size([3, 250, 250])\n",
      "torch.Size([3, 250, 250]) (48,)\n",
      "torch.Size([3, 250, 250])"
     ]
    },
    {
     "name": "stderr",
     "output_type": "stream",
     "text": [
      "\r",
      "Train Epoch 0:  79%|████████████████████████████▌       | 1332/1678 [04:18<01:07,  5.13batch/s, train_loss=-1.24e+4]"
     ]
    },
    {
     "name": "stdout",
     "output_type": "stream",
     "text": [
      "\n",
      "torch.Size([3, 250, 250]) (48,)\n",
      "torch.Size([3, 250, 250])\n",
      "torch.Size([3, 250, 250]) (48,)\n"
     ]
    },
    {
     "name": "stderr",
     "output_type": "stream",
     "text": [
      "Train Epoch 0:  79%|████████████████████████████▌       | 1334/1678 [04:18<01:07,  5.09batch/s, train_loss=-1.16e+4]"
     ]
    },
    {
     "name": "stdout",
     "output_type": "stream",
     "text": [
      "torch.Size([3, 250, 250])\n",
      "torch.Size([3, 250, 250]) (48,)\n",
      "torch.Size([3, 250, 250])\n",
      "torch.Size([3, 250, 250]) (48,)\n",
      "torch.Size([3, 250, 250])"
     ]
    },
    {
     "name": "stderr",
     "output_type": "stream",
     "text": [
      "Train Epoch 0:  80%|████████████████████████████▋       | 1335/1678 [04:18<01:08,  5.04batch/s, train_loss=-1.38e+4]"
     ]
    },
    {
     "name": "stdout",
     "output_type": "stream",
     "text": [
      "\n",
      "torch.Size([3, 250, 250]) (48,)\n",
      "torch.Size([3, 250, 250])\n",
      "torch.Size([3, 250, 250]) (48,)\n",
      "torch.Size([3, 250, 250])\n",
      "torch.Size([3, 250, 250]) (48,)\n"
     ]
    },
    {
     "name": "stderr",
     "output_type": "stream",
     "text": [
      "Train Epoch 0:  80%|████████████████████████████▋       | 1336/1678 [04:18<01:08,  4.97batch/s, train_loss=-1.39e+4]"
     ]
    },
    {
     "name": "stdout",
     "output_type": "stream",
     "text": [
      "torch.Size([3, 250, 250])\n",
      "torch.Size([3, 250, 250]) (48,)\n",
      "torch.Size([3, 250, 250])\n",
      "torch.Size([3, 250, 250]) (48,)\n",
      "torch.Size([3, 250, 250])"
     ]
    },
    {
     "name": "stderr",
     "output_type": "stream",
     "text": [
      "Train Epoch 0:  80%|████████████████████████████▋       | 1337/1678 [04:19<01:07,  5.05batch/s, train_loss=-1.07e+4]"
     ]
    },
    {
     "name": "stdout",
     "output_type": "stream",
     "text": [
      "\n",
      "torch.Size([3, 250, 250]) (48,)\n",
      "torch.Size([3, 250, 250])\n",
      "torch.Size([3, 250, 250]) (48,)\n",
      "torch.Size([3, 250, 250])"
     ]
    },
    {
     "name": "stderr",
     "output_type": "stream",
     "text": [
      "Train Epoch 0:  80%|████████████████████████████▋       | 1338/1678 [04:19<01:07,  5.02batch/s, train_loss=-1.26e+4]"
     ]
    },
    {
     "name": "stdout",
     "output_type": "stream",
     "text": [
      "\n",
      "torch.Size([3, 250, 250]) (48,)\n",
      "torch.Size([3, 250, 250])\n",
      "torch.Size([3, 250, 250]) (48,)\n",
      "torch.Size([3, 250, 250])"
     ]
    },
    {
     "name": "stderr",
     "output_type": "stream",
     "text": [
      "Train Epoch 0:  80%|████████████████████████████▋       | 1339/1678 [04:19<01:07,  5.00batch/s, train_loss=-1.23e+4]"
     ]
    },
    {
     "name": "stdout",
     "output_type": "stream",
     "text": [
      "\n",
      "torch.Size([3, 250, 250]) (48,)\n",
      "torch.Size([3, 250, 250])\n",
      "torch.Size([3, 250, 250]) (48,)\n",
      "torch.Size([3, 250, 250])"
     ]
    },
    {
     "name": "stderr",
     "output_type": "stream",
     "text": [
      "Train Epoch 0:  80%|█████████████████████████████▌       | 1340/1678 [04:19<01:07,  5.03batch/s, train_loss=-1.4e+4]"
     ]
    },
    {
     "name": "stdout",
     "output_type": "stream",
     "text": [
      "\n",
      "torch.Size([3, 250, 250]) (48,)\n",
      "torch.Size([3, 250, 250])\n",
      "torch.Size([3, 250, 250]) (48,)\n",
      "torch.Size([3, 250, 250])"
     ]
    },
    {
     "name": "stderr",
     "output_type": "stream",
     "text": [
      "Train Epoch 0:  80%|████████████████████████████▊       | 1341/1678 [04:19<01:06,  5.08batch/s, train_loss=-1.36e+4]"
     ]
    },
    {
     "name": "stdout",
     "output_type": "stream",
     "text": [
      "\n",
      "torch.Size([3, 250, 250]) (48,)\n",
      "torch.Size([3, 250, 250])\n",
      "torch.Size([3, 250, 250]) (48,)\n",
      "torch.Size([3, 250, 250])"
     ]
    },
    {
     "name": "stderr",
     "output_type": "stream",
     "text": [
      "Train Epoch 0:  80%|████████████████████████████▊       | 1342/1678 [04:20<01:05,  5.11batch/s, train_loss=-1.38e+4]"
     ]
    },
    {
     "name": "stdout",
     "output_type": "stream",
     "text": [
      "\n",
      "torch.Size([3, 250, 250]) (48,)\n",
      "torch.Size([3, 250, 250])\n",
      "torch.Size([3, 250, 250]) (48,)\n",
      "torch.Size([3, 250, 250])"
     ]
    },
    {
     "name": "stderr",
     "output_type": "stream",
     "text": [
      "Train Epoch 0:  80%|████████████████████████████▊       | 1343/1678 [04:20<01:04,  5.15batch/s, train_loss=-1.36e+4]"
     ]
    },
    {
     "name": "stdout",
     "output_type": "stream",
     "text": [
      "\n",
      "torch.Size([3, 250, 250]) (48,)\n",
      "torch.Size([3, 250, 250])\n",
      "torch.Size([3, 250, 250]) (48,)\n",
      "torch.Size([3, 250, 250])"
     ]
    },
    {
     "name": "stderr",
     "output_type": "stream",
     "text": [
      "Train Epoch 0:  80%|█████████████████████████████▋       | 1344/1678 [04:20<01:04,  5.20batch/s, train_loss=-1.4e+4]"
     ]
    },
    {
     "name": "stdout",
     "output_type": "stream",
     "text": [
      "\n",
      "torch.Size([3, 250, 250]) (48,)\n",
      "torch.Size([3, 250, 250])\n",
      "torch.Size([3, 250, 250]) (48,)\n",
      "torch.Size([3, 250, 250])"
     ]
    },
    {
     "name": "stderr",
     "output_type": "stream",
     "text": [
      "Train Epoch 0:  80%|█████████████████████████████▋       | 1345/1678 [04:20<01:05,  5.11batch/s, train_loss=-1.4e+4]"
     ]
    },
    {
     "name": "stdout",
     "output_type": "stream",
     "text": [
      "\n",
      "torch.Size([3, 250, 250]) (48,)\n",
      "torch.Size([3, 250, 250])\n",
      "torch.Size([3, 250, 250]) (48,)\n"
     ]
    },
    {
     "name": "stderr",
     "output_type": "stream",
     "text": [
      "Train Epoch 0:  80%|████████████████████████████▉       | 1346/1678 [04:20<01:05,  5.04batch/s, train_loss=-1.36e+4]"
     ]
    },
    {
     "name": "stdout",
     "output_type": "stream",
     "text": [
      "torch.Size([3, 250, 250])\n",
      "torch.Size([3, 250, 250]) (48,)\n",
      "torch.Size([3, 250, 250])\n",
      "torch.Size([3, 250, 250]) (48,)\n",
      "torch.Size([3, 250, 250])"
     ]
    },
    {
     "name": "stderr",
     "output_type": "stream",
     "text": [
      "Train Epoch 0:  80%|████████████████████████████▉       | 1347/1678 [04:21<01:05,  5.07batch/s, train_loss=-1.41e+4]"
     ]
    },
    {
     "name": "stdout",
     "output_type": "stream",
     "text": [
      "\n",
      "torch.Size([3, 250, 250]) (48,)\n",
      "torch.Size([3, 250, 250])\n",
      "torch.Size([3, 250, 250]) (48,)\n",
      "torch.Size([3, 250, 250])"
     ]
    },
    {
     "name": "stderr",
     "output_type": "stream",
     "text": [
      "Train Epoch 0:  80%|████████████████████████████▉       | 1348/1678 [04:21<01:04,  5.14batch/s, train_loss=-1.53e+4]"
     ]
    },
    {
     "name": "stdout",
     "output_type": "stream",
     "text": [
      "\n",
      "torch.Size([3, 250, 250]) (48,)\n",
      "torch.Size([3, 250, 250])\n",
      "torch.Size([3, 250, 250]) (48,)\n",
      "torch.Size([3, 250, 250])"
     ]
    },
    {
     "name": "stderr",
     "output_type": "stream",
     "text": [
      "Train Epoch 0:  80%|████████████████████████████▉       | 1349/1678 [04:21<01:03,  5.18batch/s, train_loss=-1.36e+4]"
     ]
    },
    {
     "name": "stdout",
     "output_type": "stream",
     "text": [
      "\n",
      "torch.Size([3, 250, 250]) (48,)\n",
      "torch.Size([3, 250, 250])\n",
      "torch.Size([3, 250, 250]) (48,)\n",
      "torch.Size([3, 250, 250])"
     ]
    },
    {
     "name": "stderr",
     "output_type": "stream",
     "text": [
      "Train Epoch 0:  80%|████████████████████████████▉       | 1350/1678 [04:21<01:02,  5.23batch/s, train_loss=-1.11e+4]"
     ]
    },
    {
     "name": "stdout",
     "output_type": "stream",
     "text": [
      "\n",
      "torch.Size([3, 250, 250]) (48,)\n",
      "torch.Size([3, 250, 250])\n",
      "torch.Size([3, 250, 250]) (48,)\n",
      "torch.Size([3, 250, 250])"
     ]
    },
    {
     "name": "stderr",
     "output_type": "stream",
     "text": [
      "Train Epoch 0:  81%|████████████████████████████▉       | 1351/1678 [04:21<01:01,  5.30batch/s, train_loss=-1.06e+4]"
     ]
    },
    {
     "name": "stdout",
     "output_type": "stream",
     "text": [
      "\n",
      "torch.Size([3, 250, 250]) (48,)\n",
      "torch.Size([3, 250, 250])\n",
      "torch.Size([3, 250, 250]) (48,)\n",
      "torch.Size([3, 250, 250])"
     ]
    },
    {
     "name": "stderr",
     "output_type": "stream",
     "text": [
      "Train Epoch 0:  81%|█████████████████████████████       | 1352/1678 [04:22<01:01,  5.29batch/s, train_loss=-1.24e+4]"
     ]
    },
    {
     "name": "stdout",
     "output_type": "stream",
     "text": [
      "\n",
      "torch.Size([3, 250, 250]) (48,)\n",
      "torch.Size([3, 250, 250])\n",
      "torch.Size([3, 250, 250]) (48,)\n",
      "torch.Size([3, 250, 250])"
     ]
    },
    {
     "name": "stderr",
     "output_type": "stream",
     "text": [
      "Train Epoch 0:  81%|█████████████████████████████       | 1353/1678 [04:22<01:01,  5.29batch/s, train_loss=-1.24e+4]"
     ]
    },
    {
     "name": "stdout",
     "output_type": "stream",
     "text": [
      "\n",
      "torch.Size([3, 250, 250]) (48,)\n",
      "torch.Size([3, 250, 250])\n",
      "torch.Size([3, 250, 250]) (48,)\n",
      "torch.Size([3, 250, 250])"
     ]
    },
    {
     "name": "stderr",
     "output_type": "stream",
     "text": [
      "Train Epoch 0:  81%|█████████████████████████████       | 1354/1678 [04:22<01:01,  5.23batch/s, train_loss=-1.29e+4]"
     ]
    },
    {
     "name": "stdout",
     "output_type": "stream",
     "text": [
      "\n",
      "torch.Size([3, 250, 250]) (48,)\n",
      "torch.Size([3, 250, 250])\n"
     ]
    },
    {
     "name": "stderr",
     "output_type": "stream",
     "text": [
      "Train Epoch 0:  81%|█████████████████████████████       | 1355/1678 [04:22<01:02,  5.17batch/s, train_loss=-1.25e+4]"
     ]
    },
    {
     "name": "stdout",
     "output_type": "stream",
     "text": [
      "torch.Size([3, 250, 250]) (48,)\n",
      "torch.Size([3, 250, 250])\n",
      "torch.Size([3, 250, 250]) (48,)\n",
      "torch.Size([3, 250, 250])"
     ]
    },
    {
     "name": "stderr",
     "output_type": "stream",
     "text": [
      "Train Epoch 0:  81%|█████████████████████████████       | 1356/1678 [04:22<01:02,  5.14batch/s, train_loss=-1.25e+4]"
     ]
    },
    {
     "name": "stdout",
     "output_type": "stream",
     "text": [
      "\n",
      "torch.Size([3, 250, 250]) (48,)\n",
      "torch.Size([3, 250, 250])\n",
      "torch.Size([3, 250, 250]) (48,)\n",
      "torch.Size([3, 250, 250])"
     ]
    },
    {
     "name": "stderr",
     "output_type": "stream",
     "text": [
      "Train Epoch 0:  81%|█████████████████████████████▉       | 1357/1678 [04:23<01:02,  5.17batch/s, train_loss=-1.3e+4]"
     ]
    },
    {
     "name": "stdout",
     "output_type": "stream",
     "text": [
      "\n",
      "torch.Size([3, 250, 250]) (48,)\n",
      "torch.Size([3, 250, 250])\n",
      "torch.Size([3, 250, 250]) (48,)\n",
      "torch.Size([3, 250, 250])"
     ]
    },
    {
     "name": "stderr",
     "output_type": "stream",
     "text": [
      "Train Epoch 0:  81%|█████████████████████████████▉       | 1358/1678 [04:23<01:01,  5.22batch/s, train_loss=-1.3e+4]"
     ]
    },
    {
     "name": "stdout",
     "output_type": "stream",
     "text": [
      "\n",
      "torch.Size([3, 250, 250]) (48,)\n",
      "torch.Size([3, 250, 250])\n",
      "torch.Size([3, 250, 250]) (48,)\n",
      "torch.Size([3, 250, 250])"
     ]
    },
    {
     "name": "stderr",
     "output_type": "stream",
     "text": [
      "Train Epoch 0:  81%|█████████████████████████████▏      | 1359/1678 [04:23<01:01,  5.15batch/s, train_loss=-1.25e+4]"
     ]
    },
    {
     "name": "stdout",
     "output_type": "stream",
     "text": [
      "\n",
      "torch.Size([3, 250, 250]) (48,)\n",
      "torch.Size([3, 250, 250])\n",
      "torch.Size([3, 250, 250]) (48,)\n",
      "torch.Size([3, 250, 250])\n"
     ]
    },
    {
     "name": "stderr",
     "output_type": "stream",
     "text": [
      "Train Epoch 0:  81%|█████████████████████████████▏      | 1360/1678 [04:23<01:01,  5.21batch/s, train_loss=-1.37e+4]"
     ]
    },
    {
     "name": "stdout",
     "output_type": "stream",
     "text": [
      "torch.Size([3, 250, 250]) (48,)\n",
      "torch.Size([3, 250, 250])\n",
      "torch.Size([3, 250, 250]) (48,)\n",
      "torch.Size([3, 250, 250])"
     ]
    },
    {
     "name": "stderr",
     "output_type": "stream",
     "text": [
      "Train Epoch 0:  81%|█████████████████████████████▏      | 1361/1678 [04:23<01:00,  5.20batch/s, train_loss=-1.38e+4]"
     ]
    },
    {
     "name": "stdout",
     "output_type": "stream",
     "text": [
      "\n",
      "torch.Size([3, 250, 250]) (48,)\n",
      "torch.Size([3, 250, 250])\n",
      "torch.Size([3, 250, 250]) (48,)\n"
     ]
    },
    {
     "name": "stderr",
     "output_type": "stream",
     "text": [
      "Train Epoch 0:  81%|█████████████████████████████▏      | 1362/1678 [04:23<01:01,  5.16batch/s, train_loss=-1.41e+4]"
     ]
    },
    {
     "name": "stdout",
     "output_type": "stream",
     "text": [
      "torch.Size([3, 250, 250])\n",
      "torch.Size([3, 250, 250]) (48,)\n",
      "torch.Size([3, 250, 250])\n",
      "torch.Size([3, 250, 250]) (48,)\n"
     ]
    },
    {
     "name": "stderr",
     "output_type": "stream",
     "text": [
      "Train Epoch 0:  81%|█████████████████████████████▏      | 1363/1678 [04:24<01:01,  5.12batch/s, train_loss=-1.39e+4]"
     ]
    },
    {
     "name": "stdout",
     "output_type": "stream",
     "text": [
      "torch.Size([3, 250, 250])\n",
      "torch.Size([3, 250, 250]) (48,)\n",
      "torch.Size([3, 250, 250])\n",
      "torch.Size([3, 250, 250]) (48,)\n",
      "torch.Size([3, 250, 250])"
     ]
    },
    {
     "name": "stderr",
     "output_type": "stream",
     "text": [
      "Train Epoch 0:  81%|█████████████████████████████▎      | 1364/1678 [04:24<01:00,  5.16batch/s, train_loss=-12327.5]"
     ]
    },
    {
     "name": "stdout",
     "output_type": "stream",
     "text": [
      "\n",
      "torch.Size([3, 250, 250]) (48,)\n",
      "torch.Size([3, 250, 250])\n",
      "torch.Size([3, 250, 250]) (48,)\n"
     ]
    },
    {
     "name": "stderr",
     "output_type": "stream",
     "text": [
      "Train Epoch 0:  81%|█████████████████████████████▎      | 1365/1678 [04:24<01:01,  5.11batch/s, train_loss=-1.11e+4]"
     ]
    },
    {
     "name": "stdout",
     "output_type": "stream",
     "text": [
      "torch.Size([3, 250, 250])\n",
      "torch.Size([3, 250, 250]) (48,)\n",
      "torch.Size([3, 250, 250])\n",
      "torch.Size([3, 250, 250]) (48,)\n",
      "torch.Size([3, 250, 250])\n",
      "torch.Size([3, 250, 250]) (48,)\n"
     ]
    },
    {
     "name": "stderr",
     "output_type": "stream",
     "text": [
      "Train Epoch 0:  81%|█████████████████████████████▎      | 1366/1678 [04:24<01:00,  5.17batch/s, train_loss=-1.37e+4]"
     ]
    },
    {
     "name": "stdout",
     "output_type": "stream",
     "text": [
      "torch.Size([3, 250, 250])\n",
      "torch.Size([3, 250, 250]) (48,)\n",
      "torch.Size([3, 250, 250])\n",
      "torch.Size([3, 250, 250]) (48,)\n",
      "torch.Size([3, 250, 250])\n",
      "torch.Size([3, 250, 250]) (48,)\n"
     ]
    },
    {
     "name": "stderr",
     "output_type": "stream",
     "text": [
      "Train Epoch 0:  82%|█████████████████████████████▎      | 1368/1678 [04:25<01:01,  5.08batch/s, train_loss=-1.13e+4]"
     ]
    },
    {
     "name": "stdout",
     "output_type": "stream",
     "text": [
      "torch.Size([3, 250, 250])\n",
      "torch.Size([3, 250, 250]) (48,)\n",
      "torch.Size([3, 250, 250])\n",
      "torch.Size([3, 250, 250]) (48,)\n"
     ]
    },
    {
     "name": "stderr",
     "output_type": "stream",
     "text": [
      "Train Epoch 0:  82%|█████████████████████████████▎      | 1369/1678 [04:25<01:01,  5.05batch/s, train_loss=-1.26e+4]"
     ]
    },
    {
     "name": "stdout",
     "output_type": "stream",
     "text": [
      "torch.Size([3, 250, 250])\n",
      "torch.Size([3, 250, 250]) (48,)\n",
      "torch.Size([3, 250, 250])\n",
      "torch.Size([3, 250, 250]) (48,)\n",
      "torch.Size([3, 250, 250])"
     ]
    },
    {
     "name": "stderr",
     "output_type": "stream",
     "text": [
      "Train Epoch 0:  82%|█████████████████████████████▍      | 1370/1678 [04:25<01:00,  5.10batch/s, train_loss=-1.26e+4]"
     ]
    },
    {
     "name": "stdout",
     "output_type": "stream",
     "text": [
      "\n",
      "torch.Size([3, 250, 250]) (48,)\n",
      "torch.Size([3, 250, 250])\n",
      "torch.Size([3, 250, 250]) (48,)\n",
      "torch.Size([3, 250, 250])"
     ]
    },
    {
     "name": "stderr",
     "output_type": "stream",
     "text": [
      "Train Epoch 0:  82%|█████████████████████████████▍      | 1371/1678 [04:25<00:59,  5.18batch/s, train_loss=-1.34e+4]"
     ]
    },
    {
     "name": "stdout",
     "output_type": "stream",
     "text": [
      "\n",
      "torch.Size([3, 250, 250]) (48,)\n",
      "torch.Size([3, 250, 250])\n",
      "torch.Size([3, 250, 250]) (48,)\n",
      "torch.Size([3, 250, 250])"
     ]
    },
    {
     "name": "stderr",
     "output_type": "stream",
     "text": [
      "Train Epoch 0:  82%|█████████████████████████████▍      | 1372/1678 [04:25<00:58,  5.22batch/s, train_loss=-1.26e+4]"
     ]
    },
    {
     "name": "stdout",
     "output_type": "stream",
     "text": [
      "\n",
      "torch.Size([3, 250, 250]) (48,)\n",
      "torch.Size([3, 250, 250])\n",
      "torch.Size([3, 250, 250]) (48,)\n",
      "torch.Size([3, 250, 250])"
     ]
    },
    {
     "name": "stderr",
     "output_type": "stream",
     "text": [
      "Train Epoch 0:  82%|█████████████████████████████▍      | 1373/1678 [04:26<00:59,  5.15batch/s, train_loss=-1.12e+4]"
     ]
    },
    {
     "name": "stdout",
     "output_type": "stream",
     "text": [
      "\n",
      "torch.Size([3, 250, 250]) (48,)\n",
      "torch.Size([3, 250, 250])\n",
      "torch.Size([3, 250, 250]) (48,)\n",
      "torch.Size([3, 250, 250])\n"
     ]
    },
    {
     "name": "stderr",
     "output_type": "stream",
     "text": [
      "Train Epoch 0:  82%|█████████████████████████████▍      | 1373/1678 [04:26<00:59,  5.15batch/s, train_loss=-1.36e+4]"
     ]
    },
    {
     "name": "stdout",
     "output_type": "stream",
     "text": [
      "torch.Size([3, 250, 250]) (48,)\n",
      "torch.Size([3, 250, 250])\n",
      "torch.Size([3, 250, 250]) (48,)\n"
     ]
    },
    {
     "name": "stderr",
     "output_type": "stream",
     "text": [
      "Train Epoch 0:  82%|█████████████████████████████▍      | 1375/1678 [04:26<00:58,  5.15batch/s, train_loss=-1.31e+4]"
     ]
    },
    {
     "name": "stdout",
     "output_type": "stream",
     "text": [
      "torch.Size([3, 250, 250])\n",
      "torch.Size([3, 250, 250]) (48,)\n",
      "torch.Size([3, 250, 250])\n",
      "torch.Size([3, 250, 250]) (48,)\n",
      "torch.Size([3, 250, 250])"
     ]
    },
    {
     "name": "stderr",
     "output_type": "stream",
     "text": [
      "Train Epoch 0:  82%|█████████████████████████████▌      | 1376/1678 [04:26<00:59,  5.11batch/s, train_loss=-1.35e+4]"
     ]
    },
    {
     "name": "stdout",
     "output_type": "stream",
     "text": [
      "\n",
      "torch.Size([3, 250, 250]) (48,)\n",
      "torch.Size([3, 250, 250])\n",
      "torch.Size([3, 250, 250]) (48,)\n"
     ]
    },
    {
     "name": "stderr",
     "output_type": "stream",
     "text": [
      "Train Epoch 0:  82%|█████████████████████████████▌      | 1377/1678 [04:26<00:59,  5.08batch/s, train_loss=-1.35e+4]"
     ]
    },
    {
     "name": "stdout",
     "output_type": "stream",
     "text": [
      "torch.Size([3, 250, 250])\n",
      "torch.Size([3, 250, 250]) (48,)\n",
      "torch.Size([3, 250, 250])\n",
      "torch.Size([3, 250, 250]) (48,)\n",
      "torch.Size([3, 250, 250])"
     ]
    },
    {
     "name": "stderr",
     "output_type": "stream",
     "text": [
      "Train Epoch 0:  82%|█████████████████████████████▌      | 1378/1678 [04:27<00:58,  5.11batch/s, train_loss=-1.39e+4]"
     ]
    },
    {
     "name": "stdout",
     "output_type": "stream",
     "text": [
      "\n",
      "torch.Size([3, 250, 250]) (48,)\n",
      "torch.Size([3, 250, 250])\n",
      "torch.Size([3, 250, 250]) (48,)\n",
      "torch.Size([3, 250, 250])"
     ]
    },
    {
     "name": "stderr",
     "output_type": "stream",
     "text": [
      "Train Epoch 0:  82%|██████████████████████████████▍      | 1379/1678 [04:27<00:58,  5.08batch/s, train_loss=-1.3e+4]"
     ]
    },
    {
     "name": "stdout",
     "output_type": "stream",
     "text": [
      "\n",
      "torch.Size([3, 250, 250]) (48,)\n",
      "torch.Size([3, 250, 250])\n",
      "torch.Size([3, 250, 250]) (48,)\n"
     ]
    },
    {
     "name": "stderr",
     "output_type": "stream",
     "text": [
      "Train Epoch 0:  82%|█████████████████████████████▌      | 1380/1678 [04:27<00:59,  5.04batch/s, train_loss=-1.52e+4]"
     ]
    },
    {
     "name": "stdout",
     "output_type": "stream",
     "text": [
      "torch.Size([3, 250, 250])\n",
      "torch.Size([3, 250, 250]) (48,)\n",
      "torch.Size([3, 250, 250])\n",
      "torch.Size([3, 250, 250]) (48,)\n",
      "torch.Size([3, 250, 250])"
     ]
    },
    {
     "name": "stderr",
     "output_type": "stream",
     "text": [
      "Train Epoch 0:  82%|█████████████████████████████▋      | 1381/1678 [04:27<00:59,  4.98batch/s, train_loss=-1.48e+4]"
     ]
    },
    {
     "name": "stdout",
     "output_type": "stream",
     "text": [
      "\n",
      "torch.Size([3, 250, 250]) (48,)\n",
      "torch.Size([3, 250, 250])\n",
      "torch.Size([3, 250, 250]) (48,)\n",
      "torch.Size([3, 250, 250])"
     ]
    },
    {
     "name": "stderr",
     "output_type": "stream",
     "text": [
      "Train Epoch 0:  82%|█████████████████████████████▋      | 1382/1678 [04:27<00:58,  5.10batch/s, train_loss=-1.05e+4]"
     ]
    },
    {
     "name": "stdout",
     "output_type": "stream",
     "text": [
      "\n",
      "torch.Size([3, 250, 250]) (48,)\n",
      "torch.Size([3, 250, 250])\n",
      "torch.Size([3, 250, 250]) (48,)\n",
      "torch.Size([3, 250, 250])\n"
     ]
    },
    {
     "name": "stderr",
     "output_type": "stream",
     "text": [
      "Train Epoch 0:  82%|█████████████████████████████▋      | 1383/1678 [04:28<00:57,  5.16batch/s, train_loss=-1.11e+4]"
     ]
    },
    {
     "name": "stdout",
     "output_type": "stream",
     "text": [
      "torch.Size([3, 250, 250]) (48,)\n",
      "torch.Size([3, 250, 250])\n",
      "torch.Size([3, 250, 250]) (48,)\n",
      "torch.Size([3, 250, 250])"
     ]
    },
    {
     "name": "stderr",
     "output_type": "stream",
     "text": [
      "Train Epoch 0:  82%|██████████████████████████████▌      | 1384/1678 [04:28<00:57,  5.11batch/s, train_loss=-1.1e+4]"
     ]
    },
    {
     "name": "stdout",
     "output_type": "stream",
     "text": [
      "\n",
      "torch.Size([3, 250, 250]) (48,)\n",
      "torch.Size([3, 250, 250])\n",
      "torch.Size([3, 250, 250]) (48,)\n",
      "torch.Size([3, 250, 250])"
     ]
    },
    {
     "name": "stderr",
     "output_type": "stream",
     "text": [
      "Train Epoch 0:  83%|█████████████████████████████▋      | 1385/1678 [04:28<00:56,  5.17batch/s, train_loss=-1.19e+4]"
     ]
    },
    {
     "name": "stdout",
     "output_type": "stream",
     "text": [
      "\n",
      "torch.Size([3, 250, 250]) (48,)\n",
      "torch.Size([3, 250, 250])\n",
      "torch.Size([3, 250, 250]) (48,)\n",
      "torch.Size([3, 250, 250])"
     ]
    },
    {
     "name": "stderr",
     "output_type": "stream",
     "text": [
      "Train Epoch 0:  83%|█████████████████████████████▋      | 1386/1678 [04:28<00:56,  5.20batch/s, train_loss=-1.29e+4]"
     ]
    },
    {
     "name": "stdout",
     "output_type": "stream",
     "text": [
      "\n",
      "torch.Size([3, 250, 250]) (48,)\n",
      "torch.Size([3, 250, 250])\n",
      "torch.Size([3, 250, 250]) (48,)\n",
      "torch.Size([3, 250, 250])"
     ]
    },
    {
     "name": "stderr",
     "output_type": "stream",
     "text": [
      "Train Epoch 0:  83%|█████████████████████████████▊      | 1387/1678 [04:28<00:55,  5.22batch/s, train_loss=-1.23e+4]"
     ]
    },
    {
     "name": "stdout",
     "output_type": "stream",
     "text": [
      "\n",
      "torch.Size([3, 250, 250]) (48,)\n",
      "torch.Size([3, 250, 250])\n",
      "torch.Size([3, 250, 250]) (48,)\n",
      "torch.Size([3, 250, 250])"
     ]
    },
    {
     "name": "stderr",
     "output_type": "stream",
     "text": [
      "Train Epoch 0:  83%|█████████████████████████████▊      | 1388/1678 [04:29<00:55,  5.25batch/s, train_loss=-1.16e+4]"
     ]
    },
    {
     "name": "stdout",
     "output_type": "stream",
     "text": [
      "\n",
      "torch.Size([3, 250, 250]) (48,)\n",
      "torch.Size([3, 250, 250])\n",
      "torch.Size([3, 250, 250]) (48,)\n",
      "torch.Size([3, 250, 250])"
     ]
    },
    {
     "name": "stderr",
     "output_type": "stream",
     "text": [
      "Train Epoch 0:  83%|█████████████████████████████▊      | 1389/1678 [04:29<00:54,  5.26batch/s, train_loss=-1.14e+4]"
     ]
    },
    {
     "name": "stdout",
     "output_type": "stream",
     "text": [
      "\n",
      "torch.Size([3, 250, 250]) (48,)\n",
      "torch.Size([3, 250, 250])\n",
      "torch.Size([3, 250, 250]) (48,)\n",
      "torch.Size([3, 250, 250])"
     ]
    },
    {
     "name": "stderr",
     "output_type": "stream",
     "text": [
      "Train Epoch 0:  83%|█████████████████████████████▊      | 1390/1678 [04:29<00:54,  5.27batch/s, train_loss=-1.19e+4]"
     ]
    },
    {
     "name": "stdout",
     "output_type": "stream",
     "text": [
      "\n",
      "torch.Size([3, 250, 250]) (48,)\n",
      "torch.Size([3, 250, 250])\n",
      "torch.Size([3, 250, 250]) (48,)\n",
      "torch.Size([3, 250, 250])"
     ]
    },
    {
     "name": "stderr",
     "output_type": "stream",
     "text": [
      "Train Epoch 0:  83%|█████████████████████████████▊      | 1391/1678 [04:29<00:55,  5.21batch/s, train_loss=-1.29e+4]"
     ]
    },
    {
     "name": "stdout",
     "output_type": "stream",
     "text": [
      "\n",
      "torch.Size([3, 250, 250]) (48,)\n",
      "torch.Size([3, 250, 250])\n",
      "torch.Size([3, 250, 250]) (48,)\n",
      "torch.Size([3, 250, 250])\n"
     ]
    },
    {
     "name": "stderr",
     "output_type": "stream",
     "text": [
      "Train Epoch 0:  83%|█████████████████████████████▊      | 1392/1678 [04:29<00:55,  5.19batch/s, train_loss=-1.37e+4]"
     ]
    },
    {
     "name": "stdout",
     "output_type": "stream",
     "text": [
      "torch.Size([3, 250, 250]) (48,)\n",
      "torch.Size([3, 250, 250])\n",
      "torch.Size([3, 250, 250]) (48,)\n"
     ]
    },
    {
     "name": "stderr",
     "output_type": "stream",
     "text": [
      "Train Epoch 0:  83%|█████████████████████████████▉      | 1393/1678 [04:30<00:55,  5.09batch/s, train_loss=-1.11e+4]"
     ]
    },
    {
     "name": "stdout",
     "output_type": "stream",
     "text": [
      "torch.Size([3, 250, 250])\n",
      "torch.Size([3, 250, 250]) (48,)\n",
      "torch.Size([3, 250, 250])\n",
      "torch.Size([3, 250, 250]) (48,)\n"
     ]
    },
    {
     "name": "stderr",
     "output_type": "stream",
     "text": [
      "Train Epoch 0:  83%|█████████████████████████████▉      | 1394/1678 [04:30<00:55,  5.08batch/s, train_loss=-1.37e+4]"
     ]
    },
    {
     "name": "stdout",
     "output_type": "stream",
     "text": [
      "torch.Size([3, 250, 250])\n",
      "torch.Size([3, 250, 250]) (48,)\n",
      "torch.Size([3, 250, 250])\n",
      "torch.Size([3, 250, 250]) (48,)\n",
      "torch.Size([3, 250, 250])\n"
     ]
    },
    {
     "name": "stderr",
     "output_type": "stream",
     "text": [
      "Train Epoch 0:  83%|█████████████████████████████▉      | 1395/1678 [04:30<00:55,  5.07batch/s, train_loss=-1.24e+4]"
     ]
    },
    {
     "name": "stdout",
     "output_type": "stream",
     "text": [
      "torch.Size([3, 250, 250]) (48,)\n",
      "torch.Size([3, 250, 250])\n",
      "torch.Size([3, 250, 250]) (48,)\n",
      "torch.Size([3, 250, 250])"
     ]
    },
    {
     "name": "stderr",
     "output_type": "stream",
     "text": [
      "Train Epoch 0:  83%|█████████████████████████████▉      | 1396/1678 [04:30<00:56,  5.03batch/s, train_loss=-1.36e+4]"
     ]
    },
    {
     "name": "stdout",
     "output_type": "stream",
     "text": [
      "\n",
      "torch.Size([3, 250, 250]) (48,)\n",
      "torch.Size([3, 250, 250])\n",
      "torch.Size([3, 250, 250]) (48,)\n",
      "torch.Size([3, 250, 250])"
     ]
    },
    {
     "name": "stderr",
     "output_type": "stream",
     "text": [
      "Train Epoch 0:  83%|█████████████████████████████▉      | 1397/1678 [04:30<00:54,  5.11batch/s, train_loss=-1.38e+4]"
     ]
    },
    {
     "name": "stdout",
     "output_type": "stream",
     "text": [
      "\n",
      "torch.Size([3, 250, 250]) (48,)\n",
      "torch.Size([3, 250, 250])\n",
      "torch.Size([3, 250, 250]) (48,)\n",
      "torch.Size([3, 250, 250])\n",
      "torch.Size([3, 250, 250]) (48,)\n"
     ]
    },
    {
     "name": "stderr",
     "output_type": "stream",
     "text": [
      "Train Epoch 0:  83%|█████████████████████████████▉      | 1398/1678 [04:31<00:55,  5.07batch/s, train_loss=-1.24e+4]"
     ]
    },
    {
     "name": "stdout",
     "output_type": "stream",
     "text": [
      "torch.Size([3, 250, 250])\n",
      "torch.Size([3, 250, 250]) (48,)\n",
      "torch.Size([3, 250, 250])\n",
      "torch.Size([3, 250, 250]) (48,)\n"
     ]
    },
    {
     "name": "stderr",
     "output_type": "stream",
     "text": [
      "Train Epoch 0:  83%|██████████████████████████████      | 1399/1678 [04:31<00:55,  5.06batch/s, train_loss=-1.35e+4]"
     ]
    },
    {
     "name": "stdout",
     "output_type": "stream",
     "text": [
      "torch.Size([3, 250, 250])\n",
      "torch.Size([3, 250, 250]) (48,)\n",
      "torch.Size([3, 250, 250])\n",
      "torch.Size([3, 250, 250]) (48,)\n",
      "torch.Size([3, 250, 250])"
     ]
    },
    {
     "name": "stderr",
     "output_type": "stream",
     "text": [
      "Train Epoch 0:  83%|██████████████████████████████      | 1400/1678 [04:31<00:54,  5.13batch/s, train_loss=-1.32e+4]"
     ]
    },
    {
     "name": "stdout",
     "output_type": "stream",
     "text": [
      "\n",
      "torch.Size([3, 250, 250]) (48,)\n",
      "torch.Size([3, 250, 250])\n",
      "torch.Size([3, 250, 250]) (48,)\n",
      "torch.Size([3, 250, 250])"
     ]
    },
    {
     "name": "stderr",
     "output_type": "stream",
     "text": [
      "Train Epoch 0:  83%|██████████████████████████████      | 1401/1678 [04:31<00:54,  5.11batch/s, train_loss=-1.32e+4]"
     ]
    },
    {
     "name": "stdout",
     "output_type": "stream",
     "text": [
      "\n",
      "torch.Size([3, 250, 250]) (48,)\n",
      "torch.Size([3, 250, 250])\n",
      "torch.Size([3, 250, 250]) (48,)\n",
      "torch.Size([3, 250, 250])"
     ]
    },
    {
     "name": "stderr",
     "output_type": "stream",
     "text": [
      "Train Epoch 0:  84%|██████████████████████████████      | 1402/1678 [04:31<00:54,  5.10batch/s, train_loss=-1.24e+4]"
     ]
    },
    {
     "name": "stdout",
     "output_type": "stream",
     "text": [
      "\n",
      "torch.Size([3, 250, 250]) (48,)\n",
      "torch.Size([3, 250, 250])\n",
      "torch.Size([3, 250, 250]) (48,)\n",
      "torch.Size([3, 250, 250])"
     ]
    },
    {
     "name": "stderr",
     "output_type": "stream",
     "text": [
      "Train Epoch 0:  84%|██████████████████████████████      | 1403/1678 [04:31<00:53,  5.17batch/s, train_loss=-1.37e+4]"
     ]
    },
    {
     "name": "stdout",
     "output_type": "stream",
     "text": [
      "\n",
      "torch.Size([3, 250, 250]) (48,)\n",
      "torch.Size([3, 250, 250])\n",
      "torch.Size([3, 250, 250]) (48,)\n",
      "torch.Size([3, 250, 250])"
     ]
    },
    {
     "name": "stderr",
     "output_type": "stream",
     "text": [
      "Train Epoch 0:  84%|██████████████████████████████      | 1404/1678 [04:32<00:52,  5.20batch/s, train_loss=-1.28e+4]"
     ]
    },
    {
     "name": "stdout",
     "output_type": "stream",
     "text": [
      "\n",
      "torch.Size([3, 250, 250]) (48,)\n",
      "torch.Size([3, 250, 250])\n",
      "torch.Size([3, 250, 250]) (48,)\n",
      "torch.Size([3, 250, 250])"
     ]
    },
    {
     "name": "stderr",
     "output_type": "stream",
     "text": [
      "Train Epoch 0:  84%|██████████████████████████████▏     | 1405/1678 [04:32<00:52,  5.22batch/s, train_loss=-1.36e+4]"
     ]
    },
    {
     "name": "stdout",
     "output_type": "stream",
     "text": [
      "\n",
      "torch.Size([3, 250, 250]) (48,)\n",
      "torch.Size([3, 250, 250])\n",
      "torch.Size([3, 250, 250]) (48,)\n",
      "torch.Size([3, 250, 250])"
     ]
    },
    {
     "name": "stderr",
     "output_type": "stream",
     "text": [
      "Train Epoch 0:  84%|███████████████████████████████      | 1406/1678 [04:32<00:51,  5.25batch/s, train_loss=-1.2e+4]"
     ]
    },
    {
     "name": "stdout",
     "output_type": "stream",
     "text": [
      "\n",
      "torch.Size([3, 250, 250]) (48,)\n",
      "torch.Size([3, 250, 250])\n",
      "torch.Size([3, 250, 250]) (48,)\n",
      "torch.Size([3, 250, 250])"
     ]
    },
    {
     "name": "stderr",
     "output_type": "stream",
     "text": [
      "Train Epoch 0:  84%|██████████████████████████████▏     | 1407/1678 [04:32<00:52,  5.17batch/s, train_loss=-1.16e+4]"
     ]
    },
    {
     "name": "stdout",
     "output_type": "stream",
     "text": [
      "\n",
      "torch.Size([3, 250, 250]) (48,)\n",
      "torch.Size([3, 250, 250])\n",
      "torch.Size([3, 250, 250]) (48,)\n",
      "torch.Size([3, 250, 250])"
     ]
    },
    {
     "name": "stderr",
     "output_type": "stream",
     "text": [
      "Train Epoch 0:  84%|██████████████████████████████▏     | 1408/1678 [04:32<00:52,  5.19batch/s, train_loss=-1.31e+4]"
     ]
    },
    {
     "name": "stdout",
     "output_type": "stream",
     "text": [
      "\n",
      "torch.Size([3, 250, 250]) (48,)\n",
      "torch.Size([3, 250, 250])\n",
      "torch.Size([3, 250, 250]) (48,)\n",
      "torch.Size([3, 250, 250])"
     ]
    },
    {
     "name": "stderr",
     "output_type": "stream",
     "text": [
      "Train Epoch 0:  84%|███████████████████████████████      | 1409/1678 [04:33<00:52,  5.10batch/s, train_loss=-1.2e+4]"
     ]
    },
    {
     "name": "stdout",
     "output_type": "stream",
     "text": [
      "\n",
      "torch.Size([3, 250, 250]) (48,)\n",
      "torch.Size([3, 250, 250])\n",
      "torch.Size([3, 250, 250]) (48,)\n",
      "torch.Size([3, 250, 250])"
     ]
    },
    {
     "name": "stderr",
     "output_type": "stream",
     "text": [
      "Train Epoch 0:  84%|██████████████████████████████▎     | 1410/1678 [04:33<00:52,  5.12batch/s, train_loss=-1.23e+4]"
     ]
    },
    {
     "name": "stdout",
     "output_type": "stream",
     "text": [
      "\n",
      "torch.Size([3, 250, 250]) (48,)\n",
      "torch.Size([3, 250, 250])\n",
      "torch.Size([3, 250, 250]) (48,)\n"
     ]
    },
    {
     "name": "stderr",
     "output_type": "stream",
     "text": [
      "Train Epoch 0:  84%|███████████████████████████████      | 1411/1678 [04:33<00:52,  5.07batch/s, train_loss=-1.2e+4]"
     ]
    },
    {
     "name": "stdout",
     "output_type": "stream",
     "text": [
      "torch.Size([3, 250, 250])\n",
      "torch.Size([3, 250, 250]) (48,)\n",
      "torch.Size([3, 250, 250])\n",
      "torch.Size([3, 250, 250]) (48,)\n",
      "torch.Size([3, 250, 250])"
     ]
    },
    {
     "name": "stderr",
     "output_type": "stream",
     "text": [
      "Train Epoch 0:  84%|███████████████████████████████▏     | 1412/1678 [04:33<00:52,  5.07batch/s, train_loss=-1.3e+4]"
     ]
    },
    {
     "name": "stdout",
     "output_type": "stream",
     "text": [
      "\n",
      "torch.Size([3, 250, 250]) (48,)\n",
      "torch.Size([3, 250, 250])\n",
      "torch.Size([3, 250, 250]) (48,)\n",
      "torch.Size([3, 250, 250])"
     ]
    },
    {
     "name": "stderr",
     "output_type": "stream",
     "text": [
      "Train Epoch 0:  84%|██████████████████████████████▎     | 1413/1678 [04:33<00:51,  5.11batch/s, train_loss=-1.11e+4]"
     ]
    },
    {
     "name": "stdout",
     "output_type": "stream",
     "text": [
      "\n",
      "torch.Size([3, 250, 250]) (48,)\n",
      "torch.Size([3, 250, 250])\n",
      "torch.Size([3, 250, 250]) (48,)\n",
      "torch.Size([3, 250, 250])"
     ]
    },
    {
     "name": "stderr",
     "output_type": "stream",
     "text": [
      "Train Epoch 0:  84%|██████████████████████████████▎     | 1414/1678 [04:34<00:51,  5.16batch/s, train_loss=-1.17e+4]"
     ]
    },
    {
     "name": "stdout",
     "output_type": "stream",
     "text": [
      "\n",
      "torch.Size([3, 250, 250]) (48,)\n",
      "torch.Size([3, 250, 250])\n",
      "torch.Size([3, 250, 250]) (48,)\n",
      "torch.Size([3, 250, 250])\n"
     ]
    },
    {
     "name": "stderr",
     "output_type": "stream",
     "text": [
      "Train Epoch 0:  84%|██████████████████████████████▎     | 1415/1678 [04:34<00:50,  5.19batch/s, train_loss=-1.05e+4]"
     ]
    },
    {
     "name": "stdout",
     "output_type": "stream",
     "text": [
      "torch.Size([3, 250, 250]) (48,)\n",
      "torch.Size([3, 250, 250])\n",
      "torch.Size([3, 250, 250]) (48,)\n"
     ]
    },
    {
     "name": "stderr",
     "output_type": "stream",
     "text": [
      "Train Epoch 0:  84%|██████████████████████████████▍     | 1416/1678 [04:34<00:50,  5.14batch/s, train_loss=-11291.0]"
     ]
    },
    {
     "name": "stdout",
     "output_type": "stream",
     "text": [
      "torch.Size([3, 250, 250])\n",
      "torch.Size([3, 250, 250]) (48,)\n",
      "torch.Size([3, 250, 250])\n",
      "torch.Size([3, 250, 250]) (48,)\n"
     ]
    },
    {
     "name": "stderr",
     "output_type": "stream",
     "text": [
      "Train Epoch 0:  84%|███████████████████████████████▏     | 1417/1678 [04:34<00:51,  5.03batch/s, train_loss=-1.2e+4]"
     ]
    },
    {
     "name": "stdout",
     "output_type": "stream",
     "text": [
      "torch.Size([3, 250, 250])\n",
      "torch.Size([3, 250, 250]) (48,)\n",
      "torch.Size([3, 250, 250])\n",
      "torch.Size([3, 250, 250]) (48,)\n"
     ]
    },
    {
     "name": "stderr",
     "output_type": "stream",
     "text": [
      "Train Epoch 0:  85%|██████████████████████████████▍     | 1418/1678 [04:34<00:52,  4.98batch/s, train_loss=-1.28e+4]"
     ]
    },
    {
     "name": "stdout",
     "output_type": "stream",
     "text": [
      "torch.Size([3, 250, 250])\n",
      "torch.Size([3, 250, 250]) (48,)\n",
      "torch.Size([3, 250, 250])\n",
      "torch.Size([3, 250, 250]) (48,)\n",
      "torch.Size([3, 250, 250])"
     ]
    },
    {
     "name": "stderr",
     "output_type": "stream",
     "text": [
      "Train Epoch 0:  85%|██████████████████████████████▍     | 1419/1678 [04:35<00:51,  5.01batch/s, train_loss=-1.29e+4]"
     ]
    },
    {
     "name": "stdout",
     "output_type": "stream",
     "text": [
      "\n",
      "torch.Size([3, 250, 250]) (48,)\n",
      "torch.Size([3, 250, 250])\n",
      "torch.Size([3, 250, 250]) (48,)\n",
      "torch.Size([3, 250, 250])"
     ]
    },
    {
     "name": "stderr",
     "output_type": "stream",
     "text": [
      "Train Epoch 0:  85%|██████████████████████████████▍     | 1420/1678 [04:35<00:52,  4.96batch/s, train_loss=-1.24e+4]"
     ]
    },
    {
     "name": "stdout",
     "output_type": "stream",
     "text": [
      "\n",
      "torch.Size([3, 250, 250]) (48,)\n",
      "torch.Size([3, 250, 250])\n",
      "torch.Size([3, 250, 250]) (48,)\n",
      "torch.Size([3, 250, 250])"
     ]
    },
    {
     "name": "stderr",
     "output_type": "stream",
     "text": [
      "Train Epoch 0:  85%|██████████████████████████████▍     | 1421/1678 [04:35<00:51,  4.99batch/s, train_loss=-1.21e+4]"
     ]
    },
    {
     "name": "stdout",
     "output_type": "stream",
     "text": [
      "\n",
      "torch.Size([3, 250, 250]) (48,)\n",
      "torch.Size([3, 250, 250])\n",
      "torch.Size([3, 250, 250]) (48,)\n",
      "torch.Size([3, 250, 250])"
     ]
    },
    {
     "name": "stderr",
     "output_type": "stream",
     "text": [
      "Train Epoch 0:  85%|██████████████████████████████▌     | 1422/1678 [04:35<00:50,  5.10batch/s, train_loss=-1.19e+4]"
     ]
    },
    {
     "name": "stdout",
     "output_type": "stream",
     "text": [
      "\n",
      "torch.Size([3, 250, 250]) (48,)\n",
      "torch.Size([3, 250, 250])\n",
      "torch.Size([3, 250, 250]) (48,)\n",
      "torch.Size([3, 250, 250])"
     ]
    },
    {
     "name": "stderr",
     "output_type": "stream",
     "text": [
      "Train Epoch 0:  85%|██████████████████████████████▌     | 1423/1678 [04:35<00:49,  5.13batch/s, train_loss=-1.25e+4]"
     ]
    },
    {
     "name": "stdout",
     "output_type": "stream",
     "text": [
      "\n",
      "torch.Size([3, 250, 250]) (48,)\n",
      "torch.Size([3, 250, 250])\n",
      "torch.Size([3, 250, 250]) (48,)\n",
      "torch.Size([3, 250, 250])"
     ]
    },
    {
     "name": "stderr",
     "output_type": "stream",
     "text": [
      "Train Epoch 0:  85%|██████████████████████████████▌     | 1424/1678 [04:36<00:49,  5.16batch/s, train_loss=-1.37e+4]"
     ]
    },
    {
     "name": "stdout",
     "output_type": "stream",
     "text": [
      "\n",
      "torch.Size([3, 250, 250]) (48,)\n",
      "torch.Size([3, 250, 250])\n",
      "torch.Size([3, 250, 250]) (48,)\n",
      "torch.Size([3, 250, 250])"
     ]
    },
    {
     "name": "stderr",
     "output_type": "stream",
     "text": [
      "Train Epoch 0:  85%|██████████████████████████████▌     | 1425/1678 [04:36<00:48,  5.19batch/s, train_loss=-1.35e+4]"
     ]
    },
    {
     "name": "stdout",
     "output_type": "stream",
     "text": [
      "\n",
      "torch.Size([3, 250, 250]) (48,)\n",
      "torch.Size([3, 250, 250])"
     ]
    },
    {
     "name": "stderr",
     "output_type": "stream",
     "text": [
      "Train Epoch 0:  85%|██████████████████████████████▌     | 1426/1678 [04:36<00:50,  4.98batch/s, train_loss=-1.24e+4]"
     ]
    },
    {
     "name": "stdout",
     "output_type": "stream",
     "text": [
      "\n",
      "torch.Size([3, 250, 250]) (48,)\n",
      "torch.Size([3, 250, 250])\n",
      "torch.Size([3, 250, 250]) (48,)\n"
     ]
    },
    {
     "name": "stderr",
     "output_type": "stream",
     "text": [
      "Train Epoch 0:  85%|██████████████████████████████▌     | 1427/1678 [04:36<00:50,  4.96batch/s, train_loss=-1.37e+4]"
     ]
    },
    {
     "name": "stdout",
     "output_type": "stream",
     "text": [
      "torch.Size([3, 250, 250])\n",
      "torch.Size([3, 250, 250]) (48,)\n",
      "torch.Size([3, 250, 250])\n",
      "torch.Size([3, 250, 250]) (48,)\n"
     ]
    },
    {
     "name": "stderr",
     "output_type": "stream",
     "text": [
      "Train Epoch 0:  85%|██████████████████████████████▋     | 1428/1678 [04:36<00:50,  4.97batch/s, train_loss=-1.23e+4]"
     ]
    },
    {
     "name": "stdout",
     "output_type": "stream",
     "text": [
      "torch.Size([3, 250, 250])\n",
      "torch.Size([3, 250, 250]) (48,)\n",
      "torch.Size([3, 250, 250])\n",
      "torch.Size([3, 250, 250]) (48,)\n",
      "torch.Size([3, 250, 250])"
     ]
    },
    {
     "name": "stderr",
     "output_type": "stream",
     "text": [
      "Train Epoch 0:  85%|██████████████████████████████▋     | 1429/1678 [04:37<00:49,  5.05batch/s, train_loss=-1.33e+4]"
     ]
    },
    {
     "name": "stdout",
     "output_type": "stream",
     "text": [
      "\n",
      "torch.Size([3, 250, 250]) (48,)\n",
      "torch.Size([3, 250, 250])\n",
      "torch.Size([3, 250, 250]) (48,)\n",
      "torch.Size([3, 250, 250])"
     ]
    },
    {
     "name": "stderr",
     "output_type": "stream",
     "text": [
      "Train Epoch 0:  85%|██████████████████████████████▋     | 1430/1678 [04:37<00:49,  5.05batch/s, train_loss=-1.32e+4]"
     ]
    },
    {
     "name": "stdout",
     "output_type": "stream",
     "text": [
      "\n",
      "torch.Size([3, 250, 250]) (48,)\n",
      "torch.Size([3, 250, 250])\n",
      "torch.Size([3, 250, 250]) (48,)\n"
     ]
    },
    {
     "name": "stderr",
     "output_type": "stream",
     "text": [
      "\r",
      "Train Epoch 0:  85%|██████████████████████████████▋     | 1430/1678 [04:37<00:49,  5.05batch/s, train_loss=-1.32e+4]"
     ]
    },
    {
     "name": "stdout",
     "output_type": "stream",
     "text": [
      "torch.Size([3, 250, 250])\n",
      "torch.Size([3, 250, 250]) (48,)\n",
      "torch.Size([3, 250, 250])\n",
      "torch.Size([3, 250, 250]) (48,)\n"
     ]
    },
    {
     "name": "stderr",
     "output_type": "stream",
     "text": [
      "Train Epoch 0:  85%|██████████████████████████████▋     | 1432/1678 [04:37<00:49,  5.01batch/s, train_loss=-1.18e+4]"
     ]
    },
    {
     "name": "stdout",
     "output_type": "stream",
     "text": [
      "torch.Size([3, 250, 250])\n",
      "torch.Size([3, 250, 250]) (48,)\n",
      "torch.Size([3, 250, 250])\n",
      "torch.Size([3, 250, 250]) (48,)\n",
      "torch.Size([3, 250, 250])"
     ]
    },
    {
     "name": "stderr",
     "output_type": "stream",
     "text": [
      "\r",
      "Train Epoch 0:  85%|██████████████████████████████▋     | 1432/1678 [04:37<00:49,  5.01batch/s, train_loss=-1.18e+4]"
     ]
    },
    {
     "name": "stdout",
     "output_type": "stream",
     "text": [
      "\n",
      "torch.Size([3, 250, 250]) (48,)\n",
      "torch.Size([3, 250, 250])\n",
      "torch.Size([3, 250, 250]) (48,)\n"
     ]
    },
    {
     "name": "stderr",
     "output_type": "stream",
     "text": [
      "Train Epoch 0:  85%|██████████████████████████████▊     | 1434/1678 [04:38<00:48,  4.98batch/s, train_loss=-1.31e+4]"
     ]
    },
    {
     "name": "stdout",
     "output_type": "stream",
     "text": [
      "torch.Size([3, 250, 250])\n",
      "torch.Size([3, 250, 250]) (48,)\n",
      "torch.Size([3, 250, 250])\n",
      "torch.Size([3, 250, 250]) (48,)\n",
      "torch.Size([3, 250, 250])"
     ]
    },
    {
     "name": "stderr",
     "output_type": "stream",
     "text": [
      "Train Epoch 0:  86%|██████████████████████████████▊     | 1435/1678 [04:38<00:48,  5.06batch/s, train_loss=-1.28e+4]"
     ]
    },
    {
     "name": "stdout",
     "output_type": "stream",
     "text": [
      "\n",
      "torch.Size([3, 250, 250]) (48,)\n",
      "torch.Size([3, 250, 250])\n",
      "torch.Size([3, 250, 250]) (48,)\n",
      "torch.Size([3, 250, 250])"
     ]
    },
    {
     "name": "stderr",
     "output_type": "stream",
     "text": [
      "Train Epoch 0:  86%|██████████████████████████████▊     | 1436/1678 [04:38<00:47,  5.05batch/s, train_loss=-1.29e+4]"
     ]
    },
    {
     "name": "stdout",
     "output_type": "stream",
     "text": [
      "\n",
      "torch.Size([3, 250, 250]) (48,)\n",
      "torch.Size([3, 250, 250])\n",
      "torch.Size([3, 250, 250]) (48,)\n",
      "torch.Size([3, 250, 250])"
     ]
    },
    {
     "name": "stderr",
     "output_type": "stream",
     "text": [
      "Train Epoch 0:  86%|██████████████████████████████▊     | 1437/1678 [04:38<00:47,  5.11batch/s, train_loss=-1.09e+4]"
     ]
    },
    {
     "name": "stdout",
     "output_type": "stream",
     "text": [
      "\n",
      "torch.Size([3, 250, 250]) (48,)\n",
      "torch.Size([3, 250, 250])\n",
      "torch.Size([3, 250, 250]) (48,)\n",
      "torch.Size([3, 250, 250])"
     ]
    },
    {
     "name": "stderr",
     "output_type": "stream",
     "text": [
      "Train Epoch 0:  86%|██████████████████████████████▊     | 1438/1678 [04:38<00:46,  5.14batch/s, train_loss=-1.09e+4]"
     ]
    },
    {
     "name": "stdout",
     "output_type": "stream",
     "text": [
      "\n",
      "torch.Size([3, 250, 250]) (48,)\n",
      "torch.Size([3, 250, 250])\n",
      "torch.Size([3, 250, 250]) (48,)\n",
      "torch.Size([3, 250, 250])"
     ]
    },
    {
     "name": "stderr",
     "output_type": "stream",
     "text": [
      "Train Epoch 0:  86%|██████████████████████████████▊     | 1439/1678 [04:39<00:46,  5.16batch/s, train_loss=-1.38e+4]"
     ]
    },
    {
     "name": "stdout",
     "output_type": "stream",
     "text": [
      "\n",
      "torch.Size([3, 250, 250]) (48,)\n",
      "torch.Size([3, 250, 250])\n",
      "torch.Size([3, 250, 250]) (48,)\n",
      "torch.Size([3, 250, 250])"
     ]
    },
    {
     "name": "stderr",
     "output_type": "stream",
     "text": [
      "Train Epoch 0:  86%|██████████████████████████████▉     | 1440/1678 [04:39<00:45,  5.18batch/s, train_loss=-9.94e+3]"
     ]
    },
    {
     "name": "stdout",
     "output_type": "stream",
     "text": [
      "\n",
      "torch.Size([3, 250, 250]) (48,)\n",
      "torch.Size([3, 250, 250])\n",
      "torch.Size([3, 250, 250]) (48,)\n",
      "torch.Size([3, 250, 250])"
     ]
    },
    {
     "name": "stderr",
     "output_type": "stream",
     "text": [
      "Train Epoch 0:  86%|██████████████████████████████▉     | 1441/1678 [04:39<00:46,  5.14batch/s, train_loss=-1.41e+4]"
     ]
    },
    {
     "name": "stdout",
     "output_type": "stream",
     "text": [
      "\n",
      "torch.Size([3, 250, 250]) (48,)\n",
      "torch.Size([3, 250, 250])\n",
      "torch.Size([3, 250, 250]) (48,)\n",
      "torch.Size([3, 250, 250])\n"
     ]
    },
    {
     "name": "stderr",
     "output_type": "stream",
     "text": [
      "Train Epoch 0:  86%|██████████████████████████████▉     | 1442/1678 [04:39<00:45,  5.19batch/s, train_loss=-1.05e+4]"
     ]
    },
    {
     "name": "stdout",
     "output_type": "stream",
     "text": [
      "torch.Size([3, 250, 250]) (48,)\n",
      "torch.Size([3, 250, 250])\n",
      "torch.Size([3, 250, 250]) (48,)\n",
      "torch.Size([3, 250, 250])"
     ]
    },
    {
     "name": "stderr",
     "output_type": "stream",
     "text": [
      "Train Epoch 0:  86%|██████████████████████████████▉     | 1443/1678 [04:39<00:45,  5.17batch/s, train_loss=-1.07e+4]"
     ]
    },
    {
     "name": "stdout",
     "output_type": "stream",
     "text": [
      "\n",
      "torch.Size([3, 250, 250]) (48,)\n",
      "torch.Size([3, 250, 250])\n",
      "torch.Size([3, 250, 250]) (48,)\n",
      "torch.Size([3, 250, 250])"
     ]
    },
    {
     "name": "stderr",
     "output_type": "stream",
     "text": [
      "Train Epoch 0:  86%|██████████████████████████████▉     | 1444/1678 [04:40<00:44,  5.20batch/s, train_loss=-12350.0]"
     ]
    },
    {
     "name": "stdout",
     "output_type": "stream",
     "text": [
      "\n",
      "torch.Size([3, 250, 250]) (48,)\n",
      "torch.Size([3, 250, 250])\n",
      "torch.Size([3, 250, 250]) (48,)\n",
      "torch.Size([3, 250, 250])"
     ]
    },
    {
     "name": "stderr",
     "output_type": "stream",
     "text": [
      "Train Epoch 0:  86%|███████████████████████████████     | 1445/1678 [04:40<00:45,  5.14batch/s, train_loss=-1.27e+4]"
     ]
    },
    {
     "name": "stdout",
     "output_type": "stream",
     "text": [
      "\n",
      "torch.Size([3, 250, 250]) (48,)\n",
      "torch.Size([3, 250, 250])\n",
      "torch.Size([3, 250, 250]) (48,)\n"
     ]
    },
    {
     "name": "stderr",
     "output_type": "stream",
     "text": [
      "Train Epoch 0:  86%|███████████████████████████████▉     | 1446/1678 [04:40<00:45,  5.12batch/s, train_loss=-1.2e+4]"
     ]
    },
    {
     "name": "stdout",
     "output_type": "stream",
     "text": [
      "torch.Size([3, 250, 250])\n",
      "torch.Size([3, 250, 250]) (48,)\n",
      "torch.Size([3, 250, 250])\n",
      "torch.Size([3, 250, 250]) (48,)\n",
      "torch.Size([3, 250, 250])"
     ]
    },
    {
     "name": "stderr",
     "output_type": "stream",
     "text": [
      "Train Epoch 0:  86%|███████████████████████████████     | 1447/1678 [04:40<00:44,  5.17batch/s, train_loss=-1.19e+4]"
     ]
    },
    {
     "name": "stdout",
     "output_type": "stream",
     "text": [
      "\n",
      "torch.Size([3, 250, 250]) (48,)\n",
      "torch.Size([3, 250, 250])\n",
      "torch.Size([3, 250, 250]) (48,)\n",
      "torch.Size([3, 250, 250])"
     ]
    },
    {
     "name": "stderr",
     "output_type": "stream",
     "text": [
      "Train Epoch 0:  86%|███████████████████████████████     | 1448/1678 [04:40<00:44,  5.21batch/s, train_loss=-1.19e+4]"
     ]
    },
    {
     "name": "stdout",
     "output_type": "stream",
     "text": [
      "\n",
      "torch.Size([3, 250, 250]) (48,)\n",
      "torch.Size([3, 250, 250])\n",
      "torch.Size([3, 250, 250]) (48,)\n",
      "torch.Size([3, 250, 250])"
     ]
    },
    {
     "name": "stderr",
     "output_type": "stream",
     "text": [
      "Train Epoch 0:  86%|███████████████████████████████▉     | 1449/1678 [04:41<00:44,  5.20batch/s, train_loss=-1.3e+4]"
     ]
    },
    {
     "name": "stdout",
     "output_type": "stream",
     "text": [
      "\n",
      "torch.Size([3, 250, 250]) (48,)\n",
      "torch.Size([3, 250, 250])\n",
      "torch.Size([3, 250, 250]) (48,)\n",
      "torch.Size([3, 250, 250])"
     ]
    },
    {
     "name": "stderr",
     "output_type": "stream",
     "text": [
      "Train Epoch 0:  86%|███████████████████████████████     | 1450/1678 [04:41<00:43,  5.23batch/s, train_loss=-1.29e+4]"
     ]
    },
    {
     "name": "stdout",
     "output_type": "stream",
     "text": [
      "\n",
      "torch.Size([3, 250, 250]) (48,)\n",
      "torch.Size([3, 250, 250])\n",
      "torch.Size([3, 250, 250]) (48,)\n",
      "torch.Size([3, 250, 250])"
     ]
    },
    {
     "name": "stderr",
     "output_type": "stream",
     "text": [
      "Train Epoch 0:  86%|███████████████████████████████▏    | 1451/1678 [04:41<00:44,  5.10batch/s, train_loss=-1.23e+4]"
     ]
    },
    {
     "name": "stdout",
     "output_type": "stream",
     "text": [
      "\n",
      "torch.Size([3, 250, 250]) (48,)\n",
      "torch.Size([3, 250, 250])\n",
      "torch.Size([3, 250, 250]) (48,)\n",
      "torch.Size([3, 250, 250])"
     ]
    },
    {
     "name": "stderr",
     "output_type": "stream",
     "text": [
      "Train Epoch 0:  87%|███████████████████████████████▏    | 1452/1678 [04:41<00:43,  5.16batch/s, train_loss=-1.23e+4]"
     ]
    },
    {
     "name": "stdout",
     "output_type": "stream",
     "text": [
      "\n",
      "torch.Size([3, 250, 250]) (48,)\n",
      "torch.Size([3, 250, 250])\n",
      "torch.Size([3, 250, 250]) (48,)\n",
      "torch.Size([3, 250, 250])"
     ]
    },
    {
     "name": "stderr",
     "output_type": "stream",
     "text": [
      "Train Epoch 0:  87%|███████████████████████████████▏    | 1453/1678 [04:41<00:42,  5.24batch/s, train_loss=-1.27e+4]"
     ]
    },
    {
     "name": "stdout",
     "output_type": "stream",
     "text": [
      "\n",
      "torch.Size([3, 250, 250]) (48,)\n",
      "torch.Size([3, 250, 250])\n",
      "torch.Size([3, 250, 250]) (48,)\n",
      "torch.Size([3, 250, 250])"
     ]
    },
    {
     "name": "stderr",
     "output_type": "stream",
     "text": [
      "Train Epoch 0:  87%|███████████████████████████████▏    | 1454/1678 [04:41<00:42,  5.27batch/s, train_loss=-1.23e+4]"
     ]
    },
    {
     "name": "stdout",
     "output_type": "stream",
     "text": [
      "\n",
      "torch.Size([3, 250, 250]) (48,)\n",
      "torch.Size([3, 250, 250])\n",
      "torch.Size([3, 250, 250]) (48,)\n",
      "torch.Size([3, 250, 250])"
     ]
    },
    {
     "name": "stderr",
     "output_type": "stream",
     "text": [
      "Train Epoch 0:  87%|███████████████████████████████▏    | 1455/1678 [04:42<00:42,  5.28batch/s, train_loss=-1.23e+4]"
     ]
    },
    {
     "name": "stdout",
     "output_type": "stream",
     "text": [
      "\n",
      "torch.Size([3, 250, 250]) (48,)\n",
      "torch.Size([3, 250, 250])\n",
      "torch.Size([3, 250, 250]) (48,)\n",
      "torch.Size([3, 250, 250])\n",
      "torch.Size([3, 250, 250]) (48,)\n"
     ]
    },
    {
     "name": "stderr",
     "output_type": "stream",
     "text": [
      "Train Epoch 0:  87%|███████████████████████████████▏    | 1456/1678 [04:42<00:41,  5.29batch/s, train_loss=-1.37e+4]"
     ]
    },
    {
     "name": "stdout",
     "output_type": "stream",
     "text": [
      "torch.Size([3, 250, 250])\n",
      "torch.Size([3, 250, 250]) (48,)\n",
      "torch.Size([3, 250, 250])\n",
      "torch.Size([3, 250, 250]) (48,)\n",
      "torch.Size([3, 250, 250])"
     ]
    },
    {
     "name": "stderr",
     "output_type": "stream",
     "text": [
      "Train Epoch 0:  87%|███████████████████████████████▎    | 1457/1678 [04:42<00:41,  5.29batch/s, train_loss=-1.37e+4]"
     ]
    },
    {
     "name": "stdout",
     "output_type": "stream",
     "text": [
      "\n",
      "torch.Size([3, 250, 250]) (48,)\n",
      "torch.Size([3, 250, 250])\n",
      "torch.Size([3, 250, 250]) (48,)\n",
      "torch.Size([3, 250, 250])"
     ]
    },
    {
     "name": "stderr",
     "output_type": "stream",
     "text": [
      "Train Epoch 0:  87%|███████████████████████████████▎    | 1458/1678 [04:42<00:41,  5.28batch/s, train_loss=-1.23e+4]"
     ]
    },
    {
     "name": "stdout",
     "output_type": "stream",
     "text": [
      "\n",
      "torch.Size([3, 250, 250]) (48,)\n",
      "torch.Size([3, 250, 250])\n",
      "torch.Size([3, 250, 250]) (48,)\n",
      "torch.Size([3, 250, 250])\n",
      "torch.Size([3, 250, 250]) (48,)\n"
     ]
    },
    {
     "name": "stderr",
     "output_type": "stream",
     "text": [
      "Train Epoch 0:  87%|███████████████████████████████▎    | 1460/1678 [04:43<00:42,  5.15batch/s, train_loss=-1.19e+4]"
     ]
    },
    {
     "name": "stdout",
     "output_type": "stream",
     "text": [
      "torch.Size([3, 250, 250])\n",
      "torch.Size([3, 250, 250]) (48,)\n",
      "torch.Size([3, 250, 250])\n",
      "torch.Size([3, 250, 250]) (48,)\n",
      "torch.Size([3, 250, 250])"
     ]
    },
    {
     "name": "stderr",
     "output_type": "stream",
     "text": [
      "Train Epoch 0:  87%|███████████████████████████████▎    | 1461/1678 [04:43<00:41,  5.18batch/s, train_loss=-1.28e+4]"
     ]
    },
    {
     "name": "stdout",
     "output_type": "stream",
     "text": [
      "\n",
      "torch.Size([3, 250, 250]) (48,)\n",
      "torch.Size([3, 250, 250])\n",
      "torch.Size([3, 250, 250]) (48,)\n",
      "torch.Size([3, 250, 250])"
     ]
    },
    {
     "name": "stderr",
     "output_type": "stream",
     "text": [
      "Train Epoch 0:  87%|███████████████████████████████▎    | 1462/1678 [04:43<00:41,  5.23batch/s, train_loss=-1.25e+4]"
     ]
    },
    {
     "name": "stdout",
     "output_type": "stream",
     "text": [
      "\n",
      "torch.Size([3, 250, 250]) (48,)\n",
      "torch.Size([3, 250, 250])\n",
      "torch.Size([3, 250, 250]) (48,)\n"
     ]
    },
    {
     "name": "stderr",
     "output_type": "stream",
     "text": [
      "Train Epoch 0:  87%|███████████████████████████████▍    | 1463/1678 [04:43<00:42,  5.09batch/s, train_loss=-1.23e+4]"
     ]
    },
    {
     "name": "stdout",
     "output_type": "stream",
     "text": [
      "torch.Size([3, 250, 250])\n",
      "torch.Size([3, 250, 250]) (48,)\n",
      "torch.Size([3, 250, 250])\n",
      "torch.Size([3, 250, 250]) (48,)\n",
      "torch.Size([3, 250, 250])"
     ]
    },
    {
     "name": "stderr",
     "output_type": "stream",
     "text": [
      "Train Epoch 0:  87%|███████████████████████████████▍    | 1464/1678 [04:43<00:42,  5.09batch/s, train_loss=-1.28e+4]"
     ]
    },
    {
     "name": "stdout",
     "output_type": "stream",
     "text": [
      "\n",
      "torch.Size([3, 250, 250]) (48,)\n",
      "torch.Size([3, 250, 250])\n",
      "torch.Size([3, 250, 250]) (48,)\n",
      "torch.Size([3, 250, 250])"
     ]
    },
    {
     "name": "stderr",
     "output_type": "stream",
     "text": [
      "Train Epoch 0:  87%|███████████████████████████████▍    | 1465/1678 [04:44<00:41,  5.14batch/s, train_loss=-1.34e+4]"
     ]
    },
    {
     "name": "stdout",
     "output_type": "stream",
     "text": [
      "\n",
      "torch.Size([3, 250, 250]) (48,)\n",
      "torch.Size([3, 250, 250])\n",
      "torch.Size([3, 250, 250]) (48,)\n",
      "torch.Size([3, 250, 250])"
     ]
    },
    {
     "name": "stderr",
     "output_type": "stream",
     "text": [
      "Train Epoch 0:  87%|███████████████████████████████▍    | 1466/1678 [04:44<00:41,  5.10batch/s, train_loss=-1.41e+4]"
     ]
    },
    {
     "name": "stdout",
     "output_type": "stream",
     "text": [
      "\n",
      "torch.Size([3, 250, 250]) (48,)\n",
      "torch.Size([3, 250, 250])\n",
      "torch.Size([3, 250, 250]) (48,)\n"
     ]
    },
    {
     "name": "stderr",
     "output_type": "stream",
     "text": [
      "Train Epoch 0:  87%|███████████████████████████████▍    | 1467/1678 [04:44<00:40,  5.16batch/s, train_loss=-1.19e+4]"
     ]
    },
    {
     "name": "stdout",
     "output_type": "stream",
     "text": [
      "torch.Size([3, 250, 250])\n",
      "torch.Size([3, 250, 250]) (48,)\n",
      "torch.Size([3, 250, 250])\n",
      "torch.Size([3, 250, 250]) (48,)\n",
      "torch.Size([3, 250, 250])"
     ]
    },
    {
     "name": "stderr",
     "output_type": "stream",
     "text": [
      "Train Epoch 0:  87%|███████████████████████████████▍    | 1468/1678 [04:44<00:41,  5.11batch/s, train_loss=-1.29e+4]"
     ]
    },
    {
     "name": "stdout",
     "output_type": "stream",
     "text": [
      "\n",
      "torch.Size([3, 250, 250]) (48,)\n",
      "torch.Size([3, 250, 250])\n",
      "torch.Size([3, 250, 250]) (48,)\n",
      "torch.Size([3, 250, 250])"
     ]
    },
    {
     "name": "stderr",
     "output_type": "stream",
     "text": [
      "Train Epoch 0:  88%|███████████████████████████████▌    | 1469/1678 [04:44<00:41,  5.10batch/s, train_loss=-1.29e+4]"
     ]
    },
    {
     "name": "stdout",
     "output_type": "stream",
     "text": [
      "\n",
      "torch.Size([3, 250, 250]) (48,)\n",
      "torch.Size([3, 250, 250])\n",
      "torch.Size([3, 250, 250]) (48,)\n",
      "torch.Size([3, 250, 250])\n"
     ]
    },
    {
     "name": "stderr",
     "output_type": "stream",
     "text": [
      "Train Epoch 0:  88%|███████████████████████████████▌    | 1470/1678 [04:45<00:40,  5.15batch/s, train_loss=-1.23e+4]"
     ]
    },
    {
     "name": "stdout",
     "output_type": "stream",
     "text": [
      "torch.Size([3, 250, 250]) (48,)\n",
      "torch.Size([3, 250, 250])\n",
      "torch.Size([3, 250, 250]) (48,)\n",
      "torch.Size([3, 250, 250])"
     ]
    },
    {
     "name": "stderr",
     "output_type": "stream",
     "text": [
      "Train Epoch 0:  88%|███████████████████████████████▌    | 1471/1678 [04:45<00:40,  5.12batch/s, train_loss=-1.02e+4]"
     ]
    },
    {
     "name": "stdout",
     "output_type": "stream",
     "text": [
      "\n",
      "torch.Size([3, 250, 250]) (48,)\n",
      "torch.Size([3, 250, 250])\n",
      "torch.Size([3, 250, 250]) (48,)\n",
      "torch.Size([3, 250, 250])"
     ]
    },
    {
     "name": "stderr",
     "output_type": "stream",
     "text": [
      "Train Epoch 0:  88%|███████████████████████████████▌    | 1472/1678 [04:45<00:40,  5.13batch/s, train_loss=-1.27e+4]"
     ]
    },
    {
     "name": "stdout",
     "output_type": "stream",
     "text": [
      "\n",
      "torch.Size([3, 250, 250]) (48,)\n",
      "torch.Size([3, 250, 250])\n",
      "torch.Size([3, 250, 250]) (48,)\n",
      "torch.Size([3, 250, 250])"
     ]
    },
    {
     "name": "stderr",
     "output_type": "stream",
     "text": [
      "Train Epoch 0:  88%|███████████████████████████████▌    | 1473/1678 [04:45<00:40,  5.10batch/s, train_loss=-1.09e+4]"
     ]
    },
    {
     "name": "stdout",
     "output_type": "stream",
     "text": [
      "\n",
      "torch.Size([3, 250, 250]) (48,)\n",
      "torch.Size([3, 250, 250])\n",
      "torch.Size([3, 250, 250]) (48,)\n",
      "torch.Size([3, 250, 250])"
     ]
    },
    {
     "name": "stderr",
     "output_type": "stream",
     "text": [
      "Train Epoch 0:  88%|███████████████████████████████▌    | 1474/1678 [04:45<00:40,  5.01batch/s, train_loss=-9.95e+3]"
     ]
    },
    {
     "name": "stdout",
     "output_type": "stream",
     "text": [
      "\n",
      "torch.Size([3, 250, 250]) (48,)\n",
      "torch.Size([3, 250, 250])\n",
      "torch.Size([3, 250, 250]) (48,)\n",
      "torch.Size([3, 250, 250])"
     ]
    },
    {
     "name": "stderr",
     "output_type": "stream",
     "text": [
      "Train Epoch 0:  88%|███████████████████████████████▋    | 1475/1678 [04:46<00:40,  5.02batch/s, train_loss=-1.09e+4]"
     ]
    },
    {
     "name": "stdout",
     "output_type": "stream",
     "text": [
      "\n",
      "torch.Size([3, 250, 250]) (48,)\n",
      "torch.Size([3, 250, 250])\n",
      "torch.Size([3, 250, 250]) (48,)\n",
      "torch.Size([3, 250, 250])"
     ]
    },
    {
     "name": "stderr",
     "output_type": "stream",
     "text": [
      "Train Epoch 0:  88%|███████████████████████████████▋    | 1476/1678 [04:46<00:40,  4.97batch/s, train_loss=-1.36e+4]"
     ]
    },
    {
     "name": "stdout",
     "output_type": "stream",
     "text": [
      "\n",
      "torch.Size([3, 250, 250]) (48,)\n",
      "torch.Size([3, 250, 250])\n",
      "torch.Size([3, 250, 250]) (48,)\n",
      "torch.Size([3, 250, 250])"
     ]
    },
    {
     "name": "stderr",
     "output_type": "stream",
     "text": [
      "Train Epoch 0:  88%|███████████████████████████████▋    | 1477/1678 [04:46<00:40,  4.96batch/s, train_loss=-1.24e+4]"
     ]
    },
    {
     "name": "stdout",
     "output_type": "stream",
     "text": [
      "\n",
      "torch.Size([3, 250, 250]) (48,)\n",
      "torch.Size([3, 250, 250])\n",
      "torch.Size([3, 250, 250]) (48,)\n",
      "torch.Size([3, 250, 250])"
     ]
    },
    {
     "name": "stderr",
     "output_type": "stream",
     "text": [
      "Train Epoch 0:  88%|███████████████████████████████▋    | 1478/1678 [04:46<00:39,  5.05batch/s, train_loss=-1.27e+4]"
     ]
    },
    {
     "name": "stdout",
     "output_type": "stream",
     "text": [
      "\n",
      "torch.Size([3, 250, 250]) (48,)\n",
      "torch.Size([3, 250, 250])\n",
      "torch.Size([3, 250, 250]) (48,)\n",
      "torch.Size([3, 250, 250])"
     ]
    },
    {
     "name": "stderr",
     "output_type": "stream",
     "text": [
      "Train Epoch 0:  88%|███████████████████████████████▋    | 1479/1678 [04:46<00:38,  5.13batch/s, train_loss=-1.24e+4]"
     ]
    },
    {
     "name": "stdout",
     "output_type": "stream",
     "text": [
      "\n",
      "torch.Size([3, 250, 250]) (48,)\n",
      "torch.Size([3, 250, 250])\n",
      "torch.Size([3, 250, 250]) (48,)\n",
      "torch.Size([3, 250, 250])"
     ]
    },
    {
     "name": "stderr",
     "output_type": "stream",
     "text": [
      "Train Epoch 0:  88%|███████████████████████████████▊    | 1480/1678 [04:47<00:38,  5.16batch/s, train_loss=-1.29e+4]"
     ]
    },
    {
     "name": "stdout",
     "output_type": "stream",
     "text": [
      "\n",
      "torch.Size([3, 250, 250]) (48,)\n",
      "torch.Size([3, 250, 250])\n",
      "torch.Size([3, 250, 250]) (48,)\n",
      "torch.Size([3, 250, 250])"
     ]
    },
    {
     "name": "stderr",
     "output_type": "stream",
     "text": [
      "Train Epoch 0:  88%|███████████████████████████████▊    | 1481/1678 [04:47<00:37,  5.20batch/s, train_loss=-1.19e+4]"
     ]
    },
    {
     "name": "stdout",
     "output_type": "stream",
     "text": [
      "\n",
      "torch.Size([3, 250, 250]) (48,)\n",
      "torch.Size([3, 250, 250])\n",
      "torch.Size([3, 250, 250]) (48,)\n",
      "torch.Size([3, 250, 250])"
     ]
    },
    {
     "name": "stderr",
     "output_type": "stream",
     "text": [
      "Train Epoch 0:  88%|████████████████████████████████▋    | 1482/1678 [04:47<00:38,  5.15batch/s, train_loss=-1.3e+4]"
     ]
    },
    {
     "name": "stdout",
     "output_type": "stream",
     "text": [
      "\n",
      "torch.Size([3, 250, 250]) (48,)\n",
      "torch.Size([3, 250, 250])\n",
      "torch.Size([3, 250, 250]) (48,)\n",
      "torch.Size([3, 250, 250])"
     ]
    },
    {
     "name": "stderr",
     "output_type": "stream",
     "text": [
      "Train Epoch 0:  88%|███████████████████████████████▊    | 1483/1678 [04:47<00:37,  5.19batch/s, train_loss=-1.46e+4]"
     ]
    },
    {
     "name": "stdout",
     "output_type": "stream",
     "text": [
      "\n",
      "torch.Size([3, 250, 250]) (48,)\n",
      "torch.Size([3, 250, 250])\n",
      "torch.Size([3, 250, 250]) (48,)\n",
      "torch.Size([3, 250, 250])"
     ]
    },
    {
     "name": "stderr",
     "output_type": "stream",
     "text": [
      "Train Epoch 0:  88%|███████████████████████████████▊    | 1484/1678 [04:47<00:37,  5.23batch/s, train_loss=-1.47e+4]"
     ]
    },
    {
     "name": "stdout",
     "output_type": "stream",
     "text": [
      "\n",
      "torch.Size([3, 250, 250]) (48,)\n",
      "torch.Size([3, 250, 250])\n",
      "torch.Size([3, 250, 250]) (48,)\n",
      "torch.Size([3, 250, 250])"
     ]
    },
    {
     "name": "stderr",
     "output_type": "stream",
     "text": [
      "Train Epoch 0:  88%|███████████████████████████████▊    | 1485/1678 [04:48<00:37,  5.18batch/s, train_loss=-1.24e+4]"
     ]
    },
    {
     "name": "stdout",
     "output_type": "stream",
     "text": [
      "\n",
      "torch.Size([3, 250, 250]) (48,)\n",
      "torch.Size([3, 250, 250])\n",
      "torch.Size([3, 250, 250]) (48,)\n"
     ]
    },
    {
     "name": "stderr",
     "output_type": "stream",
     "text": [
      "Train Epoch 0:  89%|███████████████████████████████▉    | 1486/1678 [04:48<00:37,  5.06batch/s, train_loss=-1.38e+4]"
     ]
    },
    {
     "name": "stdout",
     "output_type": "stream",
     "text": [
      "torch.Size([3, 250, 250])\n",
      "torch.Size([3, 250, 250]) (48,)\n",
      "torch.Size([3, 250, 250])\n",
      "torch.Size([3, 250, 250]) (48,)\n"
     ]
    },
    {
     "name": "stderr",
     "output_type": "stream",
     "text": [
      "Train Epoch 0:  89%|███████████████████████████████▉    | 1487/1678 [04:48<00:37,  5.04batch/s, train_loss=-1.48e+4]"
     ]
    },
    {
     "name": "stdout",
     "output_type": "stream",
     "text": [
      "torch.Size([3, 250, 250])\n",
      "torch.Size([3, 250, 250]) (48,)\n",
      "torch.Size([3, 250, 250])\n",
      "torch.Size([3, 250, 250]) (48,)\n",
      "torch.Size([3, 250, 250])"
     ]
    },
    {
     "name": "stderr",
     "output_type": "stream",
     "text": [
      "Train Epoch 0:  89%|███████████████████████████████▉    | 1488/1678 [04:48<00:37,  5.11batch/s, train_loss=-1.38e+4]"
     ]
    },
    {
     "name": "stdout",
     "output_type": "stream",
     "text": [
      "\n",
      "torch.Size([3, 250, 250]) (48,)\n",
      "torch.Size([3, 250, 250])\n",
      "torch.Size([3, 250, 250]) (48,)\n",
      "torch.Size([3, 250, 250])\n"
     ]
    },
    {
     "name": "stderr",
     "output_type": "stream",
     "text": [
      "Train Epoch 0:  89%|███████████████████████████████▉    | 1489/1678 [04:48<00:37,  5.08batch/s, train_loss=-1.35e+4]"
     ]
    },
    {
     "name": "stdout",
     "output_type": "stream",
     "text": [
      "torch.Size([3, 250, 250]) (48,)\n",
      "torch.Size([3, 250, 250])\n",
      "torch.Size([3, 250, 250]) (48,)\n",
      "torch.Size([3, 250, 250])"
     ]
    },
    {
     "name": "stderr",
     "output_type": "stream",
     "text": [
      "Train Epoch 0:  89%|███████████████████████████████▉    | 1490/1678 [04:49<00:37,  5.04batch/s, train_loss=-1.42e+4]"
     ]
    },
    {
     "name": "stdout",
     "output_type": "stream",
     "text": [
      "\n",
      "torch.Size([3, 250, 250]) (48,)\n",
      "torch.Size([3, 250, 250])\n",
      "torch.Size([3, 250, 250]) (48,)\n",
      "torch.Size([3, 250, 250])"
     ]
    },
    {
     "name": "stderr",
     "output_type": "stream",
     "text": [
      "Train Epoch 0:  89%|███████████████████████████████▉    | 1491/1678 [04:49<00:36,  5.08batch/s, train_loss=-1.43e+4]"
     ]
    },
    {
     "name": "stdout",
     "output_type": "stream",
     "text": [
      "\n",
      "torch.Size([3, 250, 250]) (48,)\n",
      "torch.Size([3, 250, 250])\n",
      "torch.Size([3, 250, 250]) (48,)\n",
      "torch.Size([3, 250, 250])"
     ]
    },
    {
     "name": "stderr",
     "output_type": "stream",
     "text": [
      "Train Epoch 0:  89%|████████████████████████████████    | 1492/1678 [04:49<00:36,  5.03batch/s, train_loss=-1.43e+4]"
     ]
    },
    {
     "name": "stdout",
     "output_type": "stream",
     "text": [
      "\n",
      "torch.Size([3, 250, 250]) (48,)\n",
      "torch.Size([3, 250, 250])\n",
      "torch.Size([3, 250, 250]) (48,)\n",
      "torch.Size([3, 250, 250])"
     ]
    },
    {
     "name": "stderr",
     "output_type": "stream",
     "text": [
      "Train Epoch 0:  89%|████████████████████████████████    | 1493/1678 [04:49<00:36,  5.11batch/s, train_loss=-1.44e+4]"
     ]
    },
    {
     "name": "stdout",
     "output_type": "stream",
     "text": [
      "\n",
      "torch.Size([3, 250, 250]) (48,)\n",
      "torch.Size([3, 250, 250])\n",
      "torch.Size([3, 250, 250]) (48,)\n",
      "torch.Size([3, 250, 250])"
     ]
    },
    {
     "name": "stderr",
     "output_type": "stream",
     "text": [
      "Train Epoch 0:  89%|████████████████████████████████    | 1494/1678 [04:49<00:36,  5.04batch/s, train_loss=-1.44e+4]"
     ]
    },
    {
     "name": "stdout",
     "output_type": "stream",
     "text": [
      "\n",
      "torch.Size([3, 250, 250]) (48,)\n",
      "torch.Size([3, 250, 250])\n",
      "torch.Size([3, 250, 250]) (48,)\n"
     ]
    },
    {
     "name": "stderr",
     "output_type": "stream",
     "text": [
      "Train Epoch 0:  89%|████████████████████████████████    | 1495/1678 [04:49<00:36,  5.04batch/s, train_loss=-1.44e+4]"
     ]
    },
    {
     "name": "stdout",
     "output_type": "stream",
     "text": [
      "torch.Size([3, 250, 250])\n",
      "torch.Size([3, 250, 250]) (48,)\n",
      "torch.Size([3, 250, 250])\n",
      "torch.Size([3, 250, 250]) (48,)\n",
      "torch.Size([3, 250, 250])"
     ]
    },
    {
     "name": "stderr",
     "output_type": "stream",
     "text": [
      "Train Epoch 0:  89%|████████████████████████████████    | 1496/1678 [04:50<00:35,  5.10batch/s, train_loss=-1.44e+4]"
     ]
    },
    {
     "name": "stdout",
     "output_type": "stream",
     "text": [
      "\n",
      "torch.Size([3, 250, 250]) (48,)\n",
      "torch.Size([3, 250, 250])\n",
      "torch.Size([3, 250, 250]) (48,)\n",
      "torch.Size([3, 250, 250])"
     ]
    },
    {
     "name": "stderr",
     "output_type": "stream",
     "text": [
      "Train Epoch 0:  89%|████████████████████████████████    | 1497/1678 [04:50<00:35,  5.16batch/s, train_loss=-1.42e+4]"
     ]
    },
    {
     "name": "stdout",
     "output_type": "stream",
     "text": [
      "\n",
      "torch.Size([3, 250, 250]) (48,)\n",
      "torch.Size([3, 250, 250])\n",
      "torch.Size([3, 250, 250]) (48,)\n",
      "torch.Size([3, 250, 250])"
     ]
    },
    {
     "name": "stderr",
     "output_type": "stream",
     "text": [
      "Train Epoch 0:  89%|████████████████████████████████▏   | 1498/1678 [04:50<00:34,  5.21batch/s, train_loss=-1.44e+4]"
     ]
    },
    {
     "name": "stdout",
     "output_type": "stream",
     "text": [
      "\n",
      "torch.Size([3, 250, 250]) (48,)\n",
      "torch.Size([3, 250, 250])\n",
      "torch.Size([3, 250, 250]) (48,)\n",
      "torch.Size([3, 250, 250])"
     ]
    },
    {
     "name": "stderr",
     "output_type": "stream",
     "text": [
      "Train Epoch 0:  89%|█████████████████████████████████    | 1499/1678 [04:50<00:34,  5.22batch/s, train_loss=-1.4e+4]"
     ]
    },
    {
     "name": "stdout",
     "output_type": "stream",
     "text": [
      "\n",
      "torch.Size([3, 250, 250]) (48,)\n",
      "torch.Size([3, 250, 250])\n",
      "torch.Size([3, 250, 250]) (48,)\n",
      "torch.Size([3, 250, 250])"
     ]
    },
    {
     "name": "stderr",
     "output_type": "stream",
     "text": [
      "\r",
      "Train Epoch 0:  89%|█████████████████████████████████    | 1499/1678 [04:50<00:34,  5.22batch/s, train_loss=-1.4e+4]"
     ]
    },
    {
     "name": "stdout",
     "output_type": "stream",
     "text": [
      "\n",
      "torch.Size([3, 250, 250]) (48,)\n",
      "torch.Size([3, 250, 250])\n",
      "torch.Size([3, 250, 250]) (48,)\n"
     ]
    },
    {
     "name": "stderr",
     "output_type": "stream",
     "text": [
      "Train Epoch 0:  89%|█████████████████████████████████    | 1501/1678 [04:51<00:34,  5.12batch/s, train_loss=-1.2e+4]"
     ]
    },
    {
     "name": "stdout",
     "output_type": "stream",
     "text": [
      "torch.Size([3, 250, 250])\n",
      "torch.Size([3, 250, 250]) (48,)\n",
      "torch.Size([3, 250, 250])\n",
      "torch.Size([3, 250, 250]) (48,)\n",
      "torch.Size([3, 250, 250])"
     ]
    },
    {
     "name": "stderr",
     "output_type": "stream",
     "text": [
      "Train Epoch 0:  90%|████████████████████████████████▏   | 1502/1678 [04:51<00:34,  5.16batch/s, train_loss=-1.46e+4]"
     ]
    },
    {
     "name": "stdout",
     "output_type": "stream",
     "text": [
      "\n",
      "torch.Size([3, 250, 250]) (48,)\n",
      "torch.Size([3, 250, 250])\n",
      "torch.Size([3, 250, 250]) (48,)\n",
      "torch.Size([3, 250, 250])"
     ]
    },
    {
     "name": "stderr",
     "output_type": "stream",
     "text": [
      "Train Epoch 0:  90%|████████████████████████████████▏   | 1503/1678 [04:51<00:33,  5.19batch/s, train_loss=-1.21e+4]"
     ]
    },
    {
     "name": "stdout",
     "output_type": "stream",
     "text": [
      "\n",
      "torch.Size([3, 250, 250]) (48,)\n",
      "torch.Size([3, 250, 250])\n",
      "torch.Size([3, 250, 250]) (48,)\n",
      "torch.Size([3, 250, 250])"
     ]
    },
    {
     "name": "stderr",
     "output_type": "stream",
     "text": [
      "Train Epoch 0:  90%|█████████████████████████████████▏   | 1504/1678 [04:51<00:33,  5.26batch/s, train_loss=-1.4e+4]"
     ]
    },
    {
     "name": "stdout",
     "output_type": "stream",
     "text": [
      "\n",
      "torch.Size([3, 250, 250]) (48,)\n",
      "torch.Size([3, 250, 250])\n",
      "torch.Size([3, 250, 250]) (48,)\n"
     ]
    },
    {
     "name": "stderr",
     "output_type": "stream",
     "text": [
      "Train Epoch 0:  90%|████████████████████████████████▎   | 1505/1678 [04:51<00:33,  5.21batch/s, train_loss=-1.27e+4]"
     ]
    },
    {
     "name": "stdout",
     "output_type": "stream",
     "text": [
      "torch.Size([3, 250, 250])\n",
      "torch.Size([3, 250, 250]) (48,)\n",
      "torch.Size([3, 250, 250])\n",
      "torch.Size([3, 250, 250]) (48,)\n",
      "torch.Size([3, 250, 250])"
     ]
    },
    {
     "name": "stderr",
     "output_type": "stream",
     "text": [
      "\r",
      "Train Epoch 0:  90%|████████████████████████████████▎   | 1505/1678 [04:51<00:33,  5.21batch/s, train_loss=-1.27e+4]"
     ]
    },
    {
     "name": "stdout",
     "output_type": "stream",
     "text": [
      "\n",
      "torch.Size([3, 250, 250]) (48,)\n",
      "torch.Size([3, 250, 250])\n",
      "torch.Size([3, 250, 250]) (48,)\n"
     ]
    },
    {
     "name": "stderr",
     "output_type": "stream",
     "text": [
      "Train Epoch 0:  90%|█████████████████████████████████▏   | 1507/1678 [04:52<00:33,  5.10batch/s, train_loss=-1.1e+4]"
     ]
    },
    {
     "name": "stdout",
     "output_type": "stream",
     "text": [
      "torch.Size([3, 250, 250])\n",
      "torch.Size([3, 250, 250]) (48,)\n",
      "torch.Size([3, 250, 250])\n",
      "torch.Size([3, 250, 250]) (48,)\n",
      "torch.Size([3, 250, 250])"
     ]
    },
    {
     "name": "stderr",
     "output_type": "stream",
     "text": [
      "Train Epoch 0:  90%|████████████████████████████████▎   | 1508/1678 [04:52<00:33,  5.12batch/s, train_loss=-1.41e+4]"
     ]
    },
    {
     "name": "stdout",
     "output_type": "stream",
     "text": [
      "\n",
      "torch.Size([3, 250, 250]) (48,)\n",
      "torch.Size([3, 250, 250])\n",
      "torch.Size([3, 250, 250]) (48,)\n",
      "torch.Size([3, 250, 250])"
     ]
    },
    {
     "name": "stderr",
     "output_type": "stream",
     "text": [
      "Train Epoch 0:  90%|████████████████████████████████▎   | 1509/1678 [04:52<00:33,  5.03batch/s, train_loss=-1.23e+4]"
     ]
    },
    {
     "name": "stdout",
     "output_type": "stream",
     "text": [
      "\n",
      "torch.Size([3, 250, 250]) (48,)\n",
      "torch.Size([3, 250, 250])\n",
      "torch.Size([3, 250, 250]) (48,)\n",
      "torch.Size([3, 250, 250])"
     ]
    },
    {
     "name": "stderr",
     "output_type": "stream",
     "text": [
      "Train Epoch 0:  90%|████████████████████████████████▍   | 1510/1678 [04:52<00:32,  5.10batch/s, train_loss=-1.25e+4]"
     ]
    },
    {
     "name": "stdout",
     "output_type": "stream",
     "text": [
      "\n",
      "torch.Size([3, 250, 250]) (48,)\n",
      "torch.Size([3, 250, 250])\n",
      "torch.Size([3, 250, 250]) (48,)\n"
     ]
    },
    {
     "name": "stderr",
     "output_type": "stream",
     "text": [
      "Train Epoch 0:  90%|████████████████████████████████▍   | 1511/1678 [04:53<00:32,  5.11batch/s, train_loss=-1.39e+4]"
     ]
    },
    {
     "name": "stdout",
     "output_type": "stream",
     "text": [
      "torch.Size([3, 250, 250])\n",
      "torch.Size([3, 250, 250]) (48,)\n",
      "torch.Size([3, 250, 250])\n",
      "torch.Size([3, 250, 250]) (48,)\n",
      "torch.Size([3, 250, 250])"
     ]
    },
    {
     "name": "stderr",
     "output_type": "stream",
     "text": [
      "Train Epoch 0:  90%|████████████████████████████████▍   | 1512/1678 [04:53<00:32,  5.16batch/s, train_loss=-1.16e+4]"
     ]
    },
    {
     "name": "stdout",
     "output_type": "stream",
     "text": [
      "\n",
      "torch.Size([3, 250, 250]) (48,)\n",
      "torch.Size([3, 250, 250])\n",
      "torch.Size([3, 250, 250]) (48,)\n",
      "torch.Size([3, 250, 250])"
     ]
    },
    {
     "name": "stderr",
     "output_type": "stream",
     "text": [
      "Train Epoch 0:  90%|████████████████████████████████▍   | 1513/1678 [04:53<00:31,  5.21batch/s, train_loss=-1.31e+4]"
     ]
    },
    {
     "name": "stdout",
     "output_type": "stream",
     "text": [
      "\n",
      "torch.Size([3, 250, 250]) (48,)\n",
      "torch.Size([3, 250, 250])\n",
      "torch.Size([3, 250, 250]) (48,)\n",
      "torch.Size([3, 250, 250])"
     ]
    },
    {
     "name": "stderr",
     "output_type": "stream",
     "text": [
      "Train Epoch 0:  90%|████████████████████████████████▍   | 1514/1678 [04:53<00:31,  5.26batch/s, train_loss=-1.33e+4]"
     ]
    },
    {
     "name": "stdout",
     "output_type": "stream",
     "text": [
      "\n",
      "torch.Size([3, 250, 250]) (48,)\n",
      "torch.Size([3, 250, 250])\n",
      "torch.Size([3, 250, 250]) (48,)\n",
      "torch.Size([3, 250, 250])\n",
      "torch.Size([3, 250, 250]) (48,)\n"
     ]
    },
    {
     "name": "stderr",
     "output_type": "stream",
     "text": [
      "Train Epoch 0:  90%|████████████████████████████████▌   | 1515/1678 [04:53<00:30,  5.30batch/s, train_loss=-1.33e+4]"
     ]
    },
    {
     "name": "stdout",
     "output_type": "stream",
     "text": [
      "torch.Size([3, 250, 250])\n",
      "torch.Size([3, 250, 250]) (48,)\n",
      "torch.Size([3, 250, 250])\n",
      "torch.Size([3, 250, 250]) (48,)\n",
      "torch.Size([3, 250, 250])"
     ]
    },
    {
     "name": "stderr",
     "output_type": "stream",
     "text": [
      "Train Epoch 0:  90%|████████████████████████████████▌   | 1516/1678 [04:54<00:30,  5.24batch/s, train_loss=-1.49e+4]"
     ]
    },
    {
     "name": "stdout",
     "output_type": "stream",
     "text": [
      "\n",
      "torch.Size([3, 250, 250]) (48,)\n",
      "torch.Size([3, 250, 250])\n",
      "torch.Size([3, 250, 250]) (48,)\n",
      "torch.Size([3, 250, 250])"
     ]
    },
    {
     "name": "stderr",
     "output_type": "stream",
     "text": [
      "Train Epoch 0:  90%|████████████████████████████████▌   | 1517/1678 [04:54<00:31,  5.18batch/s, train_loss=-1.12e+4]"
     ]
    },
    {
     "name": "stdout",
     "output_type": "stream",
     "text": [
      "\n",
      "torch.Size([3, 250, 250]) (48,)\n",
      "torch.Size([3, 250, 250])\n",
      "torch.Size([3, 250, 250]) (48,)\n"
     ]
    },
    {
     "name": "stderr",
     "output_type": "stream",
     "text": [
      "Train Epoch 0:  90%|████████████████████████████████▌   | 1518/1678 [04:54<00:31,  5.15batch/s, train_loss=-1.48e+4]"
     ]
    },
    {
     "name": "stdout",
     "output_type": "stream",
     "text": [
      "torch.Size([3, 250, 250])\n",
      "torch.Size([3, 250, 250]) (48,)\n",
      "torch.Size([3, 250, 250])\n",
      "torch.Size([3, 250, 250]) (48,)\n",
      "torch.Size([3, 250, 250])"
     ]
    },
    {
     "name": "stderr",
     "output_type": "stream",
     "text": [
      "Train Epoch 0:  91%|████████████████████████████████▌   | 1519/1678 [04:54<00:30,  5.20batch/s, train_loss=-1.49e+4]"
     ]
    },
    {
     "name": "stdout",
     "output_type": "stream",
     "text": [
      "\n",
      "torch.Size([3, 250, 250]) (48,)\n",
      "torch.Size([3, 250, 250])\n",
      "torch.Size([3, 250, 250]) (48,)\n",
      "torch.Size([3, 250, 250])"
     ]
    },
    {
     "name": "stderr",
     "output_type": "stream",
     "text": [
      "Train Epoch 0:  91%|████████████████████████████████▌   | 1520/1678 [04:54<00:30,  5.15batch/s, train_loss=-1.35e+4]"
     ]
    },
    {
     "name": "stdout",
     "output_type": "stream",
     "text": [
      "\n",
      "torch.Size([3, 250, 250]) (48,)\n",
      "torch.Size([3, 250, 250])\n",
      "torch.Size([3, 250, 250]) (48,)\n",
      "torch.Size([3, 250, 250])"
     ]
    },
    {
     "name": "stderr",
     "output_type": "stream",
     "text": [
      "Train Epoch 0:  91%|████████████████████████████████▋   | 1521/1678 [04:55<00:30,  5.19batch/s, train_loss=-1.35e+4]"
     ]
    },
    {
     "name": "stdout",
     "output_type": "stream",
     "text": [
      "\n",
      "torch.Size([3, 250, 250]) (48,)\n",
      "torch.Size([3, 250, 250])\n",
      "torch.Size([3, 250, 250]) (48,)\n",
      "torch.Size([3, 250, 250])"
     ]
    },
    {
     "name": "stderr",
     "output_type": "stream",
     "text": [
      "Train Epoch 0:  91%|████████████████████████████████▋   | 1522/1678 [04:55<00:29,  5.21batch/s, train_loss=-1.35e+4]"
     ]
    },
    {
     "name": "stdout",
     "output_type": "stream",
     "text": [
      "\n",
      "torch.Size([3, 250, 250]) (48,)\n",
      "torch.Size([3, 250, 250])\n",
      "torch.Size([3, 250, 250]) (48,)\n",
      "torch.Size([3, 250, 250])"
     ]
    },
    {
     "name": "stderr",
     "output_type": "stream",
     "text": [
      "Train Epoch 0:  91%|████████████████████████████████▋   | 1523/1678 [04:55<00:30,  5.15batch/s, train_loss=-1.44e+4]"
     ]
    },
    {
     "name": "stdout",
     "output_type": "stream",
     "text": [
      "\n",
      "torch.Size([3, 250, 250]) (48,)\n",
      "torch.Size([3, 250, 250])\n",
      "torch.Size([3, 250, 250]) (48,)\n",
      "torch.Size([3, 250, 250])"
     ]
    },
    {
     "name": "stderr",
     "output_type": "stream",
     "text": [
      "Train Epoch 0:  91%|████████████████████████████████▋   | 1524/1678 [04:55<00:30,  5.11batch/s, train_loss=-1.43e+4]"
     ]
    },
    {
     "name": "stdout",
     "output_type": "stream",
     "text": [
      "\n",
      "torch.Size([3, 250, 250]) (48,)\n",
      "torch.Size([3, 250, 250])\n",
      "torch.Size([3, 250, 250]) (48,)\n"
     ]
    },
    {
     "name": "stderr",
     "output_type": "stream",
     "text": [
      "Train Epoch 0:  91%|████████████████████████████████▋   | 1525/1678 [04:55<00:30,  4.99batch/s, train_loss=-1.26e+4]"
     ]
    },
    {
     "name": "stdout",
     "output_type": "stream",
     "text": [
      "torch.Size([3, 250, 250])\n",
      "torch.Size([3, 250, 250]) (48,)\n",
      "torch.Size([3, 250, 250])"
     ]
    },
    {
     "name": "stderr",
     "output_type": "stream",
     "text": [
      "Train Epoch 0:  91%|████████████████████████████████▋   | 1525/1678 [04:56<00:30,  4.99batch/s, train_loss=-1.44e+4]"
     ]
    },
    {
     "name": "stdout",
     "output_type": "stream",
     "text": [
      "\n",
      "torch.Size([3, 250, 250]) (48,)\n",
      "torch.Size([3, 250, 250])\n",
      "torch.Size([3, 250, 250]) (48,)\n"
     ]
    },
    {
     "name": "stderr",
     "output_type": "stream",
     "text": [
      "Train Epoch 0:  91%|████████████████████████████████▋   | 1526/1678 [04:56<00:31,  4.89batch/s, train_loss=-1.44e+4]"
     ]
    },
    {
     "name": "stdout",
     "output_type": "stream",
     "text": [
      "torch.Size([3, 250, 250])\n",
      "torch.Size([3, 250, 250]) (48,)\n",
      "torch.Size([3, 250, 250])\n",
      "torch.Size([3, 250, 250]) (48,)\n"
     ]
    },
    {
     "name": "stderr",
     "output_type": "stream",
     "text": [
      "Train Epoch 0:  91%|████████████████████████████████▊   | 1528/1678 [04:56<00:31,  4.74batch/s, train_loss=-1.44e+4]"
     ]
    },
    {
     "name": "stdout",
     "output_type": "stream",
     "text": [
      "torch.Size([3, 250, 250])\n",
      "torch.Size([3, 250, 250]) (48,)\n",
      "torch.Size([3, 250, 250])\n",
      "torch.Size([3, 250, 250]) (48,)\n"
     ]
    },
    {
     "name": "stderr",
     "output_type": "stream",
     "text": [
      "Train Epoch 0:  91%|████████████████████████████████▊   | 1529/1678 [04:56<00:31,  4.74batch/s, train_loss=-1.47e+4]"
     ]
    },
    {
     "name": "stdout",
     "output_type": "stream",
     "text": [
      "torch.Size([3, 250, 250])\n",
      "torch.Size([3, 250, 250]) (48,)\n",
      "torch.Size([3, 250, 250])\n",
      "torch.Size([3, 250, 250]) (48,)\n"
     ]
    },
    {
     "name": "stderr",
     "output_type": "stream",
     "text": [
      "Train Epoch 0:  91%|████████████████████████████████▊   | 1530/1678 [04:56<00:30,  4.80batch/s, train_loss=-1.18e+4]"
     ]
    },
    {
     "name": "stdout",
     "output_type": "stream",
     "text": [
      "torch.Size([3, 250, 250])\n",
      "torch.Size([3, 250, 250]) (48,)\n",
      "torch.Size([3, 250, 250])\n",
      "torch.Size([3, 250, 250]) (48,)\n",
      "torch.Size([3, 250, 250])"
     ]
    },
    {
     "name": "stderr",
     "output_type": "stream",
     "text": [
      "Train Epoch 0:  91%|████████████████████████████████▊   | 1531/1678 [04:57<00:29,  4.91batch/s, train_loss=-1.45e+4]"
     ]
    },
    {
     "name": "stdout",
     "output_type": "stream",
     "text": [
      "\n",
      "torch.Size([3, 250, 250]) (48,)\n",
      "torch.Size([3, 250, 250])\n",
      "torch.Size([3, 250, 250]) (48,)\n",
      "torch.Size([3, 250, 250])"
     ]
    },
    {
     "name": "stderr",
     "output_type": "stream",
     "text": [
      "Train Epoch 0:  91%|████████████████████████████████▊   | 1532/1678 [04:57<00:29,  5.01batch/s, train_loss=-1.45e+4]"
     ]
    },
    {
     "name": "stdout",
     "output_type": "stream",
     "text": [
      "\n",
      "torch.Size([3, 250, 250]) (48,)\n",
      "torch.Size([3, 250, 250])\n",
      "torch.Size([3, 250, 250]) (48,)\n",
      "torch.Size([3, 250, 250])"
     ]
    },
    {
     "name": "stderr",
     "output_type": "stream",
     "text": [
      "Train Epoch 0:  91%|████████████████████████████████▉   | 1533/1678 [04:57<00:28,  5.08batch/s, train_loss=-1.46e+4]"
     ]
    },
    {
     "name": "stdout",
     "output_type": "stream",
     "text": [
      "\n",
      "torch.Size([3, 250, 250]) (48,)\n",
      "torch.Size([3, 250, 250])\n",
      "torch.Size([3, 250, 250]) (48,)\n"
     ]
    },
    {
     "name": "stderr",
     "output_type": "stream",
     "text": [
      "Train Epoch 0:  91%|████████████████████████████████▉   | 1534/1678 [04:57<00:28,  5.09batch/s, train_loss=-1.42e+4]"
     ]
    },
    {
     "name": "stdout",
     "output_type": "stream",
     "text": [
      "torch.Size([3, 250, 250])\n",
      "torch.Size([3, 250, 250]) (48,)\n",
      "torch.Size([3, 250, 250])\n",
      "torch.Size([3, 250, 250]) (48,)\n",
      "torch.Size([3, 250, 250])"
     ]
    },
    {
     "name": "stderr",
     "output_type": "stream",
     "text": [
      "Train Epoch 0:  91%|████████████████████████████████▉   | 1535/1678 [04:57<00:27,  5.18batch/s, train_loss=-1.35e+4]"
     ]
    },
    {
     "name": "stdout",
     "output_type": "stream",
     "text": [
      "\n",
      "torch.Size([3, 250, 250]) (48,)\n",
      "torch.Size([3, 250, 250])\n",
      "torch.Size([3, 250, 250]) (48,)\n",
      "torch.Size([3, 250, 250])\n",
      "torch.Size([3, 250, 250]) (48,)\n",
      "torch.Size([3, 250, 250])\n"
     ]
    },
    {
     "name": "stderr",
     "output_type": "stream",
     "text": [
      "Train Epoch 0:  92%|████████████████████████████████▉   | 1536/1678 [04:58<00:27,  5.22batch/s, train_loss=-1.39e+4]"
     ]
    },
    {
     "name": "stdout",
     "output_type": "stream",
     "text": [
      "torch.Size([3, 250, 250]) (48,)\n",
      "torch.Size([3, 250, 250])\n",
      "torch.Size([3, 250, 250]) (48,)\n",
      "torch.Size([3, 250, 250])"
     ]
    },
    {
     "name": "stderr",
     "output_type": "stream",
     "text": [
      "Train Epoch 0:  92%|████████████████████████████████▉   | 1537/1678 [04:58<00:27,  5.16batch/s, train_loss=-1.53e+4]"
     ]
    },
    {
     "name": "stdout",
     "output_type": "stream",
     "text": [
      "\n",
      "torch.Size([3, 250, 250]) (48,)\n",
      "torch.Size([3, 250, 250])\n",
      "torch.Size([3, 250, 250]) (48,)\n",
      "torch.Size([3, 250, 250])"
     ]
    },
    {
     "name": "stderr",
     "output_type": "stream",
     "text": [
      "Train Epoch 0:  92%|████████████████████████████████▉   | 1538/1678 [04:58<00:26,  5.21batch/s, train_loss=-1.09e+4]"
     ]
    },
    {
     "name": "stdout",
     "output_type": "stream",
     "text": [
      "\n",
      "torch.Size([3, 250, 250]) (48,)\n",
      "torch.Size([3, 250, 250])\n",
      "torch.Size([3, 250, 250]) (48,)\n",
      "torch.Size([3, 250, 250])"
     ]
    },
    {
     "name": "stderr",
     "output_type": "stream",
     "text": [
      "Train Epoch 0:  92%|█████████████████████████████████   | 1539/1678 [04:58<00:26,  5.23batch/s, train_loss=-1.28e+4]"
     ]
    },
    {
     "name": "stdout",
     "output_type": "stream",
     "text": [
      "\n",
      "torch.Size([3, 250, 250]) (48,)\n",
      "torch.Size([3, 250, 250])\n",
      "torch.Size([3, 250, 250]) (48,)\n",
      "torch.Size([3, 250, 250])"
     ]
    },
    {
     "name": "stderr",
     "output_type": "stream",
     "text": [
      "Train Epoch 0:  92%|█████████████████████████████████   | 1540/1678 [04:58<00:26,  5.16batch/s, train_loss=-1.42e+4]"
     ]
    },
    {
     "name": "stdout",
     "output_type": "stream",
     "text": [
      "\n",
      "torch.Size([3, 250, 250]) (48,)\n",
      "torch.Size([3, 250, 250])\n",
      "torch.Size([3, 250, 250]) (48,)\n",
      "torch.Size([3, 250, 250])"
     ]
    },
    {
     "name": "stderr",
     "output_type": "stream",
     "text": [
      "Train Epoch 0:  92%|█████████████████████████████████   | 1541/1678 [04:58<00:26,  5.20batch/s, train_loss=-1.27e+4]"
     ]
    },
    {
     "name": "stdout",
     "output_type": "stream",
     "text": [
      "\n",
      "torch.Size([3, 250, 250]) (48,)\n",
      "torch.Size([3, 250, 250])\n",
      "torch.Size([3, 250, 250]) (48,)\n",
      "torch.Size([3, 250, 250])"
     ]
    },
    {
     "name": "stderr",
     "output_type": "stream",
     "text": [
      "Train Epoch 0:  92%|█████████████████████████████████   | 1542/1678 [04:59<00:26,  5.15batch/s, train_loss=-1.33e+4]"
     ]
    },
    {
     "name": "stdout",
     "output_type": "stream",
     "text": [
      "\n",
      "torch.Size([3, 250, 250]) (48,)\n",
      "torch.Size([3, 250, 250])\n",
      "torch.Size([3, 250, 250]) (48,)\n",
      "torch.Size([3, 250, 250])"
     ]
    },
    {
     "name": "stderr",
     "output_type": "stream",
     "text": [
      "Train Epoch 0:  92%|█████████████████████████████████   | 1543/1678 [04:59<00:25,  5.21batch/s, train_loss=-1.32e+4]"
     ]
    },
    {
     "name": "stdout",
     "output_type": "stream",
     "text": [
      "\n",
      "torch.Size([3, 250, 250]) (48,)\n",
      "torch.Size([3, 250, 250])\n",
      "torch.Size([3, 250, 250]) (48,)\n",
      "torch.Size([3, 250, 250])"
     ]
    },
    {
     "name": "stderr",
     "output_type": "stream",
     "text": [
      "Train Epoch 0:  92%|█████████████████████████████████▏  | 1544/1678 [04:59<00:25,  5.18batch/s, train_loss=-1.38e+4]"
     ]
    },
    {
     "name": "stdout",
     "output_type": "stream",
     "text": [
      "\n",
      "torch.Size([3, 250, 250]) (48,)\n",
      "torch.Size([3, 250, 250])\n",
      "torch.Size([3, 250, 250]) (48,)\n",
      "torch.Size([3, 250, 250])"
     ]
    },
    {
     "name": "stderr",
     "output_type": "stream",
     "text": [
      "Train Epoch 0:  92%|█████████████████████████████████▏  | 1545/1678 [04:59<00:25,  5.27batch/s, train_loss=-1.31e+4]"
     ]
    },
    {
     "name": "stdout",
     "output_type": "stream",
     "text": [
      "\n",
      "torch.Size([3, 250, 250]) (48,)\n",
      "torch.Size([3, 250, 250])\n",
      "torch.Size([3, 250, 250]) (48,)\n",
      "torch.Size([3, 250, 250])"
     ]
    },
    {
     "name": "stderr",
     "output_type": "stream",
     "text": [
      "Train Epoch 0:  92%|█████████████████████████████████▏  | 1546/1678 [04:59<00:25,  5.23batch/s, train_loss=-1.31e+4]"
     ]
    },
    {
     "name": "stdout",
     "output_type": "stream",
     "text": [
      "\n",
      "torch.Size([3, 250, 250]) (48,)\n",
      "torch.Size([3, 250, 250])\n",
      "torch.Size([3, 250, 250]) (48,)\n",
      "torch.Size([3, 250, 250])"
     ]
    },
    {
     "name": "stderr",
     "output_type": "stream",
     "text": [
      "Train Epoch 0:  92%|█████████████████████████████████▏  | 1547/1678 [05:00<00:25,  5.18batch/s, train_loss=-1.31e+4]"
     ]
    },
    {
     "name": "stdout",
     "output_type": "stream",
     "text": [
      "\n",
      "torch.Size([3, 250, 250]) (48,)\n",
      "torch.Size([3, 250, 250])\n",
      "torch.Size([3, 250, 250]) (48,)\n",
      "torch.Size([3, 250, 250])"
     ]
    },
    {
     "name": "stderr",
     "output_type": "stream",
     "text": [
      "Train Epoch 0:  92%|██████████████████████████████████▏  | 1548/1678 [05:00<00:24,  5.22batch/s, train_loss=-1.3e+4]"
     ]
    },
    {
     "name": "stdout",
     "output_type": "stream",
     "text": [
      "\n",
      "torch.Size([3, 250, 250]) (48,)\n",
      "torch.Size([3, 250, 250])\n",
      "torch.Size([3, 250, 250]) (48,)\n",
      "torch.Size([3, 250, 250])"
     ]
    },
    {
     "name": "stderr",
     "output_type": "stream",
     "text": [
      "Train Epoch 0:  92%|█████████████████████████████████▏  | 1549/1678 [05:00<00:24,  5.26batch/s, train_loss=-1.19e+4]"
     ]
    },
    {
     "name": "stdout",
     "output_type": "stream",
     "text": [
      "\n",
      "torch.Size([3, 250, 250]) (48,)\n",
      "torch.Size([3, 250, 250])\n",
      "torch.Size([3, 250, 250]) (48,)\n",
      "torch.Size([3, 250, 250])\n"
     ]
    },
    {
     "name": "stderr",
     "output_type": "stream",
     "text": [
      "Train Epoch 0:  92%|█████████████████████████████████▎  | 1550/1678 [05:00<00:24,  5.26batch/s, train_loss=-1.22e+4]"
     ]
    },
    {
     "name": "stdout",
     "output_type": "stream",
     "text": [
      "torch.Size([3, 250, 250]) (48,)\n",
      "torch.Size([3, 250, 250])\n",
      "torch.Size([3, 250, 250]) (48,)\n",
      "torch.Size([3, 250, 250])"
     ]
    },
    {
     "name": "stderr",
     "output_type": "stream",
     "text": [
      "Train Epoch 0:  92%|█████████████████████████████████▎  | 1551/1678 [05:00<00:24,  5.27batch/s, train_loss=-1.22e+4]"
     ]
    },
    {
     "name": "stdout",
     "output_type": "stream",
     "text": [
      "\n",
      "torch.Size([3, 250, 250]) (48,)\n",
      "torch.Size([3, 250, 250])\n",
      "torch.Size([3, 250, 250]) (48,)\n",
      "torch.Size([3, 250, 250])"
     ]
    },
    {
     "name": "stderr",
     "output_type": "stream",
     "text": [
      "Train Epoch 0:  92%|█████████████████████████████████▎  | 1552/1678 [05:01<00:24,  5.23batch/s, train_loss=-1.23e+4]"
     ]
    },
    {
     "name": "stdout",
     "output_type": "stream",
     "text": [
      "\n",
      "torch.Size([3, 250, 250]) (48,)\n",
      "torch.Size([3, 250, 250])\n",
      "torch.Size([3, 250, 250]) (48,)\n",
      "torch.Size([3, 250, 250])"
     ]
    },
    {
     "name": "stderr",
     "output_type": "stream",
     "text": [
      "Train Epoch 0:  93%|██████████████████████████████████▏  | 1553/1678 [05:01<00:23,  5.25batch/s, train_loss=-1.2e+4]"
     ]
    },
    {
     "name": "stdout",
     "output_type": "stream",
     "text": [
      "\n",
      "torch.Size([3, 250, 250]) (48,)\n",
      "torch.Size([3, 250, 250])\n",
      "torch.Size([3, 250, 250]) (48,)\n",
      "torch.Size([3, 250, 250])"
     ]
    },
    {
     "name": "stderr",
     "output_type": "stream",
     "text": [
      "Train Epoch 0:  93%|█████████████████████████████████▎  | 1554/1678 [05:01<00:23,  5.26batch/s, train_loss=-1.24e+4]"
     ]
    },
    {
     "name": "stdout",
     "output_type": "stream",
     "text": [
      "\n",
      "torch.Size([3, 250, 250]) (48,)\n",
      "torch.Size([3, 250, 250])\n",
      "torch.Size([3, 250, 250]) (48,)\n",
      "torch.Size([3, 250, 250])"
     ]
    },
    {
     "name": "stderr",
     "output_type": "stream",
     "text": [
      "Train Epoch 0:  93%|█████████████████████████████████▎  | 1555/1678 [05:01<00:23,  5.21batch/s, train_loss=-1.27e+4]"
     ]
    },
    {
     "name": "stdout",
     "output_type": "stream",
     "text": [
      "\n",
      "torch.Size([3, 250, 250]) (48,)\n",
      "torch.Size([3, 250, 250])\n",
      "torch.Size([3, 250, 250]) (48,)\n"
     ]
    },
    {
     "name": "stderr",
     "output_type": "stream",
     "text": [
      "Train Epoch 0:  93%|█████████████████████████████████▍  | 1556/1678 [05:01<00:23,  5.12batch/s, train_loss=-1.22e+4]"
     ]
    },
    {
     "name": "stdout",
     "output_type": "stream",
     "text": [
      "torch.Size([3, 250, 250])\n",
      "torch.Size([3, 250, 250]) (48,)\n",
      "torch.Size([3, 250, 250])\n",
      "torch.Size([3, 250, 250]) (48,)\n",
      "torch.Size([3, 250, 250])"
     ]
    },
    {
     "name": "stderr",
     "output_type": "stream",
     "text": [
      "Train Epoch 0:  93%|█████████████████████████████████▍  | 1557/1678 [05:02<00:23,  5.11batch/s, train_loss=-1.24e+4]"
     ]
    },
    {
     "name": "stdout",
     "output_type": "stream",
     "text": [
      "\n",
      "torch.Size([3, 250, 250]) (48,)\n",
      "torch.Size([3, 250, 250])\n",
      "torch.Size([3, 250, 250]) (48,)\n",
      "torch.Size([3, 250, 250])"
     ]
    },
    {
     "name": "stderr",
     "output_type": "stream",
     "text": [
      "Train Epoch 0:  93%|█████████████████████████████████▍  | 1558/1678 [05:02<00:23,  5.05batch/s, train_loss=-1.24e+4]"
     ]
    },
    {
     "name": "stdout",
     "output_type": "stream",
     "text": [
      "\n",
      "torch.Size([3, 250, 250]) (48,)\n",
      "torch.Size([3, 250, 250])\n",
      "torch.Size([3, 250, 250]) (48,)\n",
      "torch.Size([3, 250, 250])"
     ]
    },
    {
     "name": "stderr",
     "output_type": "stream",
     "text": [
      "Train Epoch 0:  93%|█████████████████████████████████▍  | 1559/1678 [05:02<00:23,  4.96batch/s, train_loss=-1.26e+4]"
     ]
    },
    {
     "name": "stdout",
     "output_type": "stream",
     "text": [
      "\n",
      "torch.Size([3, 250, 250]) (48,)\n",
      "torch.Size([3, 250, 250])"
     ]
    },
    {
     "name": "stderr",
     "output_type": "stream",
     "text": [
      "Train Epoch 0:  93%|█████████████████████████████████▍  | 1560/1678 [05:02<00:23,  4.95batch/s, train_loss=-1.31e+4]"
     ]
    },
    {
     "name": "stdout",
     "output_type": "stream",
     "text": [
      "\n",
      "torch.Size([3, 250, 250]) (48,)\n",
      "torch.Size([3, 250, 250])\n",
      "torch.Size([3, 250, 250]) (48,)\n",
      "torch.Size([3, 250, 250])\n"
     ]
    },
    {
     "name": "stderr",
     "output_type": "stream",
     "text": [
      "\r",
      "Train Epoch 0:  93%|█████████████████████████████████▍  | 1560/1678 [05:02<00:23,  4.95batch/s, train_loss=-1.31e+4]"
     ]
    },
    {
     "name": "stdout",
     "output_type": "stream",
     "text": [
      "torch.Size([3, 250, 250]) (48,)\n",
      "torch.Size([3, 250, 250])\n",
      "torch.Size([3, 250, 250]) (48,)\n"
     ]
    },
    {
     "name": "stderr",
     "output_type": "stream",
     "text": [
      "Train Epoch 0:  93%|█████████████████████████████████▌  | 1562/1678 [05:03<00:23,  4.95batch/s, train_loss=-1.29e+4]"
     ]
    },
    {
     "name": "stdout",
     "output_type": "stream",
     "text": [
      "torch.Size([3, 250, 250])\n",
      "torch.Size([3, 250, 250]) (48,)\n",
      "torch.Size([3, 250, 250])\n",
      "torch.Size([3, 250, 250]) (48,)\n",
      "torch.Size([3, 250, 250])"
     ]
    },
    {
     "name": "stderr",
     "output_type": "stream",
     "text": [
      "Train Epoch 0:  93%|█████████████████████████████████▌  | 1563/1678 [05:03<00:22,  5.03batch/s, train_loss=-1.29e+4]"
     ]
    },
    {
     "name": "stdout",
     "output_type": "stream",
     "text": [
      "\n",
      "torch.Size([3, 250, 250]) (48,)\n",
      "torch.Size([3, 250, 250])\n",
      "torch.Size([3, 250, 250]) (48,)\n",
      "torch.Size([3, 250, 250])"
     ]
    },
    {
     "name": "stderr",
     "output_type": "stream",
     "text": [
      "Train Epoch 0:  93%|█████████████████████████████████▌  | 1564/1678 [05:03<00:22,  5.06batch/s, train_loss=-1.23e+4]"
     ]
    },
    {
     "name": "stdout",
     "output_type": "stream",
     "text": [
      "\n",
      "torch.Size([3, 250, 250]) (48,)\n",
      "torch.Size([3, 250, 250])\n",
      "torch.Size([3, 250, 250]) (48,)\n"
     ]
    },
    {
     "name": "stderr",
     "output_type": "stream",
     "text": [
      "Train Epoch 0:  93%|█████████████████████████████████▌  | 1565/1678 [05:03<00:22,  5.02batch/s, train_loss=-1.25e+4]"
     ]
    },
    {
     "name": "stdout",
     "output_type": "stream",
     "text": [
      "torch.Size([3, 250, 250])\n",
      "torch.Size([3, 250, 250]) (48,)\n",
      "torch.Size([3, 250, 250])\n",
      "torch.Size([3, 250, 250]) (48,)\n",
      "torch.Size([3, 250, 250])"
     ]
    },
    {
     "name": "stderr",
     "output_type": "stream",
     "text": [
      "Train Epoch 0:  93%|█████████████████████████████████▌  | 1566/1678 [05:03<00:22,  5.01batch/s, train_loss=-1.28e+4]"
     ]
    },
    {
     "name": "stdout",
     "output_type": "stream",
     "text": [
      "\n",
      "torch.Size([3, 250, 250]) (48,)\n",
      "torch.Size([3, 250, 250])\n",
      "torch.Size([3, 250, 250]) (48,)\n"
     ]
    },
    {
     "name": "stderr",
     "output_type": "stream",
     "text": [
      "Train Epoch 0:  93%|█████████████████████████████████▌  | 1567/1678 [05:04<00:22,  4.94batch/s, train_loss=-1.26e+4]"
     ]
    },
    {
     "name": "stdout",
     "output_type": "stream",
     "text": [
      "torch.Size([3, 250, 250])\n",
      "torch.Size([3, 250, 250]) (48,)\n",
      "torch.Size([3, 250, 250])\n",
      "torch.Size([3, 250, 250]) (48,)\n",
      "torch.Size([3, 250, 250])"
     ]
    },
    {
     "name": "stderr",
     "output_type": "stream",
     "text": [
      "\r",
      "Train Epoch 0:  93%|█████████████████████████████████▌  | 1567/1678 [05:04<00:22,  4.94batch/s, train_loss=-1.26e+4]"
     ]
    },
    {
     "name": "stdout",
     "output_type": "stream",
     "text": [
      "\n",
      "torch.Size([3, 250, 250]) (48,)\n",
      "torch.Size([3, 250, 250])\n",
      "torch.Size([3, 250, 250]) (48,)\n"
     ]
    },
    {
     "name": "stderr",
     "output_type": "stream",
     "text": [
      "Train Epoch 0:  93%|█████████████████████████████████▋  | 1568/1678 [05:04<00:22,  4.87batch/s, train_loss=-1.24e+4]"
     ]
    },
    {
     "name": "stdout",
     "output_type": "stream",
     "text": [
      "torch.Size([3, 250, 250])\n",
      "torch.Size([3, 250, 250]) (48,)\n",
      "torch.Size([3, 250, 250])\n",
      "torch.Size([3, 250, 250]) (48,)\n"
     ]
    },
    {
     "name": "stderr",
     "output_type": "stream",
     "text": [
      "Train Epoch 0:  94%|█████████████████████████████████▋  | 1569/1678 [05:04<00:22,  4.85batch/s, train_loss=-1.33e+4]"
     ]
    },
    {
     "name": "stdout",
     "output_type": "stream",
     "text": [
      "torch.Size([3, 250, 250])\n",
      "torch.Size([3, 250, 250]) (48,)\n",
      "torch.Size([3, 250, 250])\n",
      "torch.Size([3, 250, 250]) (48,)\n"
     ]
    },
    {
     "name": "stderr",
     "output_type": "stream",
     "text": [
      "Train Epoch 0:  94%|█████████████████████████████████▋  | 1570/1678 [05:04<00:22,  4.77batch/s, train_loss=-1.24e+4]"
     ]
    },
    {
     "name": "stdout",
     "output_type": "stream",
     "text": [
      "torch.Size([3, 250, 250])\n",
      "torch.Size([3, 250, 250]) (48,)\n",
      "torch.Size([3, 250, 250])\n",
      "torch.Size([3, 250, 250]) (48,)\n"
     ]
    },
    {
     "name": "stderr",
     "output_type": "stream",
     "text": [
      "Train Epoch 0:  94%|█████████████████████████████████▋  | 1571/1678 [05:05<00:23,  4.60batch/s, train_loss=-1.31e+4]"
     ]
    },
    {
     "name": "stdout",
     "output_type": "stream",
     "text": [
      "torch.Size([3, 250, 250])\n",
      "torch.Size([3, 250, 250]) (48,)\n",
      "torch.Size([3, 250, 250])\n",
      "torch.Size([3, 250, 250]) (48,)\n"
     ]
    },
    {
     "name": "stderr",
     "output_type": "stream",
     "text": [
      "Train Epoch 0:  94%|██████████████████████████████████▋  | 1572/1678 [05:05<00:24,  4.24batch/s, train_loss=-1.3e+4]"
     ]
    },
    {
     "name": "stdout",
     "output_type": "stream",
     "text": [
      "torch.Size([3, 250, 250])\n",
      "torch.Size([3, 250, 250]) (48,)\n",
      "torch.Size([3, 250, 250])\n",
      "torch.Size([3, 250, 250]) (48,)\n"
     ]
    },
    {
     "name": "stderr",
     "output_type": "stream",
     "text": [
      "Train Epoch 0:  94%|█████████████████████████████████▋  | 1573/1678 [05:05<00:29,  3.54batch/s, train_loss=-1.25e+4]"
     ]
    },
    {
     "name": "stdout",
     "output_type": "stream",
     "text": [
      "torch.Size([3, 250, 250])\n",
      "torch.Size([3, 250, 250]) (48,)\n",
      "torch.Size([3, 250, 250])\n",
      "torch.Size([3, 250, 250]) (48,)\n"
     ]
    },
    {
     "name": "stderr",
     "output_type": "stream",
     "text": [
      "Train Epoch 0:  94%|█████████████████████████████████▊  | 1574/1678 [05:05<00:27,  3.78batch/s, train_loss=-1.22e+4]"
     ]
    },
    {
     "name": "stdout",
     "output_type": "stream",
     "text": [
      "torch.Size([3, 250, 250])\n",
      "torch.Size([3, 250, 250]) (48,)\n",
      "torch.Size([3, 250, 250])\n",
      "torch.Size([3, 250, 250]) (48,)\n"
     ]
    },
    {
     "name": "stderr",
     "output_type": "stream",
     "text": [
      "Train Epoch 0:  94%|█████████████████████████████████▊  | 1575/1678 [05:06<00:25,  4.00batch/s, train_loss=-1.27e+4]"
     ]
    },
    {
     "name": "stdout",
     "output_type": "stream",
     "text": [
      "torch.Size([3, 250, 250])\n",
      "torch.Size([3, 250, 250]) (48,)\n",
      "torch.Size([3, 250, 250])\n",
      "torch.Size([3, 250, 250]) (48,)\n"
     ]
    },
    {
     "name": "stderr",
     "output_type": "stream",
     "text": [
      "Train Epoch 0:  94%|█████████████████████████████████▊  | 1576/1678 [05:06<00:24,  4.14batch/s, train_loss=-1.22e+4]"
     ]
    },
    {
     "name": "stdout",
     "output_type": "stream",
     "text": [
      "torch.Size([3, 250, 250])\n",
      "torch.Size([3, 250, 250]) (48,)\n",
      "torch.Size([3, 250, 250])\n",
      "torch.Size([3, 250, 250]) (48,)\n"
     ]
    },
    {
     "name": "stderr",
     "output_type": "stream",
     "text": [
      "Train Epoch 0:  94%|█████████████████████████████████▊  | 1577/1678 [05:06<00:24,  4.19batch/s, train_loss=-1.29e+4]"
     ]
    },
    {
     "name": "stdout",
     "output_type": "stream",
     "text": [
      "torch.Size([3, 250, 250])\n",
      "torch.Size([3, 250, 250]) (48,)\n",
      "torch.Size([3, 250, 250])\n",
      "torch.Size([3, 250, 250]) (48,)\n"
     ]
    },
    {
     "name": "stderr",
     "output_type": "stream",
     "text": [
      "Train Epoch 0:  94%|█████████████████████████████████▊  | 1578/1678 [05:06<00:23,  4.31batch/s, train_loss=-1.23e+4]"
     ]
    },
    {
     "name": "stdout",
     "output_type": "stream",
     "text": [
      "torch.Size([3, 250, 250])\n",
      "torch.Size([3, 250, 250]) (48,)\n",
      "torch.Size([3, 250, 250])\n",
      "torch.Size([3, 250, 250]) (48,)\n"
     ]
    },
    {
     "name": "stderr",
     "output_type": "stream",
     "text": [
      "Train Epoch 0:  94%|█████████████████████████████████▉  | 1579/1678 [05:07<00:22,  4.35batch/s, train_loss=-1.29e+4]"
     ]
    },
    {
     "name": "stdout",
     "output_type": "stream",
     "text": [
      "torch.Size([3, 250, 250])\n",
      "torch.Size([3, 250, 250]) (48,)\n",
      "torch.Size([3, 250, 250])\n",
      "torch.Size([3, 250, 250]) (48,)\n"
     ]
    },
    {
     "name": "stderr",
     "output_type": "stream",
     "text": [
      "Train Epoch 0:  94%|█████████████████████████████████▉  | 1580/1678 [05:07<00:22,  4.35batch/s, train_loss=-1.22e+4]"
     ]
    },
    {
     "name": "stdout",
     "output_type": "stream",
     "text": [
      "torch.Size([3, 250, 250])\n",
      "torch.Size([3, 250, 250]) (48,)\n",
      "torch.Size([3, 250, 250])\n",
      "torch.Size([3, 250, 250]) (48,)\n"
     ]
    },
    {
     "name": "stderr",
     "output_type": "stream",
     "text": [
      "Train Epoch 0:  94%|█████████████████████████████████▉  | 1581/1678 [05:07<00:21,  4.45batch/s, train_loss=-1.22e+4]"
     ]
    },
    {
     "name": "stdout",
     "output_type": "stream",
     "text": [
      "torch.Size([3, 250, 250])\n",
      "torch.Size([3, 250, 250]) (48,)\n",
      "torch.Size([3, 250, 250])\n",
      "torch.Size([3, 250, 250]) (48,)\n"
     ]
    },
    {
     "name": "stderr",
     "output_type": "stream",
     "text": [
      "Train Epoch 0:  94%|█████████████████████████████████▉  | 1582/1678 [05:07<00:22,  4.33batch/s, train_loss=-1.25e+4]"
     ]
    },
    {
     "name": "stdout",
     "output_type": "stream",
     "text": [
      "torch.Size([3, 250, 250])\n",
      "torch.Size([3, 250, 250]) (48,)\n",
      "torch.Size([3, 250, 250])\n",
      "torch.Size([3, 250, 250]) (48,)\n"
     ]
    },
    {
     "name": "stderr",
     "output_type": "stream",
     "text": [
      "Train Epoch 0:  94%|█████████████████████████████████▉  | 1583/1678 [05:08<00:21,  4.45batch/s, train_loss=-1.23e+4]"
     ]
    },
    {
     "name": "stdout",
     "output_type": "stream",
     "text": [
      "torch.Size([3, 250, 250])\n",
      "torch.Size([3, 250, 250]) (48,)\n",
      "torch.Size([3, 250, 250])\n",
      "torch.Size([3, 250, 250]) (48,)\n"
     ]
    },
    {
     "name": "stderr",
     "output_type": "stream",
     "text": [
      "Train Epoch 0:  94%|█████████████████████████████████▉  | 1584/1678 [05:08<00:20,  4.58batch/s, train_loss=-1.24e+4]"
     ]
    },
    {
     "name": "stdout",
     "output_type": "stream",
     "text": [
      "torch.Size([3, 250, 250])\n",
      "torch.Size([3, 250, 250]) (48,)\n",
      "torch.Size([3, 250, 250])\n",
      "torch.Size([3, 250, 250]) (48,)\n"
     ]
    },
    {
     "name": "stderr",
     "output_type": "stream",
     "text": [
      "Train Epoch 0:  94%|██████████████████████████████████  | 1585/1678 [05:08<00:19,  4.70batch/s, train_loss=-1.23e+4]"
     ]
    },
    {
     "name": "stdout",
     "output_type": "stream",
     "text": [
      "torch.Size([3, 250, 250])\n",
      "torch.Size([3, 250, 250]) (48,)\n",
      "torch.Size([3, 250, 250])\n",
      "torch.Size([3, 250, 250]) (48,)\n"
     ]
    },
    {
     "name": "stderr",
     "output_type": "stream",
     "text": [
      "Train Epoch 0:  95%|██████████████████████████████████  | 1586/1678 [05:08<00:19,  4.75batch/s, train_loss=-1.23e+4]"
     ]
    },
    {
     "name": "stdout",
     "output_type": "stream",
     "text": [
      "torch.Size([3, 250, 250])\n",
      "torch.Size([3, 250, 250]) (48,)\n",
      "torch.Size([3, 250, 250])\n",
      "torch.Size([3, 250, 250]) (48,)\n"
     ]
    },
    {
     "name": "stderr",
     "output_type": "stream",
     "text": [
      "Train Epoch 0:  95%|██████████████████████████████████  | 1587/1678 [05:08<00:19,  4.69batch/s, train_loss=-1.27e+4]"
     ]
    },
    {
     "name": "stdout",
     "output_type": "stream",
     "text": [
      "torch.Size([3, 250, 250])\n",
      "torch.Size([3, 250, 250]) (48,)\n",
      "torch.Size([3, 250, 250])\n",
      "torch.Size([3, 250, 250]) (48,)\n"
     ]
    },
    {
     "name": "stderr",
     "output_type": "stream",
     "text": [
      "Train Epoch 0:  95%|██████████████████████████████████  | 1588/1678 [05:08<00:19,  4.67batch/s, train_loss=-1.27e+4]"
     ]
    },
    {
     "name": "stdout",
     "output_type": "stream",
     "text": [
      "torch.Size([3, 250, 250])\n",
      "torch.Size([3, 250, 250]) (48,)\n",
      "torch.Size([3, 250, 250])\n",
      "torch.Size([3, 250, 250]) (48,)\n"
     ]
    },
    {
     "name": "stderr",
     "output_type": "stream",
     "text": [
      "Train Epoch 0:  95%|██████████████████████████████████  | 1590/1678 [05:09<00:18,  4.75batch/s, train_loss=-1.16e+4]"
     ]
    },
    {
     "name": "stdout",
     "output_type": "stream",
     "text": [
      "torch.Size([3, 250, 250])\n",
      "torch.Size([3, 250, 250]) (48,)\n",
      "torch.Size([3, 250, 250])\n",
      "torch.Size([3, 250, 250]) (48,)\n",
      "torch.Size([3, 250, 250])"
     ]
    },
    {
     "name": "stderr",
     "output_type": "stream",
     "text": [
      "\r",
      "Train Epoch 0:  95%|██████████████████████████████████  | 1590/1678 [05:09<00:18,  4.75batch/s, train_loss=-1.16e+4]"
     ]
    },
    {
     "name": "stdout",
     "output_type": "stream",
     "text": [
      "\n",
      "torch.Size([3, 250, 250]) (48,)\n",
      "torch.Size([3, 250, 250])\n",
      "torch.Size([3, 250, 250]) (48,)\n"
     ]
    },
    {
     "name": "stderr",
     "output_type": "stream",
     "text": [
      "Train Epoch 0:  95%|██████████████████████████████████▏ | 1592/1678 [05:09<00:17,  4.84batch/s, train_loss=-1.23e+4]"
     ]
    },
    {
     "name": "stdout",
     "output_type": "stream",
     "text": [
      "torch.Size([3, 250, 250])\n",
      "torch.Size([3, 250, 250]) (48,)\n",
      "torch.Size([3, 250, 250])\n",
      "torch.Size([3, 250, 250]) (48,)\n",
      "torch.Size([3, 250, 250])"
     ]
    },
    {
     "name": "stderr",
     "output_type": "stream",
     "text": [
      "Train Epoch 0:  95%|██████████████████████████████████▏ | 1593/1678 [05:09<00:17,  4.91batch/s, train_loss=-1.23e+4]"
     ]
    },
    {
     "name": "stdout",
     "output_type": "stream",
     "text": [
      "\n",
      "torch.Size([3, 250, 250]) (48,)\n",
      "torch.Size([3, 250, 250])\n",
      "torch.Size([3, 250, 250]) (48,)\n",
      "torch.Size([3, 250, 250])"
     ]
    },
    {
     "name": "stderr",
     "output_type": "stream",
     "text": [
      "Train Epoch 0:  95%|██████████████████████████████████▏ | 1594/1678 [05:10<00:17,  4.92batch/s, train_loss=-1.23e+4]"
     ]
    },
    {
     "name": "stdout",
     "output_type": "stream",
     "text": [
      "\n",
      "torch.Size([3, 250, 250]) (48,)\n",
      "torch.Size([3, 250, 250])\n",
      "torch.Size([3, 250, 250]) (48,)\n",
      "torch.Size([3, 250, 250])\n"
     ]
    },
    {
     "name": "stderr",
     "output_type": "stream",
     "text": [
      "Train Epoch 0:  95%|██████████████████████████████████▏ | 1595/1678 [05:10<00:16,  4.95batch/s, train_loss=-1.18e+4]"
     ]
    },
    {
     "name": "stdout",
     "output_type": "stream",
     "text": [
      "torch.Size([3, 250, 250]) (48,)\n",
      "torch.Size([3, 250, 250])\n",
      "torch.Size([3, 250, 250]) (48,)\n",
      "torch.Size([3, 250, 250])"
     ]
    },
    {
     "name": "stderr",
     "output_type": "stream",
     "text": [
      "\r",
      "Train Epoch 0:  95%|██████████████████████████████████▏ | 1595/1678 [05:10<00:16,  4.95batch/s, train_loss=-1.18e+4]"
     ]
    },
    {
     "name": "stdout",
     "output_type": "stream",
     "text": [
      "\n",
      "torch.Size([3, 250, 250]) (48,)\n",
      "torch.Size([3, 250, 250])\n",
      "torch.Size([3, 250, 250]) (48,)\n"
     ]
    },
    {
     "name": "stderr",
     "output_type": "stream",
     "text": [
      "Train Epoch 0:  95%|██████████████████████████████████▎ | 1597/1678 [05:10<00:16,  4.92batch/s, train_loss=-1.26e+4]"
     ]
    },
    {
     "name": "stdout",
     "output_type": "stream",
     "text": [
      "torch.Size([3, 250, 250])\n",
      "torch.Size([3, 250, 250]) (48,)\n",
      "torch.Size([3, 250, 250])\n",
      "torch.Size([3, 250, 250]) (48,)\n",
      "torch.Size([3, 250, 250])"
     ]
    },
    {
     "name": "stderr",
     "output_type": "stream",
     "text": [
      "Train Epoch 0:  95%|██████████████████████████████████▎ | 1598/1678 [05:10<00:16,  4.93batch/s, train_loss=-1.28e+4]"
     ]
    },
    {
     "name": "stdout",
     "output_type": "stream",
     "text": [
      "\n",
      "torch.Size([3, 250, 250]) (48,)\n",
      "torch.Size([3, 250, 250])\n",
      "torch.Size([3, 250, 250]) (48,)\n",
      "torch.Size([3, 250, 250])"
     ]
    },
    {
     "name": "stderr",
     "output_type": "stream",
     "text": [
      "\r",
      "Train Epoch 0:  95%|██████████████████████████████████▎ | 1598/1678 [05:11<00:16,  4.93batch/s, train_loss=-1.28e+4]"
     ]
    },
    {
     "name": "stdout",
     "output_type": "stream",
     "text": [
      "\n",
      "torch.Size([3, 250, 250]) (48,)\n",
      "torch.Size([3, 250, 250])\n",
      "torch.Size([3, 250, 250]) (48,)\n"
     ]
    },
    {
     "name": "stderr",
     "output_type": "stream",
     "text": [
      "Train Epoch 0:  95%|███████████████████████████████████▎ | 1599/1678 [05:11<00:16,  4.83batch/s, train_loss=-1.3e+4]"
     ]
    },
    {
     "name": "stdout",
     "output_type": "stream",
     "text": [
      "torch.Size([3, 250, 250])\n",
      "torch.Size([3, 250, 250]) (48,)\n",
      "torch.Size([3, 250, 250])\n",
      "torch.Size([3, 250, 250]) (48,)\n"
     ]
    },
    {
     "name": "stderr",
     "output_type": "stream",
     "text": [
      "Train Epoch 0:  95%|██████████████████████████████████▎ | 1601/1678 [05:11<00:16,  4.74batch/s, train_loss=-1.26e+4]"
     ]
    },
    {
     "name": "stdout",
     "output_type": "stream",
     "text": [
      "torch.Size([3, 250, 250])\n",
      "torch.Size([3, 250, 250]) (48,)\n",
      "torch.Size([3, 250, 250])\n",
      "torch.Size([3, 250, 250]) (48,)\n"
     ]
    },
    {
     "name": "stderr",
     "output_type": "stream",
     "text": [
      "Train Epoch 0:  95%|██████████████████████████████████▎ | 1602/1678 [05:11<00:15,  4.78batch/s, train_loss=-1.27e+4]"
     ]
    },
    {
     "name": "stdout",
     "output_type": "stream",
     "text": [
      "torch.Size([3, 250, 250])\n",
      "torch.Size([3, 250, 250]) (48,)\n",
      "torch.Size([3, 250, 250])\n",
      "torch.Size([3, 250, 250]) (48,)\n",
      "torch.Size([3, 250, 250])"
     ]
    },
    {
     "name": "stderr",
     "output_type": "stream",
     "text": [
      "Train Epoch 0:  95%|██████████████████████████████████▎ | 1602/1678 [05:11<00:15,  4.78batch/s, train_loss=-1.22e+4]"
     ]
    },
    {
     "name": "stdout",
     "output_type": "stream",
     "text": [
      "\n",
      "torch.Size([3, 250, 250]) (48,)\n",
      "torch.Size([3, 250, 250])\n",
      "torch.Size([3, 250, 250]) (48,)\n"
     ]
    },
    {
     "name": "stderr",
     "output_type": "stream",
     "text": [
      "Train Epoch 0:  96%|██████████████████████████████████▍ | 1603/1678 [05:12<00:15,  4.82batch/s, train_loss=-1.27e+4]"
     ]
    },
    {
     "name": "stdout",
     "output_type": "stream",
     "text": [
      "torch.Size([3, 250, 250])\n",
      "torch.Size([3, 250, 250]) (48,)\n",
      "torch.Size([3, 250, 250])\n",
      "torch.Size([3, 250, 250]) (48,)\n"
     ]
    },
    {
     "name": "stderr",
     "output_type": "stream",
     "text": [
      "Train Epoch 0:  96%|██████████████████████████████████▍ | 1604/1678 [05:12<00:15,  4.74batch/s, train_loss=-1.27e+4]"
     ]
    },
    {
     "name": "stdout",
     "output_type": "stream",
     "text": [
      "torch.Size([3, 250, 250])\n",
      "torch.Size([3, 250, 250]) (48,)\n",
      "torch.Size([3, 250, 250])\n",
      "torch.Size([3, 250, 250]) (48,)\n"
     ]
    },
    {
     "name": "stderr",
     "output_type": "stream",
     "text": [
      "Train Epoch 0:  96%|██████████████████████████████████▍ | 1606/1678 [05:12<00:15,  4.69batch/s, train_loss=-1.33e+4]"
     ]
    },
    {
     "name": "stdout",
     "output_type": "stream",
     "text": [
      "torch.Size([3, 250, 250])\n",
      "torch.Size([3, 250, 250]) (48,)\n",
      "torch.Size([3, 250, 250])\n",
      "torch.Size([3, 250, 250]) (48,)\n"
     ]
    },
    {
     "name": "stderr",
     "output_type": "stream",
     "text": [
      "Train Epoch 0:  96%|███████████████████████████████████▍ | 1607/1678 [05:12<00:15,  4.65batch/s, train_loss=-1.3e+4]"
     ]
    },
    {
     "name": "stdout",
     "output_type": "stream",
     "text": [
      "torch.Size([3, 250, 250])\n",
      "torch.Size([3, 250, 250]) (48,)\n",
      "torch.Size([3, 250, 250])\n",
      "torch.Size([3, 250, 250]) (48,)\n",
      "torch.Size([3, 250, 250])"
     ]
    },
    {
     "name": "stderr",
     "output_type": "stream",
     "text": [
      "Train Epoch 0:  96%|██████████████████████████████████▍ | 1608/1678 [05:13<00:14,  4.71batch/s, train_loss=-1.26e+4]"
     ]
    },
    {
     "name": "stdout",
     "output_type": "stream",
     "text": [
      "\n",
      "torch.Size([3, 250, 250]) (48,)\n",
      "torch.Size([3, 250, 250])\n",
      "torch.Size([3, 250, 250]) (48,)\n"
     ]
    },
    {
     "name": "stderr",
     "output_type": "stream",
     "text": [
      "\r",
      "Train Epoch 0:  96%|██████████████████████████████████▍ | 1608/1678 [05:13<00:14,  4.71batch/s, train_loss=-1.26e+4]"
     ]
    },
    {
     "name": "stdout",
     "output_type": "stream",
     "text": [
      "torch.Size([3, 250, 250])\n",
      "torch.Size([3, 250, 250]) (48,)\n",
      "torch.Size([3, 250, 250])\n",
      "torch.Size([3, 250, 250]) (48,)\n"
     ]
    },
    {
     "name": "stderr",
     "output_type": "stream",
     "text": [
      "Train Epoch 0:  96%|██████████████████████████████████▌ | 1610/1678 [05:13<00:14,  4.72batch/s, train_loss=-1.21e+4]"
     ]
    },
    {
     "name": "stdout",
     "output_type": "stream",
     "text": [
      "torch.Size([3, 250, 250])\n",
      "torch.Size([3, 250, 250]) (48,)\n",
      "torch.Size([3, 250, 250])\n",
      "torch.Size([3, 250, 250]) (48,)\n",
      "torch.Size([3, 250, 250])"
     ]
    },
    {
     "name": "stderr",
     "output_type": "stream",
     "text": [
      "Train Epoch 0:  96%|██████████████████████████████████▌ | 1611/1678 [05:13<00:13,  4.86batch/s, train_loss=-1.31e+4]"
     ]
    },
    {
     "name": "stdout",
     "output_type": "stream",
     "text": [
      "\n",
      "torch.Size([3, 250, 250]) (48,)\n",
      "torch.Size([3, 250, 250])\n",
      "torch.Size([3, 250, 250]) (48,)\n",
      "torch.Size([3, 250, 250])"
     ]
    },
    {
     "name": "stderr",
     "output_type": "stream",
     "text": [
      "Train Epoch 0:  96%|██████████████████████████████████▌ | 1612/1678 [05:13<00:13,  4.99batch/s, train_loss=-1.21e+4]"
     ]
    },
    {
     "name": "stdout",
     "output_type": "stream",
     "text": [
      "\n",
      "torch.Size([3, 250, 250]) (48,)\n",
      "torch.Size([3, 250, 250])\n",
      "torch.Size([3, 250, 250]) (48,)\n",
      "torch.Size([3, 250, 250])"
     ]
    },
    {
     "name": "stderr",
     "output_type": "stream",
     "text": [
      "Train Epoch 0:  96%|██████████████████████████████████▌ | 1613/1678 [05:14<00:12,  5.02batch/s, train_loss=-1.07e+4]"
     ]
    },
    {
     "name": "stdout",
     "output_type": "stream",
     "text": [
      "\n",
      "torch.Size([3, 250, 250]) (48,)\n",
      "torch.Size([3, 250, 250])\n",
      "torch.Size([3, 250, 250]) (48,)\n",
      "torch.Size([3, 250, 250])"
     ]
    },
    {
     "name": "stderr",
     "output_type": "stream",
     "text": [
      "\r",
      "Train Epoch 0:  96%|██████████████████████████████████▌ | 1613/1678 [05:14<00:12,  5.02batch/s, train_loss=-1.07e+4]"
     ]
    },
    {
     "name": "stdout",
     "output_type": "stream",
     "text": [
      "\n",
      "torch.Size([3, 250, 250]) (48,)\n",
      "torch.Size([3, 250, 250])\n",
      "torch.Size([3, 250, 250]) (48,)\n"
     ]
    },
    {
     "name": "stderr",
     "output_type": "stream",
     "text": [
      "Train Epoch 0:  96%|██████████████████████████████████▋ | 1614/1678 [05:14<00:13,  4.91batch/s, train_loss=-1.03e+4]"
     ]
    },
    {
     "name": "stdout",
     "output_type": "stream",
     "text": [
      "torch.Size([3, 250, 250])\n",
      "torch.Size([3, 250, 250]) (48,)\n",
      "torch.Size([3, 250, 250])\n",
      "torch.Size([3, 250, 250]) (48,)\n"
     ]
    },
    {
     "name": "stderr",
     "output_type": "stream",
     "text": [
      "Train Epoch 0:  96%|██████████████████████████████████▋ | 1616/1678 [05:14<00:12,  4.87batch/s, train_loss=-1.11e+4]"
     ]
    },
    {
     "name": "stdout",
     "output_type": "stream",
     "text": [
      "torch.Size([3, 250, 250])\n",
      "torch.Size([3, 250, 250]) (48,)\n",
      "torch.Size([3, 250, 250])\n",
      "torch.Size([3, 250, 250]) (48,)\n",
      "torch.Size([3, 250, 250])"
     ]
    },
    {
     "name": "stderr",
     "output_type": "stream",
     "text": [
      "Train Epoch 0:  96%|██████████████████████████████████▋ | 1617/1678 [05:14<00:12,  4.91batch/s, train_loss=-1.14e+4]"
     ]
    },
    {
     "name": "stdout",
     "output_type": "stream",
     "text": [
      "\n",
      "torch.Size([3, 250, 250]) (48,)\n",
      "torch.Size([3, 250, 250])\n",
      "torch.Size([3, 250, 250]) (48,)\n",
      "torch.Size([3, 250, 250])\n",
      "torch.Size([3, 250, 250]) (48,)\n"
     ]
    },
    {
     "name": "stderr",
     "output_type": "stream",
     "text": [
      "Train Epoch 0:  96%|██████████████████████████████████▋ | 1618/1678 [05:15<00:12,  4.94batch/s, train_loss=-1.14e+4]"
     ]
    },
    {
     "name": "stdout",
     "output_type": "stream",
     "text": [
      "torch.Size([3, 250, 250])\n",
      "torch.Size([3, 250, 250]) (48,)\n",
      "torch.Size([3, 250, 250])"
     ]
    },
    {
     "name": "stderr",
     "output_type": "stream",
     "text": [
      "Train Epoch 0:  96%|██████████████████████████████████▋ | 1619/1678 [05:15<00:12,  4.87batch/s, train_loss=-1.18e+4]"
     ]
    },
    {
     "name": "stdout",
     "output_type": "stream",
     "text": [
      "\n",
      "torch.Size([3, 250, 250]) (48,)\n",
      "torch.Size([3, 250, 250])\n",
      "torch.Size([3, 250, 250]) (48,)\n",
      "torch.Size([3, 250, 250])"
     ]
    },
    {
     "name": "stderr",
     "output_type": "stream",
     "text": [
      "Train Epoch 0:  97%|██████████████████████████████████▊ | 1620/1678 [05:15<00:11,  4.90batch/s, train_loss=-1.21e+4]"
     ]
    },
    {
     "name": "stdout",
     "output_type": "stream",
     "text": [
      "\n",
      "torch.Size([3, 250, 250]) (48,)\n",
      "torch.Size([3, 250, 250])\n",
      "torch.Size([3, 250, 250]) (48,)\n",
      "torch.Size([3, 250, 250])"
     ]
    },
    {
     "name": "stderr",
     "output_type": "stream",
     "text": [
      "Train Epoch 0:  97%|██████████████████████████████████▊ | 1621/1678 [05:15<00:11,  4.93batch/s, train_loss=-1.37e+4]"
     ]
    },
    {
     "name": "stdout",
     "output_type": "stream",
     "text": [
      "\n",
      "torch.Size([3, 250, 250]) (48,)\n",
      "torch.Size([3, 250, 250])\n",
      "torch.Size([3, 250, 250]) (48,)\n"
     ]
    },
    {
     "name": "stderr",
     "output_type": "stream",
     "text": [
      "Train Epoch 0:  97%|██████████████████████████████████▊ | 1622/1678 [05:15<00:11,  4.90batch/s, train_loss=-1.13e+4]"
     ]
    },
    {
     "name": "stdout",
     "output_type": "stream",
     "text": [
      "torch.Size([3, 250, 250])\n",
      "torch.Size([3, 250, 250]) (48,)\n",
      "torch.Size([3, 250, 250])\n",
      "torch.Size([3, 250, 250]) (48,)\n",
      "torch.Size([3, 250, 250])"
     ]
    },
    {
     "name": "stderr",
     "output_type": "stream",
     "text": [
      "Train Epoch 0:  97%|██████████████████████████████████▊ | 1623/1678 [05:16<00:11,  4.92batch/s, train_loss=-1.18e+4]"
     ]
    },
    {
     "name": "stdout",
     "output_type": "stream",
     "text": [
      "\n",
      "torch.Size([3, 250, 250]) (48,)\n",
      "torch.Size([3, 250, 250])\n",
      "torch.Size([3, 250, 250]) (48,)\n",
      "torch.Size([3, 250, 250])"
     ]
    },
    {
     "name": "stderr",
     "output_type": "stream",
     "text": [
      "Train Epoch 0:  97%|██████████████████████████████████▊ | 1624/1678 [05:16<00:11,  4.91batch/s, train_loss=-1.28e+4]"
     ]
    },
    {
     "name": "stdout",
     "output_type": "stream",
     "text": [
      "\n",
      "torch.Size([3, 250, 250]) (48,)\n",
      "torch.Size([3, 250, 250])\n",
      "torch.Size([3, 250, 250]) (48,)\n",
      "torch.Size([3, 250, 250])"
     ]
    },
    {
     "name": "stderr",
     "output_type": "stream",
     "text": [
      "Train Epoch 0:  97%|███████████████████████████████████▊ | 1625/1678 [05:16<00:10,  4.92batch/s, train_loss=-1.3e+4]"
     ]
    },
    {
     "name": "stdout",
     "output_type": "stream",
     "text": [
      "\n",
      "torch.Size([3, 250, 250]) (48,)\n",
      "torch.Size([3, 250, 250])\n",
      "torch.Size([3, 250, 250]) (48,)\n",
      "torch.Size([3, 250, 250])"
     ]
    },
    {
     "name": "stderr",
     "output_type": "stream",
     "text": [
      "Train Epoch 0:  97%|███████████████████████████████████▊ | 1626/1678 [05:16<00:10,  4.94batch/s, train_loss=-1.2e+4]"
     ]
    },
    {
     "name": "stdout",
     "output_type": "stream",
     "text": [
      "\n",
      "torch.Size([3, 250, 250]) (48,)\n",
      "torch.Size([3, 250, 250])\n",
      "torch.Size([3, 250, 250]) (48,)\n"
     ]
    },
    {
     "name": "stderr",
     "output_type": "stream",
     "text": [
      "Train Epoch 0:  97%|██████████████████████████████████▉ | 1627/1678 [05:16<00:10,  4.89batch/s, train_loss=-1.27e+4]"
     ]
    },
    {
     "name": "stdout",
     "output_type": "stream",
     "text": [
      "torch.Size([3, 250, 250])\n",
      "torch.Size([3, 250, 250]) (48,)\n",
      "torch.Size([3, 250, 250])\n",
      "torch.Size([3, 250, 250]) (48,)\n",
      "torch.Size([3, 250, 250])"
     ]
    },
    {
     "name": "stderr",
     "output_type": "stream",
     "text": [
      "\r",
      "Train Epoch 0:  97%|██████████████████████████████████▉ | 1627/1678 [05:17<00:10,  4.89batch/s, train_loss=-1.27e+4]"
     ]
    },
    {
     "name": "stdout",
     "output_type": "stream",
     "text": [
      "\n",
      "torch.Size([3, 250, 250]) (48,)\n",
      "torch.Size([3, 250, 250])\n",
      "torch.Size([3, 250, 250]) (48,)\n"
     ]
    },
    {
     "name": "stderr",
     "output_type": "stream",
     "text": [
      "Train Epoch 0:  97%|██████████████████████████████████▉ | 1629/1678 [05:17<00:10,  4.83batch/s, train_loss=-1.27e+4]"
     ]
    },
    {
     "name": "stdout",
     "output_type": "stream",
     "text": [
      "torch.Size([3, 250, 250])\n",
      "torch.Size([3, 250, 250]) (48,)\n",
      "torch.Size([3, 250, 250])\n",
      "torch.Size([3, 250, 250]) (48,)\n"
     ]
    },
    {
     "name": "stderr",
     "output_type": "stream",
     "text": [
      "\r",
      "Train Epoch 0:  97%|██████████████████████████████████▉ | 1629/1678 [05:17<00:10,  4.83batch/s, train_loss=-1.27e+4]"
     ]
    },
    {
     "name": "stdout",
     "output_type": "stream",
     "text": [
      "torch.Size([3, 250, 250])\n",
      "torch.Size([3, 250, 250]) (48,)\n",
      "torch.Size([3, 250, 250])\n",
      "torch.Size([3, 250, 250]) (48,)\n"
     ]
    },
    {
     "name": "stderr",
     "output_type": "stream",
     "text": [
      "Train Epoch 0:  97%|██████████████████████████████████▉ | 1631/1678 [05:17<00:09,  4.84batch/s, train_loss=-1.32e+4]"
     ]
    },
    {
     "name": "stdout",
     "output_type": "stream",
     "text": [
      "torch.Size([3, 250, 250])\n",
      "torch.Size([3, 250, 250]) (48,)\n",
      "torch.Size([3, 250, 250])\n",
      "torch.Size([3, 250, 250]) (48,)\n",
      "torch.Size([3, 250, 250])"
     ]
    },
    {
     "name": "stderr",
     "output_type": "stream",
     "text": [
      "\r",
      "Train Epoch 0:  97%|██████████████████████████████████▉ | 1631/1678 [05:17<00:09,  4.84batch/s, train_loss=-1.32e+4]"
     ]
    },
    {
     "name": "stdout",
     "output_type": "stream",
     "text": [
      "\n",
      "torch.Size([3, 250, 250]) (48,)\n",
      "torch.Size([3, 250, 250])\n",
      "torch.Size([3, 250, 250]) (48,)\n"
     ]
    },
    {
     "name": "stderr",
     "output_type": "stream",
     "text": [
      "Train Epoch 0:  97%|████████████████████████████████████ | 1633/1678 [05:18<00:09,  4.75batch/s, train_loss=-1.2e+4]"
     ]
    },
    {
     "name": "stdout",
     "output_type": "stream",
     "text": [
      "torch.Size([3, 250, 250])\n",
      "torch.Size([3, 250, 250]) (48,)\n",
      "torch.Size([3, 250, 250])\n",
      "torch.Size([3, 250, 250]) (48,)\n",
      "torch.Size([3, 250, 250])"
     ]
    },
    {
     "name": "stderr",
     "output_type": "stream",
     "text": [
      "\r",
      "Train Epoch 0:  97%|████████████████████████████████████ | 1633/1678 [05:18<00:09,  4.75batch/s, train_loss=-1.2e+4]"
     ]
    },
    {
     "name": "stdout",
     "output_type": "stream",
     "text": [
      "\n",
      "torch.Size([3, 250, 250]) (48,)\n",
      "torch.Size([3, 250, 250])\n",
      "torch.Size([3, 250, 250]) (48,)\n"
     ]
    },
    {
     "name": "stderr",
     "output_type": "stream",
     "text": [
      "Train Epoch 0:  97%|███████████████████████████████████ | 1635/1678 [05:18<00:09,  4.70batch/s, train_loss=-1.24e+4]"
     ]
    },
    {
     "name": "stdout",
     "output_type": "stream",
     "text": [
      "torch.Size([3, 250, 250])\n",
      "torch.Size([3, 250, 250]) (48,)\n",
      "torch.Size([3, 250, 250])\n",
      "torch.Size([3, 250, 250]) (48,)\n"
     ]
    },
    {
     "name": "stderr",
     "output_type": "stream",
     "text": [
      "\r",
      "Train Epoch 0:  97%|███████████████████████████████████ | 1635/1678 [05:18<00:09,  4.70batch/s, train_loss=-1.24e+4]"
     ]
    },
    {
     "name": "stdout",
     "output_type": "stream",
     "text": [
      "torch.Size([3, 250, 250])\n",
      "torch.Size([3, 250, 250]) (48,)\n",
      "torch.Size([3, 250, 250])\n",
      "torch.Size([3, 250, 250]) (48,)\n"
     ]
    },
    {
     "name": "stderr",
     "output_type": "stream",
     "text": [
      "Train Epoch 0:  97%|███████████████████████████████████ | 1636/1678 [05:18<00:08,  4.68batch/s, train_loss=-1.23e+4]"
     ]
    },
    {
     "name": "stdout",
     "output_type": "stream",
     "text": [
      "torch.Size([3, 250, 250])\n",
      "torch.Size([3, 250, 250]) (48,)\n",
      "torch.Size([3, 250, 250])\n",
      "torch.Size([3, 250, 250]) (48,)\n"
     ]
    },
    {
     "name": "stderr",
     "output_type": "stream",
     "text": [
      "Train Epoch 0:  98%|███████████████████████████████████ | 1637/1678 [05:19<00:08,  4.69batch/s, train_loss=-1.22e+4]"
     ]
    },
    {
     "name": "stdout",
     "output_type": "stream",
     "text": [
      "torch.Size([3, 250, 250])\n",
      "torch.Size([3, 250, 250]) (48,)\n",
      "torch.Size([3, 250, 250])\n",
      "torch.Size([3, 250, 250]) (48,)\n"
     ]
    },
    {
     "name": "stderr",
     "output_type": "stream",
     "text": [
      "Train Epoch 0:  98%|███████████████████████████████████▏| 1639/1678 [05:19<00:08,  4.75batch/s, train_loss=-1.22e+4]"
     ]
    },
    {
     "name": "stdout",
     "output_type": "stream",
     "text": [
      "torch.Size([3, 250, 250])\n",
      "torch.Size([3, 250, 250]) (48,)\n",
      "torch.Size([3, 250, 250])\n",
      "torch.Size([3, 250, 250]) (48,)\n",
      "torch.Size([3, 250, 250])"
     ]
    },
    {
     "name": "stderr",
     "output_type": "stream",
     "text": [
      "Train Epoch 0:  98%|███████████████████████████████████▏| 1640/1678 [05:19<00:07,  4.76batch/s, train_loss=-1.16e+4]"
     ]
    },
    {
     "name": "stdout",
     "output_type": "stream",
     "text": [
      "\n",
      "torch.Size([3, 250, 250]) (48,)\n",
      "torch.Size([3, 250, 250])\n",
      "torch.Size([3, 250, 250]) (48,)\n",
      "torch.Size([3, 250, 250])"
     ]
    },
    {
     "name": "stderr",
     "output_type": "stream",
     "text": [
      "Train Epoch 0:  98%|███████████████████████████████████▏| 1641/1678 [05:19<00:07,  4.80batch/s, train_loss=-1.15e+4]"
     ]
    },
    {
     "name": "stdout",
     "output_type": "stream",
     "text": [
      "\n",
      "torch.Size([3, 250, 250]) (48,)\n",
      "torch.Size([3, 250, 250])\n",
      "torch.Size([3, 250, 250]) (48,)\n"
     ]
    },
    {
     "name": "stderr",
     "output_type": "stream",
     "text": [
      "Train Epoch 0:  98%|███████████████████████████████████▏| 1642/1678 [05:20<00:07,  4.79batch/s, train_loss=-1.11e+4]"
     ]
    },
    {
     "name": "stdout",
     "output_type": "stream",
     "text": [
      "torch.Size([3, 250, 250])\n",
      "torch.Size([3, 250, 250]) (48,)\n",
      "torch.Size([3, 250, 250])\n",
      "torch.Size([3, 250, 250]) (48,)\n",
      "torch.Size([3, 250, 250])"
     ]
    },
    {
     "name": "stderr",
     "output_type": "stream",
     "text": [
      "Train Epoch 0:  98%|███████████████████████████████████▏| 1642/1678 [05:20<00:07,  4.79batch/s, train_loss=-1.17e+4]"
     ]
    },
    {
     "name": "stdout",
     "output_type": "stream",
     "text": [
      "\n",
      "torch.Size([3, 250, 250]) (48,)\n",
      "torch.Size([3, 250, 250])\n",
      "torch.Size([3, 250, 250]) (48,)\n"
     ]
    },
    {
     "name": "stderr",
     "output_type": "stream",
     "text": [
      "Train Epoch 0:  98%|███████████████████████████████████▏| 1643/1678 [05:20<00:07,  4.84batch/s, train_loss=-1.17e+4]"
     ]
    },
    {
     "name": "stdout",
     "output_type": "stream",
     "text": [
      "torch.Size([3, 250, 250])\n",
      "torch.Size([3, 250, 250]) (48,)\n",
      "torch.Size([3, 250, 250])\n",
      "torch.Size([3, 250, 250]) (48,)\n"
     ]
    },
    {
     "name": "stderr",
     "output_type": "stream",
     "text": [
      "Train Epoch 0:  98%|███████████████████████████████████▎| 1645/1678 [05:20<00:06,  4.85batch/s, train_loss=-1.13e+4]"
     ]
    },
    {
     "name": "stdout",
     "output_type": "stream",
     "text": [
      "torch.Size([3, 250, 250])\n",
      "torch.Size([3, 250, 250]) (48,)\n",
      "torch.Size([3, 250, 250])\n",
      "torch.Size([3, 250, 250]) (48,)\n",
      "torch.Size([3, 250, 250])"
     ]
    },
    {
     "name": "stderr",
     "output_type": "stream",
     "text": [
      "\r",
      "Train Epoch 0:  98%|███████████████████████████████████▎| 1645/1678 [05:20<00:06,  4.85batch/s, train_loss=-1.13e+4]"
     ]
    },
    {
     "name": "stdout",
     "output_type": "stream",
     "text": [
      "\n",
      "torch.Size([3, 250, 250]) (48,)\n",
      "torch.Size([3, 250, 250])\n",
      "torch.Size([3, 250, 250]) (48,)\n"
     ]
    },
    {
     "name": "stderr",
     "output_type": "stream",
     "text": [
      "Train Epoch 0:  98%|███████████████████████████████████▎| 1646/1678 [05:21<00:06,  4.77batch/s, train_loss=-1.12e+4]"
     ]
    },
    {
     "name": "stdout",
     "output_type": "stream",
     "text": [
      "torch.Size([3, 250, 250])\n",
      "torch.Size([3, 250, 250]) (48,)\n",
      "torch.Size([3, 250, 250])\n",
      "torch.Size([3, 250, 250]) (48,)\n"
     ]
    },
    {
     "name": "stderr",
     "output_type": "stream",
     "text": [
      "Train Epoch 0:  98%|███████████████████████████████████▎| 1647/1678 [05:21<00:06,  4.72batch/s, train_loss=-1.31e+4]"
     ]
    },
    {
     "name": "stdout",
     "output_type": "stream",
     "text": [
      "torch.Size([3, 250, 250])\n",
      "torch.Size([3, 250, 250]) (48,)\n",
      "torch.Size([3, 250, 250])\n",
      "torch.Size([3, 250, 250]) (48,)\n"
     ]
    },
    {
     "name": "stderr",
     "output_type": "stream",
     "text": [
      "Train Epoch 0:  98%|████████████████████████████████████▎| 1649/1678 [05:21<00:06,  4.79batch/s, train_loss=-1.2e+4]"
     ]
    },
    {
     "name": "stdout",
     "output_type": "stream",
     "text": [
      "torch.Size([3, 250, 250])\n",
      "torch.Size([3, 250, 250]) (48,)\n",
      "torch.Size([3, 250, 250])\n",
      "torch.Size([3, 250, 250]) (48,)\n"
     ]
    },
    {
     "name": "stderr",
     "output_type": "stream",
     "text": [
      "Train Epoch 0:  98%|███████████████████████████████████▍| 1650/1678 [05:21<00:05,  4.83batch/s, train_loss=-1.01e+4]"
     ]
    },
    {
     "name": "stdout",
     "output_type": "stream",
     "text": [
      "torch.Size([3, 250, 250])\n",
      "torch.Size([3, 250, 250]) (48,)\n",
      "torch.Size([3, 250, 250])\n",
      "torch.Size([3, 250, 250]) (48,)\n"
     ]
    },
    {
     "name": "stderr",
     "output_type": "stream",
     "text": [
      "\r",
      "Train Epoch 0:  98%|███████████████████████████████████▍| 1650/1678 [05:21<00:05,  4.83batch/s, train_loss=-1.01e+4]"
     ]
    },
    {
     "name": "stdout",
     "output_type": "stream",
     "text": [
      "torch.Size([3, 250, 250])\n",
      "torch.Size([3, 250, 250]) (48,)\n",
      "torch.Size([3, 250, 250])\n",
      "torch.Size([3, 250, 250]) (48,)\n"
     ]
    },
    {
     "name": "stderr",
     "output_type": "stream",
     "text": [
      "Train Epoch 0:  98%|███████████████████████████████████▍| 1651/1678 [05:22<00:05,  4.81batch/s, train_loss=-1.24e+4]"
     ]
    },
    {
     "name": "stdout",
     "output_type": "stream",
     "text": [
      "torch.Size([3, 250, 250])\n",
      "torch.Size([3, 250, 250]) (48,)\n",
      "torch.Size([3, 250, 250])\n",
      "torch.Size([3, 250, 250]) (48,)\n"
     ]
    },
    {
     "name": "stderr",
     "output_type": "stream",
     "text": [
      "Train Epoch 0:  98%|███████████████████████████████████▍| 1652/1678 [05:22<00:05,  4.75batch/s, train_loss=-1.16e+4]"
     ]
    },
    {
     "name": "stdout",
     "output_type": "stream",
     "text": [
      "torch.Size([3, 250, 250])\n",
      "torch.Size([3, 250, 250]) (48,)\n",
      "torch.Size([3, 250, 250])\n",
      "torch.Size([3, 250, 250]) (48,)\n"
     ]
    },
    {
     "name": "stderr",
     "output_type": "stream",
     "text": [
      "Train Epoch 0:  99%|███████████████████████████████████▍| 1654/1678 [05:22<00:05,  4.78batch/s, train_loss=-1.11e+4]"
     ]
    },
    {
     "name": "stdout",
     "output_type": "stream",
     "text": [
      "torch.Size([3, 250, 250])\n",
      "torch.Size([3, 250, 250]) (48,)\n",
      "torch.Size([3, 250, 250])\n",
      "torch.Size([3, 250, 250]) (48,)\n",
      "torch.Size([3, 250, 250])"
     ]
    },
    {
     "name": "stderr",
     "output_type": "stream",
     "text": [
      "Train Epoch 0:  99%|███████████████████████████████████▌| 1655/1678 [05:22<00:04,  4.82batch/s, train_loss=-1.22e+4]"
     ]
    },
    {
     "name": "stdout",
     "output_type": "stream",
     "text": [
      "\n",
      "torch.Size([3, 250, 250]) (48,)\n",
      "torch.Size([3, 250, 250])\n",
      "torch.Size([3, 250, 250]) (48,)\n"
     ]
    },
    {
     "name": "stderr",
     "output_type": "stream",
     "text": [
      "Train Epoch 0:  99%|███████████████████████████████████▌| 1656/1678 [05:23<00:04,  4.75batch/s, train_loss=-1.05e+4]"
     ]
    },
    {
     "name": "stdout",
     "output_type": "stream",
     "text": [
      "torch.Size([3, 250, 250])\n",
      "torch.Size([3, 250, 250]) (48,)\n",
      "torch.Size([3, 250, 250])\n",
      "torch.Size([3, 250, 250]) (48,)\n",
      "torch.Size([3, 250, 250])"
     ]
    },
    {
     "name": "stderr",
     "output_type": "stream",
     "text": [
      "Train Epoch 0:  99%|███████████████████████████████████▌| 1657/1678 [05:23<00:04,  4.82batch/s, train_loss=-1.26e+4]"
     ]
    },
    {
     "name": "stdout",
     "output_type": "stream",
     "text": [
      "\n",
      "torch.Size([3, 250, 250]) (48,)\n",
      "torch.Size([3, 250, 250])\n",
      "torch.Size([3, 250, 250]) (48,)\n"
     ]
    },
    {
     "name": "stderr",
     "output_type": "stream",
     "text": [
      "\r",
      "Train Epoch 0:  99%|███████████████████████████████████▌| 1657/1678 [05:23<00:04,  4.82batch/s, train_loss=-1.26e+4]"
     ]
    },
    {
     "name": "stdout",
     "output_type": "stream",
     "text": [
      "torch.Size([3, 250, 250])\n",
      "torch.Size([3, 250, 250]) (48,)\n",
      "torch.Size([3, 250, 250])\n",
      "torch.Size([3, 250, 250]) (48,)\n"
     ]
    },
    {
     "name": "stderr",
     "output_type": "stream",
     "text": [
      "Train Epoch 0:  99%|███████████████████████████████████▌| 1658/1678 [05:23<00:04,  4.69batch/s, train_loss=-1.32e+4]"
     ]
    },
    {
     "name": "stdout",
     "output_type": "stream",
     "text": [
      "torch.Size([3, 250, 250])\n",
      "torch.Size([3, 250, 250]) (48,)\n",
      "torch.Size([3, 250, 250])\n",
      "torch.Size([3, 250, 250]) (48,)\n"
     ]
    },
    {
     "name": "stderr",
     "output_type": "stream",
     "text": [
      "Train Epoch 0:  99%|███████████████████████████████████▌| 1660/1678 [05:23<00:03,  4.57batch/s, train_loss=-1.27e+4]"
     ]
    },
    {
     "name": "stdout",
     "output_type": "stream",
     "text": [
      "torch.Size([3, 250, 250])\n",
      "torch.Size([3, 250, 250]) (48,)\n",
      "torch.Size([3, 250, 250])\n",
      "torch.Size([3, 250, 250]) (48,)\n"
     ]
    },
    {
     "name": "stderr",
     "output_type": "stream",
     "text": [
      "\r",
      "Train Epoch 0:  99%|███████████████████████████████████▌| 1660/1678 [05:23<00:03,  4.57batch/s, train_loss=-1.27e+4]"
     ]
    },
    {
     "name": "stdout",
     "output_type": "stream",
     "text": [
      "torch.Size([3, 250, 250])\n",
      "torch.Size([3, 250, 250]) (48,)\n",
      "torch.Size([3, 250, 250])\n",
      "torch.Size([3, 250, 250]) (48,)\n"
     ]
    },
    {
     "name": "stderr",
     "output_type": "stream",
     "text": [
      "Train Epoch 0:  99%|███████████████████████████████████▋| 1661/1678 [05:24<00:03,  4.55batch/s, train_loss=-1.18e+4]"
     ]
    },
    {
     "name": "stdout",
     "output_type": "stream",
     "text": [
      "torch.Size([3, 250, 250])\n",
      "torch.Size([3, 250, 250]) (48,)\n",
      "torch.Size([3, 250, 250])\n",
      "torch.Size([3, 250, 250]) (48,)\n"
     ]
    },
    {
     "name": "stderr",
     "output_type": "stream",
     "text": [
      "Train Epoch 0:  99%|███████████████████████████████████▋| 1662/1678 [05:24<00:03,  4.54batch/s, train_loss=-1.18e+4]"
     ]
    },
    {
     "name": "stdout",
     "output_type": "stream",
     "text": [
      "torch.Size([3, 250, 250])\n",
      "torch.Size([3, 250, 250]) (48,)\n",
      "torch.Size([3, 250, 250])\n",
      "torch.Size([3, 250, 250]) (48,)\n"
     ]
    },
    {
     "name": "stderr",
     "output_type": "stream",
     "text": [
      "Train Epoch 0:  99%|███████████████████████████████████▋| 1663/1678 [05:24<00:03,  4.40batch/s, train_loss=-1.09e+4]"
     ]
    },
    {
     "name": "stdout",
     "output_type": "stream",
     "text": [
      "torch.Size([3, 250, 250])\n",
      "torch.Size([3, 250, 250]) (48,)\n",
      "torch.Size([3, 250, 250])\n",
      "torch.Size([3, 250, 250]) (48,)\n"
     ]
    },
    {
     "name": "stderr",
     "output_type": "stream",
     "text": [
      "Train Epoch 0:  99%|███████████████████████████████████▋| 1665/1678 [05:25<00:02,  4.58batch/s, train_loss=-1.31e+4]"
     ]
    },
    {
     "name": "stdout",
     "output_type": "stream",
     "text": [
      "torch.Size([3, 250, 250])\n",
      "torch.Size([3, 250, 250]) (48,)\n",
      "torch.Size([3, 250, 250])\n",
      "torch.Size([3, 250, 250]) (48,)\n"
     ]
    },
    {
     "name": "stderr",
     "output_type": "stream",
     "text": [
      "\r",
      "Train Epoch 0:  99%|███████████████████████████████████▋| 1665/1678 [05:25<00:02,  4.58batch/s, train_loss=-1.31e+4]"
     ]
    },
    {
     "name": "stdout",
     "output_type": "stream",
     "text": [
      "torch.Size([3, 250, 250])\n",
      "torch.Size([3, 250, 250]) (48,)\n",
      "torch.Size([3, 250, 250])\n",
      "torch.Size([3, 250, 250]) (48,)\n"
     ]
    },
    {
     "name": "stderr",
     "output_type": "stream",
     "text": [
      "Train Epoch 0:  99%|███████████████████████████████████▋| 1666/1678 [05:25<00:02,  4.62batch/s, train_loss=-1.34e+4]"
     ]
    },
    {
     "name": "stdout",
     "output_type": "stream",
     "text": [
      "torch.Size([3, 250, 250])\n",
      "torch.Size([3, 250, 250]) (48,)\n",
      "torch.Size([3, 250, 250])\n",
      "torch.Size([3, 250, 250]) (48,)\n"
     ]
    },
    {
     "name": "stderr",
     "output_type": "stream",
     "text": [
      "Train Epoch 0:  99%|███████████████████████████████████▊| 1667/1678 [05:25<00:02,  4.63batch/s, train_loss=-1.34e+4]"
     ]
    },
    {
     "name": "stdout",
     "output_type": "stream",
     "text": [
      "torch.Size([3, 250, 250])\n",
      "torch.Size([3, 250, 250]) (48,)\n",
      "torch.Size([3, 250, 250])\n",
      "torch.Size([3, 250, 250]) (48,)\n"
     ]
    },
    {
     "name": "stderr",
     "output_type": "stream",
     "text": [
      "Train Epoch 0:  99%|████████████████████████████████████▊| 1669/1678 [05:25<00:01,  4.71batch/s, train_loss=-1.2e+4]"
     ]
    },
    {
     "name": "stdout",
     "output_type": "stream",
     "text": [
      "torch.Size([3, 250, 250])\n",
      "torch.Size([3, 250, 250]) (48,)\n",
      "torch.Size([3, 250, 250])\n",
      "torch.Size([3, 250, 250]) (48,)\n"
     ]
    },
    {
     "name": "stderr",
     "output_type": "stream",
     "text": [
      "Train Epoch 0: 100%|███████████████████████████████████▊| 1670/1678 [05:26<00:01,  4.72batch/s, train_loss=-1.36e+4]"
     ]
    },
    {
     "name": "stdout",
     "output_type": "stream",
     "text": [
      "torch.Size([3, 250, 250])\n",
      "torch.Size([3, 250, 250]) (48,)\n",
      "torch.Size([3, 250, 250])\n",
      "torch.Size([3, 250, 250]) (48,)\n"
     ]
    },
    {
     "name": "stderr",
     "output_type": "stream",
     "text": [
      "\r",
      "Train Epoch 0: 100%|███████████████████████████████████▊| 1670/1678 [05:26<00:01,  4.72batch/s, train_loss=-1.36e+4]"
     ]
    },
    {
     "name": "stdout",
     "output_type": "stream",
     "text": [
      "torch.Size([3, 250, 250])\n",
      "torch.Size([3, 250, 250]) (48,)\n",
      "torch.Size([3, 250, 250])\n",
      "torch.Size([3, 250, 250]) (48,)\n"
     ]
    },
    {
     "name": "stderr",
     "output_type": "stream",
     "text": [
      "Train Epoch 0: 100%|███████████████████████████████████▊| 1672/1678 [05:26<00:01,  4.72batch/s, train_loss=-1.26e+4]"
     ]
    },
    {
     "name": "stdout",
     "output_type": "stream",
     "text": [
      "torch.Size([3, 250, 250])\n",
      "torch.Size([3, 250, 250]) (48,)\n",
      "torch.Size([3, 250, 250])\n",
      "torch.Size([3, 250, 250]) (48,)\n"
     ]
    },
    {
     "name": "stderr",
     "output_type": "stream",
     "text": [
      "Train Epoch 0: 100%|███████████████████████████████████▉| 1673/1678 [05:26<00:01,  4.70batch/s, train_loss=-1.15e+4]"
     ]
    },
    {
     "name": "stdout",
     "output_type": "stream",
     "text": [
      "torch.Size([3, 250, 250])\n",
      "torch.Size([3, 250, 250]) (48,)\n",
      "torch.Size([3, 250, 250])\n",
      "torch.Size([3, 250, 250]) (48,)\n"
     ]
    },
    {
     "name": "stderr",
     "output_type": "stream",
     "text": [
      "\r",
      "Train Epoch 0: 100%|███████████████████████████████████▉| 1673/1678 [05:26<00:01,  4.70batch/s, train_loss=-1.15e+4]"
     ]
    },
    {
     "name": "stdout",
     "output_type": "stream",
     "text": [
      "torch.Size([3, 250, 250])\n",
      "torch.Size([3, 250, 250]) (48,)\n",
      "torch.Size([3, 250, 250])\n",
      "torch.Size([3, 250, 250]) (48,)\n"
     ]
    },
    {
     "name": "stderr",
     "output_type": "stream",
     "text": [
      "Train Epoch 0: 100%|███████████████████████████████████▉| 1675/1678 [05:27<00:00,  4.64batch/s, train_loss=-1.21e+4]"
     ]
    },
    {
     "name": "stdout",
     "output_type": "stream",
     "text": [
      "torch.Size([3, 250, 250])\n",
      "torch.Size([3, 250, 250]) (48,)\n",
      "torch.Size([3, 250, 250])\n",
      "torch.Size([3, 250, 250]) (48,)\n"
     ]
    },
    {
     "name": "stderr",
     "output_type": "stream",
     "text": [
      "\r",
      "Train Epoch 0: 100%|███████████████████████████████████▉| 1675/1678 [05:27<00:00,  4.64batch/s, train_loss=-1.21e+4]"
     ]
    },
    {
     "name": "stdout",
     "output_type": "stream",
     "text": [
      "torch.Size([3, 250, 250])\n",
      "torch.Size([3, 250, 250]) (48,)\n",
      "torch.Size([3, 250, 250])\n",
      "torch.Size([3, 250, 250]) (48,)\n"
     ]
    },
    {
     "name": "stderr",
     "output_type": "stream",
     "text": [
      "Train Epoch 0: 100%|███████████████████████████████████▉| 1676/1678 [05:27<00:00,  4.67batch/s, train_loss=-1.15e+4]"
     ]
    },
    {
     "name": "stdout",
     "output_type": "stream",
     "text": [
      "torch.Size([3, 250, 250])\n",
      "torch.Size([3, 250, 250]) (48,)\n",
      "torch.Size([3, 250, 250])\n",
      "torch.Size([3, 250, 250]) (48,)\n"
     ]
    },
    {
     "name": "stderr",
     "output_type": "stream",
     "text": [
      "Train Epoch 0: 100%|████████████████████████████████████| 1678/1678 [05:27<00:00,  5.12batch/s, train_loss=-1.17e+4]\n",
      "  0%|                                                                                    | 0/420 [00:00<?, ?batch/s]"
     ]
    },
    {
     "name": "stdout",
     "output_type": "stream",
     "text": [
      "torch.Size([3, 250, 250])\n",
      "torch.Size([3, 250, 250]) (48,)\n",
      "torch.Size([3, 250, 250])\n",
      "torch.Size([3, 250, 250]) (48,)\n",
      "torch.Size([3, 270, 480])"
     ]
    },
    {
     "name": "stderr",
     "output_type": "stream",
     "text": [
      "Valid Epoch 0:   0%|                                        | 1/420 [00:00<00:47,  8.87batch/s, valid_loss=-1.92e+4]"
     ]
    },
    {
     "name": "stdout",
     "output_type": "stream",
     "text": [
      "\n",
      "torch.Size([3, 270, 480]) (48,)\n",
      "torch.Size([3, 270, 480])\n",
      "torch.Size([3, 270, 480]) (48,)\n",
      "torch.Size([3, 270, 480])\n",
      "torch.Size([3, 270, 480]) (48,)\n",
      "torch.Size([3, 270, 480])\n",
      "torch.Size([3, 270, 480]) (48,)\n"
     ]
    },
    {
     "name": "stderr",
     "output_type": "stream",
     "text": [
      "Valid Epoch 0:   1%|▎                                       | 3/420 [00:00<00:46,  8.92batch/s, valid_loss=-1.79e+4]"
     ]
    },
    {
     "name": "stdout",
     "output_type": "stream",
     "text": [
      "torch.Size([3, 270, 480])\n",
      "torch.Size([3, 270, 480]) (48,)\n",
      "torch.Size([3, 270, 480])\n",
      "torch.Size([3, 270, 480]) (48,)\n",
      "torch.Size([3, 270, 480])\n",
      "torch.Size([3, 270, 480]) (48,)\n",
      "torch.Size([3, 270, 480])\n",
      "torch.Size([3, 270, 480]) (48,)\n"
     ]
    },
    {
     "name": "stderr",
     "output_type": "stream",
     "text": [
      "Valid Epoch 0:   1%|▍                                       | 5/420 [00:00<00:46,  8.92batch/s, valid_loss=-1.78e+4]"
     ]
    },
    {
     "name": "stdout",
     "output_type": "stream",
     "text": [
      "torch.Size([3, 270, 480])\n",
      "torch.Size([3, 270, 480]) (48,)\n",
      "torch.Size([3, 270, 480])\n",
      "torch.Size([3, 270, 480]) (48,)\n",
      "torch.Size([3, 270, 480])\n",
      "torch.Size([3, 270, 480]) (48,)\n",
      "torch.Size([3, 270, 480])\n",
      "torch.Size([3, 270, 480]) (48,)\n"
     ]
    },
    {
     "name": "stderr",
     "output_type": "stream",
     "text": [
      "Valid Epoch 0:   2%|▋                                       | 7/420 [00:00<00:47,  8.73batch/s, valid_loss=-1.91e+4]"
     ]
    },
    {
     "name": "stdout",
     "output_type": "stream",
     "text": [
      "torch.Size([3, 270, 480])\n",
      "torch.Size([3, 270, 480]) (48,)\n",
      "torch.Size([3, 270, 480])\n",
      "torch.Size([3, 270, 480]) (48,)\n",
      "torch.Size([3, 270, 480])\n",
      "torch.Size([3, 270, 480]) (48,)\n",
      "torch.Size([3, 270, 480])\n",
      "torch.Size([3, 270, 480]) (48,)\n"
     ]
    },
    {
     "name": "stderr",
     "output_type": "stream",
     "text": [
      "Valid Epoch 0:   2%|▊                                       | 9/420 [00:01<00:47,  8.74batch/s, valid_loss=-1.79e+4]"
     ]
    },
    {
     "name": "stdout",
     "output_type": "stream",
     "text": [
      "torch.Size([3, 270, 480])\n",
      "torch.Size([3, 270, 480]) (48,)\n",
      "torch.Size([3, 270, 480])\n",
      "torch.Size([3, 270, 480]) (48,)\n",
      "torch.Size([3, 270, 480])\n",
      "torch.Size([3, 270, 480]) (48,)\n",
      "torch.Size([3, 270, 480])\n",
      "torch.Size([3, 270, 480]) (48,)\n"
     ]
    },
    {
     "name": "stderr",
     "output_type": "stream",
     "text": [
      "Valid Epoch 0:   3%|█                                      | 11/420 [00:01<00:47,  8.69batch/s, valid_loss=-1.78e+4]"
     ]
    },
    {
     "name": "stdout",
     "output_type": "stream",
     "text": [
      "torch.Size([3, 270, 480])\n",
      "torch.Size([3, 270, 480]) (48,)\n",
      "torch.Size([3, 270, 480])\n",
      "torch.Size([3, 270, 480]) (48,)\n",
      "torch.Size([3, 270, 480])\n",
      "torch.Size([3, 270, 480]) (48,)\n",
      "torch.Size([3, 270, 480])\n",
      "torch.Size([3, 270, 480]) (48,)\n"
     ]
    },
    {
     "name": "stderr",
     "output_type": "stream",
     "text": [
      "Valid Epoch 0:   3%|█▏                                     | 13/420 [00:01<00:46,  8.77batch/s, valid_loss=-1.82e+4]"
     ]
    },
    {
     "name": "stdout",
     "output_type": "stream",
     "text": [
      "torch.Size([3, 270, 480])\n",
      "torch.Size([3, 270, 480]) (48,)\n",
      "torch.Size([3, 270, 480])\n",
      "torch.Size([3, 270, 480]) (48,)\n",
      "torch.Size([3, 270, 480])\n",
      "torch.Size([3, 270, 480]) (48,)\n",
      "torch.Size([3, 270, 480])\n",
      "torch.Size([3, 270, 480]) (48,)\n"
     ]
    },
    {
     "name": "stderr",
     "output_type": "stream",
     "text": [
      "Valid Epoch 0:   4%|█▍                                     | 15/420 [00:01<00:46,  8.79batch/s, valid_loss=-2.01e+4]"
     ]
    },
    {
     "name": "stdout",
     "output_type": "stream",
     "text": [
      "torch.Size([3, 270, 480])\n",
      "torch.Size([3, 270, 480]) (48,)\n",
      "torch.Size([3, 270, 480])\n",
      "torch.Size([3, 270, 480]) (48,)\n",
      "torch.Size([3, 270, 480])\n",
      "torch.Size([3, 270, 480]) (48,)\n",
      "torch.Size([3, 270, 480])\n",
      "torch.Size([3, 270, 480]) (48,)\n"
     ]
    },
    {
     "name": "stderr",
     "output_type": "stream",
     "text": [
      "Valid Epoch 0:   4%|█▌                                     | 17/420 [00:01<00:45,  8.80batch/s, valid_loss=-1.85e+4]"
     ]
    },
    {
     "name": "stdout",
     "output_type": "stream",
     "text": [
      "torch.Size([3, 270, 480])\n",
      "torch.Size([3, 270, 480]) (48,)\n",
      "torch.Size([3, 270, 480])\n",
      "torch.Size([3, 270, 480]) (48,)\n",
      "torch.Size([3, 270, 480])\n",
      "torch.Size([3, 270, 480]) (48,)\n",
      "torch.Size([3, 270, 480])\n",
      "torch.Size([3, 270, 480]) (48,)\n"
     ]
    },
    {
     "name": "stderr",
     "output_type": "stream",
     "text": [
      "Valid Epoch 0:   5%|█▊                                     | 19/420 [00:02<00:44,  8.96batch/s, valid_loss=-1.79e+4]"
     ]
    },
    {
     "name": "stdout",
     "output_type": "stream",
     "text": [
      "torch.Size([3, 270, 480])\n",
      "torch.Size([3, 270, 480]) (48,)\n",
      "torch.Size([3, 270, 480])\n",
      "torch.Size([3, 270, 480]) (48,)\n",
      "torch.Size([3, 270, 480])\n",
      "torch.Size([3, 270, 480]) (48,)\n",
      "torch.Size([3, 270, 480])\n",
      "torch.Size([3, 270, 480]) (48,)\n"
     ]
    },
    {
     "name": "stderr",
     "output_type": "stream",
     "text": [
      "Valid Epoch 0:   5%|█▉                                     | 21/420 [00:02<00:44,  9.02batch/s, valid_loss=-1.73e+4]"
     ]
    },
    {
     "name": "stdout",
     "output_type": "stream",
     "text": [
      "torch.Size([3, 270, 480])\n",
      "torch.Size([3, 270, 480]) (48,)\n",
      "torch.Size([3, 270, 480])\n",
      "torch.Size([3, 270, 480]) (48,)\n",
      "torch.Size([3, 270, 480])\n",
      "torch.Size([3, 270, 480]) (48,)\n",
      "torch.Size([3, 270, 480])\n",
      "torch.Size([3, 270, 480]) (48,)\n"
     ]
    },
    {
     "name": "stderr",
     "output_type": "stream",
     "text": [
      "Valid Epoch 0:   5%|██▏                                    | 23/420 [00:02<00:44,  8.82batch/s, valid_loss=-2.09e+4]"
     ]
    },
    {
     "name": "stdout",
     "output_type": "stream",
     "text": [
      "torch.Size([3, 270, 480])\n",
      "torch.Size([3, 270, 480]) (48,)\n",
      "torch.Size([3, 270, 480])\n",
      "torch.Size([3, 270, 480]) (48,)\n",
      "torch.Size([3, 270, 480])\n",
      "torch.Size([3, 270, 480]) (48,)\n",
      "torch.Size([3, 270, 480])\n",
      "torch.Size([3, 270, 480]) (48,)\n"
     ]
    },
    {
     "name": "stderr",
     "output_type": "stream",
     "text": [
      "Valid Epoch 0:   6%|██▎                                    | 25/420 [00:02<00:45,  8.77batch/s, valid_loss=-1.97e+4]"
     ]
    },
    {
     "name": "stdout",
     "output_type": "stream",
     "text": [
      "torch.Size([3, 270, 480])\n",
      "torch.Size([3, 270, 480]) (48,)\n",
      "torch.Size([3, 270, 480])\n",
      "torch.Size([3, 270, 480]) (48,)\n",
      "torch.Size([3, 270, 480])\n",
      "torch.Size([3, 270, 480]) (48,)\n",
      "torch.Size([3, 270, 480])\n",
      "torch.Size([3, 270, 480]) (48,)\n"
     ]
    },
    {
     "name": "stderr",
     "output_type": "stream",
     "text": [
      "Valid Epoch 0:   6%|██▌                                    | 27/420 [00:03<00:44,  8.93batch/s, valid_loss=-1.77e+4]"
     ]
    },
    {
     "name": "stdout",
     "output_type": "stream",
     "text": [
      "torch.Size([3, 270, 480])\n",
      "torch.Size([3, 270, 480]) (48,)\n",
      "torch.Size([3, 270, 480])\n",
      "torch.Size([3, 270, 480]) (48,)\n",
      "torch.Size([3, 270, 480])\n",
      "torch.Size([3, 270, 480]) (48,)\n",
      "torch.Size([3, 270, 480])\n",
      "torch.Size([3, 270, 480]) (48,)\n"
     ]
    },
    {
     "name": "stderr",
     "output_type": "stream",
     "text": [
      "Valid Epoch 0:   7%|██▋                                    | 29/420 [00:03<00:44,  8.83batch/s, valid_loss=-2.06e+4]"
     ]
    },
    {
     "name": "stdout",
     "output_type": "stream",
     "text": [
      "torch.Size([3, 270, 480])\n",
      "torch.Size([3, 270, 480]) (48,)\n",
      "torch.Size([3, 270, 480])\n",
      "torch.Size([3, 270, 480]) (48,)\n",
      "torch.Size([3, 270, 480])\n",
      "torch.Size([3, 270, 480]) (48,)\n",
      "torch.Size([3, 270, 480])\n",
      "torch.Size([3, 270, 480]) (48,)\n"
     ]
    },
    {
     "name": "stderr",
     "output_type": "stream",
     "text": [
      "Valid Epoch 0:   7%|██▉                                    | 31/420 [00:03<00:44,  8.83batch/s, valid_loss=-2.29e+4]"
     ]
    },
    {
     "name": "stdout",
     "output_type": "stream",
     "text": [
      "torch.Size([3, 270, 480])\n",
      "torch.Size([3, 270, 480]) (48,)\n",
      "torch.Size([3, 270, 480])\n",
      "torch.Size([3, 270, 480]) (48,)\n",
      "torch.Size([3, 270, 480])\n",
      "torch.Size([3, 270, 480]) (48,)\n",
      "torch.Size([3, 270, 480])\n",
      "torch.Size([3, 270, 480]) (48,)\n"
     ]
    },
    {
     "name": "stderr",
     "output_type": "stream",
     "text": [
      "Valid Epoch 0:   8%|███                                    | 33/420 [00:03<00:44,  8.76batch/s, valid_loss=-1.98e+4]"
     ]
    },
    {
     "name": "stdout",
     "output_type": "stream",
     "text": [
      "torch.Size([3, 270, 480])\n",
      "torch.Size([3, 270, 480]) (48,)\n",
      "torch.Size([3, 270, 480])\n",
      "torch.Size([3, 270, 480]) (48,)\n",
      "torch.Size([3, 270, 480])\n",
      "torch.Size([3, 270, 480]) (48,)\n",
      "torch.Size([3, 270, 480])\n",
      "torch.Size([3, 270, 480]) (48,)\n"
     ]
    },
    {
     "name": "stderr",
     "output_type": "stream",
     "text": [
      "Valid Epoch 0:   8%|███▎                                    | 35/420 [00:04<00:42,  8.98batch/s, valid_loss=-1.9e+4]"
     ]
    },
    {
     "name": "stdout",
     "output_type": "stream",
     "text": [
      "torch.Size([3, 270, 480])\n",
      "torch.Size([3, 270, 480]) (48,)\n",
      "torch.Size([3, 270, 480])\n",
      "torch.Size([3, 270, 480]) (48,)\n",
      "torch.Size([3, 270, 480])\n",
      "torch.Size([3, 270, 480]) (48,)\n",
      "torch.Size([3, 270, 480])\n",
      "torch.Size([3, 270, 480]) (48,)\n"
     ]
    },
    {
     "name": "stderr",
     "output_type": "stream",
     "text": [
      "Valid Epoch 0:   9%|███▍                                   | 37/420 [00:04<00:42,  8.97batch/s, valid_loss=-2.09e+4]"
     ]
    },
    {
     "name": "stdout",
     "output_type": "stream",
     "text": [
      "torch.Size([3, 270, 480])\n",
      "torch.Size([3, 270, 480]) (48,)\n",
      "torch.Size([3, 270, 480])\n",
      "torch.Size([3, 270, 480]) (48,)\n",
      "torch.Size([3, 270, 480])\n",
      "torch.Size([3, 270, 480]) (48,)\n",
      "torch.Size([3, 270, 480])\n",
      "torch.Size([3, 270, 480]) (48,)\n"
     ]
    },
    {
     "name": "stderr",
     "output_type": "stream",
     "text": [
      "Valid Epoch 0:   9%|███▌                                   | 39/420 [00:04<00:43,  8.81batch/s, valid_loss=-1.98e+4]"
     ]
    },
    {
     "name": "stdout",
     "output_type": "stream",
     "text": [
      "torch.Size([3, 270, 480])\n",
      "torch.Size([3, 270, 480]) (48,)\n",
      "torch.Size([3, 270, 480])\n",
      "torch.Size([3, 270, 480]) (48,)\n",
      "torch.Size([3, 270, 480])\n",
      "torch.Size([3, 270, 480]) (48,)\n",
      "torch.Size([3, 270, 480])\n",
      "torch.Size([3, 270, 480]) (48,)\n"
     ]
    },
    {
     "name": "stderr",
     "output_type": "stream",
     "text": [
      "Valid Epoch 0:  10%|███▊                                   | 41/420 [00:04<00:42,  8.82batch/s, valid_loss=-2.07e+4]"
     ]
    },
    {
     "name": "stdout",
     "output_type": "stream",
     "text": [
      "torch.Size([3, 270, 480])\n",
      "torch.Size([3, 270, 480]) (48,)\n",
      "torch.Size([3, 270, 480])\n",
      "torch.Size([3, 270, 480]) (48,)\n",
      "torch.Size([3, 270, 480])\n",
      "torch.Size([3, 270, 480]) (48,)\n",
      "torch.Size([3, 270, 480])\n",
      "torch.Size([3, 270, 480]) (48,)\n"
     ]
    },
    {
     "name": "stderr",
     "output_type": "stream",
     "text": [
      "Valid Epoch 0:  10%|███▉                                   | 43/420 [00:04<00:42,  8.80batch/s, valid_loss=-2.08e+4]"
     ]
    },
    {
     "name": "stdout",
     "output_type": "stream",
     "text": [
      "torch.Size([3, 270, 480])\n",
      "torch.Size([3, 270, 480]) (48,)\n",
      "torch.Size([3, 270, 480])\n",
      "torch.Size([3, 270, 480]) (48,)\n",
      "torch.Size([3, 270, 480])\n",
      "torch.Size([3, 270, 480]) (48,)\n",
      "torch.Size([3, 270, 480])\n",
      "torch.Size([3, 270, 480]) (48,)\n"
     ]
    },
    {
     "name": "stderr",
     "output_type": "stream",
     "text": [
      "Valid Epoch 0:  11%|████▏                                  | 45/420 [00:05<00:42,  8.81batch/s, valid_loss=-1.95e+4]"
     ]
    },
    {
     "name": "stdout",
     "output_type": "stream",
     "text": [
      "torch.Size([3, 270, 480])\n",
      "torch.Size([3, 270, 480]) (48,)\n",
      "torch.Size([3, 270, 480])\n",
      "torch.Size([3, 270, 480]) (48,)\n",
      "torch.Size([3, 270, 480])\n",
      "torch.Size([3, 270, 480]) (48,)\n",
      "torch.Size([3, 270, 480])\n",
      "torch.Size([3, 270, 480]) (48,)\n"
     ]
    },
    {
     "name": "stderr",
     "output_type": "stream",
     "text": [
      "Valid Epoch 0:  11%|████▎                                  | 47/420 [00:05<00:42,  8.79batch/s, valid_loss=-1.84e+4]"
     ]
    },
    {
     "name": "stdout",
     "output_type": "stream",
     "text": [
      "torch.Size([3, 270, 480])\n",
      "torch.Size([3, 270, 480]) (48,)\n",
      "torch.Size([3, 270, 480])\n",
      "torch.Size([3, 270, 480]) (48,)\n",
      "torch.Size([3, 270, 480])\n",
      "torch.Size([3, 270, 480]) (48,)\n",
      "torch.Size([3, 270, 480])\n",
      "torch.Size([3, 270, 480]) (48,)\n"
     ]
    },
    {
     "name": "stderr",
     "output_type": "stream",
     "text": [
      "Valid Epoch 0:  12%|████▌                                  | 49/420 [00:05<00:41,  8.91batch/s, valid_loss=-1.78e+4]"
     ]
    },
    {
     "name": "stdout",
     "output_type": "stream",
     "text": [
      "torch.Size([3, 270, 480])\n",
      "torch.Size([3, 270, 480]) (48,)\n",
      "torch.Size([3, 270, 480])\n",
      "torch.Size([3, 270, 480]) (48,)\n",
      "torch.Size([3, 270, 480])\n",
      "torch.Size([3, 270, 480]) (48,)\n",
      "torch.Size([3, 270, 480])\n",
      "torch.Size([3, 270, 480]) (48,)\n"
     ]
    },
    {
     "name": "stderr",
     "output_type": "stream",
     "text": [
      "Valid Epoch 0:  12%|████▋                                  | 51/420 [00:05<00:41,  8.83batch/s, valid_loss=-1.86e+4]"
     ]
    },
    {
     "name": "stdout",
     "output_type": "stream",
     "text": [
      "torch.Size([3, 270, 480])\n",
      "torch.Size([3, 270, 480]) (48,)\n",
      "torch.Size([3, 270, 480])\n",
      "torch.Size([3, 270, 480]) (48,)\n",
      "torch.Size([3, 270, 480])\n",
      "torch.Size([3, 270, 480]) (48,)\n",
      "torch.Size([3, 270, 480])\n",
      "torch.Size([3, 270, 480]) (48,)\n"
     ]
    },
    {
     "name": "stderr",
     "output_type": "stream",
     "text": [
      "Valid Epoch 0:  13%|████▉                                  | 53/420 [00:06<00:41,  8.92batch/s, valid_loss=-1.98e+4]"
     ]
    },
    {
     "name": "stdout",
     "output_type": "stream",
     "text": [
      "torch.Size([3, 270, 480])\n",
      "torch.Size([3, 270, 480]) (48,)\n",
      "torch.Size([3, 270, 480])\n",
      "torch.Size([3, 270, 480]) (48,)\n",
      "torch.Size([3, 270, 480])\n",
      "torch.Size([3, 270, 480]) (48,)\n",
      "torch.Size([3, 270, 480])\n",
      "torch.Size([3, 270, 480]) (48,)\n"
     ]
    },
    {
     "name": "stderr",
     "output_type": "stream",
     "text": [
      "Valid Epoch 0:  13%|█████                                  | 55/420 [00:06<00:41,  8.87batch/s, valid_loss=-2.07e+4]"
     ]
    },
    {
     "name": "stdout",
     "output_type": "stream",
     "text": [
      "torch.Size([3, 270, 480])\n",
      "torch.Size([3, 270, 480]) (48,)\n",
      "torch.Size([3, 270, 480])\n",
      "torch.Size([3, 270, 480]) (48,)\n",
      "torch.Size([3, 270, 480])\n",
      "torch.Size([3, 270, 480]) (48,)\n",
      "torch.Size([3, 270, 480])\n",
      "torch.Size([3, 270, 480]) (48,)\n"
     ]
    },
    {
     "name": "stderr",
     "output_type": "stream",
     "text": [
      "Valid Epoch 0:  14%|█████▍                                  | 57/420 [00:06<00:42,  8.59batch/s, valid_loss=-2.1e+4]"
     ]
    },
    {
     "name": "stdout",
     "output_type": "stream",
     "text": [
      "torch.Size([3, 270, 480])\n",
      "torch.Size([3, 270, 480]) (48,)\n",
      "torch.Size([3, 270, 480])\n",
      "torch.Size([3, 270, 480]) (48,)\n",
      "torch.Size([3, 270, 480])\n",
      "torch.Size([3, 270, 480]) (48,)\n",
      "torch.Size([3, 270, 480])\n",
      "torch.Size([3, 270, 480]) (48,)\n"
     ]
    },
    {
     "name": "stderr",
     "output_type": "stream",
     "text": [
      "Valid Epoch 0:  14%|█████▍                                 | 59/420 [00:06<00:42,  8.53batch/s, valid_loss=-1.96e+4]"
     ]
    },
    {
     "name": "stdout",
     "output_type": "stream",
     "text": [
      "torch.Size([3, 270, 480])\n",
      "torch.Size([3, 270, 480]) (48,)\n",
      "torch.Size([3, 270, 480])\n",
      "torch.Size([3, 270, 480]) (48,)\n",
      "torch.Size([3, 270, 480])\n",
      "torch.Size([3, 270, 480]) (48,)\n",
      "torch.Size([3, 270, 480])\n",
      "torch.Size([3, 270, 480]) (48,)\n"
     ]
    },
    {
     "name": "stderr",
     "output_type": "stream",
     "text": [
      "Valid Epoch 0:  15%|█████▊                                  | 61/420 [00:06<00:41,  8.66batch/s, valid_loss=-1.9e+4]"
     ]
    },
    {
     "name": "stdout",
     "output_type": "stream",
     "text": [
      "torch.Size([3, 270, 480])\n",
      "torch.Size([3, 270, 480]) (48,)\n",
      "torch.Size([3, 270, 480])\n",
      "torch.Size([3, 270, 480]) (48,)\n",
      "torch.Size([3, 270, 480])\n",
      "torch.Size([3, 270, 480]) (48,)\n",
      "torch.Size([3, 270, 480])\n",
      "torch.Size([3, 270, 480]) (48,)\n"
     ]
    },
    {
     "name": "stderr",
     "output_type": "stream",
     "text": [
      "Valid Epoch 0:  15%|█████▊                                 | 63/420 [00:07<00:40,  8.82batch/s, valid_loss=-1.88e+4]"
     ]
    },
    {
     "name": "stdout",
     "output_type": "stream",
     "text": [
      "torch.Size([3, 270, 480])\n",
      "torch.Size([3, 270, 480]) (48,)\n",
      "torch.Size([3, 270, 480])\n",
      "torch.Size([3, 270, 480]) (48,)\n",
      "torch.Size([3, 270, 480])\n",
      "torch.Size([3, 270, 480]) (48,)\n",
      "torch.Size([3, 270, 480])\n",
      "torch.Size([3, 270, 480]) (48,)\n"
     ]
    },
    {
     "name": "stderr",
     "output_type": "stream",
     "text": [
      "Valid Epoch 0:  15%|██████                                 | 65/420 [00:07<00:40,  8.79batch/s, valid_loss=-1.87e+4]"
     ]
    },
    {
     "name": "stdout",
     "output_type": "stream",
     "text": [
      "torch.Size([3, 270, 480])\n",
      "torch.Size([3, 270, 480]) (48,)\n",
      "torch.Size([3, 270, 480])\n",
      "torch.Size([3, 270, 480]) (48,)\n",
      "torch.Size([3, 270, 480])\n",
      "torch.Size([3, 270, 480]) (48,)\n",
      "torch.Size([3, 270, 480])\n",
      "torch.Size([3, 270, 480]) (48,)\n"
     ]
    },
    {
     "name": "stderr",
     "output_type": "stream",
     "text": [
      "Valid Epoch 0:  16%|██████▏                                | 67/420 [00:07<00:40,  8.72batch/s, valid_loss=-1.82e+4]"
     ]
    },
    {
     "name": "stdout",
     "output_type": "stream",
     "text": [
      "torch.Size([3, 270, 480])\n",
      "torch.Size([3, 270, 480]) (48,)\n",
      "torch.Size([3, 270, 480])\n",
      "torch.Size([3, 270, 480]) (48,)\n",
      "torch.Size([3, 270, 480])\n",
      "torch.Size([3, 270, 480]) (48,)\n",
      "torch.Size([3, 270, 480])\n",
      "torch.Size([3, 270, 480]) (48,)\n"
     ]
    },
    {
     "name": "stderr",
     "output_type": "stream",
     "text": [
      "Valid Epoch 0:  16%|██████▍                                | 69/420 [00:07<00:39,  8.99batch/s, valid_loss=-1.83e+4]"
     ]
    },
    {
     "name": "stdout",
     "output_type": "stream",
     "text": [
      "torch.Size([3, 270, 480])\n",
      "torch.Size([3, 270, 480]) (48,)\n",
      "torch.Size([3, 270, 480])\n",
      "torch.Size([3, 270, 480]) (48,)\n",
      "torch.Size([3, 270, 480])\n",
      "torch.Size([3, 270, 480]) (48,)\n",
      "torch.Size([3, 270, 480])\n",
      "torch.Size([3, 270, 480]) (48,)\n",
      "torch.Size([3, 270, 480])"
     ]
    },
    {
     "name": "stderr",
     "output_type": "stream",
     "text": [
      "Valid Epoch 0:  17%|██████▋                                | 72/420 [00:08<00:36,  9.53batch/s, valid_loss=-1.82e+4]"
     ]
    },
    {
     "name": "stdout",
     "output_type": "stream",
     "text": [
      "\n",
      "torch.Size([3, 270, 480]) (48,)\n",
      "torch.Size([3, 270, 480])\n",
      "torch.Size([3, 270, 480]) (48,)\n",
      "torch.Size([3, 270, 480])\n",
      "torch.Size([3, 270, 480]) (48,)\n",
      "torch.Size([3, 270, 480])\n",
      "torch.Size([3, 270, 480]) (48,)\n",
      "torch.Size([3, 270, 480])"
     ]
    },
    {
     "name": "stderr",
     "output_type": "stream",
     "text": [
      "Valid Epoch 0:  17%|██████▊                                | 73/420 [00:08<00:36,  9.56batch/s, valid_loss=-1.71e+4]"
     ]
    },
    {
     "name": "stdout",
     "output_type": "stream",
     "text": [
      "\n",
      "torch.Size([3, 270, 480]) (48,)\n",
      "torch.Size([3, 270, 480])\n",
      "torch.Size([3, 270, 480]) (48,)\n",
      "torch.Size([3, 270, 480])\n",
      "torch.Size([3, 270, 480]) (48,)\n",
      "torch.Size([3, 270, 480])\n",
      "torch.Size([3, 270, 480]) (48,)\n"
     ]
    },
    {
     "name": "stderr",
     "output_type": "stream",
     "text": [
      "Valid Epoch 0:  18%|██████▉                                | 75/420 [00:08<00:36,  9.44batch/s, valid_loss=-1.77e+4]"
     ]
    },
    {
     "name": "stdout",
     "output_type": "stream",
     "text": [
      "torch.Size([3, 270, 480])\n",
      "torch.Size([3, 270, 480]) (48,)\n",
      "torch.Size([3, 270, 480])\n",
      "torch.Size([3, 270, 480]) (48,)\n",
      "torch.Size([3, 270, 480])\n",
      "torch.Size([3, 270, 480]) (48,)\n",
      "torch.Size([3, 270, 480])\n",
      "torch.Size([3, 270, 480]) (48,)\n"
     ]
    },
    {
     "name": "stderr",
     "output_type": "stream",
     "text": [
      "Valid Epoch 0:  18%|███████▏                               | 77/420 [00:08<00:36,  9.28batch/s, valid_loss=-1.92e+4]"
     ]
    },
    {
     "name": "stdout",
     "output_type": "stream",
     "text": [
      "torch.Size([3, 270, 480])\n",
      "torch.Size([3, 270, 480]) (48,)\n",
      "torch.Size([3, 270, 480])\n",
      "torch.Size([3, 270, 480]) (48,)\n",
      "torch.Size([3, 270, 480])\n",
      "torch.Size([3, 270, 480]) (48,)\n",
      "torch.Size([3, 270, 480])\n",
      "torch.Size([3, 270, 480]) (48,)\n"
     ]
    },
    {
     "name": "stderr",
     "output_type": "stream",
     "text": [
      "Valid Epoch 0:  19%|███████▎                               | 79/420 [00:08<00:37,  9.20batch/s, valid_loss=-1.87e+4]"
     ]
    },
    {
     "name": "stdout",
     "output_type": "stream",
     "text": [
      "torch.Size([3, 270, 480])\n",
      "torch.Size([3, 270, 480]) (48,)\n",
      "torch.Size([3, 270, 480])\n",
      "torch.Size([3, 270, 480]) (48,)\n",
      "torch.Size([3, 270, 480])\n",
      "torch.Size([3, 270, 480]) (48,)\n",
      "torch.Size([3, 270, 480])\n",
      "torch.Size([3, 270, 480]) (48,)\n"
     ]
    },
    {
     "name": "stderr",
     "output_type": "stream",
     "text": [
      "Valid Epoch 0:  19%|███████▌                               | 81/420 [00:09<00:36,  9.24batch/s, valid_loss=-1.83e+4]"
     ]
    },
    {
     "name": "stdout",
     "output_type": "stream",
     "text": [
      "torch.Size([3, 270, 480])\n",
      "torch.Size([3, 270, 480]) (48,)\n",
      "torch.Size([3, 270, 480])\n",
      "torch.Size([3, 270, 480]) (48,)\n",
      "torch.Size([3, 270, 480])\n",
      "torch.Size([3, 270, 480]) (48,)\n",
      "torch.Size([3, 270, 480])\n",
      "torch.Size([3, 270, 480]) (48,)\n"
     ]
    },
    {
     "name": "stderr",
     "output_type": "stream",
     "text": [
      "Valid Epoch 0:  20%|███████▋                               | 83/420 [00:09<00:36,  9.19batch/s, valid_loss=-1.77e+4]"
     ]
    },
    {
     "name": "stdout",
     "output_type": "stream",
     "text": [
      "torch.Size([3, 270, 480])\n",
      "torch.Size([3, 270, 480]) (48,)\n",
      "torch.Size([3, 270, 480])\n",
      "torch.Size([3, 270, 480]) (48,)\n",
      "torch.Size([3, 270, 480])\n",
      "torch.Size([3, 270, 480]) (48,)\n",
      "torch.Size([3, 270, 480])\n",
      "torch.Size([3, 270, 480]) (48,)\n"
     ]
    },
    {
     "name": "stderr",
     "output_type": "stream",
     "text": [
      "Valid Epoch 0:  20%|████████                                | 85/420 [00:09<00:36,  9.29batch/s, valid_loss=-1.9e+4]"
     ]
    },
    {
     "name": "stdout",
     "output_type": "stream",
     "text": [
      "torch.Size([3, 270, 480])\n",
      "torch.Size([3, 270, 480]) (48,)\n",
      "torch.Size([3, 270, 480])\n",
      "torch.Size([3, 270, 480]) (48,)\n",
      "torch.Size([3, 270, 480])\n",
      "torch.Size([3, 270, 480]) (48,)\n",
      "torch.Size([3, 270, 480])\n",
      "torch.Size([3, 270, 480]) (48,)\n"
     ]
    },
    {
     "name": "stderr",
     "output_type": "stream",
     "text": [
      "Valid Epoch 0:  21%|████████▏                              | 88/420 [00:09<00:35,  9.46batch/s, valid_loss=-1.89e+4]"
     ]
    },
    {
     "name": "stdout",
     "output_type": "stream",
     "text": [
      "torch.Size([3, 270, 480])\n",
      "torch.Size([3, 270, 480]) (48,)\n",
      "torch.Size([3, 270, 480])\n",
      "torch.Size([3, 270, 480]) (48,)\n",
      "torch.Size([3, 270, 480])\n",
      "torch.Size([3, 270, 480]) (48,)\n",
      "torch.Size([3, 270, 480])\n",
      "torch.Size([3, 270, 480]) (48,)\n",
      "torch.Size([3, 270, 480])"
     ]
    },
    {
     "name": "stderr",
     "output_type": "stream",
     "text": [
      "Valid Epoch 0:  21%|████████▉                                 | 89/420 [00:10<00:34,  9.60batch/s, valid_loss=-2e+4]"
     ]
    },
    {
     "name": "stdout",
     "output_type": "stream",
     "text": [
      "\n",
      "torch.Size([3, 270, 480]) (48,)\n",
      "torch.Size([3, 270, 480])\n",
      "torch.Size([3, 270, 480]) (48,)\n",
      "torch.Size([3, 270, 480])\n",
      "torch.Size([3, 270, 480]) (48,)\n",
      "torch.Size([3, 270, 480])\n",
      "torch.Size([3, 270, 480]) (48,)\n",
      "torch.Size([3, 270, 480])"
     ]
    },
    {
     "name": "stderr",
     "output_type": "stream",
     "text": [
      "Valid Epoch 0:  22%|████████▍                              | 91/420 [00:10<00:33,  9.79batch/s, valid_loss=-1.81e+4]"
     ]
    },
    {
     "name": "stdout",
     "output_type": "stream",
     "text": [
      "\n",
      "torch.Size([3, 270, 480]) (48,)\n",
      "torch.Size([3, 270, 480])\n",
      "torch.Size([3, 270, 480]) (48,)\n",
      "torch.Size([3, 270, 480])\n",
      "torch.Size([3, 270, 480]) (48,)\n",
      "torch.Size([3, 270, 480])\n",
      "torch.Size([3, 270, 480]) (48,)\n"
     ]
    },
    {
     "name": "stderr",
     "output_type": "stream",
     "text": [
      "Valid Epoch 0:  22%|████████▋                              | 93/420 [00:10<00:34,  9.49batch/s, valid_loss=-1.79e+4]"
     ]
    },
    {
     "name": "stdout",
     "output_type": "stream",
     "text": [
      "torch.Size([3, 270, 480])\n",
      "torch.Size([3, 270, 480]) (48,)\n",
      "torch.Size([3, 270, 480])\n",
      "torch.Size([3, 270, 480]) (48,)\n",
      "torch.Size([3, 270, 480])\n",
      "torch.Size([3, 270, 480]) (48,)\n",
      "torch.Size([3, 270, 480])\n",
      "torch.Size([3, 270, 480]) (48,)\n"
     ]
    },
    {
     "name": "stderr",
     "output_type": "stream",
     "text": [
      "Valid Epoch 0:  23%|████████▊                              | 95/420 [00:10<00:36,  8.96batch/s, valid_loss=-1.63e+4]"
     ]
    },
    {
     "name": "stdout",
     "output_type": "stream",
     "text": [
      "torch.Size([3, 270, 480])\n",
      "torch.Size([3, 270, 480]) (48,)\n",
      "torch.Size([3, 270, 480])\n",
      "torch.Size([3, 270, 480]) (48,)\n",
      "torch.Size([3, 270, 480])\n",
      "torch.Size([3, 270, 480]) (48,)\n",
      "torch.Size([3, 270, 480])\n",
      "torch.Size([3, 270, 480]) (48,)\n"
     ]
    },
    {
     "name": "stderr",
     "output_type": "stream",
     "text": [
      "Valid Epoch 0:  23%|█████████                              | 97/420 [00:10<00:35,  8.98batch/s, valid_loss=-1.88e+4]"
     ]
    },
    {
     "name": "stdout",
     "output_type": "stream",
     "text": [
      "torch.Size([3, 270, 480])\n",
      "torch.Size([3, 270, 480]) (48,)\n",
      "torch.Size([3, 270, 480])\n",
      "torch.Size([3, 270, 480]) (48,)\n",
      "torch.Size([3, 270, 480])\n",
      "torch.Size([3, 270, 480]) (48,)\n",
      "torch.Size([3, 270, 480])\n",
      "torch.Size([3, 270, 480]) (48,)\n"
     ]
    },
    {
     "name": "stderr",
     "output_type": "stream",
     "text": [
      "Valid Epoch 0:  24%|█████████▏                             | 99/420 [00:11<00:35,  9.09batch/s, valid_loss=-1.87e+4]"
     ]
    },
    {
     "name": "stdout",
     "output_type": "stream",
     "text": [
      "torch.Size([3, 270, 480])\n",
      "torch.Size([3, 270, 480]) (48,)\n",
      "torch.Size([3, 270, 480])\n",
      "torch.Size([3, 270, 480]) (48,)\n",
      "torch.Size([3, 270, 480])\n",
      "torch.Size([3, 270, 480]) (48,)\n",
      "torch.Size([3, 270, 480])\n",
      "torch.Size([3, 270, 480]) (48,)\n"
     ]
    },
    {
     "name": "stderr",
     "output_type": "stream",
     "text": [
      "Valid Epoch 0:  24%|█████████▏                            | 101/420 [00:11<00:35,  9.00batch/s, valid_loss=-1.89e+4]"
     ]
    },
    {
     "name": "stdout",
     "output_type": "stream",
     "text": [
      "torch.Size([3, 270, 480])\n",
      "torch.Size([3, 270, 480]) (48,)\n",
      "torch.Size([3, 270, 480])\n",
      "torch.Size([3, 270, 480]) (48,)\n",
      "torch.Size([3, 270, 480])\n",
      "torch.Size([3, 270, 480]) (48,)\n",
      "torch.Size([3, 270, 480])\n",
      "torch.Size([3, 270, 480]) (48,)\n"
     ]
    },
    {
     "name": "stderr",
     "output_type": "stream",
     "text": [
      "Valid Epoch 0:  25%|█████████▎                            | 103/420 [00:11<00:34,  9.32batch/s, valid_loss=-1.67e+4]"
     ]
    },
    {
     "name": "stdout",
     "output_type": "stream",
     "text": [
      "torch.Size([3, 270, 480])\n",
      "torch.Size([3, 270, 480]) (48,)\n",
      "torch.Size([3, 270, 480])\n",
      "torch.Size([3, 270, 480]) (48,)\n",
      "torch.Size([3, 270, 480])\n",
      "torch.Size([3, 270, 480]) (48,)\n",
      "torch.Size([3, 270, 480])\n",
      "torch.Size([3, 270, 480]) (48,)\n"
     ]
    },
    {
     "name": "stderr",
     "output_type": "stream",
     "text": [
      "Valid Epoch 0:  25%|█████████▌                            | 105/420 [00:11<00:34,  9.19batch/s, valid_loss=-1.79e+4]"
     ]
    },
    {
     "name": "stdout",
     "output_type": "stream",
     "text": [
      "torch.Size([3, 270, 480])\n",
      "torch.Size([3, 270, 480]) (48,)\n",
      "torch.Size([3, 270, 480])\n",
      "torch.Size([3, 270, 480]) (48,)\n",
      "torch.Size([3, 270, 480])\n",
      "torch.Size([3, 270, 480]) (48,)\n",
      "torch.Size([3, 270, 480])\n",
      "torch.Size([3, 270, 480]) (48,)\n"
     ]
    },
    {
     "name": "stderr",
     "output_type": "stream",
     "text": [
      "Valid Epoch 0:  25%|█████████▋                            | 107/420 [00:11<00:33,  9.26batch/s, valid_loss=-2.05e+4]"
     ]
    },
    {
     "name": "stdout",
     "output_type": "stream",
     "text": [
      "torch.Size([3, 270, 480])\n",
      "torch.Size([3, 270, 480]) (48,)\n",
      "torch.Size([3, 270, 480])\n",
      "torch.Size([3, 270, 480]) (48,)\n",
      "torch.Size([3, 270, 480])\n",
      "torch.Size([3, 270, 480]) (48,)\n",
      "torch.Size([3, 270, 480])\n",
      "torch.Size([3, 270, 480]) (48,)\n"
     ]
    },
    {
     "name": "stderr",
     "output_type": "stream",
     "text": [
      "Valid Epoch 0:  26%|██████████▋                              | 109/420 [00:12<00:32,  9.49batch/s, valid_loss=-2e+4]"
     ]
    },
    {
     "name": "stdout",
     "output_type": "stream",
     "text": [
      "torch.Size([3, 270, 480])\n",
      "torch.Size([3, 270, 480]) (48,)\n",
      "torch.Size([3, 270, 480])\n",
      "torch.Size([3, 270, 480]) (48,)\n",
      "torch.Size([3, 270, 480])\n",
      "torch.Size([3, 270, 480]) (48,)\n",
      "torch.Size([3, 270, 480])\n",
      "torch.Size([3, 270, 480]) (48,)\n"
     ]
    },
    {
     "name": "stderr",
     "output_type": "stream",
     "text": [
      "Valid Epoch 0:  27%|██████████▏                           | 112/420 [00:12<00:32,  9.53batch/s, valid_loss=-1.62e+4]"
     ]
    },
    {
     "name": "stdout",
     "output_type": "stream",
     "text": [
      "torch.Size([3, 270, 480])\n",
      "torch.Size([3, 270, 480]) (48,)\n",
      "torch.Size([3, 270, 480])\n",
      "torch.Size([3, 270, 480]) (48,)\n",
      "torch.Size([3, 270, 480])\n",
      "torch.Size([3, 270, 480]) (48,)\n",
      "torch.Size([3, 270, 480])\n",
      "torch.Size([3, 270, 480]) (48,)\n",
      "torch.Size([3, 270, 480])"
     ]
    },
    {
     "name": "stderr",
     "output_type": "stream",
     "text": [
      "Valid Epoch 0:  27%|██████████▏                           | 113/420 [00:12<00:32,  9.51batch/s, valid_loss=-1.74e+4]"
     ]
    },
    {
     "name": "stdout",
     "output_type": "stream",
     "text": [
      "\n",
      "torch.Size([3, 270, 480]) (48,)\n",
      "torch.Size([3, 270, 480])\n",
      "torch.Size([3, 270, 480]) (48,)\n",
      "torch.Size([3, 270, 480])\n",
      "torch.Size([3, 270, 480]) (48,)\n",
      "torch.Size([3, 270, 480])\n",
      "torch.Size([3, 270, 480]) (48,)\n"
     ]
    },
    {
     "name": "stderr",
     "output_type": "stream",
     "text": [
      "Valid Epoch 0:  27%|██████████▍                           | 115/420 [00:12<00:32,  9.41batch/s, valid_loss=-1.73e+4]"
     ]
    },
    {
     "name": "stdout",
     "output_type": "stream",
     "text": [
      "torch.Size([3, 270, 480])\n",
      "torch.Size([3, 270, 480]) (48,)\n",
      "torch.Size([3, 270, 480])\n",
      "torch.Size([3, 270, 480]) (48,)\n",
      "torch.Size([3, 270, 480])\n",
      "torch.Size([3, 270, 480]) (48,)\n",
      "torch.Size([3, 270, 480])\n",
      "torch.Size([3, 270, 480]) (48,)\n"
     ]
    },
    {
     "name": "stderr",
     "output_type": "stream",
     "text": [
      "Valid Epoch 0:  28%|██████████▌                           | 117/420 [00:13<00:32,  9.42batch/s, valid_loss=-1.85e+4]"
     ]
    },
    {
     "name": "stdout",
     "output_type": "stream",
     "text": [
      "torch.Size([3, 270, 480])\n",
      "torch.Size([3, 270, 480]) (48,)\n",
      "torch.Size([3, 270, 480])\n",
      "torch.Size([3, 270, 480]) (48,)\n",
      "torch.Size([3, 270, 480])\n",
      "torch.Size([3, 270, 480]) (48,)\n",
      "torch.Size([3, 270, 480])\n",
      "torch.Size([3, 270, 480]) (48,)\n"
     ]
    },
    {
     "name": "stderr",
     "output_type": "stream",
     "text": [
      "Valid Epoch 0:  28%|██████████▊                           | 119/420 [00:13<00:32,  9.29batch/s, valid_loss=-1.78e+4]"
     ]
    },
    {
     "name": "stdout",
     "output_type": "stream",
     "text": [
      "torch.Size([3, 270, 480])\n",
      "torch.Size([3, 270, 480]) (48,)\n",
      "torch.Size([3, 270, 480])\n",
      "torch.Size([3, 270, 480]) (48,)\n",
      "torch.Size([3, 270, 480])\n",
      "torch.Size([3, 270, 480]) (48,)\n",
      "torch.Size([3, 270, 480])\n",
      "torch.Size([3, 270, 480]) (48,)\n"
     ]
    },
    {
     "name": "stderr",
     "output_type": "stream",
     "text": [
      "Valid Epoch 0:  29%|██████████▉                           | 121/420 [00:13<00:33,  8.98batch/s, valid_loss=-1.64e+4]"
     ]
    },
    {
     "name": "stdout",
     "output_type": "stream",
     "text": [
      "torch.Size([3, 270, 480])\n",
      "torch.Size([3, 270, 480]) (48,)\n",
      "torch.Size([3, 270, 480])\n",
      "torch.Size([3, 270, 480]) (48,)\n",
      "torch.Size([3, 270, 480])\n",
      "torch.Size([3, 270, 480]) (48,)\n",
      "torch.Size([3, 270, 480])\n",
      "torch.Size([3, 270, 480]) (48,)\n"
     ]
    },
    {
     "name": "stderr",
     "output_type": "stream",
     "text": [
      "Valid Epoch 0:  29%|███████████▏                          | 123/420 [00:13<00:32,  9.13batch/s, valid_loss=-1.75e+4]"
     ]
    },
    {
     "name": "stdout",
     "output_type": "stream",
     "text": [
      "torch.Size([3, 270, 480])\n",
      "torch.Size([3, 270, 480]) (48,)\n",
      "torch.Size([3, 270, 480])\n",
      "torch.Size([3, 270, 480]) (48,)\n",
      "torch.Size([3, 270, 480])\n",
      "torch.Size([3, 270, 480]) (48,)\n",
      "torch.Size([3, 270, 480])\n",
      "torch.Size([3, 270, 480]) (48,)\n"
     ]
    },
    {
     "name": "stderr",
     "output_type": "stream",
     "text": [
      "Valid Epoch 0:  30%|███████████▎                          | 125/420 [00:13<00:31,  9.27batch/s, valid_loss=-1.73e+4]"
     ]
    },
    {
     "name": "stdout",
     "output_type": "stream",
     "text": [
      "torch.Size([3, 270, 480])\n",
      "torch.Size([3, 270, 480]) (48,)\n",
      "torch.Size([3, 270, 480])\n",
      "torch.Size([3, 270, 480]) (48,)\n",
      "torch.Size([3, 270, 480])\n",
      "torch.Size([3, 270, 480]) (48,)\n",
      "torch.Size([3, 270, 480])\n",
      "torch.Size([3, 270, 480]) (48,)\n",
      "torch.Size([3, 270, 480])"
     ]
    },
    {
     "name": "stderr",
     "output_type": "stream",
     "text": [
      "Valid Epoch 0:  30%|███████████▌                          | 128/420 [00:14<00:30,  9.73batch/s, valid_loss=-1.88e+4]"
     ]
    },
    {
     "name": "stdout",
     "output_type": "stream",
     "text": [
      "\n",
      "torch.Size([3, 270, 480]) (48,)\n",
      "torch.Size([3, 270, 480])\n",
      "torch.Size([3, 270, 480]) (48,)\n",
      "torch.Size([3, 270, 480])\n",
      "torch.Size([3, 270, 480]) (48,)\n",
      "torch.Size([3, 270, 480])\n",
      "torch.Size([3, 270, 480]) (48,)\n",
      "torch.Size([3, 270, 480])"
     ]
    },
    {
     "name": "stderr",
     "output_type": "stream",
     "text": [
      "Valid Epoch 0:  31%|███████████▋                          | 129/420 [00:14<00:30,  9.56batch/s, valid_loss=-1.97e+4]"
     ]
    },
    {
     "name": "stdout",
     "output_type": "stream",
     "text": [
      "\n",
      "torch.Size([3, 270, 480]) (48,)\n",
      "torch.Size([3, 270, 480])\n",
      "torch.Size([3, 270, 480]) (48,)\n",
      "torch.Size([3, 270, 480])\n",
      "torch.Size([3, 270, 480]) (48,)\n",
      "torch.Size([3, 270, 480])\n",
      "torch.Size([3, 270, 480]) (48,)\n"
     ]
    },
    {
     "name": "stderr",
     "output_type": "stream",
     "text": [
      "Valid Epoch 0:  31%|███████████▊                          | 131/420 [00:14<00:31,  9.27batch/s, valid_loss=-2.01e+4]"
     ]
    },
    {
     "name": "stdout",
     "output_type": "stream",
     "text": [
      "torch.Size([3, 270, 480])\n",
      "torch.Size([3, 270, 480]) (48,)\n",
      "torch.Size([3, 270, 480])\n",
      "torch.Size([3, 270, 480]) (48,)\n",
      "torch.Size([3, 270, 480])\n",
      "torch.Size([3, 270, 480]) (48,)\n",
      "torch.Size([3, 270, 480])\n",
      "torch.Size([3, 270, 480]) (48,)\n"
     ]
    },
    {
     "name": "stderr",
     "output_type": "stream",
     "text": [
      "Valid Epoch 0:  32%|████████████                          | 133/420 [00:14<00:31,  9.16batch/s, valid_loss=-1.92e+4]"
     ]
    },
    {
     "name": "stdout",
     "output_type": "stream",
     "text": [
      "torch.Size([3, 270, 480])\n",
      "torch.Size([3, 270, 480]) (48,)\n",
      "torch.Size([3, 270, 480])\n",
      "torch.Size([3, 270, 480]) (48,)\n",
      "torch.Size([3, 270, 480])\n",
      "torch.Size([3, 270, 480]) (48,)\n",
      "torch.Size([3, 270, 480])\n",
      "torch.Size([3, 270, 480]) (48,)\n"
     ]
    },
    {
     "name": "stderr",
     "output_type": "stream",
     "text": [
      "Valid Epoch 0:  32%|████████████▏                         | 135/420 [00:14<00:31,  8.97batch/s, valid_loss=-1.84e+4]"
     ]
    },
    {
     "name": "stdout",
     "output_type": "stream",
     "text": [
      "torch.Size([3, 270, 480])\n",
      "torch.Size([3, 270, 480]) (48,)\n",
      "torch.Size([3, 270, 480])\n",
      "torch.Size([3, 270, 480]) (48,)\n",
      "torch.Size([3, 270, 480])\n",
      "torch.Size([3, 270, 480]) (48,)\n",
      "torch.Size([3, 270, 480])\n",
      "torch.Size([3, 270, 480]) (48,)\n"
     ]
    },
    {
     "name": "stderr",
     "output_type": "stream",
     "text": [
      "Valid Epoch 0:  33%|████████████▍                         | 137/420 [00:15<00:31,  9.09batch/s, valid_loss=-1.58e+4]"
     ]
    },
    {
     "name": "stdout",
     "output_type": "stream",
     "text": [
      "torch.Size([3, 270, 480])\n",
      "torch.Size([3, 270, 480]) (48,)\n",
      "torch.Size([3, 270, 480])\n",
      "torch.Size([3, 270, 480]) (48,)\n",
      "torch.Size([3, 270, 480])\n",
      "torch.Size([3, 270, 480]) (48,)\n",
      "torch.Size([3, 270, 480])\n",
      "torch.Size([3, 270, 480]) (48,)\n"
     ]
    },
    {
     "name": "stderr",
     "output_type": "stream",
     "text": [
      "Valid Epoch 0:  33%|████████████▌                         | 139/420 [00:15<00:31,  9.01batch/s, valid_loss=-1.77e+4]"
     ]
    },
    {
     "name": "stdout",
     "output_type": "stream",
     "text": [
      "torch.Size([3, 270, 480])\n",
      "torch.Size([3, 270, 480]) (48,)\n",
      "torch.Size([3, 270, 480])\n",
      "torch.Size([3, 270, 480]) (48,)\n",
      "torch.Size([3, 270, 480])\n",
      "torch.Size([3, 270, 480]) (48,)\n",
      "torch.Size([3, 270, 480])\n",
      "torch.Size([3, 270, 480]) (48,)\n"
     ]
    },
    {
     "name": "stderr",
     "output_type": "stream",
     "text": [
      "Valid Epoch 0:  34%|████████████▊                         | 141/420 [00:15<00:31,  8.99batch/s, valid_loss=-2.02e+4]"
     ]
    },
    {
     "name": "stdout",
     "output_type": "stream",
     "text": [
      "torch.Size([3, 270, 480])\n",
      "torch.Size([3, 270, 480]) (48,)\n",
      "torch.Size([3, 270, 480])\n",
      "torch.Size([3, 270, 480]) (48,)\n",
      "torch.Size([3, 270, 480])\n",
      "torch.Size([3, 270, 480]) (48,)\n",
      "torch.Size([3, 270, 480])\n",
      "torch.Size([3, 270, 480]) (48,)\n"
     ]
    },
    {
     "name": "stderr",
     "output_type": "stream",
     "text": [
      "Valid Epoch 0:  34%|████████████▉                         | 143/420 [00:15<00:30,  8.98batch/s, valid_loss=-1.89e+4]"
     ]
    },
    {
     "name": "stdout",
     "output_type": "stream",
     "text": [
      "torch.Size([3, 270, 480])\n",
      "torch.Size([3, 270, 480]) (48,)\n",
      "torch.Size([3, 270, 480])\n",
      "torch.Size([3, 270, 480]) (48,)\n",
      "torch.Size([3, 270, 480])\n",
      "torch.Size([3, 270, 480]) (48,)\n",
      "torch.Size([3, 270, 480])\n",
      "torch.Size([3, 270, 480]) (48,)\n"
     ]
    },
    {
     "name": "stderr",
     "output_type": "stream",
     "text": [
      "Valid Epoch 0:  35%|█████████████                         | 145/420 [00:16<00:30,  9.04batch/s, valid_loss=-1.82e+4]"
     ]
    },
    {
     "name": "stdout",
     "output_type": "stream",
     "text": [
      "torch.Size([3, 270, 480])\n",
      "torch.Size([3, 270, 480]) (48,)\n",
      "torch.Size([3, 270, 480])\n",
      "torch.Size([3, 270, 480]) (48,)\n",
      "torch.Size([3, 270, 480])\n",
      "torch.Size([3, 270, 480]) (48,)\n",
      "torch.Size([3, 270, 480])\n",
      "torch.Size([3, 270, 480]) (48,)\n"
     ]
    },
    {
     "name": "stderr",
     "output_type": "stream",
     "text": [
      "Valid Epoch 0:  35%|█████████████▎                        | 147/420 [00:16<00:29,  9.37batch/s, valid_loss=-1.66e+4]"
     ]
    },
    {
     "name": "stdout",
     "output_type": "stream",
     "text": [
      "torch.Size([3, 270, 480])\n",
      "torch.Size([3, 270, 480]) (48,)\n",
      "torch.Size([3, 270, 480])\n",
      "torch.Size([3, 270, 480]) (48,)\n",
      "torch.Size([3, 270, 480])\n",
      "torch.Size([3, 270, 480]) (48,)\n",
      "torch.Size([3, 270, 480])\n",
      "torch.Size([3, 270, 480]) (48,)\n"
     ]
    },
    {
     "name": "stderr",
     "output_type": "stream",
     "text": [
      "Valid Epoch 0:  35%|█████████████▊                         | 149/420 [00:16<00:28,  9.36batch/s, valid_loss=-1.9e+4]"
     ]
    },
    {
     "name": "stdout",
     "output_type": "stream",
     "text": [
      "torch.Size([3, 270, 480])\n",
      "torch.Size([3, 270, 480]) (48,)\n",
      "torch.Size([3, 270, 480])\n",
      "torch.Size([3, 270, 480]) (48,)\n",
      "torch.Size([3, 270, 480])\n",
      "torch.Size([3, 270, 480]) (48,)\n",
      "torch.Size([3, 270, 480])\n",
      "torch.Size([3, 270, 480]) (48,)\n"
     ]
    },
    {
     "name": "stderr",
     "output_type": "stream",
     "text": [
      "Valid Epoch 0:  36%|█████████████▋                        | 151/420 [00:16<00:28,  9.32batch/s, valid_loss=-1.86e+4]"
     ]
    },
    {
     "name": "stdout",
     "output_type": "stream",
     "text": [
      "torch.Size([3, 270, 480])\n",
      "torch.Size([3, 270, 480]) (48,)\n",
      "torch.Size([3, 270, 480])\n",
      "torch.Size([3, 270, 480]) (48,)\n",
      "torch.Size([3, 270, 480])\n",
      "torch.Size([3, 270, 480]) (48,)\n",
      "torch.Size([3, 270, 480])\n",
      "torch.Size([3, 270, 480]) (48,)\n"
     ]
    },
    {
     "name": "stderr",
     "output_type": "stream",
     "text": [
      "Valid Epoch 0:  36%|█████████████▊                        | 153/420 [00:16<00:28,  9.24batch/s, valid_loss=-1.78e+4]"
     ]
    },
    {
     "name": "stdout",
     "output_type": "stream",
     "text": [
      "torch.Size([3, 270, 480])\n",
      "torch.Size([3, 270, 480]) (48,)\n",
      "torch.Size([3, 270, 480])\n",
      "torch.Size([3, 270, 480]) (48,)\n",
      "torch.Size([3, 270, 480])\n",
      "torch.Size([3, 270, 480]) (48,)\n",
      "torch.Size([3, 270, 480])\n",
      "torch.Size([3, 270, 480]) (48,)\n"
     ]
    },
    {
     "name": "stderr",
     "output_type": "stream",
     "text": [
      "Valid Epoch 0:  37%|██████████████                        | 155/420 [00:17<00:28,  9.31batch/s, valid_loss=-1.77e+4]"
     ]
    },
    {
     "name": "stdout",
     "output_type": "stream",
     "text": [
      "torch.Size([3, 270, 480])\n",
      "torch.Size([3, 270, 480]) (48,)\n",
      "torch.Size([3, 270, 480])\n",
      "torch.Size([3, 270, 480]) (48,)\n",
      "torch.Size([3, 270, 480])\n",
      "torch.Size([3, 270, 480]) (48,)\n",
      "torch.Size([3, 270, 480])\n",
      "torch.Size([3, 270, 480]) (48,)\n"
     ]
    },
    {
     "name": "stderr",
     "output_type": "stream",
     "text": [
      "Valid Epoch 0:  37%|██████████████▏                       | 157/420 [00:17<00:28,  9.27batch/s, valid_loss=-2.07e+4]"
     ]
    },
    {
     "name": "stdout",
     "output_type": "stream",
     "text": [
      "torch.Size([3, 270, 480])\n",
      "torch.Size([3, 270, 480]) (48,)\n",
      "torch.Size([3, 270, 480])\n",
      "torch.Size([3, 270, 480]) (48,)\n",
      "torch.Size([3, 270, 480])\n",
      "torch.Size([3, 270, 480]) (48,)\n",
      "torch.Size([3, 270, 480])\n",
      "torch.Size([3, 270, 480]) (48,)\n"
     ]
    },
    {
     "name": "stderr",
     "output_type": "stream",
     "text": [
      "Valid Epoch 0:  38%|██████████████▍                       | 159/420 [00:17<00:27,  9.40batch/s, valid_loss=-2.03e+4]"
     ]
    },
    {
     "name": "stdout",
     "output_type": "stream",
     "text": [
      "torch.Size([3, 270, 480])\n",
      "torch.Size([3, 270, 480]) (48,)\n",
      "torch.Size([3, 270, 480])\n",
      "torch.Size([3, 270, 480]) (48,)\n",
      "torch.Size([3, 270, 480])\n",
      "torch.Size([3, 270, 480]) (48,)\n",
      "torch.Size([3, 270, 480])\n",
      "torch.Size([3, 270, 480]) (48,)\n"
     ]
    },
    {
     "name": "stderr",
     "output_type": "stream",
     "text": [
      "Valid Epoch 0:  38%|██████████████▌                       | 161/420 [00:17<00:27,  9.38batch/s, valid_loss=-1.93e+4]"
     ]
    },
    {
     "name": "stdout",
     "output_type": "stream",
     "text": [
      "torch.Size([3, 270, 480])\n",
      "torch.Size([3, 270, 480]) (48,)\n",
      "torch.Size([3, 270, 480])\n",
      "torch.Size([3, 270, 480]) (48,)\n",
      "torch.Size([3, 270, 480])\n",
      "torch.Size([3, 270, 480]) (48,)\n",
      "torch.Size([3, 270, 480])\n",
      "torch.Size([3, 270, 480]) (48,)\n"
     ]
    },
    {
     "name": "stderr",
     "output_type": "stream",
     "text": [
      "Valid Epoch 0:  39%|██████████████▋                       | 163/420 [00:18<00:26,  9.56batch/s, valid_loss=-1.67e+4]"
     ]
    },
    {
     "name": "stdout",
     "output_type": "stream",
     "text": [
      "torch.Size([3, 270, 480])\n",
      "torch.Size([3, 270, 480]) (48,)\n",
      "torch.Size([3, 270, 480])\n",
      "torch.Size([3, 270, 480]) (48,)\n",
      "torch.Size([3, 270, 480])\n",
      "torch.Size([3, 270, 480]) (48,)\n",
      "torch.Size([3, 270, 480])\n",
      "torch.Size([3, 270, 480]) (48,)\n",
      "torch.Size([3, 270, 480])"
     ]
    },
    {
     "name": "stderr",
     "output_type": "stream",
     "text": [
      "Valid Epoch 0:  39%|███████████████▎                       | 165/420 [00:18<00:26,  9.49batch/s, valid_loss=-1.7e+4]"
     ]
    },
    {
     "name": "stdout",
     "output_type": "stream",
     "text": [
      "\n",
      "torch.Size([3, 270, 480]) (48,)\n",
      "torch.Size([3, 270, 480])\n",
      "torch.Size([3, 270, 480]) (48,)\n",
      "torch.Size([3, 270, 480])\n",
      "torch.Size([3, 270, 480]) (48,)\n",
      "torch.Size([3, 270, 480])\n",
      "torch.Size([3, 270, 480]) (48,)\n"
     ]
    },
    {
     "name": "stderr",
     "output_type": "stream",
     "text": [
      "Valid Epoch 0:  40%|███████████████                       | 167/420 [00:18<00:27,  9.21batch/s, valid_loss=-2.02e+4]"
     ]
    },
    {
     "name": "stdout",
     "output_type": "stream",
     "text": [
      "torch.Size([3, 270, 480])\n",
      "torch.Size([3, 270, 480]) (48,)\n",
      "torch.Size([3, 270, 480])\n",
      "torch.Size([3, 270, 480]) (48,)\n",
      "torch.Size([3, 270, 480])\n",
      "torch.Size([3, 270, 480]) (48,)\n",
      "torch.Size([3, 270, 480])\n",
      "torch.Size([3, 270, 480]) (48,)\n"
     ]
    },
    {
     "name": "stderr",
     "output_type": "stream",
     "text": [
      "Valid Epoch 0:  40%|███████████████▎                      | 169/420 [00:18<00:27,  9.17batch/s, valid_loss=-2.04e+4]"
     ]
    },
    {
     "name": "stdout",
     "output_type": "stream",
     "text": [
      "torch.Size([3, 270, 480])\n",
      "torch.Size([3, 270, 480]) (48,)\n",
      "torch.Size([3, 270, 480])\n",
      "torch.Size([3, 270, 480]) (48,)\n",
      "torch.Size([3, 270, 480])\n",
      "torch.Size([3, 270, 480]) (48,)\n",
      "torch.Size([3, 270, 480])\n",
      "torch.Size([3, 270, 480]) (48,)\n"
     ]
    },
    {
     "name": "stderr",
     "output_type": "stream",
     "text": [
      "Valid Epoch 0:  41%|███████████████▍                      | 171/420 [00:18<00:27,  8.92batch/s, valid_loss=-1.83e+4]"
     ]
    },
    {
     "name": "stdout",
     "output_type": "stream",
     "text": [
      "torch.Size([3, 270, 480])\n",
      "torch.Size([3, 270, 480]) (48,)\n",
      "torch.Size([3, 270, 480])\n",
      "torch.Size([3, 270, 480]) (48,)\n",
      "torch.Size([3, 270, 480])\n",
      "torch.Size([3, 270, 480]) (48,)\n",
      "torch.Size([3, 270, 480])\n",
      "torch.Size([3, 270, 480]) (48,)\n"
     ]
    },
    {
     "name": "stderr",
     "output_type": "stream",
     "text": [
      "Valid Epoch 0:  41%|███████████████▋                      | 173/420 [00:19<00:27,  8.90batch/s, valid_loss=-2.13e+4]"
     ]
    },
    {
     "name": "stdout",
     "output_type": "stream",
     "text": [
      "torch.Size([3, 270, 480])\n",
      "torch.Size([3, 270, 480]) (48,)\n",
      "torch.Size([3, 270, 480])\n",
      "torch.Size([3, 270, 480]) (48,)\n",
      "torch.Size([3, 270, 480])\n",
      "torch.Size([3, 270, 480]) (48,)\n",
      "torch.Size([3, 270, 480])\n",
      "torch.Size([3, 270, 480]) (48,)\n"
     ]
    },
    {
     "name": "stderr",
     "output_type": "stream",
     "text": [
      "Valid Epoch 0:  42%|███████████████▊                      | 175/420 [00:19<00:26,  9.22batch/s, valid_loss=-2.02e+4]"
     ]
    },
    {
     "name": "stdout",
     "output_type": "stream",
     "text": [
      "torch.Size([3, 270, 480])\n",
      "torch.Size([3, 270, 480]) (48,)\n",
      "torch.Size([3, 270, 480])\n",
      "torch.Size([3, 270, 480]) (48,)\n",
      "torch.Size([3, 270, 480])\n",
      "torch.Size([3, 270, 480]) (48,)\n",
      "torch.Size([3, 270, 480])\n",
      "torch.Size([3, 270, 480]) (48,)\n"
     ]
    },
    {
     "name": "stderr",
     "output_type": "stream",
     "text": [
      "Valid Epoch 0:  42%|████████████████▍                      | 177/420 [00:19<00:26,  9.28batch/s, valid_loss=-1.9e+4]"
     ]
    },
    {
     "name": "stdout",
     "output_type": "stream",
     "text": [
      "torch.Size([3, 270, 480])\n",
      "torch.Size([3, 270, 480]) (48,)\n",
      "torch.Size([3, 270, 480])\n",
      "torch.Size([3, 270, 480]) (48,)\n",
      "torch.Size([3, 270, 480])\n",
      "torch.Size([3, 270, 480]) (48,)\n",
      "torch.Size([3, 270, 480])\n",
      "torch.Size([3, 270, 480]) (48,)\n"
     ]
    },
    {
     "name": "stderr",
     "output_type": "stream",
     "text": [
      "Valid Epoch 0:  43%|████████████████▎                     | 180/420 [00:19<00:25,  9.39batch/s, valid_loss=-1.82e+4]"
     ]
    },
    {
     "name": "stdout",
     "output_type": "stream",
     "text": [
      "torch.Size([3, 270, 480])\n",
      "torch.Size([3, 270, 480]) (48,)\n",
      "torch.Size([3, 270, 480])\n",
      "torch.Size([3, 270, 480]) (48,)\n",
      "torch.Size([3, 270, 480])\n",
      "torch.Size([3, 270, 480]) (48,)\n",
      "torch.Size([3, 270, 480])\n",
      "torch.Size([3, 270, 480]) (48,)\n"
     ]
    },
    {
     "name": "stderr",
     "output_type": "stream",
     "text": [
      "Valid Epoch 0:  43%|████████████████▍                     | 181/420 [00:19<00:25,  9.49batch/s, valid_loss=-2.04e+4]"
     ]
    },
    {
     "name": "stdout",
     "output_type": "stream",
     "text": [
      "torch.Size([3, 270, 480])\n",
      "torch.Size([3, 270, 480]) (48,)\n",
      "torch.Size([3, 270, 480])\n",
      "torch.Size([3, 270, 480]) (48,)\n",
      "torch.Size([3, 270, 480])\n",
      "torch.Size([3, 270, 480]) (48,)\n",
      "torch.Size([3, 270, 480])\n",
      "torch.Size([3, 270, 480]) (48,)\n"
     ]
    },
    {
     "name": "stderr",
     "output_type": "stream",
     "text": [
      "Valid Epoch 0:  43%|████████████████▍                     | 182/420 [00:20<00:24,  9.59batch/s, valid_loss=-1.92e+4]"
     ]
    },
    {
     "name": "stdout",
     "output_type": "stream",
     "text": [
      "torch.Size([3, 270, 480])\n",
      "torch.Size([3, 270, 480]) (48,)\n",
      "torch.Size([3, 270, 480])\n",
      "torch.Size([3, 270, 480]) (48,)\n",
      "torch.Size([3, 270, 480])\n",
      "torch.Size([3, 270, 480]) (48,)\n",
      "torch.Size([3, 270, 480])\n",
      "torch.Size([3, 270, 480]) (48,)\n"
     ]
    },
    {
     "name": "stderr",
     "output_type": "stream",
     "text": [
      "Valid Epoch 0:  44%|████████████████▋                     | 185/420 [00:20<00:24,  9.69batch/s, valid_loss=-1.77e+4]"
     ]
    },
    {
     "name": "stdout",
     "output_type": "stream",
     "text": [
      "torch.Size([3, 270, 480])\n",
      "torch.Size([3, 270, 480]) (48,)\n",
      "torch.Size([3, 270, 480])\n",
      "torch.Size([3, 270, 480]) (48,)\n",
      "torch.Size([3, 270, 480])\n",
      "torch.Size([3, 270, 480]) (48,)\n",
      "torch.Size([3, 270, 480])\n",
      "torch.Size([3, 270, 480]) (48,)\n"
     ]
    },
    {
     "name": "stderr",
     "output_type": "stream",
     "text": [
      "Valid Epoch 0:  45%|████████████████▉                     | 187/420 [00:20<00:24,  9.48batch/s, valid_loss=-2.03e+4]"
     ]
    },
    {
     "name": "stdout",
     "output_type": "stream",
     "text": [
      "torch.Size([3, 270, 480])\n",
      "torch.Size([3, 270, 480]) (48,)\n",
      "torch.Size([3, 270, 480])\n",
      "torch.Size([3, 270, 480]) (48,)\n",
      "torch.Size([3, 270, 480])\n",
      "torch.Size([3, 270, 480]) (48,)\n",
      "torch.Size([3, 270, 480])\n",
      "torch.Size([3, 270, 480]) (48,)\n"
     ]
    },
    {
     "name": "stderr",
     "output_type": "stream",
     "text": [
      "Valid Epoch 0:  45%|██████████████████▍                      | 189/420 [00:20<00:24,  9.57batch/s, valid_loss=-2e+4]"
     ]
    },
    {
     "name": "stdout",
     "output_type": "stream",
     "text": [
      "torch.Size([3, 270, 480])\n",
      "torch.Size([3, 270, 480]) (48,)\n",
      "torch.Size([3, 270, 480])\n",
      "torch.Size([3, 270, 480]) (48,)\n",
      "torch.Size([3, 270, 480])\n",
      "torch.Size([3, 270, 480]) (48,)\n",
      "torch.Size([3, 270, 480])\n",
      "torch.Size([3, 270, 480]) (48,)\n"
     ]
    },
    {
     "name": "stderr",
     "output_type": "stream",
     "text": [
      "Valid Epoch 0:  45%|█████████████████▎                    | 191/420 [00:20<00:23,  9.60batch/s, valid_loss=-1.91e+4]"
     ]
    },
    {
     "name": "stdout",
     "output_type": "stream",
     "text": [
      "torch.Size([3, 270, 480])\n",
      "torch.Size([3, 270, 480]) (48,)\n",
      "torch.Size([3, 270, 480])\n",
      "torch.Size([3, 270, 480]) (48,)\n",
      "torch.Size([3, 270, 480])\n",
      "torch.Size([3, 270, 480]) (48,)\n",
      "torch.Size([3, 270, 480])\n",
      "torch.Size([3, 270, 480]) (48,)\n"
     ]
    },
    {
     "name": "stderr",
     "output_type": "stream",
     "text": [
      "Valid Epoch 0:  46%|██████████████████▊                      | 193/420 [00:21<00:23,  9.48batch/s, valid_loss=-2e+4]"
     ]
    },
    {
     "name": "stdout",
     "output_type": "stream",
     "text": [
      "torch.Size([3, 270, 480])\n",
      "torch.Size([3, 270, 480]) (48,)\n",
      "torch.Size([3, 270, 480])\n",
      "torch.Size([3, 270, 480]) (48,)\n",
      "torch.Size([3, 270, 480])\n",
      "torch.Size([3, 270, 480]) (48,)\n",
      "torch.Size([3, 270, 480])\n",
      "torch.Size([3, 270, 480]) (48,)\n"
     ]
    },
    {
     "name": "stderr",
     "output_type": "stream",
     "text": [
      "Valid Epoch 0:  46%|█████████████████▋                    | 195/420 [00:21<00:24,  9.16batch/s, valid_loss=-1.98e+4]"
     ]
    },
    {
     "name": "stdout",
     "output_type": "stream",
     "text": [
      "torch.Size([3, 270, 480])\n",
      "torch.Size([3, 270, 480]) (48,)\n",
      "torch.Size([3, 270, 480])\n",
      "torch.Size([3, 270, 480]) (48,)\n",
      "torch.Size([3, 270, 480])\n",
      "torch.Size([3, 270, 480]) (48,)\n",
      "torch.Size([3, 270, 480])\n",
      "torch.Size([3, 270, 480]) (48,)\n"
     ]
    },
    {
     "name": "stderr",
     "output_type": "stream",
     "text": [
      "Valid Epoch 0:  47%|█████████████████▊                    | 197/420 [00:21<00:24,  9.19batch/s, valid_loss=-1.93e+4]"
     ]
    },
    {
     "name": "stdout",
     "output_type": "stream",
     "text": [
      "torch.Size([3, 270, 480])\n",
      "torch.Size([3, 270, 480]) (48,)\n",
      "torch.Size([3, 270, 480])\n",
      "torch.Size([3, 270, 480]) (48,)\n",
      "torch.Size([3, 270, 480])\n",
      "torch.Size([3, 270, 480]) (48,)\n",
      "torch.Size([3, 270, 480])\n",
      "torch.Size([3, 270, 480]) (48,)\n"
     ]
    },
    {
     "name": "stderr",
     "output_type": "stream",
     "text": [
      "Valid Epoch 0:  47%|██████████████████                    | 199/420 [00:21<00:24,  9.01batch/s, valid_loss=-1.91e+4]"
     ]
    },
    {
     "name": "stdout",
     "output_type": "stream",
     "text": [
      "torch.Size([3, 270, 480])\n",
      "torch.Size([3, 270, 480]) (48,)\n",
      "torch.Size([3, 270, 480])\n",
      "torch.Size([3, 270, 480]) (48,)\n",
      "torch.Size([3, 270, 480])\n",
      "torch.Size([3, 270, 480]) (48,)\n",
      "torch.Size([3, 270, 480])\n",
      "torch.Size([3, 270, 480]) (48,)\n"
     ]
    },
    {
     "name": "stderr",
     "output_type": "stream",
     "text": [
      "Valid Epoch 0:  48%|██████████████████▏                   | 201/420 [00:22<00:23,  9.28batch/s, valid_loss=-1.83e+4]"
     ]
    },
    {
     "name": "stdout",
     "output_type": "stream",
     "text": [
      "torch.Size([3, 270, 480])\n",
      "torch.Size([3, 270, 480]) (48,)\n",
      "torch.Size([3, 270, 480])\n",
      "torch.Size([3, 270, 480]) (48,)\n",
      "torch.Size([3, 270, 480])\n",
      "torch.Size([3, 270, 480]) (48,)\n",
      "torch.Size([3, 270, 480])\n",
      "torch.Size([3, 270, 480]) (48,)\n"
     ]
    },
    {
     "name": "stderr",
     "output_type": "stream",
     "text": [
      "Valid Epoch 0:  48%|██████████████████▎                   | 203/420 [00:22<00:23,  9.32batch/s, valid_loss=-19703.0]"
     ]
    },
    {
     "name": "stdout",
     "output_type": "stream",
     "text": [
      "torch.Size([3, 270, 480])\n",
      "torch.Size([3, 270, 480]) (48,)\n",
      "torch.Size([3, 270, 480])\n",
      "torch.Size([3, 270, 480]) (48,)\n",
      "torch.Size([3, 270, 480])\n",
      "torch.Size([3, 270, 480]) (48,)\n",
      "torch.Size([3, 270, 480])\n",
      "torch.Size([3, 270, 480]) (48,)\n"
     ]
    },
    {
     "name": "stderr",
     "output_type": "stream",
     "text": [
      "Valid Epoch 0:  49%|██████████████████▋                   | 206/420 [00:22<00:22,  9.49batch/s, valid_loss=-1.92e+4]"
     ]
    },
    {
     "name": "stdout",
     "output_type": "stream",
     "text": [
      "torch.Size([3, 270, 480])\n",
      "torch.Size([3, 270, 480]) (48,)\n",
      "torch.Size([3, 270, 480])\n",
      "torch.Size([3, 270, 480]) (48,)\n",
      "torch.Size([3, 270, 480])\n",
      "torch.Size([3, 270, 480]) (48,)\n",
      "torch.Size([3, 270, 480])\n",
      "torch.Size([3, 270, 480]) (48,)\n",
      "torch.Size([3, 270, 480])"
     ]
    },
    {
     "name": "stderr",
     "output_type": "stream",
     "text": [
      "Valid Epoch 0:  49%|██████████████████▋                   | 207/420 [00:22<00:22,  9.42batch/s, valid_loss=-1.82e+4]"
     ]
    },
    {
     "name": "stdout",
     "output_type": "stream",
     "text": [
      "\n",
      "torch.Size([3, 270, 480]) (48,)\n",
      "torch.Size([3, 270, 480])\n",
      "torch.Size([3, 270, 480]) (48,)\n",
      "torch.Size([3, 270, 480])\n",
      "torch.Size([3, 270, 480]) (48,)\n",
      "torch.Size([3, 270, 480])\n",
      "torch.Size([3, 270, 480]) (48,)\n"
     ]
    },
    {
     "name": "stderr",
     "output_type": "stream",
     "text": [
      "Valid Epoch 0:  50%|███████████████████▍                   | 209/420 [00:22<00:22,  9.33batch/s, valid_loss=-1.9e+4]"
     ]
    },
    {
     "name": "stdout",
     "output_type": "stream",
     "text": [
      "torch.Size([3, 270, 480])\n",
      "torch.Size([3, 270, 480]) (48,)\n",
      "torch.Size([3, 270, 480])\n",
      "torch.Size([3, 270, 480]) (48,)\n",
      "torch.Size([3, 270, 480])\n",
      "torch.Size([3, 270, 480]) (48,)\n",
      "torch.Size([3, 270, 480])\n",
      "torch.Size([3, 270, 480]) (48,)\n"
     ]
    },
    {
     "name": "stderr",
     "output_type": "stream",
     "text": [
      "Valid Epoch 0:  50%|███████████████████                   | 211/420 [00:23<00:22,  9.24batch/s, valid_loss=-1.91e+4]"
     ]
    },
    {
     "name": "stdout",
     "output_type": "stream",
     "text": [
      "torch.Size([3, 270, 480])\n",
      "torch.Size([3, 270, 480]) (48,)\n",
      "torch.Size([3, 270, 480])\n",
      "torch.Size([3, 270, 480]) (48,)\n",
      "torch.Size([3, 270, 480])\n",
      "torch.Size([3, 270, 480]) (48,)\n",
      "torch.Size([3, 270, 480])\n",
      "torch.Size([3, 270, 480]) (48,)\n"
     ]
    },
    {
     "name": "stderr",
     "output_type": "stream",
     "text": [
      "Valid Epoch 0:  51%|███████████████████▎                  | 213/420 [00:23<00:22,  9.23batch/s, valid_loss=-1.91e+4]"
     ]
    },
    {
     "name": "stdout",
     "output_type": "stream",
     "text": [
      "torch.Size([3, 270, 480])\n",
      "torch.Size([3, 270, 480]) (48,)\n",
      "torch.Size([3, 270, 480])\n",
      "torch.Size([3, 270, 480]) (48,)\n",
      "torch.Size([3, 270, 480])\n",
      "torch.Size([3, 270, 480]) (48,)\n",
      "torch.Size([3, 270, 480])\n",
      "torch.Size([3, 270, 480]) (48,)\n",
      "torch.Size([3, 270, 480])"
     ]
    },
    {
     "name": "stderr",
     "output_type": "stream",
     "text": [
      "Valid Epoch 0:  51%|███████████████████▍                  | 215/420 [00:23<00:21,  9.50batch/s, valid_loss=-1.88e+4]"
     ]
    },
    {
     "name": "stdout",
     "output_type": "stream",
     "text": [
      "\n",
      "torch.Size([3, 270, 480]) (48,)\n",
      "torch.Size([3, 270, 480])\n",
      "torch.Size([3, 270, 480]) (48,)\n",
      "torch.Size([3, 270, 480])\n",
      "torch.Size([3, 270, 480]) (48,)\n",
      "torch.Size([3, 270, 480])\n",
      "torch.Size([3, 270, 480]) (48,)\n"
     ]
    },
    {
     "name": "stderr",
     "output_type": "stream",
     "text": [
      "Valid Epoch 0:  52%|███████████████████▋                  | 217/420 [00:23<00:21,  9.50batch/s, valid_loss=-1.81e+4]"
     ]
    },
    {
     "name": "stdout",
     "output_type": "stream",
     "text": [
      "torch.Size([3, 270, 480])\n",
      "torch.Size([3, 270, 480]) (48,)\n",
      "torch.Size([3, 270, 480])\n",
      "torch.Size([3, 270, 480]) (48,)\n",
      "torch.Size([3, 270, 480])\n",
      "torch.Size([3, 270, 480]) (48,)\n",
      "torch.Size([3, 270, 480])\n",
      "torch.Size([3, 270, 480]) (48,)\n"
     ]
    },
    {
     "name": "stderr",
     "output_type": "stream",
     "text": [
      "Valid Epoch 0:  52%|███████████████████▉                  | 220/420 [00:24<00:20,  9.77batch/s, valid_loss=-1.78e+4]"
     ]
    },
    {
     "name": "stdout",
     "output_type": "stream",
     "text": [
      "torch.Size([3, 270, 480])\n",
      "torch.Size([3, 270, 480]) (48,)\n",
      "torch.Size([3, 270, 480])\n",
      "torch.Size([3, 270, 480]) (48,)\n",
      "torch.Size([3, 270, 480])\n",
      "torch.Size([3, 270, 480]) (48,)\n",
      "torch.Size([3, 270, 480])\n",
      "torch.Size([3, 270, 480]) (48,)\n",
      "torch.Size([3, 270, 480])"
     ]
    },
    {
     "name": "stderr",
     "output_type": "stream",
     "text": [
      "Valid Epoch 0:  52%|███████████████████▉                  | 220/420 [00:24<00:20,  9.77batch/s, valid_loss=-1.89e+4]"
     ]
    },
    {
     "name": "stdout",
     "output_type": "stream",
     "text": [
      "\n",
      "torch.Size([3, 270, 480]) (48,)\n",
      "torch.Size([3, 270, 480])\n",
      "torch.Size([3, 270, 480]) (48,)\n",
      "torch.Size([3, 270, 480])\n",
      "torch.Size([3, 270, 480]) (48,)\n",
      "torch.Size([3, 270, 480])\n",
      "torch.Size([3, 270, 480]) (48,)\n"
     ]
    },
    {
     "name": "stderr",
     "output_type": "stream",
     "text": [
      "Valid Epoch 0:  53%|████████████████████▎                 | 224/420 [00:24<00:20,  9.62batch/s, valid_loss=-1.82e+4]"
     ]
    },
    {
     "name": "stdout",
     "output_type": "stream",
     "text": [
      "torch.Size([3, 270, 480])\n",
      "torch.Size([3, 270, 480]) (48,)\n",
      "torch.Size([3, 270, 480])\n",
      "torch.Size([3, 270, 480]) (48,)\n",
      "torch.Size([3, 270, 480])\n",
      "torch.Size([3, 270, 480]) (48,)\n",
      "torch.Size([3, 270, 480])\n",
      "torch.Size([3, 270, 480]) (48,)\n"
     ]
    },
    {
     "name": "stderr",
     "output_type": "stream",
     "text": [
      "Valid Epoch 0:  54%|████████████████████▉                  | 225/420 [00:24<00:20,  9.54batch/s, valid_loss=-1.8e+4]"
     ]
    },
    {
     "name": "stdout",
     "output_type": "stream",
     "text": [
      "torch.Size([3, 270, 480])\n",
      "torch.Size([3, 270, 480]) (48,)\n",
      "torch.Size([3, 270, 480])\n",
      "torch.Size([3, 270, 480]) (48,)\n",
      "torch.Size([3, 270, 480])\n",
      "torch.Size([3, 270, 480]) (48,)\n",
      "torch.Size([3, 270, 480])\n",
      "torch.Size([3, 270, 480]) (48,)\n"
     ]
    },
    {
     "name": "stderr",
     "output_type": "stream",
     "text": [
      "Valid Epoch 0:  54%|████████████████████▌                 | 227/420 [00:24<00:20,  9.26batch/s, valid_loss=-1.78e+4]"
     ]
    },
    {
     "name": "stdout",
     "output_type": "stream",
     "text": [
      "torch.Size([3, 270, 480])\n",
      "torch.Size([3, 270, 480]) (48,)\n",
      "torch.Size([3, 270, 480])\n",
      "torch.Size([3, 270, 480]) (48,)\n",
      "torch.Size([3, 270, 480])\n",
      "torch.Size([3, 270, 480]) (48,)\n",
      "torch.Size([3, 270, 480])\n",
      "torch.Size([3, 270, 480]) (48,)\n"
     ]
    },
    {
     "name": "stderr",
     "output_type": "stream",
     "text": [
      "Valid Epoch 0:  55%|████████████████████▋                 | 229/420 [00:25<00:20,  9.42batch/s, valid_loss=-1.79e+4]"
     ]
    },
    {
     "name": "stdout",
     "output_type": "stream",
     "text": [
      "torch.Size([3, 270, 480])\n",
      "torch.Size([3, 270, 480]) (48,)\n",
      "torch.Size([3, 270, 480])\n",
      "torch.Size([3, 270, 480]) (48,)\n",
      "torch.Size([3, 270, 480])\n",
      "torch.Size([3, 270, 480]) (48,)\n",
      "torch.Size([3, 270, 480])\n",
      "torch.Size([3, 270, 480]) (48,)\n"
     ]
    },
    {
     "name": "stderr",
     "output_type": "stream",
     "text": [
      "Valid Epoch 0:  55%|████████████████████▉                 | 231/420 [00:25<00:20,  9.31batch/s, valid_loss=-1.76e+4]"
     ]
    },
    {
     "name": "stdout",
     "output_type": "stream",
     "text": [
      "torch.Size([3, 270, 480])\n",
      "torch.Size([3, 270, 480]) (48,)\n",
      "torch.Size([3, 270, 480])\n",
      "torch.Size([3, 270, 480]) (48,)\n",
      "torch.Size([3, 270, 480])\n",
      "torch.Size([3, 270, 480]) (48,)\n",
      "torch.Size([3, 270, 480])\n",
      "torch.Size([3, 270, 480]) (48,)\n"
     ]
    },
    {
     "name": "stderr",
     "output_type": "stream",
     "text": [
      "Valid Epoch 0:  56%|█████████████████████▏                | 234/420 [00:25<00:19,  9.38batch/s, valid_loss=-1.95e+4]"
     ]
    },
    {
     "name": "stdout",
     "output_type": "stream",
     "text": [
      "torch.Size([3, 270, 480])\n",
      "torch.Size([3, 270, 480]) (48,)\n",
      "torch.Size([3, 270, 480])\n",
      "torch.Size([3, 270, 480]) (48,)\n",
      "torch.Size([3, 270, 480])\n",
      "torch.Size([3, 270, 480]) (48,)\n",
      "torch.Size([3, 270, 480])\n",
      "torch.Size([3, 270, 480]) (48,)\n",
      "torch.Size([3, 270, 480])"
     ]
    },
    {
     "name": "stderr",
     "output_type": "stream",
     "text": [
      "Valid Epoch 0:  56%|█████████████████████▎                | 235/420 [00:25<00:19,  9.27batch/s, valid_loss=-1.84e+4]"
     ]
    },
    {
     "name": "stdout",
     "output_type": "stream",
     "text": [
      "\n",
      "torch.Size([3, 270, 480]) (48,)\n",
      "torch.Size([3, 270, 480])\n",
      "torch.Size([3, 270, 480]) (48,)\n",
      "torch.Size([3, 270, 480])\n",
      "torch.Size([3, 270, 480]) (48,)\n",
      "torch.Size([3, 270, 480])\n",
      "torch.Size([3, 270, 480]) (48,)\n"
     ]
    },
    {
     "name": "stderr",
     "output_type": "stream",
     "text": [
      "Valid Epoch 0:  56%|█████████████████████▍                | 237/420 [00:25<00:19,  9.34batch/s, valid_loss=-1.88e+4]"
     ]
    },
    {
     "name": "stdout",
     "output_type": "stream",
     "text": [
      "torch.Size([3, 270, 480])\n",
      "torch.Size([3, 270, 480]) (48,)\n",
      "torch.Size([3, 270, 480])\n",
      "torch.Size([3, 270, 480]) (48,)\n",
      "torch.Size([3, 270, 480])\n",
      "torch.Size([3, 270, 480]) (48,)\n",
      "torch.Size([3, 270, 480])\n",
      "torch.Size([3, 270, 480]) (48,)\n"
     ]
    },
    {
     "name": "stderr",
     "output_type": "stream",
     "text": [
      "Valid Epoch 0:  57%|█████████████████████▌                | 239/420 [00:26<00:18,  9.59batch/s, valid_loss=-1.75e+4]"
     ]
    },
    {
     "name": "stdout",
     "output_type": "stream",
     "text": [
      "torch.Size([3, 270, 480])\n",
      "torch.Size([3, 270, 480]) (48,)\n",
      "torch.Size([3, 270, 480])\n",
      "torch.Size([3, 270, 480]) (48,)\n",
      "torch.Size([3, 270, 480])\n",
      "torch.Size([3, 270, 480]) (48,)\n",
      "torch.Size([3, 270, 480])\n",
      "torch.Size([3, 270, 480]) (48,)\n"
     ]
    },
    {
     "name": "stderr",
     "output_type": "stream",
     "text": [
      "Valid Epoch 0:  57%|██████████████████████▍                | 241/420 [00:26<00:19,  9.40batch/s, valid_loss=-1.8e+4]"
     ]
    },
    {
     "name": "stdout",
     "output_type": "stream",
     "text": [
      "torch.Size([3, 270, 480])\n",
      "torch.Size([3, 270, 480]) (48,)\n",
      "torch.Size([3, 270, 480])\n",
      "torch.Size([3, 270, 480]) (48,)\n",
      "torch.Size([3, 270, 480])\n",
      "torch.Size([3, 270, 480]) (48,)\n",
      "torch.Size([3, 270, 480])\n",
      "torch.Size([3, 270, 480]) (48,)\n"
     ]
    },
    {
     "name": "stderr",
     "output_type": "stream",
     "text": [
      "Valid Epoch 0:  58%|█████████████████████▉                | 243/420 [00:26<00:18,  9.37batch/s, valid_loss=-1.84e+4]"
     ]
    },
    {
     "name": "stdout",
     "output_type": "stream",
     "text": [
      "torch.Size([3, 270, 480])\n",
      "torch.Size([3, 270, 480]) (48,)\n",
      "torch.Size([3, 270, 480])\n",
      "torch.Size([3, 270, 480]) (48,)\n",
      "torch.Size([3, 270, 480])\n",
      "torch.Size([3, 270, 480]) (48,)\n",
      "torch.Size([3, 270, 480])\n",
      "torch.Size([3, 270, 480]) (48,)\n"
     ]
    },
    {
     "name": "stderr",
     "output_type": "stream",
     "text": [
      "Valid Epoch 0:  58%|██████████████████████▏               | 245/420 [00:26<00:18,  9.52batch/s, valid_loss=-1.88e+4]"
     ]
    },
    {
     "name": "stdout",
     "output_type": "stream",
     "text": [
      "torch.Size([3, 270, 480])\n",
      "torch.Size([3, 270, 480]) (48,)\n",
      "torch.Size([3, 270, 480])\n",
      "torch.Size([3, 270, 480]) (48,)\n",
      "torch.Size([3, 270, 480])\n",
      "torch.Size([3, 270, 480]) (48,)\n",
      "torch.Size([3, 270, 480])\n",
      "torch.Size([3, 270, 480]) (48,)\n"
     ]
    },
    {
     "name": "stderr",
     "output_type": "stream",
     "text": [
      "Valid Epoch 0:  59%|██████████████████████▎               | 247/420 [00:26<00:18,  9.45batch/s, valid_loss=-1.94e+4]"
     ]
    },
    {
     "name": "stdout",
     "output_type": "stream",
     "text": [
      "torch.Size([3, 270, 480])\n",
      "torch.Size([3, 270, 480]) (48,)\n",
      "torch.Size([3, 270, 480])\n",
      "torch.Size([3, 270, 480]) (48,)\n",
      "torch.Size([3, 270, 480])\n",
      "torch.Size([3, 270, 480]) (48,)\n",
      "torch.Size([3, 270, 480])\n",
      "torch.Size([3, 270, 480]) (48,)\n"
     ]
    },
    {
     "name": "stderr",
     "output_type": "stream",
     "text": [
      "Valid Epoch 0:  59%|██████████████████████▌               | 249/420 [00:27<00:18,  9.35batch/s, valid_loss=-2.05e+4]"
     ]
    },
    {
     "name": "stdout",
     "output_type": "stream",
     "text": [
      "torch.Size([3, 270, 480])\n",
      "torch.Size([3, 270, 480]) (48,)\n",
      "torch.Size([3, 270, 480])\n",
      "torch.Size([3, 270, 480]) (48,)\n",
      "torch.Size([3, 270, 480])\n",
      "torch.Size([3, 270, 480]) (48,)\n",
      "torch.Size([3, 270, 480])\n",
      "torch.Size([3, 270, 480]) (48,)\n"
     ]
    },
    {
     "name": "stderr",
     "output_type": "stream",
     "text": [
      "Valid Epoch 0:  60%|██████████████████████▋               | 251/420 [00:27<00:18,  9.17batch/s, valid_loss=-2.07e+4]"
     ]
    },
    {
     "name": "stdout",
     "output_type": "stream",
     "text": [
      "torch.Size([3, 270, 480])\n",
      "torch.Size([3, 270, 480]) (48,)\n",
      "torch.Size([3, 270, 480])\n",
      "torch.Size([3, 270, 480]) (48,)\n",
      "torch.Size([3, 270, 480])\n",
      "torch.Size([3, 270, 480]) (48,)\n",
      "torch.Size([3, 270, 480])\n",
      "torch.Size([3, 270, 480]) (48,)\n"
     ]
    },
    {
     "name": "stderr",
     "output_type": "stream",
     "text": [
      "Valid Epoch 0:  60%|██████████████████████▉               | 253/420 [00:27<00:18,  9.23batch/s, valid_loss=-2.06e+4]"
     ]
    },
    {
     "name": "stdout",
     "output_type": "stream",
     "text": [
      "torch.Size([3, 270, 480])\n",
      "torch.Size([3, 270, 480]) (48,)\n",
      "torch.Size([3, 270, 480])\n",
      "torch.Size([3, 270, 480]) (48,)\n",
      "torch.Size([3, 270, 480])\n",
      "torch.Size([3, 270, 480]) (48,)\n",
      "torch.Size([3, 270, 480])\n",
      "torch.Size([3, 270, 480]) (48,)\n"
     ]
    },
    {
     "name": "stderr",
     "output_type": "stream",
     "text": [
      "Valid Epoch 0:  61%|███████████████████████               | 255/420 [00:27<00:17,  9.23batch/s, valid_loss=-1.95e+4]"
     ]
    },
    {
     "name": "stdout",
     "output_type": "stream",
     "text": [
      "torch.Size([3, 270, 480])\n",
      "torch.Size([3, 270, 480]) (48,)\n",
      "torch.Size([3, 270, 480])\n",
      "torch.Size([3, 270, 480]) (48,)\n",
      "torch.Size([3, 270, 480])\n",
      "torch.Size([3, 270, 480]) (48,)\n",
      "torch.Size([3, 270, 480])\n",
      "torch.Size([3, 270, 480]) (48,)\n"
     ]
    },
    {
     "name": "stderr",
     "output_type": "stream",
     "text": [
      "Valid Epoch 0:  61%|███████████████████████▎              | 257/420 [00:28<00:17,  9.55batch/s, valid_loss=-1.99e+4]"
     ]
    },
    {
     "name": "stdout",
     "output_type": "stream",
     "text": [
      "torch.Size([3, 270, 480])\n",
      "torch.Size([3, 270, 480]) (48,)\n",
      "torch.Size([3, 270, 480])\n",
      "torch.Size([3, 270, 480]) (48,)\n",
      "torch.Size([3, 270, 480])\n",
      "torch.Size([3, 270, 480]) (48,)\n",
      "torch.Size([3, 270, 480])\n",
      "torch.Size([3, 270, 480]) (48,)\n"
     ]
    },
    {
     "name": "stderr",
     "output_type": "stream",
     "text": [
      "Valid Epoch 0:  62%|███████████████████████▍              | 259/420 [00:28<00:16,  9.70batch/s, valid_loss=-2.04e+4]"
     ]
    },
    {
     "name": "stdout",
     "output_type": "stream",
     "text": [
      "torch.Size([3, 270, 480])\n",
      "torch.Size([3, 270, 480]) (48,)\n",
      "torch.Size([3, 270, 480])\n",
      "torch.Size([3, 270, 480]) (48,)\n",
      "torch.Size([3, 270, 480])\n",
      "torch.Size([3, 270, 480]) (48,)\n",
      "torch.Size([3, 270, 480])\n",
      "torch.Size([3, 270, 480]) (48,)\n"
     ]
    },
    {
     "name": "stderr",
     "output_type": "stream",
     "text": [
      "Valid Epoch 0:  62%|███████████████████████▌              | 261/420 [00:28<00:16,  9.41batch/s, valid_loss=-2.12e+4]"
     ]
    },
    {
     "name": "stdout",
     "output_type": "stream",
     "text": [
      "torch.Size([3, 270, 480])\n",
      "torch.Size([3, 270, 480]) (48,)\n",
      "torch.Size([3, 270, 480])\n",
      "torch.Size([3, 270, 480]) (48,)\n",
      "torch.Size([3, 270, 480])\n",
      "torch.Size([3, 270, 480]) (48,)\n",
      "torch.Size([3, 270, 480])\n",
      "torch.Size([3, 270, 480]) (48,)\n"
     ]
    },
    {
     "name": "stderr",
     "output_type": "stream",
     "text": [
      "Valid Epoch 0:  63%|███████████████████████▊              | 263/420 [00:28<00:16,  9.36batch/s, valid_loss=-1.94e+4]"
     ]
    },
    {
     "name": "stdout",
     "output_type": "stream",
     "text": [
      "torch.Size([3, 270, 480])\n",
      "torch.Size([3, 270, 480]) (48,)\n",
      "torch.Size([3, 270, 480])\n",
      "torch.Size([3, 270, 480]) (48,)\n",
      "torch.Size([3, 270, 480])\n",
      "torch.Size([3, 270, 480]) (48,)\n",
      "torch.Size([3, 270, 480])\n",
      "torch.Size([3, 270, 480]) (48,)\n"
     ]
    },
    {
     "name": "stderr",
     "output_type": "stream",
     "text": [
      "Valid Epoch 0:  63%|███████████████████████▉              | 265/420 [00:28<00:16,  9.23batch/s, valid_loss=-1.98e+4]"
     ]
    },
    {
     "name": "stdout",
     "output_type": "stream",
     "text": [
      "torch.Size([3, 270, 480])\n",
      "torch.Size([3, 270, 480]) (48,)\n",
      "torch.Size([3, 270, 480])\n",
      "torch.Size([3, 270, 480]) (48,)\n",
      "torch.Size([3, 270, 480])\n",
      "torch.Size([3, 270, 480]) (48,)\n",
      "torch.Size([3, 270, 480])\n",
      "torch.Size([3, 270, 480]) (48,)\n"
     ]
    },
    {
     "name": "stderr",
     "output_type": "stream",
     "text": [
      "Valid Epoch 0:  64%|████████████████████████▏             | 267/420 [00:29<00:16,  9.04batch/s, valid_loss=-2.15e+4]"
     ]
    },
    {
     "name": "stdout",
     "output_type": "stream",
     "text": [
      "torch.Size([3, 270, 480])\n",
      "torch.Size([3, 270, 480]) (48,)\n",
      "torch.Size([3, 270, 480])\n",
      "torch.Size([3, 270, 480]) (48,)\n",
      "torch.Size([3, 270, 480])\n",
      "torch.Size([3, 270, 480]) (48,)\n",
      "torch.Size([3, 270, 480])\n",
      "torch.Size([3, 270, 480]) (48,)\n"
     ]
    },
    {
     "name": "stderr",
     "output_type": "stream",
     "text": [
      "Valid Epoch 0:  64%|████████████████████████▎             | 269/420 [00:29<00:16,  8.96batch/s, valid_loss=-1.95e+4]"
     ]
    },
    {
     "name": "stdout",
     "output_type": "stream",
     "text": [
      "torch.Size([3, 270, 480])\n",
      "torch.Size([3, 270, 480]) (48,)\n",
      "torch.Size([3, 270, 480])\n",
      "torch.Size([3, 270, 480]) (48,)\n",
      "torch.Size([3, 270, 480])\n",
      "torch.Size([3, 270, 480]) (48,)\n",
      "torch.Size([3, 270, 480])\n",
      "torch.Size([3, 270, 480]) (48,)\n"
     ]
    },
    {
     "name": "stderr",
     "output_type": "stream",
     "text": [
      "Valid Epoch 0:  65%|████████████████████████▌             | 271/420 [00:29<00:16,  9.11batch/s, valid_loss=-1.76e+4]"
     ]
    },
    {
     "name": "stdout",
     "output_type": "stream",
     "text": [
      "torch.Size([3, 270, 480])\n",
      "torch.Size([3, 270, 480]) (48,)\n",
      "torch.Size([3, 270, 480])\n",
      "torch.Size([3, 270, 480]) (48,)\n",
      "torch.Size([3, 270, 480])\n",
      "torch.Size([3, 270, 480]) (48,)\n",
      "torch.Size([3, 270, 480])\n",
      "torch.Size([3, 270, 480]) (48,)\n"
     ]
    },
    {
     "name": "stderr",
     "output_type": "stream",
     "text": [
      "Valid Epoch 0:  65%|████████████████████████▋             | 273/420 [00:29<00:15,  9.27batch/s, valid_loss=-1.88e+4]"
     ]
    },
    {
     "name": "stdout",
     "output_type": "stream",
     "text": [
      "torch.Size([3, 270, 480])\n",
      "torch.Size([3, 270, 480]) (48,)\n",
      "torch.Size([3, 270, 480])\n",
      "torch.Size([3, 270, 480]) (48,)\n",
      "torch.Size([3, 270, 480])\n",
      "torch.Size([3, 270, 480]) (48,)\n",
      "torch.Size([3, 270, 480])\n",
      "torch.Size([3, 270, 480]) (48,)\n"
     ]
    },
    {
     "name": "stderr",
     "output_type": "stream",
     "text": [
      "Valid Epoch 0:  66%|████████████████████████▉             | 276/420 [00:30<00:14,  9.64batch/s, valid_loss=-1.97e+4]"
     ]
    },
    {
     "name": "stdout",
     "output_type": "stream",
     "text": [
      "torch.Size([3, 270, 480])\n",
      "torch.Size([3, 270, 480]) (48,)\n",
      "torch.Size([3, 270, 480])\n",
      "torch.Size([3, 270, 480]) (48,)\n",
      "torch.Size([3, 270, 480])\n",
      "torch.Size([3, 270, 480]) (48,)\n",
      "torch.Size([3, 270, 480])\n",
      "torch.Size([3, 270, 480]) (48,)\n",
      "torch.Size([3, 270, 480])"
     ]
    },
    {
     "name": "stderr",
     "output_type": "stream",
     "text": [
      "Valid Epoch 0:  66%|█████████████████████████             | 277/420 [00:30<00:14,  9.69batch/s, valid_loss=-1.88e+4]"
     ]
    },
    {
     "name": "stdout",
     "output_type": "stream",
     "text": [
      "\n",
      "torch.Size([3, 270, 480]) (48,)\n",
      "torch.Size([3, 270, 480])\n",
      "torch.Size([3, 270, 480]) (48,)\n",
      "torch.Size([3, 270, 480])\n",
      "torch.Size([3, 270, 480]) (48,)\n",
      "torch.Size([3, 270, 480])\n",
      "torch.Size([3, 270, 480]) (48,)\n"
     ]
    },
    {
     "name": "stderr",
     "output_type": "stream",
     "text": [
      "Valid Epoch 0:  66%|█████████████████████████▏            | 279/420 [00:30<00:14,  9.40batch/s, valid_loss=-1.89e+4]"
     ]
    },
    {
     "name": "stdout",
     "output_type": "stream",
     "text": [
      "torch.Size([3, 270, 480])\n",
      "torch.Size([3, 270, 480]) (48,)\n",
      "torch.Size([3, 270, 480])\n",
      "torch.Size([3, 270, 480]) (48,)\n",
      "torch.Size([3, 270, 480])\n",
      "torch.Size([3, 270, 480]) (48,)\n",
      "torch.Size([3, 270, 480])\n",
      "torch.Size([3, 270, 480]) (48,)\n"
     ]
    },
    {
     "name": "stderr",
     "output_type": "stream",
     "text": [
      "Valid Epoch 0:  67%|█████████████████████████▍            | 281/420 [00:30<00:14,  9.31batch/s, valid_loss=-1.76e+4]"
     ]
    },
    {
     "name": "stdout",
     "output_type": "stream",
     "text": [
      "torch.Size([3, 270, 480])\n",
      "torch.Size([3, 270, 480]) (48,)\n",
      "torch.Size([3, 270, 480])\n",
      "torch.Size([3, 270, 480]) (48,)\n",
      "torch.Size([3, 270, 480])\n",
      "torch.Size([3, 270, 480]) (48,)\n",
      "torch.Size([3, 270, 480])\n",
      "torch.Size([3, 270, 480]) (48,)\n"
     ]
    },
    {
     "name": "stderr",
     "output_type": "stream",
     "text": [
      "Valid Epoch 0:  67%|█████████████████████████▌            | 283/420 [00:30<00:14,  9.29batch/s, valid_loss=-2.11e+4]"
     ]
    },
    {
     "name": "stdout",
     "output_type": "stream",
     "text": [
      "torch.Size([3, 270, 480])\n",
      "torch.Size([3, 270, 480]) (48,)\n",
      "torch.Size([3, 270, 480])\n",
      "torch.Size([3, 270, 480]) (48,)\n",
      "torch.Size([3, 270, 480])\n",
      "torch.Size([3, 270, 480]) (48,)\n",
      "torch.Size([3, 270, 480])\n",
      "torch.Size([3, 270, 480]) (48,)\n"
     ]
    },
    {
     "name": "stderr",
     "output_type": "stream",
     "text": [
      "Valid Epoch 0:  68%|█████████████████████████▊            | 285/420 [00:31<00:14,  9.29batch/s, valid_loss=-1.98e+4]"
     ]
    },
    {
     "name": "stdout",
     "output_type": "stream",
     "text": [
      "torch.Size([3, 270, 480])\n",
      "torch.Size([3, 270, 480]) (48,)\n",
      "torch.Size([3, 270, 480])\n",
      "torch.Size([3, 270, 480]) (48,)\n",
      "torch.Size([3, 270, 480])\n",
      "torch.Size([3, 270, 480]) (48,)\n",
      "torch.Size([3, 270, 480])\n",
      "torch.Size([3, 270, 480]) (48,)\n"
     ]
    },
    {
     "name": "stderr",
     "output_type": "stream",
     "text": [
      "Valid Epoch 0:  68%|██████████████████████████▋            | 287/420 [00:31<00:14,  9.16batch/s, valid_loss=-1.9e+4]"
     ]
    },
    {
     "name": "stdout",
     "output_type": "stream",
     "text": [
      "torch.Size([3, 270, 480])\n",
      "torch.Size([3, 270, 480]) (48,)\n",
      "torch.Size([3, 270, 480])\n",
      "torch.Size([3, 270, 480]) (48,)\n",
      "torch.Size([3, 270, 480])\n",
      "torch.Size([3, 270, 480]) (48,)\n",
      "torch.Size([3, 270, 480])\n",
      "torch.Size([3, 270, 480]) (48,)\n"
     ]
    },
    {
     "name": "stderr",
     "output_type": "stream",
     "text": [
      "Valid Epoch 0:  69%|██████████████████████████▏           | 289/420 [00:31<00:14,  9.09batch/s, valid_loss=-2.12e+4]"
     ]
    },
    {
     "name": "stdout",
     "output_type": "stream",
     "text": [
      "torch.Size([3, 270, 480])\n",
      "torch.Size([3, 270, 480]) (48,)\n",
      "torch.Size([3, 270, 480])\n",
      "torch.Size([3, 270, 480]) (48,)\n",
      "torch.Size([3, 270, 480])\n",
      "torch.Size([3, 270, 480]) (48,)\n",
      "torch.Size([3, 270, 480])\n",
      "torch.Size([3, 270, 480]) (48,)\n"
     ]
    },
    {
     "name": "stderr",
     "output_type": "stream",
     "text": [
      "Valid Epoch 0:  69%|██████████████████████████▎           | 291/420 [00:31<00:14,  8.92batch/s, valid_loss=-2.01e+4]"
     ]
    },
    {
     "name": "stdout",
     "output_type": "stream",
     "text": [
      "torch.Size([3, 270, 480])\n",
      "torch.Size([3, 270, 480]) (48,)\n",
      "torch.Size([3, 270, 480])\n",
      "torch.Size([3, 270, 480]) (48,)\n",
      "torch.Size([3, 270, 480])\n",
      "torch.Size([3, 270, 480]) (48,)\n",
      "torch.Size([3, 270, 480])\n",
      "torch.Size([3, 270, 480]) (48,)\n"
     ]
    },
    {
     "name": "stderr",
     "output_type": "stream",
     "text": [
      "Valid Epoch 0:  70%|██████████████████████████▌           | 293/420 [00:31<00:13,  9.12batch/s, valid_loss=-1.85e+4]"
     ]
    },
    {
     "name": "stdout",
     "output_type": "stream",
     "text": [
      "torch.Size([3, 270, 480])\n",
      "torch.Size([3, 270, 480]) (48,)\n",
      "torch.Size([3, 270, 480])\n",
      "torch.Size([3, 270, 480]) (48,)\n",
      "torch.Size([3, 270, 480])\n",
      "torch.Size([3, 270, 480]) (48,)\n",
      "torch.Size([3, 270, 480])\n",
      "torch.Size([3, 270, 480]) (48,)\n"
     ]
    },
    {
     "name": "stderr",
     "output_type": "stream",
     "text": [
      "Valid Epoch 0:  70%|███████████████████████████▎           | 294/420 [00:32<00:13,  9.29batch/s, valid_loss=-1.8e+4]"
     ]
    },
    {
     "name": "stdout",
     "output_type": "stream",
     "text": [
      "torch.Size([3, 270, 480])\n",
      "torch.Size([3, 270, 480]) (48,)\n",
      "torch.Size([3, 270, 480])\n",
      "torch.Size([3, 270, 480]) (48,)\n",
      "torch.Size([3, 270, 480])\n",
      "torch.Size([3, 270, 480]) (48,)\n",
      "torch.Size([3, 270, 480])\n",
      "torch.Size([3, 270, 480]) (48,)\n"
     ]
    },
    {
     "name": "stderr",
     "output_type": "stream",
     "text": [
      "Valid Epoch 0:  71%|██████████████████████████▊           | 297/420 [00:32<00:13,  9.42batch/s, valid_loss=-1.93e+4]"
     ]
    },
    {
     "name": "stdout",
     "output_type": "stream",
     "text": [
      "torch.Size([3, 270, 480])\n",
      "torch.Size([3, 270, 480]) (48,)\n",
      "torch.Size([3, 270, 480])\n",
      "torch.Size([3, 270, 480]) (48,)\n",
      "torch.Size([3, 270, 480])\n",
      "torch.Size([3, 270, 480]) (48,)\n",
      "torch.Size([3, 270, 480])\n",
      "torch.Size([3, 270, 480]) (48,)\n"
     ]
    },
    {
     "name": "stderr",
     "output_type": "stream",
     "text": [
      "Valid Epoch 0:  71%|█████████████████████████████▏           | 299/420 [00:32<00:12,  9.34batch/s, valid_loss=-2e+4]"
     ]
    },
    {
     "name": "stdout",
     "output_type": "stream",
     "text": [
      "torch.Size([3, 270, 480])\n",
      "torch.Size([3, 270, 480]) (48,)\n",
      "torch.Size([3, 270, 480])\n",
      "torch.Size([3, 270, 480]) (48,)\n",
      "torch.Size([3, 270, 480])\n",
      "torch.Size([3, 270, 480]) (48,)\n",
      "torch.Size([3, 270, 480])\n",
      "torch.Size([3, 270, 480]) (48,)\n"
     ]
    },
    {
     "name": "stderr",
     "output_type": "stream",
     "text": [
      "Valid Epoch 0:  72%|███████████████████████████▏          | 301/420 [00:32<00:12,  9.30batch/s, valid_loss=-2.12e+4]"
     ]
    },
    {
     "name": "stdout",
     "output_type": "stream",
     "text": [
      "torch.Size([3, 270, 480])\n",
      "torch.Size([3, 270, 480]) (48,)\n",
      "torch.Size([3, 270, 480])\n",
      "torch.Size([3, 270, 480]) (48,)\n",
      "torch.Size([3, 270, 480])\n",
      "torch.Size([3, 270, 480]) (48,)\n",
      "torch.Size([3, 270, 480])\n",
      "torch.Size([3, 270, 480]) (48,)\n"
     ]
    },
    {
     "name": "stderr",
     "output_type": "stream",
     "text": [
      "Valid Epoch 0:  72%|███████████████████████████▍          | 303/420 [00:32<00:12,  9.23batch/s, valid_loss=-2.07e+4]"
     ]
    },
    {
     "name": "stdout",
     "output_type": "stream",
     "text": [
      "torch.Size([3, 270, 480])\n",
      "torch.Size([3, 270, 480]) (48,)\n",
      "torch.Size([3, 270, 480])\n",
      "torch.Size([3, 270, 480]) (48,)\n",
      "torch.Size([3, 270, 480])\n",
      "torch.Size([3, 270, 480]) (48,)\n",
      "torch.Size([3, 270, 480])\n",
      "torch.Size([3, 270, 480]) (48,)\n"
     ]
    },
    {
     "name": "stderr",
     "output_type": "stream",
     "text": [
      "Valid Epoch 0:  73%|███████████████████████████▌          | 305/420 [00:33<00:12,  9.21batch/s, valid_loss=-1.93e+4]"
     ]
    },
    {
     "name": "stdout",
     "output_type": "stream",
     "text": [
      "torch.Size([3, 270, 480])\n",
      "torch.Size([3, 270, 480]) (48,)\n",
      "torch.Size([3, 270, 480])\n",
      "torch.Size([3, 270, 480]) (48,)\n",
      "torch.Size([3, 270, 480])\n",
      "torch.Size([3, 270, 480]) (48,)\n",
      "torch.Size([3, 270, 480])\n",
      "torch.Size([3, 270, 480]) (48,)\n"
     ]
    },
    {
     "name": "stderr",
     "output_type": "stream",
     "text": [
      "Valid Epoch 0:  73%|███████████████████████████▊          | 307/420 [00:33<00:12,  9.34batch/s, valid_loss=-2.07e+4]"
     ]
    },
    {
     "name": "stdout",
     "output_type": "stream",
     "text": [
      "torch.Size([3, 270, 480])\n",
      "torch.Size([3, 270, 480]) (48,)\n",
      "torch.Size([3, 270, 480])\n",
      "torch.Size([3, 270, 480]) (48,)\n",
      "torch.Size([3, 270, 480])\n",
      "torch.Size([3, 270, 480]) (48,)\n",
      "torch.Size([3, 270, 480])\n",
      "torch.Size([3, 270, 480]) (48,)\n"
     ]
    },
    {
     "name": "stderr",
     "output_type": "stream",
     "text": [
      "Valid Epoch 0:  74%|███████████████████████████▉          | 309/420 [00:33<00:11,  9.30batch/s, valid_loss=-2.09e+4]"
     ]
    },
    {
     "name": "stdout",
     "output_type": "stream",
     "text": [
      "torch.Size([3, 270, 480])\n",
      "torch.Size([3, 270, 480]) (48,)\n",
      "torch.Size([3, 270, 480])\n",
      "torch.Size([3, 270, 480]) (48,)\n",
      "torch.Size([3, 270, 480])\n",
      "torch.Size([3, 270, 480]) (48,)\n",
      "torch.Size([3, 270, 480])\n",
      "torch.Size([3, 270, 480]) (48,)\n"
     ]
    },
    {
     "name": "stderr",
     "output_type": "stream",
     "text": [
      "Valid Epoch 0:  74%|████████████████████████████▏         | 312/420 [00:33<00:11,  9.31batch/s, valid_loss=-1.92e+4]"
     ]
    },
    {
     "name": "stdout",
     "output_type": "stream",
     "text": [
      "torch.Size([3, 270, 480])\n",
      "torch.Size([3, 270, 480]) (48,)\n",
      "torch.Size([3, 270, 480])\n",
      "torch.Size([3, 270, 480]) (48,)\n",
      "torch.Size([3, 270, 480])\n",
      "torch.Size([3, 270, 480]) (48,)\n",
      "torch.Size([3, 270, 480])\n",
      "torch.Size([3, 270, 480]) (48,)\n"
     ]
    },
    {
     "name": "stderr",
     "output_type": "stream",
     "text": [
      "Valid Epoch 0:  75%|████████████████████████████▎         | 313/420 [00:34<00:11,  9.41batch/s, valid_loss=-2.02e+4]"
     ]
    },
    {
     "name": "stdout",
     "output_type": "stream",
     "text": [
      "torch.Size([3, 270, 480])\n",
      "torch.Size([3, 270, 480]) (48,)\n",
      "torch.Size([3, 270, 480])\n",
      "torch.Size([3, 270, 480]) (48,)\n",
      "torch.Size([3, 270, 480])\n",
      "torch.Size([3, 270, 480]) (48,)\n",
      "torch.Size([3, 270, 480])\n",
      "torch.Size([3, 270, 480]) (48,)\n"
     ]
    },
    {
     "name": "stderr",
     "output_type": "stream",
     "text": [
      "Valid Epoch 0:  75%|████████████████████████████▌         | 315/420 [00:34<00:11,  9.47batch/s, valid_loss=-2.04e+4]"
     ]
    },
    {
     "name": "stdout",
     "output_type": "stream",
     "text": [
      "torch.Size([3, 270, 480])\n",
      "torch.Size([3, 270, 480]) (48,)\n",
      "torch.Size([3, 270, 480])\n",
      "torch.Size([3, 270, 480]) (48,)\n",
      "torch.Size([3, 270, 480])\n",
      "torch.Size([3, 270, 480]) (48,)\n",
      "torch.Size([3, 270, 480])\n",
      "torch.Size([3, 270, 480]) (48,)\n"
     ]
    },
    {
     "name": "stderr",
     "output_type": "stream",
     "text": [
      "Valid Epoch 0:  75%|████████████████████████████▋         | 317/420 [00:34<00:10,  9.39batch/s, valid_loss=-1.92e+4]"
     ]
    },
    {
     "name": "stdout",
     "output_type": "stream",
     "text": [
      "torch.Size([3, 270, 480])\n",
      "torch.Size([3, 270, 480]) (48,)\n",
      "torch.Size([3, 270, 480])\n",
      "torch.Size([3, 270, 480]) (48,)\n",
      "torch.Size([3, 270, 480])\n",
      "torch.Size([3, 270, 480]) (48,)\n",
      "torch.Size([3, 270, 480])\n",
      "torch.Size([3, 270, 480]) (48,)\n"
     ]
    },
    {
     "name": "stderr",
     "output_type": "stream",
     "text": [
      "Valid Epoch 0:  76%|████████████████████████████▊         | 319/420 [00:34<00:10,  9.37batch/s, valid_loss=-2.05e+4]"
     ]
    },
    {
     "name": "stdout",
     "output_type": "stream",
     "text": [
      "torch.Size([3, 270, 480])\n",
      "torch.Size([3, 270, 480]) (48,)\n",
      "torch.Size([3, 270, 480])\n",
      "torch.Size([3, 270, 480]) (48,)\n",
      "torch.Size([3, 270, 480])\n",
      "torch.Size([3, 270, 480]) (48,)\n",
      "torch.Size([3, 270, 480])\n",
      "torch.Size([3, 270, 480]) (48,)\n"
     ]
    },
    {
     "name": "stderr",
     "output_type": "stream",
     "text": [
      "Valid Epoch 0:  76%|█████████████████████████████         | 321/420 [00:34<00:10,  9.17batch/s, valid_loss=-2.05e+4]"
     ]
    },
    {
     "name": "stdout",
     "output_type": "stream",
     "text": [
      "torch.Size([3, 270, 480])\n",
      "torch.Size([3, 270, 480]) (48,)\n",
      "torch.Size([3, 270, 480])\n",
      "torch.Size([3, 270, 480]) (48,)\n",
      "torch.Size([3, 270, 480])\n",
      "torch.Size([3, 270, 480]) (48,)\n",
      "torch.Size([3, 270, 480])\n",
      "torch.Size([3, 270, 480]) (48,)\n"
     ]
    },
    {
     "name": "stderr",
     "output_type": "stream",
     "text": [
      "Valid Epoch 0:  77%|█████████████████████████████▏        | 323/420 [00:35<00:10,  9.12batch/s, valid_loss=-2.01e+4]"
     ]
    },
    {
     "name": "stdout",
     "output_type": "stream",
     "text": [
      "torch.Size([3, 270, 480])\n",
      "torch.Size([3, 270, 480]) (48,)\n",
      "torch.Size([3, 270, 480])\n",
      "torch.Size([3, 270, 480]) (48,)\n",
      "torch.Size([3, 270, 480])\n",
      "torch.Size([3, 270, 480]) (48,)\n",
      "torch.Size([3, 270, 480])\n",
      "torch.Size([3, 270, 480]) (48,)\n"
     ]
    },
    {
     "name": "stderr",
     "output_type": "stream",
     "text": [
      "Valid Epoch 0:  77%|█████████████████████████████▍        | 325/420 [00:35<00:11,  8.29batch/s, valid_loss=-2.06e+4]"
     ]
    },
    {
     "name": "stdout",
     "output_type": "stream",
     "text": [
      "torch.Size([3, 270, 480])\n",
      "torch.Size([3, 270, 480]) (48,)\n",
      "torch.Size([3, 270, 480])\n",
      "torch.Size([3, 270, 480]) (48,)\n",
      "torch.Size([3, 270, 480])\n",
      "torch.Size([3, 270, 480]) (48,)\n",
      "torch.Size([3, 270, 480])\n",
      "torch.Size([3, 270, 480]) (48,)\n"
     ]
    },
    {
     "name": "stderr",
     "output_type": "stream",
     "text": [
      "Valid Epoch 0:  78%|█████████████████████████████▌        | 327/420 [00:35<00:10,  8.64batch/s, valid_loss=-2.01e+4]"
     ]
    },
    {
     "name": "stdout",
     "output_type": "stream",
     "text": [
      "torch.Size([3, 270, 480])\n",
      "torch.Size([3, 270, 480]) (48,)\n",
      "torch.Size([3, 270, 480])\n",
      "torch.Size([3, 270, 480]) (48,)\n",
      "torch.Size([3, 270, 480])\n",
      "torch.Size([3, 270, 480]) (48,)\n",
      "torch.Size([3, 270, 480])\n",
      "torch.Size([3, 270, 480]) (48,)\n"
     ]
    },
    {
     "name": "stderr",
     "output_type": "stream",
     "text": [
      "Valid Epoch 0:  78%|█████████████████████████████▊        | 329/420 [00:35<00:10,  8.87batch/s, valid_loss=-1.79e+4]"
     ]
    },
    {
     "name": "stdout",
     "output_type": "stream",
     "text": [
      "torch.Size([3, 270, 480])\n",
      "torch.Size([3, 270, 480]) (48,)\n",
      "torch.Size([3, 270, 480])\n",
      "torch.Size([3, 270, 480]) (48,)\n",
      "torch.Size([3, 270, 480])\n",
      "torch.Size([3, 270, 480]) (48,)\n",
      "torch.Size([3, 270, 480])\n",
      "torch.Size([3, 270, 480]) (48,)\n"
     ]
    },
    {
     "name": "stderr",
     "output_type": "stream",
     "text": [
      "Valid Epoch 0:  79%|██████████████████████████████        | 332/420 [00:36<00:09,  9.56batch/s, valid_loss=-2.02e+4]"
     ]
    },
    {
     "name": "stdout",
     "output_type": "stream",
     "text": [
      "torch.Size([3, 270, 480])\n",
      "torch.Size([3, 270, 480]) (48,)\n",
      "torch.Size([3, 270, 480])\n",
      "torch.Size([3, 270, 480]) (48,)\n",
      "torch.Size([3, 270, 480])\n",
      "torch.Size([3, 270, 480]) (48,)\n",
      "torch.Size([3, 270, 480])\n",
      "torch.Size([3, 270, 480]) (48,)\n",
      "torch.Size([3, 270, 480])"
     ]
    },
    {
     "name": "stderr",
     "output_type": "stream",
     "text": [
      "Valid Epoch 0:  79%|██████████████████████████████▏       | 333/420 [00:36<00:09,  9.54batch/s, valid_loss=-1.99e+4]"
     ]
    },
    {
     "name": "stdout",
     "output_type": "stream",
     "text": [
      "\n",
      "torch.Size([3, 270, 480]) (48,)\n",
      "torch.Size([3, 270, 480])\n",
      "torch.Size([3, 270, 480]) (48,)\n",
      "torch.Size([3, 270, 480])\n",
      "torch.Size([3, 270, 480]) (48,)\n",
      "torch.Size([3, 270, 480])\n",
      "torch.Size([3, 270, 480]) (48,)\n"
     ]
    },
    {
     "name": "stderr",
     "output_type": "stream",
     "text": [
      "Valid Epoch 0:  80%|███████████████████████████████        | 335/420 [00:36<00:09,  9.44batch/s, valid_loss=-1.9e+4]"
     ]
    },
    {
     "name": "stdout",
     "output_type": "stream",
     "text": [
      "torch.Size([3, 270, 480])\n",
      "torch.Size([3, 270, 480]) (48,)\n",
      "torch.Size([3, 270, 480])\n",
      "torch.Size([3, 270, 480]) (48,)\n",
      "torch.Size([3, 270, 480])\n",
      "torch.Size([3, 270, 480]) (48,)\n",
      "torch.Size([3, 270, 480])\n",
      "torch.Size([3, 270, 480]) (48,)\n"
     ]
    },
    {
     "name": "stderr",
     "output_type": "stream",
     "text": [
      "Valid Epoch 0:  80%|██████████████████████████████▍       | 337/420 [00:36<00:08,  9.25batch/s, valid_loss=-1.81e+4]"
     ]
    },
    {
     "name": "stdout",
     "output_type": "stream",
     "text": [
      "torch.Size([3, 270, 480])\n",
      "torch.Size([3, 270, 480]) (48,)\n",
      "torch.Size([3, 270, 480])\n",
      "torch.Size([3, 270, 480]) (48,)\n",
      "torch.Size([3, 270, 480])\n",
      "torch.Size([3, 270, 480]) (48,)\n",
      "torch.Size([3, 270, 480])\n",
      "torch.Size([3, 270, 480]) (48,)\n"
     ]
    },
    {
     "name": "stderr",
     "output_type": "stream",
     "text": [
      "Valid Epoch 0:  81%|██████████████████████████████▋       | 339/420 [00:36<00:08,  9.04batch/s, valid_loss=-1.96e+4]"
     ]
    },
    {
     "name": "stdout",
     "output_type": "stream",
     "text": [
      "torch.Size([3, 270, 480])\n",
      "torch.Size([3, 270, 480]) (48,)\n",
      "torch.Size([3, 270, 480])\n",
      "torch.Size([3, 270, 480]) (48,)\n",
      "torch.Size([3, 270, 480])\n",
      "torch.Size([3, 270, 480]) (48,)\n",
      "torch.Size([3, 270, 480])\n",
      "torch.Size([3, 270, 480]) (48,)\n"
     ]
    },
    {
     "name": "stderr",
     "output_type": "stream",
     "text": [
      "Valid Epoch 0:  81%|██████████████████████████████▊       | 341/420 [00:37<00:09,  8.71batch/s, valid_loss=-1.96e+4]"
     ]
    },
    {
     "name": "stdout",
     "output_type": "stream",
     "text": [
      "torch.Size([3, 270, 480])\n",
      "torch.Size([3, 270, 480]) (48,)\n",
      "torch.Size([3, 270, 480])\n",
      "torch.Size([3, 270, 480]) (48,)\n",
      "torch.Size([3, 270, 480])\n",
      "torch.Size([3, 270, 480]) (48,)\n",
      "torch.Size([3, 270, 480])\n",
      "torch.Size([3, 270, 480]) (48,)\n"
     ]
    },
    {
     "name": "stderr",
     "output_type": "stream",
     "text": [
      "Valid Epoch 0:  82%|███████████████████████████████       | 343/420 [00:37<00:08,  8.80batch/s, valid_loss=-1.93e+4]"
     ]
    },
    {
     "name": "stdout",
     "output_type": "stream",
     "text": [
      "torch.Size([3, 270, 480])\n",
      "torch.Size([3, 270, 480]) (48,)\n",
      "torch.Size([3, 270, 480])\n",
      "torch.Size([3, 270, 480]) (48,)\n",
      "torch.Size([3, 270, 480])\n",
      "torch.Size([3, 270, 480]) (48,)\n",
      "torch.Size([3, 270, 480])\n",
      "torch.Size([3, 270, 480]) (48,)\n"
     ]
    },
    {
     "name": "stderr",
     "output_type": "stream",
     "text": [
      "Valid Epoch 0:  82%|███████████████████████████████▏      | 345/420 [00:37<00:08,  8.99batch/s, valid_loss=-1.75e+4]"
     ]
    },
    {
     "name": "stdout",
     "output_type": "stream",
     "text": [
      "torch.Size([3, 270, 480])\n",
      "torch.Size([3, 270, 480]) (48,)\n",
      "torch.Size([3, 270, 480])\n",
      "torch.Size([3, 270, 480]) (48,)\n",
      "torch.Size([3, 270, 480])\n",
      "torch.Size([3, 270, 480]) (48,)\n",
      "torch.Size([3, 270, 480])\n",
      "torch.Size([3, 270, 480]) (48,)\n"
     ]
    },
    {
     "name": "stderr",
     "output_type": "stream",
     "text": [
      "Valid Epoch 0:  83%|███████████████████████████████▍      | 348/420 [00:37<00:07,  9.29batch/s, valid_loss=-2.03e+4]"
     ]
    },
    {
     "name": "stdout",
     "output_type": "stream",
     "text": [
      "torch.Size([3, 270, 480])\n",
      "torch.Size([3, 270, 480]) (48,)\n",
      "torch.Size([3, 270, 480])\n",
      "torch.Size([3, 270, 480]) (48,)\n",
      "torch.Size([3, 270, 480])\n",
      "torch.Size([3, 270, 480]) (48,)\n",
      "torch.Size([3, 270, 480])\n",
      "torch.Size([3, 270, 480]) (48,)\n",
      "torch.Size([3, 270, 480])"
     ]
    },
    {
     "name": "stderr",
     "output_type": "stream",
     "text": [
      "Valid Epoch 0:  83%|███████████████████████████████▋      | 350/420 [00:38<00:07,  9.53batch/s, valid_loss=-1.28e+4]"
     ]
    },
    {
     "name": "stdout",
     "output_type": "stream",
     "text": [
      "\n",
      "torch.Size([3, 270, 480]) (48,)\n",
      "torch.Size([3, 270, 480])\n",
      "torch.Size([3, 270, 480]) (48,)\n",
      "torch.Size([3, 270, 480])\n",
      "torch.Size([3, 270, 480]) (48,)\n",
      "torch.Size([3, 270, 480])\n",
      "torch.Size([3, 270, 480]) (48,)\n",
      "torch.Size([3, 270, 480])"
     ]
    },
    {
     "name": "stderr",
     "output_type": "stream",
     "text": [
      "Valid Epoch 0:  84%|███████████████████████████████▊      | 351/420 [00:38<00:07,  9.51batch/s, valid_loss=-1.86e+4]"
     ]
    },
    {
     "name": "stdout",
     "output_type": "stream",
     "text": [
      "\n",
      "torch.Size([3, 270, 480]) (48,)\n",
      "torch.Size([3, 270, 480])\n",
      "torch.Size([3, 270, 480]) (48,)\n",
      "torch.Size([3, 270, 480])\n",
      "torch.Size([3, 270, 480]) (48,)\n",
      "torch.Size([3, 270, 480])\n",
      "torch.Size([3, 270, 480]) (48,)\n"
     ]
    },
    {
     "name": "stderr",
     "output_type": "stream",
     "text": [
      "Valid Epoch 0:  84%|███████████████████████████████▉      | 353/420 [00:38<00:07,  9.42batch/s, valid_loss=-1.75e+4]"
     ]
    },
    {
     "name": "stdout",
     "output_type": "stream",
     "text": [
      "torch.Size([3, 270, 480])\n",
      "torch.Size([3, 270, 480]) (48,)\n",
      "torch.Size([3, 270, 480])\n",
      "torch.Size([3, 270, 480]) (48,)\n",
      "torch.Size([3, 270, 480])\n",
      "torch.Size([3, 270, 480]) (48,)\n",
      "torch.Size([3, 270, 480])\n",
      "torch.Size([3, 270, 480]) (48,)\n"
     ]
    },
    {
     "name": "stderr",
     "output_type": "stream",
     "text": [
      "Valid Epoch 0:  85%|████████████████████████████████      | 355/420 [00:38<00:06,  9.39batch/s, valid_loss=-1.87e+4]"
     ]
    },
    {
     "name": "stdout",
     "output_type": "stream",
     "text": [
      "torch.Size([3, 270, 480])\n",
      "torch.Size([3, 270, 480]) (48,)\n",
      "torch.Size([3, 270, 480])\n",
      "torch.Size([3, 270, 480]) (48,)\n",
      "torch.Size([3, 270, 480])\n",
      "torch.Size([3, 270, 480]) (48,)\n",
      "torch.Size([3, 270, 480])\n",
      "torch.Size([3, 270, 480]) (48,)\n"
     ]
    },
    {
     "name": "stderr",
     "output_type": "stream",
     "text": [
      "Valid Epoch 0:  85%|██████████████████████████████████▊      | 357/420 [00:38<00:06,  9.34batch/s, valid_loss=-2e+4]"
     ]
    },
    {
     "name": "stdout",
     "output_type": "stream",
     "text": [
      "torch.Size([3, 270, 480])\n",
      "torch.Size([3, 270, 480]) (48,)\n",
      "torch.Size([3, 270, 480])\n",
      "torch.Size([3, 270, 480]) (48,)\n",
      "torch.Size([3, 270, 480])\n",
      "torch.Size([3, 270, 480]) (48,)\n",
      "torch.Size([3, 270, 480])\n",
      "torch.Size([3, 270, 480]) (48,)\n"
     ]
    },
    {
     "name": "stderr",
     "output_type": "stream",
     "text": [
      "Valid Epoch 0:  85%|████████████████████████████████▍     | 359/420 [00:39<00:06,  9.22batch/s, valid_loss=-1.95e+4]"
     ]
    },
    {
     "name": "stdout",
     "output_type": "stream",
     "text": [
      "torch.Size([3, 270, 480])\n",
      "torch.Size([3, 270, 480]) (48,)\n",
      "torch.Size([3, 270, 480])\n",
      "torch.Size([3, 270, 480]) (48,)\n",
      "torch.Size([3, 270, 480])\n",
      "torch.Size([3, 270, 480]) (48,)\n",
      "torch.Size([3, 270, 480])\n",
      "torch.Size([3, 270, 480]) (48,)\n"
     ]
    },
    {
     "name": "stderr",
     "output_type": "stream",
     "text": [
      "Valid Epoch 0:  86%|████████████████████████████████▋     | 361/420 [00:39<00:06,  9.15batch/s, valid_loss=-1.92e+4]"
     ]
    },
    {
     "name": "stdout",
     "output_type": "stream",
     "text": [
      "torch.Size([3, 270, 480])\n",
      "torch.Size([3, 270, 480]) (48,)\n",
      "torch.Size([3, 270, 480])\n",
      "torch.Size([3, 270, 480]) (48,)\n",
      "torch.Size([3, 270, 480])\n",
      "torch.Size([3, 270, 480]) (48,)\n",
      "torch.Size([3, 270, 480])\n",
      "torch.Size([3, 270, 480]) (48,)\n"
     ]
    },
    {
     "name": "stderr",
     "output_type": "stream",
     "text": [
      "Valid Epoch 0:  86%|████████████████████████████████▊     | 363/420 [00:39<00:06,  9.22batch/s, valid_loss=-1.84e+4]"
     ]
    },
    {
     "name": "stdout",
     "output_type": "stream",
     "text": [
      "torch.Size([3, 270, 480])\n",
      "torch.Size([3, 270, 480]) (48,)\n",
      "torch.Size([3, 270, 480])\n",
      "torch.Size([3, 270, 480]) (48,)\n",
      "torch.Size([3, 270, 480])\n",
      "torch.Size([3, 270, 480]) (48,)\n",
      "torch.Size([3, 270, 480])\n",
      "torch.Size([3, 270, 480]) (48,)\n"
     ]
    },
    {
     "name": "stderr",
     "output_type": "stream",
     "text": [
      "Valid Epoch 0:  87%|█████████████████████████████████▉     | 365/420 [00:39<00:06,  8.87batch/s, valid_loss=-1.8e+4]"
     ]
    },
    {
     "name": "stdout",
     "output_type": "stream",
     "text": [
      "torch.Size([3, 270, 480])\n",
      "torch.Size([3, 270, 480]) (48,)\n",
      "torch.Size([3, 270, 480])\n",
      "torch.Size([3, 270, 480]) (48,)\n",
      "torch.Size([3, 270, 480])\n",
      "torch.Size([3, 270, 480]) (48,)\n",
      "torch.Size([3, 270, 480])\n",
      "torch.Size([3, 270, 480]) (48,)\n"
     ]
    },
    {
     "name": "stderr",
     "output_type": "stream",
     "text": [
      "Valid Epoch 0:  88%|█████████████████████████████████▎    | 368/420 [00:40<00:05,  9.36batch/s, valid_loss=-2.03e+4]"
     ]
    },
    {
     "name": "stdout",
     "output_type": "stream",
     "text": [
      "torch.Size([3, 270, 480])\n",
      "torch.Size([3, 270, 480]) (48,)\n",
      "torch.Size([3, 270, 480])\n",
      "torch.Size([3, 270, 480]) (48,)\n",
      "torch.Size([3, 270, 480])\n",
      "torch.Size([3, 270, 480]) (48,)\n",
      "torch.Size([3, 270, 480])\n",
      "torch.Size([3, 270, 480]) (48,)\n",
      "torch.Size([3, 270, 480])"
     ]
    },
    {
     "name": "stderr",
     "output_type": "stream",
     "text": [
      "Valid Epoch 0:  88%|█████████████████████████████████▍    | 369/420 [00:40<00:05,  9.36batch/s, valid_loss=-1.97e+4]"
     ]
    },
    {
     "name": "stdout",
     "output_type": "stream",
     "text": [
      "\n",
      "torch.Size([3, 270, 480]) (48,)\n",
      "torch.Size([3, 270, 480])\n",
      "torch.Size([3, 270, 480]) (48,)\n",
      "torch.Size([3, 270, 480])\n",
      "torch.Size([3, 270, 480]) (48,)\n",
      "torch.Size([3, 270, 480])\n",
      "torch.Size([3, 270, 480]) (48,)\n"
     ]
    },
    {
     "name": "stderr",
     "output_type": "stream",
     "text": [
      "Valid Epoch 0:  88%|█████████████████████████████████▌    | 371/420 [00:40<00:05,  9.22batch/s, valid_loss=-1.92e+4]"
     ]
    },
    {
     "name": "stdout",
     "output_type": "stream",
     "text": [
      "torch.Size([3, 270, 480])\n",
      "torch.Size([3, 270, 480]) (48,)\n",
      "torch.Size([3, 270, 480])\n",
      "torch.Size([3, 270, 480]) (48,)\n",
      "torch.Size([3, 270, 480])\n",
      "torch.Size([3, 270, 480]) (48,)\n",
      "torch.Size([3, 270, 480])\n",
      "torch.Size([3, 270, 480]) (48,)\n"
     ]
    },
    {
     "name": "stderr",
     "output_type": "stream",
     "text": [
      "Valid Epoch 0:  89%|█████████████████████████████████▋    | 373/420 [00:40<00:05,  9.24batch/s, valid_loss=-1.82e+4]"
     ]
    },
    {
     "name": "stdout",
     "output_type": "stream",
     "text": [
      "torch.Size([3, 270, 480])\n",
      "torch.Size([3, 270, 480]) (48,)\n",
      "torch.Size([3, 270, 480])\n",
      "torch.Size([3, 270, 480]) (48,)\n",
      "torch.Size([3, 270, 480])\n",
      "torch.Size([3, 270, 480]) (48,)\n",
      "torch.Size([3, 270, 480])\n",
      "torch.Size([3, 270, 480]) (48,)\n"
     ]
    },
    {
     "name": "stderr",
     "output_type": "stream",
     "text": [
      "Valid Epoch 0:  89%|██████████████████████████████████▊    | 375/420 [00:40<00:04,  9.31batch/s, valid_loss=-1.9e+4]"
     ]
    },
    {
     "name": "stdout",
     "output_type": "stream",
     "text": [
      "torch.Size([3, 270, 480])\n",
      "torch.Size([3, 270, 480]) (48,)\n",
      "torch.Size([3, 270, 480])\n",
      "torch.Size([3, 270, 480]) (48,)\n",
      "torch.Size([3, 270, 480])\n",
      "torch.Size([3, 270, 480]) (48,)\n",
      "torch.Size([3, 270, 480])\n",
      "torch.Size([3, 270, 480]) (48,)\n"
     ]
    },
    {
     "name": "stderr",
     "output_type": "stream",
     "text": [
      "Valid Epoch 0:  90%|██████████████████████████████████    | 377/420 [00:41<00:04,  9.26batch/s, valid_loss=-2.11e+4]"
     ]
    },
    {
     "name": "stdout",
     "output_type": "stream",
     "text": [
      "torch.Size([3, 270, 480])\n",
      "torch.Size([3, 270, 480]) (48,)\n",
      "torch.Size([3, 270, 480])\n",
      "torch.Size([3, 270, 480]) (48,)\n",
      "torch.Size([3, 270, 480])\n",
      "torch.Size([3, 270, 480]) (48,)\n",
      "torch.Size([3, 270, 480])\n",
      "torch.Size([3, 270, 480]) (48,)\n"
     ]
    },
    {
     "name": "stderr",
     "output_type": "stream",
     "text": [
      "Valid Epoch 0:  90%|██████████████████████████████████▎   | 379/420 [00:41<00:04,  9.17batch/s, valid_loss=-2.04e+4]"
     ]
    },
    {
     "name": "stdout",
     "output_type": "stream",
     "text": [
      "torch.Size([3, 270, 480])\n",
      "torch.Size([3, 270, 480]) (48,)\n",
      "torch.Size([3, 270, 480])\n",
      "torch.Size([3, 270, 480]) (48,)\n",
      "torch.Size([3, 270, 480])\n",
      "torch.Size([3, 270, 480]) (48,)\n",
      "torch.Size([3, 270, 480])\n",
      "torch.Size([3, 270, 480]) (48,)\n"
     ]
    },
    {
     "name": "stderr",
     "output_type": "stream",
     "text": [
      "Valid Epoch 0:  91%|██████████████████████████████████▍   | 381/420 [00:41<00:04,  9.12batch/s, valid_loss=-1.96e+4]"
     ]
    },
    {
     "name": "stdout",
     "output_type": "stream",
     "text": [
      "torch.Size([3, 270, 480])\n",
      "torch.Size([3, 270, 480]) (48,)\n",
      "torch.Size([3, 270, 480])\n",
      "torch.Size([3, 270, 480]) (48,)\n",
      "torch.Size([3, 270, 480])\n",
      "torch.Size([3, 270, 480]) (48,)\n",
      "torch.Size([3, 270, 480])\n",
      "torch.Size([3, 270, 480]) (48,)\n"
     ]
    },
    {
     "name": "stderr",
     "output_type": "stream",
     "text": [
      "Valid Epoch 0:  91%|██████████████████████████████████▋   | 383/420 [00:41<00:04,  9.20batch/s, valid_loss=-2.07e+4]"
     ]
    },
    {
     "name": "stdout",
     "output_type": "stream",
     "text": [
      "torch.Size([3, 270, 480])\n",
      "torch.Size([3, 270, 480]) (48,)\n",
      "torch.Size([3, 270, 480])\n",
      "torch.Size([3, 270, 480]) (48,)\n",
      "torch.Size([3, 270, 480])\n",
      "torch.Size([3, 270, 480]) (48,)\n",
      "torch.Size([3, 270, 480])\n",
      "torch.Size([3, 270, 480]) (48,)\n"
     ]
    },
    {
     "name": "stderr",
     "output_type": "stream",
     "text": [
      "Valid Epoch 0:  92%|██████████████████████████████████▊   | 385/420 [00:41<00:03,  9.43batch/s, valid_loss=-2.06e+4]"
     ]
    },
    {
     "name": "stdout",
     "output_type": "stream",
     "text": [
      "torch.Size([3, 270, 480])\n",
      "torch.Size([3, 270, 480]) (48,)\n",
      "torch.Size([3, 270, 480])\n",
      "torch.Size([3, 270, 480]) (48,)\n",
      "torch.Size([3, 270, 480])\n",
      "torch.Size([3, 270, 480]) (48,)\n",
      "torch.Size([3, 270, 480])\n",
      "torch.Size([3, 270, 480]) (48,)\n"
     ]
    },
    {
     "name": "stderr",
     "output_type": "stream",
     "text": [
      "Valid Epoch 0:  92%|███████████████████████████████████   | 387/420 [00:42<00:03,  9.53batch/s, valid_loss=-2.05e+4]"
     ]
    },
    {
     "name": "stdout",
     "output_type": "stream",
     "text": [
      "torch.Size([3, 270, 480])\n",
      "torch.Size([3, 270, 480]) (48,)\n",
      "torch.Size([3, 270, 480])\n",
      "torch.Size([3, 270, 480]) (48,)\n",
      "torch.Size([3, 270, 480])\n",
      "torch.Size([3, 270, 480]) (48,)\n",
      "torch.Size([3, 270, 480])\n",
      "torch.Size([3, 270, 480]) (48,)\n"
     ]
    },
    {
     "name": "stderr",
     "output_type": "stream",
     "text": [
      "Valid Epoch 0:  93%|███████████████████████████████████▏  | 389/420 [00:42<00:03,  9.47batch/s, valid_loss=-1.91e+4]"
     ]
    },
    {
     "name": "stdout",
     "output_type": "stream",
     "text": [
      "torch.Size([3, 270, 480])\n",
      "torch.Size([3, 270, 480]) (48,)\n",
      "torch.Size([3, 270, 480])\n",
      "torch.Size([3, 270, 480]) (48,)\n",
      "torch.Size([3, 270, 480])\n",
      "torch.Size([3, 270, 480]) (48,)\n",
      "torch.Size([3, 270, 480])\n",
      "torch.Size([3, 270, 480]) (48,)\n"
     ]
    },
    {
     "name": "stderr",
     "output_type": "stream",
     "text": [
      "Valid Epoch 0:  93%|███████████████████████████████████▍  | 391/420 [00:42<00:03,  9.26batch/s, valid_loss=-1.81e+4]"
     ]
    },
    {
     "name": "stdout",
     "output_type": "stream",
     "text": [
      "torch.Size([3, 270, 480])\n",
      "torch.Size([3, 270, 480]) (48,)\n",
      "torch.Size([3, 270, 480])\n",
      "torch.Size([3, 270, 480]) (48,)\n",
      "torch.Size([3, 270, 480])\n",
      "torch.Size([3, 270, 480]) (48,)\n",
      "torch.Size([3, 270, 480])\n",
      "torch.Size([3, 270, 480]) (48,)\n"
     ]
    },
    {
     "name": "stderr",
     "output_type": "stream",
     "text": [
      "Valid Epoch 0:  94%|███████████████████████████████████▌  | 393/420 [00:42<00:02,  9.34batch/s, valid_loss=-1.84e+4]"
     ]
    },
    {
     "name": "stdout",
     "output_type": "stream",
     "text": [
      "torch.Size([3, 270, 480])\n",
      "torch.Size([3, 270, 480]) (48,)\n",
      "torch.Size([3, 270, 480])\n",
      "torch.Size([3, 270, 480]) (48,)\n",
      "torch.Size([3, 270, 480])\n",
      "torch.Size([3, 270, 480]) (48,)\n",
      "torch.Size([3, 270, 480])\n",
      "torch.Size([3, 270, 480]) (48,)\n"
     ]
    },
    {
     "name": "stderr",
     "output_type": "stream",
     "text": [
      "Valid Epoch 0:  94%|███████████████████████████████████▋  | 395/420 [00:42<00:02,  9.35batch/s, valid_loss=-1.87e+4]"
     ]
    },
    {
     "name": "stdout",
     "output_type": "stream",
     "text": [
      "torch.Size([3, 270, 480])\n",
      "torch.Size([3, 270, 480]) (48,)\n",
      "torch.Size([3, 270, 480])\n",
      "torch.Size([3, 270, 480]) (48,)\n",
      "torch.Size([3, 270, 480])\n",
      "torch.Size([3, 270, 480]) (48,)\n",
      "torch.Size([3, 270, 480])\n",
      "torch.Size([3, 270, 480]) (48,)\n"
     ]
    },
    {
     "name": "stderr",
     "output_type": "stream",
     "text": [
      "Valid Epoch 0:  95%|███████████████████████████████████▉  | 397/420 [00:43<00:02,  9.16batch/s, valid_loss=-1.92e+4]"
     ]
    },
    {
     "name": "stdout",
     "output_type": "stream",
     "text": [
      "torch.Size([3, 270, 480])\n",
      "torch.Size([3, 270, 480]) (48,)\n",
      "torch.Size([3, 270, 480])\n",
      "torch.Size([3, 270, 480]) (48,)\n",
      "torch.Size([3, 270, 480])\n",
      "torch.Size([3, 270, 480]) (48,)\n",
      "torch.Size([3, 270, 480])\n",
      "torch.Size([3, 270, 480]) (48,)\n"
     ]
    },
    {
     "name": "stderr",
     "output_type": "stream",
     "text": [
      "Valid Epoch 0:  95%|████████████████████████████████████  | 399/420 [00:43<00:02,  9.20batch/s, valid_loss=-1.82e+4]"
     ]
    },
    {
     "name": "stdout",
     "output_type": "stream",
     "text": [
      "torch.Size([3, 270, 480])\n",
      "torch.Size([3, 270, 480]) (48,)\n",
      "torch.Size([3, 270, 480])\n",
      "torch.Size([3, 270, 480]) (48,)\n",
      "torch.Size([3, 270, 480])\n",
      "torch.Size([3, 270, 480]) (48,)\n",
      "torch.Size([3, 270, 480])\n",
      "torch.Size([3, 270, 480]) (48,)\n"
     ]
    },
    {
     "name": "stderr",
     "output_type": "stream",
     "text": [
      "Valid Epoch 0:  95%|████████████████████████████████████▎ | 401/420 [00:43<00:02,  9.18batch/s, valid_loss=-1.85e+4]"
     ]
    },
    {
     "name": "stdout",
     "output_type": "stream",
     "text": [
      "torch.Size([3, 270, 480])\n",
      "torch.Size([3, 270, 480]) (48,)\n",
      "torch.Size([3, 270, 480])\n",
      "torch.Size([3, 270, 480]) (48,)\n",
      "torch.Size([3, 270, 480])\n",
      "torch.Size([3, 270, 480]) (48,)\n",
      "torch.Size([3, 270, 480])\n",
      "torch.Size([3, 270, 480]) (48,)\n"
     ]
    },
    {
     "name": "stderr",
     "output_type": "stream",
     "text": [
      "Valid Epoch 0:  96%|████████████████████████████████████▍ | 403/420 [00:43<00:01,  9.18batch/s, valid_loss=-1.93e+4]"
     ]
    },
    {
     "name": "stdout",
     "output_type": "stream",
     "text": [
      "torch.Size([3, 270, 480])\n",
      "torch.Size([3, 270, 480]) (48,)\n",
      "torch.Size([3, 270, 480])\n",
      "torch.Size([3, 270, 480]) (48,)\n",
      "torch.Size([3, 270, 480])\n",
      "torch.Size([3, 270, 480]) (48,)\n",
      "torch.Size([3, 270, 480])\n",
      "torch.Size([3, 270, 480]) (48,)\n"
     ]
    },
    {
     "name": "stderr",
     "output_type": "stream",
     "text": [
      "Valid Epoch 0:  96%|████████████████████████████████████▋ | 405/420 [00:44<00:01,  9.49batch/s, valid_loss=-1.93e+4]"
     ]
    },
    {
     "name": "stdout",
     "output_type": "stream",
     "text": [
      "torch.Size([3, 270, 480])\n",
      "torch.Size([3, 270, 480]) (48,)\n",
      "torch.Size([3, 270, 480])\n",
      "torch.Size([3, 270, 480]) (48,)\n",
      "torch.Size([3, 270, 480])\n",
      "torch.Size([3, 270, 480]) (48,)\n",
      "torch.Size([3, 270, 480])\n",
      "torch.Size([3, 270, 480]) (48,)\n"
     ]
    },
    {
     "name": "stderr",
     "output_type": "stream",
     "text": [
      "Valid Epoch 0:  97%|████████████████████████████████████▊ | 407/420 [00:44<00:01,  9.12batch/s, valid_loss=-1.63e+4]"
     ]
    },
    {
     "name": "stdout",
     "output_type": "stream",
     "text": [
      "torch.Size([3, 270, 480])\n",
      "torch.Size([3, 270, 480]) (48,)\n",
      "torch.Size([3, 270, 480])\n",
      "torch.Size([3, 270, 480]) (48,)\n",
      "torch.Size([3, 270, 480])\n",
      "torch.Size([3, 270, 480]) (48,)\n",
      "torch.Size([3, 270, 480])\n",
      "torch.Size([3, 270, 480]) (48,)\n"
     ]
    },
    {
     "name": "stderr",
     "output_type": "stream",
     "text": [
      "Valid Epoch 0:  97%|█████████████████████████████████████ | 409/420 [00:44<00:01,  9.15batch/s, valid_loss=-1.83e+4]"
     ]
    },
    {
     "name": "stdout",
     "output_type": "stream",
     "text": [
      "torch.Size([3, 270, 480])\n",
      "torch.Size([3, 270, 480]) (48,)\n",
      "torch.Size([3, 270, 480])\n",
      "torch.Size([3, 270, 480]) (48,)\n",
      "torch.Size([3, 270, 480])\n",
      "torch.Size([3, 270, 480]) (48,)\n",
      "torch.Size([3, 270, 480])\n",
      "torch.Size([3, 270, 480]) (48,)\n"
     ]
    },
    {
     "name": "stderr",
     "output_type": "stream",
     "text": [
      "Valid Epoch 0:  98%|██████████████████████████████████████▏| 411/420 [00:44<00:00,  9.18batch/s, valid_loss=-1.9e+4]"
     ]
    },
    {
     "name": "stdout",
     "output_type": "stream",
     "text": [
      "torch.Size([3, 270, 480])\n",
      "torch.Size([3, 270, 480]) (48,)\n",
      "torch.Size([3, 270, 480])\n",
      "torch.Size([3, 270, 480]) (48,)\n",
      "torch.Size([3, 270, 480])\n",
      "torch.Size([3, 270, 480]) (48,)\n",
      "torch.Size([3, 270, 480])\n",
      "torch.Size([3, 270, 480]) (48,)\n"
     ]
    },
    {
     "name": "stderr",
     "output_type": "stream",
     "text": [
      "Valid Epoch 0:  98%|█████████████████████████████████████▎| 413/420 [00:44<00:00,  9.19batch/s, valid_loss=-1.86e+4]"
     ]
    },
    {
     "name": "stdout",
     "output_type": "stream",
     "text": [
      "torch.Size([3, 270, 480])\n",
      "torch.Size([3, 270, 480]) (48,)\n",
      "torch.Size([3, 270, 480])\n",
      "torch.Size([3, 270, 480]) (48,)\n",
      "torch.Size([3, 270, 480])\n",
      "torch.Size([3, 270, 480]) (48,)\n",
      "torch.Size([3, 270, 480])\n",
      "torch.Size([3, 270, 480]) (48,)\n"
     ]
    },
    {
     "name": "stderr",
     "output_type": "stream",
     "text": [
      "Valid Epoch 0:  99%|█████████████████████████████████████▌| 415/420 [00:45<00:00,  9.20batch/s, valid_loss=-1.85e+4]"
     ]
    },
    {
     "name": "stdout",
     "output_type": "stream",
     "text": [
      "torch.Size([3, 270, 480])\n",
      "torch.Size([3, 270, 480]) (48,)\n",
      "torch.Size([3, 270, 480])\n",
      "torch.Size([3, 270, 480]) (48,)\n",
      "torch.Size([3, 270, 480])\n",
      "torch.Size([3, 270, 480]) (48,)\n",
      "torch.Size([3, 270, 480])\n",
      "torch.Size([3, 270, 480]) (48,)\n"
     ]
    },
    {
     "name": "stderr",
     "output_type": "stream",
     "text": [
      "Valid Epoch 0:  99%|█████████████████████████████████████▋| 417/420 [00:45<00:00,  9.08batch/s, valid_loss=-1.92e+4]"
     ]
    },
    {
     "name": "stdout",
     "output_type": "stream",
     "text": [
      "torch.Size([3, 270, 480])\n",
      "torch.Size([3, 270, 480]) (48,)\n",
      "torch.Size([3, 270, 480])\n",
      "torch.Size([3, 270, 480]) (48,)\n",
      "torch.Size([3, 270, 480])\n",
      "torch.Size([3, 270, 480]) (48,)\n",
      "torch.Size([3, 270, 480])\n",
      "torch.Size([3, 270, 480]) (48,)\n"
     ]
    },
    {
     "name": "stderr",
     "output_type": "stream",
     "text": [
      "Valid Epoch 0: 100%|██████████████████████████████████████| 420/420 [00:45<00:00,  9.21batch/s, valid_loss=-1.72e+4]"
     ]
    },
    {
     "name": "stdout",
     "output_type": "stream",
     "text": [
      "torch.Size([3, 270, 480])\n",
      "torch.Size([3, 270, 480]) (48,)\n",
      "torch.Size([3, 270, 480])\n",
      "torch.Size([3, 270, 480]) (48,)\n",
      "torch.Size([3, 270, 480])\n",
      "torch.Size([3, 270, 480]) (48,)\n"
     ]
    },
    {
     "name": "stderr",
     "output_type": "stream",
     "text": [
      "\n"
     ]
    },
    {
     "ename": "NameError",
     "evalue": "name 'config' is not defined",
     "output_type": "error",
     "traceback": [
      "\u001b[1;31m---------------------------------------------------------------------------\u001b[0m",
      "\u001b[1;31mNameError\u001b[0m                                 Traceback (most recent call last)",
      "\u001b[1;32m<ipython-input-185-e39c4ee64ebc>\u001b[0m in \u001b[0;36m<module>\u001b[1;34m\u001b[0m\n\u001b[0;32m    126\u001b[0m             \u001b[0mearly_stop_count\u001b[0m \u001b[1;33m=\u001b[0m \u001b[1;36m0\u001b[0m\u001b[1;33m\u001b[0m\u001b[1;33m\u001b[0m\u001b[0m\n\u001b[0;32m    127\u001b[0m             \u001b[0mbest_model\u001b[0m \u001b[1;33m=\u001b[0m \u001b[0mmodel\u001b[0m\u001b[1;33m\u001b[0m\u001b[1;33m\u001b[0m\u001b[0m\n\u001b[1;32m--> 128\u001b[1;33m             \u001b[0mMODEL\u001b[0m \u001b[1;33m=\u001b[0m \u001b[0mconfig\u001b[0m\u001b[1;33m.\u001b[0m\u001b[0mADAM_MODEL_PREFIX\u001b[0m\u001b[1;33m\u001b[0m\u001b[1;33m\u001b[0m\u001b[0m\n\u001b[0m\u001b[0;32m    129\u001b[0m             \u001b[1;31m# 모델을 저장할 구글 드라이브 경로\u001b[0m\u001b[1;33m\u001b[0m\u001b[1;33m\u001b[0m\u001b[1;33m\u001b[0m\u001b[0m\n\u001b[0;32m    130\u001b[0m             \u001b[0mpath\u001b[0m \u001b[1;33m=\u001b[0m \u001b[0mconfig\u001b[0m\u001b[1;33m.\u001b[0m\u001b[0mADAM_MODEL_PATH\u001b[0m\u001b[1;33m\u001b[0m\u001b[1;33m\u001b[0m\u001b[0m\n",
      "\u001b[1;31mNameError\u001b[0m: name 'config' is not defined"
     ]
    }
   ],
   "source": [
    "# cross validation을 적용하기 위해 KFold 생성\n",
    "from sklearn.model_selection import KFold\n",
    "kfold = KFold(n_splits=folds, shuffle=True, random_state=0)\n",
    "\n",
    "# dirty_mnist_answer에서 train_idx와 val_idx를 생성\n",
    "best_models = [] # 폴드별로 가장 validation acc가 높은 모델 저장\n",
    "for fold_index, (trn_idx, val_idx) in enumerate(kfold.split(train_paths),1):\n",
    "    print(f'[fold: {fold_index}]')\n",
    "    '''\n",
    "    실제로 colab에서 학습할 때에는 시간 절약을 위해 fold별로 여러 session을 열어두고 병렬 작업을 수행했습니다.\n",
    "    각각의 fold 작업에서 동일한 seed로 작업이 진행되기 때문에 이 코드에서 제출 결과를 재현하기 위해서는\n",
    "    seed 초기화가 필요할 수 있습니다.\n",
    "\n",
    "    seed_everything(config.seed)\n",
    "    ''' \n",
    "    seed_everything(seed)\n",
    "    # cuda cache 초기화\n",
    "    torch.cuda.empty_cache()\n",
    "    print(trn_idx)\n",
    "    #train fold, validation fold 분할\n",
    "    train_paths = pd.DataFrame(train_paths)\n",
    "    train_answer = train_paths.iloc[trn_idx]\n",
    "    test_answer  = train_paths.iloc[val_idx]\n",
    "    \n",
    "    train_keypoints = keypoints[trn_idx]\n",
    "    print(len(train_keypoints))\n",
    "    test_keypoints = keypoints[val_idx]\n",
    "\n",
    "    #Dataset 정의\n",
    "    train_dataset = Dataset(train_answer, train_keypoints, data_transforms=A_transforms, class_labels=class_labels,  phase='train')\n",
    "    valid_dataset = Dataset(test_answer, test_keypoints, data_transforms=A_transforms, class_labels=class_labels, phase='val')\n",
    "\n",
    "    #DataLoader 정의\n",
    "    train_data_loader = DataLoader(\n",
    "        train_dataset,\n",
    "        batch_size = train_batch_size,\n",
    "        shuffle = False,\n",
    "        num_workers = num_workers,\n",
    "    )\n",
    "    valid_data_loader = DataLoader(\n",
    "        valid_dataset,\n",
    "        batch_size = valid_batch_size,\n",
    "        shuffle = False,\n",
    "        num_workers = num_workers,\n",
    "    )\n",
    "\n",
    "    # 모델 선언\n",
    "    model = AdamModel()\n",
    "    if torch.cuda.device_count() > 1:\n",
    "        model = nn.DataParallel(model)\n",
    "    model.to(device)# gpu에 모델 할당\n",
    "\n",
    "    # 훈련 옵션 설정\n",
    "    optimizer = torch.optim.Adam(model.parameters(), lr=lr)\n",
    "    lr_scheduler = torch.optim.lr_scheduler.StepLR(optimizer, step_size=5, gamma=0.85)\n",
    "    criterion = torch.nn.BCELoss()\n",
    "\n",
    "    # 훈련 시작\n",
    "    valid_acc_max = 0\n",
    "    valid_best_loss = 999999999\n",
    "    early_stop_count = 0\n",
    "    for epoch in range(num_epochs):\n",
    "        # 1개 epoch 훈련\n",
    "        train_acc_list = []\n",
    "        with tqdm(train_data_loader,#train_data_loader를 iterative하게 반환\n",
    "                total=train_data_loader.__len__(), # train_data_loader의 크기\n",
    "                unit=\"batch\") as train_bar:# 한번 반환하는 smaple의 단위는 \"batch\"\n",
    "            for sample in train_bar:\n",
    "                train_bar.set_description(f\"Train Epoch {epoch}\")\n",
    "                # 갱신할 변수들에 대한 모든 변화도를 0으로 초기화\n",
    "                # 참고)https://tutorials.pytorch.kr/beginner/pytorch_with_examples.html\n",
    "                optimizer.zero_grad()\n",
    "                images, labels = sample['image'], sample['label']\n",
    "                # tensor를 gpu에 올리기 \n",
    "                images = images.to(device)\n",
    "                labels = labels.to(device)\n",
    "\n",
    "                # 모델의 dropoupt, batchnormalization를 train 모드로 설정\n",
    "                model.train()\n",
    "                # .forward()에서 중간 노드의 gradient를 계산\n",
    "                with torch.set_grad_enabled(True):\n",
    "                    # 모델 예측\n",
    "                    probs  = model(images)\n",
    "                    # loss 계산\n",
    "                    loss = criterion(probs, labels.float())\n",
    "                    # 중간 노드의 gradient로\n",
    "                    # backpropagation을 적용하여\n",
    "                    # gradient 계산\n",
    "                    loss.backward()\n",
    "                    # weight 갱신\n",
    "                    optimizer.step()\n",
    "\n",
    "\n",
    "                # 현재 progress bar에 현재 미니배치의 loss 결과 출력\n",
    "                train_bar.set_postfix(train_loss= loss.item())\n",
    "                \n",
    "\n",
    "        # 1개 epoch학습 후 Validation 점수 계산\n",
    "        valid_acc_list = []\n",
    "        with tqdm(valid_data_loader,\n",
    "                total=valid_data_loader.__len__(),\n",
    "                unit=\"batch\") as valid_bar:\n",
    "            for sample in valid_bar:\n",
    "                valid_bar.set_description(f\"Valid Epoch {epoch}\")\n",
    "                optimizer.zero_grad()\n",
    "                images, labels = sample['image'], sample['label']\n",
    "                images = images.to(device)\n",
    "                labels = labels.to(device)\n",
    "\n",
    "                # 모델의 dropoupt, batchnormalization를 eval모드로 설정\n",
    "                model.eval()\n",
    "                # .forward()에서 중간 노드의 gradient를 계산\n",
    "                with torch.no_grad():\n",
    "                    # validation loss만을 계산\n",
    "                    probs  = model(images)\n",
    "                    valid_loss = criterion(probs, labels.float())\n",
    "\n",
    "                valid_bar.set_postfix(valid_loss = valid_loss.item())\n",
    "            \n",
    "        # Learning rate 조절\n",
    "        lr_scheduler.step()\n",
    "\n",
    "        # 모델 저장\n",
    "        if valid_loss < valid_best_loss:\n",
    "            valid_loss = valid_best_loss\n",
    "            early_stop_count = 0\n",
    "            best_model = model\n",
    "            MODEL = ADAM_MODEL_PREFIX\n",
    "            # 모델을 저장할 구글 드라이브 경로\n",
    "            path = ADAM_MODEL_PATH\n",
    "            torch.save(best_model, f'{path}{fold_index}_{MODEL}.pth')\n",
    "        else:\n",
    "            early_stop_count += 1\n",
    "            if early_stop_count > 5:\n",
    "                print(f'early stopped at epoch: {epoch}')\n",
    "                break\n",
    "\n",
    "    # 폴드별로 가장 좋은 모델 저장\n",
    "    best_models.append(best_model)"
   ]
  },
  {
   "cell_type": "code",
   "execution_count": null,
   "metadata": {},
   "outputs": [],
   "source": []
  },
  {
   "cell_type": "code",
   "execution_count": null,
   "metadata": {},
   "outputs": [],
   "source": []
  },
  {
   "cell_type": "code",
   "execution_count": null,
   "metadata": {},
   "outputs": [],
   "source": []
  }
 ],
 "metadata": {
  "kernelspec": {
   "display_name": "Python 3",
   "language": "python",
   "name": "python3"
  },
  "language_info": {
   "codemirror_mode": {
    "name": "ipython",
    "version": 3
   },
   "file_extension": ".py",
   "mimetype": "text/x-python",
   "name": "python",
   "nbconvert_exporter": "python",
   "pygments_lexer": "ipython3",
   "version": "3.6.12"
  }
 },
 "nbformat": 4,
 "nbformat_minor": 4
}
